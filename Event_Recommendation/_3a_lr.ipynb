{
 "cells": [
  {
   "cell_type": "markdown",
   "metadata": {
    "toc": true
   },
   "source": [
    "<h1>Table of Contents<span class=\"tocSkip\"></span></h1>\n",
    "<div class=\"toc\"><ul class=\"toc-item\"><li><span><a href=\"#Onehot_A\" data-toc-modified-id=\"Onehot_A-1\"><span class=\"toc-item-num\">1&nbsp;&nbsp;</span>Onehot_A</a></span></li><li><span><a href=\"#导入与分割数据\" data-toc-modified-id=\"导入与分割数据-2\"><span class=\"toc-item-num\">2&nbsp;&nbsp;</span>导入与分割数据</a></span></li><li><span><a href=\"#A_cat\" data-toc-modified-id=\"A_cat-3\"><span class=\"toc-item-num\">3&nbsp;&nbsp;</span>A_cat</a></span></li><li><span><a href=\"#A_hour\" data-toc-modified-id=\"A_hour-4\"><span class=\"toc-item-num\">4&nbsp;&nbsp;</span>A_hour</a></span></li><li><span><a href=\"#A_xgb\" data-toc-modified-id=\"A_xgb-5\"><span class=\"toc-item-num\">5&nbsp;&nbsp;</span>A_xgb</a></span></li><li><span><a href=\"#B_cat\" data-toc-modified-id=\"B_cat-6\"><span class=\"toc-item-num\">6&nbsp;&nbsp;</span>B_cat</a></span></li><li><span><a href=\"#A_his\" data-toc-modified-id=\"A_his-7\"><span class=\"toc-item-num\">7&nbsp;&nbsp;</span>A_his</a></span></li><li><span><a href=\"#结论\" data-toc-modified-id=\"结论-8\"><span class=\"toc-item-num\">8&nbsp;&nbsp;</span>结论</a></span></li><li><span><a href=\"#'C':-0.1\" data-toc-modified-id=\"'C':-0.1-9\"><span class=\"toc-item-num\">9&nbsp;&nbsp;</span>'C': 0.1</a></span></li></ul></div>"
   ]
  },
  {
   "cell_type": "markdown",
   "metadata": {},
   "source": [
    "# Onehot_A"
   ]
  },
  {
   "cell_type": "code",
   "execution_count": 128,
   "metadata": {
    "collapsed": true
   },
   "outputs": [],
   "source": [
    "\n",
    "import numpy as np\n",
    "import pandas as pd\n",
    "import time\n",
    "import gc\n",
    "import os\n",
    "import scipy.sparse as ss\n",
    "#from  sklearn.cross_validation  import  train_test_split \n",
    "#import xgboost as xgb\n",
    "#from sklearn.metrics import accuracy_score,log_loss\n",
    "from sklearn.linear_model import LogisticRegression\n",
    "from sklearn.metrics import accuracy_score,log_loss\n",
    "from sklearn.model_selection import GridSearchCV\n",
    "\n",
    "import numpy as np\n",
    "import pandas as pd\n",
    "\n",
    "import scipy.sparse as ss\n",
    "from scipy.spatial.distance import jaccard, cosine\n",
    "\n",
    "from sklearn.externals.joblib import dump, load\n",
    "\n",
    "import utils\n",
    "\n"
   ]
  },
  {
   "cell_type": "code",
   "execution_count": 162,
   "metadata": {
    "collapsed": true
   },
   "outputs": [],
   "source": [
    "# 数据路径\n",
    "dpath = utils.dpath\n",
    "# 数据类型\n",
    "data_types = utils.data_types\n",
    "# 缓存数据路径\n",
    "tmp_dpath = utils.tmp_dpath\n",
    "# 距离计算公式\n",
    "get_distance = utils.get_distance\n",
    "to_0_1 = utils.normalization\n",
    "to_cat = utils.label_encoder\n",
    "\n",
    "# 导入users和events的index索引, 以及相关信息\n",
    "users_index = load(tmp_dpath+'users_index.joblib.gz')\n",
    "events_index = load(tmp_dpath+'events_index.joblib.gz')\n",
    "all_user = set(users_index.keys())\n",
    "all_event = set(events_index.keys())\n",
    "num_users = len(users_index)\n",
    "num_events = len(events_index)\n",
    "user_event = load(tmp_dpath+'user_event.joblib.gz')\n",
    "user_event_scores = load(tmp_dpath+'user_event_scores.joblib.gz')\n",
    "data_df = load(tmp_dpath+'data_df.joblib.gz')"
   ]
  },
  {
   "cell_type": "markdown",
   "metadata": {},
   "source": [
    "# 导入与分割数据"
   ]
  },
  {
   "cell_type": "code",
   "execution_count": null,
   "metadata": {
    "collapsed": true
   },
   "outputs": [],
   "source": []
  },
  {
   "cell_type": "code",
   "execution_count": 163,
   "metadata": {
    "ExecuteTime": {
     "end_time": "2018-02-08T13:48:51.109670Z",
     "start_time": "2018-02-08T13:48:51.064640Z"
    },
    "collapsed": true
   },
   "outputs": [],
   "source": [
    "train = data_df.iloc[:15398,:].copy()\n",
    "test = data_df.iloc[15398:,:].copy()"
   ]
  },
  {
   "cell_type": "code",
   "execution_count": 164,
   "metadata": {
    "collapsed": false
   },
   "outputs": [
    {
     "data": {
      "text/html": [
       "<div>\n",
       "<style scoped>\n",
       "    .dataframe tbody tr th:only-of-type {\n",
       "        vertical-align: middle;\n",
       "    }\n",
       "\n",
       "    .dataframe tbody tr th {\n",
       "        vertical-align: top;\n",
       "    }\n",
       "\n",
       "    .dataframe thead th {\n",
       "        text-align: right;\n",
       "    }\n",
       "</style>\n",
       "<table border=\"1\" class=\"dataframe\">\n",
       "  <thead>\n",
       "    <tr style=\"text-align: right;\">\n",
       "      <th></th>\n",
       "      <th>event</th>\n",
       "      <th>interested</th>\n",
       "      <th>invited</th>\n",
       "      <th>not_interested</th>\n",
       "      <th>user</th>\n",
       "      <th>user_id</th>\n",
       "      <th>event_id</th>\n",
       "      <th>day</th>\n",
       "      <th>month</th>\n",
       "      <th>weekday</th>\n",
       "      <th>date</th>\n",
       "      <th>user_cf_dis</th>\n",
       "      <th>event_cf_dis</th>\n",
       "      <th>user_cf_reco</th>\n",
       "      <th>event_cf_reco</th>\n",
       "      <th>events_yes_num</th>\n",
       "      <th>events_all_num</th>\n",
       "      <th>users_freds_num</th>\n",
       "    </tr>\n",
       "  </thead>\n",
       "  <tbody>\n",
       "    <tr>\n",
       "      <th>0</th>\n",
       "      <td>1918771225</td>\n",
       "      <td>0.0</td>\n",
       "      <td>0</td>\n",
       "      <td>0.0</td>\n",
       "      <td>3044012</td>\n",
       "      <td>1982</td>\n",
       "      <td>3396</td>\n",
       "      <td>0.033333</td>\n",
       "      <td>0.75</td>\n",
       "      <td>0.166667</td>\n",
       "      <td>0.689956</td>\n",
       "      <td>0.650327</td>\n",
       "      <td>0.684758</td>\n",
       "      <td>0.649747</td>\n",
       "      <td>0.589014</td>\n",
       "      <td>0.0008</td>\n",
       "      <td>0.0058</td>\n",
       "      <td>0.175499</td>\n",
       "    </tr>\n",
       "    <tr>\n",
       "      <th>1</th>\n",
       "      <td>1502284248</td>\n",
       "      <td>0.0</td>\n",
       "      <td>0</td>\n",
       "      <td>0.0</td>\n",
       "      <td>3044012</td>\n",
       "      <td>1982</td>\n",
       "      <td>1067</td>\n",
       "      <td>0.033333</td>\n",
       "      <td>0.75</td>\n",
       "      <td>0.166667</td>\n",
       "      <td>0.689956</td>\n",
       "      <td>0.666667</td>\n",
       "      <td>0.702021</td>\n",
       "      <td>0.666667</td>\n",
       "      <td>0.583333</td>\n",
       "      <td>0.0010</td>\n",
       "      <td>0.0140</td>\n",
       "      <td>0.175499</td>\n",
       "    </tr>\n",
       "    <tr>\n",
       "      <th>2</th>\n",
       "      <td>2529072432</td>\n",
       "      <td>1.0</td>\n",
       "      <td>0</td>\n",
       "      <td>0.0</td>\n",
       "      <td>3044012</td>\n",
       "      <td>1982</td>\n",
       "      <td>2302</td>\n",
       "      <td>0.033333</td>\n",
       "      <td>0.75</td>\n",
       "      <td>0.166667</td>\n",
       "      <td>0.689956</td>\n",
       "      <td>0.787475</td>\n",
       "      <td>0.823584</td>\n",
       "      <td>0.833625</td>\n",
       "      <td>0.000000</td>\n",
       "      <td>0.0212</td>\n",
       "      <td>0.4347</td>\n",
       "      <td>0.175499</td>\n",
       "    </tr>\n",
       "    <tr>\n",
       "      <th>3</th>\n",
       "      <td>3072478280</td>\n",
       "      <td>0.0</td>\n",
       "      <td>0</td>\n",
       "      <td>0.0</td>\n",
       "      <td>3044012</td>\n",
       "      <td>1982</td>\n",
       "      <td>7976</td>\n",
       "      <td>0.033333</td>\n",
       "      <td>0.75</td>\n",
       "      <td>0.166667</td>\n",
       "      <td>0.689956</td>\n",
       "      <td>0.666667</td>\n",
       "      <td>0.719680</td>\n",
       "      <td>0.666667</td>\n",
       "      <td>0.583333</td>\n",
       "      <td>0.0008</td>\n",
       "      <td>0.0023</td>\n",
       "      <td>0.175499</td>\n",
       "    </tr>\n",
       "    <tr>\n",
       "      <th>4</th>\n",
       "      <td>1390707377</td>\n",
       "      <td>0.0</td>\n",
       "      <td>0</td>\n",
       "      <td>0.0</td>\n",
       "      <td>3044012</td>\n",
       "      <td>1982</td>\n",
       "      <td>294</td>\n",
       "      <td>0.033333</td>\n",
       "      <td>0.75</td>\n",
       "      <td>0.166667</td>\n",
       "      <td>0.689956</td>\n",
       "      <td>0.692661</td>\n",
       "      <td>0.697196</td>\n",
       "      <td>0.696304</td>\n",
       "      <td>0.673430</td>\n",
       "      <td>0.0083</td>\n",
       "      <td>0.4017</td>\n",
       "      <td>0.175499</td>\n",
       "    </tr>\n",
       "  </tbody>\n",
       "</table>\n",
       "</div>"
      ],
      "text/plain": [
       "        event  interested  invited  not_interested     user  user_id  \\\n",
       "0  1918771225         0.0        0             0.0  3044012     1982   \n",
       "1  1502284248         0.0        0             0.0  3044012     1982   \n",
       "2  2529072432         1.0        0             0.0  3044012     1982   \n",
       "3  3072478280         0.0        0             0.0  3044012     1982   \n",
       "4  1390707377         0.0        0             0.0  3044012     1982   \n",
       "\n",
       "   event_id       day  month   weekday      date  user_cf_dis  event_cf_dis  \\\n",
       "0      3396  0.033333   0.75  0.166667  0.689956     0.650327      0.684758   \n",
       "1      1067  0.033333   0.75  0.166667  0.689956     0.666667      0.702021   \n",
       "2      2302  0.033333   0.75  0.166667  0.689956     0.787475      0.823584   \n",
       "3      7976  0.033333   0.75  0.166667  0.689956     0.666667      0.719680   \n",
       "4       294  0.033333   0.75  0.166667  0.689956     0.692661      0.697196   \n",
       "\n",
       "   user_cf_reco  event_cf_reco  events_yes_num  events_all_num  \\\n",
       "0      0.649747       0.589014          0.0008          0.0058   \n",
       "1      0.666667       0.583333          0.0010          0.0140   \n",
       "2      0.833625       0.000000          0.0212          0.4347   \n",
       "3      0.666667       0.583333          0.0008          0.0023   \n",
       "4      0.696304       0.673430          0.0083          0.4017   \n",
       "\n",
       "   users_freds_num  \n",
       "0         0.175499  \n",
       "1         0.175499  \n",
       "2         0.175499  \n",
       "3         0.175499  \n",
       "4         0.175499  "
      ]
     },
     "execution_count": 164,
     "metadata": {},
     "output_type": "execute_result"
    }
   ],
   "source": [
    "train[:5]"
   ]
  },
  {
   "cell_type": "code",
   "execution_count": 183,
   "metadata": {
    "collapsed": false
   },
   "outputs": [
    {
     "name": "stdout",
     "output_type": "stream",
     "text": [
      "Load Data\n"
     ]
    }
   ],
   "source": [
    "#导入数据\n",
    "print('Load Data')\n",
    "y_train = train['interested']\n",
    "\n",
    "X_train = train.drop(['event', 'user', 'interested', 'not_interested','user_id','event_id','event_cf_reco'],axis=1)\n",
    "# 先转成np.array, 把数据类型转为np.float32(此时为2维数组shape(1,n)), 转为1-D np.arrar\n",
    "# 2维数组shape(m,n)适用于多分类问题, 在二分类中不适用"
   ]
  },
  {
   "cell_type": "code",
   "execution_count": 184,
   "metadata": {
    "collapsed": false
   },
   "outputs": [
    {
     "data": {
      "text/plain": [
       "((15398, 11), (15398,))"
      ]
     },
     "execution_count": 184,
     "metadata": {},
     "output_type": "execute_result"
    }
   ],
   "source": [
    "X_train.shape, y_train.shape, "
   ]
  },
  {
   "cell_type": "code",
   "execution_count": 185,
   "metadata": {
    "collapsed": true
   },
   "outputs": [],
   "source": [
    "#需要调优的参数\n",
    "# 请尝试将L1正则和L2正则分开，并配合合适的优化求解算法（slover）\n",
    "#tuned_parameters = {'penalty':['l1','l2'],\n",
    "#                   'C': [0.001, 0.01, 0.1, 1, 10, 100, 1000]\n",
    "#                   }\n",
    "solvers = ['liblinear','sag',]\n",
    "Cs = [ 0.01, 0.1, 1, 10, 100, ]\n",
    "tuned_parameters = dict(solver = solvers, C = Cs)\n",
    "\n",
    "lr_penalty= LogisticRegression()\n",
    "grid= GridSearchCV(lr_penalty, tuned_parameters,cv=5, scoring='neg_log_loss')\n"
   ]
  },
  {
   "cell_type": "code",
   "execution_count": 186,
   "metadata": {
    "collapsed": false,
    "scrolled": true
   },
   "outputs": [
    {
     "name": "stderr",
     "output_type": "stream",
     "text": [
      "/home/zhou/anaconda3/lib/python3.5/site-packages/sklearn/linear_model/sag.py:326: ConvergenceWarning: The max_iter was reached which means the coef_ did not converge\n",
      "  \"the coef_ did not converge\", ConvergenceWarning)\n",
      "/home/zhou/anaconda3/lib/python3.5/site-packages/sklearn/linear_model/sag.py:326: ConvergenceWarning: The max_iter was reached which means the coef_ did not converge\n",
      "  \"the coef_ did not converge\", ConvergenceWarning)\n",
      "/home/zhou/anaconda3/lib/python3.5/site-packages/sklearn/linear_model/sag.py:326: ConvergenceWarning: The max_iter was reached which means the coef_ did not converge\n",
      "  \"the coef_ did not converge\", ConvergenceWarning)\n",
      "/home/zhou/anaconda3/lib/python3.5/site-packages/sklearn/linear_model/sag.py:326: ConvergenceWarning: The max_iter was reached which means the coef_ did not converge\n",
      "  \"the coef_ did not converge\", ConvergenceWarning)\n",
      "/home/zhou/anaconda3/lib/python3.5/site-packages/sklearn/linear_model/sag.py:326: ConvergenceWarning: The max_iter was reached which means the coef_ did not converge\n",
      "  \"the coef_ did not converge\", ConvergenceWarning)\n",
      "/home/zhou/anaconda3/lib/python3.5/site-packages/sklearn/utils/deprecation.py:122: FutureWarning: You are accessing a training score ('mean_train_score'), which will not be available by default any more in 0.21. If you need training scores, please set return_train_score=True\n",
      "  warnings.warn(*warn_args, **warn_kwargs)\n",
      "/home/zhou/anaconda3/lib/python3.5/site-packages/sklearn/utils/deprecation.py:122: FutureWarning: You are accessing a training score ('split0_train_score'), which will not be available by default any more in 0.21. If you need training scores, please set return_train_score=True\n",
      "  warnings.warn(*warn_args, **warn_kwargs)\n",
      "/home/zhou/anaconda3/lib/python3.5/site-packages/sklearn/utils/deprecation.py:122: FutureWarning: You are accessing a training score ('split1_train_score'), which will not be available by default any more in 0.21. If you need training scores, please set return_train_score=True\n",
      "  warnings.warn(*warn_args, **warn_kwargs)\n",
      "/home/zhou/anaconda3/lib/python3.5/site-packages/sklearn/utils/deprecation.py:122: FutureWarning: You are accessing a training score ('split2_train_score'), which will not be available by default any more in 0.21. If you need training scores, please set return_train_score=True\n",
      "  warnings.warn(*warn_args, **warn_kwargs)\n",
      "/home/zhou/anaconda3/lib/python3.5/site-packages/sklearn/utils/deprecation.py:122: FutureWarning: You are accessing a training score ('split3_train_score'), which will not be available by default any more in 0.21. If you need training scores, please set return_train_score=True\n",
      "  warnings.warn(*warn_args, **warn_kwargs)\n",
      "/home/zhou/anaconda3/lib/python3.5/site-packages/sklearn/utils/deprecation.py:122: FutureWarning: You are accessing a training score ('split4_train_score'), which will not be available by default any more in 0.21. If you need training scores, please set return_train_score=True\n",
      "  warnings.warn(*warn_args, **warn_kwargs)\n",
      "/home/zhou/anaconda3/lib/python3.5/site-packages/sklearn/utils/deprecation.py:122: FutureWarning: You are accessing a training score ('std_train_score'), which will not be available by default any more in 0.21. If you need training scores, please set return_train_score=True\n",
      "  warnings.warn(*warn_args, **warn_kwargs)\n"
     ]
    },
    {
     "data": {
      "text/plain": [
       "{'mean_fit_time': array([ 0.02538733,  0.05645628,  0.0321032 ,  0.06278462,  0.04058223,\n",
       "         0.09569955,  0.04730344,  0.29671464,  0.05554504,  0.4938724 ]),\n",
       " 'mean_score_time': array([ 0.00268779,  0.0024713 ,  0.00257134,  0.00248218,  0.00256252,\n",
       "         0.00247049,  0.00255146,  0.00256634,  0.00255241,  0.00281839]),\n",
       " 'mean_test_score': array([-0.38219254, -0.29439633, -0.17282228, -0.12587519, -0.0802084 ,\n",
       "        -0.07021833, -0.05098977, -0.05025531, -0.04425649, -0.04435049]),\n",
       " 'mean_train_score': array([-0.38189618, -0.29422957, -0.17247561, -0.12560677, -0.07977265,\n",
       "        -0.06958058, -0.05014644, -0.04921342, -0.04301522, -0.04307132]),\n",
       " 'param_C': masked_array(data = [0.01 0.01 0.1 0.1 1 1 10 10 100 100],\n",
       "              mask = [False False False False False False False False False False],\n",
       "        fill_value = ?),\n",
       " 'param_solver': masked_array(data = ['liblinear' 'sag' 'liblinear' 'sag' 'liblinear' 'sag' 'liblinear' 'sag'\n",
       "  'liblinear' 'sag'],\n",
       "              mask = [False False False False False False False False False False],\n",
       "        fill_value = ?),\n",
       " 'params': [{'C': 0.01, 'solver': 'liblinear'},\n",
       "  {'C': 0.01, 'solver': 'sag'},\n",
       "  {'C': 0.1, 'solver': 'liblinear'},\n",
       "  {'C': 0.1, 'solver': 'sag'},\n",
       "  {'C': 1, 'solver': 'liblinear'},\n",
       "  {'C': 1, 'solver': 'sag'},\n",
       "  {'C': 10, 'solver': 'liblinear'},\n",
       "  {'C': 10, 'solver': 'sag'},\n",
       "  {'C': 100, 'solver': 'liblinear'},\n",
       "  {'C': 100, 'solver': 'sag'}],\n",
       " 'rank_test_score': array([10,  9,  8,  7,  6,  5,  4,  3,  1,  2], dtype=int32),\n",
       " 'split0_test_score': array([-0.38746132, -0.29777686, -0.177447  , -0.12800757, -0.08228728,\n",
       "        -0.07076411, -0.05269205, -0.05132746, -0.04690986, -0.04684207]),\n",
       " 'split0_train_score': array([-0.38030305, -0.29347361, -0.17168777, -0.12529909, -0.07939067,\n",
       "        -0.0694518 , -0.04953477, -0.04867543, -0.04219237, -0.04224015]),\n",
       " 'split1_test_score': array([-0.38232591, -0.29819098, -0.17741074, -0.13289101, -0.08579343,\n",
       "        -0.07663607, -0.05448284, -0.05390331, -0.04673178, -0.04685436]),\n",
       " 'split1_train_score': array([-0.38144338, -0.29272551, -0.17081964, -0.12368622, -0.07864486,\n",
       "        -0.06834349, -0.04933507, -0.04841099, -0.04237708, -0.04242256]),\n",
       " 'split2_test_score': array([-0.38853379, -0.30059352, -0.1770492 , -0.12752717, -0.08088958,\n",
       "        -0.06873192, -0.0500816 , -0.04856506, -0.04362277, -0.04355391]),\n",
       " 'split2_train_score': array([-0.38014001, -0.29304991, -0.17194097, -0.12578536, -0.07990486,\n",
       "        -0.07007639, -0.05040772, -0.04957226, -0.04319155, -0.04324809]),\n",
       " 'split3_test_score': array([-0.37870283, -0.2875237 , -0.16451918, -0.11719889, -0.07192642,\n",
       "        -0.06288483, -0.04391245, -0.04386206, -0.03620758, -0.03652597]),\n",
       " 'split3_train_score': array([-0.38344447, -0.29644511, -0.17489621, -0.1276842 , -0.08159344,\n",
       "        -0.0712133 , -0.05201909, -0.05103193, -0.0452955 , -0.04533378]),\n",
       " 'split4_test_score': array([-0.37393538, -0.28789316, -0.16768081, -0.12374763, -0.08014215,\n",
       "        -0.0720723 , -0.05377765, -0.05361677, -0.04780793, -0.04797371]),\n",
       " 'split4_train_score': array([-0.38415   , -0.29545371, -0.17303343, -0.12557899, -0.07932943,\n",
       "        -0.06881792, -0.04943555, -0.0483765 , -0.04201962, -0.04211204]),\n",
       " 'std_fit_time': array([ 0.00441839,  0.00525178,  0.00174728,  0.00356076,  0.0009303 ,\n",
       "         0.00354619,  0.00298518,  0.01974571,  0.00053621,  0.00734702]),\n",
       " 'std_score_time': array([  1.82971719e-04,   6.33042589e-05,   2.01330338e-05,\n",
       "          3.81788478e-05,   2.22535360e-05,   1.79850435e-05,\n",
       "          6.15397103e-06,   3.92998876e-05,   1.14038874e-05,\n",
       "          7.26755833e-05]),\n",
       " 'std_test_score': array([ 0.00544678,  0.00554507,  0.00557988,  0.00522101,  0.0045731 ,\n",
       "         0.00449235,  0.00384126,  0.00372771,  0.0042651 ,  0.00418215]),\n",
       " 'std_train_score': array([ 0.0016312 ,  0.00145825,  0.00140137,  0.00127527,  0.00099469,\n",
       "         0.00100401,  0.00101123,  0.00100692,  0.00120883,  0.00119849])}"
      ]
     },
     "execution_count": 186,
     "metadata": {},
     "output_type": "execute_result"
    }
   ],
   "source": [
    "grid.fit(X_train,y_train)\n",
    "grid.cv_results_"
   ]
  },
  {
   "cell_type": "code",
   "execution_count": 187,
   "metadata": {
    "collapsed": false
   },
   "outputs": [
    {
     "name": "stdout",
     "output_type": "stream",
     "text": [
      "-0.0442564885057\n",
      "{'C': 100, 'solver': 'liblinear'}\n"
     ]
    }
   ],
   "source": [
    "print(grid.best_score_)\n",
    "print(grid.best_params_)"
   ]
  },
  {
   "cell_type": "code",
   "execution_count": null,
   "metadata": {
    "collapsed": true
   },
   "outputs": [],
   "source": []
  },
  {
   "cell_type": "code",
   "execution_count": 188,
   "metadata": {
    "collapsed": false
   },
   "outputs": [
    {
     "name": "stdout",
     "output_type": "stream",
     "text": [
      "training . . . \n",
      "cost time:0\n",
      "Train Accuary: 98.48%\n",
      "Train log_loss:  0.042981129193\n"
     ]
    },
    {
     "name": "stderr",
     "output_type": "stream",
     "text": [
      "/home/zhou/anaconda3/lib/python3.5/site-packages/sklearn/linear_model/logistic.py:1228: UserWarning: 'n_jobs' > 1 does not have any effect when 'solver' is set to 'liblinear'. Got 'n_jobs' = -1.\n",
      "  \" = {}.\".format(self.n_jobs))\n"
     ]
    }
   ],
   "source": [
    "\n",
    "c=100\n",
    "\n",
    "#导入模型\n",
    "\n",
    "lr= LogisticRegression( C=c, n_jobs=-1, solver='liblinear')\n",
    "\n",
    "#开始训练\n",
    "start_time = time.time()\n",
    "print('training . . . ')\n",
    "lr.fit(X_train, y_train, )\n",
    "print('cost time:{0}'.format(int(time.time() - start_time)))\n",
    "\n",
    "#保存模型\n",
    "#joblib.dump(lr, model_path+'LR_sklearn.model')\n",
    "\n",
    "#进行评价\n",
    "train_preds = lr.predict_proba(X_train)[:,1]\n",
    "train_predictions = np.around(train_preds)\n",
    "\n",
    "train_accuracy = accuracy_score(y_train, train_predictions)\n",
    "print (\"Train Accuary: %.2f%%\" % (train_accuracy * 100.0))\n",
    "train_log_loss = log_loss(y_train, train_preds)\n",
    "print (\"Train log_loss: \" , train_log_loss)\n",
    "\n"
   ]
  },
  {
   "cell_type": "code",
   "execution_count": 171,
   "metadata": {
    "collapsed": false,
    "scrolled": true
   },
   "outputs": [
    {
     "data": {
      "text/html": [
       "<div>\n",
       "<style scoped>\n",
       "    .dataframe tbody tr th:only-of-type {\n",
       "        vertical-align: middle;\n",
       "    }\n",
       "\n",
       "    .dataframe tbody tr th {\n",
       "        vertical-align: top;\n",
       "    }\n",
       "\n",
       "    .dataframe thead th {\n",
       "        text-align: right;\n",
       "    }\n",
       "</style>\n",
       "<table border=\"1\" class=\"dataframe\">\n",
       "  <thead>\n",
       "    <tr style=\"text-align: right;\">\n",
       "      <th></th>\n",
       "      <th>invited</th>\n",
       "      <th>day</th>\n",
       "      <th>month</th>\n",
       "      <th>weekday</th>\n",
       "      <th>date</th>\n",
       "      <th>user_cf_dis</th>\n",
       "      <th>event_cf_dis</th>\n",
       "      <th>user_cf_reco</th>\n",
       "      <th>event_cf_reco</th>\n",
       "      <th>events_yes_num</th>\n",
       "      <th>events_all_num</th>\n",
       "      <th>users_freds_num</th>\n",
       "    </tr>\n",
       "  </thead>\n",
       "  <tbody>\n",
       "    <tr>\n",
       "      <th>15398</th>\n",
       "      <td>0</td>\n",
       "      <td>0.966667</td>\n",
       "      <td>0.875</td>\n",
       "      <td>0.666667</td>\n",
       "      <td>0.947598</td>\n",
       "      <td>0.0</td>\n",
       "      <td>0.0</td>\n",
       "      <td>0.0</td>\n",
       "      <td>0.0</td>\n",
       "      <td>0.0061</td>\n",
       "      <td>0.0107</td>\n",
       "      <td>0.089686</td>\n",
       "    </tr>\n",
       "    <tr>\n",
       "      <th>15399</th>\n",
       "      <td>0</td>\n",
       "      <td>0.966667</td>\n",
       "      <td>0.875</td>\n",
       "      <td>0.666667</td>\n",
       "      <td>0.947598</td>\n",
       "      <td>0.0</td>\n",
       "      <td>0.0</td>\n",
       "      <td>0.0</td>\n",
       "      <td>0.0</td>\n",
       "      <td>0.0018</td>\n",
       "      <td>0.0104</td>\n",
       "      <td>0.089686</td>\n",
       "    </tr>\n",
       "    <tr>\n",
       "      <th>15400</th>\n",
       "      <td>0</td>\n",
       "      <td>0.966667</td>\n",
       "      <td>0.875</td>\n",
       "      <td>0.666667</td>\n",
       "      <td>0.947598</td>\n",
       "      <td>0.0</td>\n",
       "      <td>0.0</td>\n",
       "      <td>0.0</td>\n",
       "      <td>0.0</td>\n",
       "      <td>0.0026</td>\n",
       "      <td>0.0085</td>\n",
       "      <td>0.089686</td>\n",
       "    </tr>\n",
       "    <tr>\n",
       "      <th>15401</th>\n",
       "      <td>0</td>\n",
       "      <td>0.966667</td>\n",
       "      <td>0.875</td>\n",
       "      <td>0.666667</td>\n",
       "      <td>0.947598</td>\n",
       "      <td>0.0</td>\n",
       "      <td>0.0</td>\n",
       "      <td>0.0</td>\n",
       "      <td>0.0</td>\n",
       "      <td>0.0031</td>\n",
       "      <td>0.0100</td>\n",
       "      <td>0.089686</td>\n",
       "    </tr>\n",
       "    <tr>\n",
       "      <th>15402</th>\n",
       "      <td>0</td>\n",
       "      <td>0.966667</td>\n",
       "      <td>0.875</td>\n",
       "      <td>0.666667</td>\n",
       "      <td>0.947598</td>\n",
       "      <td>0.0</td>\n",
       "      <td>0.0</td>\n",
       "      <td>0.0</td>\n",
       "      <td>0.0</td>\n",
       "      <td>0.0021</td>\n",
       "      <td>0.0076</td>\n",
       "      <td>0.089686</td>\n",
       "    </tr>\n",
       "  </tbody>\n",
       "</table>\n",
       "</div>"
      ],
      "text/plain": [
       "       invited       day  month   weekday      date  user_cf_dis  \\\n",
       "15398        0  0.966667  0.875  0.666667  0.947598          0.0   \n",
       "15399        0  0.966667  0.875  0.666667  0.947598          0.0   \n",
       "15400        0  0.966667  0.875  0.666667  0.947598          0.0   \n",
       "15401        0  0.966667  0.875  0.666667  0.947598          0.0   \n",
       "15402        0  0.966667  0.875  0.666667  0.947598          0.0   \n",
       "\n",
       "       event_cf_dis  user_cf_reco  event_cf_reco  events_yes_num  \\\n",
       "15398           0.0           0.0            0.0          0.0061   \n",
       "15399           0.0           0.0            0.0          0.0018   \n",
       "15400           0.0           0.0            0.0          0.0026   \n",
       "15401           0.0           0.0            0.0          0.0031   \n",
       "15402           0.0           0.0            0.0          0.0021   \n",
       "\n",
       "       events_all_num  users_freds_num  \n",
       "15398          0.0107         0.089686  \n",
       "15399          0.0104         0.089686  \n",
       "15400          0.0085         0.089686  \n",
       "15401          0.0100         0.089686  \n",
       "15402          0.0076         0.089686  "
      ]
     },
     "execution_count": 171,
     "metadata": {},
     "output_type": "execute_result"
    }
   ],
   "source": [
    "X_test = test.drop(['event', 'user', 'interested', 'not_interested','user_id','event_id'],axis=1)\n",
    "X_test[:5]"
   ]
  },
  {
   "cell_type": "code",
   "execution_count": 172,
   "metadata": {
    "collapsed": false
   },
   "outputs": [
    {
     "data": {
      "text/plain": [
       "invited            1.000000e+00\n",
       "day                1.000000e+00\n",
       "month              1.000000e+00\n",
       "weekday            1.000000e+00\n",
       "date               1.000000e+00\n",
       "user_cf_dis        1.165430e+00\n",
       "event_cf_dis       9.999168e-01\n",
       "user_cf_reco       1.170313e+00\n",
       "event_cf_reco      1.050840e+16\n",
       "events_yes_num     1.000000e+00\n",
       "events_all_num     1.000000e+00\n",
       "users_freds_num    1.000000e+00\n",
       "dtype: float64"
      ]
     },
     "execution_count": 172,
     "metadata": {},
     "output_type": "execute_result"
    }
   ],
   "source": [
    "X_train.max()"
   ]
  },
  {
   "cell_type": "code",
   "execution_count": 173,
   "metadata": {
    "collapsed": false
   },
   "outputs": [
    {
     "data": {
      "text/plain": [
       "invited            1.000000\n",
       "day                1.000000\n",
       "month              1.000000\n",
       "weekday            1.000000\n",
       "date               1.000000\n",
       "user_cf_dis        0.529412\n",
       "event_cf_dis       0.000000\n",
       "user_cf_reco       0.000000\n",
       "event_cf_reco      0.000000\n",
       "events_yes_num     0.980300\n",
       "events_all_num     1.000000\n",
       "users_freds_num    0.988993\n",
       "dtype: float64"
      ]
     },
     "execution_count": 173,
     "metadata": {},
     "output_type": "execute_result"
    }
   ],
   "source": [
    "X_test.max()"
   ]
  },
  {
   "cell_type": "code",
   "execution_count": 174,
   "metadata": {
    "collapsed": true
   },
   "outputs": [],
   "source": [
    "train_preds = lr.predict_proba(X_train)[:,1]"
   ]
  },
  {
   "cell_type": "code",
   "execution_count": 175,
   "metadata": {
    "collapsed": true
   },
   "outputs": [],
   "source": [
    "test_preds = lr.predict_proba(X_test)[:,1]"
   ]
  },
  {
   "cell_type": "code",
   "execution_count": 176,
   "metadata": {
    "collapsed": false
   },
   "outputs": [
    {
     "data": {
      "text/plain": [
       "(0.88807236238952081, 0.5)"
      ]
     },
     "execution_count": 176,
     "metadata": {},
     "output_type": "execute_result"
    }
   ],
   "source": [
    "train_preds.max(), test_preds.max()"
   ]
  },
  {
   "cell_type": "code",
   "execution_count": 177,
   "metadata": {
    "collapsed": false
   },
   "outputs": [
    {
     "data": {
      "text/html": [
       "<div>\n",
       "<style scoped>\n",
       "    .dataframe tbody tr th:only-of-type {\n",
       "        vertical-align: middle;\n",
       "    }\n",
       "\n",
       "    .dataframe tbody tr th {\n",
       "        vertical-align: top;\n",
       "    }\n",
       "\n",
       "    .dataframe thead th {\n",
       "        text-align: right;\n",
       "    }\n",
       "</style>\n",
       "<table border=\"1\" class=\"dataframe\">\n",
       "  <thead>\n",
       "    <tr style=\"text-align: right;\">\n",
       "      <th></th>\n",
       "      <th>user</th>\n",
       "      <th>event</th>\n",
       "      <th>pred</th>\n",
       "    </tr>\n",
       "    <tr>\n",
       "      <th>user</th>\n",
       "      <th></th>\n",
       "      <th></th>\n",
       "      <th></th>\n",
       "    </tr>\n",
       "  </thead>\n",
       "  <tbody>\n",
       "    <tr>\n",
       "      <th>1776192</th>\n",
       "      <td>1776192</td>\n",
       "      <td>2877501688</td>\n",
       "      <td>0.5</td>\n",
       "    </tr>\n",
       "    <tr>\n",
       "      <th>1776192</th>\n",
       "      <td>1776192</td>\n",
       "      <td>3025444328</td>\n",
       "      <td>0.5</td>\n",
       "    </tr>\n",
       "    <tr>\n",
       "      <th>1776192</th>\n",
       "      <td>1776192</td>\n",
       "      <td>4078218285</td>\n",
       "      <td>0.5</td>\n",
       "    </tr>\n",
       "    <tr>\n",
       "      <th>1776192</th>\n",
       "      <td>1776192</td>\n",
       "      <td>1024025121</td>\n",
       "      <td>0.5</td>\n",
       "    </tr>\n",
       "    <tr>\n",
       "      <th>1776192</th>\n",
       "      <td>1776192</td>\n",
       "      <td>2972428928</td>\n",
       "      <td>0.5</td>\n",
       "    </tr>\n",
       "  </tbody>\n",
       "</table>\n",
       "</div>"
      ],
      "text/plain": [
       "            user       event  pred\n",
       "user                              \n",
       "1776192  1776192  2877501688   0.5\n",
       "1776192  1776192  3025444328   0.5\n",
       "1776192  1776192  4078218285   0.5\n",
       "1776192  1776192  1024025121   0.5\n",
       "1776192  1776192  2972428928   0.5"
      ]
     },
     "execution_count": 177,
     "metadata": {},
     "output_type": "execute_result"
    }
   ],
   "source": [
    "user_event = test.loc[:,['user','event']].copy()\n",
    "user_event.index = test['user']\n",
    "user_event['pred'] = test_preds\n",
    "user_event[:5]"
   ]
  },
  {
   "cell_type": "code",
   "execution_count": 178,
   "metadata": {
    "collapsed": false
   },
   "outputs": [],
   "source": [
    "submission = pd.Series(index = set(user_event.index),)\n",
    "for u in set(user_event.index):\n",
    "    data_tmp = user_event.loc[u,:]\n",
    "    event_tmp = pd.Series(data_tmp['pred'].values, index = data_tmp['event'].values)\n",
    "    events = event_tmp.sort_values(ascending=False).index.values\n",
    "    submission[u] = ' '.join(events.astype(np.str))"
   ]
  },
  {
   "cell_type": "code",
   "execution_count": 160,
   "metadata": {
    "collapsed": false,
    "scrolled": true
   },
   "outputs": [
    {
     "data": {
      "text/plain": [
       "2686965763    1335898508 940261225 3546861867 2701293208 111...\n",
       "629450757     3655295959 955398943 2093319113 2605913428 252...\n",
       "511678471     1138354613 2601678976 3932617564 2608367718 31...\n",
       "3730114567    130281276 1628013431 2973911742 3400838699 569...\n",
       "2678956041    834360181 3118576636 2235916835 4130552113 921...\n",
       "4180064266    3380687062 3099686443 3297792743 2422997693 26...\n",
       "4095465484    172445691 569616021 814858005 2130383503 17489...\n",
       "2872854546    457253413 2980258101 2392886869 790687673 1516...\n",
       "3270633490    673098017 1272961219 1269035551 2007279414 424...\n",
       "666374166     2407779614 786960145 899115709 1944996876 2052...\n",
       "1753157654    252715505 1536770720 4073937824 2974348707 410...\n",
       "3329238167    401945277 1882674933 3136211868 3323634350 342...\n",
       "1645299738    2007279414 3950589515 3048578499 2149464820 20...\n",
       "3264469018    4074266568 4258255746 2350143315 389608207 169...\n",
       "2371436573    1716825317 2529072432 656598905 794747940 4042...\n",
       "1551265824           1536783222 2881298816 3981414613 997119679\n",
       "770336801     1203717384 1272961219 2149464820 2007279414 12...\n",
       "1618153505    2132888830 1271330281 4002798045 1838843061 94...\n",
       "3969445925    955398943 1136509864 3334213373 1600413013 104...\n",
       "1949308966    1013377163 2529072432 1630977665 3655295959 86...\n",
       "867285031     2117304684 1434358511 188505465 666781614 1638...\n",
       "1154164776    2166119628 2621889209 3462111166 1448086840 14...\n",
       "3951036457    863159725 4234138929 3390709812 1652798666 315...\n",
       "917166122     1965364019 1982116608 4209606131 3971284129 37...\n",
       "3387377708    1319886393 159721752 378442814 3128414020 1674...\n",
       "3275450415    915339846 681532729 3312755383 1494587743 2167...\n",
       "3954972720    1884840556 1198964954 516701061 3559606266 392...\n",
       "851286067     3770815990 2912359758 688975255 1382852410 134...\n",
       "3231170614    496131340 3929507420 3830416827 574261812 1205...\n",
       "1428101175    738643299 4193610911 1600413013 1903400031 252...\n",
       "                                    ...                        \n",
       "3908243396    826943401 1641436512 2938074786 626269042 3222...\n",
       "1485684679    1630022509 3697359735 2762356638 3790866767 38...\n",
       "3749087176    1347399160 3948658168 3045260404 1826801459 39...\n",
       "4166294065    1104384354 495087397 3860330975 2912638473 360...\n",
       "1260240845    2512804658 72576587 3677554347 2691131073 3883...\n",
       "656664529     1517488130 705007381 844299203 2763790767 4200...\n",
       "1473654738    268233790 1816813281 2149464820 3048578499 107...\n",
       "2528421842    3515917616 2891562029 3266931065 2983876569 14...\n",
       "665747414           2305662938 1901044782 2167106569 3761092488\n",
       "3110356955    2876844499 2806565970 1852447647 2828969498 74...\n",
       "2875543516    3022809854 1505928280 1474309845 1741021722 31...\n",
       "2906437598    226807427 2401458775 3868972599 955398943 9073...\n",
       "4159195102    2133183406 2529072432 1600413013 2643833505 95...\n",
       "3445686240    2245953972 3496460337 1462902079 507816315 215...\n",
       "431992802     2659763559 2753607556 3222968781 3385444012 14...\n",
       "1407547363    125448533 1195876739 3951901113 411731753 1195...\n",
       "3808055269    2005730896 4192032295 1985745362 2355213982 42...\n",
       "4217391078    642644408 2145977549 1704179171 1868937145 108...\n",
       "2362718183    810618772 2402634095 1465929077 2729267396 127...\n",
       "635387882     423625913 2025136511 3926217735 1214944988 195...\n",
       "1084319722    1047008495 692075109 1371103064 2639741116 330...\n",
       "687595500     1232655838 2301324542 2761684874 427450245 622...\n",
       "2610677742    997119679 3981414613 1770049890 122777568 1536...\n",
       "1815513076    1231053829 3714846142 2158886392 2144335101 77...\n",
       "885331957     4215173213 955002198 1162004917 1649692139 250...\n",
       "3358691318    2776566965 3565637257 1910800345 986099040 714...\n",
       "74504185      278651783 955398943 907302600 2529072432 13613...\n",
       "3421026299    3130403537 677512784 1386351230 2325712717 475...\n",
       "3627636732    2639741116 3094078712 1189597031 3258357208 34...\n",
       "3937992703    4140154751 915403718 1036961928 196335814 2803...\n",
       "Length: 1357, dtype: object"
      ]
     },
     "execution_count": 160,
     "metadata": {},
     "output_type": "execute_result"
    }
   ],
   "source": [
    "submission"
   ]
  },
  {
   "cell_type": "code",
   "execution_count": 179,
   "metadata": {
    "collapsed": false,
    "scrolled": true
   },
   "outputs": [
    {
     "name": "stdout",
     "output_type": "stream",
     "text": [
      "invited : -2.19059369648e-28\n",
      "day : -2.1345154147e-27\n",
      "month : -2.91679965293e-27\n",
      "weekday : -1.79429083043e-27\n",
      "date : -2.94998557343e-27\n",
      "user_cf_dis : -2.08352524506e-27\n",
      "event_cf_dis : -2.42733910994e-27\n",
      "user_cf_reco : -1.93597448753e-27\n",
      "event_cf_reco : 1.97099542318e-16\n",
      "events_yes_num : -2.48893428346e-29\n",
      "events_all_num : -6.25880926215e-28\n",
      "users_freds_num : -8.29845380912e-28\n"
     ]
    }
   ],
   "source": [
    "for c,v in zip(X_train.columns, lr.coef_[0], ):\n",
    "    print(c,':',v)"
   ]
  },
  {
   "cell_type": "code",
   "execution_count": null,
   "metadata": {
    "collapsed": true
   },
   "outputs": [],
   "source": []
  },
  {
   "cell_type": "code",
   "execution_count": null,
   "metadata": {
    "collapsed": true
   },
   "outputs": [],
   "source": []
  },
  {
   "cell_type": "code",
   "execution_count": 76,
   "metadata": {
    "collapsed": false
   },
   "outputs": [],
   "source": [
    "submission.to_csv(tmp_dpath+'submission.csv')"
   ]
  }
 ],
 "metadata": {
  "anaconda-cloud": {},
  "kernelspec": {
   "display_name": "Python [default]",
   "language": "python",
   "name": "python3"
  },
  "language_info": {
   "codemirror_mode": {
    "name": "ipython",
    "version": 3
   },
   "file_extension": ".py",
   "mimetype": "text/x-python",
   "name": "python",
   "nbconvert_exporter": "python",
   "pygments_lexer": "ipython3",
   "version": "3.5.2"
  },
  "toc": {
   "nav_menu": {},
   "number_sections": true,
   "sideBar": true,
   "skip_h1_title": false,
   "title_cell": "Table of Contents",
   "title_sidebar": "Contents",
   "toc_cell": true,
   "toc_position": {
    "height": "773px",
    "left": "0px",
    "right": "658.92px",
    "top": "107px",
    "width": "212px"
   },
   "toc_section_display": "block",
   "toc_window_display": true
  }
 },
 "nbformat": 4,
 "nbformat_minor": 2
}
