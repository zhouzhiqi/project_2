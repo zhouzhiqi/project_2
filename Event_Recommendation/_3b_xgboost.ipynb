{
 "cells": [
  {
   "cell_type": "markdown",
   "metadata": {
    "toc": true
   },
   "source": [
    "<h1>Table of Contents<span class=\"tocSkip\"></span></h1>\n",
    "<div class=\"toc\"><ul class=\"toc-item\"><li><span><a href=\"#Onehot_A\" data-toc-modified-id=\"Onehot_A-1\"><span class=\"toc-item-num\">1&nbsp;&nbsp;</span>Onehot_A</a></span></li><li><span><a href=\"#导入与分割数据\" data-toc-modified-id=\"导入与分割数据-2\"><span class=\"toc-item-num\">2&nbsp;&nbsp;</span>导入与分割数据</a></span></li><li><span><a href=\"#A_cat\" data-toc-modified-id=\"A_cat-3\"><span class=\"toc-item-num\">3&nbsp;&nbsp;</span>A_cat</a></span></li><li><span><a href=\"#A_hour\" data-toc-modified-id=\"A_hour-4\"><span class=\"toc-item-num\">4&nbsp;&nbsp;</span>A_hour</a></span></li><li><span><a href=\"#A_xgb\" data-toc-modified-id=\"A_xgb-5\"><span class=\"toc-item-num\">5&nbsp;&nbsp;</span>A_xgb</a></span></li><li><span><a href=\"#B_cat\" data-toc-modified-id=\"B_cat-6\"><span class=\"toc-item-num\">6&nbsp;&nbsp;</span>B_cat</a></span></li><li><span><a href=\"#A_his\" data-toc-modified-id=\"A_his-7\"><span class=\"toc-item-num\">7&nbsp;&nbsp;</span>A_his</a></span></li><li><span><a href=\"#结论\" data-toc-modified-id=\"结论-8\"><span class=\"toc-item-num\">8&nbsp;&nbsp;</span>结论</a></span></li><li><span><a href=\"#'C':-0.1\" data-toc-modified-id=\"'C':-0.1-9\"><span class=\"toc-item-num\">9&nbsp;&nbsp;</span>'C': 0.1</a></span></li></ul></div>"
   ]
  },
  {
   "cell_type": "markdown",
   "metadata": {},
   "source": [
    "# Onehot_A"
   ]
  },
  {
   "cell_type": "code",
   "execution_count": 53,
   "metadata": {
    "collapsed": true
   },
   "outputs": [],
   "source": [
    "\n",
    "import numpy as np\n",
    "import pandas as pd\n",
    "import time\n",
    "import gc\n",
    "import os\n",
    "import scipy.sparse as ss\n",
    "#from  sklearn.cross_validation  import  train_test_split \n",
    "import xgboost as xgb\n",
    "#from sklearn.metrics import accuracy_score,log_loss\n",
    "from sklearn.linear_model import LogisticRegression\n",
    "from sklearn.metrics import accuracy_score,log_loss\n",
    "from sklearn.model_selection import GridSearchCV\n",
    "\n",
    "\n",
    "from scipy.spatial.distance import jaccard, cosine\n",
    "\n",
    "from sklearn.externals.joblib import dump, load\n",
    "\n",
    "import utils\n",
    "\n",
    "\n"
   ]
  },
  {
   "cell_type": "code",
   "execution_count": 54,
   "metadata": {
    "collapsed": false
   },
   "outputs": [
    {
     "name": "stderr",
     "output_type": "stream",
     "text": [
      "Exception ignored in: <bound method DMatrix.__del__ of <xgboost.core.DMatrix object at 0x7f78f0115668>>\n",
      "Traceback (most recent call last):\n",
      "  File \"/home/zhou/anaconda3/lib/python3.5/site-packages/xgboost/core.py\", line 366, in __del__\n",
      "    if self.handle is not None:\n",
      "AttributeError: 'DMatrix' object has no attribute 'handle'\n"
     ]
    }
   ],
   "source": [
    "# 数据路径\n",
    "dpath = utils.dpath\n",
    "# 数据类型\n",
    "data_types = utils.data_types\n",
    "# 缓存数据路径\n",
    "tmp_dpath = utils.tmp_dpath\n",
    "# 距离计算公式\n",
    "get_distance = utils.get_distance\n",
    "to_0_1 = utils.normalization\n",
    "to_cat = utils.label_encoder\n",
    "\n",
    "# 导入users和events的index索引, 以及相关信息\n",
    "users_index = load(tmp_dpath+'users_index.joblib.gz')\n",
    "events_index = load(tmp_dpath+'events_index.joblib.gz')\n",
    "all_user = set(users_index.keys())\n",
    "all_event = set(events_index.keys())\n",
    "num_users = len(users_index)\n",
    "num_events = len(events_index)\n",
    "user_event = load(tmp_dpath+'user_event.joblib.gz')\n",
    "user_event_scores = load(tmp_dpath+'user_event_scores.joblib.gz')\n",
    "data_df = load(tmp_dpath+'data_df.joblib.gz')"
   ]
  },
  {
   "cell_type": "markdown",
   "metadata": {},
   "source": [
    "# 导入与分割数据"
   ]
  },
  {
   "cell_type": "code",
   "execution_count": 55,
   "metadata": {
    "ExecuteTime": {
     "end_time": "2018-02-08T13:48:51.109670Z",
     "start_time": "2018-02-08T13:48:51.064640Z"
    },
    "collapsed": true
   },
   "outputs": [],
   "source": [
    "train = data_df.iloc[:15398,:].copy()\n",
    "test = data_df.iloc[15398:,:].copy()"
   ]
  },
  {
   "cell_type": "code",
   "execution_count": 56,
   "metadata": {
    "collapsed": false
   },
   "outputs": [
    {
     "data": {
      "text/html": [
       "<div>\n",
       "<style scoped>\n",
       "    .dataframe tbody tr th:only-of-type {\n",
       "        vertical-align: middle;\n",
       "    }\n",
       "\n",
       "    .dataframe tbody tr th {\n",
       "        vertical-align: top;\n",
       "    }\n",
       "\n",
       "    .dataframe thead th {\n",
       "        text-align: right;\n",
       "    }\n",
       "</style>\n",
       "<table border=\"1\" class=\"dataframe\">\n",
       "  <thead>\n",
       "    <tr style=\"text-align: right;\">\n",
       "      <th></th>\n",
       "      <th>event</th>\n",
       "      <th>interested</th>\n",
       "      <th>invited</th>\n",
       "      <th>not_interested</th>\n",
       "      <th>user</th>\n",
       "      <th>user_id</th>\n",
       "      <th>event_id</th>\n",
       "      <th>day</th>\n",
       "      <th>month</th>\n",
       "      <th>weekday</th>\n",
       "      <th>date</th>\n",
       "      <th>user_cf_dis</th>\n",
       "      <th>event_cf_dis</th>\n",
       "      <th>user_cf_reco</th>\n",
       "      <th>event_cf_reco</th>\n",
       "      <th>events_yes_num</th>\n",
       "      <th>events_all_num</th>\n",
       "      <th>users_freds_num</th>\n",
       "    </tr>\n",
       "  </thead>\n",
       "  <tbody>\n",
       "    <tr>\n",
       "      <th>0</th>\n",
       "      <td>1918771225</td>\n",
       "      <td>0.0</td>\n",
       "      <td>0</td>\n",
       "      <td>0.0</td>\n",
       "      <td>3044012</td>\n",
       "      <td>1982</td>\n",
       "      <td>3396</td>\n",
       "      <td>1.033333</td>\n",
       "      <td>1.75</td>\n",
       "      <td>1.166667</td>\n",
       "      <td>1.689956</td>\n",
       "      <td>1.650327</td>\n",
       "      <td>1.684758</td>\n",
       "      <td>1.649747</td>\n",
       "      <td>1.589014</td>\n",
       "      <td>1.0008</td>\n",
       "      <td>1.0058</td>\n",
       "      <td>1.175499</td>\n",
       "    </tr>\n",
       "    <tr>\n",
       "      <th>1</th>\n",
       "      <td>1502284248</td>\n",
       "      <td>0.0</td>\n",
       "      <td>0</td>\n",
       "      <td>0.0</td>\n",
       "      <td>3044012</td>\n",
       "      <td>1982</td>\n",
       "      <td>1067</td>\n",
       "      <td>1.033333</td>\n",
       "      <td>1.75</td>\n",
       "      <td>1.166667</td>\n",
       "      <td>1.689956</td>\n",
       "      <td>1.666667</td>\n",
       "      <td>1.702021</td>\n",
       "      <td>1.666667</td>\n",
       "      <td>1.583333</td>\n",
       "      <td>1.0010</td>\n",
       "      <td>1.0140</td>\n",
       "      <td>1.175499</td>\n",
       "    </tr>\n",
       "    <tr>\n",
       "      <th>2</th>\n",
       "      <td>2529072432</td>\n",
       "      <td>1.0</td>\n",
       "      <td>0</td>\n",
       "      <td>0.0</td>\n",
       "      <td>3044012</td>\n",
       "      <td>1982</td>\n",
       "      <td>2302</td>\n",
       "      <td>1.033333</td>\n",
       "      <td>1.75</td>\n",
       "      <td>1.166667</td>\n",
       "      <td>1.689956</td>\n",
       "      <td>1.787475</td>\n",
       "      <td>1.823584</td>\n",
       "      <td>1.833625</td>\n",
       "      <td>1.000000</td>\n",
       "      <td>1.0212</td>\n",
       "      <td>1.4347</td>\n",
       "      <td>1.175499</td>\n",
       "    </tr>\n",
       "    <tr>\n",
       "      <th>3</th>\n",
       "      <td>3072478280</td>\n",
       "      <td>0.0</td>\n",
       "      <td>0</td>\n",
       "      <td>0.0</td>\n",
       "      <td>3044012</td>\n",
       "      <td>1982</td>\n",
       "      <td>7976</td>\n",
       "      <td>1.033333</td>\n",
       "      <td>1.75</td>\n",
       "      <td>1.166667</td>\n",
       "      <td>1.689956</td>\n",
       "      <td>1.666667</td>\n",
       "      <td>1.719680</td>\n",
       "      <td>1.666667</td>\n",
       "      <td>1.583333</td>\n",
       "      <td>1.0008</td>\n",
       "      <td>1.0023</td>\n",
       "      <td>1.175499</td>\n",
       "    </tr>\n",
       "    <tr>\n",
       "      <th>4</th>\n",
       "      <td>1390707377</td>\n",
       "      <td>0.0</td>\n",
       "      <td>0</td>\n",
       "      <td>0.0</td>\n",
       "      <td>3044012</td>\n",
       "      <td>1982</td>\n",
       "      <td>294</td>\n",
       "      <td>1.033333</td>\n",
       "      <td>1.75</td>\n",
       "      <td>1.166667</td>\n",
       "      <td>1.689956</td>\n",
       "      <td>1.692661</td>\n",
       "      <td>1.697196</td>\n",
       "      <td>1.696304</td>\n",
       "      <td>1.673430</td>\n",
       "      <td>1.0083</td>\n",
       "      <td>1.4017</td>\n",
       "      <td>1.175499</td>\n",
       "    </tr>\n",
       "  </tbody>\n",
       "</table>\n",
       "</div>"
      ],
      "text/plain": [
       "        event  interested  invited  not_interested     user  user_id  \\\n",
       "0  1918771225         0.0        0             0.0  3044012     1982   \n",
       "1  1502284248         0.0        0             0.0  3044012     1982   \n",
       "2  2529072432         1.0        0             0.0  3044012     1982   \n",
       "3  3072478280         0.0        0             0.0  3044012     1982   \n",
       "4  1390707377         0.0        0             0.0  3044012     1982   \n",
       "\n",
       "   event_id       day  month   weekday      date  user_cf_dis  event_cf_dis  \\\n",
       "0      3396  1.033333   1.75  1.166667  1.689956     1.650327      1.684758   \n",
       "1      1067  1.033333   1.75  1.166667  1.689956     1.666667      1.702021   \n",
       "2      2302  1.033333   1.75  1.166667  1.689956     1.787475      1.823584   \n",
       "3      7976  1.033333   1.75  1.166667  1.689956     1.666667      1.719680   \n",
       "4       294  1.033333   1.75  1.166667  1.689956     1.692661      1.697196   \n",
       "\n",
       "   user_cf_reco  event_cf_reco  events_yes_num  events_all_num  \\\n",
       "0      1.649747       1.589014          1.0008          1.0058   \n",
       "1      1.666667       1.583333          1.0010          1.0140   \n",
       "2      1.833625       1.000000          1.0212          1.4347   \n",
       "3      1.666667       1.583333          1.0008          1.0023   \n",
       "4      1.696304       1.673430          1.0083          1.4017   \n",
       "\n",
       "   users_freds_num  \n",
       "0         1.175499  \n",
       "1         1.175499  \n",
       "2         1.175499  \n",
       "3         1.175499  \n",
       "4         1.175499  "
      ]
     },
     "execution_count": 56,
     "metadata": {},
     "output_type": "execute_result"
    }
   ],
   "source": [
    "train[:5]"
   ]
  },
  {
   "cell_type": "code",
   "execution_count": 57,
   "metadata": {
    "collapsed": false
   },
   "outputs": [
    {
     "name": "stdout",
     "output_type": "stream",
     "text": [
      "Load Data\n"
     ]
    }
   ],
   "source": [
    "#导入数据\n",
    "print('Load Data')\n",
    "y_train = train['interested']\n",
    "user_event = train[['event', 'user',]].copy()\n",
    "X_train = train.drop(['event', 'user', 'interested', 'not_interested','user_id','event_id'],axis=1)\n",
    "# 先转成np.array, 把数据类型转为np.float32(此时为2维数组shape(1,n)), 转为1-D np.arrar\n",
    "# 2维数组shape(m,n)适用于多分类问题, 在二分类中不适用"
   ]
  },
  {
   "cell_type": "code",
   "execution_count": null,
   "metadata": {
    "collapsed": true
   },
   "outputs": [],
   "source": []
  },
  {
   "cell_type": "code",
   "execution_count": 58,
   "metadata": {
    "collapsed": false
   },
   "outputs": [
    {
     "name": "stdout",
     "output_type": "stream",
     "text": [
      "<class 'pandas.core.frame.DataFrame'>\n",
      "Int64Index: 15398 entries, 0 to 15397\n",
      "Data columns (total 12 columns):\n",
      "invited            15398 non-null int8\n",
      "day                15398 non-null float64\n",
      "month              15398 non-null float64\n",
      "weekday            15398 non-null float64\n",
      "date               15398 non-null float64\n",
      "user_cf_dis        15398 non-null float64\n",
      "event_cf_dis       15398 non-null float64\n",
      "user_cf_reco       15398 non-null float64\n",
      "event_cf_reco      15398 non-null float64\n",
      "events_yes_num     15398 non-null float64\n",
      "events_all_num     15398 non-null float64\n",
      "users_freds_num    15398 non-null float64\n",
      "dtypes: float64(11), int8(1)\n",
      "memory usage: 1.4 MB\n"
     ]
    }
   ],
   "source": [
    "X_train.info()"
   ]
  },
  {
   "cell_type": "code",
   "execution_count": 59,
   "metadata": {
    "collapsed": false
   },
   "outputs": [
    {
     "data": {
      "text/plain": [
       "((15398, 12), (15398,))"
      ]
     },
     "execution_count": 59,
     "metadata": {},
     "output_type": "execute_result"
    }
   ],
   "source": [
    "X_train.shape, y_train.shape, "
   ]
  },
  {
   "cell_type": "code",
   "execution_count": 60,
   "metadata": {
    "collapsed": false
   },
   "outputs": [],
   "source": [
    "xgtrain = xgb.DMatrix(X_train, label = y_train,)\n"
   ]
  },
  {
   "cell_type": "code",
   "execution_count": 61,
   "metadata": {
    "collapsed": false,
    "scrolled": false
   },
   "outputs": [
    {
     "name": "stdout",
     "output_type": "stream",
     "text": [
      "training . . . \n",
      "cost time:0\n"
     ]
    },
    {
     "data": {
      "text/html": [
       "<div>\n",
       "<style scoped>\n",
       "    .dataframe tbody tr th:only-of-type {\n",
       "        vertical-align: middle;\n",
       "    }\n",
       "\n",
       "    .dataframe tbody tr th {\n",
       "        vertical-align: top;\n",
       "    }\n",
       "\n",
       "    .dataframe thead th {\n",
       "        text-align: right;\n",
       "    }\n",
       "</style>\n",
       "<table border=\"1\" class=\"dataframe\">\n",
       "  <thead>\n",
       "    <tr style=\"text-align: right;\">\n",
       "      <th></th>\n",
       "      <th>test-logloss-mean</th>\n",
       "      <th>test-logloss-std</th>\n",
       "      <th>train-logloss-mean</th>\n",
       "      <th>train-logloss-std</th>\n",
       "    </tr>\n",
       "  </thead>\n",
       "  <tbody>\n",
       "    <tr>\n",
       "      <th>0</th>\n",
       "      <td>0.208751</td>\n",
       "      <td>0.002953</td>\n",
       "      <td>0.204919</td>\n",
       "      <td>0.000412</td>\n",
       "    </tr>\n",
       "    <tr>\n",
       "      <th>1</th>\n",
       "      <td>0.102295</td>\n",
       "      <td>0.004599</td>\n",
       "      <td>0.096362</td>\n",
       "      <td>0.002038</td>\n",
       "    </tr>\n",
       "    <tr>\n",
       "      <th>2</th>\n",
       "      <td>0.061622</td>\n",
       "      <td>0.003641</td>\n",
       "      <td>0.054188</td>\n",
       "      <td>0.002473</td>\n",
       "    </tr>\n",
       "    <tr>\n",
       "      <th>3</th>\n",
       "      <td>0.042075</td>\n",
       "      <td>0.001381</td>\n",
       "      <td>0.033549</td>\n",
       "      <td>0.002265</td>\n",
       "    </tr>\n",
       "    <tr>\n",
       "      <th>4</th>\n",
       "      <td>0.032004</td>\n",
       "      <td>0.002610</td>\n",
       "      <td>0.022827</td>\n",
       "      <td>0.001017</td>\n",
       "    </tr>\n",
       "    <tr>\n",
       "      <th>5</th>\n",
       "      <td>0.025594</td>\n",
       "      <td>0.002376</td>\n",
       "      <td>0.016378</td>\n",
       "      <td>0.001088</td>\n",
       "    </tr>\n",
       "    <tr>\n",
       "      <th>6</th>\n",
       "      <td>0.022147</td>\n",
       "      <td>0.002368</td>\n",
       "      <td>0.013157</td>\n",
       "      <td>0.000674</td>\n",
       "    </tr>\n",
       "    <tr>\n",
       "      <th>7</th>\n",
       "      <td>0.020225</td>\n",
       "      <td>0.002860</td>\n",
       "      <td>0.011226</td>\n",
       "      <td>0.000315</td>\n",
       "    </tr>\n",
       "    <tr>\n",
       "      <th>8</th>\n",
       "      <td>0.018888</td>\n",
       "      <td>0.002810</td>\n",
       "      <td>0.009785</td>\n",
       "      <td>0.000463</td>\n",
       "    </tr>\n",
       "    <tr>\n",
       "      <th>9</th>\n",
       "      <td>0.017896</td>\n",
       "      <td>0.003403</td>\n",
       "      <td>0.008862</td>\n",
       "      <td>0.000273</td>\n",
       "    </tr>\n",
       "    <tr>\n",
       "      <th>10</th>\n",
       "      <td>0.017824</td>\n",
       "      <td>0.003001</td>\n",
       "      <td>0.008357</td>\n",
       "      <td>0.000246</td>\n",
       "    </tr>\n",
       "    <tr>\n",
       "      <th>11</th>\n",
       "      <td>0.017190</td>\n",
       "      <td>0.002757</td>\n",
       "      <td>0.007765</td>\n",
       "      <td>0.000349</td>\n",
       "    </tr>\n",
       "    <tr>\n",
       "      <th>12</th>\n",
       "      <td>0.016861</td>\n",
       "      <td>0.002444</td>\n",
       "      <td>0.007409</td>\n",
       "      <td>0.000237</td>\n",
       "    </tr>\n",
       "    <tr>\n",
       "      <th>13</th>\n",
       "      <td>0.016603</td>\n",
       "      <td>0.002404</td>\n",
       "      <td>0.006968</td>\n",
       "      <td>0.000318</td>\n",
       "    </tr>\n",
       "    <tr>\n",
       "      <th>14</th>\n",
       "      <td>0.016343</td>\n",
       "      <td>0.002088</td>\n",
       "      <td>0.006668</td>\n",
       "      <td>0.000311</td>\n",
       "    </tr>\n",
       "    <tr>\n",
       "      <th>15</th>\n",
       "      <td>0.016139</td>\n",
       "      <td>0.002451</td>\n",
       "      <td>0.006312</td>\n",
       "      <td>0.000218</td>\n",
       "    </tr>\n",
       "  </tbody>\n",
       "</table>\n",
       "</div>"
      ],
      "text/plain": [
       "    test-logloss-mean  test-logloss-std  train-logloss-mean  train-logloss-std\n",
       "0            0.208751          0.002953            0.204919           0.000412\n",
       "1            0.102295          0.004599            0.096362           0.002038\n",
       "2            0.061622          0.003641            0.054188           0.002473\n",
       "3            0.042075          0.001381            0.033549           0.002265\n",
       "4            0.032004          0.002610            0.022827           0.001017\n",
       "5            0.025594          0.002376            0.016378           0.001088\n",
       "6            0.022147          0.002368            0.013157           0.000674\n",
       "7            0.020225          0.002860            0.011226           0.000315\n",
       "8            0.018888          0.002810            0.009785           0.000463\n",
       "9            0.017896          0.003403            0.008862           0.000273\n",
       "10           0.017824          0.003001            0.008357           0.000246\n",
       "11           0.017190          0.002757            0.007765           0.000349\n",
       "12           0.016861          0.002444            0.007409           0.000237\n",
       "13           0.016603          0.002404            0.006968           0.000318\n",
       "14           0.016343          0.002088            0.006668           0.000311\n",
       "15           0.016139          0.002451            0.006312           0.000218"
      ]
     },
     "execution_count": 61,
     "metadata": {},
     "output_type": "execute_result"
    }
   ],
   "source": [
    "#设置参数, 开始训练\n",
    "start_time = time.time()\n",
    "print('training . . . ')\n",
    "\n",
    "param = dict(\n",
    "        learning_rate =0.8, \n",
    "        booster='gbtree',\n",
    "        n_estimators=100,  \n",
    "        max_depth=9, \n",
    "        min_child_weight=5,\n",
    "        gamma=0,\n",
    "        subsample=0.9,\n",
    "        colsample_bytree=0.8,\n",
    "        colsample_bylevel=0.7,\n",
    "        objective= 'binary:logistic' ,\n",
    "        eta=0.4,\n",
    "        silent=0,\n",
    "        eval_metric='logloss',\n",
    "        seed=3)\n",
    "\n",
    "\n",
    "num_trees = 16 #树的数量##################\n",
    "\n",
    "#调用cv函数\n",
    "bst_train = xgb.cv(param, xgtrain, num_trees, nfold=5, stratified=True)\n",
    "#bst_train = xgb.train(param, xgtrain, num_trees, ) \n",
    "#new_feature = bst_train.predict(xgtrain, pred_leaf=True)\n",
    "print('cost time:{0}'.format(int(time.time() - start_time)))\n",
    "bst_train"
   ]
  },
  {
   "cell_type": "code",
   "execution_count": 62,
   "metadata": {
    "collapsed": true
   },
   "outputs": [],
   "source": [
    "xgb_train = xgb.train(param, xgtrain, num_trees, ) "
   ]
  },
  {
   "cell_type": "code",
   "execution_count": null,
   "metadata": {
    "collapsed": true
   },
   "outputs": [],
   "source": []
  },
  {
   "cell_type": "code",
   "execution_count": null,
   "metadata": {
    "collapsed": true
   },
   "outputs": [],
   "source": []
  },
  {
   "cell_type": "code",
   "execution_count": 63,
   "metadata": {
    "collapsed": false,
    "scrolled": true
   },
   "outputs": [
    {
     "data": {
      "text/html": [
       "<div>\n",
       "<style scoped>\n",
       "    .dataframe tbody tr th:only-of-type {\n",
       "        vertical-align: middle;\n",
       "    }\n",
       "\n",
       "    .dataframe tbody tr th {\n",
       "        vertical-align: top;\n",
       "    }\n",
       "\n",
       "    .dataframe thead th {\n",
       "        text-align: right;\n",
       "    }\n",
       "</style>\n",
       "<table border=\"1\" class=\"dataframe\">\n",
       "  <thead>\n",
       "    <tr style=\"text-align: right;\">\n",
       "      <th></th>\n",
       "      <th>invited</th>\n",
       "      <th>day</th>\n",
       "      <th>month</th>\n",
       "      <th>weekday</th>\n",
       "      <th>date</th>\n",
       "      <th>user_cf_dis</th>\n",
       "      <th>event_cf_dis</th>\n",
       "      <th>user_cf_reco</th>\n",
       "      <th>event_cf_reco</th>\n",
       "      <th>events_yes_num</th>\n",
       "      <th>events_all_num</th>\n",
       "      <th>users_freds_num</th>\n",
       "    </tr>\n",
       "  </thead>\n",
       "  <tbody>\n",
       "    <tr>\n",
       "      <th>15398</th>\n",
       "      <td>0</td>\n",
       "      <td>1.966667</td>\n",
       "      <td>1.875</td>\n",
       "      <td>1.666667</td>\n",
       "      <td>1.947598</td>\n",
       "      <td>1.0</td>\n",
       "      <td>1.0</td>\n",
       "      <td>1.0</td>\n",
       "      <td>1.0</td>\n",
       "      <td>1.0061</td>\n",
       "      <td>1.0107</td>\n",
       "      <td>1.089686</td>\n",
       "    </tr>\n",
       "    <tr>\n",
       "      <th>15399</th>\n",
       "      <td>0</td>\n",
       "      <td>1.966667</td>\n",
       "      <td>1.875</td>\n",
       "      <td>1.666667</td>\n",
       "      <td>1.947598</td>\n",
       "      <td>1.0</td>\n",
       "      <td>1.0</td>\n",
       "      <td>1.0</td>\n",
       "      <td>1.0</td>\n",
       "      <td>1.0018</td>\n",
       "      <td>1.0104</td>\n",
       "      <td>1.089686</td>\n",
       "    </tr>\n",
       "    <tr>\n",
       "      <th>15400</th>\n",
       "      <td>0</td>\n",
       "      <td>1.966667</td>\n",
       "      <td>1.875</td>\n",
       "      <td>1.666667</td>\n",
       "      <td>1.947598</td>\n",
       "      <td>1.0</td>\n",
       "      <td>1.0</td>\n",
       "      <td>1.0</td>\n",
       "      <td>1.0</td>\n",
       "      <td>1.0026</td>\n",
       "      <td>1.0085</td>\n",
       "      <td>1.089686</td>\n",
       "    </tr>\n",
       "    <tr>\n",
       "      <th>15401</th>\n",
       "      <td>0</td>\n",
       "      <td>1.966667</td>\n",
       "      <td>1.875</td>\n",
       "      <td>1.666667</td>\n",
       "      <td>1.947598</td>\n",
       "      <td>1.0</td>\n",
       "      <td>1.0</td>\n",
       "      <td>1.0</td>\n",
       "      <td>1.0</td>\n",
       "      <td>1.0031</td>\n",
       "      <td>1.0100</td>\n",
       "      <td>1.089686</td>\n",
       "    </tr>\n",
       "    <tr>\n",
       "      <th>15402</th>\n",
       "      <td>0</td>\n",
       "      <td>1.966667</td>\n",
       "      <td>1.875</td>\n",
       "      <td>1.666667</td>\n",
       "      <td>1.947598</td>\n",
       "      <td>1.0</td>\n",
       "      <td>1.0</td>\n",
       "      <td>1.0</td>\n",
       "      <td>1.0</td>\n",
       "      <td>1.0021</td>\n",
       "      <td>1.0076</td>\n",
       "      <td>1.089686</td>\n",
       "    </tr>\n",
       "  </tbody>\n",
       "</table>\n",
       "</div>"
      ],
      "text/plain": [
       "       invited       day  month   weekday      date  user_cf_dis  \\\n",
       "15398        0  1.966667  1.875  1.666667  1.947598          1.0   \n",
       "15399        0  1.966667  1.875  1.666667  1.947598          1.0   \n",
       "15400        0  1.966667  1.875  1.666667  1.947598          1.0   \n",
       "15401        0  1.966667  1.875  1.666667  1.947598          1.0   \n",
       "15402        0  1.966667  1.875  1.666667  1.947598          1.0   \n",
       "\n",
       "       event_cf_dis  user_cf_reco  event_cf_reco  events_yes_num  \\\n",
       "15398           1.0           1.0            1.0          1.0061   \n",
       "15399           1.0           1.0            1.0          1.0018   \n",
       "15400           1.0           1.0            1.0          1.0026   \n",
       "15401           1.0           1.0            1.0          1.0031   \n",
       "15402           1.0           1.0            1.0          1.0021   \n",
       "\n",
       "       events_all_num  users_freds_num  \n",
       "15398          1.0107         1.089686  \n",
       "15399          1.0104         1.089686  \n",
       "15400          1.0085         1.089686  \n",
       "15401          1.0100         1.089686  \n",
       "15402          1.0076         1.089686  "
      ]
     },
     "execution_count": 63,
     "metadata": {},
     "output_type": "execute_result"
    }
   ],
   "source": [
    "X_test = test.drop(['event', 'user', 'interested', 'not_interested','user_id','event_id'],axis=1)\n",
    "xgtestn = xgb.DMatrix(X_test, )\n",
    "\n",
    "X_test[:5]"
   ]
  },
  {
   "cell_type": "code",
   "execution_count": 64,
   "metadata": {
    "collapsed": false
   },
   "outputs": [
    {
     "data": {
      "text/plain": [
       "invited            1.000000e+00\n",
       "day                2.000000e+00\n",
       "month              2.000000e+00\n",
       "weekday            2.000000e+00\n",
       "date               2.000000e+00\n",
       "user_cf_dis        2.165430e+00\n",
       "event_cf_dis       1.999917e+00\n",
       "user_cf_reco       2.170313e+00\n",
       "event_cf_reco      1.050840e+16\n",
       "events_yes_num     2.000000e+00\n",
       "events_all_num     2.000000e+00\n",
       "users_freds_num    2.000000e+00\n",
       "dtype: float64"
      ]
     },
     "execution_count": 64,
     "metadata": {},
     "output_type": "execute_result"
    }
   ],
   "source": [
    "X_train.max()"
   ]
  },
  {
   "cell_type": "code",
   "execution_count": 65,
   "metadata": {
    "collapsed": false
   },
   "outputs": [
    {
     "data": {
      "text/plain": [
       "invited            1.000000\n",
       "day                2.000000\n",
       "month              2.000000\n",
       "weekday            2.000000\n",
       "date               2.000000\n",
       "user_cf_dis        1.529412\n",
       "event_cf_dis       1.000000\n",
       "user_cf_reco       1.000000\n",
       "event_cf_reco      1.000000\n",
       "events_yes_num     1.980300\n",
       "events_all_num     2.000000\n",
       "users_freds_num    1.988993\n",
       "dtype: float64"
      ]
     },
     "execution_count": 65,
     "metadata": {},
     "output_type": "execute_result"
    }
   ],
   "source": [
    "X_test.max()"
   ]
  },
  {
   "cell_type": "code",
   "execution_count": 66,
   "metadata": {
    "collapsed": true
   },
   "outputs": [],
   "source": [
    "train_preds = xgb_train.predict(xgtrain)"
   ]
  },
  {
   "cell_type": "code",
   "execution_count": 67,
   "metadata": {
    "collapsed": false
   },
   "outputs": [],
   "source": [
    "test_preds = xgb_train.predict(xgtestn)\n"
   ]
  },
  {
   "cell_type": "code",
   "execution_count": 68,
   "metadata": {
    "collapsed": false
   },
   "outputs": [
    {
     "data": {
      "text/plain": [
       "(0.99998331, 0.025548982)"
      ]
     },
     "execution_count": 68,
     "metadata": {},
     "output_type": "execute_result"
    }
   ],
   "source": [
    "train_preds.max(), test_preds.max()"
   ]
  },
  {
   "cell_type": "code",
   "execution_count": 69,
   "metadata": {
    "collapsed": false
   },
   "outputs": [
    {
     "data": {
      "text/html": [
       "<div>\n",
       "<style scoped>\n",
       "    .dataframe tbody tr th:only-of-type {\n",
       "        vertical-align: middle;\n",
       "    }\n",
       "\n",
       "    .dataframe tbody tr th {\n",
       "        vertical-align: top;\n",
       "    }\n",
       "\n",
       "    .dataframe thead th {\n",
       "        text-align: right;\n",
       "    }\n",
       "</style>\n",
       "<table border=\"1\" class=\"dataframe\">\n",
       "  <thead>\n",
       "    <tr style=\"text-align: right;\">\n",
       "      <th></th>\n",
       "      <th>user</th>\n",
       "      <th>event</th>\n",
       "      <th>pred</th>\n",
       "    </tr>\n",
       "    <tr>\n",
       "      <th>user</th>\n",
       "      <th></th>\n",
       "      <th></th>\n",
       "      <th></th>\n",
       "    </tr>\n",
       "  </thead>\n",
       "  <tbody>\n",
       "    <tr>\n",
       "      <th>1776192</th>\n",
       "      <td>1776192</td>\n",
       "      <td>2877501688</td>\n",
       "      <td>0.000272</td>\n",
       "    </tr>\n",
       "    <tr>\n",
       "      <th>1776192</th>\n",
       "      <td>1776192</td>\n",
       "      <td>3025444328</td>\n",
       "      <td>0.000272</td>\n",
       "    </tr>\n",
       "    <tr>\n",
       "      <th>1776192</th>\n",
       "      <td>1776192</td>\n",
       "      <td>4078218285</td>\n",
       "      <td>0.000272</td>\n",
       "    </tr>\n",
       "    <tr>\n",
       "      <th>1776192</th>\n",
       "      <td>1776192</td>\n",
       "      <td>1024025121</td>\n",
       "      <td>0.000272</td>\n",
       "    </tr>\n",
       "    <tr>\n",
       "      <th>1776192</th>\n",
       "      <td>1776192</td>\n",
       "      <td>2972428928</td>\n",
       "      <td>0.000272</td>\n",
       "    </tr>\n",
       "  </tbody>\n",
       "</table>\n",
       "</div>"
      ],
      "text/plain": [
       "            user       event      pred\n",
       "user                                  \n",
       "1776192  1776192  2877501688  0.000272\n",
       "1776192  1776192  3025444328  0.000272\n",
       "1776192  1776192  4078218285  0.000272\n",
       "1776192  1776192  1024025121  0.000272\n",
       "1776192  1776192  2972428928  0.000272"
      ]
     },
     "execution_count": 69,
     "metadata": {},
     "output_type": "execute_result"
    }
   ],
   "source": [
    "user_event = test.loc[:,['user','event']].copy()\n",
    "user_event.index = test['user']\n",
    "user_event['pred'] = test_preds\n",
    "user_event[:5]"
   ]
  },
  {
   "cell_type": "code",
   "execution_count": 70,
   "metadata": {
    "collapsed": false
   },
   "outputs": [],
   "source": [
    "submission = pd.Series(index = set(user_event.index),)\n",
    "for u in set(user_event.index):\n",
    "    data_tmp = user_event.loc[u,:]\n",
    "    event_tmp = pd.Series(data_tmp['pred'].values, index = data_tmp['event'].values)\n",
    "    events = event_tmp.sort_values(ascending=False).index.values\n",
    "    submission[u] = ' '.join(events.astype(np.str))"
   ]
  },
  {
   "cell_type": "code",
   "execution_count": 71,
   "metadata": {
    "collapsed": false,
    "scrolled": true
   },
   "outputs": [
    {
     "data": {
      "text/plain": [
       "2686965763    940261225 2103350077 1335898508 3546861867 270...\n",
       "629450757     955398943 2529072432 2093319113 3655295959 260...\n",
       "511678471     955398943 1138354613 1600413013 1557387709 157...\n",
       "3730114567    2973911742 1628013431 569253671 268816201 1302...\n",
       "2678956041    834360181 3118576636 2235916835 4130552113 921...\n",
       "4180064266    2102453106 2180806657 2658555390 2658555390 71...\n",
       "4095465484    172445691 569616021 814858005 2130383503 17489...\n",
       "2872854546    955398943 457253413 2980258101 2392886869 7906...\n",
       "3270633490    1269035551 2007279414 4244463632 3309338938 67...\n",
       "666374166     786960145 2407779614 899115709 1944996876 2052...\n",
       "1753157654    252715505 1536770720 4073937824 2974348707 410...\n",
       "3329238167    401945277 3429610508 3323634350 1882674933 313...\n",
       "1645299738    2007279414 2073609284 3950589515 2149464820 12...\n",
       "3264469018    4074266568 4258255746 2350143315 389608207 169...\n",
       "2371436573    2529072432 861118590 1716825317 656598905 7947...\n",
       "1551265824           3981414613 997119679 1536783222 2881298816\n",
       "770336801     1270020700 2007279414 1269035551 1203717384 21...\n",
       "1618153505    4002798045 2132888830 1838843061 2205661933 12...\n",
       "3969445925    955398943 2529072432 3632072502 1532377761 139...\n",
       "1949308966    2529072432 861118590 1013377163 1630977665 365...\n",
       "867285031     1638236770 2842298652 3040656299 1734883207 15...\n",
       "1154164776    1404500601 3462111166 2219144892 2166119628 26...\n",
       "3951036457    3390709812 863159725 4234138929 1652798666 315...\n",
       "917166122     4089322861 1965364019 1982116608 4209606131 39...\n",
       "3387377708    1319886393 159721752 378442814 3128414020 1674...\n",
       "3275450415    915339846 681532729 3312755383 1494587743 2167...\n",
       "3954972720    1198964954 3559606266 1884840556 516701061 392...\n",
       "851286067     3770815990 2912359758 688975255 1382852410 134...\n",
       "3231170614    3929507420 1205670273 496131340 3830416827 574...\n",
       "1428101175    2529072432 4193610911 1600413013 738643299 190...\n",
       "                                    ...                        \n",
       "3908243396    2938074786 826943401 1641436512 626269042 3222...\n",
       "1485684679    3864843980 3790866767 1630022509 3697359735 27...\n",
       "3749087176    1347399160 3948658168 3045260404 1826801459 39...\n",
       "4166294065    1104384354 495087397 3860330975 2912638473 360...\n",
       "1260240845    72576587 3677554347 3883069165 2512804658 2691...\n",
       "656664529     2529072432 705007381 1517488130 844299203 2763...\n",
       "1473654738    1076364848 2007279414 1816813281 2149464820 12...\n",
       "2528421842    1850381877 3515917616 2891562029 3266931065 29...\n",
       "665747414           2167106569 3761092488 2305662938 1901044782\n",
       "3110356955    2806565970 2828969498 1065552764 2876844499 18...\n",
       "2875543516    681219745 2878945881 1084602359 552686696 7056...\n",
       "2906437598    955398943 907302600 2643833505 1361307272 7976...\n",
       "4159195102    955398943 2529072432 2643833505 771676713 1600...\n",
       "3445686240    834360181 2153037761 3289683998 2245953972 349...\n",
       "431992802     4128174743 2659763559 2753607556 3222968781 33...\n",
       "1407547363    411731753 125448533 1195876739 3951901113 1195...\n",
       "3808055269    4192032295 2355213982 2005730896 1985745362 42...\n",
       "4217391078    642644408 2145977549 1332759137 1704179171 186...\n",
       "2362718183    2402634095 1270020700 810618772 1465929077 398...\n",
       "635387882     423625913 2025136511 3926217735 1214944988 195...\n",
       "1084319722    2639741116 1047008495 692075109 1371103064 330...\n",
       "687595500     622943286 1232655838 2301324542 2761684874 427...\n",
       "2610677742    997119679 3981414613 122777568 1536783222 2220...\n",
       "1815513076    1231053829 3714846142 2158886392 2144335101 77...\n",
       "885331957     4215173213 955002198 1162004917 1649692139 250...\n",
       "3358691318    955398943 1390707377 3632072502 1532377761 252...\n",
       "74504185      955398943 907302600 2529072432 1361307272 7716...\n",
       "3421026299    1386351230 3130403537 2325712717 677512784 475...\n",
       "3627636732    353933726 2639741116 3094078712 1189597031 325...\n",
       "3937992703    2803195749 4140154751 915403718 1036961928 196...\n",
       "Length: 1357, dtype: object"
      ]
     },
     "execution_count": 71,
     "metadata": {},
     "output_type": "execute_result"
    }
   ],
   "source": [
    "submission"
   ]
  },
  {
   "cell_type": "code",
   "execution_count": 76,
   "metadata": {
    "collapsed": false
   },
   "outputs": [],
   "source": [
    "submission.to_csv(tmp_dpath+'submission.csv')"
   ]
  },
  {
   "cell_type": "code",
   "execution_count": 28,
   "metadata": {
    "collapsed": false,
    "scrolled": true
   },
   "outputs": [
    {
     "name": "stdout",
     "output_type": "stream",
     "text": [
      "invited \t 0.556743988549\n",
      "day \t -0.626827364025\n",
      "month \t -3.12328376375\n",
      "weekday \t 0.827367955752\n",
      "date \t 2.10007720179\n",
      "user_cf_dis \t -41.750450971\n",
      "event_cf_dis \t 22.2571095547\n",
      "user_cf_reco \t 68.520086545\n",
      "events_yes_num \t -1.29234156032\n",
      "events_all_num \t -1.09697376686\n",
      "users_freds_num \t -0.389572682185\n"
     ]
    }
   ],
   "source": [
    "for c,v in zip(X_train.columns, lr.coef_[0], ):\n",
    "    print(c,':',v)"
   ]
  },
  {
   "cell_type": "code",
   "execution_count": null,
   "metadata": {
    "collapsed": true
   },
   "outputs": [],
   "source": []
  },
  {
   "cell_type": "code",
   "execution_count": null,
   "metadata": {
    "collapsed": true
   },
   "outputs": [],
   "source": []
  }
 ],
 "metadata": {
  "anaconda-cloud": {},
  "kernelspec": {
   "display_name": "Python [default]",
   "language": "python",
   "name": "python3"
  },
  "language_info": {
   "codemirror_mode": {
    "name": "ipython",
    "version": 3
   },
   "file_extension": ".py",
   "mimetype": "text/x-python",
   "name": "python",
   "nbconvert_exporter": "python",
   "pygments_lexer": "ipython3",
   "version": "3.5.2"
  },
  "toc": {
   "nav_menu": {},
   "number_sections": true,
   "sideBar": true,
   "skip_h1_title": false,
   "title_cell": "Table of Contents",
   "title_sidebar": "Contents",
   "toc_cell": true,
   "toc_position": {
    "height": "773px",
    "left": "0px",
    "right": "658.92px",
    "top": "107px",
    "width": "212px"
   },
   "toc_section_display": "block",
   "toc_window_display": true
  }
 },
 "nbformat": 4,
 "nbformat_minor": 2
}
