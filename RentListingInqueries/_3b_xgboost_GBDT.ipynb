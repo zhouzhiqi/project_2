{
 "cells": [
  {
   "cell_type": "markdown",
   "metadata": {
    "toc": true
   },
   "source": [
    "<h1>Table of Contents<span class=\"tocSkip\"></span></h1>\n",
    "<div class=\"toc\"><ul class=\"toc-item\"><li><span><a href=\"#XGboost调参\" data-toc-modified-id=\"XGboost调参-1\"><span class=\"toc-item-num\">1&nbsp;&nbsp;</span>XGboost调参</a></span></li><li><span><a href=\"#导入工具包\" data-toc-modified-id=\"导入工具包-2\"><span class=\"toc-item-num\">2&nbsp;&nbsp;</span>导入工具包</a></span></li><li><span><a href=\"#读取数据\" data-toc-modified-id=\"读取数据-3\"><span class=\"toc-item-num\">3&nbsp;&nbsp;</span>读取数据</a></span></li><li><span><a href=\"#分割数据\" data-toc-modified-id=\"分割数据-4\"><span class=\"toc-item-num\">4&nbsp;&nbsp;</span>分割数据</a></span><ul class=\"toc-item\"><li><span><a href=\"#数据量太大,分割数据\" data-toc-modified-id=\"数据量太大,分割数据-4.1\"><span class=\"toc-item-num\">4.1&nbsp;&nbsp;</span>数据量太大,分割数据</a></span></li></ul></li><li><span><a href=\"#XGboost调参\" data-toc-modified-id=\"XGboost调参-5\"><span class=\"toc-item-num\">5&nbsp;&nbsp;</span>XGboost调参</a></span><ul class=\"toc-item\"><li><span><a href=\"#初步确定n_estimators\" data-toc-modified-id=\"初步确定n_estimators-5.1\"><span class=\"toc-item-num\">5.1&nbsp;&nbsp;</span>初步确定n_estimators</a></span></li><li><span><a href=\"#初步确定'max_depth'-and-'min_child_weight'\" data-toc-modified-id=\"初步确定'max_depth'-and-'min_child_weight'-5.2\"><span class=\"toc-item-num\">5.2&nbsp;&nbsp;</span>初步确定'max_depth' and 'min_child_weight'</a></span></li><li><span><a href=\"#再次确定'max_depth'-and-'min_child_weight'\" data-toc-modified-id=\"再次确定'max_depth'-and-'min_child_weight'-5.3\"><span class=\"toc-item-num\">5.3&nbsp;&nbsp;</span>再次确定'max_depth' and 'min_child_weight'</a></span></li><li><span><a href=\"#再次确定n_estimators\" data-toc-modified-id=\"再次确定n_estimators-5.4\"><span class=\"toc-item-num\">5.4&nbsp;&nbsp;</span>再次确定n_estimators</a></span></li><li><span><a href=\"#行列采样\" data-toc-modified-id=\"行列采样-5.5\"><span class=\"toc-item-num\">5.5&nbsp;&nbsp;</span>行列采样</a></span></li><li><span><a href=\"#初步设置正则参数\" data-toc-modified-id=\"初步设置正则参数-5.6\"><span class=\"toc-item-num\">5.6&nbsp;&nbsp;</span>初步设置正则参数</a></span></li><li><span><a href=\"#最终参数\" data-toc-modified-id=\"最终参数-5.7\"><span class=\"toc-item-num\">5.7&nbsp;&nbsp;</span>最终参数</a></span></li></ul></li><li><span><a href=\"#预测保存\" data-toc-modified-id=\"预测保存-6\"><span class=\"toc-item-num\">6&nbsp;&nbsp;</span>预测保存</a></span></li></ul></div>"
   ]
  },
  {
   "cell_type": "markdown",
   "metadata": {},
   "source": [
    "# XGboost调参"
   ]
  },
  {
   "cell_type": "markdown",
   "metadata": {
    "collapsed": true
   },
   "source": [
    "gbtree参数:\n",
    "    \n",
    "    learning_rate=0.1\n",
    "    n_estimators=1000  (xboost.cv更快)  (复杂度)\n",
    "    \n",
    "    max_depth=range(3,10,2)\n",
    "    min_child_weight=range(1,6,2)   (复杂度)\n",
    "    \n",
    "    reg_alpha=[0.1,1]\n",
    "    reg_lambda=[0.5,1,2]  (正则参数)\n",
    "\n",
    "    subsample=1\n",
    "    colsample_bytree=np.range(0.3,0.7,0.1)\n",
    "    colsample_bylevel=np.range(0.3,0.7,0.1) (推广性)\n",
    "    \n",
    "固定参数:\n",
    "    \n",
    "    objective=multi:softprob\n",
    "    eval_metric=mlogloss\n",
    "    seed=33\n",
    "    \n",
    "    booster=gbtree\n",
    "    silent=1\n",
    "    nthread=-1\n",
    "    "
   ]
  },
  {
   "cell_type": "markdown",
   "metadata": {},
   "source": [
    "# 导入工具包"
   ]
  },
  {
   "cell_type": "code",
   "execution_count": 130,
   "metadata": {
    "ExecuteTime": {
     "end_time": "2018-02-22T07:13:21.600000Z",
     "start_time": "2018-02-22T07:13:21.584000Z"
    },
    "collapsed": true
   },
   "outputs": [],
   "source": [
    "from xgboost import XGBClassifier\n",
    "import xgboost as xgb\n",
    "\n",
    "from sklearn.model_selection import GridSearchCV\n",
    "from sklearn.model_selection import StratifiedKFold\n",
    "\n",
    "from sklearn.metrics import log_loss\n",
    "# 数据导入与处理\n",
    "import numpy as np\n",
    "import pandas as pd\n",
    "# 数据可视化\n",
    "import matplotlib.pyplot as plt\n",
    "import seaborn as sns\n"
   ]
  },
  {
   "cell_type": "markdown",
   "metadata": {},
   "source": [
    "# 读取数据"
   ]
  },
  {
   "cell_type": "code",
   "execution_count": 131,
   "metadata": {
    "ExecuteTime": {
     "end_time": "2018-02-22T07:13:22.580000Z",
     "start_time": "2018-02-22T07:13:21.603000Z"
    }
   },
   "outputs": [
    {
     "data": {
      "text/html": [
       "<div>\n",
       "<style scoped>\n",
       "    .dataframe tbody tr th:only-of-type {\n",
       "        vertical-align: middle;\n",
       "    }\n",
       "\n",
       "    .dataframe tbody tr th {\n",
       "        vertical-align: top;\n",
       "    }\n",
       "\n",
       "    .dataframe thead th {\n",
       "        text-align: right;\n",
       "    }\n",
       "</style>\n",
       "<table border=\"1\" class=\"dataframe\">\n",
       "  <thead>\n",
       "    <tr style=\"text-align: right;\">\n",
       "      <th></th>\n",
       "      <th>bathrooms</th>\n",
       "      <th>bedrooms</th>\n",
       "      <th>price</th>\n",
       "      <th>price_bathrooms</th>\n",
       "      <th>price_bedrooms</th>\n",
       "      <th>room_diff</th>\n",
       "      <th>room_num</th>\n",
       "      <th>Year</th>\n",
       "      <th>Month</th>\n",
       "      <th>Day</th>\n",
       "      <th>...</th>\n",
       "      <th>walk</th>\n",
       "      <th>walls</th>\n",
       "      <th>war</th>\n",
       "      <th>washer</th>\n",
       "      <th>water</th>\n",
       "      <th>wheelchair</th>\n",
       "      <th>wifi</th>\n",
       "      <th>windows</th>\n",
       "      <th>work</th>\n",
       "      <th>interest_level</th>\n",
       "    </tr>\n",
       "  </thead>\n",
       "  <tbody>\n",
       "    <tr>\n",
       "      <th>0</th>\n",
       "      <td>1.5</td>\n",
       "      <td>3</td>\n",
       "      <td>3000</td>\n",
       "      <td>1200.0</td>\n",
       "      <td>750.000000</td>\n",
       "      <td>-1.5</td>\n",
       "      <td>4.5</td>\n",
       "      <td>2016</td>\n",
       "      <td>6</td>\n",
       "      <td>24</td>\n",
       "      <td>...</td>\n",
       "      <td>0</td>\n",
       "      <td>0</td>\n",
       "      <td>0</td>\n",
       "      <td>0</td>\n",
       "      <td>0</td>\n",
       "      <td>0</td>\n",
       "      <td>0</td>\n",
       "      <td>0</td>\n",
       "      <td>0</td>\n",
       "      <td>1</td>\n",
       "    </tr>\n",
       "    <tr>\n",
       "      <th>1</th>\n",
       "      <td>1.0</td>\n",
       "      <td>2</td>\n",
       "      <td>5465</td>\n",
       "      <td>2732.5</td>\n",
       "      <td>1821.666667</td>\n",
       "      <td>-1.0</td>\n",
       "      <td>3.0</td>\n",
       "      <td>2016</td>\n",
       "      <td>6</td>\n",
       "      <td>12</td>\n",
       "      <td>...</td>\n",
       "      <td>0</td>\n",
       "      <td>0</td>\n",
       "      <td>0</td>\n",
       "      <td>0</td>\n",
       "      <td>0</td>\n",
       "      <td>0</td>\n",
       "      <td>0</td>\n",
       "      <td>0</td>\n",
       "      <td>0</td>\n",
       "      <td>2</td>\n",
       "    </tr>\n",
       "    <tr>\n",
       "      <th>2</th>\n",
       "      <td>1.0</td>\n",
       "      <td>1</td>\n",
       "      <td>2850</td>\n",
       "      <td>1425.0</td>\n",
       "      <td>1425.000000</td>\n",
       "      <td>0.0</td>\n",
       "      <td>2.0</td>\n",
       "      <td>2016</td>\n",
       "      <td>4</td>\n",
       "      <td>17</td>\n",
       "      <td>...</td>\n",
       "      <td>0</td>\n",
       "      <td>0</td>\n",
       "      <td>0</td>\n",
       "      <td>0</td>\n",
       "      <td>0</td>\n",
       "      <td>0</td>\n",
       "      <td>0</td>\n",
       "      <td>0</td>\n",
       "      <td>0</td>\n",
       "      <td>0</td>\n",
       "    </tr>\n",
       "    <tr>\n",
       "      <th>3</th>\n",
       "      <td>1.0</td>\n",
       "      <td>1</td>\n",
       "      <td>3275</td>\n",
       "      <td>1637.5</td>\n",
       "      <td>1637.500000</td>\n",
       "      <td>0.0</td>\n",
       "      <td>2.0</td>\n",
       "      <td>2016</td>\n",
       "      <td>4</td>\n",
       "      <td>18</td>\n",
       "      <td>...</td>\n",
       "      <td>0</td>\n",
       "      <td>0</td>\n",
       "      <td>0</td>\n",
       "      <td>0</td>\n",
       "      <td>0</td>\n",
       "      <td>0</td>\n",
       "      <td>0</td>\n",
       "      <td>0</td>\n",
       "      <td>0</td>\n",
       "      <td>2</td>\n",
       "    </tr>\n",
       "    <tr>\n",
       "      <th>4</th>\n",
       "      <td>1.0</td>\n",
       "      <td>4</td>\n",
       "      <td>3350</td>\n",
       "      <td>1675.0</td>\n",
       "      <td>670.000000</td>\n",
       "      <td>-3.0</td>\n",
       "      <td>5.0</td>\n",
       "      <td>2016</td>\n",
       "      <td>4</td>\n",
       "      <td>28</td>\n",
       "      <td>...</td>\n",
       "      <td>0</td>\n",
       "      <td>0</td>\n",
       "      <td>1</td>\n",
       "      <td>0</td>\n",
       "      <td>0</td>\n",
       "      <td>0</td>\n",
       "      <td>0</td>\n",
       "      <td>0</td>\n",
       "      <td>0</td>\n",
       "      <td>2</td>\n",
       "    </tr>\n",
       "  </tbody>\n",
       "</table>\n",
       "<p>5 rows × 228 columns</p>\n",
       "</div>"
      ],
      "text/plain": [
       "   bathrooms  bedrooms  price  price_bathrooms  price_bedrooms  room_diff  \\\n",
       "0        1.5         3   3000           1200.0      750.000000       -1.5   \n",
       "1        1.0         2   5465           2732.5     1821.666667       -1.0   \n",
       "2        1.0         1   2850           1425.0     1425.000000        0.0   \n",
       "3        1.0         1   3275           1637.5     1637.500000        0.0   \n",
       "4        1.0         4   3350           1675.0      670.000000       -3.0   \n",
       "\n",
       "   room_num  Year  Month  Day       ...        walk  walls  war  washer  \\\n",
       "0       4.5  2016      6   24       ...           0      0    0       0   \n",
       "1       3.0  2016      6   12       ...           0      0    0       0   \n",
       "2       2.0  2016      4   17       ...           0      0    0       0   \n",
       "3       2.0  2016      4   18       ...           0      0    0       0   \n",
       "4       5.0  2016      4   28       ...           0      0    1       0   \n",
       "\n",
       "   water  wheelchair  wifi  windows  work  interest_level  \n",
       "0      0           0     0        0     0               1  \n",
       "1      0           0     0        0     0               2  \n",
       "2      0           0     0        0     0               0  \n",
       "3      0           0     0        0     0               2  \n",
       "4      0           0     0        0     0               2  \n",
       "\n",
       "[5 rows x 228 columns]"
      ]
     },
     "execution_count": 131,
     "metadata": {},
     "output_type": "execute_result"
    }
   ],
   "source": [
    "# 课程网站提供的特征工程编码后的数据（RentListingInquries_FE_train.csv）\n",
    "# 或稀疏编码的形式（RentListingInquries_FE_train.bin）\n",
    "dpath = 'E:/AI/00/data/RentListingInquries/'\n",
    "train = pd.read_csv(dpath+'RentListingInquries_FE_train.csv')\n",
    "train.head()"
   ]
  },
  {
   "cell_type": "code",
   "execution_count": 132,
   "metadata": {
    "ExecuteTime": {
     "end_time": "2018-02-22T07:13:23.896000Z",
     "start_time": "2018-02-22T07:13:22.582000Z"
    }
   },
   "outputs": [
    {
     "data": {
      "text/html": [
       "<div>\n",
       "<style scoped>\n",
       "    .dataframe tbody tr th:only-of-type {\n",
       "        vertical-align: middle;\n",
       "    }\n",
       "\n",
       "    .dataframe tbody tr th {\n",
       "        vertical-align: top;\n",
       "    }\n",
       "\n",
       "    .dataframe thead th {\n",
       "        text-align: right;\n",
       "    }\n",
       "</style>\n",
       "<table border=\"1\" class=\"dataframe\">\n",
       "  <thead>\n",
       "    <tr style=\"text-align: right;\">\n",
       "      <th></th>\n",
       "      <th>bathrooms</th>\n",
       "      <th>bedrooms</th>\n",
       "      <th>price</th>\n",
       "      <th>price_bathrooms</th>\n",
       "      <th>price_bedrooms</th>\n",
       "      <th>room_diff</th>\n",
       "      <th>room_num</th>\n",
       "      <th>Year</th>\n",
       "      <th>Month</th>\n",
       "      <th>Day</th>\n",
       "      <th>...</th>\n",
       "      <th>virtual</th>\n",
       "      <th>walk</th>\n",
       "      <th>walls</th>\n",
       "      <th>war</th>\n",
       "      <th>washer</th>\n",
       "      <th>water</th>\n",
       "      <th>wheelchair</th>\n",
       "      <th>wifi</th>\n",
       "      <th>windows</th>\n",
       "      <th>work</th>\n",
       "    </tr>\n",
       "  </thead>\n",
       "  <tbody>\n",
       "    <tr>\n",
       "      <th>0</th>\n",
       "      <td>1.0</td>\n",
       "      <td>1</td>\n",
       "      <td>2950</td>\n",
       "      <td>1475.000000</td>\n",
       "      <td>1475.000000</td>\n",
       "      <td>0.0</td>\n",
       "      <td>2.0</td>\n",
       "      <td>2016</td>\n",
       "      <td>6</td>\n",
       "      <td>11</td>\n",
       "      <td>...</td>\n",
       "      <td>0</td>\n",
       "      <td>0</td>\n",
       "      <td>0</td>\n",
       "      <td>0</td>\n",
       "      <td>0</td>\n",
       "      <td>0</td>\n",
       "      <td>0</td>\n",
       "      <td>0</td>\n",
       "      <td>0</td>\n",
       "      <td>0</td>\n",
       "    </tr>\n",
       "    <tr>\n",
       "      <th>1</th>\n",
       "      <td>1.0</td>\n",
       "      <td>2</td>\n",
       "      <td>2850</td>\n",
       "      <td>1425.000000</td>\n",
       "      <td>950.000000</td>\n",
       "      <td>-1.0</td>\n",
       "      <td>3.0</td>\n",
       "      <td>2016</td>\n",
       "      <td>6</td>\n",
       "      <td>24</td>\n",
       "      <td>...</td>\n",
       "      <td>0</td>\n",
       "      <td>0</td>\n",
       "      <td>0</td>\n",
       "      <td>1</td>\n",
       "      <td>0</td>\n",
       "      <td>0</td>\n",
       "      <td>0</td>\n",
       "      <td>0</td>\n",
       "      <td>0</td>\n",
       "      <td>0</td>\n",
       "    </tr>\n",
       "    <tr>\n",
       "      <th>2</th>\n",
       "      <td>1.0</td>\n",
       "      <td>1</td>\n",
       "      <td>3758</td>\n",
       "      <td>1879.000000</td>\n",
       "      <td>1879.000000</td>\n",
       "      <td>0.0</td>\n",
       "      <td>2.0</td>\n",
       "      <td>2016</td>\n",
       "      <td>6</td>\n",
       "      <td>3</td>\n",
       "      <td>...</td>\n",
       "      <td>0</td>\n",
       "      <td>0</td>\n",
       "      <td>0</td>\n",
       "      <td>0</td>\n",
       "      <td>0</td>\n",
       "      <td>0</td>\n",
       "      <td>0</td>\n",
       "      <td>0</td>\n",
       "      <td>0</td>\n",
       "      <td>0</td>\n",
       "    </tr>\n",
       "    <tr>\n",
       "      <th>3</th>\n",
       "      <td>1.0</td>\n",
       "      <td>2</td>\n",
       "      <td>3300</td>\n",
       "      <td>1650.000000</td>\n",
       "      <td>1100.000000</td>\n",
       "      <td>-1.0</td>\n",
       "      <td>3.0</td>\n",
       "      <td>2016</td>\n",
       "      <td>6</td>\n",
       "      <td>11</td>\n",
       "      <td>...</td>\n",
       "      <td>0</td>\n",
       "      <td>0</td>\n",
       "      <td>0</td>\n",
       "      <td>0</td>\n",
       "      <td>0</td>\n",
       "      <td>0</td>\n",
       "      <td>1</td>\n",
       "      <td>0</td>\n",
       "      <td>0</td>\n",
       "      <td>0</td>\n",
       "    </tr>\n",
       "    <tr>\n",
       "      <th>4</th>\n",
       "      <td>2.0</td>\n",
       "      <td>2</td>\n",
       "      <td>4900</td>\n",
       "      <td>1633.333333</td>\n",
       "      <td>1633.333333</td>\n",
       "      <td>0.0</td>\n",
       "      <td>4.0</td>\n",
       "      <td>2016</td>\n",
       "      <td>4</td>\n",
       "      <td>12</td>\n",
       "      <td>...</td>\n",
       "      <td>0</td>\n",
       "      <td>0</td>\n",
       "      <td>0</td>\n",
       "      <td>1</td>\n",
       "      <td>0</td>\n",
       "      <td>0</td>\n",
       "      <td>0</td>\n",
       "      <td>0</td>\n",
       "      <td>0</td>\n",
       "      <td>0</td>\n",
       "    </tr>\n",
       "  </tbody>\n",
       "</table>\n",
       "<p>5 rows × 227 columns</p>\n",
       "</div>"
      ],
      "text/plain": [
       "   bathrooms  bedrooms  price  price_bathrooms  price_bedrooms  room_diff  \\\n",
       "0        1.0         1   2950      1475.000000     1475.000000        0.0   \n",
       "1        1.0         2   2850      1425.000000      950.000000       -1.0   \n",
       "2        1.0         1   3758      1879.000000     1879.000000        0.0   \n",
       "3        1.0         2   3300      1650.000000     1100.000000       -1.0   \n",
       "4        2.0         2   4900      1633.333333     1633.333333        0.0   \n",
       "\n",
       "   room_num  Year  Month  Day  ...   virtual  walk  walls  war  washer  water  \\\n",
       "0       2.0  2016      6   11  ...         0     0      0    0       0      0   \n",
       "1       3.0  2016      6   24  ...         0     0      0    1       0      0   \n",
       "2       2.0  2016      6    3  ...         0     0      0    0       0      0   \n",
       "3       3.0  2016      6   11  ...         0     0      0    0       0      0   \n",
       "4       4.0  2016      4   12  ...         0     0      0    1       0      0   \n",
       "\n",
       "   wheelchair  wifi  windows  work  \n",
       "0           0     0        0     0  \n",
       "1           0     0        0     0  \n",
       "2           0     0        0     0  \n",
       "3           1     0        0     0  \n",
       "4           0     0        0     0  \n",
       "\n",
       "[5 rows x 227 columns]"
      ]
     },
     "execution_count": 132,
     "metadata": {},
     "output_type": "execute_result"
    }
   ],
   "source": [
    "# 测试数据\n",
    "test = pd.read_csv(dpath+'RentListingInquries_FE_test.csv')\n",
    "test.head()"
   ]
  },
  {
   "cell_type": "code",
   "execution_count": 133,
   "metadata": {
    "ExecuteTime": {
     "end_time": "2018-02-22T07:13:24.120000Z",
     "start_time": "2018-02-22T07:13:23.898000Z"
    },
    "scrolled": true
   },
   "outputs": [
    {
     "data": {
      "text/plain": [
       "bathrooms                     0\n",
       "modern                        0\n",
       "month                         0\n",
       "multi                         0\n",
       "natural                       0\n",
       "new                           0\n",
       "newly                         0\n",
       "ok                            0\n",
       "outdoor                       0\n",
       "oversized                     0\n",
       "park                          0\n",
       "parking                       0\n",
       "midrise                       0\n",
       "patio                         0\n",
       "pets                          0\n",
       "photos                        0\n",
       "playroom                      0\n",
       "pool                          0\n",
       "post                          0\n",
       "pre                           0\n",
       "prewar                        0\n",
       "private                       0\n",
       "publicoutdoor                 0\n",
       "queen                         0\n",
       "ramp                          0\n",
       "pet                           0\n",
       "microwave                     0\n",
       "massive                       0\n",
       "marble                        0\n",
       "hi                            0\n",
       "                          ...  \n",
       "dishwasher                    0\n",
       "cable                         0\n",
       "cats                          0\n",
       "ceiling                       0\n",
       "ceilings                      0\n",
       "center                        0\n",
       "central                       0\n",
       "chef                          0\n",
       "children                      0\n",
       "childrens                     0\n",
       "clean                         0\n",
       "cleaning                      0\n",
       "close                         0\n",
       "closet                        0\n",
       "closets                       0\n",
       "club                          0\n",
       "common                        0\n",
       "concierge                     0\n",
       "conditioning                  0\n",
       "construction                  0\n",
       "courtyard                     0\n",
       "deck                          0\n",
       "decorative                    0\n",
       "details                       0\n",
       "dining                        0\n",
       "dogs                          0\n",
       "work                          0\n",
       "display_address_pred_0    74659\n",
       "display_address_pred_1    74659\n",
       "display_address_pred_2    74659\n",
       "Length: 227, dtype: int64"
      ]
     },
     "execution_count": 133,
     "metadata": {},
     "output_type": "execute_result"
    }
   ],
   "source": [
    "test.isnull().sum().sort_values()"
   ]
  },
  {
   "cell_type": "markdown",
   "metadata": {},
   "source": [
    "test中 'display_address_pred_0', 'display_address_pred_1', 'display_address_pred_2' 全部都是nan, 舍弃此特征"
   ]
  },
  {
   "cell_type": "code",
   "execution_count": 134,
   "metadata": {
    "ExecuteTime": {
     "end_time": "2018-02-22T07:13:24.221000Z",
     "start_time": "2018-02-22T07:13:24.122000Z"
    },
    "collapsed": true
   },
   "outputs": [],
   "source": [
    "train.drop(['display_address_pred_0', 'display_address_pred_1', 'display_address_pred_2'], axis=1, inplace=True)\n",
    "test.drop(['display_address_pred_0', 'display_address_pred_1', 'display_address_pred_2'], axis=1, inplace=True)"
   ]
  },
  {
   "cell_type": "markdown",
   "metadata": {},
   "source": [
    "# 分割数据"
   ]
  },
  {
   "cell_type": "code",
   "execution_count": 135,
   "metadata": {
    "ExecuteTime": {
     "end_time": "2018-02-22T07:13:24.318000Z",
     "start_time": "2018-02-22T07:13:24.223000Z"
    }
   },
   "outputs": [
    {
     "data": {
      "image/png": "[encoded data removed]",
      "text/plain": [
       "<matplotlib.figure.Figure at 0x199b3ba8>"
      ]
     },
     "metadata": {},
     "output_type": "display_data"
    }
   ],
   "source": [
    "sns.countplot(train['interest_level'])\n",
    "plt.show()"
   ]
  },
  {
   "cell_type": "markdown",
   "metadata": {},
   "source": [
    "三分类问题, 各分类不均衡"
   ]
  },
  {
   "cell_type": "markdown",
   "metadata": {
    "ExecuteTime": {
     "end_time": "2018-02-22T06:07:53.863000Z",
     "start_time": "2018-02-22T06:07:53.822000Z"
    }
   },
   "source": [
    "## 数据量太大,分割数据\n",
    "train = train.sample(frac=0.3)\n",
    "train.shape"
   ]
  },
  {
   "cell_type": "code",
   "execution_count": 136,
   "metadata": {
    "ExecuteTime": {
     "end_time": "2018-02-22T07:13:24.456000Z",
     "start_time": "2018-02-22T07:13:24.319000Z"
    },
    "collapsed": true
   },
   "outputs": [],
   "source": [
    "# 区分测试集与训练集\n",
    "X = train.drop('interest_level', axis=1)\n",
    "y = train['interest_level']\n",
    "\n",
    "from sklearn.model_selection import train_test_split\n",
    "X_train, X_test, y_train, y_test = train_test_split(X, y\n",
    "    , test_size=0.2\n",
    "    , random_state=33\n",
    "    , stratify=y)"
   ]
  },
  {
   "cell_type": "markdown",
   "metadata": {},
   "source": [
    "# XGboost调参"
   ]
  },
  {
   "cell_type": "markdown",
   "metadata": {},
   "source": [
    "## 初步确定n_estimators"
   ]
  },
  {
   "cell_type": "code",
   "execution_count": 137,
   "metadata": {
    "ExecuteTime": {
     "end_time": "2018-02-22T07:13:24.465000Z",
     "start_time": "2018-02-22T07:13:24.459000Z"
    },
    "collapsed": true
   },
   "outputs": [],
   "source": [
    "xgb1 = XGBClassifier(\n",
    "        learning_rate =0.1,\n",
    "        n_estimators=1000,  #数值大没关系，cv会自动返回合适的n_estimators\n",
    "        max_depth=5,\n",
    "        min_child_weight=1,\n",
    "        gamma=0,\n",
    "        subsample=0.3,\n",
    "        colsample_bytree=0.8,\n",
    "        colsample_bylevel=0.7,\n",
    "        objective= 'multi:softprob',\n",
    "        seed=33)"
   ]
  },
  {
   "cell_type": "code",
   "execution_count": 138,
   "metadata": {
    "ExecuteTime": {
     "end_time": "2018-02-22T07:13:24.725000Z",
     "start_time": "2018-02-22T07:13:24.467000Z"
    },
    "cell_style": "center",
    "collapsed": true
   },
   "outputs": [],
   "source": [
    "xgb_param = xgb1.get_xgb_params()\n",
    "xgb_param['num_class'] = 3\n",
    "xgtrain = xgb.DMatrix(X_train, label = y_train)\n",
    "folds=StratifiedKFold(n_splits=5, shuffle=True, random_state=33)\n"
   ]
  },
  {
   "cell_type": "code",
   "execution_count": 139,
   "metadata": {
    "ExecuteTime": {
     "end_time": "2018-02-22T07:19:01.242000Z",
     "start_time": "2018-02-22T07:13:24.729000Z"
    },
    "scrolled": true
   },
   "outputs": [
    {
     "name": "stdout",
     "output_type": "stream",
     "text": [
      "[0]\ttrain-mlogloss:1.03947\ttest-mlogloss:1.04\n",
      "[10]\ttrain-mlogloss:0.753378\ttest-mlogloss:0.760292\n",
      "[20]\ttrain-mlogloss:0.665939\ttest-mlogloss:0.678356\n",
      "[30]\ttrain-mlogloss:0.630043\ttest-mlogloss:0.647755\n",
      "[40]\ttrain-mlogloss:0.609785\ttest-mlogloss:0.632609\n",
      "[50]\ttrain-mlogloss:0.595897\ttest-mlogloss:0.623064\n",
      "[60]\ttrain-mlogloss:0.584403\ttest-mlogloss:0.616403\n",
      "[70]\ttrain-mlogloss:0.575198\ttest-mlogloss:0.611937\n",
      "[80]\ttrain-mlogloss:0.567548\ttest-mlogloss:0.608564\n",
      "[90]\ttrain-mlogloss:0.560389\ttest-mlogloss:0.606105\n",
      "[100]\ttrain-mlogloss:0.554078\ttest-mlogloss:0.604045\n",
      "[110]\ttrain-mlogloss:0.548103\ttest-mlogloss:0.602198\n",
      "[120]\ttrain-mlogloss:0.542691\ttest-mlogloss:0.6011\n",
      "[130]\ttrain-mlogloss:0.537501\ttest-mlogloss:0.599857\n",
      "[140]\ttrain-mlogloss:0.532637\ttest-mlogloss:0.599127\n",
      "[150]\ttrain-mlogloss:0.528298\ttest-mlogloss:0.598579\n",
      "[160]\ttrain-mlogloss:0.523948\ttest-mlogloss:0.598164\n",
      "[170]\ttrain-mlogloss:0.519305\ttest-mlogloss:0.597398\n",
      "[180]\ttrain-mlogloss:0.515224\ttest-mlogloss:0.597284\n",
      "[190]\ttrain-mlogloss:0.511144\ttest-mlogloss:0.596445\n",
      "[200]\ttrain-mlogloss:0.507097\ttest-mlogloss:0.596329\n",
      "[210]\ttrain-mlogloss:0.503162\ttest-mlogloss:0.596464\n"
     ]
    }
   ],
   "source": [
    "cvresult = xgb.cv(xgb_param\n",
    "                  , xgtrain\n",
    "                  , num_boost_round=1000\n",
    "                  , folds = folds\n",
    "                  , show_stdv=False \n",
    "                  , verbose_eval=10\n",
    "                  , metrics='mlogloss'\n",
    "                  , early_stopping_rounds=10)\n",
    "\n"
   ]
  },
  {
   "cell_type": "code",
   "execution_count": 140,
   "metadata": {
    "ExecuteTime": {
     "end_time": "2018-02-22T07:19:01.279000Z",
     "start_time": "2018-02-22T07:19:01.245000Z"
    },
    "scrolled": true
   },
   "outputs": [
    {
     "data": {
      "text/html": [
       "<div>\n",
       "<style scoped>\n",
       "    .dataframe tbody tr th:only-of-type {\n",
       "        vertical-align: middle;\n",
       "    }\n",
       "\n",
       "    .dataframe tbody tr th {\n",
       "        vertical-align: top;\n",
       "    }\n",
       "\n",
       "    .dataframe thead th {\n",
       "        text-align: right;\n",
       "    }\n",
       "</style>\n",
       "<table border=\"1\" class=\"dataframe\">\n",
       "  <thead>\n",
       "    <tr style=\"text-align: right;\">\n",
       "      <th></th>\n",
       "      <th>test-mlogloss-mean</th>\n",
       "      <th>test-mlogloss-std</th>\n",
       "      <th>train-mlogloss-mean</th>\n",
       "      <th>train-mlogloss-std</th>\n",
       "    </tr>\n",
       "  </thead>\n",
       "  <tbody>\n",
       "    <tr>\n",
       "      <th>0</th>\n",
       "      <td>1.039996</td>\n",
       "      <td>0.000854</td>\n",
       "      <td>1.039470</td>\n",
       "      <td>0.000554</td>\n",
       "    </tr>\n",
       "    <tr>\n",
       "      <th>1</th>\n",
       "      <td>0.990630</td>\n",
       "      <td>0.000781</td>\n",
       "      <td>0.989611</td>\n",
       "      <td>0.000215</td>\n",
       "    </tr>\n",
       "    <tr>\n",
       "      <th>2</th>\n",
       "      <td>0.948461</td>\n",
       "      <td>0.000751</td>\n",
       "      <td>0.946642</td>\n",
       "      <td>0.000458</td>\n",
       "    </tr>\n",
       "    <tr>\n",
       "      <th>3</th>\n",
       "      <td>0.912311</td>\n",
       "      <td>0.000860</td>\n",
       "      <td>0.909724</td>\n",
       "      <td>0.000811</td>\n",
       "    </tr>\n",
       "    <tr>\n",
       "      <th>4</th>\n",
       "      <td>0.881021</td>\n",
       "      <td>0.000125</td>\n",
       "      <td>0.877654</td>\n",
       "      <td>0.000978</td>\n",
       "    </tr>\n",
       "    <tr>\n",
       "      <th>5</th>\n",
       "      <td>0.854047</td>\n",
       "      <td>0.000536</td>\n",
       "      <td>0.850084</td>\n",
       "      <td>0.001498</td>\n",
       "    </tr>\n",
       "    <tr>\n",
       "      <th>6</th>\n",
       "      <td>0.829971</td>\n",
       "      <td>0.000293</td>\n",
       "      <td>0.825420</td>\n",
       "      <td>0.001463</td>\n",
       "    </tr>\n",
       "    <tr>\n",
       "      <th>7</th>\n",
       "      <td>0.809024</td>\n",
       "      <td>0.000378</td>\n",
       "      <td>0.803885</td>\n",
       "      <td>0.001537</td>\n",
       "    </tr>\n",
       "    <tr>\n",
       "      <th>8</th>\n",
       "      <td>0.790582</td>\n",
       "      <td>0.000366</td>\n",
       "      <td>0.784926</td>\n",
       "      <td>0.001580</td>\n",
       "    </tr>\n",
       "    <tr>\n",
       "      <th>9</th>\n",
       "      <td>0.774625</td>\n",
       "      <td>0.000847</td>\n",
       "      <td>0.768334</td>\n",
       "      <td>0.001833</td>\n",
       "    </tr>\n",
       "    <tr>\n",
       "      <th>10</th>\n",
       "      <td>0.760292</td>\n",
       "      <td>0.001132</td>\n",
       "      <td>0.753378</td>\n",
       "      <td>0.001783</td>\n",
       "    </tr>\n",
       "    <tr>\n",
       "      <th>11</th>\n",
       "      <td>0.747649</td>\n",
       "      <td>0.001337</td>\n",
       "      <td>0.740220</td>\n",
       "      <td>0.001843</td>\n",
       "    </tr>\n",
       "    <tr>\n",
       "      <th>12</th>\n",
       "      <td>0.736203</td>\n",
       "      <td>0.001435</td>\n",
       "      <td>0.728260</td>\n",
       "      <td>0.001911</td>\n",
       "    </tr>\n",
       "    <tr>\n",
       "      <th>13</th>\n",
       "      <td>0.726063</td>\n",
       "      <td>0.001715</td>\n",
       "      <td>0.717480</td>\n",
       "      <td>0.002095</td>\n",
       "    </tr>\n",
       "    <tr>\n",
       "      <th>14</th>\n",
       "      <td>0.717140</td>\n",
       "      <td>0.001820</td>\n",
       "      <td>0.707954</td>\n",
       "      <td>0.002210</td>\n",
       "    </tr>\n",
       "    <tr>\n",
       "      <th>15</th>\n",
       "      <td>0.708962</td>\n",
       "      <td>0.001726</td>\n",
       "      <td>0.699079</td>\n",
       "      <td>0.002387</td>\n",
       "    </tr>\n",
       "    <tr>\n",
       "      <th>16</th>\n",
       "      <td>0.701560</td>\n",
       "      <td>0.001722</td>\n",
       "      <td>0.691345</td>\n",
       "      <td>0.002342</td>\n",
       "    </tr>\n",
       "    <tr>\n",
       "      <th>17</th>\n",
       "      <td>0.694925</td>\n",
       "      <td>0.001539</td>\n",
       "      <td>0.684116</td>\n",
       "      <td>0.002092</td>\n",
       "    </tr>\n",
       "    <tr>\n",
       "      <th>18</th>\n",
       "      <td>0.688947</td>\n",
       "      <td>0.001445</td>\n",
       "      <td>0.677510</td>\n",
       "      <td>0.001921</td>\n",
       "    </tr>\n",
       "    <tr>\n",
       "      <th>19</th>\n",
       "      <td>0.683467</td>\n",
       "      <td>0.001280</td>\n",
       "      <td>0.671570</td>\n",
       "      <td>0.001970</td>\n",
       "    </tr>\n",
       "    <tr>\n",
       "      <th>20</th>\n",
       "      <td>0.678356</td>\n",
       "      <td>0.001337</td>\n",
       "      <td>0.665939</td>\n",
       "      <td>0.001864</td>\n",
       "    </tr>\n",
       "    <tr>\n",
       "      <th>21</th>\n",
       "      <td>0.673903</td>\n",
       "      <td>0.001187</td>\n",
       "      <td>0.660912</td>\n",
       "      <td>0.001908</td>\n",
       "    </tr>\n",
       "    <tr>\n",
       "      <th>22</th>\n",
       "      <td>0.669829</td>\n",
       "      <td>0.001079</td>\n",
       "      <td>0.656454</td>\n",
       "      <td>0.001901</td>\n",
       "    </tr>\n",
       "    <tr>\n",
       "      <th>23</th>\n",
       "      <td>0.666315</td>\n",
       "      <td>0.001130</td>\n",
       "      <td>0.652465</td>\n",
       "      <td>0.001811</td>\n",
       "    </tr>\n",
       "    <tr>\n",
       "      <th>24</th>\n",
       "      <td>0.663075</td>\n",
       "      <td>0.001083</td>\n",
       "      <td>0.648711</td>\n",
       "      <td>0.001689</td>\n",
       "    </tr>\n",
       "    <tr>\n",
       "      <th>25</th>\n",
       "      <td>0.659992</td>\n",
       "      <td>0.000987</td>\n",
       "      <td>0.645090</td>\n",
       "      <td>0.001751</td>\n",
       "    </tr>\n",
       "    <tr>\n",
       "      <th>26</th>\n",
       "      <td>0.657007</td>\n",
       "      <td>0.000909</td>\n",
       "      <td>0.641682</td>\n",
       "      <td>0.001814</td>\n",
       "    </tr>\n",
       "    <tr>\n",
       "      <th>27</th>\n",
       "      <td>0.654389</td>\n",
       "      <td>0.001100</td>\n",
       "      <td>0.638398</td>\n",
       "      <td>0.001740</td>\n",
       "    </tr>\n",
       "    <tr>\n",
       "      <th>28</th>\n",
       "      <td>0.651901</td>\n",
       "      <td>0.001105</td>\n",
       "      <td>0.635325</td>\n",
       "      <td>0.001607</td>\n",
       "    </tr>\n",
       "    <tr>\n",
       "      <th>29</th>\n",
       "      <td>0.649641</td>\n",
       "      <td>0.001019</td>\n",
       "      <td>0.632524</td>\n",
       "      <td>0.001659</td>\n",
       "    </tr>\n",
       "    <tr>\n",
       "      <th>...</th>\n",
       "      <td>...</td>\n",
       "      <td>...</td>\n",
       "      <td>...</td>\n",
       "      <td>...</td>\n",
       "    </tr>\n",
       "    <tr>\n",
       "      <th>172</th>\n",
       "      <td>0.597310</td>\n",
       "      <td>0.001880</td>\n",
       "      <td>0.518535</td>\n",
       "      <td>0.000541</td>\n",
       "    </tr>\n",
       "    <tr>\n",
       "      <th>173</th>\n",
       "      <td>0.597223</td>\n",
       "      <td>0.001823</td>\n",
       "      <td>0.518056</td>\n",
       "      <td>0.000491</td>\n",
       "    </tr>\n",
       "    <tr>\n",
       "      <th>174</th>\n",
       "      <td>0.597179</td>\n",
       "      <td>0.001885</td>\n",
       "      <td>0.517519</td>\n",
       "      <td>0.000433</td>\n",
       "    </tr>\n",
       "    <tr>\n",
       "      <th>175</th>\n",
       "      <td>0.597208</td>\n",
       "      <td>0.001882</td>\n",
       "      <td>0.517182</td>\n",
       "      <td>0.000412</td>\n",
       "    </tr>\n",
       "    <tr>\n",
       "      <th>176</th>\n",
       "      <td>0.597258</td>\n",
       "      <td>0.001843</td>\n",
       "      <td>0.516752</td>\n",
       "      <td>0.000385</td>\n",
       "    </tr>\n",
       "    <tr>\n",
       "      <th>177</th>\n",
       "      <td>0.597297</td>\n",
       "      <td>0.001909</td>\n",
       "      <td>0.516342</td>\n",
       "      <td>0.000459</td>\n",
       "    </tr>\n",
       "    <tr>\n",
       "      <th>178</th>\n",
       "      <td>0.597266</td>\n",
       "      <td>0.001844</td>\n",
       "      <td>0.515961</td>\n",
       "      <td>0.000481</td>\n",
       "    </tr>\n",
       "    <tr>\n",
       "      <th>179</th>\n",
       "      <td>0.597226</td>\n",
       "      <td>0.001840</td>\n",
       "      <td>0.515517</td>\n",
       "      <td>0.000544</td>\n",
       "    </tr>\n",
       "    <tr>\n",
       "      <th>180</th>\n",
       "      <td>0.597284</td>\n",
       "      <td>0.001895</td>\n",
       "      <td>0.515224</td>\n",
       "      <td>0.000566</td>\n",
       "    </tr>\n",
       "    <tr>\n",
       "      <th>181</th>\n",
       "      <td>0.597119</td>\n",
       "      <td>0.001823</td>\n",
       "      <td>0.514825</td>\n",
       "      <td>0.000589</td>\n",
       "    </tr>\n",
       "    <tr>\n",
       "      <th>182</th>\n",
       "      <td>0.597101</td>\n",
       "      <td>0.001751</td>\n",
       "      <td>0.514434</td>\n",
       "      <td>0.000548</td>\n",
       "    </tr>\n",
       "    <tr>\n",
       "      <th>183</th>\n",
       "      <td>0.597039</td>\n",
       "      <td>0.001788</td>\n",
       "      <td>0.514032</td>\n",
       "      <td>0.000615</td>\n",
       "    </tr>\n",
       "    <tr>\n",
       "      <th>184</th>\n",
       "      <td>0.596889</td>\n",
       "      <td>0.001846</td>\n",
       "      <td>0.513676</td>\n",
       "      <td>0.000594</td>\n",
       "    </tr>\n",
       "    <tr>\n",
       "      <th>185</th>\n",
       "      <td>0.596822</td>\n",
       "      <td>0.001809</td>\n",
       "      <td>0.513311</td>\n",
       "      <td>0.000741</td>\n",
       "    </tr>\n",
       "    <tr>\n",
       "      <th>186</th>\n",
       "      <td>0.596676</td>\n",
       "      <td>0.001851</td>\n",
       "      <td>0.512915</td>\n",
       "      <td>0.000699</td>\n",
       "    </tr>\n",
       "    <tr>\n",
       "      <th>187</th>\n",
       "      <td>0.596689</td>\n",
       "      <td>0.001925</td>\n",
       "      <td>0.512417</td>\n",
       "      <td>0.000746</td>\n",
       "    </tr>\n",
       "    <tr>\n",
       "      <th>188</th>\n",
       "      <td>0.596624</td>\n",
       "      <td>0.001866</td>\n",
       "      <td>0.511970</td>\n",
       "      <td>0.000666</td>\n",
       "    </tr>\n",
       "    <tr>\n",
       "      <th>189</th>\n",
       "      <td>0.596564</td>\n",
       "      <td>0.001891</td>\n",
       "      <td>0.511617</td>\n",
       "      <td>0.000647</td>\n",
       "    </tr>\n",
       "    <tr>\n",
       "      <th>190</th>\n",
       "      <td>0.596445</td>\n",
       "      <td>0.001878</td>\n",
       "      <td>0.511144</td>\n",
       "      <td>0.000616</td>\n",
       "    </tr>\n",
       "    <tr>\n",
       "      <th>191</th>\n",
       "      <td>0.596350</td>\n",
       "      <td>0.001837</td>\n",
       "      <td>0.510652</td>\n",
       "      <td>0.000614</td>\n",
       "    </tr>\n",
       "    <tr>\n",
       "      <th>192</th>\n",
       "      <td>0.596379</td>\n",
       "      <td>0.001855</td>\n",
       "      <td>0.510183</td>\n",
       "      <td>0.000658</td>\n",
       "    </tr>\n",
       "    <tr>\n",
       "      <th>193</th>\n",
       "      <td>0.596396</td>\n",
       "      <td>0.001870</td>\n",
       "      <td>0.509861</td>\n",
       "      <td>0.000599</td>\n",
       "    </tr>\n",
       "    <tr>\n",
       "      <th>194</th>\n",
       "      <td>0.596437</td>\n",
       "      <td>0.001877</td>\n",
       "      <td>0.509474</td>\n",
       "      <td>0.000686</td>\n",
       "    </tr>\n",
       "    <tr>\n",
       "      <th>195</th>\n",
       "      <td>0.596491</td>\n",
       "      <td>0.001903</td>\n",
       "      <td>0.509045</td>\n",
       "      <td>0.000728</td>\n",
       "    </tr>\n",
       "    <tr>\n",
       "      <th>196</th>\n",
       "      <td>0.596500</td>\n",
       "      <td>0.001917</td>\n",
       "      <td>0.508688</td>\n",
       "      <td>0.000744</td>\n",
       "    </tr>\n",
       "    <tr>\n",
       "      <th>197</th>\n",
       "      <td>0.596474</td>\n",
       "      <td>0.001977</td>\n",
       "      <td>0.508293</td>\n",
       "      <td>0.000724</td>\n",
       "    </tr>\n",
       "    <tr>\n",
       "      <th>198</th>\n",
       "      <td>0.596415</td>\n",
       "      <td>0.001963</td>\n",
       "      <td>0.507861</td>\n",
       "      <td>0.000619</td>\n",
       "    </tr>\n",
       "    <tr>\n",
       "      <th>199</th>\n",
       "      <td>0.596394</td>\n",
       "      <td>0.001944</td>\n",
       "      <td>0.507480</td>\n",
       "      <td>0.000610</td>\n",
       "    </tr>\n",
       "    <tr>\n",
       "      <th>200</th>\n",
       "      <td>0.596329</td>\n",
       "      <td>0.001892</td>\n",
       "      <td>0.507097</td>\n",
       "      <td>0.000522</td>\n",
       "    </tr>\n",
       "    <tr>\n",
       "      <th>201</th>\n",
       "      <td>0.596279</td>\n",
       "      <td>0.001892</td>\n",
       "      <td>0.506678</td>\n",
       "      <td>0.000590</td>\n",
       "    </tr>\n",
       "  </tbody>\n",
       "</table>\n",
       "<p>202 rows × 4 columns</p>\n",
       "</div>"
      ],
      "text/plain": [
       "     test-mlogloss-mean  test-mlogloss-std  train-mlogloss-mean  \\\n",
       "0              1.039996           0.000854             1.039470   \n",
       "1              0.990630           0.000781             0.989611   \n",
       "2              0.948461           0.000751             0.946642   \n",
       "3              0.912311           0.000860             0.909724   \n",
       "4              0.881021           0.000125             0.877654   \n",
       "5              0.854047           0.000536             0.850084   \n",
       "6              0.829971           0.000293             0.825420   \n",
       "7              0.809024           0.000378             0.803885   \n",
       "8              0.790582           0.000366             0.784926   \n",
       "9              0.774625           0.000847             0.768334   \n",
       "10             0.760292           0.001132             0.753378   \n",
       "11             0.747649           0.001337             0.740220   \n",
       "12             0.736203           0.001435             0.728260   \n",
       "13             0.726063           0.001715             0.717480   \n",
       "14             0.717140           0.001820             0.707954   \n",
       "15             0.708962           0.001726             0.699079   \n",
       "16             0.701560           0.001722             0.691345   \n",
       "17             0.694925           0.001539             0.684116   \n",
       "18             0.688947           0.001445             0.677510   \n",
       "19             0.683467           0.001280             0.671570   \n",
       "20             0.678356           0.001337             0.665939   \n",
       "21             0.673903           0.001187             0.660912   \n",
       "22             0.669829           0.001079             0.656454   \n",
       "23             0.666315           0.001130             0.652465   \n",
       "24             0.663075           0.001083             0.648711   \n",
       "25             0.659992           0.000987             0.645090   \n",
       "26             0.657007           0.000909             0.641682   \n",
       "27             0.654389           0.001100             0.638398   \n",
       "28             0.651901           0.001105             0.635325   \n",
       "29             0.649641           0.001019             0.632524   \n",
       "..                  ...                ...                  ...   \n",
       "172            0.597310           0.001880             0.518535   \n",
       "173            0.597223           0.001823             0.518056   \n",
       "174            0.597179           0.001885             0.517519   \n",
       "175            0.597208           0.001882             0.517182   \n",
       "176            0.597258           0.001843             0.516752   \n",
       "177            0.597297           0.001909             0.516342   \n",
       "178            0.597266           0.001844             0.515961   \n",
       "179            0.597226           0.001840             0.515517   \n",
       "180            0.597284           0.001895             0.515224   \n",
       "181            0.597119           0.001823             0.514825   \n",
       "182            0.597101           0.001751             0.514434   \n",
       "183            0.597039           0.001788             0.514032   \n",
       "184            0.596889           0.001846             0.513676   \n",
       "185            0.596822           0.001809             0.513311   \n",
       "186            0.596676           0.001851             0.512915   \n",
       "187            0.596689           0.001925             0.512417   \n",
       "188            0.596624           0.001866             0.511970   \n",
       "189            0.596564           0.001891             0.511617   \n",
       "190            0.596445           0.001878             0.511144   \n",
       "191            0.596350           0.001837             0.510652   \n",
       "192            0.596379           0.001855             0.510183   \n",
       "193            0.596396           0.001870             0.509861   \n",
       "194            0.596437           0.001877             0.509474   \n",
       "195            0.596491           0.001903             0.509045   \n",
       "196            0.596500           0.001917             0.508688   \n",
       "197            0.596474           0.001977             0.508293   \n",
       "198            0.596415           0.001963             0.507861   \n",
       "199            0.596394           0.001944             0.507480   \n",
       "200            0.596329           0.001892             0.507097   \n",
       "201            0.596279           0.001892             0.506678   \n",
       "\n",
       "     train-mlogloss-std  \n",
       "0              0.000554  \n",
       "1              0.000215  \n",
       "2              0.000458  \n",
       "3              0.000811  \n",
       "4              0.000978  \n",
       "5              0.001498  \n",
       "6              0.001463  \n",
       "7              0.001537  \n",
       "8              0.001580  \n",
       "9              0.001833  \n",
       "10             0.001783  \n",
       "11             0.001843  \n",
       "12             0.001911  \n",
       "13             0.002095  \n",
       "14             0.002210  \n",
       "15             0.002387  \n",
       "16             0.002342  \n",
       "17             0.002092  \n",
       "18             0.001921  \n",
       "19             0.001970  \n",
       "20             0.001864  \n",
       "21             0.001908  \n",
       "22             0.001901  \n",
       "23             0.001811  \n",
       "24             0.001689  \n",
       "25             0.001751  \n",
       "26             0.001814  \n",
       "27             0.001740  \n",
       "28             0.001607  \n",
       "29             0.001659  \n",
       "..                  ...  \n",
       "172            0.000541  \n",
       "173            0.000491  \n",
       "174            0.000433  \n",
       "175            0.000412  \n",
       "176            0.000385  \n",
       "177            0.000459  \n",
       "178            0.000481  \n",
       "179            0.000544  \n",
       "180            0.000566  \n",
       "181            0.000589  \n",
       "182            0.000548  \n",
       "183            0.000615  \n",
       "184            0.000594  \n",
       "185            0.000741  \n",
       "186            0.000699  \n",
       "187            0.000746  \n",
       "188            0.000666  \n",
       "189            0.000647  \n",
       "190            0.000616  \n",
       "191            0.000614  \n",
       "192            0.000658  \n",
       "193            0.000599  \n",
       "194            0.000686  \n",
       "195            0.000728  \n",
       "196            0.000744  \n",
       "197            0.000724  \n",
       "198            0.000619  \n",
       "199            0.000610  \n",
       "200            0.000522  \n",
       "201            0.000590  \n",
       "\n",
       "[202 rows x 4 columns]"
      ]
     },
     "execution_count": 140,
     "metadata": {},
     "output_type": "execute_result"
    }
   ],
   "source": [
    "cvresult"
   ]
  },
  {
   "cell_type": "code",
   "execution_count": 145,
   "metadata": {
    "ExecuteTime": {
     "end_time": "2018-02-22T08:03:57.375000Z",
     "start_time": "2018-02-22T08:03:57.245000Z"
    }
   },
   "outputs": [
    {
     "data": {
      "image/png": "[encoded data removed]",
      "text/plain": [
       "<matplotlib.figure.Figure at 0x198fe208>"
      ]
     },
     "metadata": {},
     "output_type": "display_data"
    }
   ],
   "source": [
    "test_means = cvresult['test-mlogloss-mean']\n",
    "test_stds = cvresult['test-mlogloss-std'] \n",
    "        \n",
    "train_means = cvresult['train-mlogloss-mean']\n",
    "train_stds = cvresult['train-mlogloss-std'] \n",
    "\n",
    "x_axis = cvresult.index\n",
    "        \n",
    "plt.errorbar(x_axis, test_means, yerr=test_stds ,label='Test')\n",
    "plt.errorbar(x_axis, train_means, yerr=train_stds ,label='Train')\n",
    "plt.title(\"XGBoost n_estimators vs Log Loss\")\n",
    "plt.xlabel( 'n_estimators' )\n",
    "plt.ylabel( 'Log Loss' )\n",
    "\n",
    "plt.show()"
   ]
  },
  {
   "cell_type": "markdown",
   "metadata": {},
   "source": [
    "## 初步确定'max_depth' and 'min_child_weight'"
   ]
  },
  {
   "cell_type": "code",
   "execution_count": 146,
   "metadata": {
    "ExecuteTime": {
     "end_time": "2018-02-22T08:03:59.146000Z",
     "start_time": "2018-02-22T08:03:59.139000Z"
    }
   },
   "outputs": [
    {
     "data": {
      "text/plain": [
       "{'max_depth': range(3, 10, 2), 'min_child_weight': range(1, 6, 2)}"
      ]
     },
     "execution_count": 146,
     "metadata": {},
     "output_type": "execute_result"
    }
   ],
   "source": [
    "kfold = StratifiedKFold(n_splits=5, shuffle=True, random_state=3)\n",
    "max_depth = range(3,10,2)\n",
    "min_child_weight = range(1,6,2)\n",
    "param_test2 = dict(max_depth=max_depth, min_child_weight=min_child_weight)\n",
    "param_test2"
   ]
  },
  {
   "cell_type": "code",
   "execution_count": 147,
   "metadata": {
    "ExecuteTime": {
     "end_time": "2018-02-22T08:04:00.023000Z",
     "start_time": "2018-02-22T08:04:00.018000Z"
    },
    "collapsed": true
   },
   "outputs": [],
   "source": [
    "xgb2 = XGBClassifier(\n",
    "        learning_rate =0.1,\n",
    "        n_estimators=cvresult.shape[0],  #第一轮参数调整得到的n_estimators最优值\n",
    "        max_depth=5,\n",
    "        min_child_weight=1,\n",
    "        gamma=0,\n",
    "        subsample=0.3,\n",
    "        colsample_bytree=0.8,\n",
    "        colsample_bylevel = 0.7,\n",
    "        objective= 'multi:softprob',\n",
    "        seed=3)\n",
    "\n"
   ]
  },
  {
   "cell_type": "code",
   "execution_count": 148,
   "metadata": {
    "ExecuteTime": {
     "end_time": "2018-02-22T08:42:16.329000Z",
     "start_time": "2018-02-22T08:04:00.900000Z"
    },
    "scrolled": true
   },
   "outputs": [
    {
     "name": "stderr",
     "output_type": "stream",
     "text": [
      "D:\\ProgramData\\Anaconda2\\envs\\python3\\lib\\site-packages\\sklearn\\model_selection\\_search.py:761: DeprecationWarning: The grid_scores_ attribute was deprecated in version 0.18 in favor of the more elaborate cv_results_ attribute. The grid_scores_ attribute will not be available from 0.20\n",
      "  DeprecationWarning)\n"
     ]
    },
    {
     "data": {
      "text/plain": [
       "[mean: -0.60580, std: 0.00508, params: {'max_depth': 3, 'min_child_weight': 1},\n",
       " mean: -0.60581, std: 0.00510, params: {'max_depth': 3, 'min_child_weight': 3},\n",
       " mean: -0.60536, std: 0.00521, params: {'max_depth': 3, 'min_child_weight': 5},\n",
       " mean: -0.59231, std: 0.00431, params: {'max_depth': 5, 'min_child_weight': 1},\n",
       " mean: -0.59237, std: 0.00481, params: {'max_depth': 5, 'min_child_weight': 3},\n",
       " mean: -0.59277, std: 0.00416, params: {'max_depth': 5, 'min_child_weight': 5},\n",
       " mean: -0.59143, std: 0.00628, params: {'max_depth': 7, 'min_child_weight': 1},\n",
       " mean: -0.59064, std: 0.00600, params: {'max_depth': 7, 'min_child_weight': 3},\n",
       " mean: -0.59129, std: 0.00649, params: {'max_depth': 7, 'min_child_weight': 5},\n",
       " mean: -0.60452, std: 0.00795, params: {'max_depth': 9, 'min_child_weight': 1},\n",
       " mean: -0.59753, std: 0.00637, params: {'max_depth': 9, 'min_child_weight': 3},\n",
       " mean: -0.59794, std: 0.00552, params: {'max_depth': 9, 'min_child_weight': 5}]"
      ]
     },
     "execution_count": 148,
     "metadata": {},
     "output_type": "execute_result"
    }
   ],
   "source": [
    "# 暴力搜索\n",
    "gsearch2 = GridSearchCV(xgb2\n",
    "                        , param_grid = param_test2\n",
    "                        , scoring='neg_log_loss'\n",
    "                        , n_jobs=-1\n",
    "                        , cv=kfold)\n",
    "\n",
    "gsearch2.fit(X_train , y_train)\n",
    "\n",
    "gsearch2.grid_scores_"
   ]
  },
  {
   "cell_type": "code",
   "execution_count": 149,
   "metadata": {
    "ExecuteTime": {
     "end_time": "2018-02-22T08:44:34.327000Z",
     "start_time": "2018-02-22T08:44:34.322000Z"
    }
   },
   "outputs": [
    {
     "data": {
      "text/plain": [
       "({'max_depth': 7, 'min_child_weight': 3}, -0.59063805233622968)"
      ]
     },
     "execution_count": 149,
     "metadata": {},
     "output_type": "execute_result"
    }
   ],
   "source": [
    "gsearch2.best_params_, gsearch2.best_score_"
   ]
  },
  {
   "cell_type": "code",
   "execution_count": 150,
   "metadata": {
    "ExecuteTime": {
     "end_time": "2018-02-22T08:44:35.065000Z",
     "start_time": "2018-02-22T08:44:35.058000Z"
    }
   },
   "outputs": [
    {
     "data": {
      "text/plain": [
       "(7, 3)"
      ]
     },
     "execution_count": 150,
     "metadata": {},
     "output_type": "execute_result"
    }
   ],
   "source": [
    "max_depth = gsearch2.best_params_[\"max_depth\"]\n",
    "min_child_weight = gsearch2.best_params_[\"min_child_weight\"]\n",
    "max_depth, min_child_weight"
   ]
  },
  {
   "cell_type": "markdown",
   "metadata": {},
   "source": [
    "## 再次确定'max_depth' and 'min_child_weight'"
   ]
  },
  {
   "cell_type": "code",
   "execution_count": 151,
   "metadata": {
    "ExecuteTime": {
     "end_time": "2018-02-22T08:44:36.893000Z",
     "start_time": "2018-02-22T08:44:36.883000Z"
    }
   },
   "outputs": [
    {
     "data": {
      "text/plain": [
       "{'max_depth': [6, 7, 8], 'min_child_weight': [2, 3, 4]}"
      ]
     },
     "execution_count": 151,
     "metadata": {},
     "output_type": "execute_result"
    }
   ],
   "source": [
    "kfold = StratifiedKFold(n_splits=5, shuffle=True, random_state=3)\n",
    "max_depth = [max_depth-1, max_depth, max_depth+1]\n",
    "if min_child_weight==1:\n",
    "    min_child_weight = [1,2]\n",
    "else:\n",
    "    min_child_weight = [min_child_weight-1,min_child_weight,min_child_weight+1]\n",
    "param_test3 = dict(max_depth=max_depth, min_child_weight=min_child_weight)\n",
    "param_test3"
   ]
  },
  {
   "cell_type": "code",
   "execution_count": 152,
   "metadata": {
    "ExecuteTime": {
     "end_time": "2018-02-22T08:44:37.593000Z",
     "start_time": "2018-02-22T08:44:37.587000Z"
    },
    "collapsed": true
   },
   "outputs": [],
   "source": [
    "xgb3 = XGBClassifier(\n",
    "        learning_rate =0.1,\n",
    "        n_estimators=cvresult.shape[0],  #第一轮参数调整得到的n_estimators最优值\n",
    "        max_depth=5,\n",
    "        min_child_weight=1,\n",
    "        gamma=0,\n",
    "        subsample=0.3,\n",
    "        colsample_bytree=0.8,\n",
    "        colsample_bylevel = 0.7,\n",
    "        objective= 'multi:softprob',\n",
    "        seed=3)\n",
    "\n"
   ]
  },
  {
   "cell_type": "code",
   "execution_count": 153,
   "metadata": {
    "ExecuteTime": {
     "end_time": "2018-02-22T09:17:37.989000Z",
     "start_time": "2018-02-22T08:44:38.234000Z"
    }
   },
   "outputs": [
    {
     "name": "stderr",
     "output_type": "stream",
     "text": [
      "D:\\ProgramData\\Anaconda2\\envs\\python3\\lib\\site-packages\\sklearn\\model_selection\\_search.py:761: DeprecationWarning: The grid_scores_ attribute was deprecated in version 0.18 in favor of the more elaborate cv_results_ attribute. The grid_scores_ attribute will not be available from 0.20\n",
      "  DeprecationWarning)\n"
     ]
    },
    {
     "data": {
      "text/plain": [
       "([mean: -0.59042, std: 0.00530, params: {'max_depth': 6, 'min_child_weight': 2},\n",
       "  mean: -0.59068, std: 0.00550, params: {'max_depth': 6, 'min_child_weight': 3},\n",
       "  mean: -0.59051, std: 0.00565, params: {'max_depth': 6, 'min_child_weight': 4},\n",
       "  mean: -0.59094, std: 0.00578, params: {'max_depth': 7, 'min_child_weight': 2},\n",
       "  mean: -0.59064, std: 0.00600, params: {'max_depth': 7, 'min_child_weight': 3},\n",
       "  mean: -0.59032, std: 0.00673, params: {'max_depth': 7, 'min_child_weight': 4},\n",
       "  mean: -0.59634, std: 0.00657, params: {'max_depth': 8, 'min_child_weight': 2},\n",
       "  mean: -0.59469, std: 0.00481, params: {'max_depth': 8, 'min_child_weight': 3},\n",
       "  mean: -0.59594, std: 0.00596, params: {'max_depth': 8, 'min_child_weight': 4}],)"
      ]
     },
     "execution_count": 153,
     "metadata": {},
     "output_type": "execute_result"
    }
   ],
   "source": [
    "\n",
    "gsearch3 = GridSearchCV(xgb3, param_grid = param_test3, scoring='neg_log_loss',n_jobs=-1, cv=kfold)\n",
    "gsearch3.fit(X_train , y_train)\n",
    "\n",
    "gsearch3.grid_scores_, "
   ]
  },
  {
   "cell_type": "code",
   "execution_count": 154,
   "metadata": {
    "ExecuteTime": {
     "end_time": "2018-02-22T09:17:37.996000Z",
     "start_time": "2018-02-22T09:17:37.991000Z"
    }
   },
   "outputs": [
    {
     "data": {
      "text/plain": [
       "({'max_depth': 7, 'min_child_weight': 4}, -0.59031651468082524)"
      ]
     },
     "execution_count": 154,
     "metadata": {},
     "output_type": "execute_result"
    }
   ],
   "source": [
    "gsearch3.best_params_,     gsearch3.best_score_"
   ]
  },
  {
   "cell_type": "markdown",
   "metadata": {},
   "source": [
    "## 再次确定n_estimators"
   ]
  },
  {
   "cell_type": "code",
   "execution_count": 155,
   "metadata": {
    "ExecuteTime": {
     "end_time": "2018-02-22T09:29:08.455000Z",
     "start_time": "2018-02-22T09:29:08.450000Z"
    },
    "collapsed": true
   },
   "outputs": [],
   "source": [
    "xgb4 = XGBClassifier(\n",
    "        learning_rate =0.1,\n",
    "        n_estimators=cvresult.shape[0],\n",
    "        max_depth=gsearch3.best_params_['max_depth'],\n",
    "        min_child_weight=gsearch3.best_params_['min_child_weight'],\n",
    "        gamma=0,\n",
    "        subsample=0.3,\n",
    "        colsample_bytree=0.8,\n",
    "        colsample_bylevel=0.7,\n",
    "        objective= 'multi:softprob',\n",
    "        seed=33)"
   ]
  },
  {
   "cell_type": "code",
   "execution_count": 156,
   "metadata": {
    "ExecuteTime": {
     "end_time": "2018-02-22T09:29:09.544000Z",
     "start_time": "2018-02-22T09:29:09.266000Z"
    },
    "cell_style": "center",
    "collapsed": true
   },
   "outputs": [],
   "source": [
    "xgb_param = xgb4.get_xgb_params()\n",
    "xgb_param['num_class'] = 3\n",
    "xgtrain = xgb.DMatrix(X_train, label = y_train)\n",
    "folds=StratifiedKFold(n_splits=5, shuffle=True, random_state=33)\n"
   ]
  },
  {
   "cell_type": "code",
   "execution_count": 157,
   "metadata": {
    "ExecuteTime": {
     "end_time": "2018-02-22T09:33:47.067000Z",
     "start_time": "2018-02-22T09:29:10.145000Z"
    }
   },
   "outputs": [
    {
     "name": "stdout",
     "output_type": "stream",
     "text": [
      "[0]\ttrain-mlogloss:1.03645\ttest-mlogloss:1.03808\n",
      "[10]\ttrain-mlogloss:0.734245\ttest-mlogloss:0.750115\n",
      "[20]\ttrain-mlogloss:0.638913\ttest-mlogloss:0.667178\n",
      "[30]\ttrain-mlogloss:0.596528\ttest-mlogloss:0.635952\n",
      "[40]\ttrain-mlogloss:0.572437\ttest-mlogloss:0.621277\n",
      "[50]\ttrain-mlogloss:0.55537\ttest-mlogloss:0.613369\n",
      "[60]\ttrain-mlogloss:0.542218\ttest-mlogloss:0.607967\n",
      "[70]\ttrain-mlogloss:0.530887\ttest-mlogloss:0.604824\n",
      "[80]\ttrain-mlogloss:0.520091\ttest-mlogloss:0.602488\n",
      "[90]\ttrain-mlogloss:0.511002\ttest-mlogloss:0.601162\n",
      "[100]\ttrain-mlogloss:0.502508\ttest-mlogloss:0.599779\n",
      "[110]\ttrain-mlogloss:0.494527\ttest-mlogloss:0.59907\n",
      "[120]\ttrain-mlogloss:0.486995\ttest-mlogloss:0.59846\n",
      "[130]\ttrain-mlogloss:0.479522\ttest-mlogloss:0.59805\n"
     ]
    }
   ],
   "source": [
    "cvresult2 = xgb.cv(xgb_param\n",
    "                  , xgtrain\n",
    "                  , num_boost_round=1000\n",
    "                  , folds = folds\n",
    "                  , show_stdv=False \n",
    "                  , verbose_eval=10\n",
    "                  , metrics='mlogloss'\n",
    "                  , early_stopping_rounds=10)\n",
    "\n"
   ]
  },
  {
   "cell_type": "code",
   "execution_count": 158,
   "metadata": {
    "ExecuteTime": {
     "end_time": "2018-02-22T09:33:47.100000Z",
     "start_time": "2018-02-22T09:33:47.071000Z"
    },
    "scrolled": true
   },
   "outputs": [
    {
     "data": {
      "text/html": [
       "<div>\n",
       "<style scoped>\n",
       "    .dataframe tbody tr th:only-of-type {\n",
       "        vertical-align: middle;\n",
       "    }\n",
       "\n",
       "    .dataframe tbody tr th {\n",
       "        vertical-align: top;\n",
       "    }\n",
       "\n",
       "    .dataframe thead th {\n",
       "        text-align: right;\n",
       "    }\n",
       "</style>\n",
       "<table border=\"1\" class=\"dataframe\">\n",
       "  <thead>\n",
       "    <tr style=\"text-align: right;\">\n",
       "      <th></th>\n",
       "      <th>test-mlogloss-mean</th>\n",
       "      <th>test-mlogloss-std</th>\n",
       "      <th>train-mlogloss-mean</th>\n",
       "      <th>train-mlogloss-std</th>\n",
       "    </tr>\n",
       "  </thead>\n",
       "  <tbody>\n",
       "    <tr>\n",
       "      <th>0</th>\n",
       "      <td>1.038084</td>\n",
       "      <td>0.000118</td>\n",
       "      <td>1.036449</td>\n",
       "      <td>0.000409</td>\n",
       "    </tr>\n",
       "    <tr>\n",
       "      <th>1</th>\n",
       "      <td>0.987074</td>\n",
       "      <td>0.000743</td>\n",
       "      <td>0.983849</td>\n",
       "      <td>0.000651</td>\n",
       "    </tr>\n",
       "    <tr>\n",
       "      <th>2</th>\n",
       "      <td>0.944604</td>\n",
       "      <td>0.002060</td>\n",
       "      <td>0.939947</td>\n",
       "      <td>0.002164</td>\n",
       "    </tr>\n",
       "    <tr>\n",
       "      <th>3</th>\n",
       "      <td>0.907255</td>\n",
       "      <td>0.001558</td>\n",
       "      <td>0.900900</td>\n",
       "      <td>0.001577</td>\n",
       "    </tr>\n",
       "    <tr>\n",
       "      <th>4</th>\n",
       "      <td>0.874824</td>\n",
       "      <td>0.001444</td>\n",
       "      <td>0.867010</td>\n",
       "      <td>0.001553</td>\n",
       "    </tr>\n",
       "    <tr>\n",
       "      <th>5</th>\n",
       "      <td>0.846466</td>\n",
       "      <td>0.001015</td>\n",
       "      <td>0.837047</td>\n",
       "      <td>0.001215</td>\n",
       "    </tr>\n",
       "    <tr>\n",
       "      <th>6</th>\n",
       "      <td>0.821922</td>\n",
       "      <td>0.001353</td>\n",
       "      <td>0.811269</td>\n",
       "      <td>0.001081</td>\n",
       "    </tr>\n",
       "    <tr>\n",
       "      <th>7</th>\n",
       "      <td>0.800103</td>\n",
       "      <td>0.001437</td>\n",
       "      <td>0.788095</td>\n",
       "      <td>0.000954</td>\n",
       "    </tr>\n",
       "    <tr>\n",
       "      <th>8</th>\n",
       "      <td>0.781476</td>\n",
       "      <td>0.001813</td>\n",
       "      <td>0.768215</td>\n",
       "      <td>0.000676</td>\n",
       "    </tr>\n",
       "    <tr>\n",
       "      <th>9</th>\n",
       "      <td>0.764914</td>\n",
       "      <td>0.001941</td>\n",
       "      <td>0.750404</td>\n",
       "      <td>0.000682</td>\n",
       "    </tr>\n",
       "    <tr>\n",
       "      <th>10</th>\n",
       "      <td>0.750115</td>\n",
       "      <td>0.001667</td>\n",
       "      <td>0.734245</td>\n",
       "      <td>0.000858</td>\n",
       "    </tr>\n",
       "    <tr>\n",
       "      <th>11</th>\n",
       "      <td>0.737192</td>\n",
       "      <td>0.001793</td>\n",
       "      <td>0.719882</td>\n",
       "      <td>0.000786</td>\n",
       "    </tr>\n",
       "    <tr>\n",
       "      <th>12</th>\n",
       "      <td>0.725280</td>\n",
       "      <td>0.001518</td>\n",
       "      <td>0.706473</td>\n",
       "      <td>0.000802</td>\n",
       "    </tr>\n",
       "    <tr>\n",
       "      <th>13</th>\n",
       "      <td>0.714886</td>\n",
       "      <td>0.001462</td>\n",
       "      <td>0.694743</td>\n",
       "      <td>0.001022</td>\n",
       "    </tr>\n",
       "    <tr>\n",
       "      <th>14</th>\n",
       "      <td>0.705243</td>\n",
       "      <td>0.001459</td>\n",
       "      <td>0.683877</td>\n",
       "      <td>0.001313</td>\n",
       "    </tr>\n",
       "    <tr>\n",
       "      <th>15</th>\n",
       "      <td>0.697185</td>\n",
       "      <td>0.001532</td>\n",
       "      <td>0.674552</td>\n",
       "      <td>0.001335</td>\n",
       "    </tr>\n",
       "    <tr>\n",
       "      <th>16</th>\n",
       "      <td>0.690054</td>\n",
       "      <td>0.001037</td>\n",
       "      <td>0.666286</td>\n",
       "      <td>0.001314</td>\n",
       "    </tr>\n",
       "    <tr>\n",
       "      <th>17</th>\n",
       "      <td>0.683455</td>\n",
       "      <td>0.001024</td>\n",
       "      <td>0.658478</td>\n",
       "      <td>0.001598</td>\n",
       "    </tr>\n",
       "    <tr>\n",
       "      <th>18</th>\n",
       "      <td>0.677571</td>\n",
       "      <td>0.001043</td>\n",
       "      <td>0.651761</td>\n",
       "      <td>0.001749</td>\n",
       "    </tr>\n",
       "    <tr>\n",
       "      <th>19</th>\n",
       "      <td>0.672210</td>\n",
       "      <td>0.001303</td>\n",
       "      <td>0.645099</td>\n",
       "      <td>0.001900</td>\n",
       "    </tr>\n",
       "    <tr>\n",
       "      <th>20</th>\n",
       "      <td>0.667178</td>\n",
       "      <td>0.001065</td>\n",
       "      <td>0.638913</td>\n",
       "      <td>0.001995</td>\n",
       "    </tr>\n",
       "    <tr>\n",
       "      <th>21</th>\n",
       "      <td>0.662731</td>\n",
       "      <td>0.000897</td>\n",
       "      <td>0.633273</td>\n",
       "      <td>0.001916</td>\n",
       "    </tr>\n",
       "    <tr>\n",
       "      <th>22</th>\n",
       "      <td>0.658617</td>\n",
       "      <td>0.000916</td>\n",
       "      <td>0.628034</td>\n",
       "      <td>0.001888</td>\n",
       "    </tr>\n",
       "    <tr>\n",
       "      <th>23</th>\n",
       "      <td>0.654923</td>\n",
       "      <td>0.000867</td>\n",
       "      <td>0.623320</td>\n",
       "      <td>0.001915</td>\n",
       "    </tr>\n",
       "    <tr>\n",
       "      <th>24</th>\n",
       "      <td>0.651426</td>\n",
       "      <td>0.001001</td>\n",
       "      <td>0.618922</td>\n",
       "      <td>0.001583</td>\n",
       "    </tr>\n",
       "    <tr>\n",
       "      <th>25</th>\n",
       "      <td>0.648343</td>\n",
       "      <td>0.001075</td>\n",
       "      <td>0.614501</td>\n",
       "      <td>0.001407</td>\n",
       "    </tr>\n",
       "    <tr>\n",
       "      <th>26</th>\n",
       "      <td>0.645425</td>\n",
       "      <td>0.000887</td>\n",
       "      <td>0.610339</td>\n",
       "      <td>0.001510</td>\n",
       "    </tr>\n",
       "    <tr>\n",
       "      <th>27</th>\n",
       "      <td>0.642874</td>\n",
       "      <td>0.000833</td>\n",
       "      <td>0.606651</td>\n",
       "      <td>0.001449</td>\n",
       "    </tr>\n",
       "    <tr>\n",
       "      <th>28</th>\n",
       "      <td>0.640510</td>\n",
       "      <td>0.000625</td>\n",
       "      <td>0.603067</td>\n",
       "      <td>0.001587</td>\n",
       "    </tr>\n",
       "    <tr>\n",
       "      <th>29</th>\n",
       "      <td>0.638263</td>\n",
       "      <td>0.000617</td>\n",
       "      <td>0.599665</td>\n",
       "      <td>0.001598</td>\n",
       "    </tr>\n",
       "    <tr>\n",
       "      <th>...</th>\n",
       "      <td>...</td>\n",
       "      <td>...</td>\n",
       "      <td>...</td>\n",
       "      <td>...</td>\n",
       "    </tr>\n",
       "    <tr>\n",
       "      <th>98</th>\n",
       "      <td>0.600027</td>\n",
       "      <td>0.001296</td>\n",
       "      <td>0.504094</td>\n",
       "      <td>0.001692</td>\n",
       "    </tr>\n",
       "    <tr>\n",
       "      <th>99</th>\n",
       "      <td>0.599904</td>\n",
       "      <td>0.001343</td>\n",
       "      <td>0.503332</td>\n",
       "      <td>0.001595</td>\n",
       "    </tr>\n",
       "    <tr>\n",
       "      <th>100</th>\n",
       "      <td>0.599779</td>\n",
       "      <td>0.001327</td>\n",
       "      <td>0.502508</td>\n",
       "      <td>0.001590</td>\n",
       "    </tr>\n",
       "    <tr>\n",
       "      <th>101</th>\n",
       "      <td>0.599687</td>\n",
       "      <td>0.001335</td>\n",
       "      <td>0.501726</td>\n",
       "      <td>0.001481</td>\n",
       "    </tr>\n",
       "    <tr>\n",
       "      <th>102</th>\n",
       "      <td>0.599761</td>\n",
       "      <td>0.001327</td>\n",
       "      <td>0.501048</td>\n",
       "      <td>0.001360</td>\n",
       "    </tr>\n",
       "    <tr>\n",
       "      <th>103</th>\n",
       "      <td>0.599662</td>\n",
       "      <td>0.001263</td>\n",
       "      <td>0.500094</td>\n",
       "      <td>0.001349</td>\n",
       "    </tr>\n",
       "    <tr>\n",
       "      <th>104</th>\n",
       "      <td>0.599569</td>\n",
       "      <td>0.001186</td>\n",
       "      <td>0.499233</td>\n",
       "      <td>0.001397</td>\n",
       "    </tr>\n",
       "    <tr>\n",
       "      <th>105</th>\n",
       "      <td>0.599402</td>\n",
       "      <td>0.001238</td>\n",
       "      <td>0.498478</td>\n",
       "      <td>0.001351</td>\n",
       "    </tr>\n",
       "    <tr>\n",
       "      <th>106</th>\n",
       "      <td>0.599249</td>\n",
       "      <td>0.001226</td>\n",
       "      <td>0.497649</td>\n",
       "      <td>0.001300</td>\n",
       "    </tr>\n",
       "    <tr>\n",
       "      <th>107</th>\n",
       "      <td>0.599227</td>\n",
       "      <td>0.001203</td>\n",
       "      <td>0.496922</td>\n",
       "      <td>0.001182</td>\n",
       "    </tr>\n",
       "    <tr>\n",
       "      <th>108</th>\n",
       "      <td>0.599206</td>\n",
       "      <td>0.001303</td>\n",
       "      <td>0.496185</td>\n",
       "      <td>0.001284</td>\n",
       "    </tr>\n",
       "    <tr>\n",
       "      <th>109</th>\n",
       "      <td>0.599132</td>\n",
       "      <td>0.001241</td>\n",
       "      <td>0.495431</td>\n",
       "      <td>0.001328</td>\n",
       "    </tr>\n",
       "    <tr>\n",
       "      <th>110</th>\n",
       "      <td>0.599070</td>\n",
       "      <td>0.001316</td>\n",
       "      <td>0.494527</td>\n",
       "      <td>0.001177</td>\n",
       "    </tr>\n",
       "    <tr>\n",
       "      <th>111</th>\n",
       "      <td>0.599091</td>\n",
       "      <td>0.001268</td>\n",
       "      <td>0.493865</td>\n",
       "      <td>0.001300</td>\n",
       "    </tr>\n",
       "    <tr>\n",
       "      <th>112</th>\n",
       "      <td>0.599048</td>\n",
       "      <td>0.001259</td>\n",
       "      <td>0.493013</td>\n",
       "      <td>0.001487</td>\n",
       "    </tr>\n",
       "    <tr>\n",
       "      <th>113</th>\n",
       "      <td>0.599097</td>\n",
       "      <td>0.001217</td>\n",
       "      <td>0.492310</td>\n",
       "      <td>0.001464</td>\n",
       "    </tr>\n",
       "    <tr>\n",
       "      <th>114</th>\n",
       "      <td>0.599010</td>\n",
       "      <td>0.001200</td>\n",
       "      <td>0.491538</td>\n",
       "      <td>0.001558</td>\n",
       "    </tr>\n",
       "    <tr>\n",
       "      <th>115</th>\n",
       "      <td>0.598869</td>\n",
       "      <td>0.001087</td>\n",
       "      <td>0.490686</td>\n",
       "      <td>0.001542</td>\n",
       "    </tr>\n",
       "    <tr>\n",
       "      <th>116</th>\n",
       "      <td>0.598733</td>\n",
       "      <td>0.001109</td>\n",
       "      <td>0.490106</td>\n",
       "      <td>0.001430</td>\n",
       "    </tr>\n",
       "    <tr>\n",
       "      <th>117</th>\n",
       "      <td>0.598611</td>\n",
       "      <td>0.001070</td>\n",
       "      <td>0.489487</td>\n",
       "      <td>0.001469</td>\n",
       "    </tr>\n",
       "    <tr>\n",
       "      <th>118</th>\n",
       "      <td>0.598470</td>\n",
       "      <td>0.001184</td>\n",
       "      <td>0.488683</td>\n",
       "      <td>0.001444</td>\n",
       "    </tr>\n",
       "    <tr>\n",
       "      <th>119</th>\n",
       "      <td>0.598421</td>\n",
       "      <td>0.001223</td>\n",
       "      <td>0.487828</td>\n",
       "      <td>0.001305</td>\n",
       "    </tr>\n",
       "    <tr>\n",
       "      <th>120</th>\n",
       "      <td>0.598460</td>\n",
       "      <td>0.001355</td>\n",
       "      <td>0.486995</td>\n",
       "      <td>0.001266</td>\n",
       "    </tr>\n",
       "    <tr>\n",
       "      <th>121</th>\n",
       "      <td>0.598330</td>\n",
       "      <td>0.001583</td>\n",
       "      <td>0.486146</td>\n",
       "      <td>0.001301</td>\n",
       "    </tr>\n",
       "    <tr>\n",
       "      <th>122</th>\n",
       "      <td>0.598261</td>\n",
       "      <td>0.001601</td>\n",
       "      <td>0.485432</td>\n",
       "      <td>0.001374</td>\n",
       "    </tr>\n",
       "    <tr>\n",
       "      <th>123</th>\n",
       "      <td>0.598189</td>\n",
       "      <td>0.001670</td>\n",
       "      <td>0.484920</td>\n",
       "      <td>0.001292</td>\n",
       "    </tr>\n",
       "    <tr>\n",
       "      <th>124</th>\n",
       "      <td>0.597996</td>\n",
       "      <td>0.001631</td>\n",
       "      <td>0.484214</td>\n",
       "      <td>0.001426</td>\n",
       "    </tr>\n",
       "    <tr>\n",
       "      <th>125</th>\n",
       "      <td>0.598055</td>\n",
       "      <td>0.001673</td>\n",
       "      <td>0.483457</td>\n",
       "      <td>0.001443</td>\n",
       "    </tr>\n",
       "    <tr>\n",
       "      <th>126</th>\n",
       "      <td>0.597911</td>\n",
       "      <td>0.001848</td>\n",
       "      <td>0.482858</td>\n",
       "      <td>0.001381</td>\n",
       "    </tr>\n",
       "    <tr>\n",
       "      <th>127</th>\n",
       "      <td>0.597731</td>\n",
       "      <td>0.001876</td>\n",
       "      <td>0.481959</td>\n",
       "      <td>0.001567</td>\n",
       "    </tr>\n",
       "  </tbody>\n",
       "</table>\n",
       "<p>128 rows × 4 columns</p>\n",
       "</div>"
      ],
      "text/plain": [
       "     test-mlogloss-mean  test-mlogloss-std  train-mlogloss-mean  \\\n",
       "0              1.038084           0.000118             1.036449   \n",
       "1              0.987074           0.000743             0.983849   \n",
       "2              0.944604           0.002060             0.939947   \n",
       "3              0.907255           0.001558             0.900900   \n",
       "4              0.874824           0.001444             0.867010   \n",
       "5              0.846466           0.001015             0.837047   \n",
       "6              0.821922           0.001353             0.811269   \n",
       "7              0.800103           0.001437             0.788095   \n",
       "8              0.781476           0.001813             0.768215   \n",
       "9              0.764914           0.001941             0.750404   \n",
       "10             0.750115           0.001667             0.734245   \n",
       "11             0.737192           0.001793             0.719882   \n",
       "12             0.725280           0.001518             0.706473   \n",
       "13             0.714886           0.001462             0.694743   \n",
       "14             0.705243           0.001459             0.683877   \n",
       "15             0.697185           0.001532             0.674552   \n",
       "16             0.690054           0.001037             0.666286   \n",
       "17             0.683455           0.001024             0.658478   \n",
       "18             0.677571           0.001043             0.651761   \n",
       "19             0.672210           0.001303             0.645099   \n",
       "20             0.667178           0.001065             0.638913   \n",
       "21             0.662731           0.000897             0.633273   \n",
       "22             0.658617           0.000916             0.628034   \n",
       "23             0.654923           0.000867             0.623320   \n",
       "24             0.651426           0.001001             0.618922   \n",
       "25             0.648343           0.001075             0.614501   \n",
       "26             0.645425           0.000887             0.610339   \n",
       "27             0.642874           0.000833             0.606651   \n",
       "28             0.640510           0.000625             0.603067   \n",
       "29             0.638263           0.000617             0.599665   \n",
       "..                  ...                ...                  ...   \n",
       "98             0.600027           0.001296             0.504094   \n",
       "99             0.599904           0.001343             0.503332   \n",
       "100            0.599779           0.001327             0.502508   \n",
       "101            0.599687           0.001335             0.501726   \n",
       "102            0.599761           0.001327             0.501048   \n",
       "103            0.599662           0.001263             0.500094   \n",
       "104            0.599569           0.001186             0.499233   \n",
       "105            0.599402           0.001238             0.498478   \n",
       "106            0.599249           0.001226             0.497649   \n",
       "107            0.599227           0.001203             0.496922   \n",
       "108            0.599206           0.001303             0.496185   \n",
       "109            0.599132           0.001241             0.495431   \n",
       "110            0.599070           0.001316             0.494527   \n",
       "111            0.599091           0.001268             0.493865   \n",
       "112            0.599048           0.001259             0.493013   \n",
       "113            0.599097           0.001217             0.492310   \n",
       "114            0.599010           0.001200             0.491538   \n",
       "115            0.598869           0.001087             0.490686   \n",
       "116            0.598733           0.001109             0.490106   \n",
       "117            0.598611           0.001070             0.489487   \n",
       "118            0.598470           0.001184             0.488683   \n",
       "119            0.598421           0.001223             0.487828   \n",
       "120            0.598460           0.001355             0.486995   \n",
       "121            0.598330           0.001583             0.486146   \n",
       "122            0.598261           0.001601             0.485432   \n",
       "123            0.598189           0.001670             0.484920   \n",
       "124            0.597996           0.001631             0.484214   \n",
       "125            0.598055           0.001673             0.483457   \n",
       "126            0.597911           0.001848             0.482858   \n",
       "127            0.597731           0.001876             0.481959   \n",
       "\n",
       "     train-mlogloss-std  \n",
       "0              0.000409  \n",
       "1              0.000651  \n",
       "2              0.002164  \n",
       "3              0.001577  \n",
       "4              0.001553  \n",
       "5              0.001215  \n",
       "6              0.001081  \n",
       "7              0.000954  \n",
       "8              0.000676  \n",
       "9              0.000682  \n",
       "10             0.000858  \n",
       "11             0.000786  \n",
       "12             0.000802  \n",
       "13             0.001022  \n",
       "14             0.001313  \n",
       "15             0.001335  \n",
       "16             0.001314  \n",
       "17             0.001598  \n",
       "18             0.001749  \n",
       "19             0.001900  \n",
       "20             0.001995  \n",
       "21             0.001916  \n",
       "22             0.001888  \n",
       "23             0.001915  \n",
       "24             0.001583  \n",
       "25             0.001407  \n",
       "26             0.001510  \n",
       "27             0.001449  \n",
       "28             0.001587  \n",
       "29             0.001598  \n",
       "..                  ...  \n",
       "98             0.001692  \n",
       "99             0.001595  \n",
       "100            0.001590  \n",
       "101            0.001481  \n",
       "102            0.001360  \n",
       "103            0.001349  \n",
       "104            0.001397  \n",
       "105            0.001351  \n",
       "106            0.001300  \n",
       "107            0.001182  \n",
       "108            0.001284  \n",
       "109            0.001328  \n",
       "110            0.001177  \n",
       "111            0.001300  \n",
       "112            0.001487  \n",
       "113            0.001464  \n",
       "114            0.001558  \n",
       "115            0.001542  \n",
       "116            0.001430  \n",
       "117            0.001469  \n",
       "118            0.001444  \n",
       "119            0.001305  \n",
       "120            0.001266  \n",
       "121            0.001301  \n",
       "122            0.001374  \n",
       "123            0.001292  \n",
       "124            0.001426  \n",
       "125            0.001443  \n",
       "126            0.001381  \n",
       "127            0.001567  \n",
       "\n",
       "[128 rows x 4 columns]"
      ]
     },
     "execution_count": 158,
     "metadata": {},
     "output_type": "execute_result"
    }
   ],
   "source": [
    "cvresult2"
   ]
  },
  {
   "cell_type": "markdown",
   "metadata": {},
   "source": [
    "## 行列采样"
   ]
  },
  {
   "cell_type": "code",
   "execution_count": 159,
   "metadata": {
    "ExecuteTime": {
     "end_time": "2018-02-22T09:39:18.387000Z",
     "start_time": "2018-02-22T09:39:18.378000Z"
    }
   },
   "outputs": [
    {
     "data": {
      "text/plain": [
       "{'colsample_bytree': [0.6, 0.7, 0.8, 0.9],\n",
       " 'subsample': [0.3, 0.4, 0.5, 0.6, 0.7, 0.8]}"
      ]
     },
     "execution_count": 159,
     "metadata": {},
     "output_type": "execute_result"
    }
   ],
   "source": [
    "subsample = [i/10.0 for i in range(3,9)]\n",
    "colsample_bytree = [i/10.0 for i in range(6,10)]\n",
    "param_test3 = dict(subsample=subsample, colsample_bytree=colsample_bytree)\n",
    "param_test3"
   ]
  },
  {
   "cell_type": "code",
   "execution_count": 160,
   "metadata": {
    "ExecuteTime": {
     "end_time": "2018-02-22T09:39:19.487000Z",
     "start_time": "2018-02-22T09:39:19.482000Z"
    },
    "collapsed": true
   },
   "outputs": [],
   "source": [
    "xgb5 = XGBClassifier(\n",
    "        learning_rate =0.1,\n",
    "        n_estimators=cvresult2.shape[0],  #第一轮参数调整得到的n_estimators最优值\n",
    "        max_depth=gsearch3.best_params_['max_depth'],\n",
    "        min_child_weight=gsearch3.best_params_['min_child_weight'],\n",
    "        gamma=0,\n",
    "        subsample=0.3,\n",
    "        colsample_bytree=0.8,\n",
    "        colsample_bylevel = 0.7,\n",
    "        objective= 'multi:softprob',\n",
    "        seed=3)"
   ]
  },
  {
   "cell_type": "code",
   "execution_count": 161,
   "metadata": {
    "ExecuteTime": {
     "end_time": "2018-02-22T10:35:53.384000Z",
     "start_time": "2018-02-22T09:39:20.371000Z"
    },
    "scrolled": true
   },
   "outputs": [
    {
     "name": "stderr",
     "output_type": "stream",
     "text": [
      "D:\\ProgramData\\Anaconda2\\envs\\python3\\lib\\site-packages\\sklearn\\model_selection\\_search.py:761: DeprecationWarning: The grid_scores_ attribute was deprecated in version 0.18 in favor of the more elaborate cv_results_ attribute. The grid_scores_ attribute will not be available from 0.20\n",
      "  DeprecationWarning)\n"
     ]
    },
    {
     "data": {
      "text/plain": [
       "[mean: -0.59289, std: 0.00574, params: {'subsample': 0.3, 'colsample_bytree': 0.6},\n",
       " mean: -0.59068, std: 0.00528, params: {'subsample': 0.4, 'colsample_bytree': 0.6},\n",
       " mean: -0.58899, std: 0.00434, params: {'subsample': 0.5, 'colsample_bytree': 0.6},\n",
       " mean: -0.58763, std: 0.00440, params: {'subsample': 0.6, 'colsample_bytree': 0.6},\n",
       " mean: -0.58732, std: 0.00498, params: {'subsample': 0.7, 'colsample_bytree': 0.6},\n",
       " mean: -0.58714, std: 0.00445, params: {'subsample': 0.8, 'colsample_bytree': 0.6},\n",
       " mean: -0.59344, std: 0.00564, params: {'subsample': 0.3, 'colsample_bytree': 0.7},\n",
       " mean: -0.59019, std: 0.00513, params: {'subsample': 0.4, 'colsample_bytree': 0.7},\n",
       " mean: -0.58846, std: 0.00557, params: {'subsample': 0.5, 'colsample_bytree': 0.7},\n",
       " mean: -0.58834, std: 0.00494, params: {'subsample': 0.6, 'colsample_bytree': 0.7},\n",
       " mean: -0.58678, std: 0.00539, params: {'subsample': 0.7, 'colsample_bytree': 0.7},\n",
       " mean: -0.58671, std: 0.00464, params: {'subsample': 0.8, 'colsample_bytree': 0.7},\n",
       " mean: -0.59104, std: 0.00618, params: {'subsample': 0.3, 'colsample_bytree': 0.8},\n",
       " mean: -0.58949, std: 0.00580, params: {'subsample': 0.4, 'colsample_bytree': 0.8},\n",
       " mean: -0.58767, std: 0.00438, params: {'subsample': 0.5, 'colsample_bytree': 0.8},\n",
       " mean: -0.58704, std: 0.00440, params: {'subsample': 0.6, 'colsample_bytree': 0.8},\n",
       " mean: -0.58682, std: 0.00518, params: {'subsample': 0.7, 'colsample_bytree': 0.8},\n",
       " mean: -0.58591, std: 0.00510, params: {'subsample': 0.8, 'colsample_bytree': 0.8},\n",
       " mean: -0.59234, std: 0.00535, params: {'subsample': 0.3, 'colsample_bytree': 0.9},\n",
       " mean: -0.58947, std: 0.00479, params: {'subsample': 0.4, 'colsample_bytree': 0.9},\n",
       " mean: -0.58828, std: 0.00595, params: {'subsample': 0.5, 'colsample_bytree': 0.9},\n",
       " mean: -0.58662, std: 0.00497, params: {'subsample': 0.6, 'colsample_bytree': 0.9},\n",
       " mean: -0.58676, std: 0.00530, params: {'subsample': 0.7, 'colsample_bytree': 0.9},\n",
       " mean: -0.58587, std: 0.00465, params: {'subsample': 0.8, 'colsample_bytree': 0.9}]"
      ]
     },
     "execution_count": 161,
     "metadata": {},
     "output_type": "execute_result"
    }
   ],
   "source": [
    "\n",
    "gsearch5 = GridSearchCV(xgb5, param_grid = param_test3, scoring='neg_log_loss',n_jobs=-1, cv=kfold)\n",
    "gsearch5.fit(X_train , y_train)\n",
    "\n",
    "gsearch5.grid_scores_"
   ]
  },
  {
   "cell_type": "code",
   "execution_count": 162,
   "metadata": {
    "ExecuteTime": {
     "end_time": "2018-02-22T10:35:53.392000Z",
     "start_time": "2018-02-22T10:35:53.386000Z"
    }
   },
   "outputs": [
    {
     "data": {
      "text/plain": [
       "({'colsample_bytree': 0.9, 'subsample': 0.8}, -0.58587419318701828)"
      ]
     },
     "execution_count": 162,
     "metadata": {},
     "output_type": "execute_result"
    }
   ],
   "source": [
    "gsearch5.best_params_,     gsearch5.best_score_"
   ]
  },
  {
   "cell_type": "markdown",
   "metadata": {},
   "source": [
    "## 初步设置正则参数 "
   ]
  },
  {
   "cell_type": "code",
   "execution_count": 163,
   "metadata": {
    "ExecuteTime": {
     "end_time": "2018-02-22T10:35:53.407000Z",
     "start_time": "2018-02-22T10:35:53.395000Z"
    }
   },
   "outputs": [
    {
     "data": {
      "text/plain": [
       "{'reg_alpha': [0, 1, 1.5, 2], 'reg_lambda': [0.1, 0.5, 1, 2]}"
      ]
     },
     "execution_count": 163,
     "metadata": {},
     "output_type": "execute_result"
    }
   ],
   "source": [
    "reg_alpha = [0, 1, 1.5, 2]    #default = 0, 测试0.1,1，1.5，2\n",
    "reg_lambda = [0.1, 0.5, 1, 2]      #default = 1，测试0.1， 0.5， 1，2\n",
    "\n",
    "param_test6 = dict(reg_alpha=reg_alpha, reg_lambda=reg_lambda)\n",
    "param_test6"
   ]
  },
  {
   "cell_type": "code",
   "execution_count": 164,
   "metadata": {
    "ExecuteTime": {
     "end_time": "2018-02-22T10:35:53.416000Z",
     "start_time": "2018-02-22T10:35:53.409000Z"
    },
    "collapsed": true
   },
   "outputs": [],
   "source": [
    "xgb6 = XGBClassifier(\n",
    "        learning_rate =0.1,\n",
    "        n_estimators=cvresult2.shape[0],  #第一轮参数调整得到的n_estimators最优值\n",
    "        max_depth=gsearch3.best_params_['max_depth'],\n",
    "        min_child_weight=gsearch3.best_params_['min_child_weight'],\n",
    "        gamma=0,\n",
    "        subsample=gsearch5.best_params_['subsample'],\n",
    "        colsample_bytree=gsearch5.best_params_['colsample_bytree'],\n",
    "        colsample_bylevel = 0.7,\n",
    "        objective= 'multi:softprob',\n",
    "        seed=3)"
   ]
  },
  {
   "cell_type": "code",
   "execution_count": 165,
   "metadata": {
    "ExecuteTime": {
     "end_time": "2018-02-22T11:20:22.706000Z",
     "start_time": "2018-02-22T10:35:53.421000Z"
    }
   },
   "outputs": [
    {
     "name": "stderr",
     "output_type": "stream",
     "text": [
      "D:\\ProgramData\\Anaconda2\\envs\\python3\\lib\\site-packages\\sklearn\\model_selection\\_search.py:761: DeprecationWarning: The grid_scores_ attribute was deprecated in version 0.18 in favor of the more elaborate cv_results_ attribute. The grid_scores_ attribute will not be available from 0.20\n",
      "  DeprecationWarning)\n"
     ]
    },
    {
     "data": {
      "text/plain": [
       "([mean: -0.58676, std: 0.00482, params: {'reg_alpha': 0, 'reg_lambda': 0.1},\n",
       "  mean: -0.58638, std: 0.00403, params: {'reg_alpha': 0, 'reg_lambda': 0.5},\n",
       "  mean: -0.58587, std: 0.00465, params: {'reg_alpha': 0, 'reg_lambda': 1},\n",
       "  mean: -0.58652, std: 0.00405, params: {'reg_alpha': 0, 'reg_lambda': 2},\n",
       "  mean: -0.58621, std: 0.00489, params: {'reg_alpha': 1, 'reg_lambda': 0.1},\n",
       "  mean: -0.58577, std: 0.00481, params: {'reg_alpha': 1, 'reg_lambda': 0.5},\n",
       "  mean: -0.58614, std: 0.00451, params: {'reg_alpha': 1, 'reg_lambda': 1},\n",
       "  mean: -0.58615, std: 0.00524, params: {'reg_alpha': 1, 'reg_lambda': 2},\n",
       "  mean: -0.58626, std: 0.00484, params: {'reg_alpha': 1.5, 'reg_lambda': 0.1},\n",
       "  mean: -0.58597, std: 0.00463, params: {'reg_alpha': 1.5, 'reg_lambda': 0.5},\n",
       "  mean: -0.58643, std: 0.00499, params: {'reg_alpha': 1.5, 'reg_lambda': 1},\n",
       "  mean: -0.58618, std: 0.00452, params: {'reg_alpha': 1.5, 'reg_lambda': 2},\n",
       "  mean: -0.58634, std: 0.00474, params: {'reg_alpha': 2, 'reg_lambda': 0.1},\n",
       "  mean: -0.58612, std: 0.00477, params: {'reg_alpha': 2, 'reg_lambda': 0.5},\n",
       "  mean: -0.58607, std: 0.00460, params: {'reg_alpha': 2, 'reg_lambda': 1},\n",
       "  mean: -0.58655, std: 0.00465, params: {'reg_alpha': 2, 'reg_lambda': 2}],)"
      ]
     },
     "execution_count": 165,
     "metadata": {},
     "output_type": "execute_result"
    }
   ],
   "source": [
    "\n",
    "gsearch6 = GridSearchCV(xgb6, param_grid = param_test6, scoring='neg_log_loss',n_jobs=-1, cv=kfold)\n",
    "gsearch6.fit(X_train , y_train)\n",
    "\n",
    "gsearch6.grid_scores_, "
   ]
  },
  {
   "cell_type": "code",
   "execution_count": 166,
   "metadata": {
    "ExecuteTime": {
     "end_time": "2018-02-22T11:20:22.713000Z",
     "start_time": "2018-02-22T11:20:22.707000Z"
    }
   },
   "outputs": [
    {
     "data": {
      "text/plain": [
       "({'reg_alpha': 1, 'reg_lambda': 0.5}, -0.58577324811219611)"
      ]
     },
     "execution_count": 166,
     "metadata": {},
     "output_type": "execute_result"
    }
   ],
   "source": [
    "gsearch6.best_params_,     gsearch6.best_score_"
   ]
  },
  {
   "cell_type": "markdown",
   "metadata": {},
   "source": [
    "正则参数调整后neg_log_loss反而变大, 还是选用默认正则参数"
   ]
  },
  {
   "cell_type": "markdown",
   "metadata": {},
   "source": [
    "## 最终参数"
   ]
  },
  {
   "cell_type": "code",
   "execution_count": 167,
   "metadata": {
    "ExecuteTime": {
     "end_time": "2018-02-22T11:20:22.725000Z",
     "start_time": "2018-02-22T11:20:22.716000Z"
    }
   },
   "outputs": [],
   "source": [
    "xgb7 = XGBClassifier(\n",
    "        learning_rate =0.1,\n",
    "        n_estimators=cvresult2.shape[0],  #第一轮参数调整得到的n_estimators最优值\n",
    "        max_depth=gsearch3.best_params_['max_depth'],\n",
    "        min_child_weight=gsearch3.best_params_['min_child_weight'],\n",
    "        gamma=0,\n",
    "        subsample=gsearch5.best_params_['subsample'],\n",
    "        colsample_bytree=gsearch5.best_params_['colsample_bytree'],\n",
    "        colsample_bylevel = 0.7,\n",
    "        objective= 'multi:softprob',\n",
    "        reg_alpha  = gsearch6.best_params_['reg_alpha'],\n",
    "        reg_lambda = gsearch6.best_params_['reg_lambda'],\n",
    "        seed=3)"
   ]
  },
  {
   "cell_type": "code",
   "execution_count": 168,
   "metadata": {
    "ExecuteTime": {
     "end_time": "2018-02-22T11:22:52.325000Z",
     "start_time": "2018-02-22T11:20:22.728000Z"
    }
   },
   "outputs": [
    {
     "data": {
      "text/plain": [
       "XGBClassifier(base_score=0.5, booster='gbtree', colsample_bylevel=0.7,\n",
       "       colsample_bytree=0.9, gamma=0, learning_rate=0.1, max_delta_step=0,\n",
       "       max_depth=7, min_child_weight=4, missing=None, n_estimators=128,\n",
       "       n_jobs=1, nthread=None, objective='multi:softprob', random_state=0,\n",
       "       reg_alpha=1, reg_lambda=0.5, scale_pos_weight=1, seed=3,\n",
       "       silent=True, subsample=0.8)"
      ]
     },
     "execution_count": 168,
     "metadata": {},
     "output_type": "execute_result"
    }
   ],
   "source": [
    "xgb7.fit(X_train , y_train)"
   ]
  },
  {
   "cell_type": "code",
   "execution_count": 169,
   "metadata": {
    "ExecuteTime": {
     "end_time": "2018-02-22T11:22:53.279000Z",
     "start_time": "2018-02-22T11:22:52.327000Z"
    }
   },
   "outputs": [
    {
     "data": {
      "text/plain": [
       "0.74521325093708846"
      ]
     },
     "execution_count": 169,
     "metadata": {},
     "output_type": "execute_result"
    }
   ],
   "source": [
    "y_pred = xgb7.predict(X_test)\n",
    "xgb7.score(X_test, y_test)"
   ]
  },
  {
   "cell_type": "code",
   "execution_count": 170,
   "metadata": {
    "ExecuteTime": {
     "end_time": "2018-02-22T11:22:53.289000Z",
     "start_time": "2018-02-22T11:22:53.281000Z"
    }
   },
   "outputs": [
    {
     "name": "stdout",
     "output_type": "stream",
     "text": [
      "             precision    recall  f1-score   support\n",
      "\n",
      "          0       0.57      0.29      0.38       768\n",
      "          1       0.50      0.31      0.38      2246\n",
      "          2       0.79      0.94      0.86      6857\n",
      "\n",
      "avg / total       0.71      0.75      0.72      9871\n",
      "\n"
     ]
    }
   ],
   "source": [
    "from sklearn import metrics\n",
    "print(metrics.classification_report(y_test, y_pred))"
   ]
  },
  {
   "cell_type": "markdown",
   "metadata": {},
   "source": [
    "# 预测保存"
   ]
  },
  {
   "cell_type": "code",
   "execution_count": 171,
   "metadata": {
    "ExecuteTime": {
     "end_time": "2018-02-22T11:26:27.825000Z",
     "start_time": "2018-02-22T11:26:27.818000Z"
    },
    "collapsed": true
   },
   "outputs": [],
   "source": [
    "submission_xgb = test.loc[:,['Year','Month', 'Day', 'Wday', 'Yday', 'hour']]\n",
    "#submission"
   ]
  },
  {
   "cell_type": "code",
   "execution_count": 172,
   "metadata": {
    "ExecuteTime": {
     "end_time": "2018-02-22T11:26:31.805000Z",
     "start_time": "2018-02-22T11:26:28.235000Z"
    },
    "collapsed": true
   },
   "outputs": [],
   "source": [
    "y_ptrdict = xgb7.predict(test)"
   ]
  },
  {
   "cell_type": "code",
   "execution_count": 173,
   "metadata": {
    "ExecuteTime": {
     "end_time": "2018-02-22T11:26:31.825000Z",
     "start_time": "2018-02-22T11:26:31.809000Z"
    }
   },
   "outputs": [
    {
     "name": "stdout",
     "output_type": "stream",
     "text": [
      "<class 'pandas.core.frame.DataFrame'>\n",
      "RangeIndex: 74659 entries, 0 to 74658\n",
      "Data columns (total 7 columns):\n",
      "Year              74659 non-null int64\n",
      "Month             74659 non-null int64\n",
      "Day               74659 non-null int64\n",
      "Wday              74659 non-null int64\n",
      "Yday              74659 non-null int64\n",
      "hour              74659 non-null int64\n",
      "interest_level    74659 non-null int64\n",
      "dtypes: int64(7)\n",
      "memory usage: 4.0 MB\n"
     ]
    }
   ],
   "source": [
    "submission_xgb['interest_level']= y_ptrdict\n",
    "submission_xgb.info()"
   ]
  },
  {
   "cell_type": "code",
   "execution_count": 174,
   "metadata": {
    "ExecuteTime": {
     "end_time": "2018-02-22T11:26:32.173000Z",
     "start_time": "2018-02-22T11:26:31.827000Z"
    },
    "collapsed": true
   },
   "outputs": [],
   "source": [
    "submission_xgb.to_csv('submission_xgb.csv')"
   ]
  },
  {
   "cell_type": "code",
   "execution_count": 175,
   "metadata": {
    "ExecuteTime": {
     "end_time": "2018-02-22T11:26:40.241000Z",
     "start_time": "2018-02-22T11:26:40.186000Z"
    },
    "collapsed": true
   },
   "outputs": [],
   "source": [
    "submission_crat=pd.read_csv('submission_crat.csv')"
   ]
  },
  {
   "cell_type": "code",
   "execution_count": 176,
   "metadata": {
    "ExecuteTime": {
     "end_time": "2018-02-22T11:26:41.041000Z",
     "start_time": "2018-02-22T11:26:40.922000Z"
    }
   },
   "outputs": [
    {
     "data": {
      "text/plain": [
       "<matplotlib.axes._subplots.AxesSubplot at 0x199b43c8>"
      ]
     },
     "execution_count": 176,
     "metadata": {},
     "output_type": "execute_result"
    },
    {
     "data": {
      "image/png": "[encoded data removed]",
      "text/plain": [
       "<matplotlib.figure.Figure at 0x199ba4a8>"
      ]
     },
     "metadata": {},
     "output_type": "display_data"
    }
   ],
   "source": [
    "sns.countplot(submission_xgb['interest_level']-submission_crat['interest_level'])"
   ]
  },
  {
   "cell_type": "code",
   "execution_count": null,
   "metadata": {
    "collapsed": true
   },
   "outputs": [],
   "source": []
  }
 ],
 "metadata": {
  "kernelspec": {
   "display_name": "Python 3",
   "language": "python",
   "name": "python3"
  },
  "language_info": {
   "codemirror_mode": {
    "name": "ipython",
    "version": 3
   },
   "file_extension": ".py",
   "mimetype": "text/x-python",
   "name": "python",
   "nbconvert_exporter": "python",
   "pygments_lexer": "ipython3",
   "version": "3.6.3"
  },
  "toc": {
   "nav_menu": {},
   "number_sections": true,
   "sideBar": true,
   "skip_h1_title": false,
   "title_cell": "Table of Contents",
   "title_sidebar": "Contents",
   "toc_cell": true,
   "toc_position": {},
   "toc_section_display": true,
   "toc_window_display": false
  }
 },
 "nbformat": 4,
 "nbformat_minor": 2
}
