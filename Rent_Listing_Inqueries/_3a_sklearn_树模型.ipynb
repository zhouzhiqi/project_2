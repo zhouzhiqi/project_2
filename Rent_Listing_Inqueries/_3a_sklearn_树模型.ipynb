{
 "cells": [
  {
   "cell_type": "markdown",
   "metadata": {
    "toc": true
   },
   "source": [
    "<h1>Table of Contents<span class=\"tocSkip\"></span></h1>\n",
    "<div class=\"toc\"><ul class=\"toc-item\"><li><span><a href=\"#RentListingInquries\" data-toc-modified-id=\"RentListingInquries-1\"><span class=\"toc-item-num\">1&nbsp;&nbsp;</span>RentListingInquries</a></span><ul class=\"toc-item\"><li><span><a href=\"#基本信息\" data-toc-modified-id=\"基本信息-1.1\"><span class=\"toc-item-num\">1.1&nbsp;&nbsp;</span>基本信息</a></span></li><li><span><a href=\"#导入工具包\" data-toc-modified-id=\"导入工具包-1.2\"><span class=\"toc-item-num\">1.2&nbsp;&nbsp;</span>导入工具包</a></span></li><li><span><a href=\"#导入数据\" data-toc-modified-id=\"导入数据-1.3\"><span class=\"toc-item-num\">1.3&nbsp;&nbsp;</span>导入数据</a></span></li><li><span><a href=\"#分割数据\" data-toc-modified-id=\"分割数据-1.4\"><span class=\"toc-item-num\">1.4&nbsp;&nbsp;</span>分割数据</a></span></li><li><span><a href=\"#数据量太大,分割数据\" data-toc-modified-id=\"数据量太大,分割数据-1.5\"><span class=\"toc-item-num\">1.5&nbsp;&nbsp;</span>数据量太大,分割数据</a></span></li></ul></li><li><span><a href=\"#模型选择\" data-toc-modified-id=\"模型选择-2\"><span class=\"toc-item-num\">2&nbsp;&nbsp;</span>模型选择</a></span><ul class=\"toc-item\"><li><span><a href=\"#DecisionTreeClassifier\" data-toc-modified-id=\"DecisionTreeClassifier-2.1\"><span class=\"toc-item-num\">2.1&nbsp;&nbsp;</span>DecisionTreeClassifier</a></span></li><li><span><a href=\"#RandomForest\" data-toc-modified-id=\"RandomForest-2.2\"><span class=\"toc-item-num\">2.2&nbsp;&nbsp;</span>RandomForest</a></span></li></ul></li><li><span><a href=\"#预测保存\" data-toc-modified-id=\"预测保存-3\"><span class=\"toc-item-num\">3&nbsp;&nbsp;</span>预测保存</a></span></li></ul></div>"
   ]
  },
  {
   "cell_type": "markdown",
   "metadata": {},
   "source": [
    "# RentListingInquries"
   ]
  },
  {
   "cell_type": "markdown",
   "metadata": {},
   "source": [
    "## 基本信息\n",
    "bathrooms: 浴室的数量number of bathrooms\n",
    "bedrooms: 卧室数量number of bedrooms\n",
    "building_id: ID号\n",
    "created: \n",
    "description: 描述\n",
    "display_address: \n",
    "features: 关于这间公寓的功能列表a list of features about this apartment\n",
    "latitude: 纬度\n",
    "listing_id\n",
    "longitude: 经度\n",
    "manager_id\n",
    "photos: 照片链接列表a list of photo links. You are welcome to download the pictures yourselves from renthop's site, but they are the same as imgs.zip. \n",
    "price: 以美元计算in USD\n",
    "street_address: 街道地址\n",
    "interest_level: 这是目标变量。它有3个类别：'高'，'中等'，'低'this is the target variable. It has 3 categories: 'high', 'medium', 'low'"
   ]
  },
  {
   "cell_type": "markdown",
   "metadata": {},
   "source": [
    "## 导入工具包"
   ]
  },
  {
   "cell_type": "code",
   "execution_count": 1,
   "metadata": {
    "ExecuteTime": {
     "end_time": "2018-02-22T06:51:19.225000Z",
     "start_time": "2018-02-22T06:51:18.432000Z"
    },
    "collapsed": true
   },
   "outputs": [],
   "source": [
    "# 数据导入与处理\n",
    "import numpy as np\n",
    "import pandas as pd\n",
    "# 数据可视化\n",
    "import matplotlib.pyplot as plt\n",
    "import seaborn as sns\n"
   ]
  },
  {
   "cell_type": "markdown",
   "metadata": {},
   "source": [
    "特征工程处理过程见\"./FE_RentListingInqueries.ipynb\""
   ]
  },
  {
   "cell_type": "markdown",
   "metadata": {},
   "source": [
    "## 导入数据"
   ]
  },
  {
   "cell_type": "code",
   "execution_count": 2,
   "metadata": {
    "ExecuteTime": {
     "end_time": "2018-02-22T06:51:20.218000Z",
     "start_time": "2018-02-22T06:51:19.226000Z"
    }
   },
   "outputs": [
    {
     "data": {
      "text/html": [
       "<div>\n",
       "<style scoped>\n",
       "    .dataframe tbody tr th:only-of-type {\n",
       "        vertical-align: middle;\n",
       "    }\n",
       "\n",
       "    .dataframe tbody tr th {\n",
       "        vertical-align: top;\n",
       "    }\n",
       "\n",
       "    .dataframe thead th {\n",
       "        text-align: right;\n",
       "    }\n",
       "</style>\n",
       "<table border=\"1\" class=\"dataframe\">\n",
       "  <thead>\n",
       "    <tr style=\"text-align: right;\">\n",
       "      <th></th>\n",
       "      <th>bathrooms</th>\n",
       "      <th>bedrooms</th>\n",
       "      <th>price</th>\n",
       "      <th>price_bathrooms</th>\n",
       "      <th>price_bedrooms</th>\n",
       "      <th>room_diff</th>\n",
       "      <th>room_num</th>\n",
       "      <th>Year</th>\n",
       "      <th>Month</th>\n",
       "      <th>Day</th>\n",
       "      <th>...</th>\n",
       "      <th>walk</th>\n",
       "      <th>walls</th>\n",
       "      <th>war</th>\n",
       "      <th>washer</th>\n",
       "      <th>water</th>\n",
       "      <th>wheelchair</th>\n",
       "      <th>wifi</th>\n",
       "      <th>windows</th>\n",
       "      <th>work</th>\n",
       "      <th>interest_level</th>\n",
       "    </tr>\n",
       "  </thead>\n",
       "  <tbody>\n",
       "    <tr>\n",
       "      <th>0</th>\n",
       "      <td>1.5</td>\n",
       "      <td>3</td>\n",
       "      <td>3000</td>\n",
       "      <td>1200.0</td>\n",
       "      <td>750.000000</td>\n",
       "      <td>-1.5</td>\n",
       "      <td>4.5</td>\n",
       "      <td>2016</td>\n",
       "      <td>6</td>\n",
       "      <td>24</td>\n",
       "      <td>...</td>\n",
       "      <td>0</td>\n",
       "      <td>0</td>\n",
       "      <td>0</td>\n",
       "      <td>0</td>\n",
       "      <td>0</td>\n",
       "      <td>0</td>\n",
       "      <td>0</td>\n",
       "      <td>0</td>\n",
       "      <td>0</td>\n",
       "      <td>1</td>\n",
       "    </tr>\n",
       "    <tr>\n",
       "      <th>1</th>\n",
       "      <td>1.0</td>\n",
       "      <td>2</td>\n",
       "      <td>5465</td>\n",
       "      <td>2732.5</td>\n",
       "      <td>1821.666667</td>\n",
       "      <td>-1.0</td>\n",
       "      <td>3.0</td>\n",
       "      <td>2016</td>\n",
       "      <td>6</td>\n",
       "      <td>12</td>\n",
       "      <td>...</td>\n",
       "      <td>0</td>\n",
       "      <td>0</td>\n",
       "      <td>0</td>\n",
       "      <td>0</td>\n",
       "      <td>0</td>\n",
       "      <td>0</td>\n",
       "      <td>0</td>\n",
       "      <td>0</td>\n",
       "      <td>0</td>\n",
       "      <td>2</td>\n",
       "    </tr>\n",
       "    <tr>\n",
       "      <th>2</th>\n",
       "      <td>1.0</td>\n",
       "      <td>1</td>\n",
       "      <td>2850</td>\n",
       "      <td>1425.0</td>\n",
       "      <td>1425.000000</td>\n",
       "      <td>0.0</td>\n",
       "      <td>2.0</td>\n",
       "      <td>2016</td>\n",
       "      <td>4</td>\n",
       "      <td>17</td>\n",
       "      <td>...</td>\n",
       "      <td>0</td>\n",
       "      <td>0</td>\n",
       "      <td>0</td>\n",
       "      <td>0</td>\n",
       "      <td>0</td>\n",
       "      <td>0</td>\n",
       "      <td>0</td>\n",
       "      <td>0</td>\n",
       "      <td>0</td>\n",
       "      <td>0</td>\n",
       "    </tr>\n",
       "    <tr>\n",
       "      <th>3</th>\n",
       "      <td>1.0</td>\n",
       "      <td>1</td>\n",
       "      <td>3275</td>\n",
       "      <td>1637.5</td>\n",
       "      <td>1637.500000</td>\n",
       "      <td>0.0</td>\n",
       "      <td>2.0</td>\n",
       "      <td>2016</td>\n",
       "      <td>4</td>\n",
       "      <td>18</td>\n",
       "      <td>...</td>\n",
       "      <td>0</td>\n",
       "      <td>0</td>\n",
       "      <td>0</td>\n",
       "      <td>0</td>\n",
       "      <td>0</td>\n",
       "      <td>0</td>\n",
       "      <td>0</td>\n",
       "      <td>0</td>\n",
       "      <td>0</td>\n",
       "      <td>2</td>\n",
       "    </tr>\n",
       "    <tr>\n",
       "      <th>4</th>\n",
       "      <td>1.0</td>\n",
       "      <td>4</td>\n",
       "      <td>3350</td>\n",
       "      <td>1675.0</td>\n",
       "      <td>670.000000</td>\n",
       "      <td>-3.0</td>\n",
       "      <td>5.0</td>\n",
       "      <td>2016</td>\n",
       "      <td>4</td>\n",
       "      <td>28</td>\n",
       "      <td>...</td>\n",
       "      <td>0</td>\n",
       "      <td>0</td>\n",
       "      <td>1</td>\n",
       "      <td>0</td>\n",
       "      <td>0</td>\n",
       "      <td>0</td>\n",
       "      <td>0</td>\n",
       "      <td>0</td>\n",
       "      <td>0</td>\n",
       "      <td>2</td>\n",
       "    </tr>\n",
       "  </tbody>\n",
       "</table>\n",
       "<p>5 rows × 228 columns</p>\n",
       "</div>"
      ],
      "text/plain": [
       "   bathrooms  bedrooms  price  price_bathrooms  price_bedrooms  room_diff  \\\n",
       "0        1.5         3   3000           1200.0      750.000000       -1.5   \n",
       "1        1.0         2   5465           2732.5     1821.666667       -1.0   \n",
       "2        1.0         1   2850           1425.0     1425.000000        0.0   \n",
       "3        1.0         1   3275           1637.5     1637.500000        0.0   \n",
       "4        1.0         4   3350           1675.0      670.000000       -3.0   \n",
       "\n",
       "   room_num  Year  Month  Day       ...        walk  walls  war  washer  \\\n",
       "0       4.5  2016      6   24       ...           0      0    0       0   \n",
       "1       3.0  2016      6   12       ...           0      0    0       0   \n",
       "2       2.0  2016      4   17       ...           0      0    0       0   \n",
       "3       2.0  2016      4   18       ...           0      0    0       0   \n",
       "4       5.0  2016      4   28       ...           0      0    1       0   \n",
       "\n",
       "   water  wheelchair  wifi  windows  work  interest_level  \n",
       "0      0           0     0        0     0               1  \n",
       "1      0           0     0        0     0               2  \n",
       "2      0           0     0        0     0               0  \n",
       "3      0           0     0        0     0               2  \n",
       "4      0           0     0        0     0               2  \n",
       "\n",
       "[5 rows x 228 columns]"
      ]
     },
     "execution_count": 2,
     "metadata": {},
     "output_type": "execute_result"
    }
   ],
   "source": [
    "# 课程网站提供的特征工程编码后的数据（RentListingInquries_FE_train.csv）\n",
    "# 或稀疏编码的形式（RentListingInquries_FE_train.bin）\n",
    "dpath = 'E:/AI/00/data/RentListingInquries/'\n",
    "train = pd.read_csv(dpath+'RentListingInquries_FE_train.csv')\n",
    "train.head()"
   ]
  },
  {
   "cell_type": "code",
   "execution_count": 3,
   "metadata": {
    "ExecuteTime": {
     "end_time": "2018-02-22T06:51:21.621000Z",
     "start_time": "2018-02-22T06:51:20.220000Z"
    }
   },
   "outputs": [
    {
     "data": {
      "text/html": [
       "<div>\n",
       "<style scoped>\n",
       "    .dataframe tbody tr th:only-of-type {\n",
       "        vertical-align: middle;\n",
       "    }\n",
       "\n",
       "    .dataframe tbody tr th {\n",
       "        vertical-align: top;\n",
       "    }\n",
       "\n",
       "    .dataframe thead th {\n",
       "        text-align: right;\n",
       "    }\n",
       "</style>\n",
       "<table border=\"1\" class=\"dataframe\">\n",
       "  <thead>\n",
       "    <tr style=\"text-align: right;\">\n",
       "      <th></th>\n",
       "      <th>bathrooms</th>\n",
       "      <th>bedrooms</th>\n",
       "      <th>price</th>\n",
       "      <th>price_bathrooms</th>\n",
       "      <th>price_bedrooms</th>\n",
       "      <th>room_diff</th>\n",
       "      <th>room_num</th>\n",
       "      <th>Year</th>\n",
       "      <th>Month</th>\n",
       "      <th>Day</th>\n",
       "      <th>...</th>\n",
       "      <th>virtual</th>\n",
       "      <th>walk</th>\n",
       "      <th>walls</th>\n",
       "      <th>war</th>\n",
       "      <th>washer</th>\n",
       "      <th>water</th>\n",
       "      <th>wheelchair</th>\n",
       "      <th>wifi</th>\n",
       "      <th>windows</th>\n",
       "      <th>work</th>\n",
       "    </tr>\n",
       "  </thead>\n",
       "  <tbody>\n",
       "    <tr>\n",
       "      <th>0</th>\n",
       "      <td>1.0</td>\n",
       "      <td>1</td>\n",
       "      <td>2950</td>\n",
       "      <td>1475.000000</td>\n",
       "      <td>1475.000000</td>\n",
       "      <td>0.0</td>\n",
       "      <td>2.0</td>\n",
       "      <td>2016</td>\n",
       "      <td>6</td>\n",
       "      <td>11</td>\n",
       "      <td>...</td>\n",
       "      <td>0</td>\n",
       "      <td>0</td>\n",
       "      <td>0</td>\n",
       "      <td>0</td>\n",
       "      <td>0</td>\n",
       "      <td>0</td>\n",
       "      <td>0</td>\n",
       "      <td>0</td>\n",
       "      <td>0</td>\n",
       "      <td>0</td>\n",
       "    </tr>\n",
       "    <tr>\n",
       "      <th>1</th>\n",
       "      <td>1.0</td>\n",
       "      <td>2</td>\n",
       "      <td>2850</td>\n",
       "      <td>1425.000000</td>\n",
       "      <td>950.000000</td>\n",
       "      <td>-1.0</td>\n",
       "      <td>3.0</td>\n",
       "      <td>2016</td>\n",
       "      <td>6</td>\n",
       "      <td>24</td>\n",
       "      <td>...</td>\n",
       "      <td>0</td>\n",
       "      <td>0</td>\n",
       "      <td>0</td>\n",
       "      <td>1</td>\n",
       "      <td>0</td>\n",
       "      <td>0</td>\n",
       "      <td>0</td>\n",
       "      <td>0</td>\n",
       "      <td>0</td>\n",
       "      <td>0</td>\n",
       "    </tr>\n",
       "    <tr>\n",
       "      <th>2</th>\n",
       "      <td>1.0</td>\n",
       "      <td>1</td>\n",
       "      <td>3758</td>\n",
       "      <td>1879.000000</td>\n",
       "      <td>1879.000000</td>\n",
       "      <td>0.0</td>\n",
       "      <td>2.0</td>\n",
       "      <td>2016</td>\n",
       "      <td>6</td>\n",
       "      <td>3</td>\n",
       "      <td>...</td>\n",
       "      <td>0</td>\n",
       "      <td>0</td>\n",
       "      <td>0</td>\n",
       "      <td>0</td>\n",
       "      <td>0</td>\n",
       "      <td>0</td>\n",
       "      <td>0</td>\n",
       "      <td>0</td>\n",
       "      <td>0</td>\n",
       "      <td>0</td>\n",
       "    </tr>\n",
       "    <tr>\n",
       "      <th>3</th>\n",
       "      <td>1.0</td>\n",
       "      <td>2</td>\n",
       "      <td>3300</td>\n",
       "      <td>1650.000000</td>\n",
       "      <td>1100.000000</td>\n",
       "      <td>-1.0</td>\n",
       "      <td>3.0</td>\n",
       "      <td>2016</td>\n",
       "      <td>6</td>\n",
       "      <td>11</td>\n",
       "      <td>...</td>\n",
       "      <td>0</td>\n",
       "      <td>0</td>\n",
       "      <td>0</td>\n",
       "      <td>0</td>\n",
       "      <td>0</td>\n",
       "      <td>0</td>\n",
       "      <td>1</td>\n",
       "      <td>0</td>\n",
       "      <td>0</td>\n",
       "      <td>0</td>\n",
       "    </tr>\n",
       "    <tr>\n",
       "      <th>4</th>\n",
       "      <td>2.0</td>\n",
       "      <td>2</td>\n",
       "      <td>4900</td>\n",
       "      <td>1633.333333</td>\n",
       "      <td>1633.333333</td>\n",
       "      <td>0.0</td>\n",
       "      <td>4.0</td>\n",
       "      <td>2016</td>\n",
       "      <td>4</td>\n",
       "      <td>12</td>\n",
       "      <td>...</td>\n",
       "      <td>0</td>\n",
       "      <td>0</td>\n",
       "      <td>0</td>\n",
       "      <td>1</td>\n",
       "      <td>0</td>\n",
       "      <td>0</td>\n",
       "      <td>0</td>\n",
       "      <td>0</td>\n",
       "      <td>0</td>\n",
       "      <td>0</td>\n",
       "    </tr>\n",
       "  </tbody>\n",
       "</table>\n",
       "<p>5 rows × 227 columns</p>\n",
       "</div>"
      ],
      "text/plain": [
       "   bathrooms  bedrooms  price  price_bathrooms  price_bedrooms  room_diff  \\\n",
       "0        1.0         1   2950      1475.000000     1475.000000        0.0   \n",
       "1        1.0         2   2850      1425.000000      950.000000       -1.0   \n",
       "2        1.0         1   3758      1879.000000     1879.000000        0.0   \n",
       "3        1.0         2   3300      1650.000000     1100.000000       -1.0   \n",
       "4        2.0         2   4900      1633.333333     1633.333333        0.0   \n",
       "\n",
       "   room_num  Year  Month  Day  ...   virtual  walk  walls  war  washer  water  \\\n",
       "0       2.0  2016      6   11  ...         0     0      0    0       0      0   \n",
       "1       3.0  2016      6   24  ...         0     0      0    1       0      0   \n",
       "2       2.0  2016      6    3  ...         0     0      0    0       0      0   \n",
       "3       3.0  2016      6   11  ...         0     0      0    0       0      0   \n",
       "4       4.0  2016      4   12  ...         0     0      0    1       0      0   \n",
       "\n",
       "   wheelchair  wifi  windows  work  \n",
       "0           0     0        0     0  \n",
       "1           0     0        0     0  \n",
       "2           0     0        0     0  \n",
       "3           1     0        0     0  \n",
       "4           0     0        0     0  \n",
       "\n",
       "[5 rows x 227 columns]"
      ]
     },
     "execution_count": 3,
     "metadata": {},
     "output_type": "execute_result"
    }
   ],
   "source": [
    "# 测试数据\n",
    "test = pd.read_csv(dpath+'RentListingInquries_FE_test.csv')\n",
    "test.head()"
   ]
  },
  {
   "cell_type": "code",
   "execution_count": 4,
   "metadata": {
    "ExecuteTime": {
     "end_time": "2018-02-22T06:51:21.772000Z",
     "start_time": "2018-02-22T06:51:21.623000Z"
    }
   },
   "outputs": [
    {
     "data": {
      "text/plain": [
       "bathrooms         0\n",
       "month             0\n",
       "multi             0\n",
       "natural           0\n",
       "new               0\n",
       "newly             0\n",
       "ok                0\n",
       "outdoor           0\n",
       "oversized         0\n",
       "park              0\n",
       "parking           0\n",
       "patio             0\n",
       "modern            0\n",
       "pet               0\n",
       "photos            0\n",
       "playroom          0\n",
       "pool              0\n",
       "post              0\n",
       "pre               0\n",
       "prewar            0\n",
       "private           0\n",
       "publicoutdoor     0\n",
       "queen             0\n",
       "ramp              0\n",
       "reduced           0\n",
       "pets              0\n",
       "midrise           0\n",
       "microwave         0\n",
       "massive           0\n",
       "high              0\n",
       "                 ..\n",
       "work              0\n",
       "doorman           0\n",
       "dishwasher        0\n",
       "business          0\n",
       "cable             0\n",
       "cats              0\n",
       "ceiling           0\n",
       "ceilings          0\n",
       "center            0\n",
       "central           0\n",
       "chef              0\n",
       "children          0\n",
       "childrens         0\n",
       "clean             0\n",
       "cleaning          0\n",
       "close             0\n",
       "closet            0\n",
       "closets           0\n",
       "club              0\n",
       "common            0\n",
       "concierge         0\n",
       "conditioning      0\n",
       "construction      0\n",
       "courtyard         0\n",
       "deck              0\n",
       "decorative        0\n",
       "details           0\n",
       "dining            0\n",
       "dogs              0\n",
       "interest_level    0\n",
       "Length: 228, dtype: int64"
      ]
     },
     "execution_count": 4,
     "metadata": {},
     "output_type": "execute_result"
    }
   ],
   "source": [
    "train.isnull().sum().sort_values()"
   ]
  },
  {
   "cell_type": "code",
   "execution_count": 5,
   "metadata": {
    "ExecuteTime": {
     "end_time": "2018-02-22T06:51:21.995000Z",
     "start_time": "2018-02-22T06:51:21.774000Z"
    }
   },
   "outputs": [
    {
     "data": {
      "text/plain": [
       "bathrooms                     0\n",
       "modern                        0\n",
       "month                         0\n",
       "multi                         0\n",
       "natural                       0\n",
       "new                           0\n",
       "newly                         0\n",
       "ok                            0\n",
       "outdoor                       0\n",
       "oversized                     0\n",
       "park                          0\n",
       "parking                       0\n",
       "midrise                       0\n",
       "patio                         0\n",
       "pets                          0\n",
       "photos                        0\n",
       "playroom                      0\n",
       "pool                          0\n",
       "post                          0\n",
       "pre                           0\n",
       "prewar                        0\n",
       "private                       0\n",
       "publicoutdoor                 0\n",
       "queen                         0\n",
       "ramp                          0\n",
       "pet                           0\n",
       "microwave                     0\n",
       "massive                       0\n",
       "marble                        0\n",
       "hi                            0\n",
       "                          ...  \n",
       "dishwasher                    0\n",
       "cable                         0\n",
       "cats                          0\n",
       "ceiling                       0\n",
       "ceilings                      0\n",
       "center                        0\n",
       "central                       0\n",
       "chef                          0\n",
       "children                      0\n",
       "childrens                     0\n",
       "clean                         0\n",
       "cleaning                      0\n",
       "close                         0\n",
       "closet                        0\n",
       "closets                       0\n",
       "club                          0\n",
       "common                        0\n",
       "concierge                     0\n",
       "conditioning                  0\n",
       "construction                  0\n",
       "courtyard                     0\n",
       "deck                          0\n",
       "decorative                    0\n",
       "details                       0\n",
       "dining                        0\n",
       "dogs                          0\n",
       "work                          0\n",
       "display_address_pred_0    74659\n",
       "display_address_pred_1    74659\n",
       "display_address_pred_2    74659\n",
       "Length: 227, dtype: int64"
      ]
     },
     "execution_count": 5,
     "metadata": {},
     "output_type": "execute_result"
    }
   ],
   "source": [
    "test.isnull().sum().sort_values()"
   ]
  },
  {
   "cell_type": "markdown",
   "metadata": {},
   "source": [
    "test中 'display_address_pred_0', 'display_address_pred_1', 'display_address_pred_2' 全部都是nan, 舍弃此特征"
   ]
  },
  {
   "cell_type": "code",
   "execution_count": 6,
   "metadata": {
    "ExecuteTime": {
     "end_time": "2018-02-22T06:51:22.096000Z",
     "start_time": "2018-02-22T06:51:21.997000Z"
    },
    "collapsed": true
   },
   "outputs": [],
   "source": [
    "train.drop(['display_address_pred_0', 'display_address_pred_1', 'display_address_pred_2'], axis=1, inplace=True)\n",
    "test.drop(['display_address_pred_0', 'display_address_pred_1', 'display_address_pred_2'], axis=1, inplace=True)"
   ]
  },
  {
   "cell_type": "code",
   "execution_count": 7,
   "metadata": {
    "ExecuteTime": {
     "end_time": "2018-02-22T06:51:22.105000Z",
     "start_time": "2018-02-22T06:51:22.098000Z"
    }
   },
   "outputs": [
    {
     "data": {
      "text/plain": [
       "False"
      ]
     },
     "execution_count": 7,
     "metadata": {},
     "output_type": "execute_result"
    }
   ],
   "source": [
    "\"building_id\" in test.columns"
   ]
  },
  {
   "cell_type": "code",
   "execution_count": 8,
   "metadata": {
    "ExecuteTime": {
     "end_time": "2018-02-22T06:51:22.120000Z",
     "start_time": "2018-02-22T06:51:22.107000Z"
    }
   },
   "outputs": [
    {
     "name": "stdout",
     "output_type": "stream",
     "text": [
      "train.shape=(49352, 225)\n",
      "test.shape=(74659, 224)\n"
     ]
    }
   ],
   "source": [
    "print('train.shape='+str(train.shape))\n",
    "print('test.shape='+str(test.shape))"
   ]
  },
  {
   "cell_type": "code",
   "execution_count": 9,
   "metadata": {
    "ExecuteTime": {
     "end_time": "2018-02-22T06:51:22.129000Z",
     "start_time": "2018-02-22T06:51:22.122000Z"
    }
   },
   "outputs": [
    {
     "data": {
      "text/plain": [
       "bathrooms             1.50000\n",
       "bedrooms              3.00000\n",
       "price              3000.00000\n",
       "price_bathrooms    1200.00000\n",
       "price_bedrooms      750.00000\n",
       "room_diff            -1.50000\n",
       "room_num              4.50000\n",
       "Year               2016.00000\n",
       "Month                 6.00000\n",
       "Day                  24.00000\n",
       "Wday                  4.00000\n",
       "Yday                176.00000\n",
       "hour                  7.00000\n",
       "top_10_manager        1.00000\n",
       "top_25_manager        1.00000\n",
       "top_5_manager         1.00000\n",
       "top_50_manager        1.00000\n",
       "top_1_manager         0.00000\n",
       "top_2_manager         0.00000\n",
       "top_15_manager        1.00000\n",
       "top_20_manager        1.00000\n",
       "top_30_manager        1.00000\n",
       "cenroid               5.00000\n",
       "distance              0.04026\n",
       "1br                   0.00000\n",
       "24                    0.00000\n",
       "2br                   0.00000\n",
       "3br                   0.00000\n",
       "ac                    0.00000\n",
       "access                0.00000\n",
       "                      ...    \n",
       "sublet                0.00000\n",
       "subway                0.00000\n",
       "super                 0.00000\n",
       "superintendent        0.00000\n",
       "swimming              0.00000\n",
       "tenant                0.00000\n",
       "term                  0.00000\n",
       "terrace               0.00000\n",
       "time                  0.00000\n",
       "tons                  0.00000\n",
       "train                 0.00000\n",
       "true                  0.00000\n",
       "tv                    0.00000\n",
       "unit                  0.00000\n",
       "utilities             0.00000\n",
       "valet                 0.00000\n",
       "video                 0.00000\n",
       "view                  0.00000\n",
       "views                 0.00000\n",
       "virtual               0.00000\n",
       "walk                  0.00000\n",
       "walls                 0.00000\n",
       "war                   0.00000\n",
       "washer                0.00000\n",
       "water                 0.00000\n",
       "wheelchair            0.00000\n",
       "wifi                  0.00000\n",
       "windows               0.00000\n",
       "work                  0.00000\n",
       "interest_level        1.00000\n",
       "Name: 0, Length: 225, dtype: float64"
      ]
     },
     "execution_count": 9,
     "metadata": {},
     "output_type": "execute_result"
    }
   ],
   "source": [
    "train.iloc[0,:].T"
   ]
  },
  {
   "cell_type": "markdown",
   "metadata": {},
   "source": [
    "## 分割数据"
   ]
  },
  {
   "cell_type": "markdown",
   "metadata": {
    "ExecuteTime": {
     "end_time": "2018-02-22T06:48:23.620000Z",
     "start_time": "2018-02-22T06:48:23.582000Z"
    }
   },
   "source": [
    "## 数据量太大,分割数据\n",
    "train = train.sample(frac=0.3)\n",
    "train.shape"
   ]
  },
  {
   "cell_type": "code",
   "execution_count": 10,
   "metadata": {
    "ExecuteTime": {
     "end_time": "2018-02-22T06:51:22.305000Z",
     "start_time": "2018-02-22T06:51:22.131000Z"
    },
    "collapsed": true
   },
   "outputs": [],
   "source": [
    "# 区分测试集与训练集\n",
    "X = train.drop('interest_level', axis=1)\n",
    "y = train['interest_level']\n",
    "\n",
    "from sklearn.model_selection import train_test_split\n",
    "X_train, X_test, y_train, y_test = train_test_split(X, y\n",
    "    , test_size=0.2\n",
    "    , random_state=33\n",
    "    , stratify=y)"
   ]
  },
  {
   "cell_type": "code",
   "execution_count": 11,
   "metadata": {
    "ExecuteTime": {
     "end_time": "2018-02-22T06:51:22.319000Z",
     "start_time": "2018-02-22T06:51:22.306000Z"
    }
   },
   "outputs": [
    {
     "name": "stdout",
     "output_type": "stream",
     "text": [
      "<class 'pandas.core.frame.DataFrame'>\n",
      "Int64Index: 39481 entries, 14659 to 25927\n",
      "Columns: 224 entries, bathrooms to work\n",
      "dtypes: float64(6), int64(218)\n",
      "memory usage: 67.8 MB\n"
     ]
    }
   ],
   "source": [
    "X_train.info()"
   ]
  },
  {
   "cell_type": "markdown",
   "metadata": {},
   "source": [
    "# 模型选择"
   ]
  },
  {
   "cell_type": "markdown",
   "metadata": {},
   "source": [
    "## DecisionTreeClassifier"
   ]
  },
  {
   "cell_type": "code",
   "execution_count": 12,
   "metadata": {
    "ExecuteTime": {
     "end_time": "2018-02-22T06:51:22.326000Z",
     "start_time": "2018-02-22T06:51:22.321000Z"
    },
    "collapsed": true
   },
   "outputs": [],
   "source": [
    "# 分类评分标准\n",
    "from sklearn.metrics import roc_auc_score \n",
    "from sklearn.metrics import accuracy_score"
   ]
  },
  {
   "cell_type": "code",
   "execution_count": 13,
   "metadata": {
    "ExecuteTime": {
     "end_time": "2018-02-22T06:51:22.353000Z",
     "start_time": "2018-02-22T06:51:22.328000Z"
    },
    "collapsed": true
   },
   "outputs": [],
   "source": [
    "from sklearn.tree import DecisionTreeClassifier\n",
    "model_tree = DecisionTreeClassifier()"
   ]
  },
  {
   "cell_type": "code",
   "execution_count": 14,
   "metadata": {
    "ExecuteTime": {
     "end_time": "2018-02-22T06:51:23.463000Z",
     "start_time": "2018-02-22T06:51:22.354000Z"
    }
   },
   "outputs": [
    {
     "data": {
      "text/plain": [
       "DecisionTreeClassifier(class_weight=None, criterion='gini', max_depth=None,\n",
       "            max_features=None, max_leaf_nodes=None,\n",
       "            min_impurity_decrease=0.0, min_impurity_split=None,\n",
       "            min_samples_leaf=1, min_samples_split=2,\n",
       "            min_weight_fraction_leaf=0.0, presort=False, random_state=None,\n",
       "            splitter='best')"
      ]
     },
     "execution_count": 14,
     "metadata": {},
     "output_type": "execute_result"
    }
   ],
   "source": [
    "model_tree.fit(X_train, y_train)"
   ]
  },
  {
   "cell_type": "code",
   "execution_count": 15,
   "metadata": {
    "ExecuteTime": {
     "end_time": "2018-02-22T06:51:23.510000Z",
     "start_time": "2018-02-22T06:51:23.465000Z"
    }
   },
   "outputs": [
    {
     "data": {
      "text/plain": [
       "0.65697497720595688"
      ]
     },
     "execution_count": 15,
     "metadata": {},
     "output_type": "execute_result"
    }
   ],
   "source": [
    "y_pd = model_tree.predict(X_test)\n",
    "model_tree.score(X_test, y_test)"
   ]
  },
  {
   "cell_type": "code",
   "execution_count": 16,
   "metadata": {
    "ExecuteTime": {
     "end_time": "2018-02-22T06:51:23.519000Z",
     "start_time": "2018-02-22T06:51:23.512000Z"
    }
   },
   "outputs": [
    {
     "name": "stdout",
     "output_type": "stream",
     "text": [
      "             precision    recall  f1-score   support\n",
      "\n",
      "          0       0.31      0.31      0.31       768\n",
      "          1       0.36      0.38      0.37      2246\n",
      "          2       0.80      0.79      0.79      6857\n",
      "\n",
      "avg / total       0.66      0.66      0.66      9871\n",
      "\n"
     ]
    }
   ],
   "source": [
    "from sklearn import metrics\n",
    "print(metrics.classification_report(y_test, y_pd))"
   ]
  },
  {
   "cell_type": "markdown",
   "metadata": {
    "ExecuteTime": {
     "end_time": "2018-02-16T09:33:22.043224Z",
     "start_time": "2018-02-16T09:33:22.026214Z"
    }
   },
   "source": [
    "print(roc_auc_score(y_test,y_pdpbed))"
   ]
  },
  {
   "cell_type": "markdown",
   "metadata": {},
   "source": [
    "缺省的决策树正确率为0.63"
   ]
  },
  {
   "cell_type": "code",
   "execution_count": 17,
   "metadata": {
    "ExecuteTime": {
     "end_time": "2018-02-22T06:51:23.544000Z",
     "start_time": "2018-02-22T06:51:23.521000Z"
    },
    "scrolled": true
   },
   "outputs": [
    {
     "data": {
      "text/html": [
       "<div>\n",
       "<style scoped>\n",
       "    .dataframe tbody tr th:only-of-type {\n",
       "        vertical-align: middle;\n",
       "    }\n",
       "\n",
       "    .dataframe tbody tr th {\n",
       "        vertical-align: top;\n",
       "    }\n",
       "\n",
       "    .dataframe thead th {\n",
       "        text-align: right;\n",
       "    }\n",
       "</style>\n",
       "<table border=\"1\" class=\"dataframe\">\n",
       "  <thead>\n",
       "    <tr style=\"text-align: right;\">\n",
       "      <th></th>\n",
       "      <th>columns</th>\n",
       "      <th>importance</th>\n",
       "    </tr>\n",
       "  </thead>\n",
       "  <tbody>\n",
       "    <tr>\n",
       "      <th>4</th>\n",
       "      <td>price_bedrooms</td>\n",
       "      <td>0.119057</td>\n",
       "    </tr>\n",
       "    <tr>\n",
       "      <th>23</th>\n",
       "      <td>distance</td>\n",
       "      <td>0.105409</td>\n",
       "    </tr>\n",
       "    <tr>\n",
       "      <th>11</th>\n",
       "      <td>Yday</td>\n",
       "      <td>0.084414</td>\n",
       "    </tr>\n",
       "    <tr>\n",
       "      <th>3</th>\n",
       "      <td>price_bathrooms</td>\n",
       "      <td>0.075192</td>\n",
       "    </tr>\n",
       "    <tr>\n",
       "      <th>9</th>\n",
       "      <td>Day</td>\n",
       "      <td>0.074082</td>\n",
       "    </tr>\n",
       "    <tr>\n",
       "      <th>2</th>\n",
       "      <td>price</td>\n",
       "      <td>0.071754</td>\n",
       "    </tr>\n",
       "    <tr>\n",
       "      <th>12</th>\n",
       "      <td>hour</td>\n",
       "      <td>0.071580</td>\n",
       "    </tr>\n",
       "    <tr>\n",
       "      <th>10</th>\n",
       "      <td>Wday</td>\n",
       "      <td>0.045516</td>\n",
       "    </tr>\n",
       "    <tr>\n",
       "      <th>22</th>\n",
       "      <td>cenroid</td>\n",
       "      <td>0.032413</td>\n",
       "    </tr>\n",
       "    <tr>\n",
       "      <th>93</th>\n",
       "      <td>fee</td>\n",
       "      <td>0.023490</td>\n",
       "    </tr>\n",
       "    <tr>\n",
       "      <th>125</th>\n",
       "      <td>laundry</td>\n",
       "      <td>0.013055</td>\n",
       "    </tr>\n",
       "    <tr>\n",
       "      <th>32</th>\n",
       "      <td>allowed</td>\n",
       "      <td>0.010615</td>\n",
       "    </tr>\n",
       "    <tr>\n",
       "      <th>17</th>\n",
       "      <td>top_1_manager</td>\n",
       "      <td>0.009855</td>\n",
       "    </tr>\n",
       "    <tr>\n",
       "      <th>15</th>\n",
       "      <td>top_5_manager</td>\n",
       "      <td>0.009499</td>\n",
       "    </tr>\n",
       "    <tr>\n",
       "      <th>8</th>\n",
       "      <td>Month</td>\n",
       "      <td>0.009459</td>\n",
       "    </tr>\n",
       "    <tr>\n",
       "      <th>110</th>\n",
       "      <td>hardwood</td>\n",
       "      <td>0.009400</td>\n",
       "    </tr>\n",
       "    <tr>\n",
       "      <th>88</th>\n",
       "      <td>elevator</td>\n",
       "      <td>0.009300</td>\n",
       "    </tr>\n",
       "    <tr>\n",
       "      <th>80</th>\n",
       "      <td>dishwasher</td>\n",
       "      <td>0.009119</td>\n",
       "    </tr>\n",
       "    <tr>\n",
       "      <th>13</th>\n",
       "      <td>top_10_manager</td>\n",
       "      <td>0.008821</td>\n",
       "    </tr>\n",
       "    <tr>\n",
       "      <th>18</th>\n",
       "      <td>top_2_manager</td>\n",
       "      <td>0.008499</td>\n",
       "    </tr>\n",
       "    <tr>\n",
       "      <th>54</th>\n",
       "      <td>building</td>\n",
       "      <td>0.007389</td>\n",
       "    </tr>\n",
       "    <tr>\n",
       "      <th>82</th>\n",
       "      <td>doorman</td>\n",
       "      <td>0.007337</td>\n",
       "    </tr>\n",
       "    <tr>\n",
       "      <th>208</th>\n",
       "      <td>unit</td>\n",
       "      <td>0.007230</td>\n",
       "    </tr>\n",
       "    <tr>\n",
       "      <th>160</th>\n",
       "      <td>prewar</td>\n",
       "      <td>0.006699</td>\n",
       "    </tr>\n",
       "    <tr>\n",
       "      <th>19</th>\n",
       "      <td>top_15_manager</td>\n",
       "      <td>0.006596</td>\n",
       "    </tr>\n",
       "    <tr>\n",
       "      <th>103</th>\n",
       "      <td>furnished</td>\n",
       "      <td>0.006169</td>\n",
       "    </tr>\n",
       "    <tr>\n",
       "      <th>217</th>\n",
       "      <td>war</td>\n",
       "      <td>0.005795</td>\n",
       "    </tr>\n",
       "    <tr>\n",
       "      <th>181</th>\n",
       "      <td>simplex</td>\n",
       "      <td>0.005704</td>\n",
       "    </tr>\n",
       "    <tr>\n",
       "      <th>98</th>\n",
       "      <td>floors</td>\n",
       "      <td>0.005342</td>\n",
       "    </tr>\n",
       "    <tr>\n",
       "      <th>81</th>\n",
       "      <td>dogs</td>\n",
       "      <td>0.005301</td>\n",
       "    </tr>\n",
       "    <tr>\n",
       "      <th>...</th>\n",
       "      <td>...</td>\n",
       "      <td>...</td>\n",
       "    </tr>\n",
       "    <tr>\n",
       "      <th>7</th>\n",
       "      <td>Year</td>\n",
       "      <td>0.000000</td>\n",
       "    </tr>\n",
       "    <tr>\n",
       "      <th>77</th>\n",
       "      <td>decorative</td>\n",
       "      <td>0.000000</td>\n",
       "    </tr>\n",
       "    <tr>\n",
       "      <th>83</th>\n",
       "      <td>dry</td>\n",
       "      <td>0.000000</td>\n",
       "    </tr>\n",
       "    <tr>\n",
       "      <th>164</th>\n",
       "      <td>ramp</td>\n",
       "      <td>0.000000</td>\n",
       "    </tr>\n",
       "    <tr>\n",
       "      <th>121</th>\n",
       "      <td>intercom</td>\n",
       "      <td>0.000000</td>\n",
       "    </tr>\n",
       "    <tr>\n",
       "      <th>158</th>\n",
       "      <td>post</td>\n",
       "      <td>0.000000</td>\n",
       "    </tr>\n",
       "    <tr>\n",
       "      <th>153</th>\n",
       "      <td>pet</td>\n",
       "      <td>0.000000</td>\n",
       "    </tr>\n",
       "    <tr>\n",
       "      <th>150</th>\n",
       "      <td>park</td>\n",
       "      <td>0.000000</td>\n",
       "    </tr>\n",
       "    <tr>\n",
       "      <th>149</th>\n",
       "      <td>oversized</td>\n",
       "      <td>0.000000</td>\n",
       "    </tr>\n",
       "    <tr>\n",
       "      <th>141</th>\n",
       "      <td>modern</td>\n",
       "      <td>0.000000</td>\n",
       "    </tr>\n",
       "    <tr>\n",
       "      <th>137</th>\n",
       "      <td>marble</td>\n",
       "      <td>0.000000</td>\n",
       "    </tr>\n",
       "    <tr>\n",
       "      <th>136</th>\n",
       "      <td>luxury</td>\n",
       "      <td>0.000000</td>\n",
       "    </tr>\n",
       "    <tr>\n",
       "      <th>133</th>\n",
       "      <td>lot</td>\n",
       "      <td>0.000000</td>\n",
       "    </tr>\n",
       "    <tr>\n",
       "      <th>131</th>\n",
       "      <td>lobby</td>\n",
       "      <td>0.000000</td>\n",
       "    </tr>\n",
       "    <tr>\n",
       "      <th>130</th>\n",
       "      <td>lndry</td>\n",
       "      <td>0.000000</td>\n",
       "    </tr>\n",
       "    <tr>\n",
       "      <th>129</th>\n",
       "      <td>living</td>\n",
       "      <td>0.000000</td>\n",
       "    </tr>\n",
       "    <tr>\n",
       "      <th>120</th>\n",
       "      <td>indoor</td>\n",
       "      <td>0.000000</td>\n",
       "    </tr>\n",
       "    <tr>\n",
       "      <th>87</th>\n",
       "      <td>elev</td>\n",
       "      <td>0.000000</td>\n",
       "    </tr>\n",
       "    <tr>\n",
       "      <th>117</th>\n",
       "      <td>housekeeping</td>\n",
       "      <td>0.000000</td>\n",
       "    </tr>\n",
       "    <tr>\n",
       "      <th>116</th>\n",
       "      <td>hour.1</td>\n",
       "      <td>0.000000</td>\n",
       "    </tr>\n",
       "    <tr>\n",
       "      <th>115</th>\n",
       "      <td>home</td>\n",
       "      <td>0.000000</td>\n",
       "    </tr>\n",
       "    <tr>\n",
       "      <th>111</th>\n",
       "      <td>health</td>\n",
       "      <td>0.000000</td>\n",
       "    </tr>\n",
       "    <tr>\n",
       "      <th>108</th>\n",
       "      <td>gut</td>\n",
       "      <td>0.000000</td>\n",
       "    </tr>\n",
       "    <tr>\n",
       "      <th>102</th>\n",
       "      <td>fully</td>\n",
       "      <td>0.000000</td>\n",
       "    </tr>\n",
       "    <tr>\n",
       "      <th>101</th>\n",
       "      <td>ft</td>\n",
       "      <td>0.000000</td>\n",
       "    </tr>\n",
       "    <tr>\n",
       "      <th>100</th>\n",
       "      <td>friendly</td>\n",
       "      <td>0.000000</td>\n",
       "    </tr>\n",
       "    <tr>\n",
       "      <th>96</th>\n",
       "      <td>flex</td>\n",
       "      <td>0.000000</td>\n",
       "    </tr>\n",
       "    <tr>\n",
       "      <th>92</th>\n",
       "      <td>facilities</td>\n",
       "      <td>0.000000</td>\n",
       "    </tr>\n",
       "    <tr>\n",
       "      <th>91</th>\n",
       "      <td>exposed</td>\n",
       "      <td>0.000000</td>\n",
       "    </tr>\n",
       "    <tr>\n",
       "      <th>223</th>\n",
       "      <td>work</td>\n",
       "      <td>0.000000</td>\n",
       "    </tr>\n",
       "  </tbody>\n",
       "</table>\n",
       "<p>224 rows × 2 columns</p>\n",
       "</div>"
      ],
      "text/plain": [
       "             columns  importance\n",
       "4     price_bedrooms    0.119057\n",
       "23          distance    0.105409\n",
       "11              Yday    0.084414\n",
       "3    price_bathrooms    0.075192\n",
       "9                Day    0.074082\n",
       "2              price    0.071754\n",
       "12              hour    0.071580\n",
       "10              Wday    0.045516\n",
       "22           cenroid    0.032413\n",
       "93               fee    0.023490\n",
       "125          laundry    0.013055\n",
       "32           allowed    0.010615\n",
       "17     top_1_manager    0.009855\n",
       "15     top_5_manager    0.009499\n",
       "8              Month    0.009459\n",
       "110         hardwood    0.009400\n",
       "88          elevator    0.009300\n",
       "80        dishwasher    0.009119\n",
       "13    top_10_manager    0.008821\n",
       "18     top_2_manager    0.008499\n",
       "54          building    0.007389\n",
       "82           doorman    0.007337\n",
       "208             unit    0.007230\n",
       "160           prewar    0.006699\n",
       "19    top_15_manager    0.006596\n",
       "103        furnished    0.006169\n",
       "217              war    0.005795\n",
       "181          simplex    0.005704\n",
       "98            floors    0.005342\n",
       "81              dogs    0.005301\n",
       "..               ...         ...\n",
       "7               Year    0.000000\n",
       "77        decorative    0.000000\n",
       "83               dry    0.000000\n",
       "164             ramp    0.000000\n",
       "121         intercom    0.000000\n",
       "158             post    0.000000\n",
       "153              pet    0.000000\n",
       "150             park    0.000000\n",
       "149        oversized    0.000000\n",
       "141           modern    0.000000\n",
       "137           marble    0.000000\n",
       "136           luxury    0.000000\n",
       "133              lot    0.000000\n",
       "131            lobby    0.000000\n",
       "130            lndry    0.000000\n",
       "129           living    0.000000\n",
       "120           indoor    0.000000\n",
       "87              elev    0.000000\n",
       "117     housekeeping    0.000000\n",
       "116           hour.1    0.000000\n",
       "115             home    0.000000\n",
       "111           health    0.000000\n",
       "108              gut    0.000000\n",
       "102            fully    0.000000\n",
       "101               ft    0.000000\n",
       "100         friendly    0.000000\n",
       "96              flex    0.000000\n",
       "92        facilities    0.000000\n",
       "91           exposed    0.000000\n",
       "223             work    0.000000\n",
       "\n",
       "[224 rows x 2 columns]"
      ]
     },
     "execution_count": 17,
     "metadata": {},
     "output_type": "execute_result"
    }
   ],
   "source": [
    "#查看特征重要性\n",
    "df = pd.DataFrame({\"columns\":list(X_train.columns), \"importance\":list(model_tree.feature_importances_.T)})\n",
    "df.sort_values(by=['importance'],ascending=False)"
   ]
  },
  {
   "cell_type": "markdown",
   "metadata": {},
   "source": [
    "有好多的特征都起到作用了,估计树的深度较深"
   ]
  },
  {
   "cell_type": "markdown",
   "metadata": {},
   "source": [
    "调节参数试试"
   ]
  },
  {
   "cell_type": "code",
   "execution_count": 18,
   "metadata": {
    "ExecuteTime": {
     "end_time": "2018-02-22T06:51:23.553000Z",
     "start_time": "2018-02-22T06:51:23.547000Z"
    },
    "collapsed": true
   },
   "outputs": [],
   "source": [
    "from sklearn.tree import DecisionTreeClassifier\n",
    "\n",
    "model_DD = DecisionTreeClassifier()\n",
    "\n",
    "max_depth = range(1,10,1)\n",
    "min_samples_leaf = range(1,10,2)\n",
    "\n",
    "tuned_parameters = dict(max_depth=max_depth, min_samples_leaf=min_samples_leaf)"
   ]
  },
  {
   "cell_type": "code",
   "execution_count": 19,
   "metadata": {
    "ExecuteTime": {
     "end_time": "2018-02-22T06:54:50.124000Z",
     "start_time": "2018-02-22T06:51:23.555000Z"
    }
   },
   "outputs": [
    {
     "data": {
      "text/plain": [
       "GridSearchCV(cv=10, error_score='raise',\n",
       "       estimator=DecisionTreeClassifier(class_weight=None, criterion='gini', max_depth=None,\n",
       "            max_features=None, max_leaf_nodes=None,\n",
       "            min_impurity_decrease=0.0, min_impurity_split=None,\n",
       "            min_samples_leaf=1, min_samples_split=2,\n",
       "            min_weight_fraction_leaf=0.0, presort=False, random_state=None,\n",
       "            splitter='best'),\n",
       "       fit_params=None, iid=True, n_jobs=1,\n",
       "       param_grid={'min_samples_leaf': range(1, 10, 2), 'max_depth': range(1, 10)},\n",
       "       pre_dispatch='2*n_jobs', refit=True, return_train_score='warn',\n",
       "       scoring=None, verbose=0)"
      ]
     },
     "execution_count": 19,
     "metadata": {},
     "output_type": "execute_result"
    }
   ],
   "source": [
    "from sklearn.model_selection import GridSearchCV\n",
    "DD = GridSearchCV(model_DD, tuned_parameters,cv=10)\n",
    "DD.fit(X_train, y_train)"
   ]
  },
  {
   "cell_type": "code",
   "execution_count": 20,
   "metadata": {
    "ExecuteTime": {
     "end_time": "2018-02-22T06:54:50.130000Z",
     "start_time": "2018-02-22T06:54:50.126000Z"
    }
   },
   "outputs": [
    {
     "name": "stdout",
     "output_type": "stream",
     "text": [
      "Best: 0.714850 using {'max_depth': 9, 'min_samples_leaf': 3}\n"
     ]
    }
   ],
   "source": [
    "print(\"Best: %f using %s\" % (DD.best_score_, DD.best_params_))"
   ]
  },
  {
   "cell_type": "code",
   "execution_count": 21,
   "metadata": {
    "ExecuteTime": {
     "end_time": "2018-02-22T06:54:50.179000Z",
     "start_time": "2018-02-22T06:54:50.132000Z"
    }
   },
   "outputs": [
    {
     "data": {
      "text/plain": [
       "0.65697497720595688"
      ]
     },
     "execution_count": 21,
     "metadata": {},
     "output_type": "execute_result"
    }
   ],
   "source": [
    "y_pd = DD.predict(X_test)\n",
    "model_tree.score(X_test, y_test)"
   ]
  },
  {
   "cell_type": "code",
   "execution_count": 22,
   "metadata": {
    "ExecuteTime": {
     "end_time": "2018-02-22T06:54:50.189000Z",
     "start_time": "2018-02-22T06:54:50.180000Z"
    }
   },
   "outputs": [
    {
     "name": "stdout",
     "output_type": "stream",
     "text": [
      "             precision    recall  f1-score   support\n",
      "\n",
      "          0       0.47      0.22      0.30       768\n",
      "          1       0.42      0.25      0.32      2246\n",
      "          2       0.77      0.92      0.84      6857\n",
      "\n",
      "avg / total       0.67      0.71      0.68      9871\n",
      "\n"
     ]
    }
   ],
   "source": [
    "from sklearn import metrics\n",
    "print(metrics.classification_report(y_test, y_pd))"
   ]
  },
  {
   "cell_type": "markdown",
   "metadata": {},
   "source": [
    "## RandomForest"
   ]
  },
  {
   "cell_type": "code",
   "execution_count": 23,
   "metadata": {
    "ExecuteTime": {
     "end_time": "2018-02-22T06:54:50.262000Z",
     "start_time": "2018-02-22T06:54:50.193000Z"
    },
    "collapsed": true
   },
   "outputs": [],
   "source": [
    "from sklearn.ensemble import RandomForestClassifier\n",
    "\n",
    "model_RR=RandomForestClassifier()"
   ]
  },
  {
   "cell_type": "code",
   "execution_count": 24,
   "metadata": {
    "ExecuteTime": {
     "end_time": "2018-02-22T06:54:51.355000Z",
     "start_time": "2018-02-22T06:54:50.264000Z"
    }
   },
   "outputs": [
    {
     "data": {
      "text/plain": [
       "RandomForestClassifier(bootstrap=True, class_weight=None, criterion='gini',\n",
       "            max_depth=None, max_features='auto', max_leaf_nodes=None,\n",
       "            min_impurity_decrease=0.0, min_impurity_split=None,\n",
       "            min_samples_leaf=1, min_samples_split=2,\n",
       "            min_weight_fraction_leaf=0.0, n_estimators=10, n_jobs=1,\n",
       "            oob_score=False, random_state=None, verbose=0,\n",
       "            warm_start=False)"
      ]
     },
     "execution_count": 24,
     "metadata": {},
     "output_type": "execute_result"
    }
   ],
   "source": [
    "model_RR.fit(X_train,y_train)"
   ]
  },
  {
   "cell_type": "code",
   "execution_count": 25,
   "metadata": {
    "ExecuteTime": {
     "end_time": "2018-02-22T06:54:51.479000Z",
     "start_time": "2018-02-22T06:54:51.357000Z"
    }
   },
   "outputs": [
    {
     "data": {
      "text/plain": [
       "0.70621011042447579"
      ]
     },
     "execution_count": 25,
     "metadata": {},
     "output_type": "execute_result"
    }
   ],
   "source": [
    "y_pred = model_RR.predict(X_test)\n",
    "model_RR.score(X_test, y_test)"
   ]
  },
  {
   "cell_type": "code",
   "execution_count": 26,
   "metadata": {
    "ExecuteTime": {
     "end_time": "2018-02-22T06:54:51.493000Z",
     "start_time": "2018-02-22T06:54:51.483000Z"
    }
   },
   "outputs": [
    {
     "name": "stdout",
     "output_type": "stream",
     "text": [
      "             precision    recall  f1-score   support\n",
      "\n",
      "          0       0.45      0.25      0.32       768\n",
      "          1       0.42      0.32      0.36      2246\n",
      "          2       0.79      0.88      0.83      6857\n",
      "\n",
      "avg / total       0.68      0.71      0.69      9871\n",
      "\n"
     ]
    }
   ],
   "source": [
    "from sklearn import metrics\n",
    "print(metrics.classification_report(y_test, y_pred))"
   ]
  },
  {
   "cell_type": "markdown",
   "metadata": {},
   "source": [
    "随机森林的得分也是0.68,高了不少nice"
   ]
  },
  {
   "cell_type": "markdown",
   "metadata": {},
   "source": [
    "试试调参, min_samples_leaf and n_estimators"
   ]
  },
  {
   "cell_type": "code",
   "execution_count": 27,
   "metadata": {
    "ExecuteTime": {
     "end_time": "2018-02-22T06:54:51.502000Z",
     "start_time": "2018-02-22T06:54:51.495000Z"
    },
    "collapsed": true
   },
   "outputs": [],
   "source": [
    "from sklearn.ensemble import RandomForestClassifier\n",
    "\n",
    "model_RR=RandomForestClassifier()\n",
    "\n",
    "tuned_parameters = {'min_samples_leaf': range(1,10,2), 'n_estimators' : range(1,10,2) }\n",
    "#tuned_parameters = {'min_samples_leaf': range(9,19,2), 'n_estimators' : range(6,10,1) }"
   ]
  },
  {
   "cell_type": "code",
   "execution_count": 28,
   "metadata": {
    "ExecuteTime": {
     "end_time": "2018-02-22T06:54:51.508000Z",
     "start_time": "2018-02-22T06:54:51.504000Z"
    },
    "collapsed": true
   },
   "outputs": [],
   "source": [
    "from sklearn.model_selection import GridSearchCV\n",
    "RR = GridSearchCV(model_RR, tuned_parameters,cv=10)"
   ]
  },
  {
   "cell_type": "code",
   "execution_count": 29,
   "metadata": {
    "ExecuteTime": {
     "end_time": "2018-02-22T06:57:08.245000Z",
     "start_time": "2018-02-22T06:54:51.510000Z"
    }
   },
   "outputs": [
    {
     "data": {
      "text/plain": [
       "GridSearchCV(cv=10, error_score='raise',\n",
       "       estimator=RandomForestClassifier(bootstrap=True, class_weight=None, criterion='gini',\n",
       "            max_depth=None, max_features='auto', max_leaf_nodes=None,\n",
       "            min_impurity_decrease=0.0, min_impurity_split=None,\n",
       "            min_samples_leaf=1, min_samples_split=2,\n",
       "            min_weight_fraction_leaf=0.0, n_estimators=10, n_jobs=1,\n",
       "            oob_score=False, random_state=None, verbose=0,\n",
       "            warm_start=False),\n",
       "       fit_params=None, iid=True, n_jobs=1,\n",
       "       param_grid={'min_samples_leaf': range(1, 10, 2), 'n_estimators': range(1, 10, 2)},\n",
       "       pre_dispatch='2*n_jobs', refit=True, return_train_score='warn',\n",
       "       scoring=None, verbose=0)"
      ]
     },
     "execution_count": 29,
     "metadata": {},
     "output_type": "execute_result"
    }
   ],
   "source": [
    "RR.fit(X_train,y_train)"
   ]
  },
  {
   "cell_type": "code",
   "execution_count": 30,
   "metadata": {
    "ExecuteTime": {
     "end_time": "2018-02-22T06:57:08.260000Z",
     "start_time": "2018-02-22T06:57:08.249000Z"
    },
    "scrolled": true
   },
   "outputs": [
    {
     "name": "stderr",
     "output_type": "stream",
     "text": [
      "D:\\ProgramData\\Anaconda2\\envs\\python3\\lib\\site-packages\\sklearn\\model_selection\\_search.py:761: DeprecationWarning: The grid_scores_ attribute was deprecated in version 0.18 in favor of the more elaborate cv_results_ attribute. The grid_scores_ attribute will not be available from 0.20\n",
      "  DeprecationWarning)\n"
     ]
    },
    {
     "data": {
      "text/plain": [
       "[mean: 0.63048, std: 0.00664, params: {'min_samples_leaf': 1, 'n_estimators': 1},\n",
       " mean: 0.66716, std: 0.00479, params: {'min_samples_leaf': 1, 'n_estimators': 3},\n",
       " mean: 0.68770, std: 0.00470, params: {'min_samples_leaf': 1, 'n_estimators': 5},\n",
       " mean: 0.70333, std: 0.00548, params: {'min_samples_leaf': 1, 'n_estimators': 7},\n",
       " mean: 0.70586, std: 0.00434, params: {'min_samples_leaf': 1, 'n_estimators': 9},\n",
       " mean: 0.65725, std: 0.00538, params: {'min_samples_leaf': 3, 'n_estimators': 1},\n",
       " mean: 0.70203, std: 0.00499, params: {'min_samples_leaf': 3, 'n_estimators': 3},\n",
       " mean: 0.71054, std: 0.00502, params: {'min_samples_leaf': 3, 'n_estimators': 5},\n",
       " mean: 0.71356, std: 0.00323, params: {'min_samples_leaf': 3, 'n_estimators': 7},\n",
       " mean: 0.71531, std: 0.00630, params: {'min_samples_leaf': 3, 'n_estimators': 9},\n",
       " mean: 0.67139, std: 0.00843, params: {'min_samples_leaf': 5, 'n_estimators': 1},\n",
       " mean: 0.70649, std: 0.00598, params: {'min_samples_leaf': 5, 'n_estimators': 3},\n",
       " mean: 0.70963, std: 0.00638, params: {'min_samples_leaf': 5, 'n_estimators': 5},\n",
       " mean: 0.71528, std: 0.00483, params: {'min_samples_leaf': 5, 'n_estimators': 7},\n",
       " mean: 0.71543, std: 0.00419, params: {'min_samples_leaf': 5, 'n_estimators': 9},\n",
       " mean: 0.67551, std: 0.00481, params: {'min_samples_leaf': 7, 'n_estimators': 1},\n",
       " mean: 0.70662, std: 0.00480, params: {'min_samples_leaf': 7, 'n_estimators': 3},\n",
       " mean: 0.71047, std: 0.00347, params: {'min_samples_leaf': 7, 'n_estimators': 5},\n",
       " mean: 0.71414, std: 0.00326, params: {'min_samples_leaf': 7, 'n_estimators': 7},\n",
       " mean: 0.71315, std: 0.00497, params: {'min_samples_leaf': 7, 'n_estimators': 9},\n",
       " mean: 0.68142, std: 0.00959, params: {'min_samples_leaf': 9, 'n_estimators': 1},\n",
       " mean: 0.70464, std: 0.00311, params: {'min_samples_leaf': 9, 'n_estimators': 3},\n",
       " mean: 0.71052, std: 0.00304, params: {'min_samples_leaf': 9, 'n_estimators': 5},\n",
       " mean: 0.71110, std: 0.00366, params: {'min_samples_leaf': 9, 'n_estimators': 7},\n",
       " mean: 0.71320, std: 0.00456, params: {'min_samples_leaf': 9, 'n_estimators': 9}]"
      ]
     },
     "execution_count": 30,
     "metadata": {},
     "output_type": "execute_result"
    }
   ],
   "source": [
    "RR.grid_scores_"
   ]
  },
  {
   "cell_type": "code",
   "execution_count": 31,
   "metadata": {
    "ExecuteTime": {
     "end_time": "2018-02-22T06:57:08.271000Z",
     "start_time": "2018-02-22T06:57:08.265000Z"
    }
   },
   "outputs": [
    {
     "name": "stdout",
     "output_type": "stream",
     "text": [
      "0.715432739799\n",
      "{'min_samples_leaf': 5, 'n_estimators': 9}\n"
     ]
    }
   ],
   "source": [
    "print(RR.best_score_)\n",
    "print(RR.best_params_)"
   ]
  },
  {
   "cell_type": "code",
   "execution_count": 32,
   "metadata": {
    "ExecuteTime": {
     "end_time": "2018-02-22T06:57:08.360000Z",
     "start_time": "2018-02-22T06:57:08.274000Z"
    }
   },
   "outputs": [
    {
     "data": {
      "text/plain": [
       "0.7169486374227535"
      ]
     },
     "execution_count": 32,
     "metadata": {},
     "output_type": "execute_result"
    }
   ],
   "source": [
    "y_pred = RR.predict(X_test)\n",
    "RR.score(X_test, y_test)"
   ]
  },
  {
   "cell_type": "code",
   "execution_count": 33,
   "metadata": {
    "ExecuteTime": {
     "end_time": "2018-02-22T06:57:08.370000Z",
     "start_time": "2018-02-22T06:57:08.362000Z"
    }
   },
   "outputs": [
    {
     "name": "stdout",
     "output_type": "stream",
     "text": [
      "             precision    recall  f1-score   support\n",
      "\n",
      "          0       0.54      0.13      0.20       768\n",
      "          1       0.45      0.17      0.25      2246\n",
      "          2       0.75      0.96      0.84      6857\n",
      "\n",
      "avg / total       0.66      0.72      0.66      9871\n",
      "\n"
     ]
    }
   ],
   "source": [
    "from sklearn import metrics\n",
    "print(metrics.classification_report(y_test, y_pred))"
   ]
  },
  {
   "cell_type": "markdown",
   "metadata": {
    "ExecuteTime": {
     "end_time": "2018-02-16T08:34:41.423531Z",
     "start_time": "2018-02-16T08:34:41.404018Z"
    }
   },
   "source": [
    "调参后得分也是0.70, min_samples_leaf=3, n_estimators=9"
   ]
  },
  {
   "cell_type": "markdown",
   "metadata": {},
   "source": [
    "# 预测保存"
   ]
  },
  {
   "cell_type": "code",
   "execution_count": 34,
   "metadata": {
    "ExecuteTime": {
     "end_time": "2018-02-22T06:57:08.683000Z",
     "start_time": "2018-02-22T06:57:08.372000Z"
    },
    "collapsed": true
   },
   "outputs": [],
   "source": [
    "# 选用调参后的随机森林模型生成数据 \n",
    "y_ptrdict = RR.predict(test)"
   ]
  },
  {
   "cell_type": "code",
   "execution_count": 35,
   "metadata": {
    "ExecuteTime": {
     "end_time": "2018-02-22T06:57:08.695000Z",
     "start_time": "2018-02-22T06:57:08.686000Z"
    },
    "collapsed": true
   },
   "outputs": [],
   "source": [
    "submission = test.loc[:,['Year','Month', 'Day', 'Wday', 'Yday', 'hour']]\n",
    "#submission"
   ]
  },
  {
   "cell_type": "code",
   "execution_count": 36,
   "metadata": {
    "ExecuteTime": {
     "end_time": "2018-02-22T06:57:08.717000Z",
     "start_time": "2018-02-22T06:57:08.699000Z"
    }
   },
   "outputs": [
    {
     "name": "stdout",
     "output_type": "stream",
     "text": [
      "<class 'pandas.core.frame.DataFrame'>\n",
      "RangeIndex: 74659 entries, 0 to 74658\n",
      "Data columns (total 7 columns):\n",
      "Year              74659 non-null int64\n",
      "Month             74659 non-null int64\n",
      "Day               74659 non-null int64\n",
      "Wday              74659 non-null int64\n",
      "Yday              74659 non-null int64\n",
      "hour              74659 non-null int64\n",
      "interest_level    74659 non-null int64\n",
      "dtypes: int64(7)\n",
      "memory usage: 4.0 MB\n"
     ]
    }
   ],
   "source": [
    "submission['interest_level']= y_ptrdict\n",
    "submission.info()"
   ]
  },
  {
   "cell_type": "code",
   "execution_count": 37,
   "metadata": {
    "ExecuteTime": {
     "end_time": "2018-02-22T06:57:09.056000Z",
     "start_time": "2018-02-22T06:57:08.718000Z"
    },
    "collapsed": true
   },
   "outputs": [],
   "source": [
    "submission.to_csv('submission.csv')"
   ]
  },
  {
   "cell_type": "code",
   "execution_count": null,
   "metadata": {
    "collapsed": true
   },
   "outputs": [],
   "source": []
  }
 ],
 "metadata": {
  "kernelspec": {
   "display_name": "Python 3",
   "language": "python",
   "name": "python3"
  },
  "language_info": {
   "codemirror_mode": {
    "name": "ipython",
    "version": 3
   },
   "file_extension": ".py",
   "mimetype": "text/x-python",
   "name": "python",
   "nbconvert_exporter": "python",
   "pygments_lexer": "ipython3",
   "version": "3.6.3"
  },
  "toc": {
   "nav_menu": {},
   "number_sections": true,
   "sideBar": true,
   "skip_h1_title": false,
   "title_cell": "Table of Contents",
   "title_sidebar": "Contents",
   "toc_cell": true,
   "toc_position": {
    "height": "calc(100% - 180px)",
    "left": "10px",
    "top": "150px",
    "width": "246px"
   },
   "toc_section_display": true,
   "toc_window_display": true
  }
 },
 "nbformat": 4,
 "nbformat_minor": 2
}
