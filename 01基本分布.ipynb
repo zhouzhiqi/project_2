{
 "cells": [
  {
   "cell_type": "markdown",
   "metadata": {},
   "source": [
    "|名称|含义|\n",
    "| : | : |\n",
    "|id | ad identifier\n",
    "|click | 1是点击 0/1 for non-click/click\n",
    "|hour | 时间, YYMMDDHH, so 14091123 means 2014年09月11号23:00 UTC.\n",
    "|C1 | 未知分类变量 anonymized categorical variable\n",
    "|banner_pos|标语,横幅\n",
    "|site_id|网站ID号\n",
    "|site_domain|网站 域?\n",
    "|site_category|网站类别\n",
    "|app_id|appID号\n",
    "|app_domain|应用 域?\n",
    "|app_category|应用类别\n",
    "|device_id|设备ID号\n",
    "|device_ip|设备ip地址\n",
    "|device_model|设备型号, 如iphone5/iphone4\n",
    "|device_type|设备类型, 如智能手机/平板电脑\n",
    "|device_conn_type|连接设备类型\n",
    "|C14-C21|未知分类变量 anonymized categorical variables"
   ]
  },
  {
   "cell_type": "code",
   "execution_count": 1,
   "metadata": {
    "ExecuteTime": {
     "end_time": "2018-06-03T12:44:14.995664Z",
     "start_time": "2018-06-03T12:44:06.400402Z"
    },
    "collapsed": true
   },
   "outputs": [],
   "source": [
    "import numpy as np\n",
    "import pandas as pd\n",
    "import os\n",
    "from pyspark import SparkContext\n",
    "import gc\n",
    "import seaborn as sns"
   ]
  },
  {
   "cell_type": "code",
   "execution_count": 2,
   "metadata": {
    "ExecuteTime": {
     "end_time": "2018-06-03T12:44:15.007652Z",
     "start_time": "2018-06-03T12:44:15.003653Z"
    },
    "collapsed": true
   },
   "outputs": [],
   "source": [
    "data_path = '..\\data\\project_2'\n",
    "train_path = os.path.join(data_path, 'train.csv')"
   ]
  },
  {
   "cell_type": "code",
   "execution_count": 3,
   "metadata": {
    "ExecuteTime": {
     "end_time": "2018-06-03T12:44:34.022578Z",
     "start_time": "2018-06-03T12:44:15.010649Z"
    },
    "collapsed": true
   },
   "outputs": [],
   "source": [
    "#train = pd.read_csv(train_path, chunksize=10000000)\n",
    "sc = SparkContext(\"local[2]\", \"First Spark App\")\n",
    "data = sc.textFile(train_path).map(lambda line:line.split(\",\"))\n"
   ]
  },
  {
   "cell_type": "code",
   "execution_count": 4,
   "metadata": {
    "ExecuteTime": {
     "end_time": "2018-06-03T12:44:39.474389Z",
     "start_time": "2018-06-03T12:44:34.025576Z"
    },
    "collapsed": false
   },
   "outputs": [
    {
     "data": {
      "text/plain": [
       "['id',\n",
       " 'click',\n",
       " 'hour',\n",
       " 'C1',\n",
       " 'banner_pos',\n",
       " 'site_id',\n",
       " 'site_domain',\n",
       " 'site_category',\n",
       " 'app_id',\n",
       " 'app_domain',\n",
       " 'app_category',\n",
       " 'device_id',\n",
       " 'device_ip',\n",
       " 'device_model',\n",
       " 'device_type',\n",
       " 'device_conn_type',\n",
       " 'C14',\n",
       " 'C15',\n",
       " 'C16',\n",
       " 'C17',\n",
       " 'C18',\n",
       " 'C19',\n",
       " 'C20',\n",
       " 'C21']"
      ]
     },
     "execution_count": 4,
     "metadata": {},
     "output_type": "execute_result"
    }
   ],
   "source": [
    "data.first()"
   ]
  },
  {
   "cell_type": "code",
   "execution_count": 5,
   "metadata": {
    "ExecuteTime": {
     "end_time": "2018-06-03T12:44:39.498805Z",
     "start_time": "2018-06-03T12:44:39.477818Z"
    },
    "collapsed": true
   },
   "outputs": [],
   "source": [
    "def value_count(i, return_value=False):\n",
    "    print('-----------------------------------------------')\n",
    "    train_tmp = data.map(lambda l:l[i]).collect()\n",
    "    tmp = pd.Series(train_tmp)\n",
    "    del train_tmp\n",
    "    print('the value counts of {0}:'.format(tmp[0]))\n",
    "    print(tmp.value_counts())\n",
    "    #del tmp\n",
    "    gc.collect()\n",
    "    if return_value:\n",
    "        return tmp\n",
    "    else:\n",
    "        del tmp"
   ]
  },
  {
   "cell_type": "code",
   "execution_count": 15,
   "metadata": {
    "ExecuteTime": {
     "end_time": "2018-06-03T03:54:51.763830Z",
     "start_time": "2018-06-03T03:49:51.375809Z"
    },
    "collapsed": false,
    "scrolled": true
   },
   "outputs": [
    {
     "name": "stdout",
     "output_type": "stream",
     "text": [
      "-----------------------------------------------\n",
      "the value counts of click:\n",
      "0        33563901\n",
      "1         6865066\n",
      "click           1\n",
      "dtype: int64\n"
     ]
    }
   ],
   "source": [
    "value_count(1)\n",
    "#'click',"
   ]
  },
  {
   "cell_type": "code",
   "execution_count": 16,
   "metadata": {
    "ExecuteTime": {
     "end_time": "2018-06-03T05:29:22.849282Z",
     "start_time": "2018-06-03T05:23:48.816428Z"
    },
    "collapsed": false,
    "scrolled": false
   },
   "outputs": [
    {
     "name": "stdout",
     "output_type": "stream",
     "text": [
      "-----------------------------------------------\n",
      "the value counts of hour:\n",
      "14102209    447783\n",
      "14102210    438270\n",
      "14102813    432308\n",
      "14102212    408650\n",
      "14102814    387453\n",
      "14102211    386757\n",
      "14103004    347806\n",
      "14102809    328576\n",
      "14102213    323480\n",
      "14102208    322803\n",
      "14102808    291763\n",
      "14102206    288819\n",
      "14102205    286697\n",
      "14102816    283491\n",
      "14102815    282315\n",
      "14102817    280835\n",
      "14102105    273500\n",
      "14102304    273173\n",
      "14102812    272124\n",
      "14102104    264711\n",
      "14102417    262579\n",
      "14103014    259187\n",
      "14102810    258656\n",
      "14102811    257891\n",
      "14102416    252154\n",
      "14103013    250441\n",
      "14103012    249022\n",
      "14102315    246297\n",
      "14103005    244765\n",
      "14102514    242500\n",
      "             ...  \n",
      "14102300     89341\n",
      "14102622     88869\n",
      "14102122     88436\n",
      "14103000     87333\n",
      "14102723     87207\n",
      "14102702     85828\n",
      "14103023     83608\n",
      "14102800     82520\n",
      "14102400     82137\n",
      "14102621     82130\n",
      "14102601     80863\n",
      "14102501     80637\n",
      "14102200     78006\n",
      "14102504     76816\n",
      "14102623     76770\n",
      "14102523     76506\n",
      "14102701     75382\n",
      "14102123     73940\n",
      "14102500     73446\n",
      "14102600     72185\n",
      "14102503     67443\n",
      "14102700     62254\n",
      "14102506     51726\n",
      "14102502     38400\n",
      "14102419     34163\n",
      "14102423     25622\n",
      "14102420     23124\n",
      "14102421     20367\n",
      "14102422     14876\n",
      "hour             1\n",
      "Length: 241, dtype: int64\n"
     ]
    }
   ],
   "source": [
    "value_count(2)\n",
    "#hour, 共240类, 10天的数据 "
   ]
  },
  {
   "cell_type": "code",
   "execution_count": 17,
   "metadata": {
    "ExecuteTime": {
     "end_time": "2018-06-03T05:29:22.849282Z",
     "start_time": "2018-06-03T05:23:48.816428Z"
    },
    "collapsed": false,
    "scrolled": true
   },
   "outputs": [
    {
     "name": "stdout",
     "output_type": "stream",
     "text": [
      "-----------------------------------------------\n",
      "the value counts of C1:\n",
      "1005    37140632\n",
      "1002     2220812\n",
      "1010      903457\n",
      "1012      113512\n",
      "1007       35304\n",
      "1001        9463\n",
      "1008        5787\n",
      "C1             1\n",
      "dtype: int64\n"
     ]
    }
   ],
   "source": [
    "value_count(3)\n",
    "#C1, 未知分类数据, 共7类"
   ]
  },
  {
   "cell_type": "code",
   "execution_count": 18,
   "metadata": {
    "ExecuteTime": {
     "end_time": "2018-06-03T05:29:22.849282Z",
     "start_time": "2018-06-03T05:23:48.816428Z"
    },
    "collapsed": false,
    "scrolled": true
   },
   "outputs": [
    {
     "name": "stdout",
     "output_type": "stream",
     "text": [
      "-----------------------------------------------\n",
      "the value counts of banner_pos:\n",
      "0             29109590\n",
      "1             11247282\n",
      "7                43577\n",
      "2                13001\n",
      "4                 7704\n",
      "5                 5778\n",
      "3                 2035\n",
      "banner_pos           1\n",
      "dtype: int64\n"
     ]
    }
   ],
   "source": [
    "value_count(4)\n",
    "#banner_pos, 共 7类"
   ]
  },
  {
   "cell_type": "code",
   "execution_count": 19,
   "metadata": {
    "ExecuteTime": {
     "end_time": "2018-06-03T05:29:22.849282Z",
     "start_time": "2018-06-03T05:23:48.816428Z"
    },
    "collapsed": false,
    "scrolled": false
   },
   "outputs": [
    {
     "name": "stdout",
     "output_type": "stream",
     "text": [
      "-----------------------------------------------\n",
      "the value counts of site_id:\n",
      "85f751fd    14596137\n",
      "1fbe01fe     6486150\n",
      "e151e245     2637747\n",
      "d9750ee7      963745\n",
      "5b08c53b      913325\n",
      "5b4d2eda      771360\n",
      "856e6d3f      765891\n",
      "a7853007      461311\n",
      "b7e9786d      369099\n",
      "5ee41ff2      349008\n",
      "6399eda6      343703\n",
      "5bcf81a2      340050\n",
      "6256f5b4      315840\n",
      "57ef2c87      310760\n",
      "17caea14      278322\n",
      "0a742914      269725\n",
      "83a0ad1a      268735\n",
      "57fe1b20      264952\n",
      "e4d8dd7b      259347\n",
      "e8f79e60      259289\n",
      "d6137915      233281\n",
      "12fb4121      192890\n",
      "6c5b482c      191220\n",
      "93eaba74      185620\n",
      "e5c60a05      179039\n",
      "9a977531      173840\n",
      "bb4524e7      168279\n",
      "5114c672      165486\n",
      "e3c09f3a      160321\n",
      "4bf5bbe2      148511\n",
      "              ...   \n",
      "76287dbe           1\n",
      "ecb897a3           1\n",
      "d3009806           1\n",
      "070e7b7d           1\n",
      "f97b4d13           1\n",
      "cb4408e7           1\n",
      "a2ad485f           1\n",
      "d1057929           1\n",
      "ccd9611b           1\n",
      "483269ea           1\n",
      "bc99730e           1\n",
      "5a8f8bd2           1\n",
      "5d7d9b5f           1\n",
      "7d3a4098           1\n",
      "54c3c987           1\n",
      "b8cabd8d           1\n",
      "89c104cd           1\n",
      "8b62d681           1\n",
      "d1ecf3ec           1\n",
      "20fc48fe           1\n",
      "fbb433d5           1\n",
      "4adc4c18           1\n",
      "4013b842           1\n",
      "d5976bb3           1\n",
      "6d314536           1\n",
      "2bd62959           1\n",
      "7eabd276           1\n",
      "b3f13f7a           1\n",
      "ca7b62ba           1\n",
      "085ddd7c           1\n",
      "Length: 4738, dtype: int64\n"
     ]
    }
   ],
   "source": [
    "value_count(5)\n",
    "#site_id, 共 4737类"
   ]
  },
  {
   "cell_type": "code",
   "execution_count": 20,
   "metadata": {
    "ExecuteTime": {
     "end_time": "2018-06-03T05:29:22.849282Z",
     "start_time": "2018-06-03T05:23:48.816428Z"
    },
    "collapsed": false,
    "scrolled": false
   },
   "outputs": [
    {
     "name": "stdout",
     "output_type": "stream",
     "text": [
      "-----------------------------------------------\n",
      "the value counts of site_domain:\n",
      "c4e18dd6    15131739\n",
      "f3845767     6486150\n",
      "7e091613     3325008\n",
      "7687a86e     1290165\n",
      "98572c79      996816\n",
      "16a36ef3      855686\n",
      "58a89a43      765891\n",
      "9d54950b      375891\n",
      "b12b9f85      373925\n",
      "17d996e6      353600\n",
      "968765cd      343703\n",
      "28f93029      315842\n",
      "bd6d812f      310760\n",
      "d262cf1e      289921\n",
      "0dde25ec      278322\n",
      "510bd839      269725\n",
      "5c9ae867      268735\n",
      "5b626596      265874\n",
      "a17bde68      259347\n",
      "c4342784      259289\n",
      "6b59f079      241035\n",
      "bb1ef334      233282\n",
      "7256c623      219219\n",
      "a434fa42      205311\n",
      "d733bbc3      168280\n",
      "3f2f3819      165486\n",
      "6b560cc1      148511\n",
      "c1aa3c04      128890\n",
      "27e3c518      128180\n",
      "e2a5dc06      117606\n",
      "              ...   \n",
      "5003d08c           1\n",
      "533d6840           1\n",
      "22e77e8d           1\n",
      "9be1f92a           1\n",
      "f7e6381b           1\n",
      "70af97b9           1\n",
      "71f086e4           1\n",
      "b657567f           1\n",
      "d459c3f3           1\n",
      "b7523fc6           1\n",
      "7de0d017           1\n",
      "43f55b6a           1\n",
      "f6a6ab19           1\n",
      "79dfeda0           1\n",
      "dc5ed23b           1\n",
      "5737d9ce           1\n",
      "668dd86e           1\n",
      "a36b6169           1\n",
      "ce8c7904           1\n",
      "2e9e2b3d           1\n",
      "04abaa31           1\n",
      "894bbfe3           1\n",
      "19005ee6           1\n",
      "96157b0e           1\n",
      "d8dbf404           1\n",
      "e5c64679           1\n",
      "8f0ca15a           1\n",
      "ae65c10c           1\n",
      "1ef30ab7           1\n",
      "937d2c13           1\n",
      "Length: 7746, dtype: int64\n"
     ]
    }
   ],
   "source": [
    "value_count(6)\n",
    "#site_domain, 共 7746类"
   ]
  },
  {
   "cell_type": "code",
   "execution_count": 21,
   "metadata": {
    "ExecuteTime": {
     "end_time": "2018-06-03T05:29:22.849282Z",
     "start_time": "2018-06-03T05:23:48.816428Z"
    },
    "collapsed": false,
    "scrolled": false
   },
   "outputs": [
    {
     "name": "stdout",
     "output_type": "stream",
     "text": [
      "-----------------------------------------------\n",
      "the value counts of site_category:\n",
      "50e219e0         16537234\n",
      "f028772b         12657073\n",
      "28905ebd          7377208\n",
      "3e814130          3050306\n",
      "f66779e6           252451\n",
      "75fa27f6           160985\n",
      "335d28a8           136463\n",
      "76b2941d           104754\n",
      "c0dd3be3            42090\n",
      "72722551            28216\n",
      "dedf689d            24500\n",
      "70fb0e29            24224\n",
      "0569f928            17106\n",
      "8fd0aea4             7482\n",
      "a818d37a             3230\n",
      "42a36e14             2515\n",
      "e787de0e             1209\n",
      "bcf865d9             1045\n",
      "5378d028              483\n",
      "9ccfa2ea              318\n",
      "c706e647               28\n",
      "da34532e               23\n",
      "74073276               14\n",
      "110ab22d                6\n",
      "a72a0145                2\n",
      "6432c423                2\n",
      "site_category           1\n",
      "dtype: int64\n"
     ]
    }
   ],
   "source": [
    "value_count(7)\n",
    "#site_category, 共 26类"
   ]
  },
  {
   "cell_type": "code",
   "execution_count": 22,
   "metadata": {
    "ExecuteTime": {
     "end_time": "2018-06-03T05:29:22.849282Z",
     "start_time": "2018-06-03T05:23:48.816428Z"
    },
    "collapsed": false,
    "scrolled": false
   },
   "outputs": [
    {
     "name": "stdout",
     "output_type": "stream",
     "text": [
      "-----------------------------------------------\n",
      "the value counts of app_id:\n",
      "ecad2386    25832830\n",
      "92f5800b     1555283\n",
      "e2fcccd2     1129016\n",
      "febd1138      759098\n",
      "9c13b419      757812\n",
      "7358e05e      615635\n",
      "a5184c22      491457\n",
      "d36838b1      457572\n",
      "685d1c4c      408515\n",
      "54c5d545      397693\n",
      "03528b27      322121\n",
      "f0d41ff1      294244\n",
      "e9739828      284750\n",
      "e2a1ca37      281215\n",
      "51cedd4e      239107\n",
      "66f5e02e      226077\n",
      "03a08c3f      218767\n",
      "98fed791      218766\n",
      "73206397      200058\n",
      "f53417e1      199043\n",
      "e96773f0      178745\n",
      "ce183bbd      148257\n",
      "be7c618d      119975\n",
      "1dc72b4d      105288\n",
      "f888bf4c      104413\n",
      "396df801       98066\n",
      "3c4b944d       89039\n",
      "39947756       86799\n",
      "cf0327f9       86477\n",
      "3f2a6cbb       83356\n",
      "              ...   \n",
      "3e9e8abe           1\n",
      "733cb7d2           1\n",
      "cd8f0999           1\n",
      "42cd0f18           1\n",
      "de190df8           1\n",
      "8432c57e           1\n",
      "fabfdd0a           1\n",
      "89757816           1\n",
      "a4b04519           1\n",
      "f6723d70           1\n",
      "9d8980d6           1\n",
      "4be92b89           1\n",
      "f3aca9a9           1\n",
      "5a01ed7e           1\n",
      "a95ac842           1\n",
      "8d6c6b56           1\n",
      "933f7dc6           1\n",
      "498e0a62           1\n",
      "d61fe7ed           1\n",
      "34ab9d4d           1\n",
      "ee270969           1\n",
      "220e7913           1\n",
      "4b6c9401           1\n",
      "9bd69f62           1\n",
      "944e8a9c           1\n",
      "4b35b3b9           1\n",
      "fcc1853f           1\n",
      "780f6989           1\n",
      "b80eae33           1\n",
      "d0b9c309           1\n",
      "Length: 8553, dtype: int64\n"
     ]
    }
   ],
   "source": [
    "value_count(8)\n",
    "# app_id, 共8552类"
   ]
  },
  {
   "cell_type": "code",
   "execution_count": 23,
   "metadata": {
    "ExecuteTime": {
     "end_time": "2018-06-03T05:29:22.849282Z",
     "start_time": "2018-06-03T05:23:48.816428Z"
    },
    "collapsed": false,
    "scrolled": false
   },
   "outputs": [
    {
     "name": "stdout",
     "output_type": "stream",
     "text": [
      "-----------------------------------------------\n",
      "the value counts of app_domain:\n",
      "7801e8d9    27237087\n",
      "2347f47a     5240885\n",
      "ae637522     1881838\n",
      "5c5a694b     1129228\n",
      "82e27996      759125\n",
      "d9b5648e      713924\n",
      "0e8616ad      660510\n",
      "b9528b13      646193\n",
      "b8d325c3      534000\n",
      "aefc06bd      298769\n",
      "df32afa9      291502\n",
      "33da2e74      259530\n",
      "6f7ca2ba      226100\n",
      "5b9c592b      104413\n",
      "885c7f3f       68310\n",
      "5c620f04       60268\n",
      "45a51db4       56138\n",
      "b5f3b24a       48199\n",
      "813f3323       25338\n",
      "0654b444       23298\n",
      "ad63ec9b       17624\n",
      "c6824def       14288\n",
      "15ec7f39       13031\n",
      "a8b0bf20       13009\n",
      "99b4c806       10041\n",
      "828da833        8268\n",
      "43cf4f06        7199\n",
      "448ca2e3        6877\n",
      "f2f777fb        6532\n",
      "47464e95        4761\n",
      "              ...   \n",
      "2eb85c80           1\n",
      "b6db2208           1\n",
      "938e40d3           1\n",
      "741bb270           1\n",
      "3d459804           1\n",
      "13b4d1e1           1\n",
      "48e6f39d           1\n",
      "116fd53f           1\n",
      "d06cce07           1\n",
      "b72bf947           1\n",
      "505949a0           1\n",
      "bd6843b4           1\n",
      "4516163d           1\n",
      "f1083d2a           1\n",
      "911c0d17           1\n",
      "adf95bcd           1\n",
      "1f606580           1\n",
      "a696f7de           1\n",
      "a9aab246           1\n",
      "9c06a810           1\n",
      "88f50364           1\n",
      "e559a22e           1\n",
      "4e33d472           1\n",
      "8a1d880a           1\n",
      "d1600859           1\n",
      "1dc4224a           1\n",
      "b2e11faa           1\n",
      "1acab003           1\n",
      "a67cb0c5           1\n",
      "6dc31ecb           1\n",
      "Length: 560, dtype: int64\n"
     ]
    }
   ],
   "source": [
    "value_count(9)\n",
    "#app_domain, 共 559类"
   ]
  },
  {
   "cell_type": "code",
   "execution_count": 5,
   "metadata": {
    "ExecuteTime": {
     "end_time": "2018-06-03T05:29:22.849282Z",
     "start_time": "2018-06-03T05:23:48.816428Z"
    },
    "collapsed": false,
    "scrolled": false
   },
   "outputs": [
    {
     "name": "stdout",
     "output_type": "stream",
     "text": [
      "-----------------------------------------------\n",
      "the value counts of app_category:\n",
      "07d7df22        26165592\n",
      "0f2161f8         9561058\n",
      "cef3e649         1731545\n",
      "8ded1f7a         1467257\n",
      "f95efa07         1141673\n",
      "d1327cf5          123233\n",
      "09481d60           54886\n",
      "dc97ec06           54644\n",
      "75d80bbe           40108\n",
      "fc6fa53d           23663\n",
      "4ce2e9fc           20762\n",
      "879c24eb           12785\n",
      "a3c42688           11121\n",
      "4681bb9d            6291\n",
      "0f9a328c            5584\n",
      "a86a3e89            2497\n",
      "2281a340            2243\n",
      "8df2e842            1679\n",
      "79f0b860             605\n",
      "0bfbc358             425\n",
      "a7fd01ec             362\n",
      "7113d72a             304\n",
      "2fc4f2aa             234\n",
      "18b1e0be             212\n",
      "5326cf99             133\n",
      "0d82db25              25\n",
      "4b7ade46              16\n",
      "bf8ac856               9\n",
      "bd41f328               6\n",
      "71af18ce               5\n",
      "86c1a5a3               3\n",
      "ef03ae90               2\n",
      "6fea3693               2\n",
      "app_category           1\n",
      "52de74cf               1\n",
      "f395a87f               1\n",
      "cba0e20d               1\n",
      "dtype: int64\n"
     ]
    }
   ],
   "source": [
    "value_count(10)\n",
    "#app_category, 共36类 "
   ]
  },
  {
   "cell_type": "code",
   "execution_count": 6,
   "metadata": {
    "ExecuteTime": {
     "end_time": "2018-06-03T05:29:22.849282Z",
     "start_time": "2018-06-03T05:23:48.816428Z"
    },
    "collapsed": false,
    "scrolled": false
   },
   "outputs": [
    {
     "name": "stdout",
     "output_type": "stream",
     "text": [
      "-----------------------------------------------\n",
      "the value counts of device_id:\n",
      "a99f214a    33358308\n",
      "0f7c61dc       21356\n",
      "c357dbff       19667\n",
      "936e92fb       13712\n",
      "afeffc18        9654\n",
      "987552d1        4187\n",
      "28dc8687        4101\n",
      "d857ffbb        4004\n",
      "cef4c8cc        3694\n",
      "b09da1c4        3655\n",
      "3cdb4052        3069\n",
      "03559b29        2528\n",
      "02da5312        2497\n",
      "d2e4c0ab        1466\n",
      "f1d9c744        1392\n",
      "abab24a7        1374\n",
      "096a6f32        1369\n",
      "9af87478        1355\n",
      "bbcf14e4        1182\n",
      "73b81e30        1182\n",
      "eec6d022        1150\n",
      "1de30ee7        1131\n",
      "c35f5168        1060\n",
      "e8343327         969\n",
      "0a04637d         938\n",
      "bea61865         929\n",
      "ea04480e         910\n",
      "4e9e9550         882\n",
      "2c112522         859\n",
      "4e05554e         835\n",
      "              ...   \n",
      "a52f027f           1\n",
      "2706700a           1\n",
      "6e7e4330           1\n",
      "b2525029           1\n",
      "3a04689e           1\n",
      "d8ab27d4           1\n",
      "1388146b           1\n",
      "1f3a1fc1           1\n",
      "0a963597           1\n",
      "c461b548           1\n",
      "8b75eb1b           1\n",
      "083e5500           1\n",
      "2aaaa79a           1\n",
      "14eb2acb           1\n",
      "ce0fea88           1\n",
      "5ba51201           1\n",
      "fa63155d           1\n",
      "ca87a5bd           1\n",
      "cc001e04           1\n",
      "9108932f           1\n",
      "dbfebc1c           1\n",
      "ea97955b           1\n",
      "0e618253           1\n",
      "b4b340f2           1\n",
      "410e0928           1\n",
      "c3c0411d           1\n",
      "be8b06b0           1\n",
      "cf9af0e4           1\n",
      "ccecee90           1\n",
      "65668ba8           1\n",
      "Length: 2686409, dtype: int64\n"
     ]
    }
   ],
   "source": [
    "value_count(11)\n",
    "#device_id, 共2686408类"
   ]
  },
  {
   "cell_type": "code",
   "execution_count": 7,
   "metadata": {
    "ExecuteTime": {
     "end_time": "2018-06-03T05:29:22.849282Z",
     "start_time": "2018-06-03T05:23:48.816428Z"
    },
    "collapsed": false,
    "scrolled": false
   },
   "outputs": [
    {
     "name": "stdout",
     "output_type": "stream",
     "text": [
      "-----------------------------------------------\n",
      "the value counts of device_ip:\n",
      "6b9769f2    208701\n",
      "431b3174    135322\n",
      "2f323f36     88499\n",
      "af9205f9     87844\n",
      "930ec31d     86996\n",
      "af62faf4     85802\n",
      "009a7861     85382\n",
      "285aa37d     85313\n",
      "6394f6f6     83184\n",
      "d90a7774     82980\n",
      "c6563308     71290\n",
      "57cd4006     70449\n",
      "75bb1b58     70262\n",
      "1cf29716     70028\n",
      "ddd2926e     69816\n",
      "0489ce3f     69756\n",
      "a8536f3a     69594\n",
      "488a9a3e     69550\n",
      "ceffea69     68731\n",
      "8a014cbb     68506\n",
      "9b1fe278     66353\n",
      "07875ea4     36906\n",
      "7ed30f6c     36449\n",
      "b0070d9a     36045\n",
      "693bff3e     34794\n",
      "ac77b71a     33810\n",
      "bca8f26d     33737\n",
      "95b2935e     29576\n",
      "e54c1344     29553\n",
      "ff1c4f79     29353\n",
      "             ...  \n",
      "8ec424b0         1\n",
      "42929833         1\n",
      "cb1d162a         1\n",
      "ea8c2969         1\n",
      "9efa70ba         1\n",
      "970a40da         1\n",
      "d2607b4b         1\n",
      "5921be59         1\n",
      "ead50f7b         1\n",
      "6f89b888         1\n",
      "85a4cb2a         1\n",
      "fa5f8034         1\n",
      "0d345472         1\n",
      "50e1cd48         1\n",
      "49ba1f87         1\n",
      "de1be493         1\n",
      "10146fb9         1\n",
      "a9f063e3         1\n",
      "040852cf         1\n",
      "d371f616         1\n",
      "5f209cec         1\n",
      "0ee01b6b         1\n",
      "2160cfc9         1\n",
      "841e99ce         1\n",
      "a0143bfe         1\n",
      "b7dc204f         1\n",
      "ab993528         1\n",
      "d785aaf3         1\n",
      "8e8faa6f         1\n",
      "0f0bab4b         1\n",
      "Length: 6729487, dtype: int64\n"
     ]
    }
   ],
   "source": [
    "value_count(12)\n",
    "#device_ip, 6729486类"
   ]
  },
  {
   "cell_type": "code",
   "execution_count": 8,
   "metadata": {
    "ExecuteTime": {
     "end_time": "2018-06-03T05:29:22.849282Z",
     "start_time": "2018-06-03T05:23:48.816428Z"
    },
    "collapsed": false,
    "scrolled": false
   },
   "outputs": [
    {
     "name": "stdout",
     "output_type": "stream",
     "text": [
      "-----------------------------------------------\n",
      "the value counts of device_model:\n",
      "8a4875bd    2455470\n",
      "1f0bc64f    1424546\n",
      "d787e91b    1405169\n",
      "76dc4769     767961\n",
      "be6db1d7     742913\n",
      "a0f5f879     652751\n",
      "4ea23a13     645153\n",
      "7abbbd5c     636673\n",
      "ecb851b2     613048\n",
      "d4897fef     483582\n",
      "5096d134     475264\n",
      "711ee120     447450\n",
      "1ccc7835     426161\n",
      "e1eae715     421122\n",
      "c6263d8a     397746\n",
      "84ebbcd4     388015\n",
      "be74e6fe     379729\n",
      "981edffc     361456\n",
      "3bd9e8e7     359934\n",
      "f07e20f8     359464\n",
      "3bb1ddd7     357957\n",
      "0eb711ec     357223\n",
      "0bcabeaf     354422\n",
      "779d90c2     344574\n",
      "36b67a2a     343402\n",
      "fce66524     343261\n",
      "5db079b5     315606\n",
      "aad45b01     303474\n",
      "158e4944     287296\n",
      "a5bce124     279510\n",
      "             ...   \n",
      "8c6b4a1c          1\n",
      "404a1b1a          1\n",
      "4d13dae8          1\n",
      "1de9a8ac          1\n",
      "52c2a996          1\n",
      "7f93dc48          1\n",
      "026e3e58          1\n",
      "1b797a8b          1\n",
      "91a5354c          1\n",
      "04c5ded2          1\n",
      "fe9a5007          1\n",
      "e83b5b1b          1\n",
      "7cf7a4af          1\n",
      "0f34c7c8          1\n",
      "069e5f09          1\n",
      "13b29cfe          1\n",
      "b4154a46          1\n",
      "15defbff          1\n",
      "f8ef17e5          1\n",
      "257e8d4c          1\n",
      "ec1f9eec          1\n",
      "29ced697          1\n",
      "8570b4f6          1\n",
      "b814c3ee          1\n",
      "24b3fee8          1\n",
      "d6f8eddf          1\n",
      "225f6338          1\n",
      "13d1f11e          1\n",
      "e9c94dc7          1\n",
      "7b4b7b08          1\n",
      "Length: 8252, dtype: int64\n"
     ]
    }
   ],
   "source": [
    "value_count(13)\n",
    "#device_model, 8252类"
   ]
  },
  {
   "cell_type": "code",
   "execution_count": 9,
   "metadata": {
    "ExecuteTime": {
     "end_time": "2018-06-03T05:29:22.849282Z",
     "start_time": "2018-06-03T05:23:48.816428Z"
    },
    "collapsed": false,
    "scrolled": true
   },
   "outputs": [
    {
     "name": "stdout",
     "output_type": "stream",
     "text": [
      "-----------------------------------------------\n",
      "the value counts of device_type:\n",
      "1              37304667\n",
      "0               2220812\n",
      "4                774272\n",
      "5                129185\n",
      "2                    31\n",
      "device_type           1\n",
      "dtype: int64\n"
     ]
    }
   ],
   "source": [
    "value_count(14)\n",
    "#device_type, 5类"
   ]
  },
  {
   "cell_type": "code",
   "execution_count": 10,
   "metadata": {
    "ExecuteTime": {
     "end_time": "2018-06-03T05:29:22.849282Z",
     "start_time": "2018-06-03T05:23:48.816428Z"
    },
    "collapsed": false,
    "scrolled": true
   },
   "outputs": [
    {
     "name": "stdout",
     "output_type": "stream",
     "text": [
      "-----------------------------------------------\n",
      "the value counts of device_conn_type:\n",
      "0                   34886838\n",
      "2                    3317443\n",
      "3                    2181796\n",
      "5                      42890\n",
      "device_conn_type           1\n",
      "dtype: int64\n"
     ]
    }
   ],
   "source": [
    "value_count(15)\n",
    "#device_conn_type, 4类"
   ]
  },
  {
   "cell_type": "code",
   "execution_count": 18,
   "metadata": {
    "ExecuteTime": {
     "end_time": "2018-06-03T10:21:09.585962Z",
     "start_time": "2018-06-03T10:15:14.157128Z"
    },
    "collapsed": false,
    "scrolled": false
   },
   "outputs": [
    {
     "name": "stdout",
     "output_type": "stream",
     "text": [
      "-----------------------------------------------\n",
      "the value counts of C14:\n",
      "4687     948215\n",
      "21611    907004\n",
      "21189    765968\n",
      "21191    765092\n",
      "19771    730238\n",
      "19772    729305\n",
      "16208    657764\n",
      "20108    587773\n",
      "8330     554444\n",
      "19950    529145\n",
      "15705    510276\n",
      "15701    506797\n",
      "15699    504923\n",
      "15703    503358\n",
      "15704    503315\n",
      "15707    502374\n",
      "15708    502189\n",
      "15702    485719\n",
      "15706    477688\n",
      "16615    438490\n",
      "23804    406539\n",
      "21767    376105\n",
      "21768    373692\n",
      "17239    340800\n",
      "22676    340407\n",
      "19251    339308\n",
      "17654    303748\n",
      "17653    301220\n",
      "6563     294504\n",
      "21790    280425\n",
      "          ...  \n",
      "22976         1\n",
      "21299         1\n",
      "23425         1\n",
      "12168         1\n",
      "23032         1\n",
      "22528         1\n",
      "23943         1\n",
      "23956         1\n",
      "7655          1\n",
      "22576         1\n",
      "23584         1\n",
      "23114         1\n",
      "23679         1\n",
      "20473         1\n",
      "21298         1\n",
      "23339         1\n",
      "23942         1\n",
      "23518         1\n",
      "22078         1\n",
      "21304         1\n",
      "22567         1\n",
      "21884         1\n",
      "23953         1\n",
      "22080         1\n",
      "23863         1\n",
      "23598         1\n",
      "21802         1\n",
      "23612         1\n",
      "21903         1\n",
      "23941         1\n",
      "Length: 2627, dtype: int64\n"
     ]
    }
   ],
   "source": [
    "value_count(16)\n",
    "#C14, 2626类"
   ]
  },
  {
   "cell_type": "code",
   "execution_count": 9,
   "metadata": {
    "ExecuteTime": {
     "end_time": "2018-06-03T07:34:19.340499Z",
     "start_time": "2018-06-03T07:28:41.574889Z"
    },
    "collapsed": false,
    "scrolled": true
   },
   "outputs": [
    {
     "name": "stdout",
     "output_type": "stream",
     "text": [
      "-----------------------------------------------\n",
      "the value counts of C15:\n",
      "320     37708959\n",
      "300      2337294\n",
      "216       298794\n",
      "728        74533\n",
      "120         3069\n",
      "1024        2560\n",
      "480         2137\n",
      "768         1621\n",
      "C15            1\n",
      "dtype: int64\n"
     ]
    }
   ],
   "source": [
    "value_count(17)\n",
    "#C15, 8类"
   ]
  },
  {
   "cell_type": "code",
   "execution_count": 10,
   "metadata": {
    "ExecuteTime": {
     "end_time": "2018-06-03T07:39:59.607892Z",
     "start_time": "2018-06-03T07:34:19.343498Z"
    },
    "collapsed": false,
    "scrolled": true
   },
   "outputs": [
    {
     "name": "stdout",
     "output_type": "stream",
     "text": [
      "-----------------------------------------------\n",
      "the value counts of C16:\n",
      "50      38136554\n",
      "250      1806334\n",
      "36        298794\n",
      "480       103365\n",
      "90         74533\n",
      "20          3069\n",
      "768         2560\n",
      "320         2137\n",
      "1024        1621\n",
      "C16            1\n",
      "dtype: int64\n"
     ]
    }
   ],
   "source": [
    "value_count(18)\n",
    "# C16, 9类"
   ]
  },
  {
   "cell_type": "code",
   "execution_count": 11,
   "metadata": {
    "ExecuteTime": {
     "end_time": "2018-06-03T07:45:24.473108Z",
     "start_time": "2018-06-03T07:39:59.609892Z"
    },
    "collapsed": false,
    "scrolled": false
   },
   "outputs": [
    {
     "name": "stdout",
     "output_type": "stream",
     "text": [
      "-----------------------------------------------\n",
      "the value counts of C17:\n",
      "1722    4513492\n",
      "2424    1531071\n",
      "2227    1473105\n",
      "1800    1190161\n",
      "423      948215\n",
      "2480     918663\n",
      "2502     855087\n",
      "2528     824907\n",
      "2506     803166\n",
      "2374     756358\n",
      "2545     713546\n",
      "1872     695237\n",
      "1994     604968\n",
      "2299     587773\n",
      "2526     586936\n",
      "1863     567425\n",
      "761      558460\n",
      "2333     512860\n",
      "1993     495667\n",
      "2665     485332\n",
      "2676     475926\n",
      "1873     470663\n",
      "2507     447398\n",
      "2726     406539\n",
      "2647     363865\n",
      "2566     361010\n",
      "2667     356378\n",
      "1973     340800\n",
      "2616     340407\n",
      "2201     339308\n",
      "         ...   \n",
      "872         145\n",
      "2459        136\n",
      "2568        132\n",
      "2651        132\n",
      "1515        120\n",
      "2084        104\n",
      "2719         94\n",
      "2375         80\n",
      "2511         74\n",
      "2737         66\n",
      "2465         65\n",
      "2722         63\n",
      "2758         50\n",
      "2541         41\n",
      "644          26\n",
      "2346         23\n",
      "2521         15\n",
      "2585         13\n",
      "2448         12\n",
      "2575          8\n",
      "2447          8\n",
      "2718          7\n",
      "2744          5\n",
      "2567          5\n",
      "2746          4\n",
      "1253          3\n",
      "2752          1\n",
      "1516          1\n",
      "C17           1\n",
      "2704          1\n",
      "Length: 436, dtype: int64\n"
     ]
    }
   ],
   "source": [
    "value_count(19)\n",
    "#C17, 435类"
   ]
  },
  {
   "cell_type": "code",
   "execution_count": 12,
   "metadata": {
    "ExecuteTime": {
     "end_time": "2018-06-03T08:13:20.287112Z",
     "start_time": "2018-06-03T08:05:24.364832Z"
    },
    "collapsed": false,
    "scrolled": true
   },
   "outputs": [
    {
     "name": "stdout",
     "output_type": "stream",
     "text": [
      "-----------------------------------------------\n",
      "the value counts of C18:\n",
      "0      16939044\n",
      "3      13654242\n",
      "2       7116058\n",
      "1       2719623\n",
      "C18           1\n",
      "dtype: int64\n"
     ]
    }
   ],
   "source": [
    "value_count(20)\n",
    "#C18, 4类"
   ]
  },
  {
   "cell_type": "code",
   "execution_count": 13,
   "metadata": {
    "ExecuteTime": {
     "end_time": "2018-06-03T08:21:42.064305Z",
     "start_time": "2018-06-03T08:13:20.290103Z"
    },
    "collapsed": false,
    "scrolled": false
   },
   "outputs": [
    {
     "name": "stdout",
     "output_type": "stream",
     "text": [
      "-----------------------------------------------\n",
      "the value counts of C19:\n",
      "35      12170630\n",
      "39       8829426\n",
      "167      3145695\n",
      "161      1587765\n",
      "47       1451708\n",
      "1327     1092601\n",
      "297      1014859\n",
      "163       926864\n",
      "175       811516\n",
      "679       737468\n",
      "935       704359\n",
      "687       555698\n",
      "1063      522944\n",
      "41        513229\n",
      "33        478227\n",
      "431       430005\n",
      "803       406539\n",
      "1319      394524\n",
      "303       328180\n",
      "419       325027\n",
      "171       306934\n",
      "169       291959\n",
      "299       291844\n",
      "427       270146\n",
      "34        263275\n",
      "291       259205\n",
      "547       247633\n",
      "43        212757\n",
      "815       208331\n",
      "38        182787\n",
      "          ...   \n",
      "813        60918\n",
      "551        52348\n",
      "681        48395\n",
      "290        44822\n",
      "1315       39870\n",
      "801        29418\n",
      "295        27526\n",
      "673        24745\n",
      "1831       23662\n",
      "423        23111\n",
      "1071       21210\n",
      "1575       19196\n",
      "943        19128\n",
      "1835       18756\n",
      "425        17705\n",
      "1839       11315\n",
      "555         8954\n",
      "553         8087\n",
      "417         6507\n",
      "289         5788\n",
      "939         5421\n",
      "1583        3477\n",
      "45          3269\n",
      "683          808\n",
      "1447         161\n",
      "1195         132\n",
      "545          117\n",
      "677            8\n",
      "1959           2\n",
      "C19            1\n",
      "Length: 69, dtype: int64\n"
     ]
    }
   ],
   "source": [
    "value_count(21)\n",
    "#C19, 68类"
   ]
  },
  {
   "cell_type": "code",
   "execution_count": 15,
   "metadata": {
    "ExecuteTime": {
     "end_time": "2018-06-03T09:37:20.699547Z",
     "start_time": "2018-06-03T09:32:06.799509Z"
    },
    "collapsed": false,
    "scrolled": false
   },
   "outputs": [
    {
     "name": "stdout",
     "output_type": "stream",
     "text": [
      "-----------------------------------------------\n",
      "the value counts of C20:\n",
      "-1        18937918\n",
      "100084     2438478\n",
      "100148     1794890\n",
      "100111     1716733\n",
      "100077     1575495\n",
      "100075     1546414\n",
      "100081     1337033\n",
      "100083     1073567\n",
      "100156     1032558\n",
      "100193      707521\n",
      "100176      649479\n",
      "100074      587455\n",
      "100079      578206\n",
      "100189      476733\n",
      "100076      457895\n",
      "100192      234785\n",
      "100190      225665\n",
      "100191      223351\n",
      "100188      220499\n",
      "100013      198110\n",
      "100031      185730\n",
      "100155      161718\n",
      "100194      146924\n",
      "100181      142366\n",
      "100000      139980\n",
      "100233      118568\n",
      "100105      117297\n",
      "100182      116845\n",
      "100003      115705\n",
      "100119      113055\n",
      "            ...   \n",
      "100244        1267\n",
      "100163        1105\n",
      "100010        1003\n",
      "100178         928\n",
      "100024         825\n",
      "100213         768\n",
      "100109         729\n",
      "100122         691\n",
      "100082         630\n",
      "100108         589\n",
      "100169         537\n",
      "100137         507\n",
      "100153         472\n",
      "100175         196\n",
      "100098         120\n",
      "100138         102\n",
      "100100          79\n",
      "100186          44\n",
      "100078          43\n",
      "100157          29\n",
      "100246          28\n",
      "100027          23\n",
      "100132           7\n",
      "100134           6\n",
      "100006           5\n",
      "100187           3\n",
      "100008           2\n",
      "100209           2\n",
      "C20              1\n",
      "100198           1\n",
      "Length: 173, dtype: int64\n"
     ]
    }
   ],
   "source": [
    "value_count(22)\n",
    "#C20, 172类, 包含一个-1类"
   ]
  },
  {
   "cell_type": "code",
   "execution_count": 16,
   "metadata": {
    "ExecuteTime": {
     "end_time": "2018-06-03T09:43:24.201500Z",
     "start_time": "2018-06-03T09:37:20.706538Z"
    },
    "collapsed": false,
    "scrolled": false
   },
   "outputs": [
    {
     "name": "stdout",
     "output_type": "stream",
     "text": [
      "-----------------------------------------------\n",
      "the value counts of C21:\n",
      "23     8896205\n",
      "221    5051245\n",
      "79     4614799\n",
      "48     2160794\n",
      "71     2108496\n",
      "61     2053636\n",
      "157    1856105\n",
      "32     1783343\n",
      "33     1497559\n",
      "52     1203050\n",
      "42     1018906\n",
      "51      850249\n",
      "15      766986\n",
      "212     659994\n",
      "43      588961\n",
      "117     419943\n",
      "229     406539\n",
      "13      384314\n",
      "16      347178\n",
      "156     334906\n",
      "68      324148\n",
      "159     290215\n",
      "95      276988\n",
      "46      235809\n",
      "246     201746\n",
      "69      176226\n",
      "91      169042\n",
      "17      166268\n",
      "111     140305\n",
      "76      138160\n",
      "        ...   \n",
      "90      128679\n",
      "110     121407\n",
      "171     115845\n",
      "204      92782\n",
      "101      81352\n",
      "253      78375\n",
      "112      74532\n",
      "82       71393\n",
      "100      65258\n",
      "178      50055\n",
      "182      49761\n",
      "108      46723\n",
      "35       46707\n",
      "94       22206\n",
      "251      21170\n",
      "116      16189\n",
      "194      14032\n",
      "20       13365\n",
      "93       12411\n",
      "102       8954\n",
      "104       8425\n",
      "126       7780\n",
      "163       6507\n",
      "177       5618\n",
      "255       4608\n",
      "195       3890\n",
      "1         3027\n",
      "219       1765\n",
      "85         497\n",
      "C21          1\n",
      "Length: 61, dtype: int64\n"
     ]
    }
   ],
   "source": [
    "value_count(23)\n",
    "#C21, 60类"
   ]
  },
  {
   "cell_type": "code",
   "execution_count": 6,
   "metadata": {
    "ExecuteTime": {
     "end_time": "2018-06-03T12:49:36.674294Z",
     "start_time": "2018-06-03T12:44:41.228796Z"
    },
    "collapsed": false
   },
   "outputs": [
    {
     "name": "stdout",
     "output_type": "stream",
     "text": [
      "-----------------------------------------------\n",
      "the value counts of device_type:\n",
      "1              37304667\n",
      "0               2220812\n",
      "4                774272\n",
      "5                129185\n",
      "2                    31\n",
      "device_type           1\n",
      "dtype: int64\n"
     ]
    }
   ],
   "source": [
    "device_type = value_count(14,return_value=True)\n",
    "#device_type, 5类"
   ]
  },
  {
   "cell_type": "code",
   "execution_count": 7,
   "metadata": {
    "ExecuteTime": {
     "end_time": "2018-06-03T12:21:10.660716Z",
     "start_time": "2018-06-03T12:21:10.435342Z"
    },
    "collapsed": false
   },
   "outputs": [
    {
     "data": {
      "text/plain": [
       "2366"
      ]
     },
     "execution_count": 7,
     "metadata": {},
     "output_type": "execute_result"
    }
   ],
   "source": [
    "gc.collect()"
   ]
  },
  {
   "cell_type": "code",
   "execution_count": null,
   "metadata": {
    "ExecuteTime": {
     "start_time": "2018-06-03T12:21:19.229Z"
    },
    "collapsed": true
   },
   "outputs": [],
   "source": [
    "device_type.hist()"
   ]
  },
  {
   "cell_type": "code",
   "execution_count": null,
   "metadata": {
    "ExecuteTime": {
     "start_time": "2018-06-03T12:51:51.117Z"
    },
    "collapsed": true
   },
   "outputs": [],
   "source": [
    "sns.distplot(device_type)"
   ]
  },
  {
   "cell_type": "code",
   "execution_count": 9,
   "metadata": {
    "ExecuteTime": {
     "end_time": "2018-06-03T01:48:44.732835Z",
     "start_time": "2018-06-03T01:48:44.716847Z"
    },
    "collapsed": false
   },
   "outputs": [
    {
     "data": {
      "text/plain": [
       "PythonRDD[4] at RDD at PythonRDD.scala:48"
      ]
     },
     "execution_count": 9,
     "metadata": {},
     "output_type": "execute_result"
    }
   ],
   "source": [
    "train_banner_pos"
   ]
  },
  {
   "cell_type": "code",
   "execution_count": 36,
   "metadata": {
    "ExecuteTime": {
     "end_time": "2018-06-02T11:47:50.907403Z",
     "start_time": "2018-06-02T11:47:50.813745Z"
    },
    "collapsed": false
   },
   "outputs": [
    {
     "data": {
      "text/html": [
       "<div>\n",
       "<style scoped>\n",
       "    .dataframe tbody tr th:only-of-type {\n",
       "        vertical-align: middle;\n",
       "    }\n",
       "\n",
       "    .dataframe tbody tr th {\n",
       "        vertical-align: top;\n",
       "    }\n",
       "\n",
       "    .dataframe thead th {\n",
       "        text-align: right;\n",
       "    }\n",
       "</style>\n",
       "<table border=\"1\" class=\"dataframe\">\n",
       "  <thead>\n",
       "    <tr style=\"text-align: right;\">\n",
       "      <th></th>\n",
       "      <th>id</th>\n",
       "      <th>click</th>\n",
       "      <th>hour</th>\n",
       "      <th>C1</th>\n",
       "      <th>banner_pos</th>\n",
       "      <th>site_id</th>\n",
       "      <th>site_domain</th>\n",
       "      <th>site_category</th>\n",
       "      <th>app_id</th>\n",
       "      <th>app_domain</th>\n",
       "      <th>...</th>\n",
       "      <th>device_type</th>\n",
       "      <th>device_conn_type</th>\n",
       "      <th>C14</th>\n",
       "      <th>C15</th>\n",
       "      <th>C16</th>\n",
       "      <th>C17</th>\n",
       "      <th>C18</th>\n",
       "      <th>C19</th>\n",
       "      <th>C20</th>\n",
       "      <th>C21</th>\n",
       "    </tr>\n",
       "  </thead>\n",
       "  <tbody>\n",
       "    <tr>\n",
       "      <th>0</th>\n",
       "      <td>1.000009e+18</td>\n",
       "      <td>0</td>\n",
       "      <td>14102100</td>\n",
       "      <td>1005</td>\n",
       "      <td>0</td>\n",
       "      <td>1fbe01fe</td>\n",
       "      <td>f3845767</td>\n",
       "      <td>28905ebd</td>\n",
       "      <td>ecad2386</td>\n",
       "      <td>7801e8d9</td>\n",
       "      <td>...</td>\n",
       "      <td>1</td>\n",
       "      <td>2</td>\n",
       "      <td>15706</td>\n",
       "      <td>320</td>\n",
       "      <td>50</td>\n",
       "      <td>1722</td>\n",
       "      <td>0</td>\n",
       "      <td>35</td>\n",
       "      <td>-1</td>\n",
       "      <td>79</td>\n",
       "    </tr>\n",
       "    <tr>\n",
       "      <th>1</th>\n",
       "      <td>1.000017e+19</td>\n",
       "      <td>0</td>\n",
       "      <td>14102100</td>\n",
       "      <td>1005</td>\n",
       "      <td>0</td>\n",
       "      <td>1fbe01fe</td>\n",
       "      <td>f3845767</td>\n",
       "      <td>28905ebd</td>\n",
       "      <td>ecad2386</td>\n",
       "      <td>7801e8d9</td>\n",
       "      <td>...</td>\n",
       "      <td>1</td>\n",
       "      <td>0</td>\n",
       "      <td>15704</td>\n",
       "      <td>320</td>\n",
       "      <td>50</td>\n",
       "      <td>1722</td>\n",
       "      <td>0</td>\n",
       "      <td>35</td>\n",
       "      <td>100084</td>\n",
       "      <td>79</td>\n",
       "    </tr>\n",
       "    <tr>\n",
       "      <th>2</th>\n",
       "      <td>1.000037e+19</td>\n",
       "      <td>0</td>\n",
       "      <td>14102100</td>\n",
       "      <td>1005</td>\n",
       "      <td>0</td>\n",
       "      <td>1fbe01fe</td>\n",
       "      <td>f3845767</td>\n",
       "      <td>28905ebd</td>\n",
       "      <td>ecad2386</td>\n",
       "      <td>7801e8d9</td>\n",
       "      <td>...</td>\n",
       "      <td>1</td>\n",
       "      <td>0</td>\n",
       "      <td>15704</td>\n",
       "      <td>320</td>\n",
       "      <td>50</td>\n",
       "      <td>1722</td>\n",
       "      <td>0</td>\n",
       "      <td>35</td>\n",
       "      <td>100084</td>\n",
       "      <td>79</td>\n",
       "    </tr>\n",
       "    <tr>\n",
       "      <th>3</th>\n",
       "      <td>1.000064e+19</td>\n",
       "      <td>0</td>\n",
       "      <td>14102100</td>\n",
       "      <td>1005</td>\n",
       "      <td>0</td>\n",
       "      <td>1fbe01fe</td>\n",
       "      <td>f3845767</td>\n",
       "      <td>28905ebd</td>\n",
       "      <td>ecad2386</td>\n",
       "      <td>7801e8d9</td>\n",
       "      <td>...</td>\n",
       "      <td>1</td>\n",
       "      <td>0</td>\n",
       "      <td>15706</td>\n",
       "      <td>320</td>\n",
       "      <td>50</td>\n",
       "      <td>1722</td>\n",
       "      <td>0</td>\n",
       "      <td>35</td>\n",
       "      <td>100084</td>\n",
       "      <td>79</td>\n",
       "    </tr>\n",
       "    <tr>\n",
       "      <th>4</th>\n",
       "      <td>1.000068e+19</td>\n",
       "      <td>0</td>\n",
       "      <td>14102100</td>\n",
       "      <td>1005</td>\n",
       "      <td>1</td>\n",
       "      <td>fe8cc448</td>\n",
       "      <td>9166c161</td>\n",
       "      <td>0569f928</td>\n",
       "      <td>ecad2386</td>\n",
       "      <td>7801e8d9</td>\n",
       "      <td>...</td>\n",
       "      <td>1</td>\n",
       "      <td>0</td>\n",
       "      <td>18993</td>\n",
       "      <td>320</td>\n",
       "      <td>50</td>\n",
       "      <td>2161</td>\n",
       "      <td>0</td>\n",
       "      <td>35</td>\n",
       "      <td>-1</td>\n",
       "      <td>157</td>\n",
       "    </tr>\n",
       "  </tbody>\n",
       "</table>\n",
       "<p>5 rows × 24 columns</p>\n",
       "</div>"
      ],
      "text/plain": [
       "             id  click      hour    C1  banner_pos   site_id site_domain  \\\n",
       "0  1.000009e+18      0  14102100  1005           0  1fbe01fe    f3845767   \n",
       "1  1.000017e+19      0  14102100  1005           0  1fbe01fe    f3845767   \n",
       "2  1.000037e+19      0  14102100  1005           0  1fbe01fe    f3845767   \n",
       "3  1.000064e+19      0  14102100  1005           0  1fbe01fe    f3845767   \n",
       "4  1.000068e+19      0  14102100  1005           1  fe8cc448    9166c161   \n",
       "\n",
       "  site_category    app_id app_domain ...  device_type device_conn_type    C14  \\\n",
       "0      28905ebd  ecad2386   7801e8d9 ...            1                2  15706   \n",
       "1      28905ebd  ecad2386   7801e8d9 ...            1                0  15704   \n",
       "2      28905ebd  ecad2386   7801e8d9 ...            1                0  15704   \n",
       "3      28905ebd  ecad2386   7801e8d9 ...            1                0  15706   \n",
       "4      0569f928  ecad2386   7801e8d9 ...            1                0  18993   \n",
       "\n",
       "   C15  C16   C17  C18  C19     C20  C21  \n",
       "0  320   50  1722    0   35      -1   79  \n",
       "1  320   50  1722    0   35  100084   79  \n",
       "2  320   50  1722    0   35  100084   79  \n",
       "3  320   50  1722    0   35  100084   79  \n",
       "4  320   50  2161    0   35      -1  157  \n",
       "\n",
       "[5 rows x 24 columns]"
      ]
     },
     "execution_count": 36,
     "metadata": {},
     "output_type": "execute_result"
    }
   ],
   "source": [
    "train_1.head()"
   ]
  },
  {
   "cell_type": "code",
   "execution_count": null,
   "metadata": {
    "collapsed": true
   },
   "outputs": [],
   "source": []
  },
  {
   "cell_type": "code",
   "execution_count": null,
   "metadata": {
    "collapsed": true
   },
   "outputs": [],
   "source": []
  }
 ],
 "metadata": {
  "kernelspec": {
   "display_name": "Python [default]",
   "language": "python",
   "name": "python3"
  },
  "language_info": {
   "codemirror_mode": {
    "name": "ipython",
    "version": 3
   },
   "file_extension": ".py",
   "mimetype": "text/x-python",
   "name": "python",
   "nbconvert_exporter": "python",
   "pygments_lexer": "ipython3",
   "version": "3.5.2"
  },
  "toc": {
   "nav_menu": {},
   "number_sections": true,
   "sideBar": true,
   "skip_h1_title": false,
   "title_cell": "Table of Contents",
   "title_sidebar": "Contents",
   "toc_cell": false,
   "toc_position": {},
   "toc_section_display": true,
   "toc_window_display": false
  }
 },
 "nbformat": 4,
 "nbformat_minor": 2
}
