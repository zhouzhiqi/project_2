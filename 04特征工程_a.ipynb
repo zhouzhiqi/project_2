{
 "cells": [
  {
   "cell_type": "markdown",
   "metadata": {},
   "source": [
    "|名称|含义|\n",
    "| : | : |\n",
    "|id | ad identifier\n",
    "|click | 1是点击 0/1 for non-click/click\n",
    "|hour | 时间, YYMMDDHH, so 14091123 means 2014年09月11号23:00 UTC.\n",
    "|C1 | 未知分类变量 anonymized categorical variable\n",
    "|banner_pos|标语,横幅\n",
    "|site_id|网站ID号\n",
    "|site_domain|网站 域?\n",
    "|site_category|网站类别\n",
    "|app_id|appID号\n",
    "|app_domain|应用 域?\n",
    "|app_category|应用类别\n",
    "|device_id|设备ID号\n",
    "|device_ip|设备ip地址\n",
    "|device_model|设备型号, 如iphone5/iphone4\n",
    "|device_type|设备类型, 如智能手机/平板电脑\n",
    "|device_conn_type|连接设备类型\n",
    "|C14-C21|未知分类变量 anonymized categorical variables"
   ]
  },
  {
   "cell_type": "code",
   "execution_count": 1,
   "metadata": {
    "ExecuteTime": {
     "end_time": "2018-06-04T06:15:28.812511Z",
     "start_time": "2018-06-04T06:15:28.608609Z"
    },
    "collapsed": false
   },
   "outputs": [],
   "source": [
    "import numpy as np\n",
    "import pandas as pd\n",
    "import gc\n",
    "import os\n",
    "#from  sklearn.cross_validation  import  train_test_split "
   ]
  },
  {
   "cell_type": "code",
   "execution_count": 2,
   "metadata": {
    "collapsed": true
   },
   "outputs": [],
   "source": [
    "import matplotlib.pyplot as plt\n",
    "\n",
    "%matplotlib inline"
   ]
  },
  {
   "cell_type": "markdown",
   "metadata": {
    "collapsed": true
   },
   "source": [
    "import matplotlib.font_manager as fm\n",
    "heiti = fm.FontProperties(fname='heiti.ttf')  # 字体位置"
   ]
  },
  {
   "cell_type": "code",
   "execution_count": 3,
   "metadata": {
    "ExecuteTime": {
     "end_time": "2018-06-04T06:12:45.891202Z",
     "start_time": "2018-06-04T06:12:45.884205Z"
    },
    "collapsed": false
   },
   "outputs": [
    {
     "data": {
      "text/plain": [
       "'../data/project_2/train.csv'"
      ]
     },
     "execution_count": 3,
     "metadata": {},
     "output_type": "execute_result"
    }
   ],
   "source": [
    "data_path = '../data/project_2/'\n",
    "train_path = data_path+'train.csv'\n",
    "train_path"
   ]
  },
  {
   "cell_type": "markdown",
   "metadata": {},
   "source": [
    "# 1.压缩数据(0.1, 0.01)"
   ]
  },
  {
   "cell_type": "code",
   "execution_count": 34,
   "metadata": {
    "collapsed": false
   },
   "outputs": [],
   "source": [
    "def create_minitrain(file_name, output_name, mini_size=0.1, target='click', chunk_size=1e6):\n",
    "    \"\"\"压缩数据大小\"\"\"\n",
    "    \n",
    "    tmp = pd.read_csv(file_name, iterator=True)  #迭代读取书据\n",
    "    tmp.get_chunk(1).to_csv(output_name, mode='w', index=False)  \n",
    "    #提前写入一条数据,带有表头, 以免下次写入时表头重复\n",
    "    size = np.array([[0,0]])  #统计数据大小\n",
    "    i=0\n",
    "    while True:\n",
    "        #i+=1\n",
    "        #if i>10:break\n",
    "        try: data = tmp.get_chunk(chunk_size)  #每次读取chunk_size条数据 \n",
    "        except StopIteration: break  #读取结束后跳出循环\n",
    "        mini_data = data.sample(frac=mini_size, random_state=33, ) \n",
    "        # 随机抽取mini_size(占总数据的比例)条数据\n",
    "        size = np.concatenate((size,[[data.shape[0], mini_data.shape[0]]]), axis=0)\n",
    "        mini_data.to_csv(output_name, mode='a', header=False, index=False)\n",
    "        # 保存抽取后的数据, 不要表头(否则每次保存均有表头), 不要索引(否则单独开启一列保存索引)\n",
    "        del data, mini_data #及时删除, 以免内存溢出\n",
    "        gc.collect()\n",
    "    size = size.sum(axis=0)\n",
    "    print('file size is {0}, mini size is {1}'.format(size[0],size[1]))"
   ]
  },
  {
   "cell_type": "code",
   "execution_count": 35,
   "metadata": {
    "collapsed": true
   },
   "outputs": [],
   "source": [
    "i=10"
   ]
  },
  {
   "cell_type": "code",
   "execution_count": 36,
   "metadata": {
    "collapsed": false
   },
   "outputs": [],
   "source": [
    "not_negative_one = dict()"
   ]
  },
  {
   "cell_type": "code",
   "execution_count": 143,
   "metadata": {
    "collapsed": false
   },
   "outputs": [],
   "source": [
    "data = pd.read_csv(data_path+'miniminitrain.csv', usecols=[3,4])"
   ]
  },
  {
   "cell_type": "code",
   "execution_count": 144,
   "metadata": {
    "collapsed": false,
    "scrolled": true
   },
   "outputs": [],
   "source": [
    "data = data.applymap(str)"
   ]
  },
  {
   "cell_type": "code",
   "execution_count": 145,
   "metadata": {
    "collapsed": false,
    "scrolled": true
   },
   "outputs": [],
   "source": [
    "tmp = data.iloc[:,0] + '_' +data.iloc[:,1]"
   ]
  },
  {
   "cell_type": "code",
   "execution_count": 146,
   "metadata": {
    "collapsed": false
   },
   "outputs": [],
   "source": [
    "tmp = tmp.to_frame(name='user_C1BP')"
   ]
  },
  {
   "cell_type": "code",
   "execution_count": 147,
   "metadata": {
    "collapsed": false
   },
   "outputs": [
    {
     "data": {
      "text/plain": [
       "pandas.core.frame.DataFrame"
      ]
     },
     "execution_count": 147,
     "metadata": {},
     "output_type": "execute_result"
    }
   ],
   "source": [
    "type(tmp)"
   ]
  },
  {
   "cell_type": "code",
   "execution_count": 148,
   "metadata": {
    "collapsed": false
   },
   "outputs": [
    {
     "data": {
      "text/plain": [
       "352"
      ]
     },
     "execution_count": 148,
     "metadata": {},
     "output_type": "execute_result"
    }
   ],
   "source": [
    "del data\n",
    "gc.collect()"
   ]
  },
  {
   "cell_type": "code",
   "execution_count": 149,
   "metadata": {
    "collapsed": true
   },
   "outputs": [],
   "source": [
    "data = pd.read_csv(data_path+'miniminitrain.csv', usecols=[5,6,7])"
   ]
  },
  {
   "cell_type": "code",
   "execution_count": 150,
   "metadata": {
    "collapsed": false
   },
   "outputs": [],
   "source": [
    "values = data.iloc[:,0] + '_' +data.iloc[:,1] + '_' +data.iloc[:,2]\n",
    "tmp.insert(loc=0, column='user_site', value=values)"
   ]
  },
  {
   "cell_type": "code",
   "execution_count": 151,
   "metadata": {
    "collapsed": false,
    "scrolled": true
   },
   "outputs": [
    {
     "data": {
      "text/plain": [
       "7"
      ]
     },
     "execution_count": 151,
     "metadata": {},
     "output_type": "execute_result"
    }
   ],
   "source": [
    "del data, values\n",
    "gc.collect()"
   ]
  },
  {
   "cell_type": "code",
   "execution_count": 152,
   "metadata": {
    "collapsed": true
   },
   "outputs": [],
   "source": [
    "data = pd.read_csv(data_path+'miniminitrain.csv', usecols=[8,9,10])"
   ]
  },
  {
   "cell_type": "code",
   "execution_count": 153,
   "metadata": {
    "collapsed": false
   },
   "outputs": [],
   "source": [
    "values = data.iloc[:,0] + '_' +data.iloc[:,1] + '_' +data.iloc[:,2]\n",
    "tmp.insert(loc=0, column='user_app', value=values)"
   ]
  },
  {
   "cell_type": "code",
   "execution_count": 154,
   "metadata": {
    "collapsed": false
   },
   "outputs": [
    {
     "data": {
      "text/plain": [
       "14"
      ]
     },
     "execution_count": 154,
     "metadata": {},
     "output_type": "execute_result"
    }
   ],
   "source": [
    "del data, values\n",
    "gc.collect()"
   ]
  },
  {
   "cell_type": "code",
   "execution_count": 155,
   "metadata": {
    "collapsed": false
   },
   "outputs": [],
   "source": [
    "data = pd.read_csv(data_path+'miniminitrain.csv', usecols=[11,12,13])\n",
    "values = data.iloc[:,0] + '_' +data.iloc[:,1] + '_' +data.iloc[:,2]"
   ]
  },
  {
   "cell_type": "code",
   "execution_count": 156,
   "metadata": {
    "collapsed": false
   },
   "outputs": [],
   "source": [
    "data = pd.read_csv(data_path+'miniminitrain.csv', usecols=[14,15])"
   ]
  },
  {
   "cell_type": "code",
   "execution_count": 157,
   "metadata": {
    "collapsed": false,
    "scrolled": true
   },
   "outputs": [],
   "source": [
    "data = data.applymap(str)"
   ]
  },
  {
   "cell_type": "code",
   "execution_count": 158,
   "metadata": {
    "collapsed": false
   },
   "outputs": [],
   "source": [
    "values = values + '_' + data.iloc[:,0] + '_' +data.iloc[:,1]\n",
    "\n",
    "tmp.insert(loc=0, column='user_device', value=values)"
   ]
  },
  {
   "cell_type": "code",
   "execution_count": 159,
   "metadata": {
    "collapsed": false,
    "scrolled": true
   },
   "outputs": [],
   "source": [
    "data = pd.read_csv(data_path+'miniminitrain.csv', usecols=[16,17,18,19,20,21,22,23])"
   ]
  },
  {
   "cell_type": "code",
   "execution_count": 161,
   "metadata": {
    "collapsed": true
   },
   "outputs": [],
   "source": [
    "data = data.applymap(str)"
   ]
  },
  {
   "cell_type": "code",
   "execution_count": 162,
   "metadata": {
    "collapsed": true
   },
   "outputs": [],
   "source": [
    "values = data.iloc[:,0]\n",
    "for i in range(1,8):\n",
    "    values = values + '_' + data.iloc[:,i] "
   ]
  },
  {
   "cell_type": "code",
   "execution_count": 163,
   "metadata": {
    "collapsed": false
   },
   "outputs": [],
   "source": [
    "tmp.insert(loc=0, column='user_C14to21', value=values)"
   ]
  },
  {
   "cell_type": "code",
   "execution_count": 118,
   "metadata": {
    "collapsed": false,
    "scrolled": true
   },
   "outputs": [
    {
     "data": {
      "text/plain": [
       "52450"
      ]
     },
     "execution_count": 118,
     "metadata": {},
     "output_type": "execute_result"
    }
   ],
   "source": [
    "count=0\n",
    "for i in range(tmp.shape[1]):\n",
    "    count += tmp.iloc[:,0].value_counts().shape[0]\n",
    "count"
   ]
  },
  {
   "cell_type": "code",
   "execution_count": 166,
   "metadata": {
    "collapsed": false
   },
   "outputs": [
    {
     "data": {
      "text/html": [
       "<div>\n",
       "<style scoped>\n",
       "    .dataframe tbody tr th:only-of-type {\n",
       "        vertical-align: middle;\n",
       "    }\n",
       "\n",
       "    .dataframe tbody tr th {\n",
       "        vertical-align: top;\n",
       "    }\n",
       "\n",
       "    .dataframe thead th {\n",
       "        text-align: right;\n",
       "    }\n",
       "</style>\n",
       "<table border=\"1\" class=\"dataframe\">\n",
       "  <thead>\n",
       "    <tr style=\"text-align: right;\">\n",
       "      <th></th>\n",
       "      <th>user_C14to21</th>\n",
       "      <th>user_device</th>\n",
       "      <th>user_app</th>\n",
       "      <th>user_site</th>\n",
       "      <th>user_C1BP</th>\n",
       "    </tr>\n",
       "  </thead>\n",
       "  <tbody>\n",
       "    <tr>\n",
       "      <th>0</th>\n",
       "      <td>15706_320_50_1722_0_35_-1_79</td>\n",
       "      <td>a99f214a_ddd2926e_44956a24_1_2</td>\n",
       "      <td>ecad2386_7801e8d9_07d7df22</td>\n",
       "      <td>1fbe01fe_f3845767_28905ebd</td>\n",
       "      <td>1005_0</td>\n",
       "    </tr>\n",
       "    <tr>\n",
       "      <th>1</th>\n",
       "      <td>21769_320_50_2507_0_35_100176_157</td>\n",
       "      <td>a99f214a_c3f00264_047b3d4d_1_0</td>\n",
       "      <td>ecad2386_7801e8d9_07d7df22</td>\n",
       "      <td>5bcf81a2_9d54950b_f028772b</td>\n",
       "      <td>1005_0</td>\n",
       "    </tr>\n",
       "    <tr>\n",
       "      <th>2</th>\n",
       "      <td>1039_320_50_178_3_1327_100141_15</td>\n",
       "      <td>420e3990_bf1271cb_be6db1d7_1_0</td>\n",
       "      <td>7358e05e_b9528b13_cef3e649</td>\n",
       "      <td>85f751fd_c4e18dd6_50e219e0</td>\n",
       "      <td>1005_0</td>\n",
       "    </tr>\n",
       "    <tr>\n",
       "      <th>3</th>\n",
       "      <td>17653_300_250_1994_2_39_100084_33</td>\n",
       "      <td>a99f214a_1759691c_779d90c2_1_0</td>\n",
       "      <td>ecad2386_7801e8d9_07d7df22</td>\n",
       "      <td>5b08c53b_7687a86e_3e814130</td>\n",
       "      <td>1005_0</td>\n",
       "    </tr>\n",
       "    <tr>\n",
       "      <th>4</th>\n",
       "      <td>21883_320_50_2526_0_35_-1_221</td>\n",
       "      <td>a99f214a_e43b4539_d4897fef_1_0</td>\n",
       "      <td>ecad2386_7801e8d9_07d7df22</td>\n",
       "      <td>e4d8dd7b_a17bde68_3e814130</td>\n",
       "      <td>1005_1</td>\n",
       "    </tr>\n",
       "    <tr>\n",
       "      <th>5</th>\n",
       "      <td>21612_320_50_2481_3_297_100111_61</td>\n",
       "      <td>a99f214a_e3585726_cec7fa02_1_0</td>\n",
       "      <td>ecad2386_7801e8d9_07d7df22</td>\n",
       "      <td>c21df24f_c4e18dd6_f028772b</td>\n",
       "      <td>1012_0</td>\n",
       "    </tr>\n",
       "    <tr>\n",
       "      <th>6</th>\n",
       "      <td>19771_320_50_2227_0_679_100077_48</td>\n",
       "      <td>a99f214a_62e2b80c_022e3eb5_1_0</td>\n",
       "      <td>ecad2386_7801e8d9_07d7df22</td>\n",
       "      <td>6399eda6_968765cd_f028772b</td>\n",
       "      <td>1005_0</td>\n",
       "    </tr>\n",
       "    <tr>\n",
       "      <th>7</th>\n",
       "      <td>21882_320_50_2526_0_35_100075_221</td>\n",
       "      <td>a99f214a_b3504069_8a4875bd_1_0</td>\n",
       "      <td>ecad2386_7801e8d9_07d7df22</td>\n",
       "      <td>b7e9786d_b12b9f85_f028772b</td>\n",
       "      <td>1005_1</td>\n",
       "    </tr>\n",
       "    <tr>\n",
       "      <th>8</th>\n",
       "      <td>21683_320_50_2496_3_167_-1_23</td>\n",
       "      <td>a99f214a_47bc08e9_2e0de5da_1_2</td>\n",
       "      <td>66f5e02e_6f7ca2ba_0f2161f8</td>\n",
       "      <td>85f751fd_c4e18dd6_50e219e0</td>\n",
       "      <td>1005_0</td>\n",
       "    </tr>\n",
       "    <tr>\n",
       "      <th>9</th>\n",
       "      <td>15705_320_50_1722_0_35_-1_79</td>\n",
       "      <td>a99f214a_4a7d0165_1f0bc64f_1_0</td>\n",
       "      <td>ecad2386_7801e8d9_07d7df22</td>\n",
       "      <td>5bcf81a2_9d54950b_f028772b</td>\n",
       "      <td>1005_0</td>\n",
       "    </tr>\n",
       "  </tbody>\n",
       "</table>\n",
       "</div>"
      ],
      "text/plain": [
       "                        user_C14to21                     user_device  \\\n",
       "0       15706_320_50_1722_0_35_-1_79  a99f214a_ddd2926e_44956a24_1_2   \n",
       "1  21769_320_50_2507_0_35_100176_157  a99f214a_c3f00264_047b3d4d_1_0   \n",
       "2   1039_320_50_178_3_1327_100141_15  420e3990_bf1271cb_be6db1d7_1_0   \n",
       "3  17653_300_250_1994_2_39_100084_33  a99f214a_1759691c_779d90c2_1_0   \n",
       "4      21883_320_50_2526_0_35_-1_221  a99f214a_e43b4539_d4897fef_1_0   \n",
       "5  21612_320_50_2481_3_297_100111_61  a99f214a_e3585726_cec7fa02_1_0   \n",
       "6  19771_320_50_2227_0_679_100077_48  a99f214a_62e2b80c_022e3eb5_1_0   \n",
       "7  21882_320_50_2526_0_35_100075_221  a99f214a_b3504069_8a4875bd_1_0   \n",
       "8      21683_320_50_2496_3_167_-1_23  a99f214a_47bc08e9_2e0de5da_1_2   \n",
       "9       15705_320_50_1722_0_35_-1_79  a99f214a_4a7d0165_1f0bc64f_1_0   \n",
       "\n",
       "                     user_app                   user_site user_C1BP  \n",
       "0  ecad2386_7801e8d9_07d7df22  1fbe01fe_f3845767_28905ebd    1005_0  \n",
       "1  ecad2386_7801e8d9_07d7df22  5bcf81a2_9d54950b_f028772b    1005_0  \n",
       "2  7358e05e_b9528b13_cef3e649  85f751fd_c4e18dd6_50e219e0    1005_0  \n",
       "3  ecad2386_7801e8d9_07d7df22  5b08c53b_7687a86e_3e814130    1005_0  \n",
       "4  ecad2386_7801e8d9_07d7df22  e4d8dd7b_a17bde68_3e814130    1005_1  \n",
       "5  ecad2386_7801e8d9_07d7df22  c21df24f_c4e18dd6_f028772b    1012_0  \n",
       "6  ecad2386_7801e8d9_07d7df22  6399eda6_968765cd_f028772b    1005_0  \n",
       "7  ecad2386_7801e8d9_07d7df22  b7e9786d_b12b9f85_f028772b    1005_1  \n",
       "8  66f5e02e_6f7ca2ba_0f2161f8  85f751fd_c4e18dd6_50e219e0    1005_0  \n",
       "9  ecad2386_7801e8d9_07d7df22  5bcf81a2_9d54950b_f028772b    1005_0  "
      ]
     },
     "execution_count": 166,
     "metadata": {},
     "output_type": "execute_result"
    }
   ],
   "source": [
    "tmp[:10]"
   ]
  },
  {
   "cell_type": "code",
   "execution_count": 168,
   "metadata": {
    "collapsed": false
   },
   "outputs": [],
   "source": [
    "class feature_engineering(object):\n",
    "    \n",
    "    \n",
    "    def __init__(self,):\n",
    "        self.data_path = '../data/project_2/'\n",
    "        self.file_name = self.data_path + 'train.csv'\n",
    "        #self.file_name = self.data_path + 'miniminitrain.csv'\n",
    "        end = np.array([3,5,8,11,16,24])\n",
    "        columns = {3:'user_C1BP', 5:'user_site', \n",
    "                 8:'user_app', 11:'user_device', 16:'user_C14to21'}\n",
    "        self.finaldata = self.combine(self.loaddata(3), 4)\n",
    "        self.finaldata = self.finaldata.to_frame(name=columns[3])\n",
    "        \n",
    "        for i in np.arange(5,23):\n",
    "            if i in end: \n",
    "                data = self.loaddata(i)\n",
    "                name = columns[i]\n",
    "            data = self.combine(data, i+1)\n",
    "            if i+2 in end:\n",
    "                self.insert(name, data)\n",
    "        \n",
    "    def insert(self, name, values):\n",
    "        self.finaldata.insert(loc=0, column=name, value=values)\n",
    "        \n",
    "    def loaddata(self, index):\n",
    "        tmp = pd.read_csv(self.file_name, usecols=[index])\n",
    "        return tmp.applymap(str).iloc[:,0]\n",
    "\n",
    "    def combine(self, data, col, split='_'):\n",
    "        tmp = self.loaddata(col)\n",
    "        data = data+split+tmp\n",
    "        del tmp\n",
    "        gc.collect()\n",
    "        return data"
   ]
  },
  {
   "cell_type": "code",
   "execution_count": null,
   "metadata": {
    "collapsed": false
   },
   "outputs": [],
   "source": [
    "jist = feature_engineering()"
   ]
  },
  {
   "cell_type": "code",
   "execution_count": 167,
   "metadata": {
    "collapsed": false
   },
   "outputs": [
    {
     "data": {
      "text/html": [
       "<div>\n",
       "<style scoped>\n",
       "    .dataframe tbody tr th:only-of-type {\n",
       "        vertical-align: middle;\n",
       "    }\n",
       "\n",
       "    .dataframe tbody tr th {\n",
       "        vertical-align: top;\n",
       "    }\n",
       "\n",
       "    .dataframe thead th {\n",
       "        text-align: right;\n",
       "    }\n",
       "</style>\n",
       "<table border=\"1\" class=\"dataframe\">\n",
       "  <thead>\n",
       "    <tr style=\"text-align: right;\">\n",
       "      <th></th>\n",
       "      <th>user_C14to21</th>\n",
       "      <th>user_device</th>\n",
       "      <th>user_app</th>\n",
       "      <th>user_site</th>\n",
       "      <th>user_C1BP</th>\n",
       "    </tr>\n",
       "  </thead>\n",
       "  <tbody>\n",
       "    <tr>\n",
       "      <th>0</th>\n",
       "      <td>15706_320_50_1722_0_35_-1_79</td>\n",
       "      <td>a99f214a_ddd2926e_44956a24_1_2</td>\n",
       "      <td>ecad2386_7801e8d9_07d7df22</td>\n",
       "      <td>1fbe01fe_f3845767_28905ebd</td>\n",
       "      <td>1005_0</td>\n",
       "    </tr>\n",
       "    <tr>\n",
       "      <th>1</th>\n",
       "      <td>21769_320_50_2507_0_35_100176_157</td>\n",
       "      <td>a99f214a_c3f00264_047b3d4d_1_0</td>\n",
       "      <td>ecad2386_7801e8d9_07d7df22</td>\n",
       "      <td>5bcf81a2_9d54950b_f028772b</td>\n",
       "      <td>1005_0</td>\n",
       "    </tr>\n",
       "    <tr>\n",
       "      <th>2</th>\n",
       "      <td>1039_320_50_178_3_1327_100141_15</td>\n",
       "      <td>420e3990_bf1271cb_be6db1d7_1_0</td>\n",
       "      <td>7358e05e_b9528b13_cef3e649</td>\n",
       "      <td>85f751fd_c4e18dd6_50e219e0</td>\n",
       "      <td>1005_0</td>\n",
       "    </tr>\n",
       "    <tr>\n",
       "      <th>3</th>\n",
       "      <td>17653_300_250_1994_2_39_100084_33</td>\n",
       "      <td>a99f214a_1759691c_779d90c2_1_0</td>\n",
       "      <td>ecad2386_7801e8d9_07d7df22</td>\n",
       "      <td>5b08c53b_7687a86e_3e814130</td>\n",
       "      <td>1005_0</td>\n",
       "    </tr>\n",
       "    <tr>\n",
       "      <th>4</th>\n",
       "      <td>21883_320_50_2526_0_35_-1_221</td>\n",
       "      <td>a99f214a_e43b4539_d4897fef_1_0</td>\n",
       "      <td>ecad2386_7801e8d9_07d7df22</td>\n",
       "      <td>e4d8dd7b_a17bde68_3e814130</td>\n",
       "      <td>1005_1</td>\n",
       "    </tr>\n",
       "    <tr>\n",
       "      <th>5</th>\n",
       "      <td>21612_320_50_2481_3_297_100111_61</td>\n",
       "      <td>a99f214a_e3585726_cec7fa02_1_0</td>\n",
       "      <td>ecad2386_7801e8d9_07d7df22</td>\n",
       "      <td>c21df24f_c4e18dd6_f028772b</td>\n",
       "      <td>1012_0</td>\n",
       "    </tr>\n",
       "    <tr>\n",
       "      <th>6</th>\n",
       "      <td>19771_320_50_2227_0_679_100077_48</td>\n",
       "      <td>a99f214a_62e2b80c_022e3eb5_1_0</td>\n",
       "      <td>ecad2386_7801e8d9_07d7df22</td>\n",
       "      <td>6399eda6_968765cd_f028772b</td>\n",
       "      <td>1005_0</td>\n",
       "    </tr>\n",
       "    <tr>\n",
       "      <th>7</th>\n",
       "      <td>21882_320_50_2526_0_35_100075_221</td>\n",
       "      <td>a99f214a_b3504069_8a4875bd_1_0</td>\n",
       "      <td>ecad2386_7801e8d9_07d7df22</td>\n",
       "      <td>b7e9786d_b12b9f85_f028772b</td>\n",
       "      <td>1005_1</td>\n",
       "    </tr>\n",
       "    <tr>\n",
       "      <th>8</th>\n",
       "      <td>21683_320_50_2496_3_167_-1_23</td>\n",
       "      <td>a99f214a_47bc08e9_2e0de5da_1_2</td>\n",
       "      <td>66f5e02e_6f7ca2ba_0f2161f8</td>\n",
       "      <td>85f751fd_c4e18dd6_50e219e0</td>\n",
       "      <td>1005_0</td>\n",
       "    </tr>\n",
       "    <tr>\n",
       "      <th>9</th>\n",
       "      <td>15705_320_50_1722_0_35_-1_79</td>\n",
       "      <td>a99f214a_4a7d0165_1f0bc64f_1_0</td>\n",
       "      <td>ecad2386_7801e8d9_07d7df22</td>\n",
       "      <td>5bcf81a2_9d54950b_f028772b</td>\n",
       "      <td>1005_0</td>\n",
       "    </tr>\n",
       "  </tbody>\n",
       "</table>\n",
       "</div>"
      ],
      "text/plain": [
       "                        user_C14to21                     user_device  \\\n",
       "0       15706_320_50_1722_0_35_-1_79  a99f214a_ddd2926e_44956a24_1_2   \n",
       "1  21769_320_50_2507_0_35_100176_157  a99f214a_c3f00264_047b3d4d_1_0   \n",
       "2   1039_320_50_178_3_1327_100141_15  420e3990_bf1271cb_be6db1d7_1_0   \n",
       "3  17653_300_250_1994_2_39_100084_33  a99f214a_1759691c_779d90c2_1_0   \n",
       "4      21883_320_50_2526_0_35_-1_221  a99f214a_e43b4539_d4897fef_1_0   \n",
       "5  21612_320_50_2481_3_297_100111_61  a99f214a_e3585726_cec7fa02_1_0   \n",
       "6  19771_320_50_2227_0_679_100077_48  a99f214a_62e2b80c_022e3eb5_1_0   \n",
       "7  21882_320_50_2526_0_35_100075_221  a99f214a_b3504069_8a4875bd_1_0   \n",
       "8      21683_320_50_2496_3_167_-1_23  a99f214a_47bc08e9_2e0de5da_1_2   \n",
       "9       15705_320_50_1722_0_35_-1_79  a99f214a_4a7d0165_1f0bc64f_1_0   \n",
       "\n",
       "                     user_app                   user_site user_C1BP  \n",
       "0  ecad2386_7801e8d9_07d7df22  1fbe01fe_f3845767_28905ebd    1005_0  \n",
       "1  ecad2386_7801e8d9_07d7df22  5bcf81a2_9d54950b_f028772b    1005_0  \n",
       "2  7358e05e_b9528b13_cef3e649  85f751fd_c4e18dd6_50e219e0    1005_0  \n",
       "3  ecad2386_7801e8d9_07d7df22  5b08c53b_7687a86e_3e814130    1005_0  \n",
       "4  ecad2386_7801e8d9_07d7df22  e4d8dd7b_a17bde68_3e814130    1005_1  \n",
       "5  ecad2386_7801e8d9_07d7df22  c21df24f_c4e18dd6_f028772b    1012_0  \n",
       "6  ecad2386_7801e8d9_07d7df22  6399eda6_968765cd_f028772b    1005_0  \n",
       "7  ecad2386_7801e8d9_07d7df22  b7e9786d_b12b9f85_f028772b    1005_1  \n",
       "8  66f5e02e_6f7ca2ba_0f2161f8  85f751fd_c4e18dd6_50e219e0    1005_0  \n",
       "9  ecad2386_7801e8d9_07d7df22  5bcf81a2_9d54950b_f028772b    1005_0  "
      ]
     },
     "execution_count": 167,
     "metadata": {},
     "output_type": "execute_result"
    }
   ],
   "source": [
    "jist.finaldata[:10]"
   ]
  },
  {
   "cell_type": "code",
   "execution_count": 165,
   "metadata": {
    "collapsed": false
   },
   "outputs": [
    {
     "name": "stdout",
     "output_type": "stream",
     "text": [
      "404291\n",
      "404291\n",
      "404291\n",
      "404291\n",
      "404291\n"
     ]
    }
   ],
   "source": [
    "for i in range(5):\n",
    "    a = (jist.finaldata.iloc[:,i]==tmp.iloc[:,i]).sum()\n",
    "    print(a)"
   ]
  },
  {
   "cell_type": "code",
   "execution_count": 40,
   "metadata": {
    "collapsed": false,
    "scrolled": true
   },
   "outputs": [
    {
     "name": "stdout",
     "output_type": "stream",
     "text": [
      "file size is 4042897, mini size is 404290\n"
     ]
    }
   ],
   "source": [
    "create_minitrain(data_path+'minitrain.csv', data_path+'miniminitrain.csv',chunk_size=1e6)"
   ]
  },
  {
   "cell_type": "code",
   "execution_count": 41,
   "metadata": {
    "collapsed": false
   },
   "outputs": [],
   "source": [
    "tmp = pd.read_csv( data_path+'miniminitrain.csv', iterator=0)"
   ]
  },
  {
   "cell_type": "code",
   "execution_count": 42,
   "metadata": {
    "collapsed": false
   },
   "outputs": [
    {
     "name": "stdout",
     "output_type": "stream",
     "text": [
      "<class 'pandas.core.frame.DataFrame'>\n",
      "RangeIndex: 404291 entries, 0 to 404290\n",
      "Data columns (total 24 columns):\n",
      "id                  404291 non-null float64\n",
      "click               404291 non-null int64\n",
      "hour                404291 non-null int64\n",
      "C1                  404291 non-null int64\n",
      "banner_pos          404291 non-null int64\n",
      "site_id             404291 non-null object\n",
      "site_domain         404291 non-null object\n",
      "site_category       404291 non-null object\n",
      "app_id              404291 non-null object\n",
      "app_domain          404291 non-null object\n",
      "app_category        404291 non-null object\n",
      "device_id           404291 non-null object\n",
      "device_ip           404291 non-null object\n",
      "device_model        404291 non-null object\n",
      "device_type         404291 non-null int64\n",
      "device_conn_type    404291 non-null int64\n",
      "C14                 404291 non-null int64\n",
      "C15                 404291 non-null int64\n",
      "C16                 404291 non-null int64\n",
      "C17                 404291 non-null int64\n",
      "C18                 404291 non-null int64\n",
      "C19                 404291 non-null int64\n",
      "C20                 404291 non-null int64\n",
      "C21                 404291 non-null int64\n",
      "dtypes: float64(1), int64(14), object(9)\n",
      "memory usage: 74.0+ MB\n"
     ]
    }
   ],
   "source": [
    "tmp.info()"
   ]
  },
  {
   "cell_type": "code",
   "execution_count": 43,
   "metadata": {
    "collapsed": false
   },
   "outputs": [
    {
     "data": {
      "text/plain": [
       "28"
      ]
     },
     "execution_count": 43,
     "metadata": {},
     "output_type": "execute_result"
    }
   ],
   "source": [
    "del tmp\n",
    "gc.collect()"
   ]
  },
  {
   "cell_type": "markdown",
   "metadata": {},
   "source": [
    "# 2.没有空缺值"
   ]
  },
  {
   "cell_type": "markdown",
   "metadata": {},
   "source": [
    "# 3.创建新特征"
   ]
  },
  {
   "cell_type": "code",
   "execution_count": 89,
   "metadata": {
    "collapsed": false
   },
   "outputs": [],
   "source": [
    "data = pd.read_csv( data_path+'miniminitrain.csv')"
   ]
  },
  {
   "cell_type": "code",
   "execution_count": 4,
   "metadata": {
    "collapsed": false
   },
   "outputs": [
    {
     "data": {
      "text/html": [
       "<div>\n",
       "<style scoped>\n",
       "    .dataframe tbody tr th:only-of-type {\n",
       "        vertical-align: middle;\n",
       "    }\n",
       "\n",
       "    .dataframe tbody tr th {\n",
       "        vertical-align: top;\n",
       "    }\n",
       "\n",
       "    .dataframe thead th {\n",
       "        text-align: right;\n",
       "    }\n",
       "</style>\n",
       "<table border=\"1\" class=\"dataframe\">\n",
       "  <thead>\n",
       "    <tr style=\"text-align: right;\">\n",
       "      <th></th>\n",
       "      <th>id</th>\n",
       "      <th>click</th>\n",
       "      <th>hour</th>\n",
       "      <th>C1</th>\n",
       "      <th>banner_pos</th>\n",
       "      <th>site_id</th>\n",
       "      <th>site_domain</th>\n",
       "      <th>site_category</th>\n",
       "      <th>app_id</th>\n",
       "      <th>app_domain</th>\n",
       "      <th>...</th>\n",
       "      <th>device_type</th>\n",
       "      <th>device_conn_type</th>\n",
       "      <th>C14</th>\n",
       "      <th>C15</th>\n",
       "      <th>C16</th>\n",
       "      <th>C17</th>\n",
       "      <th>C18</th>\n",
       "      <th>C19</th>\n",
       "      <th>C20</th>\n",
       "      <th>C21</th>\n",
       "    </tr>\n",
       "  </thead>\n",
       "  <tbody>\n",
       "    <tr>\n",
       "      <th>0</th>\n",
       "      <td>1.000009e+18</td>\n",
       "      <td>0</td>\n",
       "      <td>14102100</td>\n",
       "      <td>1005</td>\n",
       "      <td>0</td>\n",
       "      <td>1fbe01fe</td>\n",
       "      <td>f3845767</td>\n",
       "      <td>28905ebd</td>\n",
       "      <td>ecad2386</td>\n",
       "      <td>7801e8d9</td>\n",
       "      <td>...</td>\n",
       "      <td>1</td>\n",
       "      <td>2</td>\n",
       "      <td>15706</td>\n",
       "      <td>320</td>\n",
       "      <td>50</td>\n",
       "      <td>1722</td>\n",
       "      <td>0</td>\n",
       "      <td>35</td>\n",
       "      <td>-1</td>\n",
       "      <td>79</td>\n",
       "    </tr>\n",
       "    <tr>\n",
       "      <th>1</th>\n",
       "      <td>1.797485e+19</td>\n",
       "      <td>0</td>\n",
       "      <td>14102208</td>\n",
       "      <td>1005</td>\n",
       "      <td>0</td>\n",
       "      <td>5bcf81a2</td>\n",
       "      <td>9d54950b</td>\n",
       "      <td>f028772b</td>\n",
       "      <td>ecad2386</td>\n",
       "      <td>7801e8d9</td>\n",
       "      <td>...</td>\n",
       "      <td>1</td>\n",
       "      <td>0</td>\n",
       "      <td>21769</td>\n",
       "      <td>320</td>\n",
       "      <td>50</td>\n",
       "      <td>2507</td>\n",
       "      <td>0</td>\n",
       "      <td>35</td>\n",
       "      <td>100176</td>\n",
       "      <td>157</td>\n",
       "    </tr>\n",
       "    <tr>\n",
       "      <th>2</th>\n",
       "      <td>1.468463e+19</td>\n",
       "      <td>0</td>\n",
       "      <td>14102220</td>\n",
       "      <td>1005</td>\n",
       "      <td>0</td>\n",
       "      <td>85f751fd</td>\n",
       "      <td>c4e18dd6</td>\n",
       "      <td>50e219e0</td>\n",
       "      <td>7358e05e</td>\n",
       "      <td>b9528b13</td>\n",
       "      <td>...</td>\n",
       "      <td>1</td>\n",
       "      <td>0</td>\n",
       "      <td>1039</td>\n",
       "      <td>320</td>\n",
       "      <td>50</td>\n",
       "      <td>178</td>\n",
       "      <td>3</td>\n",
       "      <td>1327</td>\n",
       "      <td>100141</td>\n",
       "      <td>15</td>\n",
       "    </tr>\n",
       "    <tr>\n",
       "      <th>3</th>\n",
       "      <td>8.126905e+18</td>\n",
       "      <td>0</td>\n",
       "      <td>14102108</td>\n",
       "      <td>1005</td>\n",
       "      <td>0</td>\n",
       "      <td>5b08c53b</td>\n",
       "      <td>7687a86e</td>\n",
       "      <td>3e814130</td>\n",
       "      <td>ecad2386</td>\n",
       "      <td>7801e8d9</td>\n",
       "      <td>...</td>\n",
       "      <td>1</td>\n",
       "      <td>0</td>\n",
       "      <td>17653</td>\n",
       "      <td>300</td>\n",
       "      <td>250</td>\n",
       "      <td>1994</td>\n",
       "      <td>2</td>\n",
       "      <td>39</td>\n",
       "      <td>100084</td>\n",
       "      <td>33</td>\n",
       "    </tr>\n",
       "    <tr>\n",
       "      <th>4</th>\n",
       "      <td>8.010220e+18</td>\n",
       "      <td>1</td>\n",
       "      <td>14102218</td>\n",
       "      <td>1005</td>\n",
       "      <td>1</td>\n",
       "      <td>e4d8dd7b</td>\n",
       "      <td>a17bde68</td>\n",
       "      <td>3e814130</td>\n",
       "      <td>ecad2386</td>\n",
       "      <td>7801e8d9</td>\n",
       "      <td>...</td>\n",
       "      <td>1</td>\n",
       "      <td>0</td>\n",
       "      <td>21883</td>\n",
       "      <td>320</td>\n",
       "      <td>50</td>\n",
       "      <td>2526</td>\n",
       "      <td>0</td>\n",
       "      <td>35</td>\n",
       "      <td>-1</td>\n",
       "      <td>221</td>\n",
       "    </tr>\n",
       "  </tbody>\n",
       "</table>\n",
       "<p>5 rows × 24 columns</p>\n",
       "</div>"
      ],
      "text/plain": [
       "             id  click      hour    C1  banner_pos   site_id site_domain  \\\n",
       "0  1.000009e+18      0  14102100  1005           0  1fbe01fe    f3845767   \n",
       "1  1.797485e+19      0  14102208  1005           0  5bcf81a2    9d54950b   \n",
       "2  1.468463e+19      0  14102220  1005           0  85f751fd    c4e18dd6   \n",
       "3  8.126905e+18      0  14102108  1005           0  5b08c53b    7687a86e   \n",
       "4  8.010220e+18      1  14102218  1005           1  e4d8dd7b    a17bde68   \n",
       "\n",
       "  site_category    app_id app_domain ...  device_type device_conn_type    C14  \\\n",
       "0      28905ebd  ecad2386   7801e8d9 ...            1                2  15706   \n",
       "1      f028772b  ecad2386   7801e8d9 ...            1                0  21769   \n",
       "2      50e219e0  7358e05e   b9528b13 ...            1                0   1039   \n",
       "3      3e814130  ecad2386   7801e8d9 ...            1                0  17653   \n",
       "4      3e814130  ecad2386   7801e8d9 ...            1                0  21883   \n",
       "\n",
       "   C15  C16   C17  C18   C19     C20  C21  \n",
       "0  320   50  1722    0    35      -1   79  \n",
       "1  320   50  2507    0    35  100176  157  \n",
       "2  320   50   178    3  1327  100141   15  \n",
       "3  300  250  1994    2    39  100084   33  \n",
       "4  320   50  2526    0    35      -1  221  \n",
       "\n",
       "[5 rows x 24 columns]"
      ]
     },
     "execution_count": 4,
     "metadata": {},
     "output_type": "execute_result"
    }
   ],
   "source": [
    "data.head()"
   ]
  },
  {
   "cell_type": "code",
   "execution_count": null,
   "metadata": {
    "collapsed": true
   },
   "outputs": [],
   "source": [
    "class create_features(object):\n",
    "    def __init__(self, data):\n",
    "        self.data = data\n",
    "        \n",
    "    def time(self,):\n",
    "        "
   ]
  },
  {
   "cell_type": "markdown",
   "metadata": {},
   "source": [
    "## 3.1分解时间"
   ]
  },
  {
   "cell_type": "markdown",
   "metadata": {},
   "source": [
    "### 2014-10-21 星期二"
   ]
  },
  {
   "cell_type": "markdown",
   "metadata": {
    "collapsed": false
   },
   "source": [
    "def DateToWeek(year, month, day):\n",
    "    # 将日期转换为星期\n",
    "    if month == 1 or month == 2:\n",
    "        year -= 1\n",
    "        month += 12\n",
    "    week = int((day + 2*month + 3*(month+1) /5 + year + year/4 - year/100 + year/400) %7 +1)\n",
    "    return 'week_{}'.format(week)"
   ]
  },
  {
   "cell_type": "code",
   "execution_count": 50,
   "metadata": {
    "collapsed": false,
    "scrolled": false
   },
   "outputs": [
    {
     "data": {
      "text/plain": [
       "14102209    4505\n",
       "14102210    4388\n",
       "14102813    4355\n",
       "14102212    4065\n",
       "14102814    3914\n",
       "14102211    3787\n",
       "14103004    3423\n",
       "14102809    3341\n",
       "14102213    3214\n",
       "Name: hour, dtype: int64"
      ]
     },
     "execution_count": 50,
     "metadata": {},
     "output_type": "execute_result"
    }
   ],
   "source": [
    "data['hour'].value_counts()[:9]"
   ]
  },
  {
   "cell_type": "code",
   "execution_count": 11,
   "metadata": {
    "collapsed": false
   },
   "outputs": [],
   "source": [
    "class to_date(object):\n",
    "    \n",
    "    def __init__(self, date):\n",
    "        self.year = date //1000000 +2000\n",
    "        self.month = date %1000000 //10000\n",
    "        self.day = date %14100000 //100\n",
    "        self.hour = date %14100000 %100\n",
    "        self.week = (self.day %7 +2) %7\n",
    "        # 0 是星期日"
   ]
  },
  {
   "cell_type": "code",
   "execution_count": 12,
   "metadata": {
    "collapsed": false
   },
   "outputs": [],
   "source": [
    "date = to_date(data['hour'])"
   ]
  },
  {
   "cell_type": "code",
   "execution_count": 14,
   "metadata": {
    "collapsed": false
   },
   "outputs": [
    {
     "data": {
      "text/plain": [
       "0    21\n",
       "1    22\n",
       "2    22\n",
       "3    21\n",
       "4    22\n",
       "5    21\n",
       "6    22\n",
       "7    22\n",
       "8    21\n",
       "Name: hour, dtype: int64"
      ]
     },
     "execution_count": 14,
     "metadata": {},
     "output_type": "execute_result"
    }
   ],
   "source": [
    "date.day[:9]"
   ]
  },
  {
   "cell_type": "code",
   "execution_count": 13,
   "metadata": {
    "collapsed": false
   },
   "outputs": [
    {
     "data": {
      "text/plain": [
       "0    2\n",
       "1    3\n",
       "2    3\n",
       "3    2\n",
       "4    3\n",
       "5    2\n",
       "6    3\n",
       "7    3\n",
       "8    2\n",
       "Name: hour, dtype: int64"
      ]
     },
     "execution_count": 13,
     "metadata": {},
     "output_type": "execute_result"
    }
   ],
   "source": [
    "date.week[:9]"
   ]
  },
  {
   "cell_type": "markdown",
   "metadata": {},
   "source": [
    "# 'C1','banner_pos'"
   ]
  },
  {
   "cell_type": "code",
   "execution_count": null,
   "metadata": {
    "collapsed": true
   },
   "outputs": [],
   "source": []
  },
  {
   "cell_type": "code",
   "execution_count": 8,
   "metadata": {
    "collapsed": false
   },
   "outputs": [
    {
     "data": {
      "text/plain": [
       "1005    371430\n",
       "1002     22174\n",
       "1010      9052\n",
       "1012      1122\n",
       "1007       349\n",
       "1001       102\n",
       "1008        62\n",
       "Name: C1, dtype: int64"
      ]
     },
     "execution_count": 8,
     "metadata": {},
     "output_type": "execute_result"
    }
   ],
   "source": [
    "data['C1'].value_counts()"
   ]
  },
  {
   "cell_type": "code",
   "execution_count": 9,
   "metadata": {
    "collapsed": false
   },
   "outputs": [
    {
     "data": {
      "text/plain": [
       "0    290910\n",
       "1    112689\n",
       "7       413\n",
       "2       136\n",
       "4        68\n",
       "5        62\n",
       "3        13\n",
       "Name: banner_pos, dtype: int64"
      ]
     },
     "execution_count": 9,
     "metadata": {},
     "output_type": "execute_result"
    }
   ],
   "source": [
    "data['banner_pos'].value_counts()"
   ]
  },
  {
   "cell_type": "code",
   "execution_count": null,
   "metadata": {
    "collapsed": true
   },
   "outputs": [],
   "source": [
    "都是7个分类, 且分布有些相似, 合成一个新的特征"
   ]
  },
  {
   "cell_type": "code",
   "execution_count": null,
   "metadata": {
    "collapsed": true
   },
   "outputs": [],
   "source": [
    "class combine(object):\n",
    "    \n",
    "    def __init__(self, data):\n",
    "        self.C1_banner_pos = (data['C1']%1000) * (data['banner_pos']+1)\n",
    "        data.insert(loc=data.columns.shape[0], column='C1_banner_pos', value=self.C1_banner_pos)\n",
    "        #取'C1'的个位数 与 'banner_pos'+1(以免出现太多0) 相乘"
   ]
  },
  {
   "cell_type": "code",
   "execution_count": 91,
   "metadata": {
    "collapsed": true
   },
   "outputs": [],
   "source": [
    "C1_banner_pos = (data['C1']%1000) * (data['banner_pos']+1)\n",
    "#取'C1'的个位数 与 'banner_pos'+1(以免出现太多0) 相乘"
   ]
  },
  {
   "cell_type": "code",
   "execution_count": 96,
   "metadata": {
    "collapsed": false
   },
   "outputs": [
    {
     "data": {
      "text/plain": [
       "pandas.core.series.Series"
      ]
     },
     "execution_count": 96,
     "metadata": {},
     "output_type": "execute_result"
    }
   ],
   "source": [
    "type(C1_banner_pos)"
   ]
  },
  {
   "cell_type": "code",
   "execution_count": 99,
   "metadata": {
    "collapsed": false
   },
   "outputs": [
    {
     "data": {
      "text/plain": [
       "24"
      ]
     },
     "execution_count": 99,
     "metadata": {},
     "output_type": "execute_result"
    }
   ],
   "source": [
    "data.columns.shape[0]"
   ]
  },
  {
   "cell_type": "code",
   "execution_count": 102,
   "metadata": {
    "collapsed": false
   },
   "outputs": [],
   "source": [
    "data.insert(loc=data.columns.shape[0], column='9999999999', value=C1_banner_pos)"
   ]
  },
  {
   "cell_type": "code",
   "execution_count": 103,
   "metadata": {
    "collapsed": false
   },
   "outputs": [
    {
     "data": {
      "text/plain": [
       "Index(['id', 'click', 'hour', 'C1', 'banner_pos', 'site_id', 'site_domain',\n",
       "       'site_category', 'app_id', 'app_domain', 'app_category', 'device_id',\n",
       "       'device_ip', 'device_model', 'device_type', 'device_conn_type', 'C14',\n",
       "       'C15', 'C16', 'C17', 'C18', 'C19', 'C20', 'C21', 'C1_banner_pos',\n",
       "       '9999999999'],\n",
       "      dtype='object')"
      ]
     },
     "execution_count": 103,
     "metadata": {},
     "output_type": "execute_result"
    }
   ],
   "source": [
    "data.columns"
   ]
  },
  {
   "cell_type": "code",
   "execution_count": 87,
   "metadata": {
    "collapsed": false
   },
   "outputs": [
    {
     "data": {
      "text/plain": [
       "Index(['id', 'click', 'hour', 'C1', 'banner_pos', 'site_id', 'site_domain',\n",
       "       'site_category', 'app_id', 'app_domain', 'app_category', 'device_id',\n",
       "       'device_ip', 'device_model', 'device_type', 'device_conn_type', 'C14',\n",
       "       'C15', 'C16', 'C17', 'C18', 'C19', 'C20', 'C21'],\n",
       "      dtype='object')"
      ]
     },
     "execution_count": 87,
     "metadata": {},
     "output_type": "execute_result"
    }
   ],
   "source": [
    "data.columns"
   ]
  },
  {
   "cell_type": "code",
   "execution_count": 92,
   "metadata": {
    "collapsed": false
   },
   "outputs": [
    {
     "data": {
      "text/plain": [
       "5     267354\n",
       "10    103875\n",
       "2      22174\n",
       "20      8636\n",
       "12       927\n",
       "80       413\n",
       "7        349\n",
       "24       183\n",
       "15       136\n",
       "1        102\n",
       "48        74\n",
       "25        68\n",
       "dtype: int64"
      ]
     },
     "execution_count": 92,
     "metadata": {},
     "output_type": "execute_result"
    }
   ],
   "source": [
    "C1_banner_pos.value_counts()"
   ]
  },
  {
   "cell_type": "code",
   "execution_count": 8,
   "metadata": {
    "collapsed": false
   },
   "outputs": [
    {
     "data": {
      "text/plain": [
       "(array([2.22760e+04, 2.67703e+05, 1.04802e+05, 1.36000e+02, 8.63600e+03,\n",
       "        1.83000e+02, 6.80000e+01, 0.00000e+00, 0.00000e+00, 0.00000e+00,\n",
       "        0.00000e+00, 7.40000e+01, 0.00000e+00, 0.00000e+00, 0.00000e+00,\n",
       "        0.00000e+00, 0.00000e+00, 0.00000e+00, 0.00000e+00, 4.13000e+02]),\n",
       " array([ 1.  ,  4.95,  8.9 , 12.85, 16.8 , 20.75, 24.7 , 28.65, 32.6 ,\n",
       "        36.55, 40.5 , 44.45, 48.4 , 52.35, 56.3 , 60.25, 64.2 , 68.15,\n",
       "        72.1 , 76.05, 80.  ]),\n",
       " <a list of 20 Patch objects>)"
      ]
     },
     "execution_count": 8,
     "metadata": {},
     "output_type": "execute_result"
    },
    {
     "data": {
      "image/png": "[encoded data removed]",
      "text/plain": [
       "<Figure size 432x288 with 1 Axes>"
      ]
     },
     "metadata": {},
     "output_type": "display_data"
    }
   ],
   "source": [
    "_, ax = plt.subplots()\n",
    "ax.hist(data['C1']%1000, bins=7)\n",
    "ax.hist(data['banner_pos'], bins=7, alpha=0.7)\n",
    "ax.hist(C1_banner_pos, bins=20, alpha=0.5)"
   ]
  },
  {
   "cell_type": "code",
   "execution_count": 9,
   "metadata": {
    "collapsed": false
   },
   "outputs": [
    {
     "data": {
      "text/plain": [
       "Index(['id', 'click', 'hour', 'C1', 'banner_pos', 'site_id', 'site_domain',\n",
       "       'site_category', 'app_id', 'app_domain', 'app_category', 'device_id',\n",
       "       'device_ip', 'device_model', 'device_type', 'device_conn_type', 'C14',\n",
       "       'C15', 'C16', 'C17', 'C18', 'C19', 'C20', 'C21'],\n",
       "      dtype='object')"
      ]
     },
     "execution_count": 9,
     "metadata": {},
     "output_type": "execute_result"
    }
   ],
   "source": [
    "data.columns"
   ]
  },
  {
   "cell_type": "markdown",
   "metadata": {},
   "source": [
    "# 'site_id', 'site_domain'"
   ]
  },
  {
   "cell_type": "code",
   "execution_count": 27,
   "metadata": {
    "collapsed": false
   },
   "outputs": [
    {
     "data": {
      "text/plain": [
       "array(['85f751fd', 'c4e18dd6'], dtype='<U8')"
      ]
     },
     "execution_count": 27,
     "metadata": {},
     "output_type": "execute_result"
    }
   ],
   "source": [
    "np.array([data['site_id'].value_counts().index[0], data['site_domain'].value_counts().index[0]])"
   ]
  },
  {
   "cell_type": "code",
   "execution_count": null,
   "metadata": {
    "collapsed": true
   },
   "outputs": [],
   "source": []
  },
  {
   "cell_type": "code",
   "execution_count": 31,
   "metadata": {
    "collapsed": false,
    "scrolled": true
   },
   "outputs": [
    {
     "data": {
      "text/plain": [
       "85f751fd    17283\n",
       "1fbe01fe    13400\n",
       "e151e245     7919\n",
       "5b08c53b     4285\n",
       "d9750ee7     2673\n",
       "Name: site_id, dtype: int64"
      ]
     },
     "execution_count": 31,
     "metadata": {},
     "output_type": "execute_result"
    }
   ],
   "source": [
    "data[data['click']==1]['site_id'].value_counts()[:5]"
   ]
  },
  {
   "cell_type": "code",
   "execution_count": 32,
   "metadata": {
    "collapsed": false
   },
   "outputs": [
    {
     "data": {
      "text/plain": [
       "c4e18dd6    18501\n",
       "f3845767    13400\n",
       "7e091613     8696\n",
       "7687a86e     5939\n",
       "98572c79     2714\n",
       "Name: site_domain, dtype: int64"
      ]
     },
     "execution_count": 32,
     "metadata": {},
     "output_type": "execute_result"
    }
   ],
   "source": [
    "data[data['click']==1]['site_domain'].value_counts()[:5]"
   ]
  },
  {
   "cell_type": "code",
   "execution_count": 115,
   "metadata": {
    "collapsed": false,
    "scrolled": true
   },
   "outputs": [],
   "source": [
    "data.drop(columns=['C1_banner_pos'], axis=0, inplace=True)"
   ]
  },
  {
   "cell_type": "code",
   "execution_count": 118,
   "metadata": {
    "collapsed": false
   },
   "outputs": [
    {
     "data": {
      "text/plain": [
       "id                  1.00001e+18\n",
       "click                         0\n",
       "hour                   14102100\n",
       "C1                         1005\n",
       "banner_pos                    0\n",
       "site_id                1fbe01fe\n",
       "site_domain            f3845767\n",
       "site_category          28905ebd\n",
       "app_id                 ecad2386\n",
       "app_domain             7801e8d9\n",
       "app_category           07d7df22\n",
       "device_id              a99f214a\n",
       "device_ip              ddd2926e\n",
       "device_model           44956a24\n",
       "device_type                   1\n",
       "device_conn_type              2\n",
       "C14                       15706\n",
       "C15                         320\n",
       "C16                          50\n",
       "C17                        1722\n",
       "C18                           0\n",
       "C19                          35\n",
       "C20                          -1\n",
       "C21                          79\n",
       "9999999999                    5\n",
       "C1_banner_pos                 5\n",
       "id_domain_1               False\n",
       "id_domain_2                True\n",
       "Name: 0, dtype: object"
      ]
     },
     "execution_count": 118,
     "metadata": {},
     "output_type": "execute_result"
    }
   ],
   "source": [
    "data.loc[0]"
   ]
  },
  {
   "cell_type": "code",
   "execution_count": 104,
   "metadata": {
    "collapsed": true
   },
   "outputs": [],
   "source": [
    "class combine(object):\n",
    "    \n",
    "    def __init__(self, data):\n",
    "        self.C1_banner_pos = (data['C1']%1000) * (data['banner_pos']+1)\n",
    "        data.insert(loc=data.columns.shape[0], column='C1_banner_pos', value=self.C1_banner_pos)\n",
    "        #取'C1'的个位数 与 'banner_pos'+1(以免出现太多0) 相乘\n",
    "        self.id_domain_1 = (data['site_id']=='85f751fd') & (data['site_domain']=='c4e18dd6')\n",
    "        data.insert(loc=data.columns.shape[0], column='id_domain_1', value=self.id_domain_1)\n",
    "        # 'site_id'点击次数第1多的分类 和 'site_domain'点击次数第1多的分类\n",
    "        self.id_domain_2 = (data['site_id']=='1fbe01fe') & (data['site_domain']=='f3845767')\n",
    "        data.insert(loc=data.columns.shape[0], column='id_domain_2', value=self.id_domain_2)\n",
    "        # 'site_id'点击次数第1多的分类 和 'site_domain'点击次数第1多的分类"
   ]
  },
  {
   "cell_type": "code",
   "execution_count": 117,
   "metadata": {
    "collapsed": false,
    "scrolled": true
   },
   "outputs": [
    {
     "data": {
      "text/plain": [
       "<__main__.combine at 0x7fddd5642080>"
      ]
     },
     "execution_count": 117,
     "metadata": {},
     "output_type": "execute_result"
    }
   ],
   "source": [
    "combine(data)"
   ]
  },
  {
   "cell_type": "code",
   "execution_count": 36,
   "metadata": {
    "collapsed": false
   },
   "outputs": [],
   "source": [
    "id_domain_1 = (data['site_id']=='85f751fd') & (data['site_domain']=='c4e18dd6')\n",
    "# 'site_id'点击次数第1多的分类 和 'site_domain'点击次数第1多的分类"
   ]
  },
  {
   "cell_type": "code",
   "execution_count": 37,
   "metadata": {
    "collapsed": false
   },
   "outputs": [
    {
     "data": {
      "text/plain": [
       "False    258316\n",
       "True     145975\n",
       "dtype: int64"
      ]
     },
     "execution_count": 37,
     "metadata": {},
     "output_type": "execute_result"
    }
   ],
   "source": [
    "id_domain_1.value_counts()"
   ]
  },
  {
   "cell_type": "code",
   "execution_count": 38,
   "metadata": {
    "collapsed": true
   },
   "outputs": [],
   "source": [
    "id_domain_2 = (data['site_id']=='1fbe01fe') & (data['site_domain']=='f3845767')\n",
    "# 'site_id'点击次数第1多的分类 和 'site_domain'点击次数第1多的分类"
   ]
  },
  {
   "cell_type": "code",
   "execution_count": 39,
   "metadata": {
    "collapsed": false
   },
   "outputs": [
    {
     "data": {
      "text/plain": [
       "False    339370\n",
       "True      64921\n",
       "dtype: int64"
      ]
     },
     "execution_count": 39,
     "metadata": {},
     "output_type": "execute_result"
    }
   ],
   "source": [
    "id_domain_2.value_counts()"
   ]
  },
  {
   "cell_type": "code",
   "execution_count": 41,
   "metadata": {
    "collapsed": false
   },
   "outputs": [
    {
     "name": "stdout",
     "output_type": "stream",
     "text": [
      "<class 'pandas.core.frame.DataFrame'>\n",
      "RangeIndex: 404291 entries, 0 to 404290\n",
      "Data columns (total 24 columns):\n",
      "id                  404291 non-null float64\n",
      "click               404291 non-null int64\n",
      "hour                404291 non-null int64\n",
      "C1                  404291 non-null int64\n",
      "banner_pos          404291 non-null int64\n",
      "site_id             404291 non-null object\n",
      "site_domain         404291 non-null object\n",
      "site_category       404291 non-null object\n",
      "app_id              404291 non-null object\n",
      "app_domain          404291 non-null object\n",
      "app_category        404291 non-null object\n",
      "device_id           404291 non-null object\n",
      "device_ip           404291 non-null object\n",
      "device_model        404291 non-null object\n",
      "device_type         404291 non-null int64\n",
      "device_conn_type    404291 non-null int64\n",
      "C14                 404291 non-null int64\n",
      "C15                 404291 non-null int64\n",
      "C16                 404291 non-null int64\n",
      "C17                 404291 non-null int64\n",
      "C18                 404291 non-null int64\n",
      "C19                 404291 non-null int64\n",
      "C20                 404291 non-null int64\n",
      "C21                 404291 non-null int64\n",
      "dtypes: float64(1), int64(14), object(9)\n",
      "memory usage: 74.0+ MB\n"
     ]
    }
   ],
   "source": [
    "data.info()"
   ]
  },
  {
   "cell_type": "markdown",
   "metadata": {},
   "source": [
    "# 合并频率小的样本"
   ]
  },
  {
   "cell_type": "markdown",
   "metadata": {},
   "source": [
    "将特征中频率小于12的样本统一赋值为-1, 并将类别特征转化str"
   ]
  },
  {
   "cell_type": "code",
   "execution_count": 73,
   "metadata": {
    "collapsed": true
   },
   "outputs": [],
   "source": [
    "class merge(object):\n",
    "    \n",
    "    def __init__(self, data):\n",
    "        threshold = 12\n",
    "        for i in data.columns:\n",
    "            if i in ['id']: continue\n",
    "            counts = data[i].value_counts()\n",
    "            # 进行频率统计\n",
    "            index = counts<threshold\n",
    "            index = counts[index].index\n",
    "            # 找出频率小于threshold的样本\n",
    "            index = data[i].isin(index)\n",
    "            # 进行切片\n",
    "            data.loc[index, i] = -1\n"
   ]
  },
  {
   "cell_type": "code",
   "execution_count": 74,
   "metadata": {
    "collapsed": false,
    "scrolled": true
   },
   "outputs": [
    {
     "data": {
      "text/plain": [
       "<__main__.merge at 0x7fde28ac8b70>"
      ]
     },
     "execution_count": 74,
     "metadata": {},
     "output_type": "execute_result"
    }
   ],
   "source": [
    "merge(data)"
   ]
  },
  {
   "cell_type": "markdown",
   "metadata": {
    "collapsed": false
   },
   "source": [
    "for i in data.columns:\n",
    "    print('-----------------------------------')\n",
    "    print(data[i].value_counts())"
   ]
  },
  {
   "cell_type": "code",
   "execution_count": null,
   "metadata": {
    "collapsed": true
   },
   "outputs": [],
   "source": []
  },
  {
   "cell_type": "markdown",
   "metadata": {},
   "source": [
    "# 转换数据类型"
   ]
  },
  {
   "cell_type": "code",
   "execution_count": 83,
   "metadata": {
    "collapsed": false,
    "scrolled": false
   },
   "outputs": [
    {
     "name": "stdout",
     "output_type": "stream",
     "text": [
      "<class 'pandas.core.frame.DataFrame'>\n",
      "RangeIndex: 404291 entries, 0 to 404290\n",
      "Data columns (total 24 columns):\n",
      "id                  404291 non-null float64\n",
      "click               404291 non-null int64\n",
      "hour                404291 non-null int64\n",
      "C1                  404291 non-null object\n",
      "banner_pos          404291 non-null object\n",
      "site_id             404291 non-null object\n",
      "site_domain         404291 non-null object\n",
      "site_category       404291 non-null object\n",
      "app_id              404291 non-null object\n",
      "app_domain          404291 non-null object\n",
      "app_category        404291 non-null object\n",
      "device_id           404291 non-null object\n",
      "device_ip           404291 non-null object\n",
      "device_model        404291 non-null object\n",
      "device_type         404291 non-null object\n",
      "device_conn_type    404291 non-null object\n",
      "C14                 404291 non-null object\n",
      "C15                 404291 non-null object\n",
      "C16                 404291 non-null object\n",
      "C17                 404291 non-null object\n",
      "C18                 404291 non-null object\n",
      "C19                 404291 non-null object\n",
      "C20                 404291 non-null object\n",
      "C21                 404291 non-null object\n",
      "dtypes: float64(1), int64(2), object(21)\n",
      "memory usage: 74.0+ MB\n"
     ]
    }
   ],
   "source": [
    "data.info()"
   ]
  },
  {
   "cell_type": "code",
   "execution_count": 124,
   "metadata": {
    "collapsed": false
   },
   "outputs": [
    {
     "ename": "AttributeError",
     "evalue": "module 'pandas' has no attribute 'dtype'",
     "output_type": "error",
     "traceback": [
      "\u001b[0;31m---------------------------------------------------------------------------\u001b[0m",
      "\u001b[0;31mAttributeError\u001b[0m                            Traceback (most recent call last)",
      "\u001b[0;32m<ipython-input-124-dbe1c1048375>\u001b[0m in \u001b[0;36m<module>\u001b[0;34m()\u001b[0m\n\u001b[0;32m----> 1\u001b[0;31m \u001b[0mpd\u001b[0m\u001b[0;34m.\u001b[0m\u001b[0mdtype\u001b[0m\u001b[0;34m\u001b[0m\u001b[0m\n\u001b[0m",
      "\u001b[0;31mAttributeError\u001b[0m: module 'pandas' has no attribute 'dtype'"
     ]
    }
   ],
   "source": [
    "pd.dtype"
   ]
  },
  {
   "cell_type": "code",
   "execution_count": 82,
   "metadata": {
    "collapsed": false
   },
   "outputs": [],
   "source": [
    "class to_str(object):\n",
    "    \n",
    "    def __init__(self, data):\n",
    "        for i in data.columns:\n",
    "            data_type = np.object\n",
    "            if i in ['id', 'click', 'hour']: continue\n",
    "            #  ['id', 'click', 'hour'] 数据类型保持原样\n",
    "            if data[i].dtype=='bool': data_type = np.int64\n",
    "            # bool型转成int型, 相当于onehot\n",
    "            data[i] = data['C19'].astype(data_type)"
   ]
  },
  {
   "cell_type": "code",
   "execution_count": 122,
   "metadata": {
    "collapsed": false
   },
   "outputs": [
    {
     "data": {
      "text/plain": [
       "True"
      ]
     },
     "execution_count": 122,
     "metadata": {},
     "output_type": "execute_result"
    }
   ],
   "source": [
    "data['id_domain_2'].dtype=='bool'"
   ]
  },
  {
   "cell_type": "code",
   "execution_count": 134,
   "metadata": {
    "collapsed": false
   },
   "outputs": [
    {
     "data": {
      "text/plain": [
       "638"
      ]
     },
     "execution_count": 134,
     "metadata": {},
     "output_type": "execute_result"
    }
   ],
   "source": [
    "gc.collect()"
   ]
  },
  {
   "cell_type": "markdown",
   "metadata": {},
   "source": [
    "# 构造函数"
   ]
  },
  {
   "cell_type": "code",
   "execution_count": 174,
   "metadata": {
    "collapsed": true
   },
   "outputs": [],
   "source": [
    "class feature_engineering(object):\n",
    "    \n",
    "    def __init__(self, data):\n",
    "        self.combine(data)\n",
    "        self.merge(data)\n",
    "        #self.to_str(data)\n",
    "        self.to_date(data)\n",
    "\n",
    "    def to_str(self, data):\n",
    "        for i in data.columns:\n",
    "            data_type = np.object\n",
    "            if i in ['id', 'click', 'hour']: continue\n",
    "            #  ['id', 'click', 'hour'] 数据类型保持原样\n",
    "            if data[i].dtype=='bool': data_type = np.int64\n",
    "            # bool型转成int型, 相当于onehot\n",
    "            data[i] = data[i].astype(data_type)\n",
    "            \n",
    "    def merge(self, data):\n",
    "        threshold = 12\n",
    "        for i in data.columns:\n",
    "            if i in ['id']: continue\n",
    "            counts = data[i].value_counts()\n",
    "            # 进行频率统计\n",
    "            index = counts<threshold\n",
    "            index = counts[index].index\n",
    "            # 找出频率小于threshold的样本\n",
    "            index = data[i].isin(index)\n",
    "            # 进行切片\n",
    "            data.loc[index, i] = -1\n",
    "            \n",
    "    def combine(self, data):\n",
    "        self.C1_banner_pos = (data['C1']%1000) * (data['banner_pos']+1)\n",
    "        self.insert(data, 'C1_banner_pos', value=self.C1_banner_pos)\n",
    "        #取'C1'的个位数 与 'banner_pos'+1(以免出现太多0) 相乘\n",
    "        self.id_domain_1 = (data['site_id']=='85f751fd') & (data['site_domain']=='c4e18dd6')\n",
    "        self.insert(data, 'id_domain_1', value=self.id_domain_1)\n",
    "        # 'site_id'点击次数第1多的分类 和 'site_domain'点击次数第1多的分类\n",
    "        self.id_domain_2 = (data['site_id']=='1fbe01fe') & (data['site_domain']=='f3845767')\n",
    "        self.insert(data, 'id_domain_2', value=self.id_domain_2)\n",
    "        # 'site_id'点击次数第1多的分类 和 'site_domain'点击次数第1多的分类\n",
    "        \n",
    "    def to_date(self, data):\n",
    "        self.year = data['hour'] //1000000 +2000\n",
    "        self.month = data['hour'] %1000000 //10000\n",
    "        self.day = data['hour'] %14100000 //100\n",
    "        self.hour = data['hour'] %14100000 %100\n",
    "        self.week = (self.day %7 +2) %7\n",
    "        data.drop(columns='hour',axis=1,inplace=True)\n",
    "        self.insert(data, 'hour', value=self.hour)\n",
    "        self.insert(data, 'week', value=self.week)\n",
    "        self.insert(data, 'day', value=self.day)\n",
    "        \n",
    "        \n",
    "    def insert(self, data, name, value):\n",
    "        data.insert(loc=data.columns.shape[0], column=name, value=value)"
   ]
  },
  {
   "cell_type": "code",
   "execution_count": 175,
   "metadata": {
    "collapsed": true
   },
   "outputs": [],
   "source": [
    "data = pd.read_csv( data_path+'miniminitrain.csv')"
   ]
  },
  {
   "cell_type": "code",
   "execution_count": 176,
   "metadata": {
    "collapsed": false
   },
   "outputs": [],
   "source": [
    "a = feature_engineering(data)"
   ]
  },
  {
   "cell_type": "code",
   "execution_count": 193,
   "metadata": {
    "collapsed": false
   },
   "outputs": [
    {
     "data": {
      "text/html": [
       "<div>\n",
       "<style scoped>\n",
       "    .dataframe tbody tr th:only-of-type {\n",
       "        vertical-align: middle;\n",
       "    }\n",
       "\n",
       "    .dataframe tbody tr th {\n",
       "        vertical-align: top;\n",
       "    }\n",
       "\n",
       "    .dataframe thead th {\n",
       "        text-align: right;\n",
       "    }\n",
       "</style>\n",
       "<table border=\"1\" class=\"dataframe\">\n",
       "  <thead>\n",
       "    <tr style=\"text-align: right;\">\n",
       "      <th></th>\n",
       "      <th>id</th>\n",
       "      <th>click</th>\n",
       "      <th>C1</th>\n",
       "      <th>banner_pos</th>\n",
       "      <th>site_id</th>\n",
       "      <th>site_domain</th>\n",
       "      <th>site_category</th>\n",
       "      <th>app_id</th>\n",
       "      <th>app_domain</th>\n",
       "      <th>app_category</th>\n",
       "      <th>...</th>\n",
       "      <th>C18</th>\n",
       "      <th>C19</th>\n",
       "      <th>C20</th>\n",
       "      <th>C21</th>\n",
       "      <th>C1_banner_pos</th>\n",
       "      <th>id_domain_1</th>\n",
       "      <th>id_domain_2</th>\n",
       "      <th>hour</th>\n",
       "      <th>week</th>\n",
       "      <th>day</th>\n",
       "    </tr>\n",
       "  </thead>\n",
       "  <tbody>\n",
       "    <tr>\n",
       "      <th>0</th>\n",
       "      <td>1.000009e+18</td>\n",
       "      <td>0</td>\n",
       "      <td>1005</td>\n",
       "      <td>0</td>\n",
       "      <td>1fbe01fe</td>\n",
       "      <td>f3845767</td>\n",
       "      <td>28905ebd</td>\n",
       "      <td>ecad2386</td>\n",
       "      <td>7801e8d9</td>\n",
       "      <td>07d7df22</td>\n",
       "      <td>...</td>\n",
       "      <td>0</td>\n",
       "      <td>35</td>\n",
       "      <td>-1</td>\n",
       "      <td>79</td>\n",
       "      <td>5</td>\n",
       "      <td>0</td>\n",
       "      <td>1</td>\n",
       "      <td>0</td>\n",
       "      <td>2</td>\n",
       "      <td>21</td>\n",
       "    </tr>\n",
       "    <tr>\n",
       "      <th>1</th>\n",
       "      <td>1.797485e+19</td>\n",
       "      <td>0</td>\n",
       "      <td>1005</td>\n",
       "      <td>0</td>\n",
       "      <td>5bcf81a2</td>\n",
       "      <td>9d54950b</td>\n",
       "      <td>f028772b</td>\n",
       "      <td>ecad2386</td>\n",
       "      <td>7801e8d9</td>\n",
       "      <td>07d7df22</td>\n",
       "      <td>...</td>\n",
       "      <td>0</td>\n",
       "      <td>35</td>\n",
       "      <td>100176</td>\n",
       "      <td>157</td>\n",
       "      <td>5</td>\n",
       "      <td>0</td>\n",
       "      <td>0</td>\n",
       "      <td>8</td>\n",
       "      <td>3</td>\n",
       "      <td>22</td>\n",
       "    </tr>\n",
       "    <tr>\n",
       "      <th>2</th>\n",
       "      <td>1.468463e+19</td>\n",
       "      <td>0</td>\n",
       "      <td>1005</td>\n",
       "      <td>0</td>\n",
       "      <td>85f751fd</td>\n",
       "      <td>c4e18dd6</td>\n",
       "      <td>50e219e0</td>\n",
       "      <td>7358e05e</td>\n",
       "      <td>b9528b13</td>\n",
       "      <td>cef3e649</td>\n",
       "      <td>...</td>\n",
       "      <td>3</td>\n",
       "      <td>1327</td>\n",
       "      <td>100141</td>\n",
       "      <td>15</td>\n",
       "      <td>5</td>\n",
       "      <td>1</td>\n",
       "      <td>0</td>\n",
       "      <td>20</td>\n",
       "      <td>3</td>\n",
       "      <td>22</td>\n",
       "    </tr>\n",
       "    <tr>\n",
       "      <th>3</th>\n",
       "      <td>8.126905e+18</td>\n",
       "      <td>0</td>\n",
       "      <td>1005</td>\n",
       "      <td>0</td>\n",
       "      <td>5b08c53b</td>\n",
       "      <td>7687a86e</td>\n",
       "      <td>3e814130</td>\n",
       "      <td>ecad2386</td>\n",
       "      <td>7801e8d9</td>\n",
       "      <td>07d7df22</td>\n",
       "      <td>...</td>\n",
       "      <td>2</td>\n",
       "      <td>39</td>\n",
       "      <td>100084</td>\n",
       "      <td>33</td>\n",
       "      <td>5</td>\n",
       "      <td>0</td>\n",
       "      <td>0</td>\n",
       "      <td>8</td>\n",
       "      <td>2</td>\n",
       "      <td>21</td>\n",
       "    </tr>\n",
       "    <tr>\n",
       "      <th>4</th>\n",
       "      <td>8.010220e+18</td>\n",
       "      <td>1</td>\n",
       "      <td>1005</td>\n",
       "      <td>1</td>\n",
       "      <td>e4d8dd7b</td>\n",
       "      <td>a17bde68</td>\n",
       "      <td>3e814130</td>\n",
       "      <td>ecad2386</td>\n",
       "      <td>7801e8d9</td>\n",
       "      <td>07d7df22</td>\n",
       "      <td>...</td>\n",
       "      <td>0</td>\n",
       "      <td>35</td>\n",
       "      <td>-1</td>\n",
       "      <td>221</td>\n",
       "      <td>10</td>\n",
       "      <td>0</td>\n",
       "      <td>0</td>\n",
       "      <td>18</td>\n",
       "      <td>3</td>\n",
       "      <td>22</td>\n",
       "    </tr>\n",
       "  </tbody>\n",
       "</table>\n",
       "<p>5 rows × 29 columns</p>\n",
       "</div>"
      ],
      "text/plain": [
       "             id  click    C1 banner_pos   site_id site_domain site_category  \\\n",
       "0  1.000009e+18      0  1005          0  1fbe01fe    f3845767      28905ebd   \n",
       "1  1.797485e+19      0  1005          0  5bcf81a2    9d54950b      f028772b   \n",
       "2  1.468463e+19      0  1005          0  85f751fd    c4e18dd6      50e219e0   \n",
       "3  8.126905e+18      0  1005          0  5b08c53b    7687a86e      3e814130   \n",
       "4  8.010220e+18      1  1005          1  e4d8dd7b    a17bde68      3e814130   \n",
       "\n",
       "     app_id app_domain app_category ... C18   C19     C20  C21 C1_banner_pos  \\\n",
       "0  ecad2386   7801e8d9     07d7df22 ...   0    35      -1   79             5   \n",
       "1  ecad2386   7801e8d9     07d7df22 ...   0    35  100176  157             5   \n",
       "2  7358e05e   b9528b13     cef3e649 ...   3  1327  100141   15             5   \n",
       "3  ecad2386   7801e8d9     07d7df22 ...   2    39  100084   33             5   \n",
       "4  ecad2386   7801e8d9     07d7df22 ...   0    35      -1  221            10   \n",
       "\n",
       "  id_domain_1 id_domain_2 hour week day  \n",
       "0           0           1    0    2  21  \n",
       "1           0           0    8    3  22  \n",
       "2           1           0   20    3  22  \n",
       "3           0           0    8    2  21  \n",
       "4           0           0   18    3  22  \n",
       "\n",
       "[5 rows x 29 columns]"
      ]
     },
     "execution_count": 193,
     "metadata": {},
     "output_type": "execute_result"
    }
   ],
   "source": [
    "data.head()"
   ]
  },
  {
   "cell_type": "code",
   "execution_count": 178,
   "metadata": {
    "collapsed": false
   },
   "outputs": [
    {
     "name": "stdout",
     "output_type": "stream",
     "text": [
      "------------------------\n",
      "1.436971e+19    1\n",
      "7.206680e+18    1\n",
      "5.895956e+18    1\n",
      "1.063967e+19    1\n",
      "8.475216e+18    1\n",
      "1.102866e+19    1\n",
      "1.032977e+19    1\n",
      "2.551494e+18    1\n",
      "1.766294e+19    1\n",
      "5.862878e+18    1\n",
      "1.666434e+19    1\n",
      "1.349591e+19    1\n",
      "1.112171e+19    1\n",
      "6.230283e+18    1\n",
      "1.233389e+19    1\n",
      "1.422354e+19    1\n",
      "6.598970e+18    1\n",
      "8.391732e+18    1\n",
      "9.904627e+18    1\n",
      "1.507370e+19    1\n",
      "1.418925e+19    1\n",
      "1.782337e+19    1\n",
      "8.455630e+18    1\n",
      "8.242979e+18    1\n",
      "1.071022e+19    1\n",
      "8.035389e+18    1\n",
      "7.216721e+17    1\n",
      "7.456805e+18    1\n",
      "2.129276e+18    1\n",
      "9.799882e+18    1\n",
      "               ..\n",
      "7.251501e+18    1\n",
      "3.051022e+18    1\n",
      "1.788918e+19    1\n",
      "1.069912e+19    1\n",
      "1.434391e+19    1\n",
      "9.780104e+17    1\n",
      "1.648373e+19    1\n",
      "1.736613e+19    1\n",
      "5.008780e+18    1\n",
      "4.466695e+18    1\n",
      "1.168416e+19    1\n",
      "1.229380e+19    1\n",
      "1.113711e+16    1\n",
      "1.680235e+19    1\n",
      "4.978122e+18    1\n",
      "6.626267e+18    1\n",
      "1.683930e+19    1\n",
      "5.361151e+17    1\n",
      "7.593423e+18    1\n",
      "1.293688e+19    1\n",
      "1.434110e+19    1\n",
      "7.430892e+18    1\n",
      "2.104428e+18    1\n",
      "4.633308e+18    1\n",
      "1.109372e+19    1\n",
      "1.940090e+18    1\n",
      "1.625428e+19    1\n",
      "1.338536e+19    1\n",
      "1.658518e+19    1\n",
      "1.538042e+18    1\n",
      "Name: id, Length: 404291, dtype: int64\n",
      "------------------------\n",
      "0    335472\n",
      "1     68819\n",
      "Name: click, dtype: int64\n",
      "------------------------\n",
      "1005    371430\n",
      "1002     22174\n",
      "1010      9052\n",
      "1012      1122\n",
      "1007       349\n",
      "1001       102\n",
      "1008        62\n",
      "Name: C1, dtype: int64\n",
      "------------------------\n",
      "0    290910\n",
      "1    112689\n",
      "7       413\n",
      "2       136\n",
      "4        68\n",
      "5        62\n",
      "3        13\n",
      "Name: banner_pos, dtype: int64\n",
      "------------------------\n",
      "85f751fd    145975\n",
      "1fbe01fe     64921\n",
      "e151e245     26593\n",
      "d9750ee7      9559\n",
      "5b08c53b      9050\n",
      "5b4d2eda      7763\n",
      "856e6d3f      7626\n",
      "-1            4930\n",
      "a7853007      4591\n",
      "b7e9786d      3621\n",
      "5ee41ff2      3522\n",
      "5bcf81a2      3448\n",
      "6399eda6      3343\n",
      "6256f5b4      3132\n",
      "57ef2c87      3004\n",
      "17caea14      2760\n",
      "0a742914      2720\n",
      "e4d8dd7b      2671\n",
      "57fe1b20      2656\n",
      "83a0ad1a      2649\n",
      "e8f79e60      2600\n",
      "d6137915      2371\n",
      "6c5b482c      1942\n",
      "12fb4121      1862\n",
      "93eaba74      1861\n",
      "e5c60a05      1824\n",
      "9a977531      1793\n",
      "bb4524e7      1733\n",
      "5114c672      1671\n",
      "e3c09f3a      1618\n",
      "             ...  \n",
      "9618f706        13\n",
      "ae350036        13\n",
      "78e6730c        13\n",
      "9fe5a9e2        13\n",
      "2789a1f0        13\n",
      "1a8a7c01        13\n",
      "fd7011c5        13\n",
      "ad5e6ff3        12\n",
      "7ed11bd1        12\n",
      "011e5414        12\n",
      "da79c793        12\n",
      "89f5c4bb        12\n",
      "3fc3d822        12\n",
      "bbf51230        12\n",
      "337755db        12\n",
      "14ec6216        12\n",
      "8db31665        12\n",
      "3c06c8f5        12\n",
      "4307b3a7        12\n",
      "32dd07e6        12\n",
      "2b78b9f0        12\n",
      "d4abfeb4        12\n",
      "c60648e4        12\n",
      "25ed8d71        12\n",
      "1bc8c040        12\n",
      "fd9bd76c        12\n",
      "9c842148        12\n",
      "c3efd2a8        12\n",
      "0ee0f7ad        12\n",
      "2d4b5815        12\n",
      "Name: site_id, Length: 722, dtype: int64\n",
      "------------------------\n",
      "c4e18dd6    151392\n",
      "f3845767     64921\n",
      "7e091613     33464\n",
      "7687a86e     12853\n",
      "98572c79      9916\n",
      "16a36ef3      8593\n",
      "58a89a43      7626\n",
      "-1            4873\n",
      "9d54950b      3827\n",
      "b12b9f85      3672\n",
      "17d996e6      3560\n",
      "968765cd      3343\n",
      "28f93029      3132\n",
      "bd6d812f      3004\n",
      "d262cf1e      2885\n",
      "0dde25ec      2760\n",
      "510bd839      2720\n",
      "a17bde68      2671\n",
      "5b626596      2667\n",
      "5c9ae867      2649\n",
      "c4342784      2600\n",
      "bb1ef334      2371\n",
      "6b59f079      2331\n",
      "7256c623      2186\n",
      "a434fa42      2135\n",
      "d733bbc3      1733\n",
      "3f2f3819      1671\n",
      "6b560cc1      1452\n",
      "27e3c518      1280\n",
      "c1aa3c04      1250\n",
      "             ...  \n",
      "8f170f4a        13\n",
      "fc4e6a7e        13\n",
      "38714c95        13\n",
      "ad16938a        13\n",
      "f8b89f11        13\n",
      "9e810ca7        13\n",
      "61e6c1f2        13\n",
      "9db8fb5f        12\n",
      "b51f0905        12\n",
      "6792a5e4        12\n",
      "3a487865        12\n",
      "64e0e123        12\n",
      "07012454        12\n",
      "0316bf4f        12\n",
      "00847768        12\n",
      "14878e20        12\n",
      "1a49ce3f        12\n",
      "6716555f        12\n",
      "1ce91e31        12\n",
      "b4553cf2        12\n",
      "754f4003        12\n",
      "40c7be67        12\n",
      "a69faa6e        12\n",
      "43a2849b        12\n",
      "44aaa2cf        12\n",
      "4bc40e70        12\n",
      "b01d5e45        12\n",
      "cee5ef47        12\n",
      "7c5b7715        12\n",
      "b9e38586        12\n",
      "Name: site_domain, Length: 550, dtype: int64\n",
      "------------------------\n",
      "50e219e0    165373\n",
      "f028772b    126422\n",
      "28905ebd     73871\n",
      "3e814130     30510\n",
      "f66779e6      2547\n",
      "75fa27f6      1591\n",
      "335d28a8      1412\n",
      "76b2941d      1053\n",
      "c0dd3be3       426\n",
      "72722551       299\n",
      "dedf689d       233\n",
      "70fb0e29       220\n",
      "0569f928       158\n",
      "8fd0aea4        69\n",
      "a818d37a        32\n",
      "42a36e14        31\n",
      "bcf865d9        16\n",
      "e787de0e        14\n",
      "-1              14\n",
      "Name: site_category, dtype: int64\n",
      "------------------------\n",
      "ecad2386    258316\n",
      "92f5800b     15441\n",
      "e2fcccd2     11157\n",
      "9c13b419      7678\n",
      "febd1138      7541\n",
      "7358e05e      6120\n",
      "a5184c22      5000\n",
      "-1            4897\n",
      "d36838b1      4553\n",
      "685d1c4c      4146\n",
      "54c5d545      3989\n",
      "03528b27      3227\n",
      "f0d41ff1      2961\n",
      "e2a1ca37      2863\n",
      "e9739828      2799\n",
      "51cedd4e      2394\n",
      "66f5e02e      2298\n",
      "98fed791      2236\n",
      "03a08c3f      2188\n",
      "73206397      2019\n",
      "f53417e1      1941\n",
      "e96773f0      1749\n",
      "ce183bbd      1484\n",
      "be7c618d      1232\n",
      "1dc72b4d      1033\n",
      "f888bf4c      1007\n",
      "396df801       974\n",
      "3c4b944d       920\n",
      "39947756       855\n",
      "cf0327f9       851\n",
      "             ...  \n",
      "c3230360        13\n",
      "249f2b9e        13\n",
      "4fa8a7a9        13\n",
      "467930e2        13\n",
      "f0f221aa        13\n",
      "68071a60        13\n",
      "a079ef6b        13\n",
      "57678e1f        13\n",
      "ad57c77f        13\n",
      "6bb1e946        12\n",
      "95648b59        12\n",
      "1fb6aa27        12\n",
      "5a8c13b1        12\n",
      "b8e30d0f        12\n",
      "5aa5d8d6        12\n",
      "e1523423        12\n",
      "84f2c7b2        12\n",
      "9c1a0df5        12\n",
      "1102dafd        12\n",
      "73711753        12\n",
      "787331ea        12\n",
      "540490fc        12\n",
      "5724e3e1        12\n",
      "a4b427d8        12\n",
      "665f15be        12\n",
      "0443d75e        12\n",
      "120a00a5        12\n",
      "1fdd2b84        12\n",
      "5ccd2b0a        12\n",
      "211a61da        12\n",
      "Name: app_id, Length: 519, dtype: int64\n",
      "------------------------\n",
      "7801e8d9    272314\n",
      "2347f47a     52656\n",
      "ae637522     18756\n",
      "5c5a694b     11157\n",
      "82e27996      7542\n",
      "d9b5648e      7178\n",
      "0e8616ad      6542\n",
      "b9528b13      6431\n",
      "b8d325c3      5449\n",
      "aefc06bd      2982\n",
      "df32afa9      2868\n",
      "33da2e74      2511\n",
      "6f7ca2ba      2299\n",
      "5b9c592b      1007\n",
      "885c7f3f       731\n",
      "5c620f04       638\n",
      "45a51db4       555\n",
      "b5f3b24a       486\n",
      "813f3323       278\n",
      "-1             270\n",
      "0654b444       232\n",
      "ad63ec9b       186\n",
      "c6824def       142\n",
      "15ec7f39       136\n",
      "a8b0bf20       130\n",
      "99b4c806        99\n",
      "828da833        98\n",
      "43cf4f06        82\n",
      "448ca2e3        68\n",
      "f2f777fb        68\n",
      "47464e95        48\n",
      "2b627705        34\n",
      "9ec164d3        32\n",
      "db829551        29\n",
      "1ea19ec4        29\n",
      "d6feb1a4        28\n",
      "0d79ee56        27\n",
      "6a0a3a9d        24\n",
      "18eb4e75        21\n",
      "b12ff13e        19\n",
      "afdf1f54        16\n",
      "27ee373d        15\n",
      "b408d42a        14\n",
      "b51aefa8        14\n",
      "f3ad7798        13\n",
      "dcdba109        13\n",
      "ef1fc174        12\n",
      "7eec2ab0        12\n",
      "Name: app_domain, dtype: int64\n",
      "------------------------\n",
      "07d7df22    261626\n",
      "0f2161f8     95362\n",
      "cef3e649     17254\n",
      "8ded1f7a     14838\n",
      "f95efa07     11537\n",
      "d1327cf5      1286\n",
      "09481d60       577\n",
      "dc97ec06       531\n",
      "75d80bbe       412\n",
      "fc6fa53d       227\n",
      "4ce2e9fc       208\n",
      "879c24eb       113\n",
      "a3c42688       100\n",
      "0f9a328c        69\n",
      "4681bb9d        69\n",
      "a86a3e89        30\n",
      "-1              19\n",
      "8df2e842        17\n",
      "2281a340        16\n",
      "Name: app_category, dtype: int64\n",
      "------------------------\n",
      "a99f214a    333672\n",
      "-1           69513\n",
      "c357dbff       196\n",
      "0f7c61dc       189\n",
      "936e92fb       147\n",
      "afeffc18       104\n",
      "28dc8687        52\n",
      "d857ffbb        47\n",
      "987552d1        44\n",
      "cef4c8cc        41\n",
      "b09da1c4        35\n",
      "3cdb4052        34\n",
      "03559b29        27\n",
      "abab24a7        21\n",
      "02da5312        17\n",
      "d2e4c0ab        16\n",
      "73b81e30        16\n",
      "bea61865        16\n",
      "f1d9c744        14\n",
      "1de30ee7        14\n",
      "096a6f32        13\n",
      "9af87478        13\n",
      "243bd3ab        13\n",
      "ad2af41a        13\n",
      "468ee576        12\n",
      "ea04480e        12\n",
      "Name: device_id, dtype: int64\n",
      "------------------------\n",
      "-1          345609\n",
      "6b9769f2      2111\n",
      "431b3174      1345\n",
      "af9205f9       906\n",
      "2f323f36       888\n",
      "af62faf4       874\n",
      "930ec31d       853\n",
      "009a7861       846\n",
      "285aa37d       840\n",
      "d90a7774       801\n",
      "6394f6f6       778\n",
      "a8536f3a       732\n",
      "8a014cbb       718\n",
      "c6563308       718\n",
      "75bb1b58       715\n",
      "488a9a3e       706\n",
      "57cd4006       694\n",
      "ddd2926e       690\n",
      "1cf29716       687\n",
      "ceffea69       668\n",
      "0489ce3f       666\n",
      "9b1fe278       656\n",
      "693bff3e       388\n",
      "07875ea4       373\n",
      "b0070d9a       358\n",
      "7ed30f6c       348\n",
      "bca8f26d       344\n",
      "ac77b71a       338\n",
      "95b2935e       309\n",
      "ff1c4f79       280\n",
      "             ...  \n",
      "3bce0459        12\n",
      "3c2e416f        12\n",
      "ddeee02c        12\n",
      "7f9f7252        12\n",
      "6d31aebc        12\n",
      "9691bbda        12\n",
      "a3a8d85c        12\n",
      "a3fa24e4        12\n",
      "a0856ac4        12\n",
      "ee3d12e5        12\n",
      "ef1b6340        12\n",
      "b07ab34a        12\n",
      "7a1372f9        12\n",
      "fd226320        12\n",
      "6954bb0e        12\n",
      "2e8d0161        12\n",
      "40c5675f        12\n",
      "70b19645        12\n",
      "4a79102f        12\n",
      "606c584a        12\n",
      "8f4175aa        12\n",
      "c3f00264        12\n",
      "22f410c8        12\n",
      "605596eb        12\n",
      "c3c53a8e        12\n",
      "bdbfd8b0        12\n",
      "ed9ea9bd        12\n",
      "a89031c5        12\n",
      "fc0cec35        12\n",
      "be111c4f        12\n",
      "Name: device_ip, Length: 1407, dtype: int64\n",
      "------------------------\n",
      "8a4875bd    24394\n",
      "d787e91b    14077\n",
      "1f0bc64f    13962\n",
      "-1           9349\n",
      "76dc4769     7785\n",
      "be6db1d7     7270\n",
      "a0f5f879     6501\n",
      "7abbbd5c     6475\n",
      "4ea23a13     6419\n",
      "ecb851b2     6085\n",
      "d4897fef     4910\n",
      "5096d134     4699\n",
      "711ee120     4538\n",
      "1ccc7835     4258\n",
      "e1eae715     4241\n",
      "c6263d8a     4009\n",
      "84ebbcd4     3848\n",
      "be74e6fe     3748\n",
      "f07e20f8     3684\n",
      "3bb1ddd7     3628\n",
      "981edffc     3607\n",
      "0eb711ec     3549\n",
      "779d90c2     3520\n",
      "3bd9e8e7     3513\n",
      "0bcabeaf     3491\n",
      "36b67a2a     3394\n",
      "fce66524     3367\n",
      "5db079b5     3245\n",
      "aad45b01     2952\n",
      "158e4944     2873\n",
      "            ...  \n",
      "22c9a506       12\n",
      "31442f32       12\n",
      "54e4a91b       12\n",
      "94c759d5       12\n",
      "31c2dcf9       12\n",
      "28570f08       12\n",
      "5ceba180       12\n",
      "55bbed27       12\n",
      "fdeb8df5       12\n",
      "ec6b7d9f       12\n",
      "d6f8b5a7       12\n",
      "cb9e41c5       12\n",
      "e07336b6       12\n",
      "14d64256       12\n",
      "99bd76fd       12\n",
      "5a5f0a11       12\n",
      "72db2497       12\n",
      "498e2c80       12\n",
      "41db6a63       12\n",
      "3b06fa5e       12\n",
      "45fbca85       12\n",
      "bf065d42       12\n",
      "03534281       12\n",
      "73452f5c       12\n",
      "0d3f0fea       12\n",
      "8f67f20e       12\n",
      "b644daa3       12\n",
      "3fabab5b       12\n",
      "f5a1aacb       12\n",
      "172bcd0d       12\n",
      "Name: device_model, Length: 1765, dtype: int64\n",
      "------------------------\n",
      "1    373065\n",
      "0     22174\n",
      "4      7751\n",
      "5      1301\n",
      "Name: device_type, dtype: int64\n",
      "------------------------\n",
      "0    348573\n",
      "2     33534\n",
      "3     21760\n",
      "5       424\n",
      "Name: device_conn_type, dtype: int64\n",
      "------------------------\n",
      " 4687     9551\n",
      " 21611    9120\n",
      " 21189    7668\n",
      " 21191    7585\n",
      " 19772    7413\n",
      " 19771    7381\n",
      " 16208    6547\n",
      " 20108    5918\n",
      " 8330     5600\n",
      " 19950    5280\n",
      " 15705    5183\n",
      " 15704    5110\n",
      " 15699    5067\n",
      " 15701    5025\n",
      " 15707    5008\n",
      " 15702    4956\n",
      " 15708    4939\n",
      " 15703    4895\n",
      " 15706    4803\n",
      " 16615    4285\n",
      " 23804    4014\n",
      " 21767    3761\n",
      " 21768    3724\n",
      " 17239    3421\n",
      " 19251    3410\n",
      " 22676    3374\n",
      "-1        3341\n",
      " 17654    3062\n",
      " 17653    3020\n",
      " 21790    2886\n",
      "          ... \n",
      " 23683      12\n",
      " 23670      12\n",
      " 22000      12\n",
      " 21701      12\n",
      " 21159      12\n",
      " 21569      12\n",
      " 21998      12\n",
      " 23618      12\n",
      " 23641      12\n",
      " 22002      12\n",
      " 23159      12\n",
      " 23065      12\n",
      " 23045      12\n",
      " 23044      12\n",
      " 23207      12\n",
      " 15010      12\n",
      " 22790      12\n",
      " 17062      12\n",
      " 22302      12\n",
      " 22299      12\n",
      " 22297      12\n",
      " 22295      12\n",
      " 23784      12\n",
      " 19740      12\n",
      " 19742      12\n",
      " 23908      12\n",
      " 22176      12\n",
      " 10743      12\n",
      " 22158      12\n",
      " 21845      12\n",
      "Name: C14, Length: 1239, dtype: int64\n",
      "------------------------\n",
      "320     376973\n",
      "300      23444\n",
      "216       2983\n",
      "728        802\n",
      "120         28\n",
      "1024        25\n",
      "768         19\n",
      "480         17\n",
      "Name: C15, dtype: int64\n",
      "------------------------\n",
      "50      381248\n",
      "250      18168\n",
      "36        2983\n",
      "480       1001\n",
      "90         802\n",
      "20          28\n",
      "768         25\n",
      "1024        19\n",
      "320         17\n",
      "Name: C16, dtype: int64\n",
      "------------------------\n",
      "1722    45138\n",
      "2424    15253\n",
      "2227    14933\n",
      "1800    11865\n",
      "423      9551\n",
      "2480     9238\n",
      "2502     8439\n",
      "2528     8324\n",
      "2506     7998\n",
      "2374     7501\n",
      "2545     7210\n",
      "1872     6896\n",
      "1994     6082\n",
      "2299     5918\n",
      "2526     5847\n",
      "761      5647\n",
      "1863     5617\n",
      "2333     5111\n",
      "1993     4930\n",
      "2665     4898\n",
      "2676     4818\n",
      "1873     4767\n",
      "2507     4442\n",
      "2726     4014\n",
      "2667     3652\n",
      "2647     3644\n",
      "2566     3589\n",
      "1973     3421\n",
      "2201     3410\n",
      "2616     3374\n",
      "        ...  \n",
      "2730       24\n",
      "1685       23\n",
      "1698       23\n",
      "2518       23\n",
      "2634       22\n",
      "2686       22\n",
      "2679       22\n",
      "2339       22\n",
      "2450       22\n",
      "2700       21\n",
      "2289       21\n",
      "1160       20\n",
      "2397       20\n",
      "2630       20\n",
      "2455       19\n",
      "2581       18\n",
      "2438       17\n",
      "2250       17\n",
      "2662       17\n",
      "2669       16\n",
      "2594       16\n",
      "2527       16\n",
      "937        15\n",
      "1141       15\n",
      "2187       15\n",
      "2635       14\n",
      "2510       14\n",
      "2757       14\n",
      "2592       13\n",
      "1255       12\n",
      "Name: C17, Length: 369, dtype: int64\n",
      "------------------------\n",
      "0    169717\n",
      "3    136203\n",
      "2     71401\n",
      "1     26970\n",
      "Name: C18, dtype: int64\n",
      "------------------------\n",
      " 35      121960\n",
      " 39       88128\n",
      " 167      31711\n",
      " 161      15787\n",
      " 47       14529\n",
      " 1327     10847\n",
      " 297      10223\n",
      " 163       9183\n",
      " 175       8147\n",
      " 679       7461\n",
      " 935       7131\n",
      " 687       5555\n",
      " 1063      5220\n",
      " 41        5044\n",
      " 33        4786\n",
      " 431       4330\n",
      " 803       4014\n",
      " 1319      3901\n",
      " 419       3209\n",
      " 303       3194\n",
      " 171       2995\n",
      " 169       2932\n",
      " 299       2871\n",
      " 427       2696\n",
      " 34        2684\n",
      " 291       2624\n",
      " 547       2476\n",
      " 43        2144\n",
      " 815       2095\n",
      " 38        1759\n",
      "          ...  \n",
      " 809       1032\n",
      " 811       1031\n",
      " 1065      1020\n",
      " 1711       980\n",
      " 675        892\n",
      " 559        849\n",
      " 813        605\n",
      " 551        521\n",
      " 681        511\n",
      " 290        469\n",
      " 1315       397\n",
      " 801        284\n",
      " 295        283\n",
      " 673        281\n",
      " 423        247\n",
      " 1831       226\n",
      " 1071       198\n",
      " 1575       190\n",
      " 1835       187\n",
      " 425        179\n",
      " 943        178\n",
      " 1839       105\n",
      " 553         82\n",
      " 555         77\n",
      " 417         69\n",
      " 939         56\n",
      " 289         51\n",
      " 1583        35\n",
      " 45          28\n",
      "-1           11\n",
      "Name: C19, Length: 63, dtype: int64\n",
      "------------------------\n",
      "-1         189824\n",
      " 100084     24226\n",
      " 100148     17950\n",
      " 100111     17203\n",
      " 100077     16030\n",
      " 100075     15488\n",
      " 100081     13280\n",
      " 100083     10640\n",
      " 100156     10213\n",
      " 100193      7118\n",
      " 100176      6580\n",
      " 100074      5783\n",
      " 100079      5753\n",
      " 100189      4761\n",
      " 100076      4605\n",
      " 100192      2343\n",
      " 100191      2191\n",
      " 100190      2168\n",
      " 100188      2142\n",
      " 100013      1913\n",
      " 100031      1892\n",
      " 100155      1655\n",
      " 100194      1548\n",
      " 100000      1387\n",
      " 100181      1355\n",
      " 100182      1258\n",
      " 100233      1185\n",
      " 100105      1182\n",
      " 100003      1160\n",
      " 100170      1107\n",
      "            ...  \n",
      " 100086        55\n",
      " 100051        53\n",
      " 100179        51\n",
      " 100093        48\n",
      " 100152        43\n",
      " 100135        43\n",
      " 100056        41\n",
      " 100091        40\n",
      " 100205        39\n",
      " 100029        39\n",
      " 100041        37\n",
      " 100107        37\n",
      " 100229        35\n",
      " 100124        35\n",
      " 100097        35\n",
      " 100139        34\n",
      " 100071        31\n",
      " 100033        30\n",
      " 100206        28\n",
      " 100064        25\n",
      " 100123        23\n",
      " 100165        23\n",
      " 100073        22\n",
      " 100016        21\n",
      " 100224        20\n",
      " 100090        19\n",
      " 100121        16\n",
      " 100122        15\n",
      " 100099        15\n",
      " 100244        13\n",
      "Name: C20, Length: 144, dtype: int64\n",
      "------------------------\n",
      " 23     88972\n",
      " 221    50725\n",
      " 79     46072\n",
      " 48     21833\n",
      " 71     20905\n",
      " 61     20549\n",
      " 157    18465\n",
      " 32     17759\n",
      " 33     14961\n",
      " 52     11978\n",
      " 42     10142\n",
      " 51      8516\n",
      " 15      7592\n",
      " 212     6454\n",
      " 43      5890\n",
      " 117     4310\n",
      " 229     4014\n",
      " 13      3918\n",
      " 16      3614\n",
      " 68      3312\n",
      " 156     3275\n",
      " 159     2884\n",
      " 95      2855\n",
      " 46      2393\n",
      " 246     2032\n",
      " 69      1742\n",
      " 91      1695\n",
      " 17      1569\n",
      " 111     1399\n",
      " 90      1345\n",
      " 76      1345\n",
      " 70      1315\n",
      " 110     1159\n",
      " 171     1135\n",
      " 204      922\n",
      " 101      875\n",
      " 253      799\n",
      " 112      774\n",
      " 82       699\n",
      " 100      626\n",
      " 178      527\n",
      " 182      481\n",
      " 35       457\n",
      " 108      454\n",
      " 94       237\n",
      " 251      206\n",
      " 116      179\n",
      " 20       149\n",
      " 194      135\n",
      " 93       122\n",
      " 104       95\n",
      " 126       89\n",
      " 102       77\n",
      " 163       69\n",
      " 177       58\n",
      " 255       47\n",
      " 195       43\n",
      " 1         21\n",
      " 219       16\n",
      "-1         10\n",
      "Name: C21, dtype: int64\n",
      "------------------------\n",
      "5     267354\n",
      "10    103875\n",
      "2      22174\n",
      "20      8636\n",
      "12       927\n",
      "80       413\n",
      "7        349\n",
      "24       183\n",
      "15       136\n",
      "1        102\n",
      "48        74\n",
      "25        68\n",
      "Name: C1_banner_pos, dtype: int64\n",
      "------------------------\n",
      "0    258316\n",
      "1    145975\n",
      "Name: id_domain_1, dtype: int64\n",
      "------------------------\n",
      "0    339370\n",
      "1     64921\n",
      "Name: id_domain_2, dtype: int64\n",
      "------------------------\n",
      "13    23926\n",
      "9     22760\n",
      "14    22068\n",
      "12    21848\n",
      "10    21516\n",
      "8     20857\n",
      "15    20839\n",
      "11    20601\n",
      "16    20382\n",
      "17    20355\n",
      "5     19943\n",
      "4     19077\n",
      "7     18571\n",
      "6     17591\n",
      "18    17479\n",
      "3     14031\n",
      "19    13405\n",
      "2     12286\n",
      "20    11244\n",
      "21     9938\n",
      "1      9782\n",
      "22     9056\n",
      "0      8553\n",
      "23     8183\n",
      "Name: hour, dtype: int64\n",
      "------------------------\n",
      "2    94132\n",
      "3    91645\n",
      "4    80909\n",
      "0    38389\n",
      "6    33627\n",
      "5    33434\n",
      "1    32155\n",
      "Name: week, dtype: int64\n",
      "------------------------\n",
      "22    53327\n",
      "28    52898\n",
      "30    42238\n",
      "21    41234\n",
      "23    38671\n",
      "26    38389\n",
      "29    38318\n",
      "25    33627\n",
      "24    33434\n",
      "27    32155\n",
      "Name: day, dtype: int64\n"
     ]
    }
   ],
   "source": [
    "for i in data.columns:\n",
    "    print('------------------------')\n",
    "    print(data[i].value_counts())\n"
   ]
  },
  {
   "cell_type": "code",
   "execution_count": 197,
   "metadata": {
    "collapsed": false
   },
   "outputs": [
    {
     "name": "stdout",
     "output_type": "stream",
     "text": [
      "<class 'pandas.core.frame.DataFrame'>\n",
      "RangeIndex: 404291 entries, 0 to 404290\n",
      "Data columns (total 29 columns):\n",
      "id                  404291 non-null float64\n",
      "click               404291 non-null int64\n",
      "C1                  404291 non-null object\n",
      "banner_pos          404291 non-null object\n",
      "site_id             404291 non-null object\n",
      "site_domain         404291 non-null object\n",
      "site_category       404291 non-null object\n",
      "app_id              404291 non-null object\n",
      "app_domain          404291 non-null object\n",
      "app_category        404291 non-null object\n",
      "device_id           404291 non-null object\n",
      "device_ip           404291 non-null object\n",
      "device_model        404291 non-null object\n",
      "device_type         404291 non-null object\n",
      "device_conn_type    404291 non-null object\n",
      "C14                 404291 non-null object\n",
      "C15                 404291 non-null object\n",
      "C16                 404291 non-null object\n",
      "C17                 404291 non-null object\n",
      "C18                 404291 non-null object\n",
      "C19                 404291 non-null object\n",
      "C20                 404291 non-null object\n",
      "C21                 404291 non-null object\n",
      "C1_banner_pos       404291 non-null object\n",
      "id_domain_1         404291 non-null int64\n",
      "id_domain_2         404291 non-null int64\n",
      "hour                404291 non-null int64\n",
      "week                404291 non-null int64\n",
      "day                 404291 non-null int64\n",
      "dtypes: float64(1), int64(6), object(22)\n",
      "memory usage: 89.5+ MB\n"
     ]
    }
   ],
   "source": [
    "data.info()"
   ]
  },
  {
   "cell_type": "code",
   "execution_count": 201,
   "metadata": {
    "collapsed": true
   },
   "outputs": [],
   "source": [
    "data.to_csv(data_path+'after_miniminitrain.csv',mode='w',index=False)"
   ]
  },
  {
   "cell_type": "code",
   "execution_count": 3,
   "metadata": {
    "collapsed": true
   },
   "outputs": [],
   "source": [
    "tmp = pd.read_csv(data_path+'after_miniminitrain.csv')"
   ]
  },
  {
   "cell_type": "code",
   "execution_count": 203,
   "metadata": {
    "collapsed": false
   },
   "outputs": [
    {
     "data": {
      "text/plain": [
       "id                  1.00001e+18\n",
       "click                         0\n",
       "C1                         1005\n",
       "banner_pos                    0\n",
       "site_id                1fbe01fe\n",
       "site_domain            f3845767\n",
       "site_category          28905ebd\n",
       "app_id                 ecad2386\n",
       "app_domain             7801e8d9\n",
       "app_category           07d7df22\n",
       "device_id              a99f214a\n",
       "device_ip              ddd2926e\n",
       "device_model           44956a24\n",
       "device_type                   1\n",
       "device_conn_type              2\n",
       "C14                       15706\n",
       "C15                         320\n",
       "C16                          50\n",
       "C17                        1722\n",
       "C18                           0\n",
       "C19                          35\n",
       "C20                          -1\n",
       "C21                          79\n",
       "C1_banner_pos                 5\n",
       "id_domain_1                   0\n",
       "id_domain_2                   1\n",
       "hour                          0\n",
       "week                          2\n",
       "day                          21\n",
       "Name: 0, dtype: object"
      ]
     },
     "execution_count": 203,
     "metadata": {},
     "output_type": "execute_result"
    }
   ],
   "source": [
    "tmp.loc[0]"
   ]
  },
  {
   "cell_type": "code",
   "execution_count": 8,
   "metadata": {
    "collapsed": false,
    "scrolled": false
   },
   "outputs": [
    {
     "name": "stdout",
     "output_type": "stream",
     "text": [
      "------------------------\n",
      "特征C1的样本数为7\n",
      "------------------------\n",
      "特征banner_pos的样本数为7\n",
      "------------------------\n",
      "特征site_id的样本数为722\n",
      "------------------------\n",
      "特征site_domain的样本数为550\n",
      "------------------------\n",
      "特征site_category的样本数为19\n",
      "------------------------\n",
      "特征app_id的样本数为519\n",
      "------------------------\n",
      "特征app_domain的样本数为48\n",
      "------------------------\n",
      "特征app_category的样本数为19\n",
      "------------------------\n",
      "特征device_id的样本数为26\n",
      "------------------------\n",
      "特征device_ip的样本数为1407\n",
      "------------------------\n",
      "特征device_model的样本数为1765\n",
      "------------------------\n",
      "特征device_type的样本数为4\n",
      "------------------------\n",
      "特征device_conn_type的样本数为4\n",
      "------------------------\n",
      "特征C14的样本数为1239\n",
      "------------------------\n",
      "特征C15的样本数为8\n",
      "------------------------\n",
      "特征C16的样本数为9\n",
      "------------------------\n",
      "特征C17的样本数为369\n",
      "------------------------\n",
      "特征C18的样本数为4\n",
      "------------------------\n",
      "特征C19的样本数为63\n",
      "------------------------\n",
      "特征C20的样本数为144\n",
      "------------------------\n",
      "特征C21的样本数为60\n",
      "------------------------\n",
      "特征C1_banner_pos的样本数为12\n",
      "------------------------\n",
      "特征id_domain_1的样本数为2\n",
      "------------------------\n",
      "特征id_domain_2的样本数为2\n",
      "------------------------\n",
      "特征hour的样本数为24\n",
      "------------------------\n",
      "特征week的样本数为7\n",
      "------------------------\n",
      "特征day的样本数为10\n",
      "************************\n",
      "总的样本数为 7050\n"
     ]
    }
   ],
   "source": [
    "count = 0\n",
    "for i in data.columns:\n",
    "    if i in ['id', 'click']: continue\n",
    "    print('------------------------')\n",
    "    tmp = data[i].value_counts()\n",
    "    count += tmp.shape[0]\n",
    "    print('特征{0}的样本数为{1}'.format(i, tmp.shape[0]))\n",
    "print('************************')\n",
    "print('总的样本数为', count)"
   ]
  },
  {
   "cell_type": "code",
   "execution_count": 4,
   "metadata": {
    "collapsed": true
   },
   "outputs": [],
   "source": [
    "data = tmp"
   ]
  },
  {
   "cell_type": "code",
   "execution_count": 204,
   "metadata": {
    "collapsed": false
   },
   "outputs": [
    {
     "name": "stdout",
     "output_type": "stream",
     "text": [
      "<class 'pandas.core.frame.DataFrame'>\n",
      "RangeIndex: 404291 entries, 0 to 404290\n",
      "Data columns (total 29 columns):\n",
      "id                  404291 non-null float64\n",
      "click               404291 non-null int64\n",
      "C1                  404291 non-null int64\n",
      "banner_pos          404291 non-null int64\n",
      "site_id             404291 non-null object\n",
      "site_domain         404291 non-null object\n",
      "site_category       404291 non-null object\n",
      "app_id              404291 non-null object\n",
      "app_domain          404291 non-null object\n",
      "app_category        404291 non-null object\n",
      "device_id           404291 non-null object\n",
      "device_ip           404291 non-null object\n",
      "device_model        404291 non-null object\n",
      "device_type         404291 non-null int64\n",
      "device_conn_type    404291 non-null int64\n",
      "C14                 404291 non-null int64\n",
      "C15                 404291 non-null int64\n",
      "C16                 404291 non-null int64\n",
      "C17                 404291 non-null int64\n",
      "C18                 404291 non-null int64\n",
      "C19                 404291 non-null int64\n",
      "C20                 404291 non-null int64\n",
      "C21                 404291 non-null int64\n",
      "C1_banner_pos       404291 non-null int64\n",
      "id_domain_1         404291 non-null int64\n",
      "id_domain_2         404291 non-null int64\n",
      "hour                404291 non-null int64\n",
      "week                404291 non-null int64\n",
      "day                 404291 non-null int64\n",
      "dtypes: float64(1), int64(19), object(9)\n",
      "memory usage: 89.5+ MB\n"
     ]
    }
   ],
   "source": [
    "tmp.info()"
   ]
  },
  {
   "cell_type": "code",
   "execution_count": null,
   "metadata": {
    "collapsed": true
   },
   "outputs": [],
   "source": []
  }
 ],
 "metadata": {
  "anaconda-cloud": {},
  "kernelspec": {
   "display_name": "Python [default]",
   "language": "python",
   "name": "python3"
  },
  "language_info": {
   "codemirror_mode": {
    "name": "ipython",
    "version": 3
   },
   "file_extension": ".py",
   "mimetype": "text/x-python",
   "name": "python",
   "nbconvert_exporter": "python",
   "pygments_lexer": "ipython3",
   "version": "3.5.2"
  },
  "toc": {
   "nav_menu": {},
   "number_sections": true,
   "sideBar": true,
   "skip_h1_title": false,
   "title_cell": "Table of Contents",
   "title_sidebar": "Contents",
   "toc_cell": false,
   "toc_position": {},
   "toc_section_display": true,
   "toc_window_display": false
  }
 },
 "nbformat": 4,
 "nbformat_minor": 2
}
