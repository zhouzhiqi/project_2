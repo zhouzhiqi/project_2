{
 "cells": [
  {
   "cell_type": "markdown",
   "metadata": {
    "toc": true
   },
   "source": [
    "<h1>Table of Contents<span class=\"tocSkip\"></span></h1>\n",
    "<div class=\"toc\"><ul class=\"toc-item\"><li><span><a href=\"#Onehot_A\" data-toc-modified-id=\"Onehot_A-1\"><span class=\"toc-item-num\">1&nbsp;&nbsp;</span>Onehot_A</a></span></li><li><span><a href=\"#A_cat\" data-toc-modified-id=\"A_cat-2\"><span class=\"toc-item-num\">2&nbsp;&nbsp;</span>A_cat</a></span></li><li><span><a href=\"#A_hour\" data-toc-modified-id=\"A_hour-3\"><span class=\"toc-item-num\">3&nbsp;&nbsp;</span>A_hour</a></span></li><li><span><a href=\"#A_cat_xgb\" data-toc-modified-id=\"A_cat_xgb-4\"><span class=\"toc-item-num\">4&nbsp;&nbsp;</span>A_cat_xgb</a></span></li><li><span><a href=\"#B_cat_xgb\" data-toc-modified-id=\"B_cat_xgb-5\"><span class=\"toc-item-num\">5&nbsp;&nbsp;</span>B_cat_xgb</a></span></li><li><span><a href=\"#B_cat\" data-toc-modified-id=\"B_cat-6\"><span class=\"toc-item-num\">6&nbsp;&nbsp;</span>B_cat</a></span></li><li><span><a href=\"#A_his\" data-toc-modified-id=\"A_his-7\"><span class=\"toc-item-num\">7&nbsp;&nbsp;</span>A_his</a></span></li><li><span><a href=\"#结论\" data-toc-modified-id=\"结论-8\"><span class=\"toc-item-num\">8&nbsp;&nbsp;</span>结论</a></span></li><li><span><a href=\"#B_cat\" data-toc-modified-id=\"B_cat-9\"><span class=\"toc-item-num\">9&nbsp;&nbsp;</span>B_cat</a></span></li><li><span><a href=\"#合并\" data-toc-modified-id=\"合并-10\"><span class=\"toc-item-num\">10&nbsp;&nbsp;</span>合并</a></span></li><li><span><a href=\"#'C':-0.1\" data-toc-modified-id=\"'C':-0.1-11\"><span class=\"toc-item-num\">11&nbsp;&nbsp;</span>'C': 0.1</a></span></li></ul></div>"
   ]
  },
  {
   "cell_type": "markdown",
   "metadata": {},
   "source": [
    "# Onehot_A"
   ]
  },
  {
   "cell_type": "code",
   "execution_count": 6,
   "metadata": {
    "ExecuteTime": {
     "end_time": "2018-07-07T13:36:02.152857Z",
     "start_time": "2018-07-07T13:36:02.108884Z"
    },
    "collapsed": true
   },
   "outputs": [],
   "source": [
    "# coding: utf-8\n",
    "\n",
    "# filelist: \n",
    "#         train:40428967,  \n",
    "#     minitrain:4042898,  \n",
    "# miniminitrain:404291,  \n",
    "#    test_click:4577464\n",
    "#  \n",
    "\n",
    "#import os\n",
    "#os.chdir('/media/zhou/0004DD1700005FE8/AI/00/project_2/')\n",
    "#os.chdir('E:/AI/00/project_2')\n",
    "\n",
    "class flags(object):\n",
    "    def __init__(self, file_name, onehot_cat):\n",
    "        self.file_name = file_name\n",
    "        self.onehot_cat = onehot_cat\n",
    "        self.data_dir = '../data/project_2/data/{0}/'.format(self.onehot_cat)\n",
    "        self.output_dir = '../data/project_2/output/{0}/'.format(self.onehot_cat)\n",
    "        self.model_dir = '../data/project_2/models/{0}/'.format(self.onehot_cat)\n",
    "\n",
    "class params(object):\n",
    "    def __init__(self, onehot_name):\n",
    "        self.threshold = 10\n",
    "        self.chunksize = 1e3\n",
    "        self.num_trees = 50\n",
    "        self.deep = 15\n",
    "        self.split = '='\n",
    "        # ['A_cat', 'A_hour', 'A_xgb', \n",
    "        #  'B_cat', 'C_his']\n",
    "        self.onehot_name = onehot_name\n",
    "        self.lr_C = 1\n"
   ]
  },
  {
   "cell_type": "code",
   "execution_count": 7,
   "metadata": {
    "ExecuteTime": {
     "end_time": "2018-07-07T13:36:02.792290Z",
     "start_time": "2018-07-07T13:36:02.761310Z"
    },
    "collapsed": true
   },
   "outputs": [],
   "source": [
    "\n",
    "import numpy as np\n",
    "import pandas as pd\n",
    "import time\n",
    "import gc\n",
    "import os\n",
    "import scipy.sparse as ss\n",
    "#from  sklearn.cross_validation  import  train_test_split \n",
    "#import xgboost as xgb\n",
    "#from sklearn.metrics import accuracy_score,log_loss\n",
    "from sklearn.linear_model import LogisticRegression\n",
    "from sklearn.metrics import accuracy_score,log_loss\n",
    "from sklearn.externals import joblib\n",
    "from sklearn.model_selection import GridSearchCV"
   ]
  },
  {
   "cell_type": "code",
   "execution_count": 41,
   "metadata": {
    "collapsed": false
   },
   "outputs": [
    {
     "data": {
      "text/html": [
       "<div>\n",
       "<style scoped>\n",
       "    .dataframe tbody tr th:only-of-type {\n",
       "        vertical-align: middle;\n",
       "    }\n",
       "\n",
       "    .dataframe tbody tr th {\n",
       "        vertical-align: top;\n",
       "    }\n",
       "\n",
       "    .dataframe thead th {\n",
       "        text-align: right;\n",
       "    }\n",
       "</style>\n",
       "<table border=\"1\" class=\"dataframe\">\n",
       "  <thead>\n",
       "    <tr style=\"text-align: right;\">\n",
       "      <th></th>\n",
       "      <th>click</th>\n",
       "    </tr>\n",
       "  </thead>\n",
       "  <tbody>\n",
       "    <tr>\n",
       "      <th>0</th>\n",
       "      <td>0.0</td>\n",
       "    </tr>\n",
       "    <tr>\n",
       "      <th>1</th>\n",
       "      <td>1.0</td>\n",
       "    </tr>\n",
       "    <tr>\n",
       "      <th>2</th>\n",
       "      <td>0.0</td>\n",
       "    </tr>\n",
       "    <tr>\n",
       "      <th>3</th>\n",
       "      <td>0.0</td>\n",
       "    </tr>\n",
       "    <tr>\n",
       "      <th>4</th>\n",
       "      <td>1.0</td>\n",
       "    </tr>\n",
       "    <tr>\n",
       "      <th>5</th>\n",
       "      <td>0.0</td>\n",
       "    </tr>\n",
       "    <tr>\n",
       "      <th>6</th>\n",
       "      <td>0.0</td>\n",
       "    </tr>\n",
       "    <tr>\n",
       "      <th>7</th>\n",
       "      <td>0.0</td>\n",
       "    </tr>\n",
       "    <tr>\n",
       "      <th>8</th>\n",
       "      <td>0.0</td>\n",
       "    </tr>\n",
       "    <tr>\n",
       "      <th>9</th>\n",
       "      <td>0.0</td>\n",
       "    </tr>\n",
       "  </tbody>\n",
       "</table>\n",
       "</div>"
      ],
      "text/plain": [
       "   click\n",
       "0    0.0\n",
       "1    1.0\n",
       "2    0.0\n",
       "3    0.0\n",
       "4    1.0\n",
       "5    0.0\n",
       "6    0.0\n",
       "7    0.0\n",
       "8    0.0\n",
       "9    0.0"
      ]
     },
     "execution_count": 41,
     "metadata": {},
     "output_type": "execute_result"
    }
   ],
   "source": [
    "y_train = ss.load_npz(output_path+'{0}_y_{1}_all.npz'.format(file_name, onehot_name), )\n",
    "y_train = y_train.toarray().astype(np.float32)[0]\n",
    "merge_all = pd.DataFrame(index=np.arange(len(y_train)), columns=['click'], data=y_train)\n",
    "merge_all[:10]"
   ]
  },
  {
   "cell_type": "markdown",
   "metadata": {},
   "source": [
    "# A_cat"
   ]
  },
  {
   "cell_type": "code",
   "execution_count": 42,
   "metadata": {
    "ExecuteTime": {
     "end_time": "2018-07-07T11:04:43.674156Z",
     "start_time": "2018-07-07T11:04:43.666161Z"
    },
    "collapsed": true
   },
   "outputs": [],
   "source": [
    "FLAGS = flags('minitrain', 'Onehot_A')\n",
    "PARAMS = params('A_cat')  \n",
    "\n",
    "file_name = FLAGS.file_name\n",
    "onehot_name = PARAMS.onehot_name\n",
    "output_path = FLAGS.output_dir\n",
    "model_path = FLAGS.model_dir"
   ]
  },
  {
   "cell_type": "code",
   "execution_count": 43,
   "metadata": {
    "ExecuteTime": {
     "end_time": "2018-07-07T11:04:47.474984Z",
     "start_time": "2018-07-07T11:04:44.188177Z"
    },
    "collapsed": false
   },
   "outputs": [
    {
     "name": "stdout",
     "output_type": "stream",
     "text": [
      "Load Data\n",
      "training . . . \n",
      "cost time:0\n"
     ]
    }
   ],
   "source": [
    "print('Load Data')\n",
    "X_train = ss.load_npz(output_path+'{0}_X_{1}_all.npz'.format(file_name, onehot_name), )\n",
    "\n",
    "y_train = ss.load_npz(output_path+'{0}_y_{1}_all.npz'.format(file_name, onehot_name), )\n",
    "y_train = y_train.toarray().astype(np.float32)[0]\n",
    "# 先转成np.array, 把数据类型转为np.float32(此时为2维数组shape(1,n)), 转为1-D np.arrar\n",
    "# 2维数组shape(m,n)适用于多分类问题, 在二分类中不适用\n",
    "\n",
    "c=0.1\n",
    "\n",
    "#导入模型\n",
    "lr = joblib.load(model_path+'LR_C{0}_{1}.sklearn'.format(c,onehot_name))\n",
    "#lr= LogisticRegression(multi_class='ovr', penalty='l2', solver='sag', C=c, n_jobs=-1)\n",
    "\n",
    "#开始训练\n",
    "start_time = time.time()\n",
    "print('training . . . ')\n",
    "#lr.fit(X_train, y_train, )\n",
    "print('cost time:{0}'.format(int(time.time() - start_time)))\n",
    "\n",
    "#保存模型\n",
    "#joblib.dump(lr, model_path+'LR_sklearn.model')\n",
    "\n",
    "#进行评价\n",
    "train_preds = lr.predict_proba(X_train)[:,1]\n",
    "#train_predictions = np.around(train_preds)\n",
    "\n",
    "#拼接数据\n",
    "merge_all.insert(loc=0, column=onehot_name, value=train_preds)"
   ]
  },
  {
   "cell_type": "code",
   "execution_count": 44,
   "metadata": {
    "ExecuteTime": {
     "end_time": "2018-07-07T13:36:37.071192Z",
     "start_time": "2018-07-07T13:36:36.974895Z"
    },
    "collapsed": false
   },
   "outputs": [
    {
     "data": {
      "text/html": [
       "<div>\n",
       "<style scoped>\n",
       "    .dataframe tbody tr th:only-of-type {\n",
       "        vertical-align: middle;\n",
       "    }\n",
       "\n",
       "    .dataframe tbody tr th {\n",
       "        vertical-align: top;\n",
       "    }\n",
       "\n",
       "    .dataframe thead th {\n",
       "        text-align: right;\n",
       "    }\n",
       "</style>\n",
       "<table border=\"1\" class=\"dataframe\">\n",
       "  <thead>\n",
       "    <tr style=\"text-align: right;\">\n",
       "      <th></th>\n",
       "      <th>A_cat</th>\n",
       "      <th>click</th>\n",
       "    </tr>\n",
       "  </thead>\n",
       "  <tbody>\n",
       "    <tr>\n",
       "      <th>0</th>\n",
       "      <td>0.184669</td>\n",
       "      <td>0.0</td>\n",
       "    </tr>\n",
       "    <tr>\n",
       "      <th>1</th>\n",
       "      <td>0.151759</td>\n",
       "      <td>1.0</td>\n",
       "    </tr>\n",
       "    <tr>\n",
       "      <th>2</th>\n",
       "      <td>0.028431</td>\n",
       "      <td>0.0</td>\n",
       "    </tr>\n",
       "    <tr>\n",
       "      <th>3</th>\n",
       "      <td>0.087226</td>\n",
       "      <td>0.0</td>\n",
       "    </tr>\n",
       "    <tr>\n",
       "      <th>4</th>\n",
       "      <td>0.186658</td>\n",
       "      <td>1.0</td>\n",
       "    </tr>\n",
       "    <tr>\n",
       "      <th>5</th>\n",
       "      <td>0.035379</td>\n",
       "      <td>0.0</td>\n",
       "    </tr>\n",
       "    <tr>\n",
       "      <th>6</th>\n",
       "      <td>0.297494</td>\n",
       "      <td>0.0</td>\n",
       "    </tr>\n",
       "    <tr>\n",
       "      <th>7</th>\n",
       "      <td>0.028510</td>\n",
       "      <td>0.0</td>\n",
       "    </tr>\n",
       "    <tr>\n",
       "      <th>8</th>\n",
       "      <td>0.278074</td>\n",
       "      <td>0.0</td>\n",
       "    </tr>\n",
       "    <tr>\n",
       "      <th>9</th>\n",
       "      <td>0.396243</td>\n",
       "      <td>0.0</td>\n",
       "    </tr>\n",
       "  </tbody>\n",
       "</table>\n",
       "</div>"
      ],
      "text/plain": [
       "      A_cat  click\n",
       "0  0.184669    0.0\n",
       "1  0.151759    1.0\n",
       "2  0.028431    0.0\n",
       "3  0.087226    0.0\n",
       "4  0.186658    1.0\n",
       "5  0.035379    0.0\n",
       "6  0.297494    0.0\n",
       "7  0.028510    0.0\n",
       "8  0.278074    0.0\n",
       "9  0.396243    0.0"
      ]
     },
     "execution_count": 44,
     "metadata": {},
     "output_type": "execute_result"
    }
   ],
   "source": [
    "merge_all[:10]"
   ]
  },
  {
   "cell_type": "markdown",
   "metadata": {},
   "source": [
    "# A_cat_xgb"
   ]
  },
  {
   "cell_type": "code",
   "execution_count": 45,
   "metadata": {
    "ExecuteTime": {
     "end_time": "2018-07-07T13:37:22.394522Z",
     "start_time": "2018-07-07T13:37:22.386527Z"
    },
    "collapsed": true
   },
   "outputs": [],
   "source": [
    "FLAGS = flags('minitrain', 'Onehot_A')\n",
    "PARAMS = params('A_cat_xgb')  \n",
    "\n",
    "file_name = FLAGS.file_name\n",
    "onehot_name = PARAMS.onehot_name\n",
    "output_path = FLAGS.output_dir\n",
    "model_path = FLAGS.model_dir"
   ]
  },
  {
   "cell_type": "code",
   "execution_count": 46,
   "metadata": {
    "ExecuteTime": {
     "end_time": "2018-07-07T13:37:29.907076Z",
     "start_time": "2018-07-07T13:37:23.191466Z"
    },
    "collapsed": false
   },
   "outputs": [
    {
     "name": "stdout",
     "output_type": "stream",
     "text": [
      "Load Data\n",
      "training . . . \n",
      "cost time:0\n"
     ]
    }
   ],
   "source": [
    "print('Load Data')\n",
    "X_train = ss.load_npz(output_path+'{0}_X_{1}_all.npz'.format(file_name, onehot_name), )\n",
    "\n",
    "y_train = ss.load_npz(output_path+'{0}_y_{1}_all.npz'.format(file_name, onehot_name), )\n",
    "y_train = y_train.toarray().astype(np.float32)[0]\n",
    "# 先转成np.array, 把数据类型转为np.float32(此时为2维数组shape(1,n)), 转为1-D np.arrar\n",
    "# 2维数组shape(m,n)适用于多分类问题, 在二分类中不适用\n",
    "\n",
    "c=0.01\n",
    "\n",
    "#导入模型\n",
    "lr = joblib.load(model_path+'LR_C{0}_{1}.sklearn'.format(c,onehot_name))\n",
    "#lr= LogisticRegression(multi_class='ovr', penalty='l2', solver='sag', C=c, n_jobs=-1)\n",
    "\n",
    "#开始训练\n",
    "start_time = time.time()\n",
    "print('training . . . ')\n",
    "#lr.fit(X_train, y_train, )\n",
    "print('cost time:{0}'.format(int(time.time() - start_time)))\n",
    "\n",
    "#保存模型\n",
    "#joblib.dump(lr, model_path+'LR_sklearn.model')\n",
    "\n",
    "#进行评价\n",
    "train_preds = lr.predict_proba(X_train)[:,1]\n",
    "#train_predictions = np.around(train_preds)\n",
    "\n",
    "#拼接数据\n",
    "merge_all.insert(loc=0, column=onehot_name, value=train_preds)"
   ]
  },
  {
   "cell_type": "raw",
   "metadata": {
    "ExecuteTime": {
     "end_time": "2018-07-07T12:48:59.659448Z",
     "start_time": "2018-07-07T12:44:38.561037Z"
    },
    "scrolled": true
   },
   "source": [
    "print('Load Data')\n",
    "X_train = ss.load_npz(output_path+'{0}_X_{1}_all.npz'.format(file_name, onehot_name), )\n",
    "\n",
    "y_train = ss.load_npz(output_path+'{0}_y_{1}_all.npz'.format(file_name, onehot_name), )\n",
    "y_train = y_train.toarray().astype(np.float32)[0]\n",
    "# 先转成np.array, 把数据类型转为np.float32(此时为2维数组shape(1,n)), 转为1-D np.arrar\n",
    "# 2维数组shape(m,n)适用于多分类问题, 在二分类中不适用\n",
    "\n",
    "c=0.01\n",
    "\n",
    "#导入模型\n",
    "\n",
    "lr= LogisticRegression(multi_class='ovr', penalty='l2', solver='sag', C=c, n_jobs=-1)\n",
    "\n",
    "#开始训练\n",
    "start_time = time.time()\n",
    "print('training . . . ')\n",
    "lr.fit(X_train, y_train, )\n",
    "print('cost time:{0}'.format(int(time.time() - start_time)))\n",
    "\n",
    "#保存模型\n",
    "#joblib.dump(lr, model_path+'LR_sklearn.model')\n",
    "\n",
    "#进行评价\n",
    "train_preds = lr.predict_proba(X_train)[:,1]\n",
    "train_predictions = np.around(train_preds)\n",
    "\n",
    "train_accuracy = accuracy_score(y_train, train_predictions)\n",
    "print (\"Train Accuary: %.2f%%\" % (train_accuracy * 100.0))\n",
    "train_log_loss = log_loss(y_train, train_preds)\n",
    "print (\"Train log_loss: \" , train_log_loss)\n",
    "\n",
    "\n",
    "#保存模型\n",
    "joblib.dump(lr, model_path+'LR_C{0}_{1}.sklearn'.format(c,onehot_name))\n"
   ]
  },
  {
   "cell_type": "markdown",
   "metadata": {},
   "source": [
    "# A_hour"
   ]
  },
  {
   "cell_type": "code",
   "execution_count": 47,
   "metadata": {
    "ExecuteTime": {
     "end_time": "2018-07-07T11:05:38.594478Z",
     "start_time": "2018-07-07T11:05:38.586483Z"
    },
    "collapsed": true
   },
   "outputs": [],
   "source": [
    "FLAGS = flags('minitrain', 'Onehot_A')\n",
    "PARAMS = params('A_hour')  \n",
    "\n",
    "file_name = FLAGS.file_name\n",
    "onehot_name = PARAMS.onehot_name\n",
    "output_path = FLAGS.output_dir\n",
    "model_path = FLAGS.model_dir"
   ]
  },
  {
   "cell_type": "code",
   "execution_count": 48,
   "metadata": {
    "ExecuteTime": {
     "end_time": "2018-07-07T11:05:40.439074Z",
     "start_time": "2018-07-07T11:05:39.033515Z"
    },
    "collapsed": false
   },
   "outputs": [
    {
     "name": "stdout",
     "output_type": "stream",
     "text": [
      "Load Data\n",
      "training . . . \n",
      "cost time:0\n"
     ]
    }
   ],
   "source": [
    "print('Load Data')\n",
    "X_train = ss.load_npz(output_path+'{0}_X_{1}_all.npz'.format(file_name, onehot_name), )\n",
    "\n",
    "y_train = ss.load_npz(output_path+'{0}_y_{1}_all.npz'.format(file_name, onehot_name), )\n",
    "y_train = y_train.toarray().astype(np.float32)[0]\n",
    "# 先转成np.array, 把数据类型转为np.float32(此时为2维数组shape(1,n)), 转为1-D np.arrar\n",
    "# 2维数组shape(m,n)适用于多分类问题, 在二分类中不适用\n",
    "\n",
    "c=0.01\n",
    "\n",
    "#导入模型\n",
    "lr = joblib.load(model_path+'LR_C{0}_{1}.sklearn'.format(c,onehot_name))\n",
    "#lr= LogisticRegression(multi_class='ovr', penalty='l2', solver='sag', C=c, n_jobs=-1)\n",
    "\n",
    "#开始训练\n",
    "start_time = time.time()\n",
    "print('training . . . ')\n",
    "#lr.fit(X_train, y_train, )\n",
    "print('cost time:{0}'.format(int(time.time() - start_time)))\n",
    "\n",
    "#保存模型\n",
    "#joblib.dump(lr, model_path+'LR_sklearn.model')\n",
    "\n",
    "#进行评价\n",
    "train_preds = lr.predict_proba(X_train)[:,1]\n",
    "#train_predictions = np.around(train_preds)\n",
    "\n",
    "#拼接数据\n",
    "merge_all.insert(loc=0, column=onehot_name, value=train_preds)"
   ]
  },
  {
   "cell_type": "code",
   "execution_count": 49,
   "metadata": {
    "ExecuteTime": {
     "end_time": "2018-07-07T11:05:54.486231Z",
     "start_time": "2018-07-07T11:05:54.465243Z"
    },
    "collapsed": false
   },
   "outputs": [
    {
     "data": {
      "text/html": [
       "<div>\n",
       "<style scoped>\n",
       "    .dataframe tbody tr th:only-of-type {\n",
       "        vertical-align: middle;\n",
       "    }\n",
       "\n",
       "    .dataframe tbody tr th {\n",
       "        vertical-align: top;\n",
       "    }\n",
       "\n",
       "    .dataframe thead th {\n",
       "        text-align: right;\n",
       "    }\n",
       "</style>\n",
       "<table border=\"1\" class=\"dataframe\">\n",
       "  <thead>\n",
       "    <tr style=\"text-align: right;\">\n",
       "      <th></th>\n",
       "      <th>A_hour</th>\n",
       "      <th>A_cat_xgb</th>\n",
       "      <th>A_cat</th>\n",
       "      <th>click</th>\n",
       "    </tr>\n",
       "  </thead>\n",
       "  <tbody>\n",
       "    <tr>\n",
       "      <th>0</th>\n",
       "      <td>0.171241</td>\n",
       "      <td>0.193547</td>\n",
       "      <td>0.184669</td>\n",
       "      <td>0.0</td>\n",
       "    </tr>\n",
       "    <tr>\n",
       "      <th>1</th>\n",
       "      <td>0.164619</td>\n",
       "      <td>0.116275</td>\n",
       "      <td>0.151759</td>\n",
       "      <td>1.0</td>\n",
       "    </tr>\n",
       "    <tr>\n",
       "      <th>2</th>\n",
       "      <td>0.161582</td>\n",
       "      <td>0.055302</td>\n",
       "      <td>0.028431</td>\n",
       "      <td>0.0</td>\n",
       "    </tr>\n",
       "    <tr>\n",
       "      <th>3</th>\n",
       "      <td>0.146487</td>\n",
       "      <td>0.068892</td>\n",
       "      <td>0.087226</td>\n",
       "      <td>0.0</td>\n",
       "    </tr>\n",
       "    <tr>\n",
       "      <th>4</th>\n",
       "      <td>0.155272</td>\n",
       "      <td>0.159725</td>\n",
       "      <td>0.186658</td>\n",
       "      <td>1.0</td>\n",
       "    </tr>\n",
       "    <tr>\n",
       "      <th>5</th>\n",
       "      <td>0.168845</td>\n",
       "      <td>0.068892</td>\n",
       "      <td>0.035379</td>\n",
       "      <td>0.0</td>\n",
       "    </tr>\n",
       "    <tr>\n",
       "      <th>6</th>\n",
       "      <td>0.164455</td>\n",
       "      <td>0.259656</td>\n",
       "      <td>0.297494</td>\n",
       "      <td>0.0</td>\n",
       "    </tr>\n",
       "    <tr>\n",
       "      <th>7</th>\n",
       "      <td>0.153470</td>\n",
       "      <td>0.022967</td>\n",
       "      <td>0.028510</td>\n",
       "      <td>0.0</td>\n",
       "    </tr>\n",
       "    <tr>\n",
       "      <th>8</th>\n",
       "      <td>0.155573</td>\n",
       "      <td>0.313329</td>\n",
       "      <td>0.278074</td>\n",
       "      <td>0.0</td>\n",
       "    </tr>\n",
       "    <tr>\n",
       "      <th>9</th>\n",
       "      <td>0.155272</td>\n",
       "      <td>0.388862</td>\n",
       "      <td>0.396243</td>\n",
       "      <td>0.0</td>\n",
       "    </tr>\n",
       "  </tbody>\n",
       "</table>\n",
       "</div>"
      ],
      "text/plain": [
       "     A_hour  A_cat_xgb     A_cat  click\n",
       "0  0.171241   0.193547  0.184669    0.0\n",
       "1  0.164619   0.116275  0.151759    1.0\n",
       "2  0.161582   0.055302  0.028431    0.0\n",
       "3  0.146487   0.068892  0.087226    0.0\n",
       "4  0.155272   0.159725  0.186658    1.0\n",
       "5  0.168845   0.068892  0.035379    0.0\n",
       "6  0.164455   0.259656  0.297494    0.0\n",
       "7  0.153470   0.022967  0.028510    0.0\n",
       "8  0.155573   0.313329  0.278074    0.0\n",
       "9  0.155272   0.388862  0.396243    0.0"
      ]
     },
     "execution_count": 49,
     "metadata": {},
     "output_type": "execute_result"
    }
   ],
   "source": [
    "merge_all[:10]"
   ]
  },
  {
   "cell_type": "markdown",
   "metadata": {},
   "source": [
    "# B_cat"
   ]
  },
  {
   "cell_type": "code",
   "execution_count": 50,
   "metadata": {
    "ExecuteTime": {
     "end_time": "2018-07-07T11:04:43.674156Z",
     "start_time": "2018-07-07T11:04:43.666161Z"
    },
    "collapsed": true
   },
   "outputs": [],
   "source": [
    "FLAGS = flags('minitrain', 'Onehot_B')\n",
    "PARAMS = params('B_cat')  \n",
    "\n",
    "file_name = FLAGS.file_name\n",
    "onehot_name = PARAMS.onehot_name\n",
    "output_path = FLAGS.output_dir\n",
    "model_path = FLAGS.model_dir"
   ]
  },
  {
   "cell_type": "code",
   "execution_count": 51,
   "metadata": {
    "ExecuteTime": {
     "end_time": "2018-07-07T11:04:47.474984Z",
     "start_time": "2018-07-07T11:04:44.188177Z"
    },
    "collapsed": false
   },
   "outputs": [
    {
     "name": "stdout",
     "output_type": "stream",
     "text": [
      "Load Data\n",
      "training . . . \n",
      "cost time:0\n"
     ]
    }
   ],
   "source": [
    "print('Load Data')\n",
    "X_train = ss.load_npz(output_path+'{0}_X_{1}_all.npz'.format(file_name, onehot_name), )\n",
    "\n",
    "y_train = ss.load_npz(output_path+'{0}_y_{1}_all.npz'.format(file_name, onehot_name), )\n",
    "y_train = y_train.toarray().astype(np.float32)[0]\n",
    "# 先转成np.array, 把数据类型转为np.float32(此时为2维数组shape(1,n)), 转为1-D np.arrar\n",
    "# 2维数组shape(m,n)适用于多分类问题, 在二分类中不适用\n",
    "\n",
    "c=0.1\n",
    "\n",
    "#导入模型\n",
    "lr = joblib.load(model_path+'LR_C{0}_{1}.sklearn'.format(c,onehot_name))\n",
    "#lr= LogisticRegression(multi_class='ovr', penalty='l2', solver='sag', C=c, n_jobs=-1)\n",
    "\n",
    "#开始训练\n",
    "start_time = time.time()\n",
    "print('training . . . ')\n",
    "#lr.fit(X_train, y_train, )\n",
    "print('cost time:{0}'.format(int(time.time() - start_time)))\n",
    "\n",
    "#保存模型\n",
    "#joblib.dump(lr, model_path+'LR_sklearn.model')\n",
    "\n",
    "#进行评价\n",
    "train_preds = lr.predict_proba(X_train)[:,1]\n",
    "#train_predictions = np.around(train_preds)\n",
    "\n",
    "#拼接数据\n",
    "merge_all.insert(loc=0, column=onehot_name, value=train_preds)"
   ]
  },
  {
   "cell_type": "code",
   "execution_count": 52,
   "metadata": {
    "ExecuteTime": {
     "end_time": "2018-07-07T13:36:37.071192Z",
     "start_time": "2018-07-07T13:36:36.974895Z"
    },
    "collapsed": false
   },
   "outputs": [
    {
     "data": {
      "text/html": [
       "<div>\n",
       "<style scoped>\n",
       "    .dataframe tbody tr th:only-of-type {\n",
       "        vertical-align: middle;\n",
       "    }\n",
       "\n",
       "    .dataframe tbody tr th {\n",
       "        vertical-align: top;\n",
       "    }\n",
       "\n",
       "    .dataframe thead th {\n",
       "        text-align: right;\n",
       "    }\n",
       "</style>\n",
       "<table border=\"1\" class=\"dataframe\">\n",
       "  <thead>\n",
       "    <tr style=\"text-align: right;\">\n",
       "      <th></th>\n",
       "      <th>B_cat</th>\n",
       "      <th>A_hour</th>\n",
       "      <th>A_cat_xgb</th>\n",
       "      <th>A_cat</th>\n",
       "      <th>click</th>\n",
       "    </tr>\n",
       "  </thead>\n",
       "  <tbody>\n",
       "    <tr>\n",
       "      <th>0</th>\n",
       "      <td>0.169580</td>\n",
       "      <td>0.171241</td>\n",
       "      <td>0.193547</td>\n",
       "      <td>0.184669</td>\n",
       "      <td>0.0</td>\n",
       "    </tr>\n",
       "    <tr>\n",
       "      <th>1</th>\n",
       "      <td>0.169580</td>\n",
       "      <td>0.164619</td>\n",
       "      <td>0.116275</td>\n",
       "      <td>0.151759</td>\n",
       "      <td>1.0</td>\n",
       "    </tr>\n",
       "    <tr>\n",
       "      <th>2</th>\n",
       "      <td>0.169580</td>\n",
       "      <td>0.161582</td>\n",
       "      <td>0.055302</td>\n",
       "      <td>0.028431</td>\n",
       "      <td>0.0</td>\n",
       "    </tr>\n",
       "    <tr>\n",
       "      <th>3</th>\n",
       "      <td>0.169580</td>\n",
       "      <td>0.146487</td>\n",
       "      <td>0.068892</td>\n",
       "      <td>0.087226</td>\n",
       "      <td>0.0</td>\n",
       "    </tr>\n",
       "    <tr>\n",
       "      <th>4</th>\n",
       "      <td>0.169580</td>\n",
       "      <td>0.155272</td>\n",
       "      <td>0.159725</td>\n",
       "      <td>0.186658</td>\n",
       "      <td>1.0</td>\n",
       "    </tr>\n",
       "    <tr>\n",
       "      <th>5</th>\n",
       "      <td>0.169580</td>\n",
       "      <td>0.168845</td>\n",
       "      <td>0.068892</td>\n",
       "      <td>0.035379</td>\n",
       "      <td>0.0</td>\n",
       "    </tr>\n",
       "    <tr>\n",
       "      <th>6</th>\n",
       "      <td>0.169580</td>\n",
       "      <td>0.164455</td>\n",
       "      <td>0.259656</td>\n",
       "      <td>0.297494</td>\n",
       "      <td>0.0</td>\n",
       "    </tr>\n",
       "    <tr>\n",
       "      <th>7</th>\n",
       "      <td>0.159171</td>\n",
       "      <td>0.153470</td>\n",
       "      <td>0.022967</td>\n",
       "      <td>0.028510</td>\n",
       "      <td>0.0</td>\n",
       "    </tr>\n",
       "    <tr>\n",
       "      <th>8</th>\n",
       "      <td>0.169580</td>\n",
       "      <td>0.155573</td>\n",
       "      <td>0.313329</td>\n",
       "      <td>0.278074</td>\n",
       "      <td>0.0</td>\n",
       "    </tr>\n",
       "    <tr>\n",
       "      <th>9</th>\n",
       "      <td>0.169580</td>\n",
       "      <td>0.155272</td>\n",
       "      <td>0.388862</td>\n",
       "      <td>0.396243</td>\n",
       "      <td>0.0</td>\n",
       "    </tr>\n",
       "  </tbody>\n",
       "</table>\n",
       "</div>"
      ],
      "text/plain": [
       "      B_cat    A_hour  A_cat_xgb     A_cat  click\n",
       "0  0.169580  0.171241   0.193547  0.184669    0.0\n",
       "1  0.169580  0.164619   0.116275  0.151759    1.0\n",
       "2  0.169580  0.161582   0.055302  0.028431    0.0\n",
       "3  0.169580  0.146487   0.068892  0.087226    0.0\n",
       "4  0.169580  0.155272   0.159725  0.186658    1.0\n",
       "5  0.169580  0.168845   0.068892  0.035379    0.0\n",
       "6  0.169580  0.164455   0.259656  0.297494    0.0\n",
       "7  0.159171  0.153470   0.022967  0.028510    0.0\n",
       "8  0.169580  0.155573   0.313329  0.278074    0.0\n",
       "9  0.169580  0.155272   0.388862  0.396243    0.0"
      ]
     },
     "execution_count": 52,
     "metadata": {},
     "output_type": "execute_result"
    }
   ],
   "source": [
    "merge_all[:10]"
   ]
  },
  {
   "cell_type": "markdown",
   "metadata": {},
   "source": [
    "# B_cat_xgb"
   ]
  },
  {
   "cell_type": "code",
   "execution_count": 53,
   "metadata": {
    "ExecuteTime": {
     "end_time": "2018-07-07T13:38:13.449757Z",
     "start_time": "2018-07-07T13:38:13.442759Z"
    },
    "collapsed": true
   },
   "outputs": [],
   "source": [
    "FLAGS = flags('minitrain', 'Onehot_B')\n",
    "PARAMS = params('B_cat_xgb')  \n",
    "\n",
    "file_name = FLAGS.file_name\n",
    "onehot_name = PARAMS.onehot_name\n",
    "output_path = FLAGS.output_dir\n",
    "model_path = FLAGS.model_dir"
   ]
  },
  {
   "cell_type": "code",
   "execution_count": 54,
   "metadata": {
    "ExecuteTime": {
     "end_time": "2018-07-07T13:38:20.309542Z",
     "start_time": "2018-07-07T13:38:13.948741Z"
    },
    "collapsed": false
   },
   "outputs": [
    {
     "name": "stdout",
     "output_type": "stream",
     "text": [
      "Load Data\n",
      "training . . . \n",
      "cost time:0\n"
     ]
    }
   ],
   "source": [
    "print('Load Data')\n",
    "X_train = ss.load_npz(output_path+'{0}_X_{1}_all.npz'.format(file_name, onehot_name), )\n",
    "\n",
    "y_train = ss.load_npz(output_path+'{0}_y_{1}_all.npz'.format(file_name, onehot_name), )\n",
    "y_train = y_train.toarray().astype(np.float32)[0]\n",
    "# 先转成np.array, 把数据类型转为np.float32(此时为2维数组shape(1,n)), 转为1-D np.arrar\n",
    "# 2维数组shape(m,n)适用于多分类问题, 在二分类中不适用\n",
    "\n",
    "c=0.01\n",
    "\n",
    "#导入模型\n",
    "lr = joblib.load(model_path+'LR_C{0}_{1}.sklearn'.format(c,onehot_name))\n",
    "#lr= LogisticRegression(multi_class='ovr', penalty='l2', solver='sag', C=c, n_jobs=-1)\n",
    "\n",
    "#开始训练\n",
    "start_time = time.time()\n",
    "print('training . . . ')\n",
    "#lr.fit(X_train, y_train, )\n",
    "print('cost time:{0}'.format(int(time.time() - start_time)))\n",
    "\n",
    "#保存模型\n",
    "#joblib.dump(lr, model_path+'LR_sklearn.model')\n",
    "\n",
    "#进行评价\n",
    "train_preds = lr.predict_proba(X_train)[:,1]\n",
    "#train_predictions = np.around(train_preds)\n",
    "\n",
    "#拼接数据\n",
    "merge_all.insert(loc=0, column=onehot_name, value=train_preds)"
   ]
  },
  {
   "cell_type": "code",
   "execution_count": 55,
   "metadata": {
    "ExecuteTime": {
     "end_time": "2018-07-07T13:38:57.348629Z",
     "start_time": "2018-07-07T13:38:57.322646Z"
    },
    "collapsed": false
   },
   "outputs": [
    {
     "data": {
      "text/html": [
       "<div>\n",
       "<style scoped>\n",
       "    .dataframe tbody tr th:only-of-type {\n",
       "        vertical-align: middle;\n",
       "    }\n",
       "\n",
       "    .dataframe tbody tr th {\n",
       "        vertical-align: top;\n",
       "    }\n",
       "\n",
       "    .dataframe thead th {\n",
       "        text-align: right;\n",
       "    }\n",
       "</style>\n",
       "<table border=\"1\" class=\"dataframe\">\n",
       "  <thead>\n",
       "    <tr style=\"text-align: right;\">\n",
       "      <th></th>\n",
       "      <th>B_cat_xgb</th>\n",
       "      <th>B_cat</th>\n",
       "      <th>A_hour</th>\n",
       "      <th>A_cat_xgb</th>\n",
       "      <th>A_cat</th>\n",
       "      <th>click</th>\n",
       "    </tr>\n",
       "  </thead>\n",
       "  <tbody>\n",
       "    <tr>\n",
       "      <th>0</th>\n",
       "      <td>0.169566</td>\n",
       "      <td>0.169580</td>\n",
       "      <td>0.171241</td>\n",
       "      <td>0.193547</td>\n",
       "      <td>0.184669</td>\n",
       "      <td>0.0</td>\n",
       "    </tr>\n",
       "    <tr>\n",
       "      <th>1</th>\n",
       "      <td>0.169566</td>\n",
       "      <td>0.169580</td>\n",
       "      <td>0.164619</td>\n",
       "      <td>0.116275</td>\n",
       "      <td>0.151759</td>\n",
       "      <td>1.0</td>\n",
       "    </tr>\n",
       "    <tr>\n",
       "      <th>2</th>\n",
       "      <td>0.169566</td>\n",
       "      <td>0.169580</td>\n",
       "      <td>0.161582</td>\n",
       "      <td>0.055302</td>\n",
       "      <td>0.028431</td>\n",
       "      <td>0.0</td>\n",
       "    </tr>\n",
       "    <tr>\n",
       "      <th>3</th>\n",
       "      <td>0.169566</td>\n",
       "      <td>0.169580</td>\n",
       "      <td>0.146487</td>\n",
       "      <td>0.068892</td>\n",
       "      <td>0.087226</td>\n",
       "      <td>0.0</td>\n",
       "    </tr>\n",
       "    <tr>\n",
       "      <th>4</th>\n",
       "      <td>0.169566</td>\n",
       "      <td>0.169580</td>\n",
       "      <td>0.155272</td>\n",
       "      <td>0.159725</td>\n",
       "      <td>0.186658</td>\n",
       "      <td>1.0</td>\n",
       "    </tr>\n",
       "    <tr>\n",
       "      <th>5</th>\n",
       "      <td>0.169566</td>\n",
       "      <td>0.169580</td>\n",
       "      <td>0.168845</td>\n",
       "      <td>0.068892</td>\n",
       "      <td>0.035379</td>\n",
       "      <td>0.0</td>\n",
       "    </tr>\n",
       "    <tr>\n",
       "      <th>6</th>\n",
       "      <td>0.169566</td>\n",
       "      <td>0.169580</td>\n",
       "      <td>0.164455</td>\n",
       "      <td>0.259656</td>\n",
       "      <td>0.297494</td>\n",
       "      <td>0.0</td>\n",
       "    </tr>\n",
       "    <tr>\n",
       "      <th>7</th>\n",
       "      <td>0.168892</td>\n",
       "      <td>0.159171</td>\n",
       "      <td>0.153470</td>\n",
       "      <td>0.022967</td>\n",
       "      <td>0.028510</td>\n",
       "      <td>0.0</td>\n",
       "    </tr>\n",
       "    <tr>\n",
       "      <th>8</th>\n",
       "      <td>0.169566</td>\n",
       "      <td>0.169580</td>\n",
       "      <td>0.155573</td>\n",
       "      <td>0.313329</td>\n",
       "      <td>0.278074</td>\n",
       "      <td>0.0</td>\n",
       "    </tr>\n",
       "    <tr>\n",
       "      <th>9</th>\n",
       "      <td>0.169566</td>\n",
       "      <td>0.169580</td>\n",
       "      <td>0.155272</td>\n",
       "      <td>0.388862</td>\n",
       "      <td>0.396243</td>\n",
       "      <td>0.0</td>\n",
       "    </tr>\n",
       "  </tbody>\n",
       "</table>\n",
       "</div>"
      ],
      "text/plain": [
       "   B_cat_xgb     B_cat    A_hour  A_cat_xgb     A_cat  click\n",
       "0   0.169566  0.169580  0.171241   0.193547  0.184669    0.0\n",
       "1   0.169566  0.169580  0.164619   0.116275  0.151759    1.0\n",
       "2   0.169566  0.169580  0.161582   0.055302  0.028431    0.0\n",
       "3   0.169566  0.169580  0.146487   0.068892  0.087226    0.0\n",
       "4   0.169566  0.169580  0.155272   0.159725  0.186658    1.0\n",
       "5   0.169566  0.169580  0.168845   0.068892  0.035379    0.0\n",
       "6   0.169566  0.169580  0.164455   0.259656  0.297494    0.0\n",
       "7   0.168892  0.159171  0.153470   0.022967  0.028510    0.0\n",
       "8   0.169566  0.169580  0.155573   0.313329  0.278074    0.0\n",
       "9   0.169566  0.169580  0.155272   0.388862  0.396243    0.0"
      ]
     },
     "execution_count": 55,
     "metadata": {},
     "output_type": "execute_result"
    }
   ],
   "source": [
    "merge_all[:10]"
   ]
  },
  {
   "cell_type": "raw",
   "metadata": {
    "ExecuteTime": {
     "end_time": "2018-07-07T13:03:31.259964Z",
     "start_time": "2018-07-07T12:49:07.008251Z"
    }
   },
   "source": [
    "print('Load Data')\n",
    "X_train = ss.load_npz(output_path+'{0}_X_{1}_all.npz'.format(file_name, onehot_name), )\n",
    "\n",
    "y_train = ss.load_npz(output_path+'{0}_y_{1}_all.npz'.format(file_name, onehot_name), )\n",
    "y_train = y_train.toarray().astype(np.float32)[0]\n",
    "# 先转成np.array, 把数据类型转为np.float32(此时为2维数组shape(1,n)), 转为1-D np.arrar\n",
    "# 2维数组shape(m,n)适用于多分类问题, 在二分类中不适用\n",
    "\n",
    "c=0.01\n",
    "\n",
    "#导入模型\n",
    "\n",
    "lr= LogisticRegression(multi_class='ovr', penalty='l2', solver='sag', C=c, n_jobs=-1)\n",
    "\n",
    "#开始训练\n",
    "start_time = time.time()\n",
    "print('training . . . ')\n",
    "lr.fit(X_train, y_train, )\n",
    "print('cost time:{0}'.format(int(time.time() - start_time)))\n",
    "\n",
    "#保存模型\n",
    "#joblib.dump(lr, model_path+'LR_sklearn.model')\n",
    "\n",
    "#进行评价\n",
    "train_preds = lr.predict_proba(X_train)[:,1]\n",
    "train_predictions = np.around(train_preds)\n",
    "\n",
    "train_accuracy = accuracy_score(y_train, train_predictions)\n",
    "print (\"Train Accuary: %.2f%%\" % (train_accuracy * 100.0))\n",
    "train_log_loss = log_loss(y_train, train_preds)\n",
    "print (\"Train log_loss: \" , train_log_loss)\n",
    "\n",
    "\n",
    "#保存模型\n",
    "joblib.dump(lr, model_path+'LR_C{0}_{1}.sklearn'.format(c,onehot_name))\n"
   ]
  },
  {
   "cell_type": "markdown",
   "metadata": {},
   "source": [
    "# A_his"
   ]
  },
  {
   "cell_type": "code",
   "execution_count": 56,
   "metadata": {
    "ExecuteTime": {
     "end_time": "2018-07-07T13:40:12.521111Z",
     "start_time": "2018-07-07T13:40:12.504124Z"
    },
    "collapsed": true
   },
   "outputs": [],
   "source": [
    "FLAGS = flags('minitrain', 'Onehot_A')\n",
    "PARAMS = params('A_his')  \n",
    "\n",
    "file_name = FLAGS.file_name\n",
    "onehot_name = PARAMS.onehot_name\n",
    "output_path = FLAGS.output_dir\n",
    "model_path = FLAGS.model_dir"
   ]
  },
  {
   "cell_type": "code",
   "execution_count": 57,
   "metadata": {
    "ExecuteTime": {
     "end_time": "2018-07-07T13:40:13.905144Z",
     "start_time": "2018-07-07T13:40:12.895177Z"
    },
    "collapsed": false
   },
   "outputs": [
    {
     "name": "stdout",
     "output_type": "stream",
     "text": [
      "Load Data\n",
      "training . . . \n",
      "cost time:0\n"
     ]
    }
   ],
   "source": [
    "print('Load Data')\n",
    "X_train = ss.load_npz(output_path+'{0}_X_{1}_all.npz'.format(file_name, onehot_name), )\n",
    "\n",
    "y_train = ss.load_npz(output_path+'{0}_y_{1}_all.npz'.format(file_name, onehot_name), )\n",
    "y_train = y_train.toarray().astype(np.float32)[0]\n",
    "# 先转成np.array, 把数据类型转为np.float32(此时为2维数组shape(1,n)), 转为1-D np.arrar\n",
    "# 2维数组shape(m,n)适用于多分类问题, 在二分类中不适用\n",
    "\n",
    "c=0.01\n",
    "\n",
    "#导入模型\n",
    "lr = joblib.load(model_path+'LR_C{0}_{1}.sklearn'.format(c,onehot_name))\n",
    "#lr= LogisticRegression(multi_class='ovr', penalty='l2', solver='sag', C=c, n_jobs=-1)\n",
    "\n",
    "#开始训练\n",
    "start_time = time.time()\n",
    "print('training . . . ')\n",
    "#lr.fit(X_train, y_train, )\n",
    "print('cost time:{0}'.format(int(time.time() - start_time)))\n",
    "\n",
    "#保存模型\n",
    "#joblib.dump(lr, model_path+'LR_sklearn.model')\n",
    "\n",
    "#进行评价\n",
    "train_preds = lr.predict_proba(X_train)[:,1]\n",
    "#train_predictions = np.around(train_preds)\n",
    "\n",
    "#拼接数据\n",
    "merge_all.insert(loc=0, column=onehot_name, value=train_preds)"
   ]
  },
  {
   "cell_type": "code",
   "execution_count": 58,
   "metadata": {
    "ExecuteTime": {
     "end_time": "2018-07-07T13:40:27.363260Z",
     "start_time": "2018-07-07T13:40:27.341275Z"
    },
    "collapsed": false
   },
   "outputs": [
    {
     "data": {
      "text/html": [
       "<div>\n",
       "<style scoped>\n",
       "    .dataframe tbody tr th:only-of-type {\n",
       "        vertical-align: middle;\n",
       "    }\n",
       "\n",
       "    .dataframe tbody tr th {\n",
       "        vertical-align: top;\n",
       "    }\n",
       "\n",
       "    .dataframe thead th {\n",
       "        text-align: right;\n",
       "    }\n",
       "</style>\n",
       "<table border=\"1\" class=\"dataframe\">\n",
       "  <thead>\n",
       "    <tr style=\"text-align: right;\">\n",
       "      <th></th>\n",
       "      <th>A_his</th>\n",
       "      <th>B_cat_xgb</th>\n",
       "      <th>B_cat</th>\n",
       "      <th>A_hour</th>\n",
       "      <th>A_cat_xgb</th>\n",
       "      <th>A_cat</th>\n",
       "      <th>click</th>\n",
       "    </tr>\n",
       "  </thead>\n",
       "  <tbody>\n",
       "    <tr>\n",
       "      <th>0</th>\n",
       "      <td>0.172588</td>\n",
       "      <td>0.169566</td>\n",
       "      <td>0.169580</td>\n",
       "      <td>0.171241</td>\n",
       "      <td>0.193547</td>\n",
       "      <td>0.184669</td>\n",
       "      <td>0.0</td>\n",
       "    </tr>\n",
       "    <tr>\n",
       "      <th>1</th>\n",
       "      <td>0.172588</td>\n",
       "      <td>0.169566</td>\n",
       "      <td>0.169580</td>\n",
       "      <td>0.164619</td>\n",
       "      <td>0.116275</td>\n",
       "      <td>0.151759</td>\n",
       "      <td>1.0</td>\n",
       "    </tr>\n",
       "    <tr>\n",
       "      <th>2</th>\n",
       "      <td>0.172588</td>\n",
       "      <td>0.169566</td>\n",
       "      <td>0.169580</td>\n",
       "      <td>0.161582</td>\n",
       "      <td>0.055302</td>\n",
       "      <td>0.028431</td>\n",
       "      <td>0.0</td>\n",
       "    </tr>\n",
       "    <tr>\n",
       "      <th>3</th>\n",
       "      <td>0.172588</td>\n",
       "      <td>0.169566</td>\n",
       "      <td>0.169580</td>\n",
       "      <td>0.146487</td>\n",
       "      <td>0.068892</td>\n",
       "      <td>0.087226</td>\n",
       "      <td>0.0</td>\n",
       "    </tr>\n",
       "    <tr>\n",
       "      <th>4</th>\n",
       "      <td>0.172588</td>\n",
       "      <td>0.169566</td>\n",
       "      <td>0.169580</td>\n",
       "      <td>0.155272</td>\n",
       "      <td>0.159725</td>\n",
       "      <td>0.186658</td>\n",
       "      <td>1.0</td>\n",
       "    </tr>\n",
       "    <tr>\n",
       "      <th>5</th>\n",
       "      <td>0.172588</td>\n",
       "      <td>0.169566</td>\n",
       "      <td>0.169580</td>\n",
       "      <td>0.168845</td>\n",
       "      <td>0.068892</td>\n",
       "      <td>0.035379</td>\n",
       "      <td>0.0</td>\n",
       "    </tr>\n",
       "    <tr>\n",
       "      <th>6</th>\n",
       "      <td>0.172588</td>\n",
       "      <td>0.169566</td>\n",
       "      <td>0.169580</td>\n",
       "      <td>0.164455</td>\n",
       "      <td>0.259656</td>\n",
       "      <td>0.297494</td>\n",
       "      <td>0.0</td>\n",
       "    </tr>\n",
       "    <tr>\n",
       "      <th>7</th>\n",
       "      <td>0.172588</td>\n",
       "      <td>0.168892</td>\n",
       "      <td>0.159171</td>\n",
       "      <td>0.153470</td>\n",
       "      <td>0.022967</td>\n",
       "      <td>0.028510</td>\n",
       "      <td>0.0</td>\n",
       "    </tr>\n",
       "    <tr>\n",
       "      <th>8</th>\n",
       "      <td>0.172588</td>\n",
       "      <td>0.169566</td>\n",
       "      <td>0.169580</td>\n",
       "      <td>0.155573</td>\n",
       "      <td>0.313329</td>\n",
       "      <td>0.278074</td>\n",
       "      <td>0.0</td>\n",
       "    </tr>\n",
       "    <tr>\n",
       "      <th>9</th>\n",
       "      <td>0.172588</td>\n",
       "      <td>0.169566</td>\n",
       "      <td>0.169580</td>\n",
       "      <td>0.155272</td>\n",
       "      <td>0.388862</td>\n",
       "      <td>0.396243</td>\n",
       "      <td>0.0</td>\n",
       "    </tr>\n",
       "  </tbody>\n",
       "</table>\n",
       "</div>"
      ],
      "text/plain": [
       "      A_his  B_cat_xgb     B_cat    A_hour  A_cat_xgb     A_cat  click\n",
       "0  0.172588   0.169566  0.169580  0.171241   0.193547  0.184669    0.0\n",
       "1  0.172588   0.169566  0.169580  0.164619   0.116275  0.151759    1.0\n",
       "2  0.172588   0.169566  0.169580  0.161582   0.055302  0.028431    0.0\n",
       "3  0.172588   0.169566  0.169580  0.146487   0.068892  0.087226    0.0\n",
       "4  0.172588   0.169566  0.169580  0.155272   0.159725  0.186658    1.0\n",
       "5  0.172588   0.169566  0.169580  0.168845   0.068892  0.035379    0.0\n",
       "6  0.172588   0.169566  0.169580  0.164455   0.259656  0.297494    0.0\n",
       "7  0.172588   0.168892  0.159171  0.153470   0.022967  0.028510    0.0\n",
       "8  0.172588   0.169566  0.169580  0.155573   0.313329  0.278074    0.0\n",
       "9  0.172588   0.169566  0.169580  0.155272   0.388862  0.396243    0.0"
      ]
     },
     "execution_count": 58,
     "metadata": {},
     "output_type": "execute_result"
    }
   ],
   "source": [
    "merge_all[:10]"
   ]
  },
  {
   "cell_type": "markdown",
   "metadata": {
    "collapsed": true
   },
   "source": [
    "# A_cat"
   ]
  },
  {
   "cell_type": "code",
   "execution_count": 59,
   "metadata": {
    "ExecuteTime": {
     "end_time": "2018-07-07T13:48:13.609565Z",
     "start_time": "2018-07-07T13:48:13.596576Z"
    },
    "collapsed": false
   },
   "outputs": [],
   "source": [
    "import xgboost as xgb"
   ]
  },
  {
   "cell_type": "code",
   "execution_count": 60,
   "metadata": {
    "ExecuteTime": {
     "end_time": "2018-07-07T13:47:26.737761Z",
     "start_time": "2018-07-07T13:47:26.729764Z"
    },
    "collapsed": true
   },
   "outputs": [],
   "source": [
    "FLAGS = flags('minitrain', 'Onehot_A')\n",
    "PARAMS = params('A_cat')  \n",
    "\n",
    "file_name = FLAGS.file_name\n",
    "onehot_name = PARAMS.onehot_name\n",
    "output_path = FLAGS.output_dir\n",
    "model_path = FLAGS.model_dir"
   ]
  },
  {
   "cell_type": "code",
   "execution_count": 61,
   "metadata": {
    "ExecuteTime": {
     "end_time": "2018-07-07T13:47:28.125229Z",
     "start_time": "2018-07-07T13:47:27.621800Z"
    },
    "collapsed": false,
    "scrolled": true
   },
   "outputs": [
    {
     "name": "stdout",
     "output_type": "stream",
     "text": [
      "Load Data\n",
      "training . . . \n",
      "cost time:2\n"
     ]
    }
   ],
   "source": [
    "#导入数据\n",
    "print('Load Data')\n",
    "X_train = ss.load_npz(output_path+'{0}_X_{1}_all.npz'.format(file_name, onehot_name), )\n",
    "\n",
    "y_train = ss.load_npz(output_path+'{0}_y_{1}_all.npz'.format(file_name, onehot_name), )\n",
    "y_train = y_train.toarray().astype(np.float32)[0]\n",
    "# 先转成np.array, 把数据类型转为np.float32(此时为2维数组shape(1,n)), 转为1-D np.arrar\n",
    "# 2维数组shape(m,n)适用于多分类问题, 在二分类中不适用\n",
    "xgtrain = xgb.DMatrix(X_train, label = y_train,)\n",
    "\n",
    "#设置参数, 开始训练\n",
    "start_time = time.time()\n",
    "print('training . . . ')\n",
    "\n",
    "num_trees = 50\n",
    "deep = 9\n",
    "\n",
    "bst_train = xgb.Booster(model_file=model_path + 'tree{0}_deep{1}_{2}.xgboost'.format(num_trees, deep, onehot_name))\n",
    "\n",
    "train_preds = bst_train.predict(xgtrain)\n",
    "print('cost time:{0}'.format(int(time.time() - start_time)))\n",
    "\n",
    "#拼接数据\n",
    "merge_all.insert(loc=0, column=onehot_name+'_xgboost', value=train_preds)"
   ]
  },
  {
   "cell_type": "code",
   "execution_count": 62,
   "metadata": {
    "collapsed": false
   },
   "outputs": [
    {
     "data": {
      "text/html": [
       "<div>\n",
       "<style scoped>\n",
       "    .dataframe tbody tr th:only-of-type {\n",
       "        vertical-align: middle;\n",
       "    }\n",
       "\n",
       "    .dataframe tbody tr th {\n",
       "        vertical-align: top;\n",
       "    }\n",
       "\n",
       "    .dataframe thead th {\n",
       "        text-align: right;\n",
       "    }\n",
       "</style>\n",
       "<table border=\"1\" class=\"dataframe\">\n",
       "  <thead>\n",
       "    <tr style=\"text-align: right;\">\n",
       "      <th></th>\n",
       "      <th>A_cat_xgboost</th>\n",
       "      <th>A_his</th>\n",
       "      <th>B_cat_xgb</th>\n",
       "      <th>B_cat</th>\n",
       "      <th>A_hour</th>\n",
       "      <th>A_cat_xgb</th>\n",
       "      <th>A_cat</th>\n",
       "      <th>click</th>\n",
       "    </tr>\n",
       "  </thead>\n",
       "  <tbody>\n",
       "    <tr>\n",
       "      <th>0</th>\n",
       "      <td>0.162602</td>\n",
       "      <td>0.172588</td>\n",
       "      <td>0.169566</td>\n",
       "      <td>0.169580</td>\n",
       "      <td>0.171241</td>\n",
       "      <td>0.193547</td>\n",
       "      <td>0.184669</td>\n",
       "      <td>0.0</td>\n",
       "    </tr>\n",
       "    <tr>\n",
       "      <th>1</th>\n",
       "      <td>0.115767</td>\n",
       "      <td>0.172588</td>\n",
       "      <td>0.169566</td>\n",
       "      <td>0.169580</td>\n",
       "      <td>0.164619</td>\n",
       "      <td>0.116275</td>\n",
       "      <td>0.151759</td>\n",
       "      <td>1.0</td>\n",
       "    </tr>\n",
       "    <tr>\n",
       "      <th>2</th>\n",
       "      <td>0.036840</td>\n",
       "      <td>0.172588</td>\n",
       "      <td>0.169566</td>\n",
       "      <td>0.169580</td>\n",
       "      <td>0.161582</td>\n",
       "      <td>0.055302</td>\n",
       "      <td>0.028431</td>\n",
       "      <td>0.0</td>\n",
       "    </tr>\n",
       "    <tr>\n",
       "      <th>3</th>\n",
       "      <td>0.059306</td>\n",
       "      <td>0.172588</td>\n",
       "      <td>0.169566</td>\n",
       "      <td>0.169580</td>\n",
       "      <td>0.146487</td>\n",
       "      <td>0.068892</td>\n",
       "      <td>0.087226</td>\n",
       "      <td>0.0</td>\n",
       "    </tr>\n",
       "    <tr>\n",
       "      <th>4</th>\n",
       "      <td>0.165730</td>\n",
       "      <td>0.172588</td>\n",
       "      <td>0.169566</td>\n",
       "      <td>0.169580</td>\n",
       "      <td>0.155272</td>\n",
       "      <td>0.159725</td>\n",
       "      <td>0.186658</td>\n",
       "      <td>1.0</td>\n",
       "    </tr>\n",
       "    <tr>\n",
       "      <th>5</th>\n",
       "      <td>0.059306</td>\n",
       "      <td>0.172588</td>\n",
       "      <td>0.169566</td>\n",
       "      <td>0.169580</td>\n",
       "      <td>0.168845</td>\n",
       "      <td>0.068892</td>\n",
       "      <td>0.035379</td>\n",
       "      <td>0.0</td>\n",
       "    </tr>\n",
       "    <tr>\n",
       "      <th>6</th>\n",
       "      <td>0.212613</td>\n",
       "      <td>0.172588</td>\n",
       "      <td>0.169566</td>\n",
       "      <td>0.169580</td>\n",
       "      <td>0.164455</td>\n",
       "      <td>0.259656</td>\n",
       "      <td>0.297494</td>\n",
       "      <td>0.0</td>\n",
       "    </tr>\n",
       "    <tr>\n",
       "      <th>7</th>\n",
       "      <td>0.028032</td>\n",
       "      <td>0.172588</td>\n",
       "      <td>0.168892</td>\n",
       "      <td>0.159171</td>\n",
       "      <td>0.153470</td>\n",
       "      <td>0.022967</td>\n",
       "      <td>0.028510</td>\n",
       "      <td>0.0</td>\n",
       "    </tr>\n",
       "    <tr>\n",
       "      <th>8</th>\n",
       "      <td>0.300001</td>\n",
       "      <td>0.172588</td>\n",
       "      <td>0.169566</td>\n",
       "      <td>0.169580</td>\n",
       "      <td>0.155573</td>\n",
       "      <td>0.313329</td>\n",
       "      <td>0.278074</td>\n",
       "      <td>0.0</td>\n",
       "    </tr>\n",
       "    <tr>\n",
       "      <th>9</th>\n",
       "      <td>0.335770</td>\n",
       "      <td>0.172588</td>\n",
       "      <td>0.169566</td>\n",
       "      <td>0.169580</td>\n",
       "      <td>0.155272</td>\n",
       "      <td>0.388862</td>\n",
       "      <td>0.396243</td>\n",
       "      <td>0.0</td>\n",
       "    </tr>\n",
       "  </tbody>\n",
       "</table>\n",
       "</div>"
      ],
      "text/plain": [
       "   A_cat_xgboost     A_his  B_cat_xgb     B_cat    A_hour  A_cat_xgb  \\\n",
       "0       0.162602  0.172588   0.169566  0.169580  0.171241   0.193547   \n",
       "1       0.115767  0.172588   0.169566  0.169580  0.164619   0.116275   \n",
       "2       0.036840  0.172588   0.169566  0.169580  0.161582   0.055302   \n",
       "3       0.059306  0.172588   0.169566  0.169580  0.146487   0.068892   \n",
       "4       0.165730  0.172588   0.169566  0.169580  0.155272   0.159725   \n",
       "5       0.059306  0.172588   0.169566  0.169580  0.168845   0.068892   \n",
       "6       0.212613  0.172588   0.169566  0.169580  0.164455   0.259656   \n",
       "7       0.028032  0.172588   0.168892  0.159171  0.153470   0.022967   \n",
       "8       0.300001  0.172588   0.169566  0.169580  0.155573   0.313329   \n",
       "9       0.335770  0.172588   0.169566  0.169580  0.155272   0.388862   \n",
       "\n",
       "      A_cat  click  \n",
       "0  0.184669    0.0  \n",
       "1  0.151759    1.0  \n",
       "2  0.028431    0.0  \n",
       "3  0.087226    0.0  \n",
       "4  0.186658    1.0  \n",
       "5  0.035379    0.0  \n",
       "6  0.297494    0.0  \n",
       "7  0.028510    0.0  \n",
       "8  0.278074    0.0  \n",
       "9  0.396243    0.0  "
      ]
     },
     "execution_count": 62,
     "metadata": {},
     "output_type": "execute_result"
    }
   ],
   "source": [
    "merge_all[:10]"
   ]
  },
  {
   "cell_type": "markdown",
   "metadata": {
    "collapsed": true
   },
   "source": [
    "# B_cat"
   ]
  },
  {
   "cell_type": "code",
   "execution_count": 63,
   "metadata": {
    "ExecuteTime": {
     "end_time": "2018-07-07T13:47:26.737761Z",
     "start_time": "2018-07-07T13:47:26.729764Z"
    },
    "collapsed": true
   },
   "outputs": [],
   "source": [
    "FLAGS = flags('minitrain', 'Onehot_B')\n",
    "PARAMS = params('B_cat')  \n",
    "\n",
    "file_name = FLAGS.file_name\n",
    "onehot_name = PARAMS.onehot_name\n",
    "output_path = FLAGS.output_dir\n",
    "model_path = FLAGS.model_dir"
   ]
  },
  {
   "cell_type": "code",
   "execution_count": 64,
   "metadata": {
    "ExecuteTime": {
     "end_time": "2018-07-07T13:47:28.125229Z",
     "start_time": "2018-07-07T13:47:27.621800Z"
    },
    "collapsed": false
   },
   "outputs": [
    {
     "name": "stdout",
     "output_type": "stream",
     "text": [
      "Load Data\n",
      "training . . . \n",
      "cost time:1\n"
     ]
    }
   ],
   "source": [
    "#导入数据\n",
    "print('Load Data')\n",
    "X_train = ss.load_npz(output_path+'{0}_X_{1}_all.npz'.format(file_name, onehot_name), )\n",
    "\n",
    "y_train = ss.load_npz(output_path+'{0}_y_{1}_all.npz'.format(file_name, onehot_name), )\n",
    "y_train = y_train.toarray().astype(np.float32)[0]\n",
    "# 先转成np.array, 把数据类型转为np.float32(此时为2维数组shape(1,n)), 转为1-D np.arrar\n",
    "# 2维数组shape(m,n)适用于多分类问题, 在二分类中不适用\n",
    "xgtrain = xgb.DMatrix(X_train, label = y_train,)\n",
    "\n",
    "#设置参数, 开始训练\n",
    "start_time = time.time()\n",
    "print('training . . . ')\n",
    "\n",
    "num_trees = 50\n",
    "deep = 9\n",
    "\n",
    "bst_train = xgb.Booster(model_file=model_path + 'tree{0}_deep{1}_{2}.xgboost'.format(num_trees, deep, onehot_name))\n",
    "\n",
    "train_preds = bst_train.predict(xgtrain,)\n",
    "print('cost time:{0}'.format(int(time.time() - start_time)))\n",
    "\n",
    "#拼接数据\n",
    "merge_all.insert(loc=0, column=onehot_name+'_xgboost', value=train_preds)"
   ]
  },
  {
   "cell_type": "code",
   "execution_count": 65,
   "metadata": {
    "collapsed": false
   },
   "outputs": [
    {
     "data": {
      "text/html": [
       "<div>\n",
       "<style scoped>\n",
       "    .dataframe tbody tr th:only-of-type {\n",
       "        vertical-align: middle;\n",
       "    }\n",
       "\n",
       "    .dataframe tbody tr th {\n",
       "        vertical-align: top;\n",
       "    }\n",
       "\n",
       "    .dataframe thead th {\n",
       "        text-align: right;\n",
       "    }\n",
       "</style>\n",
       "<table border=\"1\" class=\"dataframe\">\n",
       "  <thead>\n",
       "    <tr style=\"text-align: right;\">\n",
       "      <th></th>\n",
       "      <th>B_cat_xgboost</th>\n",
       "      <th>A_cat_xgboost</th>\n",
       "      <th>A_his</th>\n",
       "      <th>B_cat_xgb</th>\n",
       "      <th>B_cat</th>\n",
       "      <th>A_hour</th>\n",
       "      <th>A_cat_xgb</th>\n",
       "      <th>A_cat</th>\n",
       "      <th>click</th>\n",
       "    </tr>\n",
       "  </thead>\n",
       "  <tbody>\n",
       "    <tr>\n",
       "      <th>0</th>\n",
       "      <td>0.169597</td>\n",
       "      <td>0.162602</td>\n",
       "      <td>0.172588</td>\n",
       "      <td>0.169566</td>\n",
       "      <td>0.169580</td>\n",
       "      <td>0.171241</td>\n",
       "      <td>0.193547</td>\n",
       "      <td>0.184669</td>\n",
       "      <td>0.0</td>\n",
       "    </tr>\n",
       "    <tr>\n",
       "      <th>1</th>\n",
       "      <td>0.169597</td>\n",
       "      <td>0.115767</td>\n",
       "      <td>0.172588</td>\n",
       "      <td>0.169566</td>\n",
       "      <td>0.169580</td>\n",
       "      <td>0.164619</td>\n",
       "      <td>0.116275</td>\n",
       "      <td>0.151759</td>\n",
       "      <td>1.0</td>\n",
       "    </tr>\n",
       "    <tr>\n",
       "      <th>2</th>\n",
       "      <td>0.169597</td>\n",
       "      <td>0.036840</td>\n",
       "      <td>0.172588</td>\n",
       "      <td>0.169566</td>\n",
       "      <td>0.169580</td>\n",
       "      <td>0.161582</td>\n",
       "      <td>0.055302</td>\n",
       "      <td>0.028431</td>\n",
       "      <td>0.0</td>\n",
       "    </tr>\n",
       "    <tr>\n",
       "      <th>3</th>\n",
       "      <td>0.169597</td>\n",
       "      <td>0.059306</td>\n",
       "      <td>0.172588</td>\n",
       "      <td>0.169566</td>\n",
       "      <td>0.169580</td>\n",
       "      <td>0.146487</td>\n",
       "      <td>0.068892</td>\n",
       "      <td>0.087226</td>\n",
       "      <td>0.0</td>\n",
       "    </tr>\n",
       "    <tr>\n",
       "      <th>4</th>\n",
       "      <td>0.169597</td>\n",
       "      <td>0.165730</td>\n",
       "      <td>0.172588</td>\n",
       "      <td>0.169566</td>\n",
       "      <td>0.169580</td>\n",
       "      <td>0.155272</td>\n",
       "      <td>0.159725</td>\n",
       "      <td>0.186658</td>\n",
       "      <td>1.0</td>\n",
       "    </tr>\n",
       "    <tr>\n",
       "      <th>5</th>\n",
       "      <td>0.169597</td>\n",
       "      <td>0.059306</td>\n",
       "      <td>0.172588</td>\n",
       "      <td>0.169566</td>\n",
       "      <td>0.169580</td>\n",
       "      <td>0.168845</td>\n",
       "      <td>0.068892</td>\n",
       "      <td>0.035379</td>\n",
       "      <td>0.0</td>\n",
       "    </tr>\n",
       "    <tr>\n",
       "      <th>6</th>\n",
       "      <td>0.169597</td>\n",
       "      <td>0.212613</td>\n",
       "      <td>0.172588</td>\n",
       "      <td>0.169566</td>\n",
       "      <td>0.169580</td>\n",
       "      <td>0.164455</td>\n",
       "      <td>0.259656</td>\n",
       "      <td>0.297494</td>\n",
       "      <td>0.0</td>\n",
       "    </tr>\n",
       "    <tr>\n",
       "      <th>7</th>\n",
       "      <td>0.168782</td>\n",
       "      <td>0.028032</td>\n",
       "      <td>0.172588</td>\n",
       "      <td>0.168892</td>\n",
       "      <td>0.159171</td>\n",
       "      <td>0.153470</td>\n",
       "      <td>0.022967</td>\n",
       "      <td>0.028510</td>\n",
       "      <td>0.0</td>\n",
       "    </tr>\n",
       "    <tr>\n",
       "      <th>8</th>\n",
       "      <td>0.169597</td>\n",
       "      <td>0.300001</td>\n",
       "      <td>0.172588</td>\n",
       "      <td>0.169566</td>\n",
       "      <td>0.169580</td>\n",
       "      <td>0.155573</td>\n",
       "      <td>0.313329</td>\n",
       "      <td>0.278074</td>\n",
       "      <td>0.0</td>\n",
       "    </tr>\n",
       "    <tr>\n",
       "      <th>9</th>\n",
       "      <td>0.169597</td>\n",
       "      <td>0.335770</td>\n",
       "      <td>0.172588</td>\n",
       "      <td>0.169566</td>\n",
       "      <td>0.169580</td>\n",
       "      <td>0.155272</td>\n",
       "      <td>0.388862</td>\n",
       "      <td>0.396243</td>\n",
       "      <td>0.0</td>\n",
       "    </tr>\n",
       "  </tbody>\n",
       "</table>\n",
       "</div>"
      ],
      "text/plain": [
       "   B_cat_xgboost  A_cat_xgboost     A_his  B_cat_xgb     B_cat    A_hour  \\\n",
       "0       0.169597       0.162602  0.172588   0.169566  0.169580  0.171241   \n",
       "1       0.169597       0.115767  0.172588   0.169566  0.169580  0.164619   \n",
       "2       0.169597       0.036840  0.172588   0.169566  0.169580  0.161582   \n",
       "3       0.169597       0.059306  0.172588   0.169566  0.169580  0.146487   \n",
       "4       0.169597       0.165730  0.172588   0.169566  0.169580  0.155272   \n",
       "5       0.169597       0.059306  0.172588   0.169566  0.169580  0.168845   \n",
       "6       0.169597       0.212613  0.172588   0.169566  0.169580  0.164455   \n",
       "7       0.168782       0.028032  0.172588   0.168892  0.159171  0.153470   \n",
       "8       0.169597       0.300001  0.172588   0.169566  0.169580  0.155573   \n",
       "9       0.169597       0.335770  0.172588   0.169566  0.169580  0.155272   \n",
       "\n",
       "   A_cat_xgb     A_cat  click  \n",
       "0   0.193547  0.184669    0.0  \n",
       "1   0.116275  0.151759    1.0  \n",
       "2   0.055302  0.028431    0.0  \n",
       "3   0.068892  0.087226    0.0  \n",
       "4   0.159725  0.186658    1.0  \n",
       "5   0.068892  0.035379    0.0  \n",
       "6   0.259656  0.297494    0.0  \n",
       "7   0.022967  0.028510    0.0  \n",
       "8   0.313329  0.278074    0.0  \n",
       "9   0.388862  0.396243    0.0  "
      ]
     },
     "execution_count": 65,
     "metadata": {},
     "output_type": "execute_result"
    }
   ],
   "source": [
    "merge_all[:10]"
   ]
  },
  {
   "cell_type": "markdown",
   "metadata": {},
   "source": [
    "# 合并"
   ]
  },
  {
   "cell_type": "code",
   "execution_count": 66,
   "metadata": {
    "collapsed": false
   },
   "outputs": [
    {
     "name": "stdout",
     "output_type": "stream",
     "text": [
      "<class 'pandas.core.frame.DataFrame'>\n",
      "Int64Index: 4042898 entries, 0 to 4042897\n",
      "Data columns (total 9 columns):\n",
      "B_cat_xgboost    float32\n",
      "A_cat_xgboost    float32\n",
      "A_his            float64\n",
      "B_cat_xgb        float64\n",
      "B_cat            float64\n",
      "A_hour           float64\n",
      "A_cat_xgb        float64\n",
      "A_cat            float64\n",
      "click            float32\n",
      "dtypes: float32(3), float64(6)\n",
      "memory usage: 262.2 MB\n"
     ]
    }
   ],
   "source": [
    "merge_all.info()"
   ]
  },
  {
   "cell_type": "code",
   "execution_count": 68,
   "metadata": {
    "collapsed": true
   },
   "outputs": [],
   "source": [
    "X_train = merge_all.iloc[:,:-1]\n",
    "y_train = merge_all.iloc[:,-1]"
   ]
  },
  {
   "cell_type": "code",
   "execution_count": 70,
   "metadata": {
    "collapsed": true
   },
   "outputs": [],
   "source": [
    "#需要调优的参数\n",
    "# 请尝试将L1正则和L2正则分开，并配合合适的优化求解算法（slover）\n",
    "#tuned_parameters = {'penalty':['l1','l2'],\n",
    "#                   'C': [0.001, 0.01, 0.1, 1, 10, 100, 1000]\n",
    "#                   }\n",
    "solvers = ['sag','saga']\n",
    "Cs = [ 0.01, 0.1, 1, 10, 100, ]\n",
    "tuned_parameters = dict(solver = solvers, C = Cs)\n",
    "\n",
    "lr_penalty= LogisticRegression()\n",
    "grid= GridSearchCV(lr_penalty, tuned_parameters,cv=3, scoring='neg_log_loss')"
   ]
  },
  {
   "cell_type": "code",
   "execution_count": 71,
   "metadata": {
    "collapsed": false
   },
   "outputs": [
    {
     "name": "stderr",
     "output_type": "stream",
     "text": [
      "/home/zhou/anaconda3/lib/python3.5/site-packages/sklearn/utils/deprecation.py:122: FutureWarning: You are accessing a training score ('mean_train_score'), which will not be available by default any more in 0.21. If you need training scores, please set return_train_score=True\n",
      "  warnings.warn(*warn_args, **warn_kwargs)\n",
      "/home/zhou/anaconda3/lib/python3.5/site-packages/sklearn/utils/deprecation.py:122: FutureWarning: You are accessing a training score ('split0_train_score'), which will not be available by default any more in 0.21. If you need training scores, please set return_train_score=True\n",
      "  warnings.warn(*warn_args, **warn_kwargs)\n",
      "/home/zhou/anaconda3/lib/python3.5/site-packages/sklearn/utils/deprecation.py:122: FutureWarning: You are accessing a training score ('split1_train_score'), which will not be available by default any more in 0.21. If you need training scores, please set return_train_score=True\n",
      "  warnings.warn(*warn_args, **warn_kwargs)\n",
      "/home/zhou/anaconda3/lib/python3.5/site-packages/sklearn/utils/deprecation.py:122: FutureWarning: You are accessing a training score ('split2_train_score'), which will not be available by default any more in 0.21. If you need training scores, please set return_train_score=True\n",
      "  warnings.warn(*warn_args, **warn_kwargs)\n",
      "/home/zhou/anaconda3/lib/python3.5/site-packages/sklearn/utils/deprecation.py:122: FutureWarning: You are accessing a training score ('std_train_score'), which will not be available by default any more in 0.21. If you need training scores, please set return_train_score=True\n",
      "  warnings.warn(*warn_args, **warn_kwargs)\n"
     ]
    },
    {
     "data": {
      "text/plain": [
       "{'mean_fit_time': array([ 23.87565573,  31.66397381,  27.03615912,  27.17015958,\n",
       "         36.75948723,  30.29519407,  39.3010269 ,  52.46356757,\n",
       "         42.15218798,  62.94082761]),\n",
       " 'mean_score_time': array([ 0.60379656,  0.61651738,  0.62121439,  0.62269958,  0.6039269 ,\n",
       "         0.61569357,  0.62351576,  0.59850152,  0.59500376,  0.59340556]),\n",
       " 'mean_test_score': array([-0.39149532, -0.39149278, -0.38927864, -0.38928104, -0.38909571,\n",
       "        -0.38909964, -0.38909956, -0.3891011 , -0.38910116, -0.38910243]),\n",
       " 'mean_train_score': array([-0.3912609 , -0.39126094, -0.38899101, -0.38899091, -0.38879333,\n",
       "        -0.3887933 , -0.38878945, -0.38878942, -0.38878933, -0.38878932]),\n",
       " 'param_C': masked_array(data = [0.01 0.01 0.1 0.1 1 1 10 10 100 100],\n",
       "              mask = [False False False False False False False False False False],\n",
       "        fill_value = ?),\n",
       " 'param_solver': masked_array(data = ['sag' 'saga' 'sag' 'saga' 'sag' 'saga' 'sag' 'saga' 'sag' 'saga'],\n",
       "              mask = [False False False False False False False False False False],\n",
       "        fill_value = ?),\n",
       " 'params': [{'C': 0.01, 'solver': 'sag'},\n",
       "  {'C': 0.01, 'solver': 'saga'},\n",
       "  {'C': 0.1, 'solver': 'sag'},\n",
       "  {'C': 0.1, 'solver': 'saga'},\n",
       "  {'C': 1, 'solver': 'sag'},\n",
       "  {'C': 1, 'solver': 'saga'},\n",
       "  {'C': 10, 'solver': 'sag'},\n",
       "  {'C': 10, 'solver': 'saga'},\n",
       "  {'C': 100, 'solver': 'sag'},\n",
       "  {'C': 100, 'solver': 'saga'}],\n",
       " 'rank_test_score': array([10,  9,  7,  8,  1,  3,  2,  4,  5,  6], dtype=int32),\n",
       " 'split0_test_score': array([-0.39202012, -0.39202047, -0.38992579, -0.38992674, -0.38976903,\n",
       "        -0.38976648, -0.38977986, -0.38977451, -0.38977517, -0.38977762]),\n",
       " 'split0_train_score': array([-0.39092729, -0.39092722, -0.38864757, -0.38864754, -0.38844774,\n",
       "        -0.38844772, -0.38844422, -0.38844418, -0.38844411, -0.3884441 ]),\n",
       " 'split1_test_score': array([-0.39464484, -0.39463617, -0.39253167, -0.392544  , -0.39240441,\n",
       "        -0.39241534, -0.39241589, -0.39242362, -0.39242591, -0.39242515]),\n",
       " 'split1_train_score': array([-0.38970445, -0.38970453, -0.38739567, -0.38739562, -0.38719306,\n",
       "        -0.38719301, -0.38718874, -0.38718872, -0.38718859, -0.38718859]),\n",
       " 'split2_test_score': array([-0.38782099, -0.3878217 , -0.38537846, -0.38537238, -0.38511369,\n",
       "        -0.38511709, -0.38510291, -0.38510518, -0.3851024 , -0.38510452]),\n",
       " 'split2_train_score': array([-0.39315096, -0.39315108, -0.3909298 , -0.39092957, -0.39073918,\n",
       "        -0.39073916, -0.39073538, -0.39073537, -0.39073528, -0.39073527]),\n",
       " 'std_fit_time': array([ 1.98609855,  1.24151746,  0.88126393,  1.1712756 ,  1.88806145,\n",
       "         0.26420269,  2.10707857,  1.8517167 ,  0.93795852,  4.64525058]),\n",
       " 'std_score_time': array([ 0.01003648,  0.01469343,  0.02852171,  0.0288986 ,  0.00770336,\n",
       "         0.02508446,  0.00371229,  0.00999696,  0.008479  ,  0.0045834 ]),\n",
       " 'std_test_score': array([ 0.00281043,  0.00280691,  0.00295592,  0.00296319,  0.00301426,\n",
       "         0.00301658,  0.00302402,  0.00302545,  0.00302756,  0.00302653]),\n",
       " 'std_train_score': array([ 0.00142667,  0.0014267 ,  0.0014631 ,  0.00146302,  0.00146818,\n",
       "         0.00146819,  0.00146834,  0.00146835,  0.00146836,  0.00146836])}"
      ]
     },
     "execution_count": 71,
     "metadata": {},
     "output_type": "execute_result"
    }
   ],
   "source": [
    "grid.fit(X_train,y_train)\n",
    "grid.cv_results_"
   ]
  },
  {
   "cell_type": "code",
   "execution_count": 72,
   "metadata": {
    "collapsed": false,
    "scrolled": true
   },
   "outputs": [
    {
     "name": "stdout",
     "output_type": "stream",
     "text": [
      "0.389095711352\n",
      "{'C': 1, 'solver': 'sag'}\n"
     ]
    }
   ],
   "source": [
    "print(-grid.best_score_)\n",
    "print(grid.best_params_)"
   ]
  },
  {
   "cell_type": "raw",
   "metadata": {
    "ExecuteTime": {
     "end_time": "2018-02-08T13:48:54.372832Z",
     "start_time": "2018-02-08T13:48:54.361825Z"
    },
    "collapsed": false,
    "scrolled": true
   },
   "source": [
    "onehot_name = 'all'\n",
    "c=1\n",
    "\n",
    "#导入模型\n",
    "lr = joblib.load(model_path+'LR_C{0}_{1}.sklearn'.format(c,onehot_name))\n",
    "#lr = LogisticRegression(multi_class='ovr', penalty='l2', solver='sag', C=c, n_jobs=-1)\n",
    "\n",
    "#开始训练\n",
    "start_time = time.time()\n",
    "print('training . . . ')\n",
    "lr.fit(X_train, y_train, )\n",
    "print('cost time:{0}'.format(int(time.time() - start_time)))\n",
    "\n",
    "#保存模型\n",
    "#joblib.dump(lr, model_path+'LR_sklearn.model')\n",
    "\n",
    "#进行评价\n",
    "train_preds = lr.predict_proba(X_train)[:,1]\n",
    "train_predictions = np.around(train_preds)\n",
    "\n",
    "#合并test_id与predict\n",
    "submission = pd.read_csv(model_path + '{0}_id.csv'.format(file_name), dtype=np.uint64)\n",
    "submission.insert(loc=1, column='click', value=train_preds)\n",
    "\n",
    "print('to submission.csv')\n",
    "#保存预测好的文件\n",
    "submission.to_csv(model_path + 'submission.csv', index=False)"
   ]
  },
  {
   "cell_type": "code",
   "execution_count": 73,
   "metadata": {
    "ExecuteTime": {
     "end_time": "2018-02-08T13:48:54.372832Z",
     "start_time": "2018-02-08T13:48:54.361825Z"
    },
    "collapsed": false,
    "scrolled": true
   },
   "outputs": [
    {
     "name": "stdout",
     "output_type": "stream",
     "text": [
      "training . . . \n",
      "cost time:58\n",
      "Train Accuary: 83.43%\n",
      "Train log_loss:  0.388839094251\n"
     ]
    },
    {
     "data": {
      "text/plain": [
       "['../data/project_2/models/Onehot_B/LR_C1_all.sklearn']"
      ]
     },
     "execution_count": 73,
     "metadata": {},
     "output_type": "execute_result"
    }
   ],
   "source": [
    "onehot_name = 'all'\n",
    "c=1\n",
    "\n",
    "#导入模型\n",
    "\n",
    "lr= LogisticRegression(multi_class='ovr', penalty='l2', solver='sag', C=c, n_jobs=-1)\n",
    "\n",
    "#开始训练\n",
    "start_time = time.time()\n",
    "print('training . . . ')\n",
    "lr.fit(X_train, y_train, )\n",
    "print('cost time:{0}'.format(int(time.time() - start_time)))\n",
    "\n",
    "#保存模型\n",
    "#joblib.dump(lr, model_path+'LR_sklearn.model')\n",
    "\n",
    "#进行评价\n",
    "train_preds = lr.predict_proba(X_train)[:,1]\n",
    "train_predictions = np.around(train_preds)\n",
    "\n",
    "train_accuracy = accuracy_score(y_train, train_predictions)\n",
    "print (\"Train Accuary: %.2f%%\" % (train_accuracy * 100.0))\n",
    "train_log_loss = log_loss(y_train, train_preds)\n",
    "print (\"Train log_loss: \" , train_log_loss)\n",
    "\n",
    "\n",
    "#保存模型\n",
    "joblib.dump(lr, model_path+'LR_C{0}_{1}.sklearn'.format(c,onehot_name))\n"
   ]
  },
  {
   "cell_type": "markdown",
   "metadata": {
    "ExecuteTime": {
     "end_time": "2018-02-23T03:57:38.974458Z",
     "start_time": "2018-02-23T03:57:38.965450Z"
    }
   },
   "source": [
    "# 'C': 0.1"
   ]
  },
  {
   "cell_type": "code",
   "execution_count": 25,
   "metadata": {
    "collapsed": false
   },
   "outputs": [
    {
     "data": {
      "text/plain": [
       "['../data/project_2/models/Onehot_A/LR_C0.1.sklearn_more10__']"
      ]
     },
     "execution_count": 25,
     "metadata": {},
     "output_type": "execute_result"
    }
   ],
   "source": [
    "c=0.1\n",
    "#保存模型\n",
    "joblib.dump(lr, model_path+'LR_C{0}.sklearn_more{1}__'.format(c,threshold))\n"
   ]
  },
  {
   "cell_type": "code",
   "execution_count": null,
   "metadata": {
    "collapsed": true
   },
   "outputs": [],
   "source": [
    "lr_model = joblib.load(model_path+model_path+'LR_C{0}.sklearn'.format(c))"
   ]
  }
 ],
 "metadata": {
  "anaconda-cloud": {},
  "kernelspec": {
   "display_name": "Python [default]",
   "language": "python",
   "name": "python3"
  },
  "language_info": {
   "codemirror_mode": {
    "name": "ipython",
    "version": 3
   },
   "file_extension": ".py",
   "mimetype": "text/x-python",
   "name": "python",
   "nbconvert_exporter": "python",
   "pygments_lexer": "ipython3",
   "version": "3.5.2"
  },
  "toc": {
   "nav_menu": {},
   "number_sections": true,
   "sideBar": true,
   "skip_h1_title": false,
   "title_cell": "Table of Contents",
   "title_sidebar": "Contents",
   "toc_cell": true,
   "toc_position": {
    "height": "773px",
    "left": "0px",
    "right": "658.92px",
    "top": "107px",
    "width": "212px"
   },
   "toc_section_display": "block",
   "toc_window_display": true
  }
 },
 "nbformat": 4,
 "nbformat_minor": 2
}
