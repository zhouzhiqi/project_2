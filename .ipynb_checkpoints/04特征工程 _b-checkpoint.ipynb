{
 "cells": [
  {
   "cell_type": "markdown",
   "metadata": {},
   "source": [
    "|名称|含义|\n",
    "| : | : |\n",
    "|id | ad identifier\n",
    "|click | 1是点击 0/1 for non-click/click\n",
    "|hour | 时间, YYMMDDHH, so 14091123 means 2014年09月11号23:00 UTC.\n",
    "|C1 | 未知分类变量 anonymized categorical variable\n",
    "|banner_pos|标语,横幅\n",
    "|site_id|网站ID号\n",
    "|site_domain|网站 域?\n",
    "|site_category|网站类别\n",
    "|app_id|appID号\n",
    "|app_domain|应用 域?\n",
    "|app_category|应用类别\n",
    "|device_id|设备ID号\n",
    "|device_ip|设备ip地址\n",
    "|device_model|设备型号, 如iphone5/iphone4\n",
    "|device_type|设备类型, 如智能手机/平板电脑\n",
    "|device_conn_type|连接设备类型\n",
    "|C14-C21|未知分类变量 anonymized categorical variables"
   ]
  },
  {
   "cell_type": "code",
   "execution_count": 1,
   "metadata": {
    "ExecuteTime": {
     "end_time": "2018-06-04T06:15:28.812511Z",
     "start_time": "2018-06-04T06:15:28.608609Z"
    },
    "collapsed": false
   },
   "outputs": [],
   "source": [
    "import numpy as np\n",
    "import pandas as pd\n",
    "import gc\n",
    "import os\n",
    "import time\n",
    "#from  sklearn.cross_validation  import  train_test_split "
   ]
  },
  {
   "cell_type": "code",
   "execution_count": 2,
   "metadata": {
    "collapsed": true
   },
   "outputs": [],
   "source": [
    "import matplotlib.pyplot as plt\n",
    "\n",
    "%matplotlib inline"
   ]
  },
  {
   "cell_type": "markdown",
   "metadata": {
    "collapsed": true
   },
   "source": [
    "import matplotlib.font_manager as fm\n",
    "heiti = fm.FontProperties(fname='heiti.ttf')  # 字体位置"
   ]
  },
  {
   "cell_type": "code",
   "execution_count": 3,
   "metadata": {
    "ExecuteTime": {
     "end_time": "2018-06-04T06:12:45.891202Z",
     "start_time": "2018-06-04T06:12:45.884205Z"
    },
    "collapsed": false
   },
   "outputs": [
    {
     "data": {
      "text/plain": [
       "'../data/project_2/train.csv'"
      ]
     },
     "execution_count": 3,
     "metadata": {},
     "output_type": "execute_result"
    }
   ],
   "source": [
    "data_path = '../data/project_2/'\n",
    "train_path = data_path+'train.csv'\n",
    "train_path"
   ]
  },
  {
   "cell_type": "markdown",
   "metadata": {},
   "source": [
    "# 1.压缩数据(0.1, 0.01)"
   ]
  },
  {
   "cell_type": "code",
   "execution_count": 34,
   "metadata": {
    "collapsed": false
   },
   "outputs": [],
   "source": [
    "def create_minitrain(file_name, output_name, mini_size=0.1, target='click', chunk_size=1e6):\n",
    "    \"\"\"压缩数据大小\"\"\"\n",
    "    \n",
    "    tmp = pd.read_csv(file_name, iterator=True)  #迭代读取书据\n",
    "    tmp.get_chunk(1).to_csv(output_name, mode='w', index=False)  \n",
    "    #提前写入一条数据,带有表头, 以免下次写入时表头重复\n",
    "    size = np.array([[0,0]])  #统计数据大小\n",
    "    i=0\n",
    "    while True:\n",
    "        #i+=1\n",
    "        #if i>10:break\n",
    "        try: data = tmp.get_chunk(chunk_size)  #每次读取chunk_size条数据 \n",
    "        except StopIteration: break  #读取结束后跳出循环\n",
    "        mini_data = data.sample(frac=mini_size, random_state=33, ) \n",
    "        # 随机抽取mini_size(占总数据的比例)条数据\n",
    "        size = np.concatenate((size,[[data.shape[0], mini_data.shape[0]]]), axis=0)\n",
    "        mini_data.to_csv(output_name, mode='a', header=False, index=False)\n",
    "        # 保存抽取后的数据, 不要表头(否则每次保存均有表头), 不要索引(否则单独开启一列保存索引)\n",
    "        del data, mini_data #及时删除, 以免内存溢出\n",
    "        gc.collect()\n",
    "    size = size.sum(axis=0)\n",
    "    print('file size is {0}, mini size is {1}'.format(size[0],size[1]))"
   ]
  },
  {
   "cell_type": "code",
   "execution_count": 35,
   "metadata": {
    "collapsed": false,
    "scrolled": false
   },
   "outputs": [
    {
     "name": "stdout",
     "output_type": "stream",
     "text": [
      "file size is 40428966, mini size is 4042897\n"
     ]
    }
   ],
   "source": [
    "create_minitrain(data_path+'train.csv', data_path+'minitrain.csv', chunk_size=5e6)"
   ]
  },
  {
   "cell_type": "code",
   "execution_count": 50,
   "metadata": {
    "collapsed": false
   },
   "outputs": [],
   "source": [
    "tmp = pd.read_csv( data_path+'minitrain.csv', iterator=False)"
   ]
  },
  {
   "cell_type": "code",
   "execution_count": 43,
   "metadata": {
    "collapsed": false
   },
   "outputs": [
    {
     "data": {
      "text/html": [
       "<div>\n",
       "<style scoped>\n",
       "    .dataframe tbody tr th:only-of-type {\n",
       "        vertical-align: middle;\n",
       "    }\n",
       "\n",
       "    .dataframe tbody tr th {\n",
       "        vertical-align: top;\n",
       "    }\n",
       "\n",
       "    .dataframe thead th {\n",
       "        text-align: right;\n",
       "    }\n",
       "</style>\n",
       "<table border=\"1\" class=\"dataframe\">\n",
       "  <thead>\n",
       "    <tr style=\"text-align: right;\">\n",
       "      <th></th>\n",
       "      <th>id</th>\n",
       "      <th>click</th>\n",
       "      <th>hour</th>\n",
       "      <th>C1</th>\n",
       "      <th>banner_pos</th>\n",
       "      <th>site_id</th>\n",
       "      <th>site_domain</th>\n",
       "      <th>site_category</th>\n",
       "      <th>app_id</th>\n",
       "      <th>app_domain</th>\n",
       "      <th>...</th>\n",
       "      <th>device_type</th>\n",
       "      <th>device_conn_type</th>\n",
       "      <th>C14</th>\n",
       "      <th>C15</th>\n",
       "      <th>C16</th>\n",
       "      <th>C17</th>\n",
       "      <th>C18</th>\n",
       "      <th>C19</th>\n",
       "      <th>C20</th>\n",
       "      <th>C21</th>\n",
       "    </tr>\n",
       "  </thead>\n",
       "  <tbody>\n",
       "    <tr>\n",
       "      <th>0</th>\n",
       "      <td>1000009418151094273</td>\n",
       "      <td>0</td>\n",
       "      <td>14102100</td>\n",
       "      <td>1005</td>\n",
       "      <td>0</td>\n",
       "      <td>1fbe01fe</td>\n",
       "      <td>f3845767</td>\n",
       "      <td>28905ebd</td>\n",
       "      <td>ecad2386</td>\n",
       "      <td>7801e8d9</td>\n",
       "      <td>...</td>\n",
       "      <td>1</td>\n",
       "      <td>2</td>\n",
       "      <td>15706</td>\n",
       "      <td>320</td>\n",
       "      <td>50</td>\n",
       "      <td>1722</td>\n",
       "      <td>0</td>\n",
       "      <td>35</td>\n",
       "      <td>-1</td>\n",
       "      <td>79</td>\n",
       "    </tr>\n",
       "  </tbody>\n",
       "</table>\n",
       "<p>1 rows × 24 columns</p>\n",
       "</div>"
      ],
      "text/plain": [
       "                    id  click      hour    C1  banner_pos   site_id  \\\n",
       "0  1000009418151094273      0  14102100  1005           0  1fbe01fe   \n",
       "\n",
       "  site_domain site_category    app_id app_domain ...  device_type  \\\n",
       "0    f3845767      28905ebd  ecad2386   7801e8d9 ...            1   \n",
       "\n",
       "  device_conn_type    C14  C15  C16   C17  C18  C19  C20  C21  \n",
       "0                2  15706  320   50  1722    0   35   -1   79  \n",
       "\n",
       "[1 rows x 24 columns]"
      ]
     },
     "execution_count": 43,
     "metadata": {},
     "output_type": "execute_result"
    }
   ],
   "source": [
    "tmp.get_chunk(1)"
   ]
  },
  {
   "cell_type": "code",
   "execution_count": 34,
   "metadata": {
    "collapsed": false
   },
   "outputs": [],
   "source": [
    "tmp = tmp.get_chunk(1)"
   ]
  },
  {
   "cell_type": "code",
   "execution_count": 44,
   "metadata": {
    "collapsed": false
   },
   "outputs": [
    {
     "data": {
      "text/html": [
       "<div>\n",
       "<style scoped>\n",
       "    .dataframe tbody tr th:only-of-type {\n",
       "        vertical-align: middle;\n",
       "    }\n",
       "\n",
       "    .dataframe tbody tr th {\n",
       "        vertical-align: top;\n",
       "    }\n",
       "\n",
       "    .dataframe thead th {\n",
       "        text-align: right;\n",
       "    }\n",
       "</style>\n",
       "<table border=\"1\" class=\"dataframe\">\n",
       "  <thead>\n",
       "    <tr style=\"text-align: right;\">\n",
       "      <th></th>\n",
       "      <th>id</th>\n",
       "      <th>click</th>\n",
       "      <th>hour</th>\n",
       "      <th>C1</th>\n",
       "      <th>banner_pos</th>\n",
       "      <th>site_id</th>\n",
       "      <th>site_domain</th>\n",
       "      <th>site_category</th>\n",
       "      <th>app_id</th>\n",
       "      <th>app_domain</th>\n",
       "      <th>...</th>\n",
       "      <th>device_type</th>\n",
       "      <th>device_conn_type</th>\n",
       "      <th>C14</th>\n",
       "      <th>C15</th>\n",
       "      <th>C16</th>\n",
       "      <th>C17</th>\n",
       "      <th>C18</th>\n",
       "      <th>C19</th>\n",
       "      <th>C20</th>\n",
       "      <th>C21</th>\n",
       "    </tr>\n",
       "  </thead>\n",
       "  <tbody>\n",
       "    <tr>\n",
       "      <th>1</th>\n",
       "      <td>1.436130e+19</td>\n",
       "      <td>1</td>\n",
       "      <td>14102117</td>\n",
       "      <td>1005</td>\n",
       "      <td>0</td>\n",
       "      <td>1fbe01fe</td>\n",
       "      <td>f3845767</td>\n",
       "      <td>28905ebd</td>\n",
       "      <td>ecad2386</td>\n",
       "      <td>7801e8d9</td>\n",
       "      <td>...</td>\n",
       "      <td>1</td>\n",
       "      <td>0</td>\n",
       "      <td>21759</td>\n",
       "      <td>320</td>\n",
       "      <td>50</td>\n",
       "      <td>2502</td>\n",
       "      <td>0</td>\n",
       "      <td>35</td>\n",
       "      <td>-1</td>\n",
       "      <td>221</td>\n",
       "    </tr>\n",
       "  </tbody>\n",
       "</table>\n",
       "<p>1 rows × 24 columns</p>\n",
       "</div>"
      ],
      "text/plain": [
       "             id  click      hour    C1  banner_pos   site_id site_domain  \\\n",
       "1  1.436130e+19      1  14102117  1005           0  1fbe01fe    f3845767   \n",
       "\n",
       "  site_category    app_id app_domain ...  device_type device_conn_type    C14  \\\n",
       "1      28905ebd  ecad2386   7801e8d9 ...            1                0  21759   \n",
       "\n",
       "   C15  C16   C17  C18  C19  C20  C21  \n",
       "1  320   50  2502    0   35   -1  221  \n",
       "\n",
       "[1 rows x 24 columns]"
      ]
     },
     "execution_count": 44,
     "metadata": {},
     "output_type": "execute_result"
    }
   ],
   "source": [
    "tmp.get_chunk(1)"
   ]
  },
  {
   "cell_type": "code",
   "execution_count": 38,
   "metadata": {
    "collapsed": false
   },
   "outputs": [
    {
     "name": "stdout",
     "output_type": "stream",
     "text": [
      "<class 'pandas.core.frame.DataFrame'>\n",
      "RangeIndex: 4042898 entries, 0 to 4042897\n",
      "Data columns (total 24 columns):\n",
      "id                  float64\n",
      "click               int64\n",
      "hour                int64\n",
      "C1                  int64\n",
      "banner_pos          int64\n",
      "site_id             object\n",
      "site_domain         object\n",
      "site_category       object\n",
      "app_id              object\n",
      "app_domain          object\n",
      "app_category        object\n",
      "device_id           object\n",
      "device_ip           object\n",
      "device_model        object\n",
      "device_type         int64\n",
      "device_conn_type    int64\n",
      "C14                 int64\n",
      "C15                 int64\n",
      "C16                 int64\n",
      "C17                 int64\n",
      "C18                 int64\n",
      "C19                 int64\n",
      "C20                 int64\n",
      "C21                 int64\n",
      "dtypes: float64(1), int64(14), object(9)\n",
      "memory usage: 740.3+ MB\n"
     ]
    }
   ],
   "source": [
    "tmp.info()"
   ]
  },
  {
   "cell_type": "code",
   "execution_count": 39,
   "metadata": {
    "collapsed": false
   },
   "outputs": [
    {
     "data": {
      "text/plain": [
       "21"
      ]
     },
     "execution_count": 39,
     "metadata": {},
     "output_type": "execute_result"
    }
   ],
   "source": [
    "del tmp\n",
    "gc.collect()"
   ]
  },
  {
   "cell_type": "code",
   "execution_count": 159,
   "metadata": {
    "collapsed": false
   },
   "outputs": [
    {
     "data": {
      "text/plain": [
       "1528632744.9231038"
      ]
     },
     "execution_count": 159,
     "metadata": {},
     "output_type": "execute_result"
    }
   ],
   "source": [
    "time.time()"
   ]
  },
  {
   "cell_type": "markdown",
   "metadata": {},
   "source": [
    "# 计数"
   ]
  },
  {
   "cell_type": "markdown",
   "metadata": {
    "collapsed": false
   },
   "source": [
    "class Count(object):\n",
    "    \"\"\"对特征中的不同取值进行计数\"\"\"\n",
    "    \n",
    "    def __init__(self, ):\n",
    "        self.data_path = '../data/project_2/'\n",
    "        #self.file_name = self.data_path + 'train.csv'\n",
    "        self.file_name = self.data_path + 'miniminitrain.csv'\n",
    "        self.data = pd.read_csv(self.file_name, iterator=True)\n",
    "        self.chunk_size = 1e3\n",
    "        #self.columns = pd.read_csv(self.file_name,chunksize=10).columns\n",
    "        self.columns = ('click=0','click=1','total','ratio')\n",
    "        #print(np.zeros(self.columns.shape))\n",
    "        self.finale_counts = pd.DataFrame(columns=('click=0','click=1','total','ratio'), )\n",
    "        self.split = '-'\n",
    "        self.total_size = 0\n",
    "        print('counting')\n",
    "        i = 0\n",
    "        start_time = time.time()\n",
    "        while True:\n",
    "            i+=1\n",
    "            if i>10:break\n",
    "            try: data_tmp = self.Loaddata()  #每次读取chunk_size条数据 \n",
    "            except StopIteration: break  #读取结束后跳出循环\n",
    "            self.GetCountsDF(data_tmp)\n",
    "            self.total_size += data_tmp.shape[0]\n",
    "            used_time = int(time.time()-start_time)\n",
    "            print('{0} data have counted, cost time: {1}'.format(self.total_size, used_time))\n",
    "            del data_tmp #及时删除, 以免内存溢出\n",
    "            gc.collect()\n",
    "        self.finale_counts['ratio'] = self.finale_counts['total']/self.total_size\n",
    "        self.Save()\n",
    "\n",
    "    def Loaddata(self, ):\n",
    "        size = self.chunk_size\n",
    "        return self.data.get_chunk(size)\n",
    "    \n",
    "    def ColumnIndex(self, column, index):\n",
    "        return column + self.split + str(index)\n",
    "    \n",
    "    def GetCountsDF(self, tmp):\n",
    "        for column in tmp.columns:\n",
    "            if column in ['id']: continue\n",
    "            for index in tmp.index:\n",
    "                name_tmp, counts_tmp = self.GetCountSeries(tmp, column, index)\n",
    "                if name_tmp in self.finale_counts.index:\n",
    "                    self.finale_counts.loc[name_tmp] += counts_tmp\n",
    "                else:\n",
    "                    self.finale_counts = self.finale_counts.append(counts_tmp)\n",
    "                    \n",
    "\n",
    "        \n",
    "    def GetCountSeries(self, tmp, column, index):\n",
    "        click_0 = 0\n",
    "        click_1 = 0\n",
    "        if tmp.loc[index, 'click']==1: \n",
    "            click_1 = 1\n",
    "        else:\n",
    "            click_0 = 1\n",
    "        name = self.ColumnIndex(column, tmp.loc[index, column])\n",
    "        data = pd.Series(data = np.array([click_0,click_1,1,0]), \n",
    "                         name = name, \n",
    "                         index = columns )\n",
    "        return name, data\n",
    "        \n",
    "    def Save(self, file_name='count.csv'):\n",
    "        print('data saved in {0}'.format(self.data_path+file_name))\n",
    "        self.finale_counts.to_csv(self.data_path+file_name)\n",
    "    \n"
   ]
  },
  {
   "cell_type": "markdown",
   "metadata": {
    "collapsed": false
   },
   "source": [
    "a = Count()"
   ]
  },
  {
   "cell_type": "markdown",
   "metadata": {
    "collapsed": false
   },
   "source": [
    "use_time = int(404291/10000*343/60/60)*100\n",
    "'所有数据(40M)要耗时{0}小时'.format(use_time)"
   ]
  },
  {
   "cell_type": "code",
   "execution_count": null,
   "metadata": {
    "collapsed": true
   },
   "outputs": [],
   "source": []
  },
  {
   "cell_type": "code",
   "execution_count": 2,
   "metadata": {
    "collapsed": true
   },
   "outputs": [],
   "source": [
    "import pandas as pd\n",
    "import numpy as np\n",
    "import time\n",
    "import gc\n",
    "data_path = '../data/project_2/'"
   ]
  },
  {
   "cell_type": "code",
   "execution_count": 3,
   "metadata": {
    "collapsed": false
   },
   "outputs": [],
   "source": [
    "class Count_a(object):\n",
    "    \"\"\"对特征中的不同取值按一定数据量逐块进行计数, 并保存合并好的统计结果\n",
    "    \n",
    "    最终保存文件的格式: \n",
    "    columns = ('click=0','click=1','total','ratio')\n",
    "    index = (column + split + value, 如:'C14=10289')\"\"\"\n",
    "    \n",
    "    def __init__(self, ):\n",
    "        \"\"\"初始化参数\"\"\"\n",
    "        self.data_path = '../data/project_2/'  #数据路径\n",
    "        #self.file_name = self.data_path + 'train.csv'\n",
    "        self.file_name = self.data_path + 'miniminitrain.csv'\n",
    "        self.data = pd.read_csv(self.file_name, iterator=True)  #迭代读取csv\n",
    "        self.chunk_size = 1e6  #每次读入数据量\n",
    "        self.split = '='  # 最终保存文件index的分割符\n",
    "        self.finale_click_0 = pd.Series()  #对click=0进行计数\n",
    "        self.finale_click_1 = pd.Series()  #对click=1进行计数\n",
    "        self.total_size = 0  ##对总的数据量进行计数\n",
    "        print('counting')\n",
    "        i = 0\n",
    "        start_time = time.time()\n",
    "        while True:\n",
    "            i+=1\n",
    "            if i>10:break\n",
    "            try: data_tmp = self.Loaddata()  #每次读取chunk_size条数据 \n",
    "            except StopIteration: break  #读取结束后跳出循环\n",
    "            click_0_tmp, click_1_tmp = self.GetClickCount(data_tmp)  #获取统计结果\n",
    "            self.finale_click_0 = self.CombineSeries(self.finale_click_0, click_0_tmp)\n",
    "            # 与现有click=0统计结果合并\n",
    "            self.finale_click_1 = self.CombineSeries(self.finale_click_1, click_1_tmp)\n",
    "            # 与现有click=1统计结果合并\n",
    "            self.total_size += data_tmp.shape[0]  #累加当前数据量\n",
    "            used_time = int(time.time()-start_time)  #记录统计耗时\n",
    "            print('{0} data have counted, cost time: {1}'.format(self.total_size, used_time))\n",
    "            del data_tmp, click_0_tmp, click_1_tmp #及时删除, 以免内存溢出\n",
    "            gc.collect()\n",
    "        print('to DataFrame')\n",
    "        self.ToDataFrame(self.finale_click_0, self.finale_click_1)  \n",
    "        # 对已经统计好的click=0与click=1统计结果拼接整合, 并转成相应格式的DataFrame\n",
    "        self.Save()  #保存计数好的文件\n",
    "\n",
    "    def Loaddata(self, ):\n",
    "        \"\"\"每次读取self.chunk_size条数据\"\"\"\n",
    "        return self.data.get_chunk(self.chunk_size)\n",
    "    \n",
    "    def ColumnIndex(self, column, index):\n",
    "        \"\"\"创建计数文件的索引格式\"\"\"\n",
    "        return column + self.split + str(index)\n",
    "    \n",
    "    def GetClickCount(self, tmp):\n",
    "        \"\"\"对一定数据量数据进行计数\"\"\"\n",
    "        click_0_index = tmp['click'] == 0\n",
    "        click_0 = pd.Series()  #初始化click=0\n",
    "        click_1 = pd.Series()  #初始化click=1\n",
    "        for column in tmp.columns:  #按列进行计数, 并 逐列 拼接\n",
    "            if column in ['id','click']: continue\n",
    "            counts_tmp = self.GetCountSeries(tmp, column, click_0_index)\n",
    "            # 对当前column, click=0 进行统计, \n",
    "            click_0 = pd.concat((click_0, counts_tmp))\n",
    "            # 并与其column列统计结果 拼接\n",
    "            counts_tmp = self.GetCountSeries(tmp, column, -click_0_index)\n",
    "            # 对当前column, click=1 进行统计, \n",
    "            click_1 = pd.concat((click_1, counts_tmp))\n",
    "            # 并与其column列统计结果 拼接\n",
    "        return click_0, click_1\n",
    "        \n",
    "    def GetCountSeries(self, tmp, column, index):\n",
    "        \"\"\"对切片好的Series进行频率统计, 并重命名index\"\"\"\n",
    "        counts = tmp[column][index].value_counts()  #\n",
    "        counts.index = counts.index.map(lambda x:self.ColumnIndex(column,x))\n",
    "        return counts\n",
    "        \n",
    "    def CombineSeries(self, a, b):\n",
    "        \"\"\"对传入两Series中相同索引的值累加, 不同索引的值相拼接\"\"\"\n",
    "        same = a.index & b.index\n",
    "        a[same] += b[same]\n",
    "        unsame = b.index ^ same\n",
    "        return pd.concat((a, b[unsame]))\n",
    "    \n",
    "    def ToDataFrame(self, click_0, click_1):\n",
    "        \"\"\"将点击数据转为DataFrame\"\"\"\n",
    "        click_0 = click_0.to_frame(name='click=0')  #Series to DataFrame\n",
    "        click_1 = click_1.to_frame(name='click=1')  #Series to DataFrame\n",
    "        self.finale_counts = pd.concat((click_0,click_1),axis=1,sort=False)\n",
    "        # 'click=0'与'click=0'进行拼接, 不同索引默认值为 np.nan\n",
    "        self.finale_counts.fillna(0,inplace=True)  #np.nan to 0\n",
    "        self.finale_counts['total'] = self.finale_counts['click=0'] + self.finale_counts['click=1']\n",
    "        # 计算总的频率, 及占总数据量的比例\n",
    "        self.finale_counts['ratio'] = self.finale_counts['total'] / self.total_size\n",
    "        #return self.finale_counts\n",
    "        \n",
    "    def Save(self, file_name='count.csv'):\n",
    "        \"\"\"将数据保存在原有数据文件夹下\"\"\"\n",
    "        print('data saved in {0}'.format(self.data_path+file_name))\n",
    "        self.finale_counts.to_csv(self.data_path+file_name)\n",
    "    \n"
   ]
  },
  {
   "cell_type": "code",
   "execution_count": null,
   "metadata": {
    "collapsed": true
   },
   "outputs": [],
   "source": [
    "pd.DataFrame.to_csv()"
   ]
  },
  {
   "cell_type": "code",
   "execution_count": 15,
   "metadata": {
    "collapsed": false,
    "scrolled": true
   },
   "outputs": [
    {
     "name": "stdout",
     "output_type": "stream",
     "text": [
      "counting\n",
      "404291 data have counted, cost time: 5\n",
      "to DataFrame\n",
      "data saved in ../data/project_2/count.csv\n"
     ]
    }
   ],
   "source": [
    "teat = Count_a()"
   ]
  },
  {
   "cell_type": "markdown",
   "metadata": {
    "collapsed": false,
    "scrolled": true
   },
   "source": [
    "teat.finale_click_1#.index | teat.finale_click_1.index "
   ]
  },
  {
   "cell_type": "code",
   "execution_count": 16,
   "metadata": {
    "collapsed": false,
    "scrolled": true
   },
   "outputs": [
    {
     "data": {
      "text/html": [
       "<div>\n",
       "<style scoped>\n",
       "    .dataframe tbody tr th:only-of-type {\n",
       "        vertical-align: middle;\n",
       "    }\n",
       "\n",
       "    .dataframe tbody tr th {\n",
       "        vertical-align: top;\n",
       "    }\n",
       "\n",
       "    .dataframe thead th {\n",
       "        text-align: right;\n",
       "    }\n",
       "</style>\n",
       "<table border=\"1\" class=\"dataframe\">\n",
       "  <thead>\n",
       "    <tr style=\"text-align: right;\">\n",
       "      <th></th>\n",
       "      <th>click=0</th>\n",
       "      <th>click=1</th>\n",
       "      <th>total</th>\n",
       "      <th>ratio</th>\n",
       "    </tr>\n",
       "  </thead>\n",
       "  <tbody>\n",
       "    <tr>\n",
       "      <th>C14=10289</th>\n",
       "      <td>17.0</td>\n",
       "      <td>7.0</td>\n",
       "      <td>24.0</td>\n",
       "      <td>0.000059</td>\n",
       "    </tr>\n",
       "    <tr>\n",
       "      <th>C14=1037</th>\n",
       "      <td>671.0</td>\n",
       "      <td>304.0</td>\n",
       "      <td>975.0</td>\n",
       "      <td>0.002412</td>\n",
       "    </tr>\n",
       "    <tr>\n",
       "      <th>C14=1038</th>\n",
       "      <td>559.0</td>\n",
       "      <td>148.0</td>\n",
       "      <td>707.0</td>\n",
       "      <td>0.001749</td>\n",
       "    </tr>\n",
       "    <tr>\n",
       "      <th>C14=1039</th>\n",
       "      <td>598.0</td>\n",
       "      <td>228.0</td>\n",
       "      <td>826.0</td>\n",
       "      <td>0.002043</td>\n",
       "    </tr>\n",
       "    <tr>\n",
       "      <th>C14=10532</th>\n",
       "      <td>2.0</td>\n",
       "      <td>0.0</td>\n",
       "      <td>2.0</td>\n",
       "      <td>0.000005</td>\n",
       "    </tr>\n",
       "    <tr>\n",
       "      <th>C14=10533</th>\n",
       "      <td>1.0</td>\n",
       "      <td>0.0</td>\n",
       "      <td>1.0</td>\n",
       "      <td>0.000002</td>\n",
       "    </tr>\n",
       "    <tr>\n",
       "      <th>C14=10534</th>\n",
       "      <td>1.0</td>\n",
       "      <td>0.0</td>\n",
       "      <td>1.0</td>\n",
       "      <td>0.000002</td>\n",
       "    </tr>\n",
       "    <tr>\n",
       "      <th>C14=10535</th>\n",
       "      <td>1.0</td>\n",
       "      <td>0.0</td>\n",
       "      <td>1.0</td>\n",
       "      <td>0.000002</td>\n",
       "    </tr>\n",
       "    <tr>\n",
       "      <th>C14=10536</th>\n",
       "      <td>4.0</td>\n",
       "      <td>1.0</td>\n",
       "      <td>5.0</td>\n",
       "      <td>0.000012</td>\n",
       "    </tr>\n",
       "    <tr>\n",
       "      <th>C14=10738</th>\n",
       "      <td>6.0</td>\n",
       "      <td>3.0</td>\n",
       "      <td>9.0</td>\n",
       "      <td>0.000022</td>\n",
       "    </tr>\n",
       "    <tr>\n",
       "      <th>C14=10739</th>\n",
       "      <td>12.0</td>\n",
       "      <td>2.0</td>\n",
       "      <td>14.0</td>\n",
       "      <td>0.000035</td>\n",
       "    </tr>\n",
       "    <tr>\n",
       "      <th>C14=10740</th>\n",
       "      <td>11.0</td>\n",
       "      <td>2.0</td>\n",
       "      <td>13.0</td>\n",
       "      <td>0.000032</td>\n",
       "    </tr>\n",
       "    <tr>\n",
       "      <th>C14=10741</th>\n",
       "      <td>13.0</td>\n",
       "      <td>1.0</td>\n",
       "      <td>14.0</td>\n",
       "      <td>0.000035</td>\n",
       "    </tr>\n",
       "    <tr>\n",
       "      <th>C14=10742</th>\n",
       "      <td>11.0</td>\n",
       "      <td>0.0</td>\n",
       "      <td>11.0</td>\n",
       "      <td>0.000027</td>\n",
       "    </tr>\n",
       "    <tr>\n",
       "      <th>C14=10743</th>\n",
       "      <td>9.0</td>\n",
       "      <td>3.0</td>\n",
       "      <td>12.0</td>\n",
       "      <td>0.000030</td>\n",
       "    </tr>\n",
       "    <tr>\n",
       "      <th>C14=10895</th>\n",
       "      <td>1.0</td>\n",
       "      <td>0.0</td>\n",
       "      <td>1.0</td>\n",
       "      <td>0.000002</td>\n",
       "    </tr>\n",
       "    <tr>\n",
       "      <th>C14=10896</th>\n",
       "      <td>2.0</td>\n",
       "      <td>0.0</td>\n",
       "      <td>2.0</td>\n",
       "      <td>0.000005</td>\n",
       "    </tr>\n",
       "    <tr>\n",
       "      <th>C14=10897</th>\n",
       "      <td>2.0</td>\n",
       "      <td>0.0</td>\n",
       "      <td>2.0</td>\n",
       "      <td>0.000005</td>\n",
       "    </tr>\n",
       "    <tr>\n",
       "      <th>C14=11142</th>\n",
       "      <td>2.0</td>\n",
       "      <td>1.0</td>\n",
       "      <td>3.0</td>\n",
       "      <td>0.000007</td>\n",
       "    </tr>\n",
       "    <tr>\n",
       "      <th>C14=11143</th>\n",
       "      <td>2.0</td>\n",
       "      <td>0.0</td>\n",
       "      <td>2.0</td>\n",
       "      <td>0.000005</td>\n",
       "    </tr>\n",
       "    <tr>\n",
       "      <th>C14=11144</th>\n",
       "      <td>2.0</td>\n",
       "      <td>2.0</td>\n",
       "      <td>4.0</td>\n",
       "      <td>0.000010</td>\n",
       "    </tr>\n",
       "    <tr>\n",
       "      <th>C14=11145</th>\n",
       "      <td>3.0</td>\n",
       "      <td>3.0</td>\n",
       "      <td>6.0</td>\n",
       "      <td>0.000015</td>\n",
       "    </tr>\n",
       "    <tr>\n",
       "      <th>C14=11188</th>\n",
       "      <td>2.0</td>\n",
       "      <td>1.0</td>\n",
       "      <td>3.0</td>\n",
       "      <td>0.000007</td>\n",
       "    </tr>\n",
       "    <tr>\n",
       "      <th>C14=11189</th>\n",
       "      <td>1.0</td>\n",
       "      <td>0.0</td>\n",
       "      <td>1.0</td>\n",
       "      <td>0.000002</td>\n",
       "    </tr>\n",
       "    <tr>\n",
       "      <th>C14=11190</th>\n",
       "      <td>1.0</td>\n",
       "      <td>0.0</td>\n",
       "      <td>1.0</td>\n",
       "      <td>0.000002</td>\n",
       "    </tr>\n",
       "    <tr>\n",
       "      <th>C14=11191</th>\n",
       "      <td>1.0</td>\n",
       "      <td>0.0</td>\n",
       "      <td>1.0</td>\n",
       "      <td>0.000002</td>\n",
       "    </tr>\n",
       "    <tr>\n",
       "      <th>C14=11193</th>\n",
       "      <td>1.0</td>\n",
       "      <td>0.0</td>\n",
       "      <td>1.0</td>\n",
       "      <td>0.000002</td>\n",
       "    </tr>\n",
       "    <tr>\n",
       "      <th>C14=11268</th>\n",
       "      <td>3.0</td>\n",
       "      <td>0.0</td>\n",
       "      <td>3.0</td>\n",
       "      <td>0.000007</td>\n",
       "    </tr>\n",
       "    <tr>\n",
       "      <th>C14=11323</th>\n",
       "      <td>26.0</td>\n",
       "      <td>5.0</td>\n",
       "      <td>31.0</td>\n",
       "      <td>0.000077</td>\n",
       "    </tr>\n",
       "    <tr>\n",
       "      <th>C14=11325</th>\n",
       "      <td>33.0</td>\n",
       "      <td>2.0</td>\n",
       "      <td>35.0</td>\n",
       "      <td>0.000087</td>\n",
       "    </tr>\n",
       "    <tr>\n",
       "      <th>...</th>\n",
       "      <td>...</td>\n",
       "      <td>...</td>\n",
       "      <td>...</td>\n",
       "      <td>...</td>\n",
       "    </tr>\n",
       "    <tr>\n",
       "      <th>site_id=c8ca27e5</th>\n",
       "      <td>0.0</td>\n",
       "      <td>1.0</td>\n",
       "      <td>1.0</td>\n",
       "      <td>0.000002</td>\n",
       "    </tr>\n",
       "    <tr>\n",
       "      <th>site_id=d191be52</th>\n",
       "      <td>0.0</td>\n",
       "      <td>2.0</td>\n",
       "      <td>2.0</td>\n",
       "      <td>0.000005</td>\n",
       "    </tr>\n",
       "    <tr>\n",
       "      <th>site_id=d61fe109</th>\n",
       "      <td>0.0</td>\n",
       "      <td>1.0</td>\n",
       "      <td>1.0</td>\n",
       "      <td>0.000002</td>\n",
       "    </tr>\n",
       "    <tr>\n",
       "      <th>site_id=d6588782</th>\n",
       "      <td>0.0</td>\n",
       "      <td>2.0</td>\n",
       "      <td>2.0</td>\n",
       "      <td>0.000005</td>\n",
       "    </tr>\n",
       "    <tr>\n",
       "      <th>site_id=d67495e3</th>\n",
       "      <td>0.0</td>\n",
       "      <td>1.0</td>\n",
       "      <td>1.0</td>\n",
       "      <td>0.000002</td>\n",
       "    </tr>\n",
       "    <tr>\n",
       "      <th>site_id=d7d01954</th>\n",
       "      <td>0.0</td>\n",
       "      <td>1.0</td>\n",
       "      <td>1.0</td>\n",
       "      <td>0.000002</td>\n",
       "    </tr>\n",
       "    <tr>\n",
       "      <th>site_id=d89cc067</th>\n",
       "      <td>0.0</td>\n",
       "      <td>1.0</td>\n",
       "      <td>1.0</td>\n",
       "      <td>0.000002</td>\n",
       "    </tr>\n",
       "    <tr>\n",
       "      <th>site_id=d946355b</th>\n",
       "      <td>0.0</td>\n",
       "      <td>1.0</td>\n",
       "      <td>1.0</td>\n",
       "      <td>0.000002</td>\n",
       "    </tr>\n",
       "    <tr>\n",
       "      <th>site_id=dcc8211c</th>\n",
       "      <td>0.0</td>\n",
       "      <td>2.0</td>\n",
       "      <td>2.0</td>\n",
       "      <td>0.000005</td>\n",
       "    </tr>\n",
       "    <tr>\n",
       "      <th>site_id=dd98f83f</th>\n",
       "      <td>0.0</td>\n",
       "      <td>1.0</td>\n",
       "      <td>1.0</td>\n",
       "      <td>0.000002</td>\n",
       "    </tr>\n",
       "    <tr>\n",
       "      <th>site_id=ddc88719</th>\n",
       "      <td>0.0</td>\n",
       "      <td>1.0</td>\n",
       "      <td>1.0</td>\n",
       "      <td>0.000002</td>\n",
       "    </tr>\n",
       "    <tr>\n",
       "      <th>site_id=df91d904</th>\n",
       "      <td>0.0</td>\n",
       "      <td>1.0</td>\n",
       "      <td>1.0</td>\n",
       "      <td>0.000002</td>\n",
       "    </tr>\n",
       "    <tr>\n",
       "      <th>site_id=e0ce2e9d</th>\n",
       "      <td>0.0</td>\n",
       "      <td>1.0</td>\n",
       "      <td>1.0</td>\n",
       "      <td>0.000002</td>\n",
       "    </tr>\n",
       "    <tr>\n",
       "      <th>site_id=e2e46518</th>\n",
       "      <td>0.0</td>\n",
       "      <td>2.0</td>\n",
       "      <td>2.0</td>\n",
       "      <td>0.000005</td>\n",
       "    </tr>\n",
       "    <tr>\n",
       "      <th>site_id=e42fe6f8</th>\n",
       "      <td>0.0</td>\n",
       "      <td>1.0</td>\n",
       "      <td>1.0</td>\n",
       "      <td>0.000002</td>\n",
       "    </tr>\n",
       "    <tr>\n",
       "      <th>site_id=e4349e3c</th>\n",
       "      <td>0.0</td>\n",
       "      <td>1.0</td>\n",
       "      <td>1.0</td>\n",
       "      <td>0.000002</td>\n",
       "    </tr>\n",
       "    <tr>\n",
       "      <th>site_id=e647457e</th>\n",
       "      <td>0.0</td>\n",
       "      <td>3.0</td>\n",
       "      <td>3.0</td>\n",
       "      <td>0.000007</td>\n",
       "    </tr>\n",
       "    <tr>\n",
       "      <th>site_id=e6808cbd</th>\n",
       "      <td>0.0</td>\n",
       "      <td>2.0</td>\n",
       "      <td>2.0</td>\n",
       "      <td>0.000005</td>\n",
       "    </tr>\n",
       "    <tr>\n",
       "      <th>site_id=ebbd9405</th>\n",
       "      <td>0.0</td>\n",
       "      <td>1.0</td>\n",
       "      <td>1.0</td>\n",
       "      <td>0.000002</td>\n",
       "    </tr>\n",
       "    <tr>\n",
       "      <th>site_id=ed668db9</th>\n",
       "      <td>0.0</td>\n",
       "      <td>1.0</td>\n",
       "      <td>1.0</td>\n",
       "      <td>0.000002</td>\n",
       "    </tr>\n",
       "    <tr>\n",
       "      <th>site_id=ed895faa</th>\n",
       "      <td>0.0</td>\n",
       "      <td>2.0</td>\n",
       "      <td>2.0</td>\n",
       "      <td>0.000005</td>\n",
       "    </tr>\n",
       "    <tr>\n",
       "      <th>site_id=ed8cca84</th>\n",
       "      <td>0.0</td>\n",
       "      <td>1.0</td>\n",
       "      <td>1.0</td>\n",
       "      <td>0.000002</td>\n",
       "    </tr>\n",
       "    <tr>\n",
       "      <th>site_id=f23ec8dd</th>\n",
       "      <td>0.0</td>\n",
       "      <td>1.0</td>\n",
       "      <td>1.0</td>\n",
       "      <td>0.000002</td>\n",
       "    </tr>\n",
       "    <tr>\n",
       "      <th>site_id=f2dcbcff</th>\n",
       "      <td>0.0</td>\n",
       "      <td>1.0</td>\n",
       "      <td>1.0</td>\n",
       "      <td>0.000002</td>\n",
       "    </tr>\n",
       "    <tr>\n",
       "      <th>site_id=f4586eab</th>\n",
       "      <td>0.0</td>\n",
       "      <td>1.0</td>\n",
       "      <td>1.0</td>\n",
       "      <td>0.000002</td>\n",
       "    </tr>\n",
       "    <tr>\n",
       "      <th>site_id=f964f357</th>\n",
       "      <td>0.0</td>\n",
       "      <td>1.0</td>\n",
       "      <td>1.0</td>\n",
       "      <td>0.000002</td>\n",
       "    </tr>\n",
       "    <tr>\n",
       "      <th>site_id=f9fa764d</th>\n",
       "      <td>0.0</td>\n",
       "      <td>1.0</td>\n",
       "      <td>1.0</td>\n",
       "      <td>0.000002</td>\n",
       "    </tr>\n",
       "    <tr>\n",
       "      <th>site_id=feb793b0</th>\n",
       "      <td>0.0</td>\n",
       "      <td>1.0</td>\n",
       "      <td>1.0</td>\n",
       "      <td>0.000002</td>\n",
       "    </tr>\n",
       "    <tr>\n",
       "      <th>site_id=ff108d09</th>\n",
       "      <td>0.0</td>\n",
       "      <td>1.0</td>\n",
       "      <td>1.0</td>\n",
       "      <td>0.000002</td>\n",
       "    </tr>\n",
       "    <tr>\n",
       "      <th>site_id=ffc29ba5</th>\n",
       "      <td>0.0</td>\n",
       "      <td>1.0</td>\n",
       "      <td>1.0</td>\n",
       "      <td>0.000002</td>\n",
       "    </tr>\n",
       "  </tbody>\n",
       "</table>\n",
       "<p>341703 rows × 4 columns</p>\n",
       "</div>"
      ],
      "text/plain": [
       "                  click=0  click=1  total     ratio\n",
       "C14=10289            17.0      7.0   24.0  0.000059\n",
       "C14=1037            671.0    304.0  975.0  0.002412\n",
       "C14=1038            559.0    148.0  707.0  0.001749\n",
       "C14=1039            598.0    228.0  826.0  0.002043\n",
       "C14=10532             2.0      0.0    2.0  0.000005\n",
       "C14=10533             1.0      0.0    1.0  0.000002\n",
       "C14=10534             1.0      0.0    1.0  0.000002\n",
       "C14=10535             1.0      0.0    1.0  0.000002\n",
       "C14=10536             4.0      1.0    5.0  0.000012\n",
       "C14=10738             6.0      3.0    9.0  0.000022\n",
       "C14=10739            12.0      2.0   14.0  0.000035\n",
       "C14=10740            11.0      2.0   13.0  0.000032\n",
       "C14=10741            13.0      1.0   14.0  0.000035\n",
       "C14=10742            11.0      0.0   11.0  0.000027\n",
       "C14=10743             9.0      3.0   12.0  0.000030\n",
       "C14=10895             1.0      0.0    1.0  0.000002\n",
       "C14=10896             2.0      0.0    2.0  0.000005\n",
       "C14=10897             2.0      0.0    2.0  0.000005\n",
       "C14=11142             2.0      1.0    3.0  0.000007\n",
       "C14=11143             2.0      0.0    2.0  0.000005\n",
       "C14=11144             2.0      2.0    4.0  0.000010\n",
       "C14=11145             3.0      3.0    6.0  0.000015\n",
       "C14=11188             2.0      1.0    3.0  0.000007\n",
       "C14=11189             1.0      0.0    1.0  0.000002\n",
       "C14=11190             1.0      0.0    1.0  0.000002\n",
       "C14=11191             1.0      0.0    1.0  0.000002\n",
       "C14=11193             1.0      0.0    1.0  0.000002\n",
       "C14=11268             3.0      0.0    3.0  0.000007\n",
       "C14=11323            26.0      5.0   31.0  0.000077\n",
       "C14=11325            33.0      2.0   35.0  0.000087\n",
       "...                   ...      ...    ...       ...\n",
       "site_id=c8ca27e5      0.0      1.0    1.0  0.000002\n",
       "site_id=d191be52      0.0      2.0    2.0  0.000005\n",
       "site_id=d61fe109      0.0      1.0    1.0  0.000002\n",
       "site_id=d6588782      0.0      2.0    2.0  0.000005\n",
       "site_id=d67495e3      0.0      1.0    1.0  0.000002\n",
       "site_id=d7d01954      0.0      1.0    1.0  0.000002\n",
       "site_id=d89cc067      0.0      1.0    1.0  0.000002\n",
       "site_id=d946355b      0.0      1.0    1.0  0.000002\n",
       "site_id=dcc8211c      0.0      2.0    2.0  0.000005\n",
       "site_id=dd98f83f      0.0      1.0    1.0  0.000002\n",
       "site_id=ddc88719      0.0      1.0    1.0  0.000002\n",
       "site_id=df91d904      0.0      1.0    1.0  0.000002\n",
       "site_id=e0ce2e9d      0.0      1.0    1.0  0.000002\n",
       "site_id=e2e46518      0.0      2.0    2.0  0.000005\n",
       "site_id=e42fe6f8      0.0      1.0    1.0  0.000002\n",
       "site_id=e4349e3c      0.0      1.0    1.0  0.000002\n",
       "site_id=e647457e      0.0      3.0    3.0  0.000007\n",
       "site_id=e6808cbd      0.0      2.0    2.0  0.000005\n",
       "site_id=ebbd9405      0.0      1.0    1.0  0.000002\n",
       "site_id=ed668db9      0.0      1.0    1.0  0.000002\n",
       "site_id=ed895faa      0.0      2.0    2.0  0.000005\n",
       "site_id=ed8cca84      0.0      1.0    1.0  0.000002\n",
       "site_id=f23ec8dd      0.0      1.0    1.0  0.000002\n",
       "site_id=f2dcbcff      0.0      1.0    1.0  0.000002\n",
       "site_id=f4586eab      0.0      1.0    1.0  0.000002\n",
       "site_id=f964f357      0.0      1.0    1.0  0.000002\n",
       "site_id=f9fa764d      0.0      1.0    1.0  0.000002\n",
       "site_id=feb793b0      0.0      1.0    1.0  0.000002\n",
       "site_id=ff108d09      0.0      1.0    1.0  0.000002\n",
       "site_id=ffc29ba5      0.0      1.0    1.0  0.000002\n",
       "\n",
       "[341703 rows x 4 columns]"
      ]
     },
     "execution_count": 16,
     "metadata": {},
     "output_type": "execute_result"
    }
   ],
   "source": [
    "teat.finale_counts"
   ]
  },
  {
   "cell_type": "code",
   "execution_count": 27,
   "metadata": {
    "collapsed": false
   },
   "outputs": [],
   "source": [
    "count = teat.finale_counts#.info()"
   ]
  },
  {
   "cell_type": "markdown",
   "metadata": {
    "collapsed": false
   },
   "source": [
    "tmp[\"C1\"].value_counts()"
   ]
  },
  {
   "cell_type": "markdown",
   "metadata": {
    "collapsed": false
   },
   "source": [
    "pd.MultiIndex.from_product([[a.name],a.index.values])"
   ]
  },
  {
   "cell_type": "markdown",
   "metadata": {
    "collapsed": false
   },
   "source": [
    "d = pd.DataFrame(data=a.values, columns=['counts'], index=pd.MultiIndex.from_product([[a.name],a.index.values]))"
   ]
  },
  {
   "cell_type": "markdown",
   "metadata": {
    "collapsed": false
   },
   "source": [
    "d.loc['C1'].loc[2010]"
   ]
  },
  {
   "cell_type": "markdown",
   "metadata": {
    "collapsed": false
   },
   "source": [
    "c.index = pd.MultiIndex.from_product([[a.name],a.index.values])"
   ]
  },
  {
   "cell_type": "markdown",
   "metadata": {
    "collapsed": false
   },
   "source": [
    "c#.loc[2010]"
   ]
  },
  {
   "cell_type": "code",
   "execution_count": 10,
   "metadata": {
    "collapsed": false
   },
   "outputs": [],
   "source": [
    "count = pd.read_csv( data_path+'count.csv', index_col=0)\n",
    "# 读取第一列为index"
   ]
  },
  {
   "cell_type": "code",
   "execution_count": 17,
   "metadata": {
    "collapsed": false,
    "scrolled": true
   },
   "outputs": [
    {
     "data": {
      "text/plain": [
       "click=0    5.016993e+06\n",
       "click=1    2.099065e+06\n",
       "total      7.116058e+06\n",
       "ratio      1.760138e-01\n",
       "Name: C18=2, dtype: float64"
      ]
     },
     "execution_count": 17,
     "metadata": {},
     "output_type": "execute_result"
    }
   ],
   "source": [
    "count.loc['C18=2']#.describe()"
   ]
  },
  {
   "cell_type": "code",
   "execution_count": 12,
   "metadata": {
    "collapsed": false,
    "scrolled": true
   },
   "outputs": [],
   "source": [
    "less_10 = count[count['total']<10].index"
   ]
  },
  {
   "cell_type": "code",
   "execution_count": 13,
   "metadata": {
    "collapsed": false,
    "scrolled": true
   },
   "outputs": [],
   "source": [
    "more_10 = count[count['total']>=10].index"
   ]
  },
  {
   "cell_type": "code",
   "execution_count": 14,
   "metadata": {
    "collapsed": false
   },
   "outputs": [
    {
     "data": {
      "text/plain": [
       "((8804064,), (645381,))"
      ]
     },
     "execution_count": 14,
     "metadata": {},
     "output_type": "execute_result"
    }
   ],
   "source": [
    "less_10.shape, more_10.shape"
   ]
  },
  {
   "cell_type": "code",
   "execution_count": 3,
   "metadata": {
    "collapsed": false
   },
   "outputs": [],
   "source": [
    "count = pd.read_csv( data_path+'count_add.csv', index_col=0)\n",
    "# 读取第一列为index"
   ]
  },
  {
   "cell_type": "code",
   "execution_count": 4,
   "metadata": {
    "collapsed": false,
    "scrolled": true
   },
   "outputs": [],
   "source": [
    "less_10 = count[count['total']<10].index"
   ]
  },
  {
   "cell_type": "code",
   "execution_count": 5,
   "metadata": {
    "collapsed": false,
    "scrolled": true
   },
   "outputs": [],
   "source": [
    "more_10 = count[count['total']>=10].index"
   ]
  },
  {
   "cell_type": "code",
   "execution_count": 6,
   "metadata": {
    "collapsed": false
   },
   "outputs": [
    {
     "data": {
      "text/plain": [
       "((3405026,), (144084,))"
      ]
     },
     "execution_count": 6,
     "metadata": {},
     "output_type": "execute_result"
    }
   ],
   "source": [
    "less_10.shape, more_10.shape"
   ]
  },
  {
   "cell_type": "markdown",
   "metadata": {},
   "source": [
    "`按频率超过10个的index进行生成新的数据`"
   ]
  },
  {
   "cell_type": "code",
   "execution_count": 70,
   "metadata": {
    "collapsed": false
   },
   "outputs": [
    {
     "data": {
      "text/plain": [
       "Index(['C14=10532', 'C14=10533', 'C14=10534', 'C14=10535', 'C14=10536',\n",
       "       'C14=10738', 'C14=10895', 'C14=10896', 'C14=10897', 'C14=11142',\n",
       "       ...\n",
       "       'site_id=ed895faa', 'site_id=ed8cca84', 'site_id=f23ec8dd',\n",
       "       'site_id=f2dcbcff', 'site_id=f4586eab', 'site_id=f964f357',\n",
       "       'site_id=f9fa764d', 'site_id=feb793b0', 'site_id=ff108d09',\n",
       "       'site_id=ffc29ba5'],\n",
       "      dtype='object', length=333437)"
      ]
     },
     "execution_count": 70,
     "metadata": {},
     "output_type": "execute_result"
    }
   ],
   "source": [
    "less_10"
   ]
  },
  {
   "cell_type": "code",
   "execution_count": 71,
   "metadata": {
    "collapsed": false
   },
   "outputs": [
    {
     "data": {
      "text/plain": [
       "Index(['C14=10289', 'C14=1037', 'C14=1038', 'C14=1039', 'C14=10739',\n",
       "       'C14=10740', 'C14=10741', 'C14=10742', 'C14=10743', 'C14=11323',\n",
       "       ...\n",
       "       'site_id=fe8cc448', 'site_id=fec6e632', 'site_id=fefe6fb9',\n",
       "       'site_id=ff18c3d1', 'site_id=ff1bcc6f', 'site_id=ff361da0',\n",
       "       'site_id=ff61c6a9', 'site_id=ffb2c209', 'site_id=ffcb6b9a',\n",
       "       'device_ip=a22deaba'],\n",
       "      dtype='object', length=8266)"
      ]
     },
     "execution_count": 71,
     "metadata": {},
     "output_type": "execute_result"
    }
   ],
   "source": [
    "more_10"
   ]
  },
  {
   "cell_type": "code",
   "execution_count": 72,
   "metadata": {
    "collapsed": false,
    "scrolled": true
   },
   "outputs": [
    {
     "data": {
      "text/plain": [
       "click=0    2.000000\n",
       "click=1    0.000000\n",
       "total      2.000000\n",
       "ratio      0.000005\n",
       "Name: C14=10532, dtype: float64"
      ]
     },
     "execution_count": 72,
     "metadata": {},
     "output_type": "execute_result"
    }
   ],
   "source": [
    "count.loc['C14=10532']"
   ]
  },
  {
   "cell_type": "markdown",
   "metadata": {},
   "source": [
    "pre_a = tmp"
   ]
  },
  {
   "cell_type": "markdown",
   "metadata": {},
   "source": [
    "id(pre_a), id(tmp)"
   ]
  },
  {
   "cell_type": "markdown",
   "metadata": {},
   "source": [
    "pre_a['id']=0"
   ]
  },
  {
   "cell_type": "markdown",
   "metadata": {},
   "source": [
    "for column in tmp.columns:\n",
    "    tmp[column]=0"
   ]
  },
  {
   "cell_type": "code",
   "execution_count": 73,
   "metadata": {
    "collapsed": true
   },
   "outputs": [],
   "source": [
    "tmp = pd.read_csv( data_path+'miniminitrain.csv')"
   ]
  },
  {
   "cell_type": "markdown",
   "metadata": {},
   "source": [
    "tmp['C15'].sum()"
   ]
  },
  {
   "cell_type": "markdown",
   "metadata": {},
   "source": [
    "column, value = 'C15=320'.split('=')\n",
    "index = tmp[column].map(str)==value\n",
    "index"
   ]
  },
  {
   "cell_type": "code",
   "execution_count": 74,
   "metadata": {
    "collapsed": false
   },
   "outputs": [],
   "source": [
    "a =pd.Series(index=tmp.columns, data=np.arange(tmp.columns.shape[0]))['C1']"
   ]
  },
  {
   "cell_type": "markdown",
   "metadata": {},
   "source": [
    "a.data()"
   ]
  },
  {
   "cell_type": "code",
   "execution_count": 76,
   "metadata": {
    "collapsed": true
   },
   "outputs": [],
   "source": [
    "count_df = pd.DataFrame(data=np.zeros(tmp.shape), columns=tmp.columns, dtype=np.int64)\n",
    "for c in count_df.columns:\n",
    "    count_df[c]=np.nan"
   ]
  },
  {
   "cell_type": "code",
   "execution_count": 77,
   "metadata": {
    "collapsed": true
   },
   "outputs": [],
   "source": [
    "tmp = tmp.applymap(str)"
   ]
  },
  {
   "cell_type": "code",
   "execution_count": 78,
   "metadata": {
    "collapsed": false
   },
   "outputs": [
    {
     "name": "stdout",
     "output_type": "stream",
     "text": [
      "<class 'pandas.core.frame.DataFrame'>\n",
      "RangeIndex: 404291 entries, 0 to 404290\n",
      "Data columns (total 24 columns):\n",
      "id                  404291 non-null object\n",
      "click               404291 non-null object\n",
      "hour                404291 non-null object\n",
      "C1                  404291 non-null object\n",
      "banner_pos          404291 non-null object\n",
      "site_id             404291 non-null object\n",
      "site_domain         404291 non-null object\n",
      "site_category       404291 non-null object\n",
      "app_id              404291 non-null object\n",
      "app_domain          404291 non-null object\n",
      "app_category        404291 non-null object\n",
      "device_id           404291 non-null object\n",
      "device_ip           404291 non-null object\n",
      "device_model        404291 non-null object\n",
      "device_type         404291 non-null object\n",
      "device_conn_type    404291 non-null object\n",
      "C14                 404291 non-null object\n",
      "C15                 404291 non-null object\n",
      "C16                 404291 non-null object\n",
      "C17                 404291 non-null object\n",
      "C18                 404291 non-null object\n",
      "C19                 404291 non-null object\n",
      "C20                 404291 non-null object\n",
      "C21                 404291 non-null object\n",
      "dtypes: object(24)\n",
      "memory usage: 74.0+ MB\n"
     ]
    }
   ],
   "source": [
    "tmp.info()"
   ]
  },
  {
   "cell_type": "code",
   "execution_count": 79,
   "metadata": {
    "collapsed": false,
    "scrolled": true
   },
   "outputs": [
    {
     "name": "stdout",
     "output_type": "stream",
     "text": [
      "total length is: 8266\n",
      "826 data have transfrom to np.nan\n",
      "1652 data have transfrom to np.nan\n",
      "2478 data have transfrom to np.nan\n",
      "3304 data have transfrom to np.nan\n",
      "4130 data have transfrom to np.nan\n",
      "4956 data have transfrom to np.nan\n",
      "5782 data have transfrom to np.nan\n",
      "6608 data have transfrom to np.nan\n",
      "7434 data have transfrom to np.nan\n",
      "8260 data have transfrom to np.nan\n"
     ]
    }
   ],
   "source": [
    "print('total length is:',more_10.shape[0])\n",
    "#columns_int = pd.Series(index=tmp.columns, data=np.arange(tmp.columns.shape[0]))\n",
    "now_leng = 0\n",
    "for i in more_10:\n",
    "    now_leng += 1\n",
    "    #if now_leng >10: break\n",
    "    if now_leng%(more_10.shape[0]//10) ==0:\n",
    "        print('{0} data have transfrom to np.nan'.format(now_leng))\n",
    "    column, value = i.split('=')\n",
    "    #print((tmp[column] == value).sum())\n",
    "    #column_i = columns_int[column]\n",
    "    index = tmp[column] == value\n",
    "    #print('------------',index.sum())\n",
    "    #print(tmp[index])\n",
    "    #tmp.iloc[index, column_i] = np.nan\n",
    "    count_df.loc[index, column] = value\n",
    "    #print(tmp[column][index])\n",
    "    "
   ]
  },
  {
   "cell_type": "code",
   "execution_count": 80,
   "metadata": {
    "collapsed": true
   },
   "outputs": [],
   "source": [
    "tmp = pd.read_csv( data_path+'miniminitrain.csv')\n",
    "# 重新读入数据, 原有数据已经to str"
   ]
  },
  {
   "cell_type": "code",
   "execution_count": 81,
   "metadata": {
    "collapsed": false
   },
   "outputs": [],
   "source": [
    "count_df['id'] = tmp['id']\n",
    "count_df['hour'] = tmp['hour']\n",
    "count_df['click'] = tmp['click']"
   ]
  },
  {
   "cell_type": "code",
   "execution_count": 82,
   "metadata": {
    "collapsed": true
   },
   "outputs": [],
   "source": [
    "count_df.to_csv(data_path+'fillna.csv', index=False)"
   ]
  },
  {
   "cell_type": "code",
   "execution_count": 21,
   "metadata": {
    "collapsed": true
   },
   "outputs": [],
   "source": [
    "count_df = pd.read_csv( data_path+'fillna.csv')"
   ]
  },
  {
   "cell_type": "code",
   "execution_count": 22,
   "metadata": {
    "collapsed": false,
    "scrolled": true
   },
   "outputs": [
    {
     "data": {
      "text/plain": [
       "('device_ip', 0         False\n",
       " 1         False\n",
       " 2         False\n",
       " 3         False\n",
       " 4         False\n",
       " 5         False\n",
       " 6         False\n",
       " 7         False\n",
       " 8         False\n",
       " 9         False\n",
       " 10        False\n",
       " 11        False\n",
       " 12        False\n",
       " 13        False\n",
       " 14        False\n",
       " 15        False\n",
       " 16        False\n",
       " 17        False\n",
       " 18        False\n",
       " 19        False\n",
       " 20        False\n",
       " 21        False\n",
       " 22        False\n",
       " 23        False\n",
       " 24        False\n",
       " 25        False\n",
       " 26        False\n",
       " 27        False\n",
       " 28        False\n",
       " 29        False\n",
       "           ...  \n",
       " 404261    False\n",
       " 404262    False\n",
       " 404263    False\n",
       " 404264    False\n",
       " 404265    False\n",
       " 404266    False\n",
       " 404267    False\n",
       " 404268    False\n",
       " 404269    False\n",
       " 404270    False\n",
       " 404271    False\n",
       " 404272    False\n",
       " 404273    False\n",
       " 404274    False\n",
       " 404275    False\n",
       " 404276    False\n",
       " 404277    False\n",
       " 404278    False\n",
       " 404279    False\n",
       " 404280    False\n",
       " 404281    False\n",
       " 404282    False\n",
       " 404283    False\n",
       " 404284    False\n",
       " 404285    False\n",
       " 404286    False\n",
       " 404287    False\n",
       " 404288    False\n",
       " 404289    False\n",
       " 404290    False\n",
       " Name: device_ip, Length: 404291, dtype: bool)"
      ]
     },
     "execution_count": 22,
     "metadata": {},
     "output_type": "execute_result"
    }
   ],
   "source": [
    "column, index"
   ]
  },
  {
   "cell_type": "code",
   "execution_count": 23,
   "metadata": {
    "collapsed": false
   },
   "outputs": [
    {
     "data": {
      "text/plain": [
       "230640    a22deaba\n",
       "241265    a22deaba\n",
       "243887    a22deaba\n",
       "246187    a22deaba\n",
       "246535    a22deaba\n",
       "256046    a22deaba\n",
       "266300    a22deaba\n",
       "275827    a22deaba\n",
       "282941    a22deaba\n",
       "297650    a22deaba\n",
       "Name: device_ip, dtype: object"
      ]
     },
     "execution_count": 23,
     "metadata": {},
     "output_type": "execute_result"
    }
   ],
   "source": [
    "tmp.loc[index,column]"
   ]
  },
  {
   "cell_type": "code",
   "execution_count": 24,
   "metadata": {
    "collapsed": false,
    "scrolled": true
   },
   "outputs": [
    {
     "name": "stdout",
     "output_type": "stream",
     "text": [
      "Unnamed: 0 0\n",
      "id 0\n",
      "click 0\n",
      "hour 0\n",
      "C1 0\n",
      "banner_pos 0\n",
      "site_id 4160\n",
      "site_domain 4097\n",
      "site_category 14\n",
      "app_id 4201\n",
      "app_domain 229\n",
      "app_category 19\n",
      "device_id 69399\n",
      "device_ip 339452\n",
      "device_model 7785\n",
      "device_type 0\n",
      "device_conn_type 0\n",
      "C14 2685\n",
      "C15 0\n",
      "C16 0\n",
      "C17 140\n",
      "C18 0\n",
      "C19 11\n",
      "C20 72\n",
      "C21 0\n"
     ]
    }
   ],
   "source": [
    "for c in count_df.columns:\n",
    "    print(c,count_df[c].isnull().sum())"
   ]
  },
  {
   "cell_type": "code",
   "execution_count": 25,
   "metadata": {
    "collapsed": false
   },
   "outputs": [
    {
     "name": "stdout",
     "output_type": "stream",
     "text": [
      "<class 'pandas.core.frame.DataFrame'>\n",
      "RangeIndex: 404291 entries, 0 to 404290\n",
      "Data columns (total 25 columns):\n",
      "Unnamed: 0          404291 non-null int64\n",
      "id                  404291 non-null float64\n",
      "click               404291 non-null int64\n",
      "hour                404291 non-null int64\n",
      "C1                  404291 non-null int64\n",
      "banner_pos          404291 non-null int64\n",
      "site_id             400131 non-null object\n",
      "site_domain         400194 non-null object\n",
      "site_category       404277 non-null object\n",
      "app_id              400090 non-null object\n",
      "app_domain          404062 non-null object\n",
      "app_category        404272 non-null object\n",
      "device_id           334892 non-null object\n",
      "device_ip           64839 non-null object\n",
      "device_model        396506 non-null object\n",
      "device_type         404291 non-null int64\n",
      "device_conn_type    404291 non-null int64\n",
      "C14                 401606 non-null float64\n",
      "C15                 404291 non-null int64\n",
      "C16                 404291 non-null int64\n",
      "C17                 404151 non-null float64\n",
      "C18                 404291 non-null int64\n",
      "C19                 404280 non-null float64\n",
      "C20                 404219 non-null float64\n",
      "C21                 404291 non-null int64\n",
      "dtypes: float64(5), int64(11), object(9)\n",
      "memory usage: 77.1+ MB\n"
     ]
    }
   ],
   "source": [
    "count_df.info()"
   ]
  },
  {
   "cell_type": "code",
   "execution_count": 26,
   "metadata": {
    "collapsed": false,
    "scrolled": true
   },
   "outputs": [
    {
     "data": {
      "text/html": [
       "<div>\n",
       "<style scoped>\n",
       "    .dataframe tbody tr th:only-of-type {\n",
       "        vertical-align: middle;\n",
       "    }\n",
       "\n",
       "    .dataframe tbody tr th {\n",
       "        vertical-align: top;\n",
       "    }\n",
       "\n",
       "    .dataframe thead th {\n",
       "        text-align: right;\n",
       "    }\n",
       "</style>\n",
       "<table border=\"1\" class=\"dataframe\">\n",
       "  <thead>\n",
       "    <tr style=\"text-align: right;\">\n",
       "      <th></th>\n",
       "      <th>C18=0</th>\n",
       "      <th>C18=1</th>\n",
       "      <th>C18=2</th>\n",
       "      <th>C18=3</th>\n",
       "    </tr>\n",
       "  </thead>\n",
       "  <tbody>\n",
       "    <tr>\n",
       "      <th>0</th>\n",
       "      <td>1</td>\n",
       "      <td>0</td>\n",
       "      <td>0</td>\n",
       "      <td>0</td>\n",
       "    </tr>\n",
       "    <tr>\n",
       "      <th>1</th>\n",
       "      <td>1</td>\n",
       "      <td>0</td>\n",
       "      <td>0</td>\n",
       "      <td>0</td>\n",
       "    </tr>\n",
       "    <tr>\n",
       "      <th>2</th>\n",
       "      <td>0</td>\n",
       "      <td>0</td>\n",
       "      <td>0</td>\n",
       "      <td>1</td>\n",
       "    </tr>\n",
       "    <tr>\n",
       "      <th>3</th>\n",
       "      <td>0</td>\n",
       "      <td>0</td>\n",
       "      <td>1</td>\n",
       "      <td>0</td>\n",
       "    </tr>\n",
       "    <tr>\n",
       "      <th>4</th>\n",
       "      <td>1</td>\n",
       "      <td>0</td>\n",
       "      <td>0</td>\n",
       "      <td>0</td>\n",
       "    </tr>\n",
       "    <tr>\n",
       "      <th>5</th>\n",
       "      <td>0</td>\n",
       "      <td>0</td>\n",
       "      <td>0</td>\n",
       "      <td>1</td>\n",
       "    </tr>\n",
       "    <tr>\n",
       "      <th>6</th>\n",
       "      <td>1</td>\n",
       "      <td>0</td>\n",
       "      <td>0</td>\n",
       "      <td>0</td>\n",
       "    </tr>\n",
       "    <tr>\n",
       "      <th>7</th>\n",
       "      <td>1</td>\n",
       "      <td>0</td>\n",
       "      <td>0</td>\n",
       "      <td>0</td>\n",
       "    </tr>\n",
       "    <tr>\n",
       "      <th>8</th>\n",
       "      <td>0</td>\n",
       "      <td>0</td>\n",
       "      <td>0</td>\n",
       "      <td>1</td>\n",
       "    </tr>\n",
       "    <tr>\n",
       "      <th>9</th>\n",
       "      <td>1</td>\n",
       "      <td>0</td>\n",
       "      <td>0</td>\n",
       "      <td>0</td>\n",
       "    </tr>\n",
       "    <tr>\n",
       "      <th>10</th>\n",
       "      <td>0</td>\n",
       "      <td>0</td>\n",
       "      <td>0</td>\n",
       "      <td>1</td>\n",
       "    </tr>\n",
       "    <tr>\n",
       "      <th>11</th>\n",
       "      <td>0</td>\n",
       "      <td>0</td>\n",
       "      <td>1</td>\n",
       "      <td>0</td>\n",
       "    </tr>\n",
       "    <tr>\n",
       "      <th>12</th>\n",
       "      <td>1</td>\n",
       "      <td>0</td>\n",
       "      <td>0</td>\n",
       "      <td>0</td>\n",
       "    </tr>\n",
       "    <tr>\n",
       "      <th>13</th>\n",
       "      <td>0</td>\n",
       "      <td>0</td>\n",
       "      <td>0</td>\n",
       "      <td>1</td>\n",
       "    </tr>\n",
       "    <tr>\n",
       "      <th>14</th>\n",
       "      <td>0</td>\n",
       "      <td>0</td>\n",
       "      <td>0</td>\n",
       "      <td>1</td>\n",
       "    </tr>\n",
       "    <tr>\n",
       "      <th>15</th>\n",
       "      <td>1</td>\n",
       "      <td>0</td>\n",
       "      <td>0</td>\n",
       "      <td>0</td>\n",
       "    </tr>\n",
       "    <tr>\n",
       "      <th>16</th>\n",
       "      <td>0</td>\n",
       "      <td>0</td>\n",
       "      <td>0</td>\n",
       "      <td>1</td>\n",
       "    </tr>\n",
       "    <tr>\n",
       "      <th>17</th>\n",
       "      <td>0</td>\n",
       "      <td>0</td>\n",
       "      <td>0</td>\n",
       "      <td>1</td>\n",
       "    </tr>\n",
       "    <tr>\n",
       "      <th>18</th>\n",
       "      <td>0</td>\n",
       "      <td>0</td>\n",
       "      <td>1</td>\n",
       "      <td>0</td>\n",
       "    </tr>\n",
       "    <tr>\n",
       "      <th>19</th>\n",
       "      <td>1</td>\n",
       "      <td>0</td>\n",
       "      <td>0</td>\n",
       "      <td>0</td>\n",
       "    </tr>\n",
       "    <tr>\n",
       "      <th>20</th>\n",
       "      <td>0</td>\n",
       "      <td>0</td>\n",
       "      <td>0</td>\n",
       "      <td>1</td>\n",
       "    </tr>\n",
       "    <tr>\n",
       "      <th>21</th>\n",
       "      <td>0</td>\n",
       "      <td>0</td>\n",
       "      <td>0</td>\n",
       "      <td>1</td>\n",
       "    </tr>\n",
       "    <tr>\n",
       "      <th>22</th>\n",
       "      <td>0</td>\n",
       "      <td>0</td>\n",
       "      <td>0</td>\n",
       "      <td>1</td>\n",
       "    </tr>\n",
       "    <tr>\n",
       "      <th>23</th>\n",
       "      <td>1</td>\n",
       "      <td>0</td>\n",
       "      <td>0</td>\n",
       "      <td>0</td>\n",
       "    </tr>\n",
       "    <tr>\n",
       "      <th>24</th>\n",
       "      <td>0</td>\n",
       "      <td>0</td>\n",
       "      <td>1</td>\n",
       "      <td>0</td>\n",
       "    </tr>\n",
       "    <tr>\n",
       "      <th>25</th>\n",
       "      <td>1</td>\n",
       "      <td>0</td>\n",
       "      <td>0</td>\n",
       "      <td>0</td>\n",
       "    </tr>\n",
       "    <tr>\n",
       "      <th>26</th>\n",
       "      <td>1</td>\n",
       "      <td>0</td>\n",
       "      <td>0</td>\n",
       "      <td>0</td>\n",
       "    </tr>\n",
       "    <tr>\n",
       "      <th>27</th>\n",
       "      <td>0</td>\n",
       "      <td>0</td>\n",
       "      <td>0</td>\n",
       "      <td>1</td>\n",
       "    </tr>\n",
       "    <tr>\n",
       "      <th>28</th>\n",
       "      <td>0</td>\n",
       "      <td>0</td>\n",
       "      <td>0</td>\n",
       "      <td>1</td>\n",
       "    </tr>\n",
       "    <tr>\n",
       "      <th>29</th>\n",
       "      <td>1</td>\n",
       "      <td>0</td>\n",
       "      <td>0</td>\n",
       "      <td>0</td>\n",
       "    </tr>\n",
       "    <tr>\n",
       "      <th>...</th>\n",
       "      <td>...</td>\n",
       "      <td>...</td>\n",
       "      <td>...</td>\n",
       "      <td>...</td>\n",
       "    </tr>\n",
       "    <tr>\n",
       "      <th>404261</th>\n",
       "      <td>1</td>\n",
       "      <td>0</td>\n",
       "      <td>0</td>\n",
       "      <td>0</td>\n",
       "    </tr>\n",
       "    <tr>\n",
       "      <th>404262</th>\n",
       "      <td>0</td>\n",
       "      <td>0</td>\n",
       "      <td>0</td>\n",
       "      <td>1</td>\n",
       "    </tr>\n",
       "    <tr>\n",
       "      <th>404263</th>\n",
       "      <td>0</td>\n",
       "      <td>0</td>\n",
       "      <td>0</td>\n",
       "      <td>1</td>\n",
       "    </tr>\n",
       "    <tr>\n",
       "      <th>404264</th>\n",
       "      <td>1</td>\n",
       "      <td>0</td>\n",
       "      <td>0</td>\n",
       "      <td>0</td>\n",
       "    </tr>\n",
       "    <tr>\n",
       "      <th>404265</th>\n",
       "      <td>1</td>\n",
       "      <td>0</td>\n",
       "      <td>0</td>\n",
       "      <td>0</td>\n",
       "    </tr>\n",
       "    <tr>\n",
       "      <th>404266</th>\n",
       "      <td>1</td>\n",
       "      <td>0</td>\n",
       "      <td>0</td>\n",
       "      <td>0</td>\n",
       "    </tr>\n",
       "    <tr>\n",
       "      <th>404267</th>\n",
       "      <td>1</td>\n",
       "      <td>0</td>\n",
       "      <td>0</td>\n",
       "      <td>0</td>\n",
       "    </tr>\n",
       "    <tr>\n",
       "      <th>404268</th>\n",
       "      <td>1</td>\n",
       "      <td>0</td>\n",
       "      <td>0</td>\n",
       "      <td>0</td>\n",
       "    </tr>\n",
       "    <tr>\n",
       "      <th>404269</th>\n",
       "      <td>1</td>\n",
       "      <td>0</td>\n",
       "      <td>0</td>\n",
       "      <td>0</td>\n",
       "    </tr>\n",
       "    <tr>\n",
       "      <th>404270</th>\n",
       "      <td>0</td>\n",
       "      <td>0</td>\n",
       "      <td>1</td>\n",
       "      <td>0</td>\n",
       "    </tr>\n",
       "    <tr>\n",
       "      <th>404271</th>\n",
       "      <td>1</td>\n",
       "      <td>0</td>\n",
       "      <td>0</td>\n",
       "      <td>0</td>\n",
       "    </tr>\n",
       "    <tr>\n",
       "      <th>404272</th>\n",
       "      <td>0</td>\n",
       "      <td>0</td>\n",
       "      <td>1</td>\n",
       "      <td>0</td>\n",
       "    </tr>\n",
       "    <tr>\n",
       "      <th>404273</th>\n",
       "      <td>1</td>\n",
       "      <td>0</td>\n",
       "      <td>0</td>\n",
       "      <td>0</td>\n",
       "    </tr>\n",
       "    <tr>\n",
       "      <th>404274</th>\n",
       "      <td>0</td>\n",
       "      <td>0</td>\n",
       "      <td>0</td>\n",
       "      <td>1</td>\n",
       "    </tr>\n",
       "    <tr>\n",
       "      <th>404275</th>\n",
       "      <td>1</td>\n",
       "      <td>0</td>\n",
       "      <td>0</td>\n",
       "      <td>0</td>\n",
       "    </tr>\n",
       "    <tr>\n",
       "      <th>404276</th>\n",
       "      <td>0</td>\n",
       "      <td>0</td>\n",
       "      <td>0</td>\n",
       "      <td>1</td>\n",
       "    </tr>\n",
       "    <tr>\n",
       "      <th>404277</th>\n",
       "      <td>0</td>\n",
       "      <td>0</td>\n",
       "      <td>0</td>\n",
       "      <td>1</td>\n",
       "    </tr>\n",
       "    <tr>\n",
       "      <th>404278</th>\n",
       "      <td>0</td>\n",
       "      <td>0</td>\n",
       "      <td>0</td>\n",
       "      <td>1</td>\n",
       "    </tr>\n",
       "    <tr>\n",
       "      <th>404279</th>\n",
       "      <td>0</td>\n",
       "      <td>0</td>\n",
       "      <td>1</td>\n",
       "      <td>0</td>\n",
       "    </tr>\n",
       "    <tr>\n",
       "      <th>404280</th>\n",
       "      <td>1</td>\n",
       "      <td>0</td>\n",
       "      <td>0</td>\n",
       "      <td>0</td>\n",
       "    </tr>\n",
       "    <tr>\n",
       "      <th>404281</th>\n",
       "      <td>1</td>\n",
       "      <td>0</td>\n",
       "      <td>0</td>\n",
       "      <td>0</td>\n",
       "    </tr>\n",
       "    <tr>\n",
       "      <th>404282</th>\n",
       "      <td>0</td>\n",
       "      <td>0</td>\n",
       "      <td>1</td>\n",
       "      <td>0</td>\n",
       "    </tr>\n",
       "    <tr>\n",
       "      <th>404283</th>\n",
       "      <td>0</td>\n",
       "      <td>0</td>\n",
       "      <td>0</td>\n",
       "      <td>1</td>\n",
       "    </tr>\n",
       "    <tr>\n",
       "      <th>404284</th>\n",
       "      <td>1</td>\n",
       "      <td>0</td>\n",
       "      <td>0</td>\n",
       "      <td>0</td>\n",
       "    </tr>\n",
       "    <tr>\n",
       "      <th>404285</th>\n",
       "      <td>0</td>\n",
       "      <td>0</td>\n",
       "      <td>0</td>\n",
       "      <td>1</td>\n",
       "    </tr>\n",
       "    <tr>\n",
       "      <th>404286</th>\n",
       "      <td>0</td>\n",
       "      <td>0</td>\n",
       "      <td>0</td>\n",
       "      <td>1</td>\n",
       "    </tr>\n",
       "    <tr>\n",
       "      <th>404287</th>\n",
       "      <td>1</td>\n",
       "      <td>0</td>\n",
       "      <td>0</td>\n",
       "      <td>0</td>\n",
       "    </tr>\n",
       "    <tr>\n",
       "      <th>404288</th>\n",
       "      <td>0</td>\n",
       "      <td>0</td>\n",
       "      <td>1</td>\n",
       "      <td>0</td>\n",
       "    </tr>\n",
       "    <tr>\n",
       "      <th>404289</th>\n",
       "      <td>1</td>\n",
       "      <td>0</td>\n",
       "      <td>0</td>\n",
       "      <td>0</td>\n",
       "    </tr>\n",
       "    <tr>\n",
       "      <th>404290</th>\n",
       "      <td>1</td>\n",
       "      <td>0</td>\n",
       "      <td>0</td>\n",
       "      <td>0</td>\n",
       "    </tr>\n",
       "  </tbody>\n",
       "</table>\n",
       "<p>404291 rows × 4 columns</p>\n",
       "</div>"
      ],
      "text/plain": [
       "        C18=0  C18=1  C18=2  C18=3\n",
       "0           1      0      0      0\n",
       "1           1      0      0      0\n",
       "2           0      0      0      1\n",
       "3           0      0      1      0\n",
       "4           1      0      0      0\n",
       "5           0      0      0      1\n",
       "6           1      0      0      0\n",
       "7           1      0      0      0\n",
       "8           0      0      0      1\n",
       "9           1      0      0      0\n",
       "10          0      0      0      1\n",
       "11          0      0      1      0\n",
       "12          1      0      0      0\n",
       "13          0      0      0      1\n",
       "14          0      0      0      1\n",
       "15          1      0      0      0\n",
       "16          0      0      0      1\n",
       "17          0      0      0      1\n",
       "18          0      0      1      0\n",
       "19          1      0      0      0\n",
       "20          0      0      0      1\n",
       "21          0      0      0      1\n",
       "22          0      0      0      1\n",
       "23          1      0      0      0\n",
       "24          0      0      1      0\n",
       "25          1      0      0      0\n",
       "26          1      0      0      0\n",
       "27          0      0      0      1\n",
       "28          0      0      0      1\n",
       "29          1      0      0      0\n",
       "...       ...    ...    ...    ...\n",
       "404261      1      0      0      0\n",
       "404262      0      0      0      1\n",
       "404263      0      0      0      1\n",
       "404264      1      0      0      0\n",
       "404265      1      0      0      0\n",
       "404266      1      0      0      0\n",
       "404267      1      0      0      0\n",
       "404268      1      0      0      0\n",
       "404269      1      0      0      0\n",
       "404270      0      0      1      0\n",
       "404271      1      0      0      0\n",
       "404272      0      0      1      0\n",
       "404273      1      0      0      0\n",
       "404274      0      0      0      1\n",
       "404275      1      0      0      0\n",
       "404276      0      0      0      1\n",
       "404277      0      0      0      1\n",
       "404278      0      0      0      1\n",
       "404279      0      0      1      0\n",
       "404280      1      0      0      0\n",
       "404281      1      0      0      0\n",
       "404282      0      0      1      0\n",
       "404283      0      0      0      1\n",
       "404284      1      0      0      0\n",
       "404285      0      0      0      1\n",
       "404286      0      0      0      1\n",
       "404287      1      0      0      0\n",
       "404288      0      0      1      0\n",
       "404289      1      0      0      0\n",
       "404290      1      0      0      0\n",
       "\n",
       "[404291 rows x 4 columns]"
      ]
     },
     "execution_count": 26,
     "metadata": {},
     "output_type": "execute_result"
    }
   ],
   "source": [
    "pd.get_dummies(count_df['C18'], prefix='C18', prefix_sep='=')"
   ]
  },
  {
   "cell_type": "code",
   "execution_count": 27,
   "metadata": {
    "collapsed": false
   },
   "outputs": [
    {
     "data": {
      "text/plain": [
       "0    290910\n",
       "1    112689\n",
       "7       413\n",
       "2       136\n",
       "4        68\n",
       "5        62\n",
       "3        13\n",
       "Name: banner_pos, dtype: int64"
      ]
     },
     "execution_count": 27,
     "metadata": {},
     "output_type": "execute_result"
    }
   ],
   "source": [
    "count_df['banner_pos'].value_counts()"
   ]
  },
  {
   "cell_type": "markdown",
   "metadata": {},
   "source": [
    "# onehot"
   ]
  },
  {
   "cell_type": "code",
   "execution_count": 1,
   "metadata": {
    "collapsed": true
   },
   "outputs": [],
   "source": [
    "import pandas as pd\n",
    "import numpy as np\n",
    "import time\n",
    "import gc\n",
    "data_path = '../data/project_2/'"
   ]
  },
  {
   "cell_type": "code",
   "execution_count": null,
   "metadata": {
    "collapsed": true
   },
   "outputs": [],
   "source": [
    "np.uint"
   ]
  },
  {
   "cell_type": "code",
   "execution_count": 2,
   "metadata": {
    "collapsed": true
   },
   "outputs": [],
   "source": [
    "data = pd.read_csv( data_path+'train.csv',  iterator=True)"
   ]
  },
  {
   "cell_type": "code",
   "execution_count": 3,
   "metadata": {
    "collapsed": true
   },
   "outputs": [],
   "source": [
    "data_tmp = data.get_chunk(1e3)"
   ]
  },
  {
   "cell_type": "code",
   "execution_count": 4,
   "metadata": {
    "collapsed": false,
    "scrolled": false
   },
   "outputs": [
    {
     "data": {
      "text/html": [
       "<div>\n",
       "<style scoped>\n",
       "    .dataframe tbody tr th:only-of-type {\n",
       "        vertical-align: middle;\n",
       "    }\n",
       "\n",
       "    .dataframe tbody tr th {\n",
       "        vertical-align: top;\n",
       "    }\n",
       "\n",
       "    .dataframe thead th {\n",
       "        text-align: right;\n",
       "    }\n",
       "</style>\n",
       "<table border=\"1\" class=\"dataframe\">\n",
       "  <thead>\n",
       "    <tr style=\"text-align: right;\">\n",
       "      <th></th>\n",
       "      <th>id</th>\n",
       "      <th>click</th>\n",
       "      <th>hour</th>\n",
       "      <th>C1</th>\n",
       "      <th>banner_pos</th>\n",
       "      <th>site_id</th>\n",
       "      <th>site_domain</th>\n",
       "      <th>site_category</th>\n",
       "      <th>app_id</th>\n",
       "      <th>app_domain</th>\n",
       "      <th>...</th>\n",
       "      <th>device_type</th>\n",
       "      <th>device_conn_type</th>\n",
       "      <th>C14</th>\n",
       "      <th>C15</th>\n",
       "      <th>C16</th>\n",
       "      <th>C17</th>\n",
       "      <th>C18</th>\n",
       "      <th>C19</th>\n",
       "      <th>C20</th>\n",
       "      <th>C21</th>\n",
       "    </tr>\n",
       "  </thead>\n",
       "  <tbody>\n",
       "    <tr>\n",
       "      <th>995</th>\n",
       "      <td>10143043261436144411</td>\n",
       "      <td>0</td>\n",
       "      <td>14102100</td>\n",
       "      <td>1005</td>\n",
       "      <td>0</td>\n",
       "      <td>1fbe01fe</td>\n",
       "      <td>f3845767</td>\n",
       "      <td>28905ebd</td>\n",
       "      <td>ecad2386</td>\n",
       "      <td>7801e8d9</td>\n",
       "      <td>...</td>\n",
       "      <td>1</td>\n",
       "      <td>0</td>\n",
       "      <td>15708</td>\n",
       "      <td>320</td>\n",
       "      <td>50</td>\n",
       "      <td>1722</td>\n",
       "      <td>0</td>\n",
       "      <td>35</td>\n",
       "      <td>100084</td>\n",
       "      <td>79</td>\n",
       "    </tr>\n",
       "    <tr>\n",
       "      <th>996</th>\n",
       "      <td>1014322937494547310</td>\n",
       "      <td>0</td>\n",
       "      <td>14102100</td>\n",
       "      <td>1005</td>\n",
       "      <td>0</td>\n",
       "      <td>f282ab5a</td>\n",
       "      <td>61eb5bc4</td>\n",
       "      <td>f028772b</td>\n",
       "      <td>ecad2386</td>\n",
       "      <td>7801e8d9</td>\n",
       "      <td>...</td>\n",
       "      <td>1</td>\n",
       "      <td>0</td>\n",
       "      <td>20596</td>\n",
       "      <td>320</td>\n",
       "      <td>50</td>\n",
       "      <td>2161</td>\n",
       "      <td>0</td>\n",
       "      <td>35</td>\n",
       "      <td>-1</td>\n",
       "      <td>157</td>\n",
       "    </tr>\n",
       "    <tr>\n",
       "      <th>997</th>\n",
       "      <td>10143295888139735045</td>\n",
       "      <td>0</td>\n",
       "      <td>14102100</td>\n",
       "      <td>1005</td>\n",
       "      <td>0</td>\n",
       "      <td>030440fe</td>\n",
       "      <td>08ba7db9</td>\n",
       "      <td>76b2941d</td>\n",
       "      <td>ecad2386</td>\n",
       "      <td>7801e8d9</td>\n",
       "      <td>...</td>\n",
       "      <td>1</td>\n",
       "      <td>0</td>\n",
       "      <td>18993</td>\n",
       "      <td>320</td>\n",
       "      <td>50</td>\n",
       "      <td>2161</td>\n",
       "      <td>0</td>\n",
       "      <td>35</td>\n",
       "      <td>-1</td>\n",
       "      <td>157</td>\n",
       "    </tr>\n",
       "    <tr>\n",
       "      <th>998</th>\n",
       "      <td>10143417277678185860</td>\n",
       "      <td>0</td>\n",
       "      <td>14102100</td>\n",
       "      <td>1005</td>\n",
       "      <td>0</td>\n",
       "      <td>1fbe01fe</td>\n",
       "      <td>f3845767</td>\n",
       "      <td>28905ebd</td>\n",
       "      <td>ecad2386</td>\n",
       "      <td>7801e8d9</td>\n",
       "      <td>...</td>\n",
       "      <td>1</td>\n",
       "      <td>0</td>\n",
       "      <td>15703</td>\n",
       "      <td>320</td>\n",
       "      <td>50</td>\n",
       "      <td>1722</td>\n",
       "      <td>0</td>\n",
       "      <td>35</td>\n",
       "      <td>-1</td>\n",
       "      <td>79</td>\n",
       "    </tr>\n",
       "    <tr>\n",
       "      <th>999</th>\n",
       "      <td>10143559787734827068</td>\n",
       "      <td>1</td>\n",
       "      <td>14102100</td>\n",
       "      <td>1005</td>\n",
       "      <td>0</td>\n",
       "      <td>1fbe01fe</td>\n",
       "      <td>f3845767</td>\n",
       "      <td>28905ebd</td>\n",
       "      <td>ecad2386</td>\n",
       "      <td>7801e8d9</td>\n",
       "      <td>...</td>\n",
       "      <td>1</td>\n",
       "      <td>0</td>\n",
       "      <td>15701</td>\n",
       "      <td>320</td>\n",
       "      <td>50</td>\n",
       "      <td>1722</td>\n",
       "      <td>0</td>\n",
       "      <td>35</td>\n",
       "      <td>-1</td>\n",
       "      <td>79</td>\n",
       "    </tr>\n",
       "  </tbody>\n",
       "</table>\n",
       "<p>5 rows × 24 columns</p>\n",
       "</div>"
      ],
      "text/plain": [
       "                       id  click      hour    C1  banner_pos   site_id  \\\n",
       "995  10143043261436144411      0  14102100  1005           0  1fbe01fe   \n",
       "996   1014322937494547310      0  14102100  1005           0  f282ab5a   \n",
       "997  10143295888139735045      0  14102100  1005           0  030440fe   \n",
       "998  10143417277678185860      0  14102100  1005           0  1fbe01fe   \n",
       "999  10143559787734827068      1  14102100  1005           0  1fbe01fe   \n",
       "\n",
       "    site_domain site_category    app_id app_domain ...  device_type  \\\n",
       "995    f3845767      28905ebd  ecad2386   7801e8d9 ...            1   \n",
       "996    61eb5bc4      f028772b  ecad2386   7801e8d9 ...            1   \n",
       "997    08ba7db9      76b2941d  ecad2386   7801e8d9 ...            1   \n",
       "998    f3845767      28905ebd  ecad2386   7801e8d9 ...            1   \n",
       "999    f3845767      28905ebd  ecad2386   7801e8d9 ...            1   \n",
       "\n",
       "    device_conn_type    C14  C15  C16   C17  C18  C19     C20  C21  \n",
       "995                0  15708  320   50  1722    0   35  100084   79  \n",
       "996                0  20596  320   50  2161    0   35      -1  157  \n",
       "997                0  18993  320   50  2161    0   35      -1  157  \n",
       "998                0  15703  320   50  1722    0   35      -1   79  \n",
       "999                0  15701  320   50  1722    0   35      -1   79  \n",
       "\n",
       "[5 rows x 24 columns]"
      ]
     },
     "execution_count": 4,
     "metadata": {},
     "output_type": "execute_result"
    }
   ],
   "source": [
    "data_tmp[-5:]"
   ]
  },
  {
   "cell_type": "code",
   "execution_count": 5,
   "metadata": {
    "collapsed": true
   },
   "outputs": [],
   "source": [
    "count = pd.read_csv( data_path+'count.csv', index_col=0)"
   ]
  },
  {
   "cell_type": "code",
   "execution_count": 6,
   "metadata": {
    "collapsed": false,
    "scrolled": true
   },
   "outputs": [],
   "source": [
    "more_10 = count[count['total']>=10].index"
   ]
  },
  {
   "cell_type": "code",
   "execution_count": 7,
   "metadata": {
    "collapsed": false,
    "scrolled": true
   },
   "outputs": [
    {
     "data": {
      "text/plain": [
       "(645381,)"
      ]
     },
     "execution_count": 7,
     "metadata": {},
     "output_type": "execute_result"
    }
   ],
   "source": [
    "more_10.shape"
   ]
  },
  {
   "cell_type": "code",
   "execution_count": 20,
   "metadata": {
    "collapsed": false
   },
   "outputs": [
    {
     "data": {
      "text/plain": [
       "array([[ 1000009418151094272,                    0,             14102100],\n",
       "       [-9223372036854775808,                    0,             14102100],\n",
       "       [-9223372036854775808,                    0,             14102100],\n",
       "       ..., \n",
       "       [-9223372036854775808,                    0,             14102100],\n",
       "       [-9223372036854775808,                    0,             14102100],\n",
       "       [-9223372036854775808,                    1,             14102100]])"
      ]
     },
     "execution_count": 20,
     "metadata": {},
     "output_type": "execute_result"
    }
   ],
   "source": [
    "data_tmp.loc[:, ['id', 'click', 'hour']].values.astype(np.uint64)"
   ]
  },
  {
   "cell_type": "code",
   "execution_count": 21,
   "metadata": {
    "collapsed": false
   },
   "outputs": [],
   "source": [
    "a = np.concatenate((data_tmp.loc[:, ['id', 'click', 'hour']].values.astype(np.uint64), finale_data),axis=1)"
   ]
  },
  {
   "cell_type": "code",
   "execution_count": 17,
   "metadata": {
    "collapsed": false
   },
   "outputs": [
    {
     "data": {
      "text/plain": [
       "array([  1.00000942e+18,   0.00000000e+00,   1.41021000e+07, ...,\n",
       "         0.00000000e+00,   0.00000000e+00,   0.00000000e+00])"
      ]
     },
     "execution_count": 17,
     "metadata": {},
     "output_type": "execute_result"
    }
   ],
   "source": [
    "a[0]"
   ]
  },
  {
   "cell_type": "code",
   "execution_count": null,
   "metadata": {
    "collapsed": true
   },
   "outputs": [],
   "source": [
    "class GetOneHot(object):\n",
    "    \n",
    "    def __init__(self, data_tmp, more_10, get_index):\n",
    "        # 初始化onehot数组\n",
    "        finale_data = np.zeros((data_tmp.shape[0],more_10.shape[0]), dtype=np.uint64)\n",
    "        # 把特征名称与特征取值结合起来\n",
    "        for c in data_tmp.columns: \n",
    "            if c in ['id', 'click', 'hour']: continue\n",
    "            data_tmp.loc[:, c] = data_tmp.loc[:, c].map(lambda x: c+'='+str(x))\n",
    "        # OneHot编码, 对符合条件的位置, 赋值 1\n",
    "        for i in np.arange(data_tmp.shape[0]):\n",
    "            index = data_tmp.iloc[i,3:]\n",
    "            for c in index:\n",
    "                try: j =  get_index[c]\n",
    "                except KeyError: continue\n",
    "                finale_data[i, j] = 1\n",
    "        # 把['id', 'click', 'hour']拼接到OneHot前面\n",
    "        np.concatenate((data_tmp.loc[:, ['id', 'click', 'hour']].values, finale_data),axis=1)\n",
    "        return finale_data"
   ]
  },
  {
   "cell_type": "code",
   "execution_count": 8,
   "metadata": {
    "collapsed": false
   },
   "outputs": [],
   "source": [
    "finale_data = np.zeros((data_tmp.shape[0],more_10.shape[0]), dtype=np.int64)"
   ]
  },
  {
   "cell_type": "markdown",
   "metadata": {
    "collapsed": false
   },
   "source": [
    "finale_data = pd.DataFrame(data=np.zeros((data_tmp.shape[0],more_10.shape[0])),columns=more_10,dtype=np.int8)"
   ]
  },
  {
   "cell_type": "code",
   "execution_count": 9,
   "metadata": {
    "collapsed": false,
    "scrolled": true
   },
   "outputs": [
    {
     "data": {
      "text/plain": [
       "array([[0, 0, 0, ..., 0, 0, 0],\n",
       "       [0, 0, 0, ..., 0, 0, 0],\n",
       "       [0, 0, 0, ..., 0, 0, 0],\n",
       "       [0, 0, 0, ..., 0, 0, 0],\n",
       "       [0, 0, 0, ..., 0, 0, 0]])"
      ]
     },
     "execution_count": 9,
     "metadata": {},
     "output_type": "execute_result"
    }
   ],
   "source": [
    "finale_data[:5]"
   ]
  },
  {
   "cell_type": "code",
   "execution_count": 10,
   "metadata": {
    "collapsed": false,
    "scrolled": true
   },
   "outputs": [
    {
     "data": {
      "text/plain": [
       "Index(['C14=10289', 'C14=1037', 'C14=1038', 'C14=1039', 'C14=10531',\n",
       "       'C14=10532', 'C14=10534', 'C14=10535', 'C14=10536', 'C14=10895',\n",
       "       ...\n",
       "       'device_ip=d843a6fa', 'device_ip=e15866bd', 'device_ip=e39148ab',\n",
       "       'device_ip=edb4c870', 'device_ip=f59bb3a7', 'device_ip=f68a2cf2',\n",
       "       'device_ip=fe24c87e', 'device_ip=380d2eb0', 'device_ip=72d0c485',\n",
       "       'device_ip=a1af576a'],\n",
       "      dtype='object', length=645381)"
      ]
     },
     "execution_count": 10,
     "metadata": {},
     "output_type": "execute_result"
    }
   ],
   "source": [
    "more_10"
   ]
  },
  {
   "cell_type": "code",
   "execution_count": 11,
   "metadata": {
    "collapsed": false
   },
   "outputs": [],
   "source": [
    "get_index = pd.Series(data=np.arange(more_10.shape[0]), index=more_10, dtype=np.uint64)"
   ]
  },
  {
   "cell_type": "code",
   "execution_count": 12,
   "metadata": {
    "collapsed": false
   },
   "outputs": [
    {
     "data": {
      "text/plain": [
       "device_ip=d843a6fa    645371\n",
       "device_ip=e15866bd    645372\n",
       "device_ip=e39148ab    645373\n",
       "device_ip=edb4c870    645374\n",
       "device_ip=f59bb3a7    645375\n",
       "device_ip=f68a2cf2    645376\n",
       "device_ip=fe24c87e    645377\n",
       "device_ip=380d2eb0    645378\n",
       "device_ip=72d0c485    645379\n",
       "device_ip=a1af576a    645380\n",
       "dtype: int64"
      ]
     },
     "execution_count": 12,
     "metadata": {},
     "output_type": "execute_result"
    }
   ],
   "source": [
    "get_index[-10:]"
   ]
  },
  {
   "cell_type": "code",
   "execution_count": 13,
   "metadata": {
    "collapsed": true
   },
   "outputs": [],
   "source": [
    "for c in data_tmp.columns:\n",
    "    if c in ['id', 'click', 'hour']: continue\n",
    "    data_tmp.loc[:, c] = data_tmp.loc[:, c].map(lambda x: c+'='+str(x))\n",
    "    "
   ]
  },
  {
   "cell_type": "code",
   "execution_count": 14,
   "metadata": {
    "collapsed": false,
    "scrolled": true
   },
   "outputs": [
    {
     "data": {
      "text/html": [
       "<div>\n",
       "<style scoped>\n",
       "    .dataframe tbody tr th:only-of-type {\n",
       "        vertical-align: middle;\n",
       "    }\n",
       "\n",
       "    .dataframe tbody tr th {\n",
       "        vertical-align: top;\n",
       "    }\n",
       "\n",
       "    .dataframe thead th {\n",
       "        text-align: right;\n",
       "    }\n",
       "</style>\n",
       "<table border=\"1\" class=\"dataframe\">\n",
       "  <thead>\n",
       "    <tr style=\"text-align: right;\">\n",
       "      <th></th>\n",
       "      <th>id</th>\n",
       "      <th>click</th>\n",
       "      <th>hour</th>\n",
       "      <th>C1</th>\n",
       "      <th>banner_pos</th>\n",
       "      <th>site_id</th>\n",
       "      <th>site_domain</th>\n",
       "      <th>site_category</th>\n",
       "      <th>app_id</th>\n",
       "      <th>app_domain</th>\n",
       "      <th>...</th>\n",
       "      <th>device_type</th>\n",
       "      <th>device_conn_type</th>\n",
       "      <th>C14</th>\n",
       "      <th>C15</th>\n",
       "      <th>C16</th>\n",
       "      <th>C17</th>\n",
       "      <th>C18</th>\n",
       "      <th>C19</th>\n",
       "      <th>C20</th>\n",
       "      <th>C21</th>\n",
       "    </tr>\n",
       "  </thead>\n",
       "  <tbody>\n",
       "    <tr>\n",
       "      <th>0</th>\n",
       "      <td>1000009418151094273</td>\n",
       "      <td>0</td>\n",
       "      <td>14102100</td>\n",
       "      <td>C1=1005</td>\n",
       "      <td>banner_pos=0</td>\n",
       "      <td>site_id=1fbe01fe</td>\n",
       "      <td>site_domain=f3845767</td>\n",
       "      <td>site_category=28905ebd</td>\n",
       "      <td>app_id=ecad2386</td>\n",
       "      <td>app_domain=7801e8d9</td>\n",
       "      <td>...</td>\n",
       "      <td>device_type=1</td>\n",
       "      <td>device_conn_type=2</td>\n",
       "      <td>C14=15706</td>\n",
       "      <td>C15=320</td>\n",
       "      <td>C16=50</td>\n",
       "      <td>C17=1722</td>\n",
       "      <td>C18=0</td>\n",
       "      <td>C19=35</td>\n",
       "      <td>C20=-1</td>\n",
       "      <td>C21=79</td>\n",
       "    </tr>\n",
       "    <tr>\n",
       "      <th>1</th>\n",
       "      <td>10000169349117863715</td>\n",
       "      <td>0</td>\n",
       "      <td>14102100</td>\n",
       "      <td>C1=1005</td>\n",
       "      <td>banner_pos=0</td>\n",
       "      <td>site_id=1fbe01fe</td>\n",
       "      <td>site_domain=f3845767</td>\n",
       "      <td>site_category=28905ebd</td>\n",
       "      <td>app_id=ecad2386</td>\n",
       "      <td>app_domain=7801e8d9</td>\n",
       "      <td>...</td>\n",
       "      <td>device_type=1</td>\n",
       "      <td>device_conn_type=0</td>\n",
       "      <td>C14=15704</td>\n",
       "      <td>C15=320</td>\n",
       "      <td>C16=50</td>\n",
       "      <td>C17=1722</td>\n",
       "      <td>C18=0</td>\n",
       "      <td>C19=35</td>\n",
       "      <td>C20=100084</td>\n",
       "      <td>C21=79</td>\n",
       "    </tr>\n",
       "    <tr>\n",
       "      <th>2</th>\n",
       "      <td>10000371904215119486</td>\n",
       "      <td>0</td>\n",
       "      <td>14102100</td>\n",
       "      <td>C1=1005</td>\n",
       "      <td>banner_pos=0</td>\n",
       "      <td>site_id=1fbe01fe</td>\n",
       "      <td>site_domain=f3845767</td>\n",
       "      <td>site_category=28905ebd</td>\n",
       "      <td>app_id=ecad2386</td>\n",
       "      <td>app_domain=7801e8d9</td>\n",
       "      <td>...</td>\n",
       "      <td>device_type=1</td>\n",
       "      <td>device_conn_type=0</td>\n",
       "      <td>C14=15704</td>\n",
       "      <td>C15=320</td>\n",
       "      <td>C16=50</td>\n",
       "      <td>C17=1722</td>\n",
       "      <td>C18=0</td>\n",
       "      <td>C19=35</td>\n",
       "      <td>C20=100084</td>\n",
       "      <td>C21=79</td>\n",
       "    </tr>\n",
       "    <tr>\n",
       "      <th>3</th>\n",
       "      <td>10000640724480838376</td>\n",
       "      <td>0</td>\n",
       "      <td>14102100</td>\n",
       "      <td>C1=1005</td>\n",
       "      <td>banner_pos=0</td>\n",
       "      <td>site_id=1fbe01fe</td>\n",
       "      <td>site_domain=f3845767</td>\n",
       "      <td>site_category=28905ebd</td>\n",
       "      <td>app_id=ecad2386</td>\n",
       "      <td>app_domain=7801e8d9</td>\n",
       "      <td>...</td>\n",
       "      <td>device_type=1</td>\n",
       "      <td>device_conn_type=0</td>\n",
       "      <td>C14=15706</td>\n",
       "      <td>C15=320</td>\n",
       "      <td>C16=50</td>\n",
       "      <td>C17=1722</td>\n",
       "      <td>C18=0</td>\n",
       "      <td>C19=35</td>\n",
       "      <td>C20=100084</td>\n",
       "      <td>C21=79</td>\n",
       "    </tr>\n",
       "    <tr>\n",
       "      <th>4</th>\n",
       "      <td>10000679056417042096</td>\n",
       "      <td>0</td>\n",
       "      <td>14102100</td>\n",
       "      <td>C1=1005</td>\n",
       "      <td>banner_pos=1</td>\n",
       "      <td>site_id=fe8cc448</td>\n",
       "      <td>site_domain=9166c161</td>\n",
       "      <td>site_category=0569f928</td>\n",
       "      <td>app_id=ecad2386</td>\n",
       "      <td>app_domain=7801e8d9</td>\n",
       "      <td>...</td>\n",
       "      <td>device_type=1</td>\n",
       "      <td>device_conn_type=0</td>\n",
       "      <td>C14=18993</td>\n",
       "      <td>C15=320</td>\n",
       "      <td>C16=50</td>\n",
       "      <td>C17=2161</td>\n",
       "      <td>C18=0</td>\n",
       "      <td>C19=35</td>\n",
       "      <td>C20=-1</td>\n",
       "      <td>C21=157</td>\n",
       "    </tr>\n",
       "  </tbody>\n",
       "</table>\n",
       "<p>5 rows × 24 columns</p>\n",
       "</div>"
      ],
      "text/plain": [
       "                     id  click      hour       C1    banner_pos  \\\n",
       "0   1000009418151094273      0  14102100  C1=1005  banner_pos=0   \n",
       "1  10000169349117863715      0  14102100  C1=1005  banner_pos=0   \n",
       "2  10000371904215119486      0  14102100  C1=1005  banner_pos=0   \n",
       "3  10000640724480838376      0  14102100  C1=1005  banner_pos=0   \n",
       "4  10000679056417042096      0  14102100  C1=1005  banner_pos=1   \n",
       "\n",
       "            site_id           site_domain           site_category  \\\n",
       "0  site_id=1fbe01fe  site_domain=f3845767  site_category=28905ebd   \n",
       "1  site_id=1fbe01fe  site_domain=f3845767  site_category=28905ebd   \n",
       "2  site_id=1fbe01fe  site_domain=f3845767  site_category=28905ebd   \n",
       "3  site_id=1fbe01fe  site_domain=f3845767  site_category=28905ebd   \n",
       "4  site_id=fe8cc448  site_domain=9166c161  site_category=0569f928   \n",
       "\n",
       "            app_id           app_domain   ...       device_type  \\\n",
       "0  app_id=ecad2386  app_domain=7801e8d9   ...     device_type=1   \n",
       "1  app_id=ecad2386  app_domain=7801e8d9   ...     device_type=1   \n",
       "2  app_id=ecad2386  app_domain=7801e8d9   ...     device_type=1   \n",
       "3  app_id=ecad2386  app_domain=7801e8d9   ...     device_type=1   \n",
       "4  app_id=ecad2386  app_domain=7801e8d9   ...     device_type=1   \n",
       "\n",
       "     device_conn_type        C14      C15     C16       C17    C18     C19  \\\n",
       "0  device_conn_type=2  C14=15706  C15=320  C16=50  C17=1722  C18=0  C19=35   \n",
       "1  device_conn_type=0  C14=15704  C15=320  C16=50  C17=1722  C18=0  C19=35   \n",
       "2  device_conn_type=0  C14=15704  C15=320  C16=50  C17=1722  C18=0  C19=35   \n",
       "3  device_conn_type=0  C14=15706  C15=320  C16=50  C17=1722  C18=0  C19=35   \n",
       "4  device_conn_type=0  C14=18993  C15=320  C16=50  C17=2161  C18=0  C19=35   \n",
       "\n",
       "          C20      C21  \n",
       "0      C20=-1   C21=79  \n",
       "1  C20=100084   C21=79  \n",
       "2  C20=100084   C21=79  \n",
       "3  C20=100084   C21=79  \n",
       "4      C20=-1  C21=157  \n",
       "\n",
       "[5 rows x 24 columns]"
      ]
     },
     "execution_count": 14,
     "metadata": {},
     "output_type": "execute_result"
    }
   ],
   "source": [
    "data_tmp[:5]"
   ]
  },
  {
   "cell_type": "markdown",
   "metadata": {
    "collapsed": true
   },
   "source": [
    "i=2\n",
    "index = data_tmp.iloc[i,3:]\n",
    "index"
   ]
  },
  {
   "cell_type": "markdown",
   "metadata": {
    "collapsed": false,
    "scrolled": true
   },
   "source": [
    "for c in index:\n",
    "    try: j =  get_index[c]\n",
    "    except KeyError: continue\n",
    "    print(j)\n",
    "    finale_data[i, j] = 1"
   ]
  },
  {
   "cell_type": "markdown",
   "metadata": {},
   "source": [
    "finale_data[2].sum()"
   ]
  },
  {
   "cell_type": "markdown",
   "metadata": {
    "collapsed": false
   },
   "source": [
    "finale_data.sum()"
   ]
  },
  {
   "cell_type": "markdown",
   "metadata": {},
   "source": [
    "finale_data.info()"
   ]
  },
  {
   "cell_type": "code",
   "execution_count": 15,
   "metadata": {
    "collapsed": false
   },
   "outputs": [],
   "source": [
    "for i in np.arange(data_tmp.shape[0]):\n",
    "    index = data_tmp.iloc[i,3:]\n",
    "    for c in index:\n",
    "        try: j =  get_index[c]\n",
    "        except KeyError: continue\n",
    "        finale_data[i, j] = 1"
   ]
  },
  {
   "cell_type": "markdown",
   "metadata": {
    "collapsed": true
   },
   "source": [
    "import scipy.sparse as ss"
   ]
  },
  {
   "cell_type": "markdown",
   "metadata": {
    "collapsed": false
   },
   "source": [
    "dir(ss)"
   ]
  },
  {
   "cell_type": "markdown",
   "metadata": {},
   "source": [
    "test = ss.csr_matrix(finale_data)"
   ]
  },
  {
   "cell_type": "markdown",
   "metadata": {},
   "source": [
    "test.toarray().sum()"
   ]
  },
  {
   "cell_type": "markdown",
   "metadata": {
    "collapsed": true
   },
   "source": [
    "ss.save_npz('testcsr.npz', test)"
   ]
  },
  {
   "cell_type": "markdown",
   "metadata": {},
   "source": [
    "for c in count_df_1.columns:\n",
    "    print((count_df_666.loc[:50, c] != count_df_1.loc[:50, c]).sum())"
   ]
  },
  {
   "cell_type": "markdown",
   "metadata": {
    "collapsed": false,
    "scrolled": true
   },
   "source": [
    "DF_tmp = pd.DataFrame(data=finale_data, dtype=np.int8)"
   ]
  },
  {
   "cell_type": "markdown",
   "metadata": {
    "collapsed": false,
    "scrolled": true
   },
   "source": [
    "DF_tmp.sum().sum()"
   ]
  },
  {
   "cell_type": "markdown",
   "metadata": {
    "collapsed": false
   },
   "source": [
    "gc.collect()"
   ]
  },
  {
   "cell_type": "markdown",
   "metadata": {
    "collapsed": false
   },
   "source": [
    "a = DF_tmp[:10].to_sparse()"
   ]
  },
  {
   "cell_type": "markdown",
   "metadata": {
    "collapsed": false
   },
   "source": [
    "DF_tmp.to_csv('df.csv',mode='a', index=False, header=False)"
   ]
  },
  {
   "cell_type": "code",
   "execution_count": 92,
   "metadata": {
    "collapsed": false
   },
   "outputs": [],
   "source": [
    "onehot = tmp.pop('click')"
   ]
  },
  {
   "cell_type": "code",
   "execution_count": null,
   "metadata": {
    "collapsed": false,
    "scrolled": true
   },
   "outputs": [
    {
     "ename": "KeyboardInterrupt",
     "evalue": "",
     "output_type": "error",
     "traceback": [
      "\u001b[0;31m---------------------------------------------------------------------------\u001b[0m",
      "\u001b[0;31mKeyboardInterrupt\u001b[0m                         Traceback (most recent call last)",
      "\u001b[0;32m<ipython-input-93-9510a42ffc97>\u001b[0m in \u001b[0;36m<module>\u001b[0;34m()\u001b[0m\n\u001b[1;32m      4\u001b[0m     \u001b[0monehot_tmp\u001b[0m \u001b[0;34m=\u001b[0m \u001b[0mtmp\u001b[0m\u001b[0;34m.\u001b[0m\u001b[0mpop\u001b[0m\u001b[0;34m(\u001b[0m\u001b[0mi\u001b[0m\u001b[0;34m)\u001b[0m\u001b[0;34m\u001b[0m\u001b[0m\n\u001b[1;32m      5\u001b[0m     \u001b[0monehot_tmp\u001b[0m \u001b[0;34m=\u001b[0m \u001b[0mpd\u001b[0m\u001b[0;34m.\u001b[0m\u001b[0mget_dummies\u001b[0m\u001b[0;34m(\u001b[0m\u001b[0monehot_tmp\u001b[0m\u001b[0;34m,\u001b[0m \u001b[0mprefix\u001b[0m\u001b[0;34m=\u001b[0m\u001b[0mi\u001b[0m\u001b[0;34m,\u001b[0m \u001b[0mprefix_sep\u001b[0m\u001b[0;34m=\u001b[0m\u001b[0;34m'='\u001b[0m\u001b[0;34m)\u001b[0m\u001b[0;34m\u001b[0m\u001b[0m\n\u001b[0;32m----> 6\u001b[0;31m     \u001b[0monehot\u001b[0m \u001b[0;34m=\u001b[0m \u001b[0mpd\u001b[0m\u001b[0;34m.\u001b[0m\u001b[0mconcat\u001b[0m\u001b[0;34m(\u001b[0m\u001b[0;34m(\u001b[0m\u001b[0monehot\u001b[0m\u001b[0;34m,\u001b[0m\u001b[0monehot_tmp\u001b[0m\u001b[0;34m)\u001b[0m\u001b[0;34m,\u001b[0m \u001b[0maxis\u001b[0m\u001b[0;34m=\u001b[0m\u001b[0;36m1\u001b[0m\u001b[0;34m)\u001b[0m\u001b[0;34m\u001b[0m\u001b[0m\n\u001b[0m",
      "\u001b[0;32m/home/zhou/anaconda3/lib/python3.5/site-packages/pandas/core/reshape/concat.py\u001b[0m in \u001b[0;36mconcat\u001b[0;34m(objs, axis, join, join_axes, ignore_index, keys, levels, names, verify_integrity, sort, copy)\u001b[0m\n\u001b[1;32m    223\u001b[0m                        \u001b[0mkeys\u001b[0m\u001b[0;34m=\u001b[0m\u001b[0mkeys\u001b[0m\u001b[0;34m,\u001b[0m \u001b[0mlevels\u001b[0m\u001b[0;34m=\u001b[0m\u001b[0mlevels\u001b[0m\u001b[0;34m,\u001b[0m \u001b[0mnames\u001b[0m\u001b[0;34m=\u001b[0m\u001b[0mnames\u001b[0m\u001b[0;34m,\u001b[0m\u001b[0;34m\u001b[0m\u001b[0m\n\u001b[1;32m    224\u001b[0m                        \u001b[0mverify_integrity\u001b[0m\u001b[0;34m=\u001b[0m\u001b[0mverify_integrity\u001b[0m\u001b[0;34m,\u001b[0m\u001b[0;34m\u001b[0m\u001b[0m\n\u001b[0;32m--> 225\u001b[0;31m                        copy=copy, sort=sort)\n\u001b[0m\u001b[1;32m    226\u001b[0m     \u001b[0;32mreturn\u001b[0m \u001b[0mop\u001b[0m\u001b[0;34m.\u001b[0m\u001b[0mget_result\u001b[0m\u001b[0;34m(\u001b[0m\u001b[0;34m)\u001b[0m\u001b[0;34m\u001b[0m\u001b[0m\n\u001b[1;32m    227\u001b[0m \u001b[0;34m\u001b[0m\u001b[0m\n",
      "\u001b[0;32m/home/zhou/anaconda3/lib/python3.5/site-packages/pandas/core/reshape/concat.py\u001b[0m in \u001b[0;36m__init__\u001b[0;34m(self, objs, axis, join, join_axes, keys, levels, names, ignore_index, verify_integrity, copy, sort)\u001b[0m\n\u001b[1;32m    287\u001b[0m \u001b[0;34m\u001b[0m\u001b[0m\n\u001b[1;32m    288\u001b[0m             \u001b[0;31m# consolidate\u001b[0m\u001b[0;34m\u001b[0m\u001b[0;34m\u001b[0m\u001b[0m\n\u001b[0;32m--> 289\u001b[0;31m             \u001b[0mobj\u001b[0m\u001b[0;34m.\u001b[0m\u001b[0m_consolidate\u001b[0m\u001b[0;34m(\u001b[0m\u001b[0minplace\u001b[0m\u001b[0;34m=\u001b[0m\u001b[0;32mTrue\u001b[0m\u001b[0;34m)\u001b[0m\u001b[0;34m\u001b[0m\u001b[0m\n\u001b[0m\u001b[1;32m    290\u001b[0m             \u001b[0mndims\u001b[0m\u001b[0;34m.\u001b[0m\u001b[0madd\u001b[0m\u001b[0;34m(\u001b[0m\u001b[0mobj\u001b[0m\u001b[0;34m.\u001b[0m\u001b[0mndim\u001b[0m\u001b[0;34m)\u001b[0m\u001b[0;34m\u001b[0m\u001b[0m\n\u001b[1;32m    291\u001b[0m \u001b[0;34m\u001b[0m\u001b[0m\n",
      "\u001b[0;32m/home/zhou/anaconda3/lib/python3.5/site-packages/pandas/core/generic.py\u001b[0m in \u001b[0;36m_consolidate\u001b[0;34m(self, inplace)\u001b[0m\n\u001b[1;32m   4451\u001b[0m         \u001b[0minplace\u001b[0m \u001b[0;34m=\u001b[0m \u001b[0mvalidate_bool_kwarg\u001b[0m\u001b[0;34m(\u001b[0m\u001b[0minplace\u001b[0m\u001b[0;34m,\u001b[0m \u001b[0;34m'inplace'\u001b[0m\u001b[0;34m)\u001b[0m\u001b[0;34m\u001b[0m\u001b[0m\n\u001b[1;32m   4452\u001b[0m         \u001b[0;32mif\u001b[0m \u001b[0minplace\u001b[0m\u001b[0;34m:\u001b[0m\u001b[0;34m\u001b[0m\u001b[0m\n\u001b[0;32m-> 4453\u001b[0;31m             \u001b[0mself\u001b[0m\u001b[0;34m.\u001b[0m\u001b[0m_consolidate_inplace\u001b[0m\u001b[0;34m(\u001b[0m\u001b[0;34m)\u001b[0m\u001b[0;34m\u001b[0m\u001b[0m\n\u001b[0m\u001b[1;32m   4454\u001b[0m         \u001b[0;32melse\u001b[0m\u001b[0;34m:\u001b[0m\u001b[0;34m\u001b[0m\u001b[0m\n\u001b[1;32m   4455\u001b[0m             \u001b[0mf\u001b[0m \u001b[0;34m=\u001b[0m \u001b[0;32mlambda\u001b[0m\u001b[0;34m:\u001b[0m \u001b[0mself\u001b[0m\u001b[0;34m.\u001b[0m\u001b[0m_data\u001b[0m\u001b[0;34m.\u001b[0m\u001b[0mconsolidate\u001b[0m\u001b[0;34m(\u001b[0m\u001b[0;34m)\u001b[0m\u001b[0;34m\u001b[0m\u001b[0m\n",
      "\u001b[0;32m/home/zhou/anaconda3/lib/python3.5/site-packages/pandas/core/generic.py\u001b[0m in \u001b[0;36m_consolidate_inplace\u001b[0;34m(self)\u001b[0m\n\u001b[1;32m   4433\u001b[0m             \u001b[0mself\u001b[0m\u001b[0;34m.\u001b[0m\u001b[0m_data\u001b[0m \u001b[0;34m=\u001b[0m \u001b[0mself\u001b[0m\u001b[0;34m.\u001b[0m\u001b[0m_data\u001b[0m\u001b[0;34m.\u001b[0m\u001b[0mconsolidate\u001b[0m\u001b[0;34m(\u001b[0m\u001b[0;34m)\u001b[0m\u001b[0;34m\u001b[0m\u001b[0m\n\u001b[1;32m   4434\u001b[0m \u001b[0;34m\u001b[0m\u001b[0m\n\u001b[0;32m-> 4435\u001b[0;31m         \u001b[0mself\u001b[0m\u001b[0;34m.\u001b[0m\u001b[0m_protect_consolidate\u001b[0m\u001b[0;34m(\u001b[0m\u001b[0mf\u001b[0m\u001b[0;34m)\u001b[0m\u001b[0;34m\u001b[0m\u001b[0m\n\u001b[0m\u001b[1;32m   4436\u001b[0m \u001b[0;34m\u001b[0m\u001b[0m\n\u001b[1;32m   4437\u001b[0m     \u001b[0;32mdef\u001b[0m \u001b[0m_consolidate\u001b[0m\u001b[0;34m(\u001b[0m\u001b[0mself\u001b[0m\u001b[0;34m,\u001b[0m \u001b[0minplace\u001b[0m\u001b[0;34m=\u001b[0m\u001b[0;32mFalse\u001b[0m\u001b[0;34m)\u001b[0m\u001b[0;34m:\u001b[0m\u001b[0;34m\u001b[0m\u001b[0m\n",
      "\u001b[0;32m/home/zhou/anaconda3/lib/python3.5/site-packages/pandas/core/generic.py\u001b[0m in \u001b[0;36m_protect_consolidate\u001b[0;34m(self, f)\u001b[0m\n\u001b[1;32m   4422\u001b[0m         \"\"\"\n\u001b[1;32m   4423\u001b[0m         \u001b[0mblocks_before\u001b[0m \u001b[0;34m=\u001b[0m \u001b[0mlen\u001b[0m\u001b[0;34m(\u001b[0m\u001b[0mself\u001b[0m\u001b[0;34m.\u001b[0m\u001b[0m_data\u001b[0m\u001b[0;34m.\u001b[0m\u001b[0mblocks\u001b[0m\u001b[0;34m)\u001b[0m\u001b[0;34m\u001b[0m\u001b[0m\n\u001b[0;32m-> 4424\u001b[0;31m         \u001b[0mresult\u001b[0m \u001b[0;34m=\u001b[0m \u001b[0mf\u001b[0m\u001b[0;34m(\u001b[0m\u001b[0;34m)\u001b[0m\u001b[0;34m\u001b[0m\u001b[0m\n\u001b[0m\u001b[1;32m   4425\u001b[0m         \u001b[0;32mif\u001b[0m \u001b[0mlen\u001b[0m\u001b[0;34m(\u001b[0m\u001b[0mself\u001b[0m\u001b[0;34m.\u001b[0m\u001b[0m_data\u001b[0m\u001b[0;34m.\u001b[0m\u001b[0mblocks\u001b[0m\u001b[0;34m)\u001b[0m \u001b[0;34m!=\u001b[0m \u001b[0mblocks_before\u001b[0m\u001b[0;34m:\u001b[0m\u001b[0;34m\u001b[0m\u001b[0m\n\u001b[1;32m   4426\u001b[0m             \u001b[0mself\u001b[0m\u001b[0;34m.\u001b[0m\u001b[0m_clear_item_cache\u001b[0m\u001b[0;34m(\u001b[0m\u001b[0;34m)\u001b[0m\u001b[0;34m\u001b[0m\u001b[0m\n",
      "\u001b[0;32m/home/zhou/anaconda3/lib/python3.5/site-packages/pandas/core/generic.py\u001b[0m in \u001b[0;36mf\u001b[0;34m()\u001b[0m\n\u001b[1;32m   4431\u001b[0m \u001b[0;34m\u001b[0m\u001b[0m\n\u001b[1;32m   4432\u001b[0m         \u001b[0;32mdef\u001b[0m \u001b[0mf\u001b[0m\u001b[0;34m(\u001b[0m\u001b[0;34m)\u001b[0m\u001b[0;34m:\u001b[0m\u001b[0;34m\u001b[0m\u001b[0m\n\u001b[0;32m-> 4433\u001b[0;31m             \u001b[0mself\u001b[0m\u001b[0;34m.\u001b[0m\u001b[0m_data\u001b[0m \u001b[0;34m=\u001b[0m \u001b[0mself\u001b[0m\u001b[0;34m.\u001b[0m\u001b[0m_data\u001b[0m\u001b[0;34m.\u001b[0m\u001b[0mconsolidate\u001b[0m\u001b[0;34m(\u001b[0m\u001b[0;34m)\u001b[0m\u001b[0;34m\u001b[0m\u001b[0m\n\u001b[0m\u001b[1;32m   4434\u001b[0m \u001b[0;34m\u001b[0m\u001b[0m\n\u001b[1;32m   4435\u001b[0m         \u001b[0mself\u001b[0m\u001b[0;34m.\u001b[0m\u001b[0m_protect_consolidate\u001b[0m\u001b[0;34m(\u001b[0m\u001b[0mf\u001b[0m\u001b[0;34m)\u001b[0m\u001b[0;34m\u001b[0m\u001b[0m\n",
      "\u001b[0;32m/home/zhou/anaconda3/lib/python3.5/site-packages/pandas/core/internals.py\u001b[0m in \u001b[0;36mconsolidate\u001b[0;34m(self)\u001b[0m\n\u001b[1;32m   4096\u001b[0m         \u001b[0mbm\u001b[0m \u001b[0;34m=\u001b[0m \u001b[0mself\u001b[0m\u001b[0;34m.\u001b[0m\u001b[0m__class__\u001b[0m\u001b[0;34m(\u001b[0m\u001b[0mself\u001b[0m\u001b[0;34m.\u001b[0m\u001b[0mblocks\u001b[0m\u001b[0;34m,\u001b[0m \u001b[0mself\u001b[0m\u001b[0;34m.\u001b[0m\u001b[0maxes\u001b[0m\u001b[0;34m)\u001b[0m\u001b[0;34m\u001b[0m\u001b[0m\n\u001b[1;32m   4097\u001b[0m         \u001b[0mbm\u001b[0m\u001b[0;34m.\u001b[0m\u001b[0m_is_consolidated\u001b[0m \u001b[0;34m=\u001b[0m \u001b[0;32mFalse\u001b[0m\u001b[0;34m\u001b[0m\u001b[0m\n\u001b[0;32m-> 4098\u001b[0;31m         \u001b[0mbm\u001b[0m\u001b[0;34m.\u001b[0m\u001b[0m_consolidate_inplace\u001b[0m\u001b[0;34m(\u001b[0m\u001b[0;34m)\u001b[0m\u001b[0;34m\u001b[0m\u001b[0m\n\u001b[0m\u001b[1;32m   4099\u001b[0m         \u001b[0;32mreturn\u001b[0m \u001b[0mbm\u001b[0m\u001b[0;34m\u001b[0m\u001b[0m\n\u001b[1;32m   4100\u001b[0m \u001b[0;34m\u001b[0m\u001b[0m\n",
      "\u001b[0;32m/home/zhou/anaconda3/lib/python3.5/site-packages/pandas/core/internals.py\u001b[0m in \u001b[0;36m_consolidate_inplace\u001b[0;34m(self)\u001b[0m\n\u001b[1;32m   4101\u001b[0m     \u001b[0;32mdef\u001b[0m \u001b[0m_consolidate_inplace\u001b[0m\u001b[0;34m(\u001b[0m\u001b[0mself\u001b[0m\u001b[0;34m)\u001b[0m\u001b[0;34m:\u001b[0m\u001b[0;34m\u001b[0m\u001b[0m\n\u001b[1;32m   4102\u001b[0m         \u001b[0;32mif\u001b[0m \u001b[0;32mnot\u001b[0m \u001b[0mself\u001b[0m\u001b[0;34m.\u001b[0m\u001b[0mis_consolidated\u001b[0m\u001b[0;34m(\u001b[0m\u001b[0;34m)\u001b[0m\u001b[0;34m:\u001b[0m\u001b[0;34m\u001b[0m\u001b[0m\n\u001b[0;32m-> 4103\u001b[0;31m             \u001b[0mself\u001b[0m\u001b[0;34m.\u001b[0m\u001b[0mblocks\u001b[0m \u001b[0;34m=\u001b[0m \u001b[0mtuple\u001b[0m\u001b[0;34m(\u001b[0m\u001b[0m_consolidate\u001b[0m\u001b[0;34m(\u001b[0m\u001b[0mself\u001b[0m\u001b[0;34m.\u001b[0m\u001b[0mblocks\u001b[0m\u001b[0;34m)\u001b[0m\u001b[0;34m)\u001b[0m\u001b[0;34m\u001b[0m\u001b[0m\n\u001b[0m\u001b[1;32m   4104\u001b[0m             \u001b[0mself\u001b[0m\u001b[0;34m.\u001b[0m\u001b[0m_is_consolidated\u001b[0m \u001b[0;34m=\u001b[0m \u001b[0;32mTrue\u001b[0m\u001b[0;34m\u001b[0m\u001b[0m\n\u001b[1;32m   4105\u001b[0m             \u001b[0mself\u001b[0m\u001b[0;34m.\u001b[0m\u001b[0m_known_consolidated\u001b[0m \u001b[0;34m=\u001b[0m \u001b[0;32mTrue\u001b[0m\u001b[0;34m\u001b[0m\u001b[0m\n",
      "\u001b[0;32m/home/zhou/anaconda3/lib/python3.5/site-packages/pandas/core/internals.py\u001b[0m in \u001b[0;36m_consolidate\u001b[0;34m(blocks)\u001b[0m\n\u001b[1;32m   5067\u001b[0m     \u001b[0;32mfor\u001b[0m \u001b[0;34m(\u001b[0m\u001b[0m_can_consolidate\u001b[0m\u001b[0;34m,\u001b[0m \u001b[0mdtype\u001b[0m\u001b[0;34m)\u001b[0m\u001b[0;34m,\u001b[0m \u001b[0mgroup_blocks\u001b[0m \u001b[0;32min\u001b[0m \u001b[0mgrouper\u001b[0m\u001b[0;34m:\u001b[0m\u001b[0;34m\u001b[0m\u001b[0m\n\u001b[1;32m   5068\u001b[0m         merged_blocks = _merge_blocks(list(group_blocks), dtype=dtype,\n\u001b[0;32m-> 5069\u001b[0;31m                                       _can_consolidate=_can_consolidate)\n\u001b[0m\u001b[1;32m   5070\u001b[0m         \u001b[0mnew_blocks\u001b[0m \u001b[0;34m=\u001b[0m \u001b[0m_extend_blocks\u001b[0m\u001b[0;34m(\u001b[0m\u001b[0mmerged_blocks\u001b[0m\u001b[0;34m,\u001b[0m \u001b[0mnew_blocks\u001b[0m\u001b[0;34m)\u001b[0m\u001b[0;34m\u001b[0m\u001b[0m\n\u001b[1;32m   5071\u001b[0m     \u001b[0;32mreturn\u001b[0m \u001b[0mnew_blocks\u001b[0m\u001b[0;34m\u001b[0m\u001b[0m\n",
      "\u001b[0;32m/home/zhou/anaconda3/lib/python3.5/site-packages/pandas/core/internals.py\u001b[0m in \u001b[0;36m_merge_blocks\u001b[0;34m(blocks, dtype, _can_consolidate)\u001b[0m\n\u001b[1;32m   5090\u001b[0m \u001b[0;34m\u001b[0m\u001b[0m\n\u001b[1;32m   5091\u001b[0m         \u001b[0margsort\u001b[0m \u001b[0;34m=\u001b[0m \u001b[0mnp\u001b[0m\u001b[0;34m.\u001b[0m\u001b[0margsort\u001b[0m\u001b[0;34m(\u001b[0m\u001b[0mnew_mgr_locs\u001b[0m\u001b[0;34m)\u001b[0m\u001b[0;34m\u001b[0m\u001b[0m\n\u001b[0;32m-> 5092\u001b[0;31m         \u001b[0mnew_values\u001b[0m \u001b[0;34m=\u001b[0m \u001b[0mnew_values\u001b[0m\u001b[0;34m[\u001b[0m\u001b[0margsort\u001b[0m\u001b[0;34m]\u001b[0m\u001b[0;34m\u001b[0m\u001b[0m\n\u001b[0m\u001b[1;32m   5093\u001b[0m         \u001b[0mnew_mgr_locs\u001b[0m \u001b[0;34m=\u001b[0m \u001b[0mnew_mgr_locs\u001b[0m\u001b[0;34m[\u001b[0m\u001b[0margsort\u001b[0m\u001b[0;34m]\u001b[0m\u001b[0;34m\u001b[0m\u001b[0m\n\u001b[1;32m   5094\u001b[0m \u001b[0;34m\u001b[0m\u001b[0m\n",
      "\u001b[0;31mKeyboardInterrupt\u001b[0m: "
     ]
    }
   ],
   "source": [
    "for i in tmp.columns:\n",
    "    if i in ['id', 'click', 'hour']:\n",
    "            continue\n",
    "    onehot_tmp = tmp.pop(i)\n",
    "    onehot_tmp = pd.get_dummies(onehot_tmp, prefix=i, prefix_sep='=')\n",
    "    onehot = pd.concat((onehot,onehot_tmp), axis=1)"
   ]
  },
  {
   "cell_type": "code",
   "execution_count": 140,
   "metadata": {
    "collapsed": false,
    "scrolled": true
   },
   "outputs": [
    {
     "data": {
      "text/plain": [
       "Index(['click', 'C1=1001', 'C1=1002', 'C1=1005', 'C1=1007', 'C1=1008',\n",
       "       'C1=1010', 'C1=1012', 'banner_pos=0', 'banner_pos=1',\n",
       "       ...\n",
       "       'C21=111', 'C21=112', 'C21=116', 'C21=117', 'C21=156', 'C21=157',\n",
       "       'C21=194', 'C21=195', 'C21=219', 'C21=221'],\n",
       "      dtype='object', length=6616)"
      ]
     },
     "execution_count": 140,
     "metadata": {},
     "output_type": "execute_result"
    }
   ],
   "source": [
    "onehot.columns"
   ]
  },
  {
   "cell_type": "code",
   "execution_count": 141,
   "metadata": {
    "collapsed": false,
    "scrolled": true
   },
   "outputs": [
    {
     "name": "stdout",
     "output_type": "stream",
     "text": [
      "<class 'pandas.core.frame.DataFrame'>\n",
      "Int64Index: 100000 entries, 0 to 99999\n",
      "Columns: 6616 entries, click to C21=221\n",
      "dtypes: int64(1), uint8(6615)\n",
      "memory usage: 632.4 MB\n"
     ]
    }
   ],
   "source": [
    "onehot.info()"
   ]
  },
  {
   "cell_type": "markdown",
   "metadata": {},
   "source": [
    "# xgboost"
   ]
  },
  {
   "cell_type": "code",
   "execution_count": 7,
   "metadata": {
    "collapsed": true
   },
   "outputs": [],
   "source": [
    "import xgboost as xgb"
   ]
  },
  {
   "cell_type": "code",
   "execution_count": 5,
   "metadata": {
    "collapsed": false
   },
   "outputs": [],
   "source": [
    "onehot = tmp\n",
    "y_train = onehot.pop('click')\n",
    "X_train = onehot"
   ]
  },
  {
   "cell_type": "code",
   "execution_count": null,
   "metadata": {
    "collapsed": true
   },
   "outputs": [],
   "source": []
  },
  {
   "cell_type": "markdown",
   "metadata": {
    "collapsed": false
   },
   "source": [
    "from sklearn.cross_validation import StratifiedKFold\n",
    "kfold = StratifiedKFold(y_train, n_folds=5, shuffle=True, random_state=3)"
   ]
  },
  {
   "cell_type": "markdown",
   "metadata": {
    "collapsed": true
   },
   "source": [
    "alg = xgb.XGBClassifier(\n",
    "        learning_rate =0.1,\n",
    "        n_estimators=10,  #数值大没关系，cv会自动返回合适的n_estimators\n",
    "        max_depth=5,\n",
    "        min_child_weight=1,\n",
    "        gamma=0,\n",
    "        subsample=0.3,\n",
    "        colsample_bytree=0.8,\n",
    "        colsample_bylevel=0.7,\n",
    "        objective= 'binary:logistic',\n",
    "        seed=3)"
   ]
  },
  {
   "cell_type": "markdown",
   "metadata": {
    "collapsed": false
   },
   "source": [
    "xgb_param = alg.get_xgb_params()\n",
    "xgb_param['num_class'] = 2\n",
    "    \n",
    "#直接调用xgboost，而非sklarn的wrapper类\n",
    "xgtrain = xgb.DMatrix(X_train, label = y_train)"
   ]
  },
  {
   "cell_type": "markdown",
   "metadata": {
    "collapsed": false
   },
   "source": [
    "cvresult = xgb.cv(xgb_param, xgtrain, \n",
    "                  num_boost_round=alg.get_params()['n_estimators'], \n",
    "                  folds =kfold,\n",
    "                  metrics='mlogloss', \n",
    "                  early_stopping_rounds=10)"
   ]
  },
  {
   "cell_type": "markdown",
   "metadata": {},
   "source": [
    "alg.fit(X_train, y_train)"
   ]
  },
  {
   "cell_type": "markdown",
   "metadata": {},
   "source": [
    "alg.predict(X_train, output_margin=True)#.sum()"
   ]
  },
  {
   "cell_type": "code",
   "execution_count": 8,
   "metadata": {
    "collapsed": false
   },
   "outputs": [
    {
     "ename": "ValueError",
     "evalue": "DataFrame.dtypes for data must be int, float or bool.\nDid not expect the data types in fields site_id, site_domain, site_category, app_id, app_domain, app_category, device_id, device_ip, device_model",
     "output_type": "error",
     "traceback": [
      "\u001b[0;31m---------------------------------------------------------------------------\u001b[0m",
      "\u001b[0;31mValueError\u001b[0m                                Traceback (most recent call last)",
      "\u001b[0;32m<ipython-input-8-7fc9d14f463b>\u001b[0m in \u001b[0;36m<module>\u001b[0;34m()\u001b[0m\n\u001b[0;32m----> 1\u001b[0;31m \u001b[0mxgtrain\u001b[0m \u001b[0;34m=\u001b[0m \u001b[0mxgb\u001b[0m\u001b[0;34m.\u001b[0m\u001b[0mDMatrix\u001b[0m\u001b[0;34m(\u001b[0m\u001b[0mX_train\u001b[0m\u001b[0;34m,\u001b[0m \u001b[0mlabel\u001b[0m \u001b[0;34m=\u001b[0m \u001b[0my_train\u001b[0m\u001b[0;34m)\u001b[0m\u001b[0;34m\u001b[0m\u001b[0m\n\u001b[0m",
      "\u001b[0;32m/home/zhou/anaconda3/lib/python3.5/site-packages/xgboost/core.py\u001b[0m in \u001b[0;36m__init__\u001b[0;34m(self, data, label, missing, weight, silent, feature_names, feature_types, nthread)\u001b[0m\n\u001b[1;32m    263\u001b[0m         data, feature_names, feature_types = _maybe_pandas_data(data,\n\u001b[1;32m    264\u001b[0m                                                                 \u001b[0mfeature_names\u001b[0m\u001b[0;34m,\u001b[0m\u001b[0;34m\u001b[0m\u001b[0m\n\u001b[0;32m--> 265\u001b[0;31m                                                                 feature_types)\n\u001b[0m\u001b[1;32m    266\u001b[0m         \u001b[0mlabel\u001b[0m \u001b[0;34m=\u001b[0m \u001b[0m_maybe_pandas_label\u001b[0m\u001b[0;34m(\u001b[0m\u001b[0mlabel\u001b[0m\u001b[0;34m)\u001b[0m\u001b[0;34m\u001b[0m\u001b[0m\n\u001b[1;32m    267\u001b[0m \u001b[0;34m\u001b[0m\u001b[0m\n",
      "\u001b[0;32m/home/zhou/anaconda3/lib/python3.5/site-packages/xgboost/core.py\u001b[0m in \u001b[0;36m_maybe_pandas_data\u001b[0;34m(data, feature_names, feature_types)\u001b[0m\n\u001b[1;32m    184\u001b[0m         msg = \"\"\"DataFrame.dtypes for data must be int, float or bool.\n\u001b[1;32m    185\u001b[0m Did not expect the data types in fields \"\"\"\n\u001b[0;32m--> 186\u001b[0;31m         \u001b[0;32mraise\u001b[0m \u001b[0mValueError\u001b[0m\u001b[0;34m(\u001b[0m\u001b[0mmsg\u001b[0m \u001b[0;34m+\u001b[0m \u001b[0;34m', '\u001b[0m\u001b[0;34m.\u001b[0m\u001b[0mjoin\u001b[0m\u001b[0;34m(\u001b[0m\u001b[0mbad_fields\u001b[0m\u001b[0;34m)\u001b[0m\u001b[0;34m)\u001b[0m\u001b[0;34m\u001b[0m\u001b[0m\n\u001b[0m\u001b[1;32m    187\u001b[0m \u001b[0;34m\u001b[0m\u001b[0m\n\u001b[1;32m    188\u001b[0m     \u001b[0;32mif\u001b[0m \u001b[0mfeature_names\u001b[0m \u001b[0;32mis\u001b[0m \u001b[0;32mNone\u001b[0m\u001b[0;34m:\u001b[0m\u001b[0;34m\u001b[0m\u001b[0m\n",
      "\u001b[0;31mValueError\u001b[0m: DataFrame.dtypes for data must be int, float or bool.\nDid not expect the data types in fields site_id, site_domain, site_category, app_id, app_domain, app_category, device_id, device_ip, device_model"
     ]
    }
   ],
   "source": [
    "xgtrain = xgb.DMatrix(X_train, label = y_train)"
   ]
  },
  {
   "cell_type": "code",
   "execution_count": 6,
   "metadata": {
    "collapsed": false
   },
   "outputs": [],
   "source": [
    "param = dict(\n",
    "        learning_rate =0.1,\n",
    "        n_estimators=20,  #数值大没关系，cv会自动返回合适的n_estimators\n",
    "        max_depth=10,\n",
    "        min_child_weight=1,\n",
    "        gamma=0,\n",
    "        subsample=0.3,\n",
    "        colsample_bytree=0.8,\n",
    "        colsample_bylevel=0.7,\n",
    "        objective= 'binary:logistic' ,\n",
    "        eta=1,\n",
    "        silent=0,\n",
    "        eval_metric='logloss',\n",
    "        seed=3)\n"
   ]
  },
  {
   "cell_type": "code",
   "execution_count": 145,
   "metadata": {
    "collapsed": false
   },
   "outputs": [
    {
     "data": {
      "text/plain": [
       "{'colsample_bylevel': 0.7,\n",
       " 'colsample_bytree': 0.8,\n",
       " 'eta': 1,\n",
       " 'eval_metric': 'logloss',\n",
       " 'gamma': 0,\n",
       " 'learning_rate': 0.1,\n",
       " 'max_depth': 10,\n",
       " 'min_child_weight': 1,\n",
       " 'n_estimators': 20,\n",
       " 'objective': 'binary:logistic',\n",
       " 'seed': 3,\n",
       " 'silent': 0,\n",
       " 'subsample': 0.3}"
      ]
     },
     "execution_count": 145,
     "metadata": {},
     "output_type": "execute_result"
    }
   ],
   "source": [
    "param# = {'max_depth':2, 'eta':1, 'silent':0, 'objective':'binary:logistic' }"
   ]
  },
  {
   "cell_type": "code",
   "execution_count": 146,
   "metadata": {
    "collapsed": false
   },
   "outputs": [],
   "source": [
    "num_tree = 8  #树的数量\n",
    "\n",
    "bst = xgb.train(param, xgtrain, num_tree)"
   ]
  },
  {
   "cell_type": "code",
   "execution_count": 147,
   "metadata": {
    "collapsed": false,
    "scrolled": true
   },
   "outputs": [],
   "source": [
    "new_feature = bst.predict(xgtrain, pred_leaf=True)"
   ]
  },
  {
   "cell_type": "code",
   "execution_count": 148,
   "metadata": {
    "collapsed": false
   },
   "outputs": [
    {
     "data": {
      "text/plain": [
       "(10000, 8)"
      ]
     },
     "execution_count": 148,
     "metadata": {},
     "output_type": "execute_result"
    }
   ],
   "source": [
    "new_feature.shape"
   ]
  },
  {
   "cell_type": "code",
   "execution_count": 149,
   "metadata": {
    "collapsed": false
   },
   "outputs": [
    {
     "data": {
      "text/plain": [
       "(130, 4)"
      ]
     },
     "execution_count": 149,
     "metadata": {},
     "output_type": "execute_result"
    }
   ],
   "source": [
    "new_feature.max(), new_feature.min()"
   ]
  },
  {
   "cell_type": "code",
   "execution_count": 150,
   "metadata": {
    "collapsed": false
   },
   "outputs": [],
   "source": [
    "train_preds = bst.predict(xgtrain)"
   ]
  },
  {
   "cell_type": "code",
   "execution_count": null,
   "metadata": {
    "collapsed": true
   },
   "outputs": [],
   "source": [
    "bst.f()"
   ]
  },
  {
   "cell_type": "code",
   "execution_count": 152,
   "metadata": {
    "collapsed": true
   },
   "outputs": [],
   "source": [
    "from sklearn.metrics import accuracy_score,log_loss"
   ]
  },
  {
   "cell_type": "code",
   "execution_count": 153,
   "metadata": {
    "collapsed": false
   },
   "outputs": [
    {
     "name": "stdout",
     "output_type": "stream",
     "text": [
      "Train Accuary: 84.13%\n",
      "Train log_loss:  0.475800832006\n"
     ]
    }
   ],
   "source": [
    "train_preds = bst.predict(xgtrain)\n",
    "train_predictions = [round(value) for value in train_preds]\n",
    "y_train = xgtrain.get_label()\n",
    "train_accuracy = accuracy_score(y_train, train_predictions)\n",
    "print (\"Train Accuary: %.2f%%\" % (train_accuracy * 100.0))\n",
    "train_log_loss = log_loss(y_train, train_preds)\n",
    "print (\"Train log_loss: \" , train_log_loss)"
   ]
  },
  {
   "cell_type": "code",
   "execution_count": 154,
   "metadata": {
    "collapsed": true
   },
   "outputs": [],
   "source": [
    "import matplotlib.pyplot as plt"
   ]
  },
  {
   "cell_type": "code",
   "execution_count": 155,
   "metadata": {
    "collapsed": false,
    "scrolled": true
   },
   "outputs": [
    {
     "data": {
      "image/png": "[encoded data removed]",
      "text/plain": [
       "<Figure size 432x288 with 1 Axes>"
      ]
     },
     "metadata": {},
     "output_type": "display_data"
    }
   ],
   "source": [
    "ax = xgb.plot_importance(bst)\n",
    "plt.show()"
   ]
  },
  {
   "cell_type": "code",
   "execution_count": 90,
   "metadata": {
    "collapsed": false
   },
   "outputs": [],
   "source": [
    "fscore=bst.get_fscore()"
   ]
  },
  {
   "cell_type": "code",
   "execution_count": 91,
   "metadata": {
    "collapsed": false
   },
   "outputs": [
    {
     "data": {
      "text/plain": [
       "{'C14=17653.0': 1,\n",
       " 'C14=17747.0': 1,\n",
       " 'C14=21676.0': 1,\n",
       " 'C14=21836.0': 1,\n",
       " 'C17=1722.0': 1,\n",
       " 'C17=1993.0': 1,\n",
       " 'C17=2162.0': 1,\n",
       " 'C17=2523.0': 1,\n",
       " 'C18=2': 2,\n",
       " 'C19=167': 1,\n",
       " 'C19=303': 2,\n",
       " 'C19=39': 2,\n",
       " 'C1=1002': 1,\n",
       " 'C1=1010': 1,\n",
       " 'C20=-1.0': 2,\n",
       " 'C20=100083.0': 1,\n",
       " 'C20=100084.0': 2,\n",
       " 'C20=100148.0': 1,\n",
       " 'C21=15': 1,\n",
       " 'C21=157': 1,\n",
       " 'C21=33': 1,\n",
       " 'C21=48': 1,\n",
       " 'app_id=a5184c22': 1,\n",
       " 'device_conn_type=0': 1,\n",
       " 'device_id=a99f214a': 1,\n",
       " 'device_model=779d90c2': 1,\n",
       " 'device_model=84ebbcd4': 1,\n",
       " 'device_model=cf28826a': 2,\n",
       " 'device_model=d25693ce': 1,\n",
       " 'device_model=d787e91b': 1,\n",
       " 'site_domain=7687a86e': 2,\n",
       " 'site_domain=c4342784': 1,\n",
       " 'site_domain=f3845767': 2,\n",
       " 'site_id=1fbe01fe': 1,\n",
       " 'site_id=5b08c53b': 3,\n",
       " 'site_id=d9750ee7': 1,\n",
       " 'site_id=e151e245': 1}"
      ]
     },
     "execution_count": 91,
     "metadata": {},
     "output_type": "execute_result"
    }
   ],
   "source": [
    "fscore"
   ]
  },
  {
   "cell_type": "code",
   "execution_count": null,
   "metadata": {
    "collapsed": true
   },
   "outputs": [],
   "source": []
  },
  {
   "cell_type": "code",
   "execution_count": null,
   "metadata": {
    "collapsed": true
   },
   "outputs": [],
   "source": []
  },
  {
   "cell_type": "markdown",
   "metadata": {},
   "source": [
    "# 另一特征工程"
   ]
  },
  {
   "cell_type": "code",
   "execution_count": 174,
   "metadata": {
    "collapsed": true
   },
   "outputs": [],
   "source": [
    "class feature_engineering(object):\n",
    "    \n",
    "    def __init__(self, data):\n",
    "        self.combine(data)\n",
    "        self.merge(data)\n",
    "        #self.to_str(data)\n",
    "        self.to_date(data)\n",
    "\n",
    "    def to_str(self, data):\n",
    "        for i in data.columns:\n",
    "            data_type = np.object\n",
    "            if i in ['id', 'click', 'hour']: continue\n",
    "            #  ['id', 'click', 'hour'] 数据类型保持原样\n",
    "            if data[i].dtype=='bool': data_type = np.int64\n",
    "            # bool型转成int型, 相当于onehot\n",
    "            data[i] = data[i].astype(data_type)\n",
    "            \n",
    "    def merge(self, data):\n",
    "        threshold = 12\n",
    "        for i in data.columns:\n",
    "            if i in ['id']: continue\n",
    "            counts = data[i].value_counts()\n",
    "            # 进行频率统计\n",
    "            index = counts<threshold\n",
    "            index = counts[index].index\n",
    "            # 找出频率小于threshold的样本\n",
    "            index = data[i].isin(index)\n",
    "            # 进行切片\n",
    "            data.loc[index, i] = -1\n",
    "            \n",
    "    def combine(self, data):\n",
    "        self.C1_banner_pos = (data['C1']%1000) * (data['banner_pos']+1)\n",
    "        self.insert(data, 'C1_banner_pos', value=self.C1_banner_pos)\n",
    "        #取'C1'的个位数 与 'banner_pos'+1(以免出现太多0) 相乘\n",
    "        self.id_domain_1 = (data['site_id']=='85f751fd') & (data['site_domain']=='c4e18dd6')\n",
    "        self.insert(data, 'id_domain_1', value=self.id_domain_1)\n",
    "        # 'site_id'点击次数第1多的分类 和 'site_domain'点击次数第1多的分类\n",
    "        self.id_domain_2 = (data['site_id']=='1fbe01fe') & (data['site_domain']=='f3845767')\n",
    "        self.insert(data, 'id_domain_2', value=self.id_domain_2)\n",
    "        # 'site_id'点击次数第1多的分类 和 'site_domain'点击次数第1多的分类\n",
    "        \n",
    "    def to_date(self, data):\n",
    "        self.year = data['hour'] //1000000 +2000\n",
    "        self.month = data['hour'] %1000000 //10000\n",
    "        self.day = data['hour'] %14100000 //100\n",
    "        self.hour = data['hour'] %14100000 %100\n",
    "        self.week = (self.day %7 +2) %7\n",
    "        data.drop(columns='hour',axis=1,inplace=True)\n",
    "        self.insert(data, 'hour', value=self.hour)\n",
    "        self.insert(data, 'week', value=self.week)\n",
    "        self.insert(data, 'day', value=self.day)\n",
    "        \n",
    "        \n",
    "    def insert(self, data, name, value):\n",
    "        data.insert(loc=data.columns.shape[0], column=name, value=value)"
   ]
  },
  {
   "cell_type": "code",
   "execution_count": 175,
   "metadata": {
    "collapsed": true
   },
   "outputs": [],
   "source": [
    "data = pd.read_csv( data_path+'miniminitrain.csv')"
   ]
  },
  {
   "cell_type": "code",
   "execution_count": 176,
   "metadata": {
    "collapsed": false
   },
   "outputs": [],
   "source": [
    "a = feature_engineering(data)"
   ]
  },
  {
   "cell_type": "code",
   "execution_count": 193,
   "metadata": {
    "collapsed": false
   },
   "outputs": [
    {
     "data": {
      "text/html": [
       "<div>\n",
       "<style scoped>\n",
       "    .dataframe tbody tr th:only-of-type {\n",
       "        vertical-align: middle;\n",
       "    }\n",
       "\n",
       "    .dataframe tbody tr th {\n",
       "        vertical-align: top;\n",
       "    }\n",
       "\n",
       "    .dataframe thead th {\n",
       "        text-align: right;\n",
       "    }\n",
       "</style>\n",
       "<table border=\"1\" class=\"dataframe\">\n",
       "  <thead>\n",
       "    <tr style=\"text-align: right;\">\n",
       "      <th></th>\n",
       "      <th>id</th>\n",
       "      <th>click</th>\n",
       "      <th>C1</th>\n",
       "      <th>banner_pos</th>\n",
       "      <th>site_id</th>\n",
       "      <th>site_domain</th>\n",
       "      <th>site_category</th>\n",
       "      <th>app_id</th>\n",
       "      <th>app_domain</th>\n",
       "      <th>app_category</th>\n",
       "      <th>...</th>\n",
       "      <th>C18</th>\n",
       "      <th>C19</th>\n",
       "      <th>C20</th>\n",
       "      <th>C21</th>\n",
       "      <th>C1_banner_pos</th>\n",
       "      <th>id_domain_1</th>\n",
       "      <th>id_domain_2</th>\n",
       "      <th>hour</th>\n",
       "      <th>week</th>\n",
       "      <th>day</th>\n",
       "    </tr>\n",
       "  </thead>\n",
       "  <tbody>\n",
       "    <tr>\n",
       "      <th>0</th>\n",
       "      <td>1.000009e+18</td>\n",
       "      <td>0</td>\n",
       "      <td>1005</td>\n",
       "      <td>0</td>\n",
       "      <td>1fbe01fe</td>\n",
       "      <td>f3845767</td>\n",
       "      <td>28905ebd</td>\n",
       "      <td>ecad2386</td>\n",
       "      <td>7801e8d9</td>\n",
       "      <td>07d7df22</td>\n",
       "      <td>...</td>\n",
       "      <td>0</td>\n",
       "      <td>35</td>\n",
       "      <td>-1</td>\n",
       "      <td>79</td>\n",
       "      <td>5</td>\n",
       "      <td>0</td>\n",
       "      <td>1</td>\n",
       "      <td>0</td>\n",
       "      <td>2</td>\n",
       "      <td>21</td>\n",
       "    </tr>\n",
       "    <tr>\n",
       "      <th>1</th>\n",
       "      <td>1.797485e+19</td>\n",
       "      <td>0</td>\n",
       "      <td>1005</td>\n",
       "      <td>0</td>\n",
       "      <td>5bcf81a2</td>\n",
       "      <td>9d54950b</td>\n",
       "      <td>f028772b</td>\n",
       "      <td>ecad2386</td>\n",
       "      <td>7801e8d9</td>\n",
       "      <td>07d7df22</td>\n",
       "      <td>...</td>\n",
       "      <td>0</td>\n",
       "      <td>35</td>\n",
       "      <td>100176</td>\n",
       "      <td>157</td>\n",
       "      <td>5</td>\n",
       "      <td>0</td>\n",
       "      <td>0</td>\n",
       "      <td>8</td>\n",
       "      <td>3</td>\n",
       "      <td>22</td>\n",
       "    </tr>\n",
       "    <tr>\n",
       "      <th>2</th>\n",
       "      <td>1.468463e+19</td>\n",
       "      <td>0</td>\n",
       "      <td>1005</td>\n",
       "      <td>0</td>\n",
       "      <td>85f751fd</td>\n",
       "      <td>c4e18dd6</td>\n",
       "      <td>50e219e0</td>\n",
       "      <td>7358e05e</td>\n",
       "      <td>b9528b13</td>\n",
       "      <td>cef3e649</td>\n",
       "      <td>...</td>\n",
       "      <td>3</td>\n",
       "      <td>1327</td>\n",
       "      <td>100141</td>\n",
       "      <td>15</td>\n",
       "      <td>5</td>\n",
       "      <td>1</td>\n",
       "      <td>0</td>\n",
       "      <td>20</td>\n",
       "      <td>3</td>\n",
       "      <td>22</td>\n",
       "    </tr>\n",
       "    <tr>\n",
       "      <th>3</th>\n",
       "      <td>8.126905e+18</td>\n",
       "      <td>0</td>\n",
       "      <td>1005</td>\n",
       "      <td>0</td>\n",
       "      <td>5b08c53b</td>\n",
       "      <td>7687a86e</td>\n",
       "      <td>3e814130</td>\n",
       "      <td>ecad2386</td>\n",
       "      <td>7801e8d9</td>\n",
       "      <td>07d7df22</td>\n",
       "      <td>...</td>\n",
       "      <td>2</td>\n",
       "      <td>39</td>\n",
       "      <td>100084</td>\n",
       "      <td>33</td>\n",
       "      <td>5</td>\n",
       "      <td>0</td>\n",
       "      <td>0</td>\n",
       "      <td>8</td>\n",
       "      <td>2</td>\n",
       "      <td>21</td>\n",
       "    </tr>\n",
       "    <tr>\n",
       "      <th>4</th>\n",
       "      <td>8.010220e+18</td>\n",
       "      <td>1</td>\n",
       "      <td>1005</td>\n",
       "      <td>1</td>\n",
       "      <td>e4d8dd7b</td>\n",
       "      <td>a17bde68</td>\n",
       "      <td>3e814130</td>\n",
       "      <td>ecad2386</td>\n",
       "      <td>7801e8d9</td>\n",
       "      <td>07d7df22</td>\n",
       "      <td>...</td>\n",
       "      <td>0</td>\n",
       "      <td>35</td>\n",
       "      <td>-1</td>\n",
       "      <td>221</td>\n",
       "      <td>10</td>\n",
       "      <td>0</td>\n",
       "      <td>0</td>\n",
       "      <td>18</td>\n",
       "      <td>3</td>\n",
       "      <td>22</td>\n",
       "    </tr>\n",
       "  </tbody>\n",
       "</table>\n",
       "<p>5 rows × 29 columns</p>\n",
       "</div>"
      ],
      "text/plain": [
       "             id  click    C1 banner_pos   site_id site_domain site_category  \\\n",
       "0  1.000009e+18      0  1005          0  1fbe01fe    f3845767      28905ebd   \n",
       "1  1.797485e+19      0  1005          0  5bcf81a2    9d54950b      f028772b   \n",
       "2  1.468463e+19      0  1005          0  85f751fd    c4e18dd6      50e219e0   \n",
       "3  8.126905e+18      0  1005          0  5b08c53b    7687a86e      3e814130   \n",
       "4  8.010220e+18      1  1005          1  e4d8dd7b    a17bde68      3e814130   \n",
       "\n",
       "     app_id app_domain app_category ... C18   C19     C20  C21 C1_banner_pos  \\\n",
       "0  ecad2386   7801e8d9     07d7df22 ...   0    35      -1   79             5   \n",
       "1  ecad2386   7801e8d9     07d7df22 ...   0    35  100176  157             5   \n",
       "2  7358e05e   b9528b13     cef3e649 ...   3  1327  100141   15             5   \n",
       "3  ecad2386   7801e8d9     07d7df22 ...   2    39  100084   33             5   \n",
       "4  ecad2386   7801e8d9     07d7df22 ...   0    35      -1  221            10   \n",
       "\n",
       "  id_domain_1 id_domain_2 hour week day  \n",
       "0           0           1    0    2  21  \n",
       "1           0           0    8    3  22  \n",
       "2           1           0   20    3  22  \n",
       "3           0           0    8    2  21  \n",
       "4           0           0   18    3  22  \n",
       "\n",
       "[5 rows x 29 columns]"
      ]
     },
     "execution_count": 193,
     "metadata": {},
     "output_type": "execute_result"
    }
   ],
   "source": [
    "data.head()"
   ]
  },
  {
   "cell_type": "code",
   "execution_count": 178,
   "metadata": {
    "collapsed": false
   },
   "outputs": [
    {
     "name": "stdout",
     "output_type": "stream",
     "text": [
      "------------------------\n",
      "1.436971e+19    1\n",
      "7.206680e+18    1\n",
      "5.895956e+18    1\n",
      "1.063967e+19    1\n",
      "8.475216e+18    1\n",
      "1.102866e+19    1\n",
      "1.032977e+19    1\n",
      "2.551494e+18    1\n",
      "1.766294e+19    1\n",
      "5.862878e+18    1\n",
      "1.666434e+19    1\n",
      "1.349591e+19    1\n",
      "1.112171e+19    1\n",
      "6.230283e+18    1\n",
      "1.233389e+19    1\n",
      "1.422354e+19    1\n",
      "6.598970e+18    1\n",
      "8.391732e+18    1\n",
      "9.904627e+18    1\n",
      "1.507370e+19    1\n",
      "1.418925e+19    1\n",
      "1.782337e+19    1\n",
      "8.455630e+18    1\n",
      "8.242979e+18    1\n",
      "1.071022e+19    1\n",
      "8.035389e+18    1\n",
      "7.216721e+17    1\n",
      "7.456805e+18    1\n",
      "2.129276e+18    1\n",
      "9.799882e+18    1\n",
      "               ..\n",
      "7.251501e+18    1\n",
      "3.051022e+18    1\n",
      "1.788918e+19    1\n",
      "1.069912e+19    1\n",
      "1.434391e+19    1\n",
      "9.780104e+17    1\n",
      "1.648373e+19    1\n",
      "1.736613e+19    1\n",
      "5.008780e+18    1\n",
      "4.466695e+18    1\n",
      "1.168416e+19    1\n",
      "1.229380e+19    1\n",
      "1.113711e+16    1\n",
      "1.680235e+19    1\n",
      "4.978122e+18    1\n",
      "6.626267e+18    1\n",
      "1.683930e+19    1\n",
      "5.361151e+17    1\n",
      "7.593423e+18    1\n",
      "1.293688e+19    1\n",
      "1.434110e+19    1\n",
      "7.430892e+18    1\n",
      "2.104428e+18    1\n",
      "4.633308e+18    1\n",
      "1.109372e+19    1\n",
      "1.940090e+18    1\n",
      "1.625428e+19    1\n",
      "1.338536e+19    1\n",
      "1.658518e+19    1\n",
      "1.538042e+18    1\n",
      "Name: id, Length: 404291, dtype: int64\n",
      "------------------------\n",
      "0    335472\n",
      "1     68819\n",
      "Name: click, dtype: int64\n",
      "------------------------\n",
      "1005    371430\n",
      "1002     22174\n",
      "1010      9052\n",
      "1012      1122\n",
      "1007       349\n",
      "1001       102\n",
      "1008        62\n",
      "Name: C1, dtype: int64\n",
      "------------------------\n",
      "0    290910\n",
      "1    112689\n",
      "7       413\n",
      "2       136\n",
      "4        68\n",
      "5        62\n",
      "3        13\n",
      "Name: banner_pos, dtype: int64\n",
      "------------------------\n",
      "85f751fd    145975\n",
      "1fbe01fe     64921\n",
      "e151e245     26593\n",
      "d9750ee7      9559\n",
      "5b08c53b      9050\n",
      "5b4d2eda      7763\n",
      "856e6d3f      7626\n",
      "-1            4930\n",
      "a7853007      4591\n",
      "b7e9786d      3621\n",
      "5ee41ff2      3522\n",
      "5bcf81a2      3448\n",
      "6399eda6      3343\n",
      "6256f5b4      3132\n",
      "57ef2c87      3004\n",
      "17caea14      2760\n",
      "0a742914      2720\n",
      "e4d8dd7b      2671\n",
      "57fe1b20      2656\n",
      "83a0ad1a      2649\n",
      "e8f79e60      2600\n",
      "d6137915      2371\n",
      "6c5b482c      1942\n",
      "12fb4121      1862\n",
      "93eaba74      1861\n",
      "e5c60a05      1824\n",
      "9a977531      1793\n",
      "bb4524e7      1733\n",
      "5114c672      1671\n",
      "e3c09f3a      1618\n",
      "             ...  \n",
      "9618f706        13\n",
      "ae350036        13\n",
      "78e6730c        13\n",
      "9fe5a9e2        13\n",
      "2789a1f0        13\n",
      "1a8a7c01        13\n",
      "fd7011c5        13\n",
      "ad5e6ff3        12\n",
      "7ed11bd1        12\n",
      "011e5414        12\n",
      "da79c793        12\n",
      "89f5c4bb        12\n",
      "3fc3d822        12\n",
      "bbf51230        12\n",
      "337755db        12\n",
      "14ec6216        12\n",
      "8db31665        12\n",
      "3c06c8f5        12\n",
      "4307b3a7        12\n",
      "32dd07e6        12\n",
      "2b78b9f0        12\n",
      "d4abfeb4        12\n",
      "c60648e4        12\n",
      "25ed8d71        12\n",
      "1bc8c040        12\n",
      "fd9bd76c        12\n",
      "9c842148        12\n",
      "c3efd2a8        12\n",
      "0ee0f7ad        12\n",
      "2d4b5815        12\n",
      "Name: site_id, Length: 722, dtype: int64\n",
      "------------------------\n",
      "c4e18dd6    151392\n",
      "f3845767     64921\n",
      "7e091613     33464\n",
      "7687a86e     12853\n",
      "98572c79      9916\n",
      "16a36ef3      8593\n",
      "58a89a43      7626\n",
      "-1            4873\n",
      "9d54950b      3827\n",
      "b12b9f85      3672\n",
      "17d996e6      3560\n",
      "968765cd      3343\n",
      "28f93029      3132\n",
      "bd6d812f      3004\n",
      "d262cf1e      2885\n",
      "0dde25ec      2760\n",
      "510bd839      2720\n",
      "a17bde68      2671\n",
      "5b626596      2667\n",
      "5c9ae867      2649\n",
      "c4342784      2600\n",
      "bb1ef334      2371\n",
      "6b59f079      2331\n",
      "7256c623      2186\n",
      "a434fa42      2135\n",
      "d733bbc3      1733\n",
      "3f2f3819      1671\n",
      "6b560cc1      1452\n",
      "27e3c518      1280\n",
      "c1aa3c04      1250\n",
      "             ...  \n",
      "8f170f4a        13\n",
      "fc4e6a7e        13\n",
      "38714c95        13\n",
      "ad16938a        13\n",
      "f8b89f11        13\n",
      "9e810ca7        13\n",
      "61e6c1f2        13\n",
      "9db8fb5f        12\n",
      "b51f0905        12\n",
      "6792a5e4        12\n",
      "3a487865        12\n",
      "64e0e123        12\n",
      "07012454        12\n",
      "0316bf4f        12\n",
      "00847768        12\n",
      "14878e20        12\n",
      "1a49ce3f        12\n",
      "6716555f        12\n",
      "1ce91e31        12\n",
      "b4553cf2        12\n",
      "754f4003        12\n",
      "40c7be67        12\n",
      "a69faa6e        12\n",
      "43a2849b        12\n",
      "44aaa2cf        12\n",
      "4bc40e70        12\n",
      "b01d5e45        12\n",
      "cee5ef47        12\n",
      "7c5b7715        12\n",
      "b9e38586        12\n",
      "Name: site_domain, Length: 550, dtype: int64\n",
      "------------------------\n",
      "50e219e0    165373\n",
      "f028772b    126422\n",
      "28905ebd     73871\n",
      "3e814130     30510\n",
      "f66779e6      2547\n",
      "75fa27f6      1591\n",
      "335d28a8      1412\n",
      "76b2941d      1053\n",
      "c0dd3be3       426\n",
      "72722551       299\n",
      "dedf689d       233\n",
      "70fb0e29       220\n",
      "0569f928       158\n",
      "8fd0aea4        69\n",
      "a818d37a        32\n",
      "42a36e14        31\n",
      "bcf865d9        16\n",
      "e787de0e        14\n",
      "-1              14\n",
      "Name: site_category, dtype: int64\n",
      "------------------------\n",
      "ecad2386    258316\n",
      "92f5800b     15441\n",
      "e2fcccd2     11157\n",
      "9c13b419      7678\n",
      "febd1138      7541\n",
      "7358e05e      6120\n",
      "a5184c22      5000\n",
      "-1            4897\n",
      "d36838b1      4553\n",
      "685d1c4c      4146\n",
      "54c5d545      3989\n",
      "03528b27      3227\n",
      "f0d41ff1      2961\n",
      "e2a1ca37      2863\n",
      "e9739828      2799\n",
      "51cedd4e      2394\n",
      "66f5e02e      2298\n",
      "98fed791      2236\n",
      "03a08c3f      2188\n",
      "73206397      2019\n",
      "f53417e1      1941\n",
      "e96773f0      1749\n",
      "ce183bbd      1484\n",
      "be7c618d      1232\n",
      "1dc72b4d      1033\n",
      "f888bf4c      1007\n",
      "396df801       974\n",
      "3c4b944d       920\n",
      "39947756       855\n",
      "cf0327f9       851\n",
      "             ...  \n",
      "c3230360        13\n",
      "249f2b9e        13\n",
      "4fa8a7a9        13\n",
      "467930e2        13\n",
      "f0f221aa        13\n",
      "68071a60        13\n",
      "a079ef6b        13\n",
      "57678e1f        13\n",
      "ad57c77f        13\n",
      "6bb1e946        12\n",
      "95648b59        12\n",
      "1fb6aa27        12\n",
      "5a8c13b1        12\n",
      "b8e30d0f        12\n",
      "5aa5d8d6        12\n",
      "e1523423        12\n",
      "84f2c7b2        12\n",
      "9c1a0df5        12\n",
      "1102dafd        12\n",
      "73711753        12\n",
      "787331ea        12\n",
      "540490fc        12\n",
      "5724e3e1        12\n",
      "a4b427d8        12\n",
      "665f15be        12\n",
      "0443d75e        12\n",
      "120a00a5        12\n",
      "1fdd2b84        12\n",
      "5ccd2b0a        12\n",
      "211a61da        12\n",
      "Name: app_id, Length: 519, dtype: int64\n",
      "------------------------\n",
      "7801e8d9    272314\n",
      "2347f47a     52656\n",
      "ae637522     18756\n",
      "5c5a694b     11157\n",
      "82e27996      7542\n",
      "d9b5648e      7178\n",
      "0e8616ad      6542\n",
      "b9528b13      6431\n",
      "b8d325c3      5449\n",
      "aefc06bd      2982\n",
      "df32afa9      2868\n",
      "33da2e74      2511\n",
      "6f7ca2ba      2299\n",
      "5b9c592b      1007\n",
      "885c7f3f       731\n",
      "5c620f04       638\n",
      "45a51db4       555\n",
      "b5f3b24a       486\n",
      "813f3323       278\n",
      "-1             270\n",
      "0654b444       232\n",
      "ad63ec9b       186\n",
      "c6824def       142\n",
      "15ec7f39       136\n",
      "a8b0bf20       130\n",
      "99b4c806        99\n",
      "828da833        98\n",
      "43cf4f06        82\n",
      "448ca2e3        68\n",
      "f2f777fb        68\n",
      "47464e95        48\n",
      "2b627705        34\n",
      "9ec164d3        32\n",
      "db829551        29\n",
      "1ea19ec4        29\n",
      "d6feb1a4        28\n",
      "0d79ee56        27\n",
      "6a0a3a9d        24\n",
      "18eb4e75        21\n",
      "b12ff13e        19\n",
      "afdf1f54        16\n",
      "27ee373d        15\n",
      "b408d42a        14\n",
      "b51aefa8        14\n",
      "f3ad7798        13\n",
      "dcdba109        13\n",
      "ef1fc174        12\n",
      "7eec2ab0        12\n",
      "Name: app_domain, dtype: int64\n",
      "------------------------\n",
      "07d7df22    261626\n",
      "0f2161f8     95362\n",
      "cef3e649     17254\n",
      "8ded1f7a     14838\n",
      "f95efa07     11537\n",
      "d1327cf5      1286\n",
      "09481d60       577\n",
      "dc97ec06       531\n",
      "75d80bbe       412\n",
      "fc6fa53d       227\n",
      "4ce2e9fc       208\n",
      "879c24eb       113\n",
      "a3c42688       100\n",
      "0f9a328c        69\n",
      "4681bb9d        69\n",
      "a86a3e89        30\n",
      "-1              19\n",
      "8df2e842        17\n",
      "2281a340        16\n",
      "Name: app_category, dtype: int64\n",
      "------------------------\n",
      "a99f214a    333672\n",
      "-1           69513\n",
      "c357dbff       196\n",
      "0f7c61dc       189\n",
      "936e92fb       147\n",
      "afeffc18       104\n",
      "28dc8687        52\n",
      "d857ffbb        47\n",
      "987552d1        44\n",
      "cef4c8cc        41\n",
      "b09da1c4        35\n",
      "3cdb4052        34\n",
      "03559b29        27\n",
      "abab24a7        21\n",
      "02da5312        17\n",
      "d2e4c0ab        16\n",
      "73b81e30        16\n",
      "bea61865        16\n",
      "f1d9c744        14\n",
      "1de30ee7        14\n",
      "096a6f32        13\n",
      "9af87478        13\n",
      "243bd3ab        13\n",
      "ad2af41a        13\n",
      "468ee576        12\n",
      "ea04480e        12\n",
      "Name: device_id, dtype: int64\n",
      "------------------------\n",
      "-1          345609\n",
      "6b9769f2      2111\n",
      "431b3174      1345\n",
      "af9205f9       906\n",
      "2f323f36       888\n",
      "af62faf4       874\n",
      "930ec31d       853\n",
      "009a7861       846\n",
      "285aa37d       840\n",
      "d90a7774       801\n",
      "6394f6f6       778\n",
      "a8536f3a       732\n",
      "8a014cbb       718\n",
      "c6563308       718\n",
      "75bb1b58       715\n",
      "488a9a3e       706\n",
      "57cd4006       694\n",
      "ddd2926e       690\n",
      "1cf29716       687\n",
      "ceffea69       668\n",
      "0489ce3f       666\n",
      "9b1fe278       656\n",
      "693bff3e       388\n",
      "07875ea4       373\n",
      "b0070d9a       358\n",
      "7ed30f6c       348\n",
      "bca8f26d       344\n",
      "ac77b71a       338\n",
      "95b2935e       309\n",
      "ff1c4f79       280\n",
      "             ...  \n",
      "3bce0459        12\n",
      "3c2e416f        12\n",
      "ddeee02c        12\n",
      "7f9f7252        12\n",
      "6d31aebc        12\n",
      "9691bbda        12\n",
      "a3a8d85c        12\n",
      "a3fa24e4        12\n",
      "a0856ac4        12\n",
      "ee3d12e5        12\n",
      "ef1b6340        12\n",
      "b07ab34a        12\n",
      "7a1372f9        12\n",
      "fd226320        12\n",
      "6954bb0e        12\n",
      "2e8d0161        12\n",
      "40c5675f        12\n",
      "70b19645        12\n",
      "4a79102f        12\n",
      "606c584a        12\n",
      "8f4175aa        12\n",
      "c3f00264        12\n",
      "22f410c8        12\n",
      "605596eb        12\n",
      "c3c53a8e        12\n",
      "bdbfd8b0        12\n",
      "ed9ea9bd        12\n",
      "a89031c5        12\n",
      "fc0cec35        12\n",
      "be111c4f        12\n",
      "Name: device_ip, Length: 1407, dtype: int64\n",
      "------------------------\n",
      "8a4875bd    24394\n",
      "d787e91b    14077\n",
      "1f0bc64f    13962\n",
      "-1           9349\n",
      "76dc4769     7785\n",
      "be6db1d7     7270\n",
      "a0f5f879     6501\n",
      "7abbbd5c     6475\n",
      "4ea23a13     6419\n",
      "ecb851b2     6085\n",
      "d4897fef     4910\n",
      "5096d134     4699\n",
      "711ee120     4538\n",
      "1ccc7835     4258\n",
      "e1eae715     4241\n",
      "c6263d8a     4009\n",
      "84ebbcd4     3848\n",
      "be74e6fe     3748\n",
      "f07e20f8     3684\n",
      "3bb1ddd7     3628\n",
      "981edffc     3607\n",
      "0eb711ec     3549\n",
      "779d90c2     3520\n",
      "3bd9e8e7     3513\n",
      "0bcabeaf     3491\n",
      "36b67a2a     3394\n",
      "fce66524     3367\n",
      "5db079b5     3245\n",
      "aad45b01     2952\n",
      "158e4944     2873\n",
      "            ...  \n",
      "22c9a506       12\n",
      "31442f32       12\n",
      "54e4a91b       12\n",
      "94c759d5       12\n",
      "31c2dcf9       12\n",
      "28570f08       12\n",
      "5ceba180       12\n",
      "55bbed27       12\n",
      "fdeb8df5       12\n",
      "ec6b7d9f       12\n",
      "d6f8b5a7       12\n",
      "cb9e41c5       12\n",
      "e07336b6       12\n",
      "14d64256       12\n",
      "99bd76fd       12\n",
      "5a5f0a11       12\n",
      "72db2497       12\n",
      "498e2c80       12\n",
      "41db6a63       12\n",
      "3b06fa5e       12\n",
      "45fbca85       12\n",
      "bf065d42       12\n",
      "03534281       12\n",
      "73452f5c       12\n",
      "0d3f0fea       12\n",
      "8f67f20e       12\n",
      "b644daa3       12\n",
      "3fabab5b       12\n",
      "f5a1aacb       12\n",
      "172bcd0d       12\n",
      "Name: device_model, Length: 1765, dtype: int64\n",
      "------------------------\n",
      "1    373065\n",
      "0     22174\n",
      "4      7751\n",
      "5      1301\n",
      "Name: device_type, dtype: int64\n",
      "------------------------\n",
      "0    348573\n",
      "2     33534\n",
      "3     21760\n",
      "5       424\n",
      "Name: device_conn_type, dtype: int64\n",
      "------------------------\n",
      " 4687     9551\n",
      " 21611    9120\n",
      " 21189    7668\n",
      " 21191    7585\n",
      " 19772    7413\n",
      " 19771    7381\n",
      " 16208    6547\n",
      " 20108    5918\n",
      " 8330     5600\n",
      " 19950    5280\n",
      " 15705    5183\n",
      " 15704    5110\n",
      " 15699    5067\n",
      " 15701    5025\n",
      " 15707    5008\n",
      " 15702    4956\n",
      " 15708    4939\n",
      " 15703    4895\n",
      " 15706    4803\n",
      " 16615    4285\n",
      " 23804    4014\n",
      " 21767    3761\n",
      " 21768    3724\n",
      " 17239    3421\n",
      " 19251    3410\n",
      " 22676    3374\n",
      "-1        3341\n",
      " 17654    3062\n",
      " 17653    3020\n",
      " 21790    2886\n",
      "          ... \n",
      " 23683      12\n",
      " 23670      12\n",
      " 22000      12\n",
      " 21701      12\n",
      " 21159      12\n",
      " 21569      12\n",
      " 21998      12\n",
      " 23618      12\n",
      " 23641      12\n",
      " 22002      12\n",
      " 23159      12\n",
      " 23065      12\n",
      " 23045      12\n",
      " 23044      12\n",
      " 23207      12\n",
      " 15010      12\n",
      " 22790      12\n",
      " 17062      12\n",
      " 22302      12\n",
      " 22299      12\n",
      " 22297      12\n",
      " 22295      12\n",
      " 23784      12\n",
      " 19740      12\n",
      " 19742      12\n",
      " 23908      12\n",
      " 22176      12\n",
      " 10743      12\n",
      " 22158      12\n",
      " 21845      12\n",
      "Name: C14, Length: 1239, dtype: int64\n",
      "------------------------\n",
      "320     376973\n",
      "300      23444\n",
      "216       2983\n",
      "728        802\n",
      "120         28\n",
      "1024        25\n",
      "768         19\n",
      "480         17\n",
      "Name: C15, dtype: int64\n",
      "------------------------\n",
      "50      381248\n",
      "250      18168\n",
      "36        2983\n",
      "480       1001\n",
      "90         802\n",
      "20          28\n",
      "768         25\n",
      "1024        19\n",
      "320         17\n",
      "Name: C16, dtype: int64\n",
      "------------------------\n",
      "1722    45138\n",
      "2424    15253\n",
      "2227    14933\n",
      "1800    11865\n",
      "423      9551\n",
      "2480     9238\n",
      "2502     8439\n",
      "2528     8324\n",
      "2506     7998\n",
      "2374     7501\n",
      "2545     7210\n",
      "1872     6896\n",
      "1994     6082\n",
      "2299     5918\n",
      "2526     5847\n",
      "761      5647\n",
      "1863     5617\n",
      "2333     5111\n",
      "1993     4930\n",
      "2665     4898\n",
      "2676     4818\n",
      "1873     4767\n",
      "2507     4442\n",
      "2726     4014\n",
      "2667     3652\n",
      "2647     3644\n",
      "2566     3589\n",
      "1973     3421\n",
      "2201     3410\n",
      "2616     3374\n",
      "        ...  \n",
      "2730       24\n",
      "1685       23\n",
      "1698       23\n",
      "2518       23\n",
      "2634       22\n",
      "2686       22\n",
      "2679       22\n",
      "2339       22\n",
      "2450       22\n",
      "2700       21\n",
      "2289       21\n",
      "1160       20\n",
      "2397       20\n",
      "2630       20\n",
      "2455       19\n",
      "2581       18\n",
      "2438       17\n",
      "2250       17\n",
      "2662       17\n",
      "2669       16\n",
      "2594       16\n",
      "2527       16\n",
      "937        15\n",
      "1141       15\n",
      "2187       15\n",
      "2635       14\n",
      "2510       14\n",
      "2757       14\n",
      "2592       13\n",
      "1255       12\n",
      "Name: C17, Length: 369, dtype: int64\n",
      "------------------------\n",
      "0    169717\n",
      "3    136203\n",
      "2     71401\n",
      "1     26970\n",
      "Name: C18, dtype: int64\n",
      "------------------------\n",
      " 35      121960\n",
      " 39       88128\n",
      " 167      31711\n",
      " 161      15787\n",
      " 47       14529\n",
      " 1327     10847\n",
      " 297      10223\n",
      " 163       9183\n",
      " 175       8147\n",
      " 679       7461\n",
      " 935       7131\n",
      " 687       5555\n",
      " 1063      5220\n",
      " 41        5044\n",
      " 33        4786\n",
      " 431       4330\n",
      " 803       4014\n",
      " 1319      3901\n",
      " 419       3209\n",
      " 303       3194\n",
      " 171       2995\n",
      " 169       2932\n",
      " 299       2871\n",
      " 427       2696\n",
      " 34        2684\n",
      " 291       2624\n",
      " 547       2476\n",
      " 43        2144\n",
      " 815       2095\n",
      " 38        1759\n",
      "          ...  \n",
      " 809       1032\n",
      " 811       1031\n",
      " 1065      1020\n",
      " 1711       980\n",
      " 675        892\n",
      " 559        849\n",
      " 813        605\n",
      " 551        521\n",
      " 681        511\n",
      " 290        469\n",
      " 1315       397\n",
      " 801        284\n",
      " 295        283\n",
      " 673        281\n",
      " 423        247\n",
      " 1831       226\n",
      " 1071       198\n",
      " 1575       190\n",
      " 1835       187\n",
      " 425        179\n",
      " 943        178\n",
      " 1839       105\n",
      " 553         82\n",
      " 555         77\n",
      " 417         69\n",
      " 939         56\n",
      " 289         51\n",
      " 1583        35\n",
      " 45          28\n",
      "-1           11\n",
      "Name: C19, Length: 63, dtype: int64\n",
      "------------------------\n",
      "-1         189824\n",
      " 100084     24226\n",
      " 100148     17950\n",
      " 100111     17203\n",
      " 100077     16030\n",
      " 100075     15488\n",
      " 100081     13280\n",
      " 100083     10640\n",
      " 100156     10213\n",
      " 100193      7118\n",
      " 100176      6580\n",
      " 100074      5783\n",
      " 100079      5753\n",
      " 100189      4761\n",
      " 100076      4605\n",
      " 100192      2343\n",
      " 100191      2191\n",
      " 100190      2168\n",
      " 100188      2142\n",
      " 100013      1913\n",
      " 100031      1892\n",
      " 100155      1655\n",
      " 100194      1548\n",
      " 100000      1387\n",
      " 100181      1355\n",
      " 100182      1258\n",
      " 100233      1185\n",
      " 100105      1182\n",
      " 100003      1160\n",
      " 100170      1107\n",
      "            ...  \n",
      " 100086        55\n",
      " 100051        53\n",
      " 100179        51\n",
      " 100093        48\n",
      " 100152        43\n",
      " 100135        43\n",
      " 100056        41\n",
      " 100091        40\n",
      " 100205        39\n",
      " 100029        39\n",
      " 100041        37\n",
      " 100107        37\n",
      " 100229        35\n",
      " 100124        35\n",
      " 100097        35\n",
      " 100139        34\n",
      " 100071        31\n",
      " 100033        30\n",
      " 100206        28\n",
      " 100064        25\n",
      " 100123        23\n",
      " 100165        23\n",
      " 100073        22\n",
      " 100016        21\n",
      " 100224        20\n",
      " 100090        19\n",
      " 100121        16\n",
      " 100122        15\n",
      " 100099        15\n",
      " 100244        13\n",
      "Name: C20, Length: 144, dtype: int64\n",
      "------------------------\n",
      " 23     88972\n",
      " 221    50725\n",
      " 79     46072\n",
      " 48     21833\n",
      " 71     20905\n",
      " 61     20549\n",
      " 157    18465\n",
      " 32     17759\n",
      " 33     14961\n",
      " 52     11978\n",
      " 42     10142\n",
      " 51      8516\n",
      " 15      7592\n",
      " 212     6454\n",
      " 43      5890\n",
      " 117     4310\n",
      " 229     4014\n",
      " 13      3918\n",
      " 16      3614\n",
      " 68      3312\n",
      " 156     3275\n",
      " 159     2884\n",
      " 95      2855\n",
      " 46      2393\n",
      " 246     2032\n",
      " 69      1742\n",
      " 91      1695\n",
      " 17      1569\n",
      " 111     1399\n",
      " 90      1345\n",
      " 76      1345\n",
      " 70      1315\n",
      " 110     1159\n",
      " 171     1135\n",
      " 204      922\n",
      " 101      875\n",
      " 253      799\n",
      " 112      774\n",
      " 82       699\n",
      " 100      626\n",
      " 178      527\n",
      " 182      481\n",
      " 35       457\n",
      " 108      454\n",
      " 94       237\n",
      " 251      206\n",
      " 116      179\n",
      " 20       149\n",
      " 194      135\n",
      " 93       122\n",
      " 104       95\n",
      " 126       89\n",
      " 102       77\n",
      " 163       69\n",
      " 177       58\n",
      " 255       47\n",
      " 195       43\n",
      " 1         21\n",
      " 219       16\n",
      "-1         10\n",
      "Name: C21, dtype: int64\n",
      "------------------------\n",
      "5     267354\n",
      "10    103875\n",
      "2      22174\n",
      "20      8636\n",
      "12       927\n",
      "80       413\n",
      "7        349\n",
      "24       183\n",
      "15       136\n",
      "1        102\n",
      "48        74\n",
      "25        68\n",
      "Name: C1_banner_pos, dtype: int64\n",
      "------------------------\n",
      "0    258316\n",
      "1    145975\n",
      "Name: id_domain_1, dtype: int64\n",
      "------------------------\n",
      "0    339370\n",
      "1     64921\n",
      "Name: id_domain_2, dtype: int64\n",
      "------------------------\n",
      "13    23926\n",
      "9     22760\n",
      "14    22068\n",
      "12    21848\n",
      "10    21516\n",
      "8     20857\n",
      "15    20839\n",
      "11    20601\n",
      "16    20382\n",
      "17    20355\n",
      "5     19943\n",
      "4     19077\n",
      "7     18571\n",
      "6     17591\n",
      "18    17479\n",
      "3     14031\n",
      "19    13405\n",
      "2     12286\n",
      "20    11244\n",
      "21     9938\n",
      "1      9782\n",
      "22     9056\n",
      "0      8553\n",
      "23     8183\n",
      "Name: hour, dtype: int64\n",
      "------------------------\n",
      "2    94132\n",
      "3    91645\n",
      "4    80909\n",
      "0    38389\n",
      "6    33627\n",
      "5    33434\n",
      "1    32155\n",
      "Name: week, dtype: int64\n",
      "------------------------\n",
      "22    53327\n",
      "28    52898\n",
      "30    42238\n",
      "21    41234\n",
      "23    38671\n",
      "26    38389\n",
      "29    38318\n",
      "25    33627\n",
      "24    33434\n",
      "27    32155\n",
      "Name: day, dtype: int64\n"
     ]
    }
   ],
   "source": [
    "for i in data.columns:\n",
    "    print('------------------------')\n",
    "    print(data[i].value_counts())\n"
   ]
  },
  {
   "cell_type": "code",
   "execution_count": 197,
   "metadata": {
    "collapsed": false
   },
   "outputs": [
    {
     "name": "stdout",
     "output_type": "stream",
     "text": [
      "<class 'pandas.core.frame.DataFrame'>\n",
      "RangeIndex: 404291 entries, 0 to 404290\n",
      "Data columns (total 29 columns):\n",
      "id                  404291 non-null float64\n",
      "click               404291 non-null int64\n",
      "C1                  404291 non-null object\n",
      "banner_pos          404291 non-null object\n",
      "site_id             404291 non-null object\n",
      "site_domain         404291 non-null object\n",
      "site_category       404291 non-null object\n",
      "app_id              404291 non-null object\n",
      "app_domain          404291 non-null object\n",
      "app_category        404291 non-null object\n",
      "device_id           404291 non-null object\n",
      "device_ip           404291 non-null object\n",
      "device_model        404291 non-null object\n",
      "device_type         404291 non-null object\n",
      "device_conn_type    404291 non-null object\n",
      "C14                 404291 non-null object\n",
      "C15                 404291 non-null object\n",
      "C16                 404291 non-null object\n",
      "C17                 404291 non-null object\n",
      "C18                 404291 non-null object\n",
      "C19                 404291 non-null object\n",
      "C20                 404291 non-null object\n",
      "C21                 404291 non-null object\n",
      "C1_banner_pos       404291 non-null object\n",
      "id_domain_1         404291 non-null int64\n",
      "id_domain_2         404291 non-null int64\n",
      "hour                404291 non-null int64\n",
      "week                404291 non-null int64\n",
      "day                 404291 non-null int64\n",
      "dtypes: float64(1), int64(6), object(22)\n",
      "memory usage: 89.5+ MB\n"
     ]
    }
   ],
   "source": [
    "data.info()"
   ]
  },
  {
   "cell_type": "code",
   "execution_count": 201,
   "metadata": {
    "collapsed": true
   },
   "outputs": [],
   "source": [
    "data.to_csv(data_path+'after_miniminitrain.csv',mode='w',index=False)"
   ]
  },
  {
   "cell_type": "code",
   "execution_count": 3,
   "metadata": {
    "collapsed": true
   },
   "outputs": [],
   "source": [
    "tmp = pd.read_csv(data_path+'after_miniminitrain.csv')"
   ]
  },
  {
   "cell_type": "code",
   "execution_count": 203,
   "metadata": {
    "collapsed": false
   },
   "outputs": [
    {
     "data": {
      "text/plain": [
       "id                  1.00001e+18\n",
       "click                         0\n",
       "C1                         1005\n",
       "banner_pos                    0\n",
       "site_id                1fbe01fe\n",
       "site_domain            f3845767\n",
       "site_category          28905ebd\n",
       "app_id                 ecad2386\n",
       "app_domain             7801e8d9\n",
       "app_category           07d7df22\n",
       "device_id              a99f214a\n",
       "device_ip              ddd2926e\n",
       "device_model           44956a24\n",
       "device_type                   1\n",
       "device_conn_type              2\n",
       "C14                       15706\n",
       "C15                         320\n",
       "C16                          50\n",
       "C17                        1722\n",
       "C18                           0\n",
       "C19                          35\n",
       "C20                          -1\n",
       "C21                          79\n",
       "C1_banner_pos                 5\n",
       "id_domain_1                   0\n",
       "id_domain_2                   1\n",
       "hour                          0\n",
       "week                          2\n",
       "day                          21\n",
       "Name: 0, dtype: object"
      ]
     },
     "execution_count": 203,
     "metadata": {},
     "output_type": "execute_result"
    }
   ],
   "source": [
    "tmp.loc[0]"
   ]
  },
  {
   "cell_type": "code",
   "execution_count": 8,
   "metadata": {
    "collapsed": false,
    "scrolled": false
   },
   "outputs": [
    {
     "name": "stdout",
     "output_type": "stream",
     "text": [
      "------------------------\n",
      "特征C1的样本数为7\n",
      "------------------------\n",
      "特征banner_pos的样本数为7\n",
      "------------------------\n",
      "特征site_id的样本数为722\n",
      "------------------------\n",
      "特征site_domain的样本数为550\n",
      "------------------------\n",
      "特征site_category的样本数为19\n",
      "------------------------\n",
      "特征app_id的样本数为519\n",
      "------------------------\n",
      "特征app_domain的样本数为48\n",
      "------------------------\n",
      "特征app_category的样本数为19\n",
      "------------------------\n",
      "特征device_id的样本数为26\n",
      "------------------------\n",
      "特征device_ip的样本数为1407\n",
      "------------------------\n",
      "特征device_model的样本数为1765\n",
      "------------------------\n",
      "特征device_type的样本数为4\n",
      "------------------------\n",
      "特征device_conn_type的样本数为4\n",
      "------------------------\n",
      "特征C14的样本数为1239\n",
      "------------------------\n",
      "特征C15的样本数为8\n",
      "------------------------\n",
      "特征C16的样本数为9\n",
      "------------------------\n",
      "特征C17的样本数为369\n",
      "------------------------\n",
      "特征C18的样本数为4\n",
      "------------------------\n",
      "特征C19的样本数为63\n",
      "------------------------\n",
      "特征C20的样本数为144\n",
      "------------------------\n",
      "特征C21的样本数为60\n",
      "------------------------\n",
      "特征C1_banner_pos的样本数为12\n",
      "------------------------\n",
      "特征id_domain_1的样本数为2\n",
      "------------------------\n",
      "特征id_domain_2的样本数为2\n",
      "------------------------\n",
      "特征hour的样本数为24\n",
      "------------------------\n",
      "特征week的样本数为7\n",
      "------------------------\n",
      "特征day的样本数为10\n",
      "************************\n",
      "总的样本数为 7050\n"
     ]
    }
   ],
   "source": [
    "count = 0\n",
    "for i in data.columns:\n",
    "    if i in ['id', 'click']: continue\n",
    "    print('------------------------')\n",
    "    tmp = data[i].value_counts()\n",
    "    count += tmp.shape[0]\n",
    "    print('特征{0}的样本数为{1}'.format(i, tmp.shape[0]))\n",
    "print('************************')\n",
    "print('总的样本数为', count)"
   ]
  },
  {
   "cell_type": "code",
   "execution_count": 4,
   "metadata": {
    "collapsed": true
   },
   "outputs": [],
   "source": [
    "data = tmp"
   ]
  },
  {
   "cell_type": "code",
   "execution_count": 204,
   "metadata": {
    "collapsed": false
   },
   "outputs": [
    {
     "name": "stdout",
     "output_type": "stream",
     "text": [
      "<class 'pandas.core.frame.DataFrame'>\n",
      "RangeIndex: 404291 entries, 0 to 404290\n",
      "Data columns (total 29 columns):\n",
      "id                  404291 non-null float64\n",
      "click               404291 non-null int64\n",
      "C1                  404291 non-null int64\n",
      "banner_pos          404291 non-null int64\n",
      "site_id             404291 non-null object\n",
      "site_domain         404291 non-null object\n",
      "site_category       404291 non-null object\n",
      "app_id              404291 non-null object\n",
      "app_domain          404291 non-null object\n",
      "app_category        404291 non-null object\n",
      "device_id           404291 non-null object\n",
      "device_ip           404291 non-null object\n",
      "device_model        404291 non-null object\n",
      "device_type         404291 non-null int64\n",
      "device_conn_type    404291 non-null int64\n",
      "C14                 404291 non-null int64\n",
      "C15                 404291 non-null int64\n",
      "C16                 404291 non-null int64\n",
      "C17                 404291 non-null int64\n",
      "C18                 404291 non-null int64\n",
      "C19                 404291 non-null int64\n",
      "C20                 404291 non-null int64\n",
      "C21                 404291 non-null int64\n",
      "C1_banner_pos       404291 non-null int64\n",
      "id_domain_1         404291 non-null int64\n",
      "id_domain_2         404291 non-null int64\n",
      "hour                404291 non-null int64\n",
      "week                404291 non-null int64\n",
      "day                 404291 non-null int64\n",
      "dtypes: float64(1), int64(19), object(9)\n",
      "memory usage: 89.5+ MB\n"
     ]
    }
   ],
   "source": [
    "tmp.info()"
   ]
  },
  {
   "cell_type": "code",
   "execution_count": null,
   "metadata": {
    "collapsed": true
   },
   "outputs": [],
   "source": []
  }
 ],
 "metadata": {
  "anaconda-cloud": {},
  "kernelspec": {
   "display_name": "Python [default]",
   "language": "python",
   "name": "python3"
  },
  "language_info": {
   "codemirror_mode": {
    "name": "ipython",
    "version": 3
   },
   "file_extension": ".py",
   "mimetype": "text/x-python",
   "name": "python",
   "nbconvert_exporter": "python",
   "pygments_lexer": "ipython3",
   "version": "3.5.2"
  },
  "toc": {
   "nav_menu": {},
   "number_sections": true,
   "sideBar": true,
   "skip_h1_title": false,
   "title_cell": "Table of Contents",
   "title_sidebar": "Contents",
   "toc_cell": false,
   "toc_position": {},
   "toc_section_display": true,
   "toc_window_display": false
  }
 },
 "nbformat": 4,
 "nbformat_minor": 2
}
