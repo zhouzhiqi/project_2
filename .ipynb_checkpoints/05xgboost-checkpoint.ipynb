{
 "cells": [
  {
   "cell_type": "markdown",
   "metadata": {},
   "source": [
    "|名称|含义|\n",
    "| : | : |\n",
    "|id | ad identifier\n",
    "|click | 1是点击 0/1 for non-click/click\n",
    "|hour | 时间, YYMMDDHH, so 14091123 means 2014年09月11号23:00 UTC.\n",
    "|C1 | 未知分类变量 anonymized categorical variable\n",
    "|banner_pos|标语,横幅\n",
    "|site_id|网站ID号\n",
    "|site_domain|网站 域?\n",
    "|site_category|网站类别\n",
    "|app_id|appID号\n",
    "|app_domain|应用 域?\n",
    "|app_category|应用类别\n",
    "|device_id|设备ID号\n",
    "|device_ip|设备ip地址\n",
    "|device_model|设备型号, 如iphone5/iphone4\n",
    "|device_type|设备类型, 如智能手机/平板电脑\n",
    "|device_conn_type|连接设备类型\n",
    "|C14-C21|未知分类变量 anonymized categorical variables"
   ]
  },
  {
   "cell_type": "code",
   "execution_count": 1,
   "metadata": {
    "ExecuteTime": {
     "end_time": "2018-06-06T19:23:16.638836Z",
     "start_time": "2018-06-06T19:23:08.175150Z"
    },
    "collapsed": false
   },
   "outputs": [],
   "source": [
    "import numpy as np\n",
    "import pandas as pd\n",
    "import time\n",
    "import gc\n",
    "import os\n",
    "import scipy.sparse as ss\n",
    "#from  sklearn.cross_validation  import  train_test_split "
   ]
  },
  {
   "cell_type": "markdown",
   "metadata": {
    "ExecuteTime": {
     "end_time": "2018-06-06T19:23:17.936688Z",
     "start_time": "2018-06-06T19:23:16.641832Z"
    },
    "collapsed": true
   },
   "source": [
    "import matplotlib.pyplot as plt\n",
    "\n",
    "%matplotlib inline"
   ]
  },
  {
   "cell_type": "markdown",
   "metadata": {
    "collapsed": true
   },
   "source": [
    "import matplotlib.font_manager as fm\n",
    "heiti = fm.FontProperties(fname='heiti.ttf')  # 字体位置"
   ]
  },
  {
   "cell_type": "code",
   "execution_count": 2,
   "metadata": {
    "ExecuteTime": {
     "end_time": "2018-06-06T19:23:17.947652Z",
     "start_time": "2018-06-06T19:23:17.938683Z"
    },
    "collapsed": false
   },
   "outputs": [
    {
     "data": {
      "text/plain": [
       "'../data/project_2/train.csv'"
      ]
     },
     "execution_count": 2,
     "metadata": {},
     "output_type": "execute_result"
    }
   ],
   "source": [
    "data_path = '../data/project_2/'\n",
    "train_path = data_path+'train.csv'\n",
    "train_path"
   ]
  },
  {
   "cell_type": "code",
   "execution_count": 98,
   "metadata": {
    "collapsed": true
   },
   "outputs": [],
   "source": [
    "import tarfile"
   ]
  },
  {
   "cell_type": "markdown",
   "metadata": {
    "collapsed": true
   },
   "source": [
    "with tarfile.open(data_path+'train.tar.gz', 'w:gz') as tar:\n",
    "    tar.add(data_path+'train.csv')"
   ]
  },
  {
   "cell_type": "markdown",
   "metadata": {
    "collapsed": true
   },
   "source": [
    "with tarfile.open(data_path+'miniminitrain.tar.gz', 'w:gz') as tar:\n",
    "    tar.add(data_path+'miniminitrain.csv')"
   ]
  },
  {
   "cell_type": "markdown",
   "metadata": {
    "collapsed": true
   },
   "source": [
    "with tarfile.open(data_path+'minitrain.tar.gz', 'w:gz') as tar:\n",
    "    tar.add(data_path+'minitrain.csv')"
   ]
  },
  {
   "cell_type": "markdown",
   "metadata": {
    "collapsed": true
   },
   "source": [
    "with tarfile.open(data_path+'test.tar.gz', 'w:gz') as tar:\n",
    "    tar.add(data_path+'test.csv')"
   ]
  },
  {
   "cell_type": "markdown",
   "metadata": {
    "collapsed": true
   },
   "source": [
    "with tarfile.open(data_path+'test_click.tar.gz', 'w:gz') as tar:\n",
    "    tar.add(data_path+'test_click.csv')"
   ]
  },
  {
   "cell_type": "markdown",
   "metadata": {},
   "source": [
    "# 读入数据并onehot"
   ]
  },
  {
   "cell_type": "code",
   "execution_count": 17,
   "metadata": {
    "collapsed": true
   },
   "outputs": [],
   "source": [
    "class GetOneHot(object):\n",
    "    \n",
    "    def __init__(self, data_tmp, more_10, get_index):\n",
    "        # 初始化onehot数组\n",
    "        finale_data = np.zeros((data_tmp.shape[0],more_10.shape[0]), dtype=np.int8)\n",
    "        # 把特征名称与特征取值结合起来\n",
    "        for c in data_tmp.columns: \n",
    "            if c in ['id', 'click', 'hour']: continue\n",
    "            data_tmp.loc[:, c] = data_tmp.loc[:, c].map(lambda x: c+'='+str(x))\n",
    "        # OneHot编码, 对符合条件的位置, 赋值 1\n",
    "        for i in np.arange(data_tmp.shape[0]):\n",
    "            index = data_tmp.iloc[i,3:]\n",
    "            for c in index:\n",
    "                try: j =  get_index[c]\n",
    "                except KeyError: continue\n",
    "                finale_data[i, j] = 1\n",
    "        # finale_data最后三列 ['hour', 'week', 'click']\n",
    "        finale_data[:, -1] = data_tmp.loc[:, 'click'].values \n",
    "        finale_data[:, -2] = ((data_tmp.loc[:, 'hour'].values %14100000 //100) %7 +2) %7\n",
    "        finale_data[:, -3] = data_tmp.loc[:, 'hour'].values %14100000 %100\n",
    "        self.finale_data = finale_data"
   ]
  },
  {
   "cell_type": "code",
   "execution_count": 18,
   "metadata": {
    "collapsed": true
   },
   "outputs": [],
   "source": [
    "chunksize = 5e3\n",
    "threshold = 10"
   ]
  },
  {
   "cell_type": "code",
   "execution_count": 19,
   "metadata": {
    "ExecuteTime": {
     "end_time": "2018-06-06T19:25:35.988540Z",
     "start_time": "2018-06-06T19:25:35.973588Z"
    },
    "collapsed": true
   },
   "outputs": [],
   "source": [
    "data = pd.read_csv( data_path+'miniminitrain.csv',  iterator=True)\n"
   ]
  },
  {
   "cell_type": "code",
   "execution_count": 20,
   "metadata": {
    "ExecuteTime": {
     "end_time": "2018-06-06T19:25:40.012936Z",
     "start_time": "2018-06-06T19:25:39.484624Z"
    },
    "collapsed": true
   },
   "outputs": [],
   "source": [
    "data_tmp = data.get_chunk(chunksize)"
   ]
  },
  {
   "cell_type": "code",
   "execution_count": 21,
   "metadata": {
    "ExecuteTime": {
     "end_time": "2018-06-06T19:25:51.273028Z",
     "start_time": "2018-06-06T19:25:51.268053Z"
    },
    "collapsed": false
   },
   "outputs": [],
   "source": [
    "count = pd.read_csv( data_path+'count.csv', index_col=0)"
   ]
  },
  {
   "cell_type": "code",
   "execution_count": 22,
   "metadata": {
    "collapsed": false
   },
   "outputs": [],
   "source": [
    "more_10 = count[count['total']>=threshold].index"
   ]
  },
  {
   "cell_type": "code",
   "execution_count": 23,
   "metadata": {
    "ExecuteTime": {
     "end_time": "2018-06-06T19:25:54.371269Z",
     "start_time": "2018-06-06T19:25:54.355321Z"
    },
    "collapsed": false
   },
   "outputs": [],
   "source": [
    "more_10 = more_10.append(pd.Index(['hour', 'week', 'click']))"
   ]
  },
  {
   "cell_type": "code",
   "execution_count": 24,
   "metadata": {
    "ExecuteTime": {
     "end_time": "2018-06-06T19:26:52.998212Z",
     "start_time": "2018-06-06T19:26:52.991227Z"
    },
    "collapsed": false
   },
   "outputs": [],
   "source": [
    "get_index = pd.Series(data=np.arange(more_10.shape[0]), index=more_10, dtype=np.uint64)"
   ]
  },
  {
   "cell_type": "code",
   "execution_count": 25,
   "metadata": {
    "collapsed": false
   },
   "outputs": [
    {
     "data": {
      "text/plain": [
       "((645384,), (645384,))"
      ]
     },
     "execution_count": 25,
     "metadata": {},
     "output_type": "execute_result"
    }
   ],
   "source": [
    "more_10.shape, get_index.shape"
   ]
  },
  {
   "cell_type": "code",
   "execution_count": 26,
   "metadata": {
    "collapsed": false
   },
   "outputs": [],
   "source": [
    "onehot = GetOneHot(data_tmp, more_10, get_index)"
   ]
  },
  {
   "cell_type": "code",
   "execution_count": 27,
   "metadata": {
    "collapsed": true
   },
   "outputs": [],
   "source": [
    "y_train = ss.csc_matrix(onehot.finale_data[:, -1])"
   ]
  },
  {
   "cell_type": "code",
   "execution_count": 47,
   "metadata": {
    "collapsed": true
   },
   "outputs": [],
   "source": [
    "y_train = onehot.finale_data[:, -1]"
   ]
  },
  {
   "cell_type": "code",
   "execution_count": 48,
   "metadata": {
    "collapsed": false
   },
   "outputs": [
    {
     "data": {
      "text/plain": [
       "array([0, 0, 0, ..., 0, 1, 0], dtype=int8)"
      ]
     },
     "execution_count": 48,
     "metadata": {},
     "output_type": "execute_result"
    }
   ],
   "source": [
    "y_train"
   ]
  },
  {
   "cell_type": "code",
   "execution_count": 36,
   "metadata": {
    "collapsed": false
   },
   "outputs": [],
   "source": [
    "X_train = ss.csr_matrix(onehot.finale_data[:, :-1])"
   ]
  },
  {
   "cell_type": "code",
   "execution_count": 29,
   "metadata": {
    "collapsed": false
   },
   "outputs": [],
   "source": [
    "#X_train = ss.load_npz(data_path+'X_train.npz', )\n",
    "#y_train = ss.load_npz(data_path+'y_train.npz', )"
   ]
  },
  {
   "cell_type": "code",
   "execution_count": 30,
   "metadata": {
    "collapsed": false,
    "scrolled": true
   },
   "outputs": [
    {
     "data": {
      "text/plain": [
       "(0, 23)"
      ]
     },
     "execution_count": 30,
     "metadata": {},
     "output_type": "execute_result"
    }
   ],
   "source": [
    "X_train.min(), X_train.max()"
   ]
  },
  {
   "cell_type": "code",
   "execution_count": 38,
   "metadata": {
    "collapsed": false,
    "scrolled": true
   },
   "outputs": [
    {
     "name": "stdout",
     "output_type": "stream",
     "text": [
      "20000 data have counted, total cost time: 65\n",
      "30000 data have counted, total cost time: 131\n",
      "40000 data have counted, total cost time: 197\n",
      "50000 data have counted, total cost time: 263\n"
     ]
    }
   ],
   "source": [
    "i = 1\n",
    "total_size = data_tmp.shape[0]\n",
    "start_time = time.time()\n",
    "while True:\n",
    "    i+=1\n",
    "    if i>5:break  #0.4M条数据用时44min\n",
    "    try: data_tmp = data.get_chunk(chunksize)  #每次读取chunk_size条数据 \n",
    "    except StopIteration: break  #读取结束后跳出循环\n",
    "    onehot = GetOneHot(data_tmp, more_10, get_index)\n",
    "    X_train_tmp = ss.csr_matrix(onehot.finale_data[:, :-1])\n",
    "    y_train_tmp = ss.csc_matrix(onehot.finale_data[:, -1])\n",
    "    X_train = ss.vstack((X_train, X_train_tmp))\n",
    "    y_train = ss.hstack((y_train, y_train_tmp))\n",
    "    total_size += data_tmp.shape[0]  #累加当前数据量\n",
    "    used_time = int(time.time()-start_time)  #记录统计耗时\n",
    "    print('{0} data have counted, total cost time: {1}'.format(total_size, used_time))\n",
    "    #del data_tmp, click_0_tmp, click_1_tmp #及时删除, 以免内存溢出\n",
    "    gc.collect()"
   ]
  },
  {
   "cell_type": "code",
   "execution_count": 31,
   "metadata": {
    "collapsed": false,
    "scrolled": false
   },
   "outputs": [
    {
     "name": "stdout",
     "output_type": "stream",
     "text": [
      "(5000, 645383)  |  (1, 5000)\n"
     ]
    }
   ],
   "source": [
    "print(X_train.shape, ' | ', y_train.shape)"
   ]
  },
  {
   "cell_type": "markdown",
   "metadata": {
    "collapsed": true
   },
   "source": [
    "ss.save_npz(data_path+'X_train', X_train)\n",
    "ss.save_npz(data_path+'y_train', y_train)"
   ]
  },
  {
   "cell_type": "code",
   "execution_count": 34,
   "metadata": {
    "collapsed": false
   },
   "outputs": [
    {
     "data": {
      "text/plain": [
       "array([[ 0,  0,  0,  2],\n",
       "       [ 0,  0,  8,  3],\n",
       "       [ 0,  0, 20,  3],\n",
       "       ..., \n",
       "       [ 0,  0,  9,  2],\n",
       "       [ 0,  0, 12,  2],\n",
       "       [ 0,  0, 12,  2]], dtype=int8)"
      ]
     },
     "execution_count": 34,
     "metadata": {},
     "output_type": "execute_result"
    }
   ],
   "source": [
    "X_train.toarray()[:,-4:]"
   ]
  },
  {
   "cell_type": "markdown",
   "metadata": {},
   "source": [
    "# GBDT"
   ]
  },
  {
   "cell_type": "code",
   "execution_count": 1,
   "metadata": {
    "ExecuteTime": {
     "end_time": "2018-06-06T19:23:16.638836Z",
     "start_time": "2018-06-06T19:23:08.175150Z"
    },
    "collapsed": false
   },
   "outputs": [],
   "source": [
    "import numpy as np\n",
    "import pandas as pd\n",
    "import time\n",
    "import gc\n",
    "import os\n",
    "import scipy.sparse as ss\n",
    "#from  sklearn.cross_validation  import  train_test_split "
   ]
  },
  {
   "cell_type": "code",
   "execution_count": 2,
   "metadata": {
    "ExecuteTime": {
     "end_time": "2018-06-06T19:23:17.947652Z",
     "start_time": "2018-06-06T19:23:17.938683Z"
    },
    "collapsed": false
   },
   "outputs": [
    {
     "data": {
      "text/plain": [
       "'../data/project_2/train.csv'"
      ]
     },
     "execution_count": 2,
     "metadata": {},
     "output_type": "execute_result"
    }
   ],
   "source": [
    "data_path = '../data/project_2/'\n",
    "train_path = data_path+'train.csv'\n",
    "train_path"
   ]
  },
  {
   "cell_type": "code",
   "execution_count": 3,
   "metadata": {
    "collapsed": true
   },
   "outputs": [],
   "source": [
    "import xgboost as xgb"
   ]
  },
  {
   "cell_type": "code",
   "execution_count": 4,
   "metadata": {
    "collapsed": false
   },
   "outputs": [],
   "source": [
    "X_train = ss.load_npz(data_path+'X_train_more10.npz', )\n",
    "y_train = ss.load_npz(data_path+'y_train_more10.npz', )"
   ]
  },
  {
   "cell_type": "code",
   "execution_count": 5,
   "metadata": {
    "collapsed": false
   },
   "outputs": [],
   "source": [
    "y_train = y_train.toarray().astype(np.float32)[0]\n",
    "# 先转成np.array, 把数据类型转为np.float32(此时为2维数组shape(1,n)), 转为1-D np.arrar\n",
    "# 2维数组shape(m,n)适用于多分类问题, 在二分类中不适用"
   ]
  },
  {
   "cell_type": "code",
   "execution_count": 6,
   "metadata": {
    "collapsed": false
   },
   "outputs": [
    {
     "data": {
      "text/plain": [
       "0.0"
      ]
     },
     "execution_count": 6,
     "metadata": {},
     "output_type": "execute_result"
    }
   ],
   "source": [
    "y_train[0]#.reshape((4,8))"
   ]
  },
  {
   "cell_type": "code",
   "execution_count": 7,
   "metadata": {
    "collapsed": false,
    "scrolled": true
   },
   "outputs": [
    {
     "data": {
      "text/plain": [
       "(1.0, 0.0)"
      ]
     },
     "execution_count": 7,
     "metadata": {},
     "output_type": "execute_result"
    }
   ],
   "source": [
    "y_train.max(), y_train.min()"
   ]
  },
  {
   "cell_type": "code",
   "execution_count": 8,
   "metadata": {
    "collapsed": false
   },
   "outputs": [],
   "source": [
    "#weights = np.ones(len(y_train))\n",
    "xgtrain = xgb.DMatrix(X_train, label = y_train,)#weight=weights)"
   ]
  },
  {
   "cell_type": "code",
   "execution_count": 9,
   "metadata": {
    "collapsed": false
   },
   "outputs": [
    {
     "data": {
      "text/plain": [
       "((404291, 645383), (404291,))"
      ]
     },
     "execution_count": 9,
     "metadata": {},
     "output_type": "execute_result"
    }
   ],
   "source": [
    "X_train.shape, y_train.shape"
   ]
  },
  {
   "cell_type": "code",
   "execution_count": 11,
   "metadata": {
    "ExecuteTime": {
     "end_time": "2018-06-06T19:28:57.301486Z",
     "start_time": "2018-06-06T19:28:57.268589Z"
    },
    "collapsed": false
   },
   "outputs": [],
   "source": [
    "param = {'max_depth':6, \n",
    "         'eta':.5, \n",
    "         'objective':'binary:logistic', \n",
    "         'verbose':0,\n",
    "         'subsample':1.0, \n",
    "         'min_child_weight':50, \n",
    "         'gamma':0,\n",
    "         'nthread': 16, \n",
    "         'colsample_bytree':.5, \n",
    "         'base_score':0.16, \n",
    "         'seed': 60, \n",
    "         'eval_metric':'logloss'}\n",
    "\n",
    "#plst = list(param.items()) + [('eval_metric', 'logloss')]"
   ]
  },
  {
   "cell_type": "code",
   "execution_count": 12,
   "metadata": {
    "collapsed": false
   },
   "outputs": [],
   "source": [
    "num_tree = 40  #树的数量\n",
    "\n",
    "bst_rank10 = xgb.cv(param, xgtrain, num_tree, nfold=3, stratified=True)"
   ]
  },
  {
   "cell_type": "code",
   "execution_count": 13,
   "metadata": {
    "collapsed": false,
    "scrolled": false
   },
   "outputs": [
    {
     "data": {
      "text/html": [
       "<div>\n",
       "<style scoped>\n",
       "    .dataframe tbody tr th:only-of-type {\n",
       "        vertical-align: middle;\n",
       "    }\n",
       "\n",
       "    .dataframe tbody tr th {\n",
       "        vertical-align: top;\n",
       "    }\n",
       "\n",
       "    .dataframe thead th {\n",
       "        text-align: right;\n",
       "    }\n",
       "</style>\n",
       "<table border=\"1\" class=\"dataframe\">\n",
       "  <thead>\n",
       "    <tr style=\"text-align: right;\">\n",
       "      <th></th>\n",
       "      <th>test-logloss-mean</th>\n",
       "      <th>test-logloss-std</th>\n",
       "      <th>train-logloss-mean</th>\n",
       "      <th>train-logloss-std</th>\n",
       "    </tr>\n",
       "  </thead>\n",
       "  <tbody>\n",
       "    <tr>\n",
       "      <th>0</th>\n",
       "      <td>0.434714</td>\n",
       "      <td>0.000834</td>\n",
       "      <td>0.434645</td>\n",
       "      <td>0.001291</td>\n",
       "    </tr>\n",
       "    <tr>\n",
       "      <th>1</th>\n",
       "      <td>0.428999</td>\n",
       "      <td>0.000716</td>\n",
       "      <td>0.428884</td>\n",
       "      <td>0.001413</td>\n",
       "    </tr>\n",
       "    <tr>\n",
       "      <th>2</th>\n",
       "      <td>0.425293</td>\n",
       "      <td>0.000257</td>\n",
       "      <td>0.424917</td>\n",
       "      <td>0.000825</td>\n",
       "    </tr>\n",
       "    <tr>\n",
       "      <th>3</th>\n",
       "      <td>0.422674</td>\n",
       "      <td>0.000573</td>\n",
       "      <td>0.422118</td>\n",
       "      <td>0.001359</td>\n",
       "    </tr>\n",
       "    <tr>\n",
       "      <th>4</th>\n",
       "      <td>0.421056</td>\n",
       "      <td>0.000184</td>\n",
       "      <td>0.420295</td>\n",
       "      <td>0.000878</td>\n",
       "    </tr>\n",
       "    <tr>\n",
       "      <th>5</th>\n",
       "      <td>0.419932</td>\n",
       "      <td>0.000210</td>\n",
       "      <td>0.419125</td>\n",
       "      <td>0.000772</td>\n",
       "    </tr>\n",
       "    <tr>\n",
       "      <th>6</th>\n",
       "      <td>0.418925</td>\n",
       "      <td>0.000235</td>\n",
       "      <td>0.418015</td>\n",
       "      <td>0.000816</td>\n",
       "    </tr>\n",
       "    <tr>\n",
       "      <th>7</th>\n",
       "      <td>0.417947</td>\n",
       "      <td>0.000491</td>\n",
       "      <td>0.416983</td>\n",
       "      <td>0.000640</td>\n",
       "    </tr>\n",
       "    <tr>\n",
       "      <th>8</th>\n",
       "      <td>0.417294</td>\n",
       "      <td>0.000451</td>\n",
       "      <td>0.416234</td>\n",
       "      <td>0.000639</td>\n",
       "    </tr>\n",
       "    <tr>\n",
       "      <th>9</th>\n",
       "      <td>0.416708</td>\n",
       "      <td>0.000436</td>\n",
       "      <td>0.415661</td>\n",
       "      <td>0.000634</td>\n",
       "    </tr>\n",
       "    <tr>\n",
       "      <th>10</th>\n",
       "      <td>0.415953</td>\n",
       "      <td>0.000681</td>\n",
       "      <td>0.414884</td>\n",
       "      <td>0.000701</td>\n",
       "    </tr>\n",
       "    <tr>\n",
       "      <th>11</th>\n",
       "      <td>0.415517</td>\n",
       "      <td>0.000716</td>\n",
       "      <td>0.414390</td>\n",
       "      <td>0.000657</td>\n",
       "    </tr>\n",
       "    <tr>\n",
       "      <th>12</th>\n",
       "      <td>0.415056</td>\n",
       "      <td>0.000789</td>\n",
       "      <td>0.413909</td>\n",
       "      <td>0.000649</td>\n",
       "    </tr>\n",
       "    <tr>\n",
       "      <th>13</th>\n",
       "      <td>0.414671</td>\n",
       "      <td>0.000798</td>\n",
       "      <td>0.413482</td>\n",
       "      <td>0.000609</td>\n",
       "    </tr>\n",
       "    <tr>\n",
       "      <th>14</th>\n",
       "      <td>0.414331</td>\n",
       "      <td>0.000826</td>\n",
       "      <td>0.413078</td>\n",
       "      <td>0.000533</td>\n",
       "    </tr>\n",
       "    <tr>\n",
       "      <th>15</th>\n",
       "      <td>0.413824</td>\n",
       "      <td>0.000756</td>\n",
       "      <td>0.412436</td>\n",
       "      <td>0.000097</td>\n",
       "    </tr>\n",
       "    <tr>\n",
       "      <th>16</th>\n",
       "      <td>0.413531</td>\n",
       "      <td>0.000840</td>\n",
       "      <td>0.412125</td>\n",
       "      <td>0.000135</td>\n",
       "    </tr>\n",
       "    <tr>\n",
       "      <th>17</th>\n",
       "      <td>0.413300</td>\n",
       "      <td>0.000826</td>\n",
       "      <td>0.411808</td>\n",
       "      <td>0.000076</td>\n",
       "    </tr>\n",
       "    <tr>\n",
       "      <th>18</th>\n",
       "      <td>0.413080</td>\n",
       "      <td>0.000841</td>\n",
       "      <td>0.411504</td>\n",
       "      <td>0.000084</td>\n",
       "    </tr>\n",
       "    <tr>\n",
       "      <th>19</th>\n",
       "      <td>0.412822</td>\n",
       "      <td>0.000891</td>\n",
       "      <td>0.411172</td>\n",
       "      <td>0.000141</td>\n",
       "    </tr>\n",
       "    <tr>\n",
       "      <th>20</th>\n",
       "      <td>0.412639</td>\n",
       "      <td>0.000856</td>\n",
       "      <td>0.410916</td>\n",
       "      <td>0.000132</td>\n",
       "    </tr>\n",
       "    <tr>\n",
       "      <th>21</th>\n",
       "      <td>0.412446</td>\n",
       "      <td>0.000844</td>\n",
       "      <td>0.410685</td>\n",
       "      <td>0.000107</td>\n",
       "    </tr>\n",
       "    <tr>\n",
       "      <th>22</th>\n",
       "      <td>0.412251</td>\n",
       "      <td>0.000862</td>\n",
       "      <td>0.410418</td>\n",
       "      <td>0.000103</td>\n",
       "    </tr>\n",
       "    <tr>\n",
       "      <th>23</th>\n",
       "      <td>0.412102</td>\n",
       "      <td>0.000849</td>\n",
       "      <td>0.410247</td>\n",
       "      <td>0.000118</td>\n",
       "    </tr>\n",
       "    <tr>\n",
       "      <th>24</th>\n",
       "      <td>0.411945</td>\n",
       "      <td>0.000856</td>\n",
       "      <td>0.410064</td>\n",
       "      <td>0.000125</td>\n",
       "    </tr>\n",
       "    <tr>\n",
       "      <th>25</th>\n",
       "      <td>0.411789</td>\n",
       "      <td>0.000891</td>\n",
       "      <td>0.409888</td>\n",
       "      <td>0.000109</td>\n",
       "    </tr>\n",
       "    <tr>\n",
       "      <th>26</th>\n",
       "      <td>0.411594</td>\n",
       "      <td>0.000914</td>\n",
       "      <td>0.409656</td>\n",
       "      <td>0.000172</td>\n",
       "    </tr>\n",
       "    <tr>\n",
       "      <th>27</th>\n",
       "      <td>0.411454</td>\n",
       "      <td>0.000895</td>\n",
       "      <td>0.409443</td>\n",
       "      <td>0.000180</td>\n",
       "    </tr>\n",
       "    <tr>\n",
       "      <th>28</th>\n",
       "      <td>0.411080</td>\n",
       "      <td>0.000717</td>\n",
       "      <td>0.409020</td>\n",
       "      <td>0.000155</td>\n",
       "    </tr>\n",
       "    <tr>\n",
       "      <th>29</th>\n",
       "      <td>0.410995</td>\n",
       "      <td>0.000720</td>\n",
       "      <td>0.408859</td>\n",
       "      <td>0.000111</td>\n",
       "    </tr>\n",
       "    <tr>\n",
       "      <th>30</th>\n",
       "      <td>0.410914</td>\n",
       "      <td>0.000730</td>\n",
       "      <td>0.408672</td>\n",
       "      <td>0.000132</td>\n",
       "    </tr>\n",
       "    <tr>\n",
       "      <th>31</th>\n",
       "      <td>0.410831</td>\n",
       "      <td>0.000726</td>\n",
       "      <td>0.408536</td>\n",
       "      <td>0.000156</td>\n",
       "    </tr>\n",
       "    <tr>\n",
       "      <th>32</th>\n",
       "      <td>0.410732</td>\n",
       "      <td>0.000727</td>\n",
       "      <td>0.408383</td>\n",
       "      <td>0.000118</td>\n",
       "    </tr>\n",
       "    <tr>\n",
       "      <th>33</th>\n",
       "      <td>0.410614</td>\n",
       "      <td>0.000706</td>\n",
       "      <td>0.408231</td>\n",
       "      <td>0.000195</td>\n",
       "    </tr>\n",
       "    <tr>\n",
       "      <th>34</th>\n",
       "      <td>0.410482</td>\n",
       "      <td>0.000646</td>\n",
       "      <td>0.408079</td>\n",
       "      <td>0.000247</td>\n",
       "    </tr>\n",
       "    <tr>\n",
       "      <th>35</th>\n",
       "      <td>0.410391</td>\n",
       "      <td>0.000655</td>\n",
       "      <td>0.407956</td>\n",
       "      <td>0.000236</td>\n",
       "    </tr>\n",
       "    <tr>\n",
       "      <th>36</th>\n",
       "      <td>0.410277</td>\n",
       "      <td>0.000672</td>\n",
       "      <td>0.407796</td>\n",
       "      <td>0.000246</td>\n",
       "    </tr>\n",
       "    <tr>\n",
       "      <th>37</th>\n",
       "      <td>0.410166</td>\n",
       "      <td>0.000680</td>\n",
       "      <td>0.407659</td>\n",
       "      <td>0.000240</td>\n",
       "    </tr>\n",
       "    <tr>\n",
       "      <th>38</th>\n",
       "      <td>0.410043</td>\n",
       "      <td>0.000694</td>\n",
       "      <td>0.407538</td>\n",
       "      <td>0.000232</td>\n",
       "    </tr>\n",
       "    <tr>\n",
       "      <th>39</th>\n",
       "      <td>0.409954</td>\n",
       "      <td>0.000721</td>\n",
       "      <td>0.407397</td>\n",
       "      <td>0.000230</td>\n",
       "    </tr>\n",
       "  </tbody>\n",
       "</table>\n",
       "</div>"
      ],
      "text/plain": [
       "    test-logloss-mean  test-logloss-std  train-logloss-mean  train-logloss-std\n",
       "0            0.434714          0.000834            0.434645           0.001291\n",
       "1            0.428999          0.000716            0.428884           0.001413\n",
       "2            0.425293          0.000257            0.424917           0.000825\n",
       "3            0.422674          0.000573            0.422118           0.001359\n",
       "4            0.421056          0.000184            0.420295           0.000878\n",
       "5            0.419932          0.000210            0.419125           0.000772\n",
       "6            0.418925          0.000235            0.418015           0.000816\n",
       "7            0.417947          0.000491            0.416983           0.000640\n",
       "8            0.417294          0.000451            0.416234           0.000639\n",
       "9            0.416708          0.000436            0.415661           0.000634\n",
       "10           0.415953          0.000681            0.414884           0.000701\n",
       "11           0.415517          0.000716            0.414390           0.000657\n",
       "12           0.415056          0.000789            0.413909           0.000649\n",
       "13           0.414671          0.000798            0.413482           0.000609\n",
       "14           0.414331          0.000826            0.413078           0.000533\n",
       "15           0.413824          0.000756            0.412436           0.000097\n",
       "16           0.413531          0.000840            0.412125           0.000135\n",
       "17           0.413300          0.000826            0.411808           0.000076\n",
       "18           0.413080          0.000841            0.411504           0.000084\n",
       "19           0.412822          0.000891            0.411172           0.000141\n",
       "20           0.412639          0.000856            0.410916           0.000132\n",
       "21           0.412446          0.000844            0.410685           0.000107\n",
       "22           0.412251          0.000862            0.410418           0.000103\n",
       "23           0.412102          0.000849            0.410247           0.000118\n",
       "24           0.411945          0.000856            0.410064           0.000125\n",
       "25           0.411789          0.000891            0.409888           0.000109\n",
       "26           0.411594          0.000914            0.409656           0.000172\n",
       "27           0.411454          0.000895            0.409443           0.000180\n",
       "28           0.411080          0.000717            0.409020           0.000155\n",
       "29           0.410995          0.000720            0.408859           0.000111\n",
       "30           0.410914          0.000730            0.408672           0.000132\n",
       "31           0.410831          0.000726            0.408536           0.000156\n",
       "32           0.410732          0.000727            0.408383           0.000118\n",
       "33           0.410614          0.000706            0.408231           0.000195\n",
       "34           0.410482          0.000646            0.408079           0.000247\n",
       "35           0.410391          0.000655            0.407956           0.000236\n",
       "36           0.410277          0.000672            0.407796           0.000246\n",
       "37           0.410166          0.000680            0.407659           0.000240\n",
       "38           0.410043          0.000694            0.407538           0.000232\n",
       "39           0.409954          0.000721            0.407397           0.000230"
      ]
     },
     "execution_count": 13,
     "metadata": {},
     "output_type": "execute_result"
    }
   ],
   "source": [
    "bst_rank10"
   ]
  },
  {
   "cell_type": "code",
   "execution_count": 18,
   "metadata": {
    "collapsed": false
   },
   "outputs": [],
   "source": [
    "param = dict(\n",
    "        learning_rate =0.9,\n",
    "        booster='gbtree',\n",
    "        n_estimators=100,  #数值大没关系，cv会自动返回合适的n_estimators\n",
    "        max_depth=10,\n",
    "        min_child_weight=10,\n",
    "        gamma=0,\n",
    "        subsample=0.9,\n",
    "        colsample_bytree=0.8,\n",
    "        colsample_bylevel=0.7,\n",
    "        objective= 'binary:logistic' ,\n",
    "        eta=0.8,\n",
    "        silent=0,\n",
    "        eval_metric='logloss',\n",
    "        seed=3)"
   ]
  },
  {
   "cell_type": "code",
   "execution_count": 19,
   "metadata": {
    "ExecuteTime": {
     "end_time": "2018-06-06T19:28:10.155306Z",
     "start_time": "2018-06-06T19:28:10.074564Z"
    },
    "collapsed": false
   },
   "outputs": [],
   "source": [
    "num_tree = 30  #树的数量\n",
    "\n",
    "bst_train = xgb.cv(param, xgtrain, num_tree, nfold=3, stratified=True) #xgb_model=bst)"
   ]
  },
  {
   "cell_type": "code",
   "execution_count": 20,
   "metadata": {
    "ExecuteTime": {
     "end_time": "2018-06-06T19:28:55.107678Z",
     "start_time": "2018-06-06T19:28:33.962252Z"
    },
    "collapsed": false
   },
   "outputs": [
    {
     "data": {
      "text/html": [
       "<div>\n",
       "<style scoped>\n",
       "    .dataframe tbody tr th:only-of-type {\n",
       "        vertical-align: middle;\n",
       "    }\n",
       "\n",
       "    .dataframe tbody tr th {\n",
       "        vertical-align: top;\n",
       "    }\n",
       "\n",
       "    .dataframe thead th {\n",
       "        text-align: right;\n",
       "    }\n",
       "</style>\n",
       "<table border=\"1\" class=\"dataframe\">\n",
       "  <thead>\n",
       "    <tr style=\"text-align: right;\">\n",
       "      <th></th>\n",
       "      <th>test-logloss-mean</th>\n",
       "      <th>test-logloss-std</th>\n",
       "      <th>train-logloss-mean</th>\n",
       "      <th>train-logloss-std</th>\n",
       "    </tr>\n",
       "  </thead>\n",
       "  <tbody>\n",
       "    <tr>\n",
       "      <th>0</th>\n",
       "      <td>0.443253</td>\n",
       "      <td>0.000697</td>\n",
       "      <td>0.441631</td>\n",
       "      <td>0.001082</td>\n",
       "    </tr>\n",
       "    <tr>\n",
       "      <th>1</th>\n",
       "      <td>0.420903</td>\n",
       "      <td>0.000411</td>\n",
       "      <td>0.418132</td>\n",
       "      <td>0.001169</td>\n",
       "    </tr>\n",
       "    <tr>\n",
       "      <th>2</th>\n",
       "      <td>0.415446</td>\n",
       "      <td>0.000885</td>\n",
       "      <td>0.411798</td>\n",
       "      <td>0.000218</td>\n",
       "    </tr>\n",
       "    <tr>\n",
       "      <th>3</th>\n",
       "      <td>0.413778</td>\n",
       "      <td>0.000893</td>\n",
       "      <td>0.409537</td>\n",
       "      <td>0.000587</td>\n",
       "    </tr>\n",
       "    <tr>\n",
       "      <th>4</th>\n",
       "      <td>0.412340</td>\n",
       "      <td>0.001127</td>\n",
       "      <td>0.407479</td>\n",
       "      <td>0.000313</td>\n",
       "    </tr>\n",
       "    <tr>\n",
       "      <th>5</th>\n",
       "      <td>0.411517</td>\n",
       "      <td>0.001118</td>\n",
       "      <td>0.406289</td>\n",
       "      <td>0.000418</td>\n",
       "    </tr>\n",
       "    <tr>\n",
       "      <th>6</th>\n",
       "      <td>0.410894</td>\n",
       "      <td>0.000969</td>\n",
       "      <td>0.405286</td>\n",
       "      <td>0.000420</td>\n",
       "    </tr>\n",
       "    <tr>\n",
       "      <th>7</th>\n",
       "      <td>0.410284</td>\n",
       "      <td>0.001034</td>\n",
       "      <td>0.404496</td>\n",
       "      <td>0.000481</td>\n",
       "    </tr>\n",
       "    <tr>\n",
       "      <th>8</th>\n",
       "      <td>0.409600</td>\n",
       "      <td>0.000901</td>\n",
       "      <td>0.403632</td>\n",
       "      <td>0.000538</td>\n",
       "    </tr>\n",
       "    <tr>\n",
       "      <th>9</th>\n",
       "      <td>0.409272</td>\n",
       "      <td>0.000900</td>\n",
       "      <td>0.403050</td>\n",
       "      <td>0.000521</td>\n",
       "    </tr>\n",
       "    <tr>\n",
       "      <th>10</th>\n",
       "      <td>0.409041</td>\n",
       "      <td>0.000971</td>\n",
       "      <td>0.402390</td>\n",
       "      <td>0.000403</td>\n",
       "    </tr>\n",
       "    <tr>\n",
       "      <th>11</th>\n",
       "      <td>0.408801</td>\n",
       "      <td>0.000906</td>\n",
       "      <td>0.401982</td>\n",
       "      <td>0.000365</td>\n",
       "    </tr>\n",
       "    <tr>\n",
       "      <th>12</th>\n",
       "      <td>0.408428</td>\n",
       "      <td>0.000919</td>\n",
       "      <td>0.401323</td>\n",
       "      <td>0.000351</td>\n",
       "    </tr>\n",
       "    <tr>\n",
       "      <th>13</th>\n",
       "      <td>0.408385</td>\n",
       "      <td>0.000855</td>\n",
       "      <td>0.400549</td>\n",
       "      <td>0.000508</td>\n",
       "    </tr>\n",
       "    <tr>\n",
       "      <th>14</th>\n",
       "      <td>0.408321</td>\n",
       "      <td>0.000802</td>\n",
       "      <td>0.400043</td>\n",
       "      <td>0.000259</td>\n",
       "    </tr>\n",
       "    <tr>\n",
       "      <th>15</th>\n",
       "      <td>0.408217</td>\n",
       "      <td>0.000858</td>\n",
       "      <td>0.399554</td>\n",
       "      <td>0.000384</td>\n",
       "    </tr>\n",
       "    <tr>\n",
       "      <th>16</th>\n",
       "      <td>0.408066</td>\n",
       "      <td>0.000896</td>\n",
       "      <td>0.399239</td>\n",
       "      <td>0.000324</td>\n",
       "    </tr>\n",
       "    <tr>\n",
       "      <th>17</th>\n",
       "      <td>0.407938</td>\n",
       "      <td>0.000936</td>\n",
       "      <td>0.398829</td>\n",
       "      <td>0.000376</td>\n",
       "    </tr>\n",
       "    <tr>\n",
       "      <th>18</th>\n",
       "      <td>0.407841</td>\n",
       "      <td>0.000908</td>\n",
       "      <td>0.398596</td>\n",
       "      <td>0.000379</td>\n",
       "    </tr>\n",
       "    <tr>\n",
       "      <th>19</th>\n",
       "      <td>0.407836</td>\n",
       "      <td>0.000889</td>\n",
       "      <td>0.398057</td>\n",
       "      <td>0.000733</td>\n",
       "    </tr>\n",
       "    <tr>\n",
       "      <th>20</th>\n",
       "      <td>0.407861</td>\n",
       "      <td>0.000808</td>\n",
       "      <td>0.397787</td>\n",
       "      <td>0.000677</td>\n",
       "    </tr>\n",
       "    <tr>\n",
       "      <th>21</th>\n",
       "      <td>0.407884</td>\n",
       "      <td>0.000730</td>\n",
       "      <td>0.397445</td>\n",
       "      <td>0.000729</td>\n",
       "    </tr>\n",
       "    <tr>\n",
       "      <th>22</th>\n",
       "      <td>0.407958</td>\n",
       "      <td>0.000641</td>\n",
       "      <td>0.397064</td>\n",
       "      <td>0.000613</td>\n",
       "    </tr>\n",
       "    <tr>\n",
       "      <th>23</th>\n",
       "      <td>0.407978</td>\n",
       "      <td>0.000666</td>\n",
       "      <td>0.396584</td>\n",
       "      <td>0.000421</td>\n",
       "    </tr>\n",
       "    <tr>\n",
       "      <th>24</th>\n",
       "      <td>0.407935</td>\n",
       "      <td>0.000661</td>\n",
       "      <td>0.396371</td>\n",
       "      <td>0.000359</td>\n",
       "    </tr>\n",
       "    <tr>\n",
       "      <th>25</th>\n",
       "      <td>0.407926</td>\n",
       "      <td>0.000680</td>\n",
       "      <td>0.396162</td>\n",
       "      <td>0.000349</td>\n",
       "    </tr>\n",
       "    <tr>\n",
       "      <th>26</th>\n",
       "      <td>0.407957</td>\n",
       "      <td>0.000667</td>\n",
       "      <td>0.396007</td>\n",
       "      <td>0.000359</td>\n",
       "    </tr>\n",
       "    <tr>\n",
       "      <th>27</th>\n",
       "      <td>0.407957</td>\n",
       "      <td>0.000627</td>\n",
       "      <td>0.395855</td>\n",
       "      <td>0.000347</td>\n",
       "    </tr>\n",
       "    <tr>\n",
       "      <th>28</th>\n",
       "      <td>0.407981</td>\n",
       "      <td>0.000637</td>\n",
       "      <td>0.395668</td>\n",
       "      <td>0.000339</td>\n",
       "    </tr>\n",
       "    <tr>\n",
       "      <th>29</th>\n",
       "      <td>0.408011</td>\n",
       "      <td>0.000578</td>\n",
       "      <td>0.395395</td>\n",
       "      <td>0.000301</td>\n",
       "    </tr>\n",
       "  </tbody>\n",
       "</table>\n",
       "</div>"
      ],
      "text/plain": [
       "    test-logloss-mean  test-logloss-std  train-logloss-mean  train-logloss-std\n",
       "0            0.443253          0.000697            0.441631           0.001082\n",
       "1            0.420903          0.000411            0.418132           0.001169\n",
       "2            0.415446          0.000885            0.411798           0.000218\n",
       "3            0.413778          0.000893            0.409537           0.000587\n",
       "4            0.412340          0.001127            0.407479           0.000313\n",
       "5            0.411517          0.001118            0.406289           0.000418\n",
       "6            0.410894          0.000969            0.405286           0.000420\n",
       "7            0.410284          0.001034            0.404496           0.000481\n",
       "8            0.409600          0.000901            0.403632           0.000538\n",
       "9            0.409272          0.000900            0.403050           0.000521\n",
       "10           0.409041          0.000971            0.402390           0.000403\n",
       "11           0.408801          0.000906            0.401982           0.000365\n",
       "12           0.408428          0.000919            0.401323           0.000351\n",
       "13           0.408385          0.000855            0.400549           0.000508\n",
       "14           0.408321          0.000802            0.400043           0.000259\n",
       "15           0.408217          0.000858            0.399554           0.000384\n",
       "16           0.408066          0.000896            0.399239           0.000324\n",
       "17           0.407938          0.000936            0.398829           0.000376\n",
       "18           0.407841          0.000908            0.398596           0.000379\n",
       "19           0.407836          0.000889            0.398057           0.000733\n",
       "20           0.407861          0.000808            0.397787           0.000677\n",
       "21           0.407884          0.000730            0.397445           0.000729\n",
       "22           0.407958          0.000641            0.397064           0.000613\n",
       "23           0.407978          0.000666            0.396584           0.000421\n",
       "24           0.407935          0.000661            0.396371           0.000359\n",
       "25           0.407926          0.000680            0.396162           0.000349\n",
       "26           0.407957          0.000667            0.396007           0.000359\n",
       "27           0.407957          0.000627            0.395855           0.000347\n",
       "28           0.407981          0.000637            0.395668           0.000339\n",
       "29           0.408011          0.000578            0.395395           0.000301"
      ]
     },
     "execution_count": 20,
     "metadata": {},
     "output_type": "execute_result"
    }
   ],
   "source": [
    "bst_train"
   ]
  },
  {
   "cell_type": "code",
   "execution_count": 24,
   "metadata": {
    "collapsed": false
   },
   "outputs": [],
   "source": [
    "param = dict(\n",
    "        learning_rate =0.9,\n",
    "        booster='gbtree',\n",
    "        n_estimators=100,  \n",
    "        max_depth=20, ###############\n",
    "        min_child_weight=10,\n",
    "        gamma=0,\n",
    "        subsample=0.9,\n",
    "        colsample_bytree=0.8,\n",
    "        colsample_bylevel=0.7,\n",
    "        objective= 'binary:logistic' ,\n",
    "        eta=0.8,\n",
    "        silent=0,\n",
    "        eval_metric='logloss',\n",
    "        seed=3)"
   ]
  },
  {
   "cell_type": "code",
   "execution_count": 25,
   "metadata": {
    "ExecuteTime": {
     "end_time": "2018-06-06T19:28:10.155306Z",
     "start_time": "2018-06-06T19:28:10.074564Z"
    },
    "collapsed": false
   },
   "outputs": [],
   "source": [
    "num_tree = 30  #树的数量\n",
    "\n",
    "bst_train = xgb.cv(param, xgtrain, num_tree, nfold=3, stratified=True) #xgb_model=bst)"
   ]
  },
  {
   "cell_type": "code",
   "execution_count": 26,
   "metadata": {
    "ExecuteTime": {
     "end_time": "2018-06-06T19:28:55.107678Z",
     "start_time": "2018-06-06T19:28:33.962252Z"
    },
    "collapsed": false
   },
   "outputs": [
    {
     "data": {
      "text/html": [
       "<div>\n",
       "<style scoped>\n",
       "    .dataframe tbody tr th:only-of-type {\n",
       "        vertical-align: middle;\n",
       "    }\n",
       "\n",
       "    .dataframe tbody tr th {\n",
       "        vertical-align: top;\n",
       "    }\n",
       "\n",
       "    .dataframe thead th {\n",
       "        text-align: right;\n",
       "    }\n",
       "</style>\n",
       "<table border=\"1\" class=\"dataframe\">\n",
       "  <thead>\n",
       "    <tr style=\"text-align: right;\">\n",
       "      <th></th>\n",
       "      <th>test-logloss-mean</th>\n",
       "      <th>test-logloss-std</th>\n",
       "      <th>train-logloss-mean</th>\n",
       "      <th>train-logloss-std</th>\n",
       "    </tr>\n",
       "  </thead>\n",
       "  <tbody>\n",
       "    <tr>\n",
       "      <th>0</th>\n",
       "      <td>0.438865</td>\n",
       "      <td>0.000346</td>\n",
       "      <td>0.434466</td>\n",
       "      <td>0.000127</td>\n",
       "    </tr>\n",
       "    <tr>\n",
       "      <th>1</th>\n",
       "      <td>0.415363</td>\n",
       "      <td>0.000380</td>\n",
       "      <td>0.405919</td>\n",
       "      <td>0.000926</td>\n",
       "    </tr>\n",
       "    <tr>\n",
       "      <th>2</th>\n",
       "      <td>0.410938</td>\n",
       "      <td>0.000773</td>\n",
       "      <td>0.400348</td>\n",
       "      <td>0.001341</td>\n",
       "    </tr>\n",
       "    <tr>\n",
       "      <th>3</th>\n",
       "      <td>0.409951</td>\n",
       "      <td>0.000695</td>\n",
       "      <td>0.397545</td>\n",
       "      <td>0.001024</td>\n",
       "    </tr>\n",
       "    <tr>\n",
       "      <th>4</th>\n",
       "      <td>0.409530</td>\n",
       "      <td>0.000552</td>\n",
       "      <td>0.396208</td>\n",
       "      <td>0.001094</td>\n",
       "    </tr>\n",
       "    <tr>\n",
       "      <th>5</th>\n",
       "      <td>0.409320</td>\n",
       "      <td>0.000284</td>\n",
       "      <td>0.395155</td>\n",
       "      <td>0.000993</td>\n",
       "    </tr>\n",
       "    <tr>\n",
       "      <th>6</th>\n",
       "      <td>0.409111</td>\n",
       "      <td>0.000272</td>\n",
       "      <td>0.394444</td>\n",
       "      <td>0.000973</td>\n",
       "    </tr>\n",
       "    <tr>\n",
       "      <th>7</th>\n",
       "      <td>0.409039</td>\n",
       "      <td>0.000272</td>\n",
       "      <td>0.393744</td>\n",
       "      <td>0.000765</td>\n",
       "    </tr>\n",
       "    <tr>\n",
       "      <th>8</th>\n",
       "      <td>0.409008</td>\n",
       "      <td>0.000220</td>\n",
       "      <td>0.393014</td>\n",
       "      <td>0.000733</td>\n",
       "    </tr>\n",
       "    <tr>\n",
       "      <th>9</th>\n",
       "      <td>0.408985</td>\n",
       "      <td>0.000349</td>\n",
       "      <td>0.392563</td>\n",
       "      <td>0.000701</td>\n",
       "    </tr>\n",
       "    <tr>\n",
       "      <th>10</th>\n",
       "      <td>0.408990</td>\n",
       "      <td>0.000444</td>\n",
       "      <td>0.391889</td>\n",
       "      <td>0.000854</td>\n",
       "    </tr>\n",
       "    <tr>\n",
       "      <th>11</th>\n",
       "      <td>0.409027</td>\n",
       "      <td>0.000402</td>\n",
       "      <td>0.391425</td>\n",
       "      <td>0.000765</td>\n",
       "    </tr>\n",
       "    <tr>\n",
       "      <th>12</th>\n",
       "      <td>0.409097</td>\n",
       "      <td>0.000341</td>\n",
       "      <td>0.390881</td>\n",
       "      <td>0.000846</td>\n",
       "    </tr>\n",
       "    <tr>\n",
       "      <th>13</th>\n",
       "      <td>0.409441</td>\n",
       "      <td>0.000262</td>\n",
       "      <td>0.390338</td>\n",
       "      <td>0.000807</td>\n",
       "    </tr>\n",
       "    <tr>\n",
       "      <th>14</th>\n",
       "      <td>0.409502</td>\n",
       "      <td>0.000348</td>\n",
       "      <td>0.389924</td>\n",
       "      <td>0.000836</td>\n",
       "    </tr>\n",
       "    <tr>\n",
       "      <th>15</th>\n",
       "      <td>0.409773</td>\n",
       "      <td>0.000330</td>\n",
       "      <td>0.389208</td>\n",
       "      <td>0.000775</td>\n",
       "    </tr>\n",
       "    <tr>\n",
       "      <th>16</th>\n",
       "      <td>0.410011</td>\n",
       "      <td>0.000413</td>\n",
       "      <td>0.388650</td>\n",
       "      <td>0.001025</td>\n",
       "    </tr>\n",
       "    <tr>\n",
       "      <th>17</th>\n",
       "      <td>0.410187</td>\n",
       "      <td>0.000441</td>\n",
       "      <td>0.388051</td>\n",
       "      <td>0.001052</td>\n",
       "    </tr>\n",
       "    <tr>\n",
       "      <th>18</th>\n",
       "      <td>0.410340</td>\n",
       "      <td>0.000423</td>\n",
       "      <td>0.387743</td>\n",
       "      <td>0.000986</td>\n",
       "    </tr>\n",
       "    <tr>\n",
       "      <th>19</th>\n",
       "      <td>0.410529</td>\n",
       "      <td>0.000558</td>\n",
       "      <td>0.387336</td>\n",
       "      <td>0.001031</td>\n",
       "    </tr>\n",
       "    <tr>\n",
       "      <th>20</th>\n",
       "      <td>0.410636</td>\n",
       "      <td>0.000569</td>\n",
       "      <td>0.386944</td>\n",
       "      <td>0.000931</td>\n",
       "    </tr>\n",
       "    <tr>\n",
       "      <th>21</th>\n",
       "      <td>0.410705</td>\n",
       "      <td>0.000617</td>\n",
       "      <td>0.386671</td>\n",
       "      <td>0.000968</td>\n",
       "    </tr>\n",
       "    <tr>\n",
       "      <th>22</th>\n",
       "      <td>0.410839</td>\n",
       "      <td>0.000623</td>\n",
       "      <td>0.386271</td>\n",
       "      <td>0.001054</td>\n",
       "    </tr>\n",
       "    <tr>\n",
       "      <th>23</th>\n",
       "      <td>0.411011</td>\n",
       "      <td>0.000716</td>\n",
       "      <td>0.385855</td>\n",
       "      <td>0.001071</td>\n",
       "    </tr>\n",
       "    <tr>\n",
       "      <th>24</th>\n",
       "      <td>0.411152</td>\n",
       "      <td>0.000650</td>\n",
       "      <td>0.385617</td>\n",
       "      <td>0.000969</td>\n",
       "    </tr>\n",
       "    <tr>\n",
       "      <th>25</th>\n",
       "      <td>0.411435</td>\n",
       "      <td>0.000464</td>\n",
       "      <td>0.385216</td>\n",
       "      <td>0.000785</td>\n",
       "    </tr>\n",
       "    <tr>\n",
       "      <th>26</th>\n",
       "      <td>0.411622</td>\n",
       "      <td>0.000400</td>\n",
       "      <td>0.384831</td>\n",
       "      <td>0.000828</td>\n",
       "    </tr>\n",
       "    <tr>\n",
       "      <th>27</th>\n",
       "      <td>0.411913</td>\n",
       "      <td>0.000386</td>\n",
       "      <td>0.384423</td>\n",
       "      <td>0.000776</td>\n",
       "    </tr>\n",
       "    <tr>\n",
       "      <th>28</th>\n",
       "      <td>0.412085</td>\n",
       "      <td>0.000393</td>\n",
       "      <td>0.384119</td>\n",
       "      <td>0.000834</td>\n",
       "    </tr>\n",
       "    <tr>\n",
       "      <th>29</th>\n",
       "      <td>0.412259</td>\n",
       "      <td>0.000348</td>\n",
       "      <td>0.383770</td>\n",
       "      <td>0.000703</td>\n",
       "    </tr>\n",
       "  </tbody>\n",
       "</table>\n",
       "</div>"
      ],
      "text/plain": [
       "    test-logloss-mean  test-logloss-std  train-logloss-mean  train-logloss-std\n",
       "0            0.438865          0.000346            0.434466           0.000127\n",
       "1            0.415363          0.000380            0.405919           0.000926\n",
       "2            0.410938          0.000773            0.400348           0.001341\n",
       "3            0.409951          0.000695            0.397545           0.001024\n",
       "4            0.409530          0.000552            0.396208           0.001094\n",
       "5            0.409320          0.000284            0.395155           0.000993\n",
       "6            0.409111          0.000272            0.394444           0.000973\n",
       "7            0.409039          0.000272            0.393744           0.000765\n",
       "8            0.409008          0.000220            0.393014           0.000733\n",
       "9            0.408985          0.000349            0.392563           0.000701\n",
       "10           0.408990          0.000444            0.391889           0.000854\n",
       "11           0.409027          0.000402            0.391425           0.000765\n",
       "12           0.409097          0.000341            0.390881           0.000846\n",
       "13           0.409441          0.000262            0.390338           0.000807\n",
       "14           0.409502          0.000348            0.389924           0.000836\n",
       "15           0.409773          0.000330            0.389208           0.000775\n",
       "16           0.410011          0.000413            0.388650           0.001025\n",
       "17           0.410187          0.000441            0.388051           0.001052\n",
       "18           0.410340          0.000423            0.387743           0.000986\n",
       "19           0.410529          0.000558            0.387336           0.001031\n",
       "20           0.410636          0.000569            0.386944           0.000931\n",
       "21           0.410705          0.000617            0.386671           0.000968\n",
       "22           0.410839          0.000623            0.386271           0.001054\n",
       "23           0.411011          0.000716            0.385855           0.001071\n",
       "24           0.411152          0.000650            0.385617           0.000969\n",
       "25           0.411435          0.000464            0.385216           0.000785\n",
       "26           0.411622          0.000400            0.384831           0.000828\n",
       "27           0.411913          0.000386            0.384423           0.000776\n",
       "28           0.412085          0.000393            0.384119           0.000834\n",
       "29           0.412259          0.000348            0.383770           0.000703"
      ]
     },
     "execution_count": 26,
     "metadata": {},
     "output_type": "execute_result"
    }
   ],
   "source": [
    "bst_train"
   ]
  },
  {
   "cell_type": "code",
   "execution_count": 30,
   "metadata": {
    "collapsed": false
   },
   "outputs": [],
   "source": [
    "param = dict(\n",
    "        learning_rate =0.4, ###############\n",
    "        booster='gbtree',\n",
    "        n_estimators=100,  \n",
    "        max_depth=10,\n",
    "        min_child_weight=10,\n",
    "        gamma=0,\n",
    "        subsample=0.9,\n",
    "        colsample_bytree=0.8,\n",
    "        colsample_bylevel=0.7,\n",
    "        objective= 'binary:logistic' ,\n",
    "        eta=0.8,\n",
    "        silent=0,\n",
    "        eval_metric='logloss',\n",
    "        seed=3)"
   ]
  },
  {
   "cell_type": "code",
   "execution_count": 31,
   "metadata": {
    "ExecuteTime": {
     "end_time": "2018-06-06T19:28:10.155306Z",
     "start_time": "2018-06-06T19:28:10.074564Z"
    },
    "collapsed": false
   },
   "outputs": [],
   "source": [
    "num_tree = 30  #树的数量\n",
    "\n",
    "bst_train = xgb.cv(param, xgtrain, num_tree, nfold=3, stratified=True) #xgb_model=bst)"
   ]
  },
  {
   "cell_type": "code",
   "execution_count": 32,
   "metadata": {
    "ExecuteTime": {
     "end_time": "2018-06-06T19:28:55.107678Z",
     "start_time": "2018-06-06T19:28:33.962252Z"
    },
    "collapsed": false
   },
   "outputs": [
    {
     "data": {
      "text/html": [
       "<div>\n",
       "<style scoped>\n",
       "    .dataframe tbody tr th:only-of-type {\n",
       "        vertical-align: middle;\n",
       "    }\n",
       "\n",
       "    .dataframe tbody tr th {\n",
       "        vertical-align: top;\n",
       "    }\n",
       "\n",
       "    .dataframe thead th {\n",
       "        text-align: right;\n",
       "    }\n",
       "</style>\n",
       "<table border=\"1\" class=\"dataframe\">\n",
       "  <thead>\n",
       "    <tr style=\"text-align: right;\">\n",
       "      <th></th>\n",
       "      <th>test-logloss-mean</th>\n",
       "      <th>test-logloss-std</th>\n",
       "      <th>train-logloss-mean</th>\n",
       "      <th>train-logloss-std</th>\n",
       "    </tr>\n",
       "  </thead>\n",
       "  <tbody>\n",
       "    <tr>\n",
       "      <th>0</th>\n",
       "      <td>0.539435</td>\n",
       "      <td>0.000336</td>\n",
       "      <td>0.538686</td>\n",
       "      <td>0.000555</td>\n",
       "    </tr>\n",
       "    <tr>\n",
       "      <th>1</th>\n",
       "      <td>0.475440</td>\n",
       "      <td>0.000246</td>\n",
       "      <td>0.474130</td>\n",
       "      <td>0.000775</td>\n",
       "    </tr>\n",
       "    <tr>\n",
       "      <th>2</th>\n",
       "      <td>0.444406</td>\n",
       "      <td>0.000184</td>\n",
       "      <td>0.442451</td>\n",
       "      <td>0.000640</td>\n",
       "    </tr>\n",
       "    <tr>\n",
       "      <th>3</th>\n",
       "      <td>0.429527</td>\n",
       "      <td>0.000330</td>\n",
       "      <td>0.427269</td>\n",
       "      <td>0.000558</td>\n",
       "    </tr>\n",
       "    <tr>\n",
       "      <th>4</th>\n",
       "      <td>0.421670</td>\n",
       "      <td>0.000375</td>\n",
       "      <td>0.419127</td>\n",
       "      <td>0.000612</td>\n",
       "    </tr>\n",
       "    <tr>\n",
       "      <th>5</th>\n",
       "      <td>0.417446</td>\n",
       "      <td>0.000771</td>\n",
       "      <td>0.414617</td>\n",
       "      <td>0.000588</td>\n",
       "    </tr>\n",
       "    <tr>\n",
       "      <th>6</th>\n",
       "      <td>0.415165</td>\n",
       "      <td>0.000785</td>\n",
       "      <td>0.412130</td>\n",
       "      <td>0.000533</td>\n",
       "    </tr>\n",
       "    <tr>\n",
       "      <th>7</th>\n",
       "      <td>0.413840</td>\n",
       "      <td>0.000856</td>\n",
       "      <td>0.410593</td>\n",
       "      <td>0.000673</td>\n",
       "    </tr>\n",
       "    <tr>\n",
       "      <th>8</th>\n",
       "      <td>0.412949</td>\n",
       "      <td>0.000838</td>\n",
       "      <td>0.409420</td>\n",
       "      <td>0.000484</td>\n",
       "    </tr>\n",
       "    <tr>\n",
       "      <th>9</th>\n",
       "      <td>0.412277</td>\n",
       "      <td>0.000856</td>\n",
       "      <td>0.408578</td>\n",
       "      <td>0.000489</td>\n",
       "    </tr>\n",
       "    <tr>\n",
       "      <th>10</th>\n",
       "      <td>0.411626</td>\n",
       "      <td>0.000824</td>\n",
       "      <td>0.407746</td>\n",
       "      <td>0.000516</td>\n",
       "    </tr>\n",
       "    <tr>\n",
       "      <th>11</th>\n",
       "      <td>0.410743</td>\n",
       "      <td>0.000459</td>\n",
       "      <td>0.406721</td>\n",
       "      <td>0.000630</td>\n",
       "    </tr>\n",
       "    <tr>\n",
       "      <th>12</th>\n",
       "      <td>0.410333</td>\n",
       "      <td>0.000431</td>\n",
       "      <td>0.406161</td>\n",
       "      <td>0.000544</td>\n",
       "    </tr>\n",
       "    <tr>\n",
       "      <th>13</th>\n",
       "      <td>0.409944</td>\n",
       "      <td>0.000483</td>\n",
       "      <td>0.405608</td>\n",
       "      <td>0.000586</td>\n",
       "    </tr>\n",
       "    <tr>\n",
       "      <th>14</th>\n",
       "      <td>0.409546</td>\n",
       "      <td>0.000483</td>\n",
       "      <td>0.404998</td>\n",
       "      <td>0.000630</td>\n",
       "    </tr>\n",
       "    <tr>\n",
       "      <th>15</th>\n",
       "      <td>0.409124</td>\n",
       "      <td>0.000505</td>\n",
       "      <td>0.404401</td>\n",
       "      <td>0.000674</td>\n",
       "    </tr>\n",
       "    <tr>\n",
       "      <th>16</th>\n",
       "      <td>0.408853</td>\n",
       "      <td>0.000499</td>\n",
       "      <td>0.403950</td>\n",
       "      <td>0.000591</td>\n",
       "    </tr>\n",
       "    <tr>\n",
       "      <th>17</th>\n",
       "      <td>0.408545</td>\n",
       "      <td>0.000550</td>\n",
       "      <td>0.403519</td>\n",
       "      <td>0.000523</td>\n",
       "    </tr>\n",
       "    <tr>\n",
       "      <th>18</th>\n",
       "      <td>0.408302</td>\n",
       "      <td>0.000560</td>\n",
       "      <td>0.403045</td>\n",
       "      <td>0.000400</td>\n",
       "    </tr>\n",
       "    <tr>\n",
       "      <th>19</th>\n",
       "      <td>0.408096</td>\n",
       "      <td>0.000559</td>\n",
       "      <td>0.402687</td>\n",
       "      <td>0.000369</td>\n",
       "    </tr>\n",
       "    <tr>\n",
       "      <th>20</th>\n",
       "      <td>0.407814</td>\n",
       "      <td>0.000495</td>\n",
       "      <td>0.402296</td>\n",
       "      <td>0.000500</td>\n",
       "    </tr>\n",
       "    <tr>\n",
       "      <th>21</th>\n",
       "      <td>0.407627</td>\n",
       "      <td>0.000504</td>\n",
       "      <td>0.401949</td>\n",
       "      <td>0.000419</td>\n",
       "    </tr>\n",
       "    <tr>\n",
       "      <th>22</th>\n",
       "      <td>0.407442</td>\n",
       "      <td>0.000514</td>\n",
       "      <td>0.401670</td>\n",
       "      <td>0.000424</td>\n",
       "    </tr>\n",
       "    <tr>\n",
       "      <th>23</th>\n",
       "      <td>0.407243</td>\n",
       "      <td>0.000501</td>\n",
       "      <td>0.401351</td>\n",
       "      <td>0.000394</td>\n",
       "    </tr>\n",
       "    <tr>\n",
       "      <th>24</th>\n",
       "      <td>0.407079</td>\n",
       "      <td>0.000465</td>\n",
       "      <td>0.401105</td>\n",
       "      <td>0.000412</td>\n",
       "    </tr>\n",
       "    <tr>\n",
       "      <th>25</th>\n",
       "      <td>0.406832</td>\n",
       "      <td>0.000436</td>\n",
       "      <td>0.400540</td>\n",
       "      <td>0.000507</td>\n",
       "    </tr>\n",
       "    <tr>\n",
       "      <th>26</th>\n",
       "      <td>0.406692</td>\n",
       "      <td>0.000481</td>\n",
       "      <td>0.400303</td>\n",
       "      <td>0.000487</td>\n",
       "    </tr>\n",
       "    <tr>\n",
       "      <th>27</th>\n",
       "      <td>0.406596</td>\n",
       "      <td>0.000488</td>\n",
       "      <td>0.399953</td>\n",
       "      <td>0.000432</td>\n",
       "    </tr>\n",
       "    <tr>\n",
       "      <th>28</th>\n",
       "      <td>0.406505</td>\n",
       "      <td>0.000517</td>\n",
       "      <td>0.399745</td>\n",
       "      <td>0.000448</td>\n",
       "    </tr>\n",
       "    <tr>\n",
       "      <th>29</th>\n",
       "      <td>0.406385</td>\n",
       "      <td>0.000507</td>\n",
       "      <td>0.399528</td>\n",
       "      <td>0.000417</td>\n",
       "    </tr>\n",
       "  </tbody>\n",
       "</table>\n",
       "</div>"
      ],
      "text/plain": [
       "    test-logloss-mean  test-logloss-std  train-logloss-mean  train-logloss-std\n",
       "0            0.539435          0.000336            0.538686           0.000555\n",
       "1            0.475440          0.000246            0.474130           0.000775\n",
       "2            0.444406          0.000184            0.442451           0.000640\n",
       "3            0.429527          0.000330            0.427269           0.000558\n",
       "4            0.421670          0.000375            0.419127           0.000612\n",
       "5            0.417446          0.000771            0.414617           0.000588\n",
       "6            0.415165          0.000785            0.412130           0.000533\n",
       "7            0.413840          0.000856            0.410593           0.000673\n",
       "8            0.412949          0.000838            0.409420           0.000484\n",
       "9            0.412277          0.000856            0.408578           0.000489\n",
       "10           0.411626          0.000824            0.407746           0.000516\n",
       "11           0.410743          0.000459            0.406721           0.000630\n",
       "12           0.410333          0.000431            0.406161           0.000544\n",
       "13           0.409944          0.000483            0.405608           0.000586\n",
       "14           0.409546          0.000483            0.404998           0.000630\n",
       "15           0.409124          0.000505            0.404401           0.000674\n",
       "16           0.408853          0.000499            0.403950           0.000591\n",
       "17           0.408545          0.000550            0.403519           0.000523\n",
       "18           0.408302          0.000560            0.403045           0.000400\n",
       "19           0.408096          0.000559            0.402687           0.000369\n",
       "20           0.407814          0.000495            0.402296           0.000500\n",
       "21           0.407627          0.000504            0.401949           0.000419\n",
       "22           0.407442          0.000514            0.401670           0.000424\n",
       "23           0.407243          0.000501            0.401351           0.000394\n",
       "24           0.407079          0.000465            0.401105           0.000412\n",
       "25           0.406832          0.000436            0.400540           0.000507\n",
       "26           0.406692          0.000481            0.400303           0.000487\n",
       "27           0.406596          0.000488            0.399953           0.000432\n",
       "28           0.406505          0.000517            0.399745           0.000448\n",
       "29           0.406385          0.000507            0.399528           0.000417"
      ]
     },
     "execution_count": 32,
     "metadata": {},
     "output_type": "execute_result"
    }
   ],
   "source": [
    "bst_train"
   ]
  },
  {
   "cell_type": "code",
   "execution_count": 33,
   "metadata": {
    "collapsed": false
   },
   "outputs": [],
   "source": [
    "param = dict(\n",
    "        learning_rate =0.4, \n",
    "        booster='gbtree',\n",
    "        n_estimators=100,  \n",
    "        max_depth=10,\n",
    "        min_child_weight=10,\n",
    "        gamma=0,\n",
    "        subsample=0.9,\n",
    "        colsample_bytree=0.8,\n",
    "        colsample_bylevel=0.7,\n",
    "        objective= 'binary:logistic' ,\n",
    "        eta=0.4,###############\n",
    "        silent=0,\n",
    "        eval_metric='logloss',\n",
    "        seed=3)"
   ]
  },
  {
   "cell_type": "code",
   "execution_count": 34,
   "metadata": {
    "ExecuteTime": {
     "end_time": "2018-06-06T19:28:10.155306Z",
     "start_time": "2018-06-06T19:28:10.074564Z"
    },
    "collapsed": false
   },
   "outputs": [],
   "source": [
    "num_tree = 30  #树的数量\n",
    "\n",
    "bst_train = xgb.cv(param, xgtrain, num_tree, nfold=3, stratified=True) #xgb_model=bst)"
   ]
  },
  {
   "cell_type": "code",
   "execution_count": 35,
   "metadata": {
    "ExecuteTime": {
     "end_time": "2018-06-06T19:28:55.107678Z",
     "start_time": "2018-06-06T19:28:33.962252Z"
    },
    "collapsed": false
   },
   "outputs": [
    {
     "data": {
      "text/html": [
       "<div>\n",
       "<style scoped>\n",
       "    .dataframe tbody tr th:only-of-type {\n",
       "        vertical-align: middle;\n",
       "    }\n",
       "\n",
       "    .dataframe tbody tr th {\n",
       "        vertical-align: top;\n",
       "    }\n",
       "\n",
       "    .dataframe thead th {\n",
       "        text-align: right;\n",
       "    }\n",
       "</style>\n",
       "<table border=\"1\" class=\"dataframe\">\n",
       "  <thead>\n",
       "    <tr style=\"text-align: right;\">\n",
       "      <th></th>\n",
       "      <th>test-logloss-mean</th>\n",
       "      <th>test-logloss-std</th>\n",
       "      <th>train-logloss-mean</th>\n",
       "      <th>train-logloss-std</th>\n",
       "    </tr>\n",
       "  </thead>\n",
       "  <tbody>\n",
       "    <tr>\n",
       "      <th>0</th>\n",
       "      <td>0.539435</td>\n",
       "      <td>0.000336</td>\n",
       "      <td>0.538686</td>\n",
       "      <td>0.000555</td>\n",
       "    </tr>\n",
       "    <tr>\n",
       "      <th>1</th>\n",
       "      <td>0.475440</td>\n",
       "      <td>0.000246</td>\n",
       "      <td>0.474130</td>\n",
       "      <td>0.000775</td>\n",
       "    </tr>\n",
       "    <tr>\n",
       "      <th>2</th>\n",
       "      <td>0.444406</td>\n",
       "      <td>0.000184</td>\n",
       "      <td>0.442451</td>\n",
       "      <td>0.000640</td>\n",
       "    </tr>\n",
       "    <tr>\n",
       "      <th>3</th>\n",
       "      <td>0.429527</td>\n",
       "      <td>0.000330</td>\n",
       "      <td>0.427269</td>\n",
       "      <td>0.000558</td>\n",
       "    </tr>\n",
       "    <tr>\n",
       "      <th>4</th>\n",
       "      <td>0.421670</td>\n",
       "      <td>0.000375</td>\n",
       "      <td>0.419127</td>\n",
       "      <td>0.000612</td>\n",
       "    </tr>\n",
       "    <tr>\n",
       "      <th>5</th>\n",
       "      <td>0.417446</td>\n",
       "      <td>0.000771</td>\n",
       "      <td>0.414617</td>\n",
       "      <td>0.000588</td>\n",
       "    </tr>\n",
       "    <tr>\n",
       "      <th>6</th>\n",
       "      <td>0.415165</td>\n",
       "      <td>0.000785</td>\n",
       "      <td>0.412130</td>\n",
       "      <td>0.000533</td>\n",
       "    </tr>\n",
       "    <tr>\n",
       "      <th>7</th>\n",
       "      <td>0.413840</td>\n",
       "      <td>0.000856</td>\n",
       "      <td>0.410593</td>\n",
       "      <td>0.000673</td>\n",
       "    </tr>\n",
       "    <tr>\n",
       "      <th>8</th>\n",
       "      <td>0.412949</td>\n",
       "      <td>0.000838</td>\n",
       "      <td>0.409420</td>\n",
       "      <td>0.000484</td>\n",
       "    </tr>\n",
       "    <tr>\n",
       "      <th>9</th>\n",
       "      <td>0.412277</td>\n",
       "      <td>0.000856</td>\n",
       "      <td>0.408578</td>\n",
       "      <td>0.000489</td>\n",
       "    </tr>\n",
       "    <tr>\n",
       "      <th>10</th>\n",
       "      <td>0.411626</td>\n",
       "      <td>0.000824</td>\n",
       "      <td>0.407746</td>\n",
       "      <td>0.000516</td>\n",
       "    </tr>\n",
       "    <tr>\n",
       "      <th>11</th>\n",
       "      <td>0.410743</td>\n",
       "      <td>0.000459</td>\n",
       "      <td>0.406721</td>\n",
       "      <td>0.000630</td>\n",
       "    </tr>\n",
       "    <tr>\n",
       "      <th>12</th>\n",
       "      <td>0.410333</td>\n",
       "      <td>0.000431</td>\n",
       "      <td>0.406161</td>\n",
       "      <td>0.000544</td>\n",
       "    </tr>\n",
       "    <tr>\n",
       "      <th>13</th>\n",
       "      <td>0.409944</td>\n",
       "      <td>0.000483</td>\n",
       "      <td>0.405608</td>\n",
       "      <td>0.000586</td>\n",
       "    </tr>\n",
       "    <tr>\n",
       "      <th>14</th>\n",
       "      <td>0.409546</td>\n",
       "      <td>0.000483</td>\n",
       "      <td>0.404998</td>\n",
       "      <td>0.000630</td>\n",
       "    </tr>\n",
       "    <tr>\n",
       "      <th>15</th>\n",
       "      <td>0.409124</td>\n",
       "      <td>0.000505</td>\n",
       "      <td>0.404401</td>\n",
       "      <td>0.000674</td>\n",
       "    </tr>\n",
       "    <tr>\n",
       "      <th>16</th>\n",
       "      <td>0.408853</td>\n",
       "      <td>0.000499</td>\n",
       "      <td>0.403950</td>\n",
       "      <td>0.000591</td>\n",
       "    </tr>\n",
       "    <tr>\n",
       "      <th>17</th>\n",
       "      <td>0.408545</td>\n",
       "      <td>0.000550</td>\n",
       "      <td>0.403519</td>\n",
       "      <td>0.000523</td>\n",
       "    </tr>\n",
       "    <tr>\n",
       "      <th>18</th>\n",
       "      <td>0.408302</td>\n",
       "      <td>0.000560</td>\n",
       "      <td>0.403045</td>\n",
       "      <td>0.000400</td>\n",
       "    </tr>\n",
       "    <tr>\n",
       "      <th>19</th>\n",
       "      <td>0.408096</td>\n",
       "      <td>0.000559</td>\n",
       "      <td>0.402687</td>\n",
       "      <td>0.000369</td>\n",
       "    </tr>\n",
       "    <tr>\n",
       "      <th>20</th>\n",
       "      <td>0.407814</td>\n",
       "      <td>0.000495</td>\n",
       "      <td>0.402296</td>\n",
       "      <td>0.000500</td>\n",
       "    </tr>\n",
       "    <tr>\n",
       "      <th>21</th>\n",
       "      <td>0.407627</td>\n",
       "      <td>0.000504</td>\n",
       "      <td>0.401949</td>\n",
       "      <td>0.000419</td>\n",
       "    </tr>\n",
       "    <tr>\n",
       "      <th>22</th>\n",
       "      <td>0.407442</td>\n",
       "      <td>0.000514</td>\n",
       "      <td>0.401670</td>\n",
       "      <td>0.000424</td>\n",
       "    </tr>\n",
       "    <tr>\n",
       "      <th>23</th>\n",
       "      <td>0.407243</td>\n",
       "      <td>0.000501</td>\n",
       "      <td>0.401351</td>\n",
       "      <td>0.000394</td>\n",
       "    </tr>\n",
       "    <tr>\n",
       "      <th>24</th>\n",
       "      <td>0.407079</td>\n",
       "      <td>0.000465</td>\n",
       "      <td>0.401105</td>\n",
       "      <td>0.000412</td>\n",
       "    </tr>\n",
       "    <tr>\n",
       "      <th>25</th>\n",
       "      <td>0.406832</td>\n",
       "      <td>0.000436</td>\n",
       "      <td>0.400540</td>\n",
       "      <td>0.000507</td>\n",
       "    </tr>\n",
       "    <tr>\n",
       "      <th>26</th>\n",
       "      <td>0.406692</td>\n",
       "      <td>0.000481</td>\n",
       "      <td>0.400303</td>\n",
       "      <td>0.000487</td>\n",
       "    </tr>\n",
       "    <tr>\n",
       "      <th>27</th>\n",
       "      <td>0.406596</td>\n",
       "      <td>0.000488</td>\n",
       "      <td>0.399953</td>\n",
       "      <td>0.000432</td>\n",
       "    </tr>\n",
       "    <tr>\n",
       "      <th>28</th>\n",
       "      <td>0.406505</td>\n",
       "      <td>0.000517</td>\n",
       "      <td>0.399745</td>\n",
       "      <td>0.000448</td>\n",
       "    </tr>\n",
       "    <tr>\n",
       "      <th>29</th>\n",
       "      <td>0.406385</td>\n",
       "      <td>0.000507</td>\n",
       "      <td>0.399528</td>\n",
       "      <td>0.000417</td>\n",
       "    </tr>\n",
       "  </tbody>\n",
       "</table>\n",
       "</div>"
      ],
      "text/plain": [
       "    test-logloss-mean  test-logloss-std  train-logloss-mean  train-logloss-std\n",
       "0            0.539435          0.000336            0.538686           0.000555\n",
       "1            0.475440          0.000246            0.474130           0.000775\n",
       "2            0.444406          0.000184            0.442451           0.000640\n",
       "3            0.429527          0.000330            0.427269           0.000558\n",
       "4            0.421670          0.000375            0.419127           0.000612\n",
       "5            0.417446          0.000771            0.414617           0.000588\n",
       "6            0.415165          0.000785            0.412130           0.000533\n",
       "7            0.413840          0.000856            0.410593           0.000673\n",
       "8            0.412949          0.000838            0.409420           0.000484\n",
       "9            0.412277          0.000856            0.408578           0.000489\n",
       "10           0.411626          0.000824            0.407746           0.000516\n",
       "11           0.410743          0.000459            0.406721           0.000630\n",
       "12           0.410333          0.000431            0.406161           0.000544\n",
       "13           0.409944          0.000483            0.405608           0.000586\n",
       "14           0.409546          0.000483            0.404998           0.000630\n",
       "15           0.409124          0.000505            0.404401           0.000674\n",
       "16           0.408853          0.000499            0.403950           0.000591\n",
       "17           0.408545          0.000550            0.403519           0.000523\n",
       "18           0.408302          0.000560            0.403045           0.000400\n",
       "19           0.408096          0.000559            0.402687           0.000369\n",
       "20           0.407814          0.000495            0.402296           0.000500\n",
       "21           0.407627          0.000504            0.401949           0.000419\n",
       "22           0.407442          0.000514            0.401670           0.000424\n",
       "23           0.407243          0.000501            0.401351           0.000394\n",
       "24           0.407079          0.000465            0.401105           0.000412\n",
       "25           0.406832          0.000436            0.400540           0.000507\n",
       "26           0.406692          0.000481            0.400303           0.000487\n",
       "27           0.406596          0.000488            0.399953           0.000432\n",
       "28           0.406505          0.000517            0.399745           0.000448\n",
       "29           0.406385          0.000507            0.399528           0.000417"
      ]
     },
     "execution_count": 35,
     "metadata": {},
     "output_type": "execute_result"
    }
   ],
   "source": [
    "bst_train"
   ]
  },
  {
   "cell_type": "code",
   "execution_count": 36,
   "metadata": {
    "collapsed": false
   },
   "outputs": [],
   "source": [
    "param = dict(\n",
    "        learning_rate =0.4, \n",
    "        booster='gbtree',\n",
    "        n_estimators=100,  \n",
    "        max_depth=8,###############\n",
    "        min_child_weight=10,\n",
    "        gamma=0,\n",
    "        subsample=0.9,\n",
    "        colsample_bytree=0.8,\n",
    "        colsample_bylevel=0.7,\n",
    "        objective= 'binary:logistic' ,\n",
    "        eta=0.4,\n",
    "        silent=0,\n",
    "        eval_metric='logloss',\n",
    "        seed=3)"
   ]
  },
  {
   "cell_type": "code",
   "execution_count": 39,
   "metadata": {
    "collapsed": false
   },
   "outputs": [
    {
     "data": {
      "text/plain": [
       "7680"
      ]
     },
     "execution_count": 39,
     "metadata": {},
     "output_type": "execute_result"
    }
   ],
   "source": [
    "30*(2**8)"
   ]
  },
  {
   "cell_type": "code",
   "execution_count": 37,
   "metadata": {
    "ExecuteTime": {
     "end_time": "2018-06-06T19:28:10.155306Z",
     "start_time": "2018-06-06T19:28:10.074564Z"
    },
    "collapsed": false
   },
   "outputs": [],
   "source": [
    "num_tree = 30  #树的数量\n",
    "\n",
    "bst_train = xgb.cv(param, xgtrain, num_tree, nfold=3, stratified=True) #xgb_model=bst)"
   ]
  },
  {
   "cell_type": "code",
   "execution_count": 38,
   "metadata": {
    "ExecuteTime": {
     "end_time": "2018-06-06T19:28:55.107678Z",
     "start_time": "2018-06-06T19:28:33.962252Z"
    },
    "collapsed": false
   },
   "outputs": [
    {
     "data": {
      "text/html": [
       "<div>\n",
       "<style scoped>\n",
       "    .dataframe tbody tr th:only-of-type {\n",
       "        vertical-align: middle;\n",
       "    }\n",
       "\n",
       "    .dataframe tbody tr th {\n",
       "        vertical-align: top;\n",
       "    }\n",
       "\n",
       "    .dataframe thead th {\n",
       "        text-align: right;\n",
       "    }\n",
       "</style>\n",
       "<table border=\"1\" class=\"dataframe\">\n",
       "  <thead>\n",
       "    <tr style=\"text-align: right;\">\n",
       "      <th></th>\n",
       "      <th>test-logloss-mean</th>\n",
       "      <th>test-logloss-std</th>\n",
       "      <th>train-logloss-mean</th>\n",
       "      <th>train-logloss-std</th>\n",
       "    </tr>\n",
       "  </thead>\n",
       "  <tbody>\n",
       "    <tr>\n",
       "      <th>0</th>\n",
       "      <td>0.540351</td>\n",
       "      <td>0.000246</td>\n",
       "      <td>0.539924</td>\n",
       "      <td>0.000521</td>\n",
       "    </tr>\n",
       "    <tr>\n",
       "      <th>1</th>\n",
       "      <td>0.477171</td>\n",
       "      <td>0.001006</td>\n",
       "      <td>0.476446</td>\n",
       "      <td>0.000989</td>\n",
       "    </tr>\n",
       "    <tr>\n",
       "      <th>2</th>\n",
       "      <td>0.446884</td>\n",
       "      <td>0.000146</td>\n",
       "      <td>0.445870</td>\n",
       "      <td>0.000491</td>\n",
       "    </tr>\n",
       "    <tr>\n",
       "      <th>3</th>\n",
       "      <td>0.432105</td>\n",
       "      <td>0.000621</td>\n",
       "      <td>0.430852</td>\n",
       "      <td>0.000107</td>\n",
       "    </tr>\n",
       "    <tr>\n",
       "      <th>4</th>\n",
       "      <td>0.424200</td>\n",
       "      <td>0.000799</td>\n",
       "      <td>0.422667</td>\n",
       "      <td>0.000470</td>\n",
       "    </tr>\n",
       "    <tr>\n",
       "      <th>5</th>\n",
       "      <td>0.420221</td>\n",
       "      <td>0.000573</td>\n",
       "      <td>0.418619</td>\n",
       "      <td>0.000340</td>\n",
       "    </tr>\n",
       "    <tr>\n",
       "      <th>6</th>\n",
       "      <td>0.417693</td>\n",
       "      <td>0.000466</td>\n",
       "      <td>0.415855</td>\n",
       "      <td>0.000512</td>\n",
       "    </tr>\n",
       "    <tr>\n",
       "      <th>7</th>\n",
       "      <td>0.416184</td>\n",
       "      <td>0.000352</td>\n",
       "      <td>0.414139</td>\n",
       "      <td>0.000456</td>\n",
       "    </tr>\n",
       "    <tr>\n",
       "      <th>8</th>\n",
       "      <td>0.415150</td>\n",
       "      <td>0.000419</td>\n",
       "      <td>0.412970</td>\n",
       "      <td>0.000417</td>\n",
       "    </tr>\n",
       "    <tr>\n",
       "      <th>9</th>\n",
       "      <td>0.414274</td>\n",
       "      <td>0.000513</td>\n",
       "      <td>0.411895</td>\n",
       "      <td>0.000405</td>\n",
       "    </tr>\n",
       "    <tr>\n",
       "      <th>10</th>\n",
       "      <td>0.413240</td>\n",
       "      <td>0.000682</td>\n",
       "      <td>0.410694</td>\n",
       "      <td>0.000260</td>\n",
       "    </tr>\n",
       "    <tr>\n",
       "      <th>11</th>\n",
       "      <td>0.412521</td>\n",
       "      <td>0.000749</td>\n",
       "      <td>0.409812</td>\n",
       "      <td>0.000131</td>\n",
       "    </tr>\n",
       "    <tr>\n",
       "      <th>12</th>\n",
       "      <td>0.412005</td>\n",
       "      <td>0.000784</td>\n",
       "      <td>0.409060</td>\n",
       "      <td>0.000065</td>\n",
       "    </tr>\n",
       "    <tr>\n",
       "      <th>13</th>\n",
       "      <td>0.411621</td>\n",
       "      <td>0.000848</td>\n",
       "      <td>0.408482</td>\n",
       "      <td>0.000094</td>\n",
       "    </tr>\n",
       "    <tr>\n",
       "      <th>14</th>\n",
       "      <td>0.411285</td>\n",
       "      <td>0.000819</td>\n",
       "      <td>0.408038</td>\n",
       "      <td>0.000059</td>\n",
       "    </tr>\n",
       "    <tr>\n",
       "      <th>15</th>\n",
       "      <td>0.410955</td>\n",
       "      <td>0.000738</td>\n",
       "      <td>0.407488</td>\n",
       "      <td>0.000096</td>\n",
       "    </tr>\n",
       "    <tr>\n",
       "      <th>16</th>\n",
       "      <td>0.410531</td>\n",
       "      <td>0.000743</td>\n",
       "      <td>0.407031</td>\n",
       "      <td>0.000046</td>\n",
       "    </tr>\n",
       "    <tr>\n",
       "      <th>17</th>\n",
       "      <td>0.410241</td>\n",
       "      <td>0.000694</td>\n",
       "      <td>0.406671</td>\n",
       "      <td>0.000033</td>\n",
       "    </tr>\n",
       "    <tr>\n",
       "      <th>18</th>\n",
       "      <td>0.409960</td>\n",
       "      <td>0.000730</td>\n",
       "      <td>0.406305</td>\n",
       "      <td>0.000011</td>\n",
       "    </tr>\n",
       "    <tr>\n",
       "      <th>19</th>\n",
       "      <td>0.409647</td>\n",
       "      <td>0.000709</td>\n",
       "      <td>0.405849</td>\n",
       "      <td>0.000141</td>\n",
       "    </tr>\n",
       "    <tr>\n",
       "      <th>20</th>\n",
       "      <td>0.409368</td>\n",
       "      <td>0.000726</td>\n",
       "      <td>0.405513</td>\n",
       "      <td>0.000134</td>\n",
       "    </tr>\n",
       "    <tr>\n",
       "      <th>21</th>\n",
       "      <td>0.409107</td>\n",
       "      <td>0.000776</td>\n",
       "      <td>0.405198</td>\n",
       "      <td>0.000117</td>\n",
       "    </tr>\n",
       "    <tr>\n",
       "      <th>22</th>\n",
       "      <td>0.408911</td>\n",
       "      <td>0.000786</td>\n",
       "      <td>0.404847</td>\n",
       "      <td>0.000100</td>\n",
       "    </tr>\n",
       "    <tr>\n",
       "      <th>23</th>\n",
       "      <td>0.408667</td>\n",
       "      <td>0.000705</td>\n",
       "      <td>0.404515</td>\n",
       "      <td>0.000184</td>\n",
       "    </tr>\n",
       "    <tr>\n",
       "      <th>24</th>\n",
       "      <td>0.408435</td>\n",
       "      <td>0.000703</td>\n",
       "      <td>0.404196</td>\n",
       "      <td>0.000175</td>\n",
       "    </tr>\n",
       "    <tr>\n",
       "      <th>25</th>\n",
       "      <td>0.408238</td>\n",
       "      <td>0.000701</td>\n",
       "      <td>0.403913</td>\n",
       "      <td>0.000186</td>\n",
       "    </tr>\n",
       "    <tr>\n",
       "      <th>26</th>\n",
       "      <td>0.408077</td>\n",
       "      <td>0.000691</td>\n",
       "      <td>0.403683</td>\n",
       "      <td>0.000195</td>\n",
       "    </tr>\n",
       "    <tr>\n",
       "      <th>27</th>\n",
       "      <td>0.407893</td>\n",
       "      <td>0.000709</td>\n",
       "      <td>0.403477</td>\n",
       "      <td>0.000189</td>\n",
       "    </tr>\n",
       "    <tr>\n",
       "      <th>28</th>\n",
       "      <td>0.407768</td>\n",
       "      <td>0.000731</td>\n",
       "      <td>0.403234</td>\n",
       "      <td>0.000210</td>\n",
       "    </tr>\n",
       "    <tr>\n",
       "      <th>29</th>\n",
       "      <td>0.407633</td>\n",
       "      <td>0.000686</td>\n",
       "      <td>0.402951</td>\n",
       "      <td>0.000325</td>\n",
       "    </tr>\n",
       "  </tbody>\n",
       "</table>\n",
       "</div>"
      ],
      "text/plain": [
       "    test-logloss-mean  test-logloss-std  train-logloss-mean  train-logloss-std\n",
       "0            0.540351          0.000246            0.539924           0.000521\n",
       "1            0.477171          0.001006            0.476446           0.000989\n",
       "2            0.446884          0.000146            0.445870           0.000491\n",
       "3            0.432105          0.000621            0.430852           0.000107\n",
       "4            0.424200          0.000799            0.422667           0.000470\n",
       "5            0.420221          0.000573            0.418619           0.000340\n",
       "6            0.417693          0.000466            0.415855           0.000512\n",
       "7            0.416184          0.000352            0.414139           0.000456\n",
       "8            0.415150          0.000419            0.412970           0.000417\n",
       "9            0.414274          0.000513            0.411895           0.000405\n",
       "10           0.413240          0.000682            0.410694           0.000260\n",
       "11           0.412521          0.000749            0.409812           0.000131\n",
       "12           0.412005          0.000784            0.409060           0.000065\n",
       "13           0.411621          0.000848            0.408482           0.000094\n",
       "14           0.411285          0.000819            0.408038           0.000059\n",
       "15           0.410955          0.000738            0.407488           0.000096\n",
       "16           0.410531          0.000743            0.407031           0.000046\n",
       "17           0.410241          0.000694            0.406671           0.000033\n",
       "18           0.409960          0.000730            0.406305           0.000011\n",
       "19           0.409647          0.000709            0.405849           0.000141\n",
       "20           0.409368          0.000726            0.405513           0.000134\n",
       "21           0.409107          0.000776            0.405198           0.000117\n",
       "22           0.408911          0.000786            0.404847           0.000100\n",
       "23           0.408667          0.000705            0.404515           0.000184\n",
       "24           0.408435          0.000703            0.404196           0.000175\n",
       "25           0.408238          0.000701            0.403913           0.000186\n",
       "26           0.408077          0.000691            0.403683           0.000195\n",
       "27           0.407893          0.000709            0.403477           0.000189\n",
       "28           0.407768          0.000731            0.403234           0.000210\n",
       "29           0.407633          0.000686            0.402951           0.000325"
      ]
     },
     "execution_count": 38,
     "metadata": {},
     "output_type": "execute_result"
    }
   ],
   "source": [
    "bst_train"
   ]
  },
  {
   "cell_type": "markdown",
   "metadata": {},
   "source": [
    "# xgoost预测"
   ]
  },
  {
   "cell_type": "code",
   "execution_count": 40,
   "metadata": {
    "collapsed": false
   },
   "outputs": [],
   "source": [
    "param = dict(\n",
    "        learning_rate =0.4, \n",
    "        booster='gbtree',\n",
    "        n_estimators=100,  \n",
    "        max_depth=8,###############\n",
    "        min_child_weight=10,\n",
    "        gamma=0,\n",
    "        subsample=0.9,\n",
    "        colsample_bytree=0.8,\n",
    "        colsample_bylevel=0.7,\n",
    "        objective= 'binary:logistic' ,\n",
    "        eta=0.4,\n",
    "        silent=0,\n",
    "        eval_metric='logloss',\n",
    "        seed=3)"
   ]
  },
  {
   "cell_type": "code",
   "execution_count": 64,
   "metadata": {
    "collapsed": false
   },
   "outputs": [
    {
     "data": {
      "text/plain": [
       "(512, 15360)"
      ]
     },
     "execution_count": 64,
     "metadata": {},
     "output_type": "execute_result"
    }
   ],
   "source": [
    "(2**9), 30*(2**9)"
   ]
  },
  {
   "cell_type": "code",
   "execution_count": 44,
   "metadata": {
    "ExecuteTime": {
     "end_time": "2018-06-06T19:28:10.155306Z",
     "start_time": "2018-06-06T19:28:10.074564Z"
    },
    "collapsed": false
   },
   "outputs": [],
   "source": [
    "num_tree = 30  #树的数量\n",
    "\n",
    "bst_train = xgb.train(param, xgtrain, num_tree, ) #xgb_model=bst)"
   ]
  },
  {
   "cell_type": "code",
   "execution_count": 45,
   "metadata": {
    "ExecuteTime": {
     "end_time": "2018-06-06T19:28:32.812795Z",
     "start_time": "2018-06-06T19:28:32.802827Z"
    },
    "collapsed": false
   },
   "outputs": [],
   "source": [
    "new_feature = bst_train.predict(xgtrain, pred_leaf=True)"
   ]
  },
  {
   "cell_type": "code",
   "execution_count": 46,
   "metadata": {
    "ExecuteTime": {
     "end_time": "2018-06-06T19:28:55.107678Z",
     "start_time": "2018-06-06T19:28:33.962252Z"
    },
    "collapsed": false,
    "scrolled": true
   },
   "outputs": [
    {
     "data": {
      "text/plain": [
       "(404291, 30)"
      ]
     },
     "execution_count": 46,
     "metadata": {},
     "output_type": "execute_result"
    }
   ],
   "source": [
    "new_feature.shape"
   ]
  },
  {
   "cell_type": "code",
   "execution_count": 54,
   "metadata": {
    "collapsed": false
   },
   "outputs": [
    {
     "data": {
      "text/plain": [
       "array([[153, 205, 145, ..., 115,  45,  47],\n",
       "       [137, 204, 143, ...,  91,  45,  47],\n",
       "       [137, 181, 143, ...,  91,  48,  47],\n",
       "       ..., \n",
       "       [189, 266, 181, ...,  91,  45,  47],\n",
       "       [140, 200, 143, ...,  91,  45,  47],\n",
       "       [137, 171, 143, ..., 101,  45,  47]], dtype=int32)"
      ]
     },
     "execution_count": 54,
     "metadata": {},
     "output_type": "execute_result"
    }
   ],
   "source": [
    "new_feature"
   ]
  },
  {
   "cell_type": "code",
   "execution_count": 55,
   "metadata": {
    "ExecuteTime": {
     "end_time": "2018-06-06T19:28:57.301486Z",
     "start_time": "2018-06-06T19:28:57.268589Z"
    },
    "collapsed": false
   },
   "outputs": [
    {
     "name": "stdout",
     "output_type": "stream",
     "text": [
      "214 14\n",
      "274 18\n",
      "212 10\n",
      "278 18\n",
      "164 13\n",
      "170 12\n",
      "128 14\n",
      "124 12\n",
      "78 11\n",
      "86 4\n",
      "174 12\n",
      "116 4\n",
      "112 10\n",
      "126 5\n",
      "60 11\n",
      "98 10\n",
      "100 10\n",
      "36 5\n",
      "92 6\n",
      "176 10\n",
      "34 4\n",
      "74 10\n",
      "66 5\n",
      "50 2\n",
      "74 6\n",
      "106 9\n",
      "116 17\n",
      "120 9\n",
      "56 5\n",
      "56 6\n",
      "-------------------\n",
      "278 2\n"
     ]
    }
   ],
   "source": [
    "for i in np.arange(new_feature.shape[-1]):\n",
    "    print(new_feature[:,i].max(), new_feature[:,i].min())\n",
    "print('-------------------')\n",
    "print(new_feature.max(), new_feature.min())"
   ]
  },
  {
   "cell_type": "code",
   "execution_count": 65,
   "metadata": {
    "collapsed": false
   },
   "outputs": [
    {
     "data": {
      "text/plain": [
       "array([ 0.21989101,  0.1191342 ,  0.23202789,  0.403211  ,  0.14329058,\n",
       "        0.09001078,  0.14329058,  0.09719181,  0.13145611,  0.15514329], dtype=float32)"
      ]
     },
     "execution_count": 65,
     "metadata": {},
     "output_type": "execute_result"
    }
   ],
   "source": [
    "bst_train.predict(xgtrain)[:10]"
   ]
  },
  {
   "cell_type": "code",
   "execution_count": 66,
   "metadata": {
    "ExecuteTime": {
     "end_time": "2018-06-06T19:30:19.178182Z",
     "start_time": "2018-06-06T19:30:19.129338Z"
    },
    "collapsed": true
   },
   "outputs": [],
   "source": [
    "from sklearn.metrics import accuracy_score,log_loss"
   ]
  },
  {
   "cell_type": "code",
   "execution_count": 71,
   "metadata": {
    "ExecuteTime": {
     "end_time": "2018-06-06T19:30:46.974660Z",
     "start_time": "2018-06-06T19:30:46.961701Z"
    },
    "collapsed": false
   },
   "outputs": [
    {
     "name": "stdout",
     "output_type": "stream",
     "text": [
      "Train Accuary: 83.13%\n",
      "Train log_loss:  0.415396802057\n"
     ]
    }
   ],
   "source": [
    "train_preds = bst_train.predict(xgtrain)\n",
    "train_predictions = [round(value) for value in train_preds]\n",
    "y_train = xgtrain.get_label()\n",
    "train_accuracy = accuracy_score(y_train, train_predictions)\n",
    "print (\"Train Accuary: %.2f%%\" % (train_accuracy * 100.0))\n",
    "train_log_loss = log_loss(y_train, train_preds)\n",
    "print (\"Train log_loss: \" , train_log_loss)"
   ]
  },
  {
   "cell_type": "markdown",
   "metadata": {},
   "source": [
    "# 2.没有空缺值"
   ]
  },
  {
   "cell_type": "markdown",
   "metadata": {},
   "source": [
    "# 3.创建新特征"
   ]
  },
  {
   "cell_type": "markdown",
   "metadata": {},
   "source": [
    "# 保存模型"
   ]
  },
  {
   "cell_type": "code",
   "execution_count": 69,
   "metadata": {
    "collapsed": true
   },
   "outputs": [],
   "source": [
    "bst_train.save_model(data_path + 'xgboost.model')"
   ]
  },
  {
   "cell_type": "code",
   "execution_count": 70,
   "metadata": {
    "collapsed": true
   },
   "outputs": [],
   "source": [
    "bst_train = xgb.Booster(model_file= data_path + 'xgboost.model')"
   ]
  },
  {
   "cell_type": "code",
   "execution_count": 174,
   "metadata": {
    "collapsed": true
   },
   "outputs": [],
   "source": [
    "class feature_engineering(object):\n",
    "        \n",
    "    def to_date(self, data):\n",
    "        self.year = data['hour'] //1000000 +2000\n",
    "        self.month = data['hour'] %1000000 //10000\n",
    "        self.day = data['hour'] %14100000 //100\n",
    "        self.hour = data['hour'] %14100000 %100\n",
    "        self.week = (self.day %7 +2) %7\n",
    "        data.drop(columns='hour',axis=1,inplace=True)\n",
    "        self.insert(data, 'hour', value=self.hour)\n",
    "        self.insert(data, 'week', value=self.week)\n",
    "        self.insert(data, 'day', value=self.day)\n"
   ]
  },
  {
   "cell_type": "markdown",
   "metadata": {},
   "source": [
    "# 最终生成"
   ]
  },
  {
   "cell_type": "code",
   "execution_count": 197,
   "metadata": {
    "ExecuteTime": {
     "end_time": "2018-06-06T19:23:16.638836Z",
     "start_time": "2018-06-06T19:23:08.175150Z"
    },
    "collapsed": false
   },
   "outputs": [],
   "source": [
    "import numpy as np\n",
    "import pandas as pd\n",
    "import gc\n",
    "import os\n",
    "import scipy.sparse as ss\n",
    "#from  sklearn.cross_validation  import  train_test_split "
   ]
  },
  {
   "cell_type": "code",
   "execution_count": 198,
   "metadata": {
    "collapsed": true
   },
   "outputs": [],
   "source": [
    "import xgboost as xgb"
   ]
  },
  {
   "cell_type": "code",
   "execution_count": 203,
   "metadata": {
    "collapsed": true
   },
   "outputs": [],
   "source": [
    "data_path = '../data/project_2/'\n",
    "chunksize = 5e3\n",
    "threshold = 10"
   ]
  },
  {
   "cell_type": "code",
   "execution_count": 73,
   "metadata": {
    "collapsed": true
   },
   "outputs": [],
   "source": [
    "#data_tmp = pd.read_csv(data_path+'test.csv')"
   ]
  },
  {
   "cell_type": "code",
   "execution_count": 74,
   "metadata": {
    "collapsed": true
   },
   "outputs": [],
   "source": [
    "#data_tmp.insert(loc=1, column='click', value=np.zeros(data_tmp.shape[0]))"
   ]
  },
  {
   "cell_type": "code",
   "execution_count": 76,
   "metadata": {
    "collapsed": false
   },
   "outputs": [],
   "source": [
    "#data_tmp.to_csv(data_path+'test_click.csv', index=False)"
   ]
  },
  {
   "cell_type": "code",
   "execution_count": 106,
   "metadata": {
    "collapsed": true
   },
   "outputs": [],
   "source": [
    "\"\"\"\n",
    "for i in range(2,24):\n",
    "    colA = pd.read_csv(data_path+'test_click.csv', usecols=[i])\n",
    "    print('-----------------------')\n",
    "    colB = pd.read_csv(data_path+'test.csv', usecols=[i-1])\n",
    "    tmp = colA != colB\n",
    "    print(tmp.sum())\n",
    "\"\"\"\n",
    "pass"
   ]
  },
  {
   "cell_type": "code",
   "execution_count": 82,
   "metadata": {
    "collapsed": false
   },
   "outputs": [],
   "source": [
    "test_id = pd.read_csv(data_path+'test_click.csv', usecols=[0])"
   ]
  },
  {
   "cell_type": "code",
   "execution_count": 83,
   "metadata": {
    "collapsed": false
   },
   "outputs": [
    {
     "data": {
      "text/html": [
       "<div>\n",
       "<style scoped>\n",
       "    .dataframe tbody tr th:only-of-type {\n",
       "        vertical-align: middle;\n",
       "    }\n",
       "\n",
       "    .dataframe tbody tr th {\n",
       "        vertical-align: top;\n",
       "    }\n",
       "\n",
       "    .dataframe thead th {\n",
       "        text-align: right;\n",
       "    }\n",
       "</style>\n",
       "<table border=\"1\" class=\"dataframe\">\n",
       "  <thead>\n",
       "    <tr style=\"text-align: right;\">\n",
       "      <th></th>\n",
       "      <th>id</th>\n",
       "    </tr>\n",
       "  </thead>\n",
       "  <tbody>\n",
       "    <tr>\n",
       "      <th>0</th>\n",
       "      <td>1.000017e+19</td>\n",
       "    </tr>\n",
       "    <tr>\n",
       "      <th>1</th>\n",
       "      <td>1.000018e+19</td>\n",
       "    </tr>\n",
       "    <tr>\n",
       "      <th>2</th>\n",
       "      <td>1.000055e+19</td>\n",
       "    </tr>\n",
       "    <tr>\n",
       "      <th>3</th>\n",
       "      <td>1.000109e+19</td>\n",
       "    </tr>\n",
       "    <tr>\n",
       "      <th>4</th>\n",
       "      <td>1.000138e+19</td>\n",
       "    </tr>\n",
       "    <tr>\n",
       "      <th>5</th>\n",
       "      <td>1.000152e+19</td>\n",
       "    </tr>\n",
       "    <tr>\n",
       "      <th>6</th>\n",
       "      <td>1.000191e+19</td>\n",
       "    </tr>\n",
       "    <tr>\n",
       "      <th>7</th>\n",
       "      <td>1.000198e+19</td>\n",
       "    </tr>\n",
       "    <tr>\n",
       "      <th>8</th>\n",
       "      <td>1.000200e+19</td>\n",
       "    </tr>\n",
       "    <tr>\n",
       "      <th>9</th>\n",
       "      <td>1.000211e+19</td>\n",
       "    </tr>\n",
       "  </tbody>\n",
       "</table>\n",
       "</div>"
      ],
      "text/plain": [
       "             id\n",
       "0  1.000017e+19\n",
       "1  1.000018e+19\n",
       "2  1.000055e+19\n",
       "3  1.000109e+19\n",
       "4  1.000138e+19\n",
       "5  1.000152e+19\n",
       "6  1.000191e+19\n",
       "7  1.000198e+19\n",
       "8  1.000200e+19\n",
       "9  1.000211e+19"
      ]
     },
     "execution_count": 83,
     "metadata": {},
     "output_type": "execute_result"
    }
   ],
   "source": [
    "test_id[:10]"
   ]
  },
  {
   "cell_type": "code",
   "execution_count": 84,
   "metadata": {
    "collapsed": true
   },
   "outputs": [],
   "source": [
    "class GetOneHot(object):\n",
    "    \n",
    "    def __init__(self, data_tmp, more_10, get_index):\n",
    "        # 初始化onehot数组\n",
    "        finale_data = np.zeros((data_tmp.shape[0],more_10.shape[0]), dtype=np.int8)\n",
    "        # 把特征名称与特征取值结合起来\n",
    "        for c in data_tmp.columns: \n",
    "            if c in ['id', 'click', 'hour']: continue\n",
    "            data_tmp.loc[:, c] = data_tmp.loc[:, c].map(lambda x: c+'='+str(x))\n",
    "        # OneHot编码, 对符合条件的位置, 赋值 1\n",
    "        for i in np.arange(data_tmp.shape[0]):\n",
    "            index = data_tmp.iloc[i,3:]\n",
    "            for c in index:\n",
    "                try: j =  get_index[c]\n",
    "                except KeyError: continue\n",
    "                finale_data[i, j] = 1\n",
    "        # finale_data最后三列 ['hour', 'week', 'click']\n",
    "        finale_data[:, -1] = data_tmp.loc[:, 'click'].values \n",
    "        finale_data[:, -2] = ((data_tmp.loc[:, 'hour'].values %14100000 //100) %7 +2) %7\n",
    "        finale_data[:, -3] = data_tmp.loc[:, 'hour'].values %14100000 %100\n",
    "        self.finale_data = finale_data"
   ]
  },
  {
   "cell_type": "code",
   "execution_count": 85,
   "metadata": {
    "collapsed": true
   },
   "outputs": [],
   "source": [
    "chunksize = 5e3\n",
    "threshold = 10"
   ]
  },
  {
   "cell_type": "code",
   "execution_count": 86,
   "metadata": {
    "ExecuteTime": {
     "end_time": "2018-06-06T19:25:35.988540Z",
     "start_time": "2018-06-06T19:25:35.973588Z"
    },
    "collapsed": true
   },
   "outputs": [],
   "source": [
    "data = pd.read_csv( data_path+'test_click.csv',  iterator=True)\n"
   ]
  },
  {
   "cell_type": "code",
   "execution_count": 87,
   "metadata": {
    "ExecuteTime": {
     "end_time": "2018-06-06T19:25:40.012936Z",
     "start_time": "2018-06-06T19:25:39.484624Z"
    },
    "collapsed": true
   },
   "outputs": [],
   "source": [
    "data_tmp = data.get_chunk(chunksize)"
   ]
  },
  {
   "cell_type": "code",
   "execution_count": 88,
   "metadata": {
    "ExecuteTime": {
     "end_time": "2018-06-06T19:25:51.273028Z",
     "start_time": "2018-06-06T19:25:51.268053Z"
    },
    "collapsed": false
   },
   "outputs": [],
   "source": [
    "count = pd.read_csv( data_path+'count.csv', index_col=0)"
   ]
  },
  {
   "cell_type": "code",
   "execution_count": 89,
   "metadata": {
    "collapsed": false
   },
   "outputs": [],
   "source": [
    "more_10 = count[count['total']>=threshold].index"
   ]
  },
  {
   "cell_type": "code",
   "execution_count": 90,
   "metadata": {
    "ExecuteTime": {
     "end_time": "2018-06-06T19:25:54.371269Z",
     "start_time": "2018-06-06T19:25:54.355321Z"
    },
    "collapsed": false
   },
   "outputs": [],
   "source": [
    "more_10 = more_10.append(pd.Index(['hour', 'week', 'click']))"
   ]
  },
  {
   "cell_type": "code",
   "execution_count": 91,
   "metadata": {
    "ExecuteTime": {
     "end_time": "2018-06-06T19:26:52.998212Z",
     "start_time": "2018-06-06T19:26:52.991227Z"
    },
    "collapsed": false
   },
   "outputs": [],
   "source": [
    "get_index = pd.Series(data=np.arange(more_10.shape[0]), index=more_10, dtype=np.uint64)"
   ]
  },
  {
   "cell_type": "code",
   "execution_count": 92,
   "metadata": {
    "collapsed": false,
    "scrolled": true
   },
   "outputs": [
    {
     "data": {
      "text/plain": [
       "((645384,), (645384,))"
      ]
     },
     "execution_count": 92,
     "metadata": {},
     "output_type": "execute_result"
    }
   ],
   "source": [
    "more_10.shape, get_index.shape"
   ]
  },
  {
   "cell_type": "code",
   "execution_count": 93,
   "metadata": {
    "collapsed": false
   },
   "outputs": [
    {
     "data": {
      "text/plain": [
       "173"
      ]
     },
     "execution_count": 93,
     "metadata": {},
     "output_type": "execute_result"
    }
   ],
   "source": [
    "gc.collect()"
   ]
  },
  {
   "cell_type": "code",
   "execution_count": 94,
   "metadata": {
    "collapsed": false
   },
   "outputs": [],
   "source": [
    "onehot = GetOneHot(data_tmp, more_10, get_index)"
   ]
  },
  {
   "cell_type": "code",
   "execution_count": 95,
   "metadata": {
    "collapsed": true
   },
   "outputs": [],
   "source": [
    "y_train = ss.csc_matrix(onehot.finale_data[:, -1])"
   ]
  },
  {
   "cell_type": "code",
   "execution_count": 96,
   "metadata": {
    "collapsed": false
   },
   "outputs": [
    {
     "data": {
      "text/plain": [
       "<1x5000 sparse matrix of type '<class 'numpy.int8'>'\n",
       "\twith 0 stored elements in Compressed Sparse Column format>"
      ]
     },
     "execution_count": 96,
     "metadata": {},
     "output_type": "execute_result"
    }
   ],
   "source": [
    "y_train"
   ]
  },
  {
   "cell_type": "code",
   "execution_count": 97,
   "metadata": {
    "collapsed": false
   },
   "outputs": [],
   "source": [
    "X_train = ss.csr_matrix(onehot.finale_data[:, :-1])"
   ]
  },
  {
   "cell_type": "code",
   "execution_count": 29,
   "metadata": {
    "collapsed": false
   },
   "outputs": [],
   "source": [
    "#X_train = ss.load_npz(data_path+'X_train.npz', )\n",
    "#y_train = ss.load_npz(data_path+'y_train.npz', )"
   ]
  },
  {
   "cell_type": "code",
   "execution_count": 30,
   "metadata": {
    "collapsed": false,
    "scrolled": true
   },
   "outputs": [
    {
     "data": {
      "text/plain": [
       "(0, 23)"
      ]
     },
     "execution_count": 30,
     "metadata": {},
     "output_type": "execute_result"
    }
   ],
   "source": [
    "X_train.min(), X_train.max()"
   ]
  },
  {
   "cell_type": "code",
   "execution_count": 38,
   "metadata": {
    "collapsed": false,
    "scrolled": true
   },
   "outputs": [
    {
     "name": "stdout",
     "output_type": "stream",
     "text": [
      "20000 data have counted, total cost time: 65\n",
      "30000 data have counted, total cost time: 131\n",
      "40000 data have counted, total cost time: 197\n",
      "50000 data have counted, total cost time: 263\n"
     ]
    }
   ],
   "source": [
    "i = 1\n",
    "total_size = data_tmp.shape[0]\n",
    "start_time = time.time()\n",
    "while True:\n",
    "    i+=1\n",
    "    if i>5:break  #0.4M条数据用时44min\n",
    "    try: data_tmp = data.get_chunk(chunksize)  #每次读取chunk_size条数据 \n",
    "    except StopIteration: break  #读取结束后跳出循环\n",
    "    onehot = GetOneHot(data_tmp, more_10, get_index)\n",
    "    X_train_tmp = ss.csr_matrix(onehot.finale_data[:, :-1])\n",
    "    y_train_tmp = ss.csc_matrix(onehot.finale_data[:, -1])\n",
    "    X_train = ss.vstack((X_train, X_train_tmp))\n",
    "    y_train = ss.hstack((y_train, y_train_tmp))\n",
    "    total_size += data_tmp.shape[0]  #累加当前数据量\n",
    "    used_time = int(time.time()-start_time)  #记录统计耗时\n",
    "    print('{0} data have counted, total cost time: {1}'.format(total_size, used_time))\n",
    "    #del data_tmp, click_0_tmp, click_1_tmp #及时删除, 以免内存溢出\n",
    "    gc.collect()"
   ]
  },
  {
   "cell_type": "code",
   "execution_count": 31,
   "metadata": {
    "collapsed": false,
    "scrolled": false
   },
   "outputs": [
    {
     "name": "stdout",
     "output_type": "stream",
     "text": [
      "(5000, 645383)  |  (1, 5000)\n"
     ]
    }
   ],
   "source": [
    "print(X_train.shape, ' | ', y_train.shape)"
   ]
  },
  {
   "cell_type": "markdown",
   "metadata": {
    "collapsed": true
   },
   "source": [
    "ss.save_npz(data_path+'X_train', X_train)\n",
    "ss.save_npz(data_path+'y_train', y_train)"
   ]
  },
  {
   "cell_type": "code",
   "execution_count": 34,
   "metadata": {
    "collapsed": false
   },
   "outputs": [
    {
     "data": {
      "text/plain": [
       "array([[ 0,  0,  0,  2],\n",
       "       [ 0,  0,  8,  3],\n",
       "       [ 0,  0, 20,  3],\n",
       "       ..., \n",
       "       [ 0,  0,  9,  2],\n",
       "       [ 0,  0, 12,  2],\n",
       "       [ 0,  0, 12,  2]], dtype=int8)"
      ]
     },
     "execution_count": 34,
     "metadata": {},
     "output_type": "execute_result"
    }
   ],
   "source": [
    "X_train.toarray()[:,-4:]"
   ]
  },
  {
   "cell_type": "code",
   "execution_count": 10,
   "metadata": {
    "collapsed": false
   },
   "outputs": [],
   "source": [
    "bst666 = xgb.Booster(model_file='xgboost')  "
   ]
  },
  {
   "cell_type": "code",
   "execution_count": 30,
   "metadata": {
    "collapsed": false
   },
   "outputs": [],
   "source": [
    "onehot = GetOneHot(data_tmp, more_10, get_index)"
   ]
  },
  {
   "cell_type": "code",
   "execution_count": 45,
   "metadata": {
    "collapsed": false
   },
   "outputs": [
    {
     "data": {
      "text/plain": [
       "20487"
      ]
     },
     "execution_count": 45,
     "metadata": {},
     "output_type": "execute_result"
    }
   ],
   "source": [
    "onehot.finale_data[:,:-3].sum()"
   ]
  },
  {
   "cell_type": "code",
   "execution_count": 32,
   "metadata": {
    "collapsed": false
   },
   "outputs": [],
   "source": [
    "X_train = ss.csr_matrix(onehot.finale_data[:, :-1])\n",
    "y_train = onehot.finale_data[:, -1]"
   ]
  },
  {
   "cell_type": "code",
   "execution_count": 33,
   "metadata": {
    "collapsed": true
   },
   "outputs": [],
   "source": [
    "xgtrain = xgb.DMatrix(X_train, label = y_train, nthread=-1)"
   ]
  },
  {
   "cell_type": "code",
   "execution_count": null,
   "metadata": {
    "collapsed": true
   },
   "outputs": [],
   "source": []
  },
  {
   "cell_type": "code",
   "execution_count": 34,
   "metadata": {
    "collapsed": false
   },
   "outputs": [],
   "source": [
    "train_preds = bst666.predict(xgtrain)"
   ]
  },
  {
   "cell_type": "code",
   "execution_count": 39,
   "metadata": {
    "collapsed": false
   },
   "outputs": [],
   "source": [
    "test_id.insert(loc=1, column='click', value=train_preds)"
   ]
  },
  {
   "cell_type": "code",
   "execution_count": null,
   "metadata": {
    "collapsed": true
   },
   "outputs": [],
   "source": []
  }
 ],
 "metadata": {
  "anaconda-cloud": {},
  "kernelspec": {
   "display_name": "Python [default]",
   "language": "python",
   "name": "python3"
  },
  "language_info": {
   "codemirror_mode": {
    "name": "ipython",
    "version": 3
   },
   "file_extension": ".py",
   "mimetype": "text/x-python",
   "name": "python",
   "nbconvert_exporter": "python",
   "pygments_lexer": "ipython3",
   "version": "3.5.2"
  },
  "toc": {
   "nav_menu": {},
   "number_sections": true,
   "sideBar": true,
   "skip_h1_title": false,
   "title_cell": "Table of Contents",
   "title_sidebar": "Contents",
   "toc_cell": false,
   "toc_position": {},
   "toc_section_display": true,
   "toc_window_display": false
  }
 },
 "nbformat": 4,
 "nbformat_minor": 2
}
