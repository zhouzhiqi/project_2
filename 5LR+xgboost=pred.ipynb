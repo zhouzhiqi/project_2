{
 "cells": [
  {
   "cell_type": "markdown",
   "metadata": {
    "toc": true
   },
   "source": [
    "<h1>Table of Contents<span class=\"tocSkip\"></span></h1>\n",
    "<div class=\"toc\"><ul class=\"toc-item\"><li><span><a href=\"#Onehot_A\" data-toc-modified-id=\"Onehot_A-1\"><span class=\"toc-item-num\">1&nbsp;&nbsp;</span>Onehot_A</a></span></li><li><span><a href=\"#合并\" data-toc-modified-id=\"合并-2\"><span class=\"toc-item-num\">2&nbsp;&nbsp;</span>合并</a></span></li></ul></div>"
   ]
  },
  {
   "cell_type": "markdown",
   "metadata": {},
   "source": [
    "# Onehot_A"
   ]
  },
  {
   "cell_type": "code",
   "execution_count": 1,
   "metadata": {
    "ExecuteTime": {
     "end_time": "2018-07-07T13:36:02.152857Z",
     "start_time": "2018-07-07T13:36:02.108884Z"
    },
    "collapsed": true
   },
   "outputs": [],
   "source": [
    "# coding: utf-8\n",
    "\n",
    "# filelist: \n",
    "#         train:40428967,  \n",
    "#     minitrain:4042898,  \n",
    "# miniminitrain:404291,  \n",
    "#    test_click:4577464\n",
    "#  \n",
    "\n",
    "#import os\n",
    "#os.chdir('/media/zhou/0004DD1700005FE8/AI/00/project_2/')\n",
    "#os.chdir('E:/AI/00/project_2')\n",
    "\n",
    "class flags(object):\n",
    "    def __init__(self, file_name, onehot_cat):\n",
    "        self.file_name = file_name\n",
    "        self.onehot_cat = onehot_cat\n",
    "        self.data_dir = '../data/project_2/data/{0}/'.format(self.onehot_cat)\n",
    "        self.output_dir = '../data/project_2/output/{0}/'.format(self.onehot_cat)\n",
    "        self.model_dir = '../data/project_2/models/{0}/'.format(self.onehot_cat)\n",
    "\n",
    "class params(object):\n",
    "    def __init__(self, onehot_name):\n",
    "        self.threshold = 10\n",
    "        self.chunksize = 1e3\n",
    "        self.num_trees = 50\n",
    "        self.deep = 15\n",
    "        self.split = '='\n",
    "        # ['A_cat', 'A_hour', 'A_xgb', \n",
    "        #  'B_cat', 'C_his']\n",
    "        self.onehot_name = onehot_name\n",
    "        self.lr_C = 1\n"
   ]
  },
  {
   "cell_type": "code",
   "execution_count": 2,
   "metadata": {
    "ExecuteTime": {
     "end_time": "2018-07-07T13:36:02.792290Z",
     "start_time": "2018-07-07T13:36:02.761310Z"
    },
    "collapsed": true
   },
   "outputs": [],
   "source": [
    "\n",
    "import numpy as np\n",
    "import pandas as pd\n",
    "import time\n",
    "import gc\n",
    "import os\n",
    "import scipy.sparse as ss\n",
    "#from  sklearn.cross_validation  import  train_test_split \n",
    "#import xgboost as xgb\n",
    "#from sklearn.metrics import accuracy_score,log_loss\n",
    "from sklearn.linear_model import LogisticRegression\n",
    "from sklearn.metrics import accuracy_score,log_loss\n",
    "from sklearn.externals import joblib\n",
    "from sklearn.model_selection import GridSearchCV"
   ]
  },
  {
   "cell_type": "code",
   "execution_count": 3,
   "metadata": {
    "collapsed": true
   },
   "outputs": [],
   "source": [
    "def Pred(file_name, onehot_cat, onehot_name, is_LR=True, save_sub=True):\n",
    "    \n",
    "    FLAGS = flags(file_name, onehot_cat)\n",
    "    PARAMS = params(onehot_name)  \n",
    "\n",
    "    file_name = FLAGS.file_name\n",
    "    onehot_name = PARAMS.onehot_name\n",
    "    output_path = FLAGS.output_dir\n",
    "    model_path = FLAGS.model_dir\n",
    "    \n",
    "    print('Load Data')\n",
    "    X_train = ss.load_npz(output_path+'{0}_X_{1}_all.npz'.format(file_name, onehot_name), )\n",
    "\n",
    "    y_train = ss.load_npz(output_path+'{0}_y_{1}_all.npz'.format(file_name, onehot_name), )\n",
    "    y_train = y_train.toarray().astype(np.float32)[0]\n",
    "    # 先转成np.array, 把数据类型转为np.float32(此时为2维数组shape(1,n)), 转为1-D np.arrar\n",
    "    # 2维数组shape(m,n)适用于多分类问题, 在二分类中不适用\n",
    "    if is_LR:\n",
    "        C_dict = {'A_cat':0.1, 'A_cat_xgb':0.01, 'A_hour':0.01, 'B_cat':0.1, 'B_cat_xgb':0.01,  'A_his':0.01, }\n",
    "        c=C_dict[onehot_name]\n",
    "        #导入模型\n",
    "        print('Load Model')\n",
    "        lr = joblib.load(model_path+'LR_C{0}_{1}.sklearn'.format(c,onehot_name))\n",
    "        #进行评价\n",
    "        print('Predict')\n",
    "        train_preds = lr.predict_proba(X_train)[:,1]\n",
    "    else:\n",
    "        xgtrain = xgb.DMatrix(X_train, label = y_train,)\n",
    "        num_trees = 50\n",
    "        deep = 9\n",
    "        #导入模型\n",
    "        print('Load Model')\n",
    "        bst_train = xgb.Booster(model_file=model_path + 'tree{0}_deep{1}_{2}.xgboost'.format(num_trees, deep, onehot_name))\n",
    "        #进行评价\n",
    "        print('Predict')\n",
    "        train_preds = bst_train.predict(xgtrain,)\n",
    "        onehot_name = onehot_name+'xgboost'\n",
    "\n",
    "    if save_sub:\n",
    "        #合并test_id与predict\n",
    "        submission = pd.read_csv(model_path + '{0}_id.csv'.format(file_name), dtype=np.uint64)\n",
    "        submission.insert(loc=1, column='click', value=train_preds)\n",
    "\n",
    "        print('to submission.csv')\n",
    "        #保存预测好的文件\n",
    "        submission.to_csv(model_path + 'submission{0}.csv'.format(onehot_name), index=False)\n",
    "    else:\n",
    "        return onehot_name, train_preds\n"
   ]
  },
  {
   "cell_type": "code",
   "execution_count": 4,
   "metadata": {
    "collapsed": false
   },
   "outputs": [
    {
     "name": "stdout",
     "output_type": "stream",
     "text": [
      "Load Data\n",
      "Load Model\n",
      "Predict\n",
      "to submission.csv\n"
     ]
    }
   ],
   "source": [
    "Pred('test_click', 'Onehot_A', 'A_his', True, True)"
   ]
  },
  {
   "cell_type": "code",
   "execution_count": 6,
   "metadata": {
    "collapsed": true
   },
   "outputs": [],
   "source": [
    "file_name = ['test_click', 'test_click', 'test_click', 'test_click', \n",
    "             'test_click', 'test_click', 'test_click', 'test_click', ]\n",
    "onehot_cat = ['Onehot_A', 'Onehot_A', 'Onehot_A', 'Onehot_B', \n",
    "              'Onehot_B', 'Onehot_A', 'Onehot_A', 'Onehot_B', ]\n",
    "onehot_name = ['A_cat', 'A_cat_xgb', 'A_hour', 'B_cat', \n",
    "               'B_cat_xgb',  'A_his', 'A_cat', 'B_cat', ]\n",
    "is_LR = [True, True, True, True, \n",
    "         True, True, False, False, ]\n",
    "is_save = [True, True, True, True, \n",
    "           True, True, True, True, ]"
   ]
  },
  {
   "cell_type": "code",
   "execution_count": 42,
   "metadata": {
    "collapsed": false
   },
   "outputs": [
    {
     "name": "stdout",
     "output_type": "stream",
     "text": [
      "Load Data\n",
      "Load Model\n",
      "Predict\n",
      "to submission.csv\n",
      "Load Data\n",
      "Load Model\n",
      "Predict\n",
      "to submission.csv\n",
      "Load Data\n",
      "Load Model\n",
      "Predict\n",
      "to submission.csv\n",
      "Load Data\n",
      "Load Model\n",
      "Predict\n",
      "to submission.csv\n",
      "Load Data\n",
      "Load Model\n",
      "Predict\n",
      "to submission.csv\n",
      "Load Data\n",
      "Load Model\n",
      "Predict\n",
      "to submission.csv\n",
      "Load Data\n"
     ]
    },
    {
     "ename": "MemoryError",
     "evalue": "",
     "output_type": "error",
     "traceback": [
      "\u001b[0;31m---------------------------------------------------------------------------\u001b[0m",
      "\u001b[0;31mMemoryError\u001b[0m                               Traceback (most recent call last)",
      "\u001b[0;32m<ipython-input-42-7e9aeda9292f>\u001b[0m in \u001b[0;36m<module>\u001b[0;34m()\u001b[0m\n\u001b[1;32m      1\u001b[0m \u001b[0;32mfor\u001b[0m \u001b[0ma\u001b[0m\u001b[0;34m,\u001b[0m\u001b[0mb\u001b[0m\u001b[0;34m,\u001b[0m\u001b[0mc\u001b[0m\u001b[0;34m,\u001b[0m\u001b[0md\u001b[0m\u001b[0;34m,\u001b[0m\u001b[0me\u001b[0m \u001b[0;32min\u001b[0m \u001b[0mzip\u001b[0m\u001b[0;34m(\u001b[0m\u001b[0mfile_name\u001b[0m\u001b[0;34m,\u001b[0m \u001b[0monehot_cat\u001b[0m\u001b[0;34m,\u001b[0m \u001b[0monehot_name\u001b[0m\u001b[0;34m,\u001b[0m \u001b[0mis_LR\u001b[0m\u001b[0;34m,\u001b[0m \u001b[0mis_save\u001b[0m\u001b[0;34m)\u001b[0m\u001b[0;34m:\u001b[0m\u001b[0;34m\u001b[0m\u001b[0m\n\u001b[0;32m----> 2\u001b[0;31m     \u001b[0mPred\u001b[0m\u001b[0;34m(\u001b[0m\u001b[0ma\u001b[0m\u001b[0;34m,\u001b[0m\u001b[0mb\u001b[0m\u001b[0;34m,\u001b[0m\u001b[0mc\u001b[0m\u001b[0;34m,\u001b[0m\u001b[0md\u001b[0m\u001b[0;34m,\u001b[0m\u001b[0me\u001b[0m \u001b[0;34m)\u001b[0m\u001b[0;34m\u001b[0m\u001b[0m\n\u001b[0m",
      "\u001b[0;32m<ipython-input-39-d755417ee134>\u001b[0m in \u001b[0;36mPred\u001b[0;34m(file_name, onehot_cat, onehot_name, is_LR, save_sub)\u001b[0m\n\u001b[1;32m     26\u001b[0m         \u001b[0mtrain_preds\u001b[0m \u001b[0;34m=\u001b[0m \u001b[0mlr\u001b[0m\u001b[0;34m.\u001b[0m\u001b[0mpredict_proba\u001b[0m\u001b[0;34m(\u001b[0m\u001b[0mX_train\u001b[0m\u001b[0;34m)\u001b[0m\u001b[0;34m[\u001b[0m\u001b[0;34m:\u001b[0m\u001b[0;34m,\u001b[0m\u001b[0;36m1\u001b[0m\u001b[0;34m]\u001b[0m\u001b[0;34m\u001b[0m\u001b[0m\n\u001b[1;32m     27\u001b[0m     \u001b[0;32melse\u001b[0m\u001b[0;34m:\u001b[0m\u001b[0;34m\u001b[0m\u001b[0m\n\u001b[0;32m---> 28\u001b[0;31m         \u001b[0mxgtrain\u001b[0m \u001b[0;34m=\u001b[0m \u001b[0mxgb\u001b[0m\u001b[0;34m.\u001b[0m\u001b[0mDMatrix\u001b[0m\u001b[0;34m(\u001b[0m\u001b[0mX_train\u001b[0m\u001b[0;34m,\u001b[0m \u001b[0mlabel\u001b[0m \u001b[0;34m=\u001b[0m \u001b[0my_train\u001b[0m\u001b[0;34m,\u001b[0m\u001b[0;34m)\u001b[0m\u001b[0;34m\u001b[0m\u001b[0m\n\u001b[0m\u001b[1;32m     29\u001b[0m         \u001b[0mnum_trees\u001b[0m \u001b[0;34m=\u001b[0m \u001b[0;36m50\u001b[0m\u001b[0;34m\u001b[0m\u001b[0m\n\u001b[1;32m     30\u001b[0m         \u001b[0mdeep\u001b[0m \u001b[0;34m=\u001b[0m \u001b[0;36m9\u001b[0m\u001b[0;34m\u001b[0m\u001b[0m\n",
      "\u001b[0;32m/home/zhou/anaconda3/lib/python3.5/site-packages/xgboost/core.py\u001b[0m in \u001b[0;36m__init__\u001b[0;34m(self, data, label, missing, weight, silent, feature_names, feature_types, nthread)\u001b[0m\n\u001b[1;32m    272\u001b[0m                                                      ctypes.byref(self.handle)))\n\u001b[1;32m    273\u001b[0m         \u001b[0;32melif\u001b[0m \u001b[0misinstance\u001b[0m\u001b[0;34m(\u001b[0m\u001b[0mdata\u001b[0m\u001b[0;34m,\u001b[0m \u001b[0mscipy\u001b[0m\u001b[0;34m.\u001b[0m\u001b[0msparse\u001b[0m\u001b[0;34m.\u001b[0m\u001b[0mcsr_matrix\u001b[0m\u001b[0;34m)\u001b[0m\u001b[0;34m:\u001b[0m\u001b[0;34m\u001b[0m\u001b[0m\n\u001b[0;32m--> 274\u001b[0;31m             \u001b[0mself\u001b[0m\u001b[0;34m.\u001b[0m\u001b[0m_init_from_csr\u001b[0m\u001b[0;34m(\u001b[0m\u001b[0mdata\u001b[0m\u001b[0;34m)\u001b[0m\u001b[0;34m\u001b[0m\u001b[0m\n\u001b[0m\u001b[1;32m    275\u001b[0m         \u001b[0;32melif\u001b[0m \u001b[0misinstance\u001b[0m\u001b[0;34m(\u001b[0m\u001b[0mdata\u001b[0m\u001b[0;34m,\u001b[0m \u001b[0mscipy\u001b[0m\u001b[0;34m.\u001b[0m\u001b[0msparse\u001b[0m\u001b[0;34m.\u001b[0m\u001b[0mcsc_matrix\u001b[0m\u001b[0;34m)\u001b[0m\u001b[0;34m:\u001b[0m\u001b[0;34m\u001b[0m\u001b[0m\n\u001b[1;32m    276\u001b[0m             \u001b[0mself\u001b[0m\u001b[0;34m.\u001b[0m\u001b[0m_init_from_csc\u001b[0m\u001b[0;34m(\u001b[0m\u001b[0mdata\u001b[0m\u001b[0;34m)\u001b[0m\u001b[0;34m\u001b[0m\u001b[0m\n",
      "\u001b[0;32m/home/zhou/anaconda3/lib/python3.5/site-packages/xgboost/core.py\u001b[0m in \u001b[0;36m_init_from_csr\u001b[0;34m(self, csr)\u001b[0m\n\u001b[1;32m    306\u001b[0m         _check_call(_LIB.XGDMatrixCreateFromCSREx(c_array(ctypes.c_size_t, csr.indptr),\n\u001b[1;32m    307\u001b[0m                                                   \u001b[0mc_array\u001b[0m\u001b[0;34m(\u001b[0m\u001b[0mctypes\u001b[0m\u001b[0;34m.\u001b[0m\u001b[0mc_uint\u001b[0m\u001b[0;34m,\u001b[0m \u001b[0mcsr\u001b[0m\u001b[0;34m.\u001b[0m\u001b[0mindices\u001b[0m\u001b[0;34m)\u001b[0m\u001b[0;34m,\u001b[0m\u001b[0;34m\u001b[0m\u001b[0m\n\u001b[0;32m--> 308\u001b[0;31m                                                   \u001b[0mc_array\u001b[0m\u001b[0;34m(\u001b[0m\u001b[0mctypes\u001b[0m\u001b[0;34m.\u001b[0m\u001b[0mc_float\u001b[0m\u001b[0;34m,\u001b[0m \u001b[0mcsr\u001b[0m\u001b[0;34m.\u001b[0m\u001b[0mdata\u001b[0m\u001b[0;34m)\u001b[0m\u001b[0;34m,\u001b[0m\u001b[0;34m\u001b[0m\u001b[0m\n\u001b[0m\u001b[1;32m    309\u001b[0m                                                   \u001b[0mctypes\u001b[0m\u001b[0;34m.\u001b[0m\u001b[0mc_size_t\u001b[0m\u001b[0;34m(\u001b[0m\u001b[0mlen\u001b[0m\u001b[0;34m(\u001b[0m\u001b[0mcsr\u001b[0m\u001b[0;34m.\u001b[0m\u001b[0mindptr\u001b[0m\u001b[0;34m)\u001b[0m\u001b[0;34m)\u001b[0m\u001b[0;34m,\u001b[0m\u001b[0;34m\u001b[0m\u001b[0m\n\u001b[1;32m    310\u001b[0m                                                   \u001b[0mctypes\u001b[0m\u001b[0;34m.\u001b[0m\u001b[0mc_size_t\u001b[0m\u001b[0;34m(\u001b[0m\u001b[0mlen\u001b[0m\u001b[0;34m(\u001b[0m\u001b[0mcsr\u001b[0m\u001b[0;34m.\u001b[0m\u001b[0mdata\u001b[0m\u001b[0;34m)\u001b[0m\u001b[0;34m)\u001b[0m\u001b[0;34m,\u001b[0m\u001b[0;34m\u001b[0m\u001b[0m\n",
      "\u001b[0;32m/home/zhou/anaconda3/lib/python3.5/site-packages/xgboost/core.py\u001b[0m in \u001b[0;36mc_array\u001b[0;34m(ctype, values)\u001b[0m\n\u001b[1;32m    162\u001b[0m     \u001b[0;32mif\u001b[0m \u001b[0misinstance\u001b[0m\u001b[0;34m(\u001b[0m\u001b[0mvalues\u001b[0m\u001b[0;34m,\u001b[0m \u001b[0mnp\u001b[0m\u001b[0;34m.\u001b[0m\u001b[0mndarray\u001b[0m\u001b[0;34m)\u001b[0m \u001b[0;32mand\u001b[0m \u001b[0mvalues\u001b[0m\u001b[0;34m.\u001b[0m\u001b[0mdtype\u001b[0m\u001b[0;34m.\u001b[0m\u001b[0mitemsize\u001b[0m \u001b[0;34m==\u001b[0m \u001b[0mctypes\u001b[0m\u001b[0;34m.\u001b[0m\u001b[0msizeof\u001b[0m\u001b[0;34m(\u001b[0m\u001b[0mctype\u001b[0m\u001b[0;34m)\u001b[0m\u001b[0;34m:\u001b[0m\u001b[0;34m\u001b[0m\u001b[0m\n\u001b[1;32m    163\u001b[0m         \u001b[0;32mreturn\u001b[0m \u001b[0;34m(\u001b[0m\u001b[0mctype\u001b[0m \u001b[0;34m*\u001b[0m \u001b[0mlen\u001b[0m\u001b[0;34m(\u001b[0m\u001b[0mvalues\u001b[0m\u001b[0;34m)\u001b[0m\u001b[0;34m)\u001b[0m\u001b[0;34m.\u001b[0m\u001b[0mfrom_buffer_copy\u001b[0m\u001b[0;34m(\u001b[0m\u001b[0mvalues\u001b[0m\u001b[0;34m)\u001b[0m\u001b[0;34m\u001b[0m\u001b[0m\n\u001b[0;32m--> 164\u001b[0;31m     \u001b[0;32mreturn\u001b[0m \u001b[0;34m(\u001b[0m\u001b[0mctype\u001b[0m \u001b[0;34m*\u001b[0m \u001b[0mlen\u001b[0m\u001b[0;34m(\u001b[0m\u001b[0mvalues\u001b[0m\u001b[0;34m)\u001b[0m\u001b[0;34m)\u001b[0m\u001b[0;34m(\u001b[0m\u001b[0;34m*\u001b[0m\u001b[0mvalues\u001b[0m\u001b[0;34m)\u001b[0m\u001b[0;34m\u001b[0m\u001b[0m\n\u001b[0m\u001b[1;32m    165\u001b[0m \u001b[0;34m\u001b[0m\u001b[0m\n\u001b[1;32m    166\u001b[0m \u001b[0;34m\u001b[0m\u001b[0m\n",
      "\u001b[0;31mMemoryError\u001b[0m: "
     ]
    }
   ],
   "source": [
    "for a,b,c,d,e in zip(file_name, onehot_cat, onehot_name, is_LR, is_save):\n",
    "    Pred(a,b,c,d,e )"
   ]
  },
  {
   "cell_type": "code",
   "execution_count": 8,
   "metadata": {
    "ExecuteTime": {
     "end_time": "2018-07-07T13:48:13.609565Z",
     "start_time": "2018-07-07T13:48:13.596576Z"
    },
    "collapsed": true
   },
   "outputs": [],
   "source": [
    "import xgboost as xgb"
   ]
  },
  {
   "cell_type": "code",
   "execution_count": 9,
   "metadata": {
    "collapsed": false
   },
   "outputs": [
    {
     "name": "stdout",
     "output_type": "stream",
     "text": [
      "Load Data\n",
      "Load Model\n",
      "Predict\n",
      "to submission.csv\n"
     ]
    }
   ],
   "source": [
    "Pred('test_click', 'Onehot_A', 'A_cat', False, True)"
   ]
  },
  {
   "cell_type": "code",
   "execution_count": 10,
   "metadata": {
    "collapsed": false,
    "scrolled": true
   },
   "outputs": [
    {
     "name": "stdout",
     "output_type": "stream",
     "text": [
      "Load Data\n",
      "Load Model\n",
      "Predict\n",
      "to submission.csv\n"
     ]
    }
   ],
   "source": [
    "Pred('test_click', 'Onehot_B', 'B_cat', False, True)"
   ]
  },
  {
   "cell_type": "code",
   "execution_count": 21,
   "metadata": {
    "collapsed": true
   },
   "outputs": [],
   "source": [
    "FLAGS = flags('test_click', 'Onehot_A')\n",
    "PARAMS = params('A_cat')  \n",
    "\n",
    "file_name = FLAGS.file_name\n",
    "onehot_name = PARAMS.onehot_name\n",
    "output_path = FLAGS.output_dir\n",
    "model_path = FLAGS.model_dir\n",
    "\n",
    "y_train = ss.load_npz(output_path+'{0}_y_{1}_all.npz'.format(file_name, onehot_name), )\n",
    "y_train = y_train.toarray().astype(np.float32)[0]\n",
    "merge_all = pd.DataFrame(index=np.arange(len(y_train)), columns=['click'], data=y_train)"
   ]
  },
  {
   "cell_type": "code",
   "execution_count": 22,
   "metadata": {
    "collapsed": true
   },
   "outputs": [],
   "source": [
    "file_name = ['test_click', 'test_click', 'test_click', 'test_click', \n",
    "             'test_click', 'test_click', 'test_click', 'test_click', ]\n",
    "onehot_cat = ['Onehot_A', 'Onehot_A', 'Onehot_A', 'Onehot_B', \n",
    "              'Onehot_B', 'Onehot_A', 'Onehot_A', 'Onehot_B', ]\n",
    "onehot_name = ['A_cat', 'A_cat_xgb', 'A_hour', 'B_cat', \n",
    "               'B_cat_xgb',  'A_his', 'A_cat', 'B_cat', ]\n",
    "is_LR = [True, True, True, True, \n",
    "         True, True, False, False, ]\n",
    "is_save = [False, False, False, False, \n",
    "           False, False, False, False, ]"
   ]
  },
  {
   "cell_type": "code",
   "execution_count": 23,
   "metadata": {
    "collapsed": false
   },
   "outputs": [
    {
     "name": "stdout",
     "output_type": "stream",
     "text": [
      "Load Data\n",
      "Load Model\n",
      "Predict\n",
      "Load Data\n",
      "Load Model\n",
      "Predict\n",
      "Load Data\n",
      "Load Model\n",
      "Predict\n",
      "Load Data\n",
      "Load Model\n",
      "Predict\n",
      "Load Data\n",
      "Load Model\n",
      "Predict\n",
      "Load Data\n",
      "Load Model\n",
      "Predict\n",
      "Load Data\n",
      "Load Model\n",
      "Predict\n",
      "Load Data\n",
      "Load Model\n",
      "Predict\n"
     ]
    }
   ],
   "source": [
    "for a,b,c,d,e in zip(file_name, onehot_cat, onehot_name, is_LR, is_save):\n",
    "    onehot_name, train_preds = Pred(a,b,c,d,e )\n",
    "    gc.collect()\n",
    "    merge_all.insert(loc=0, column=onehot_name, value=train_preds)"
   ]
  },
  {
   "cell_type": "markdown",
   "metadata": {},
   "source": [
    "# 合并"
   ]
  },
  {
   "cell_type": "code",
   "execution_count": 31,
   "metadata": {
    "collapsed": false
   },
   "outputs": [
    {
     "name": "stdout",
     "output_type": "stream",
     "text": [
      "<class 'pandas.core.frame.DataFrame'>\n",
      "Int64Index: 4577464 entries, 0 to 4577463\n",
      "Data columns (total 9 columns):\n",
      "B_cat_xgboost    float32\n",
      "A_cat_xgboost    float32\n",
      "A_his            float64\n",
      "B_cat_xgb        float64\n",
      "B_cat            float64\n",
      "A_hour           float64\n",
      "A_cat_xgb        float64\n",
      "A_cat            float64\n",
      "click            float32\n",
      "dtypes: float32(3), float64(6)\n",
      "memory usage: 296.8 MB\n"
     ]
    }
   ],
   "source": [
    "merge_all.info()"
   ]
  },
  {
   "cell_type": "code",
   "execution_count": 32,
   "metadata": {
    "collapsed": true
   },
   "outputs": [],
   "source": [
    "X_train = merge_all.iloc[:,:-1]\n",
    "y_train = merge_all.iloc[:,-1]"
   ]
  },
  {
   "cell_type": "code",
   "execution_count": 33,
   "metadata": {
    "ExecuteTime": {
     "end_time": "2018-02-08T13:48:54.372832Z",
     "start_time": "2018-02-08T13:48:54.361825Z"
    },
    "collapsed": false
   },
   "outputs": [
    {
     "name": "stdout",
     "output_type": "stream",
     "text": [
      "predicting . . . \n",
      "cost time:1\n",
      "to submission.csv\n"
     ]
    }
   ],
   "source": [
    "onehot_name = 'all'\n",
    "c=1\n",
    "\n",
    "#导入模型\n",
    "lr = joblib.load(model_path+'LR_C{0}_{1}.sklearn'.format(c,onehot_name))\n",
    "#lr = LogisticRegression(multi_class='ovr', penalty='l2', solver='sag', C=c, n_jobs=-1)\n",
    "\n",
    "#开始训练\n",
    "start_time = time.time()\n",
    "print('predicting . . . ')\n",
    "#lr.fit(X_train, y_train, )\n",
    "\n",
    "#保存模型\n",
    "#joblib.dump(lr, model_path+'LR_sklearn.model')\n",
    "\n",
    "#进行评价\n",
    "train_preds = lr.predict_proba(X_train)[:,1]\n",
    "#train_predictions = np.around(train_preds)\n",
    "print('cost time:{0}'.format(int(time.time() - start_time)))\n",
    "\n",
    "#合并test_id与predict\n",
    "submission = pd.read_csv(model_path + '{0}_id.csv'.format(file_name), dtype=np.uint64)\n",
    "submission.insert(loc=1, column='click', value=train_preds)\n",
    "\n",
    "print('to submission.csv')\n",
    "#保存预测好的文件\n",
    "submission.to_csv(model_path + 'submission.csv', index=False)"
   ]
  },
  {
   "cell_type": "code",
   "execution_count": 25,
   "metadata": {
    "collapsed": false
   },
   "outputs": [
    {
     "data": {
      "text/plain": [
       "['../data/project_2/models/Onehot_A/LR_C0.1.sklearn_more10__']"
      ]
     },
     "execution_count": 25,
     "metadata": {},
     "output_type": "execute_result"
    }
   ],
   "source": [
    "#保存模型\n",
    "joblib.dump(lr, model_path+'LR_C{0}.sklearn_more{1}__'.format(c,threshold))"
   ]
  },
  {
   "cell_type": "code",
   "execution_count": null,
   "metadata": {
    "collapsed": true
   },
   "outputs": [],
   "source": [
    "lr_model = joblib.load(model_path+model_path+'LR_C{0}.sklearn'.format(c))"
   ]
  }
 ],
 "metadata": {
  "anaconda-cloud": {},
  "kernelspec": {
   "display_name": "Python [default]",
   "language": "python",
   "name": "python3"
  },
  "language_info": {
   "codemirror_mode": {
    "name": "ipython",
    "version": 3
   },
   "file_extension": ".py",
   "mimetype": "text/x-python",
   "name": "python",
   "nbconvert_exporter": "python",
   "pygments_lexer": "ipython3",
   "version": "3.5.2"
  },
  "toc": {
   "nav_menu": {},
   "number_sections": true,
   "sideBar": true,
   "skip_h1_title": false,
   "title_cell": "Table of Contents",
   "title_sidebar": "Contents",
   "toc_cell": true,
   "toc_position": {
    "height": "773px",
    "left": "0px",
    "right": "658.92px",
    "top": "107px",
    "width": "212px"
   },
   "toc_section_display": "block",
   "toc_window_display": false
  }
 },
 "nbformat": 4,
 "nbformat_minor": 2
}
