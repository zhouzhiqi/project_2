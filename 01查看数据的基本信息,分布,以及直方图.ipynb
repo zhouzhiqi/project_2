{
 "cells": [
  {
   "cell_type": "markdown",
   "metadata": {},
   "source": [
    "|名称|含义|\n",
    "| : | : |\n",
    "|id | ad identifier\n",
    "|click | 1是点击 0/1 for non-click/click\n",
    "|hour | 时间, YYMMDDHH, so 14091123 means 2014年09月11号23:00 UTC.\n",
    "|C1 | 未知分类变量 anonymized categorical variable\n",
    "|banner_pos|标语,横幅\n",
    "|site_id|网站ID号\n",
    "|site_domain|网站 域?\n",
    "|site_category|网站类别\n",
    "|app_id|appID号\n",
    "|app_domain|应用 域?\n",
    "|app_category|应用类别\n",
    "|device_id|设备ID号\n",
    "|device_ip|设备ip地址\n",
    "|device_model|设备型号, 如iphone5/iphone4\n",
    "|device_type|设备类型, 如智能手机/平板电脑\n",
    "|device_conn_type|连接设备类型\n",
    "|C14-C21|未知分类变量 anonymized categorical variables"
   ]
  },
  {
   "cell_type": "code",
   "execution_count": 1,
   "metadata": {
    "ExecuteTime": {
     "end_time": "2018-06-04T06:15:28.812511Z",
     "start_time": "2018-06-04T06:15:28.608609Z"
    },
    "collapsed": false
   },
   "outputs": [],
   "source": [
    "import numpy as np\n",
    "import pandas as pd\n",
    "import os\n",
    "import gc\n",
    "import matplotlib.pyplot as plt\n",
    "#import seaborn as sns"
   ]
  },
  {
   "cell_type": "code",
   "execution_count": 2,
   "metadata": {
    "collapsed": true
   },
   "outputs": [],
   "source": [
    "class Show(object):\n",
    "    \"\"\"查看数据的基本信息,分布,以及直方图\n",
    "    \n",
    "    传入参数i(int)为某列的索引号\"\"\"\n",
    "    \n",
    "    \n",
    "    def __init__(self, i):\n",
    "        \"\"\"导入i对应的特征\"\"\"\n",
    "        data_path = '../data/project_2'\n",
    "        train_path = os.path.join(data_path, 'train.csv')\n",
    "        self.tmp = pd.read_csv(train_path,usecols=[i])\n",
    "        self.name = self.tmp.columns[0]\n",
    "    \n",
    "    def NAN(self,):\n",
    "        \"\"\"查看i对应特征的空缺值\"\"\"\n",
    "        print('the NAN of {0}'.format(self.name))\n",
    "        print('----------------------------------')\n",
    "        print(self.tmp.isnull().sum())\n",
    "        \n",
    "    def describe(self,):\n",
    "        \"\"\"查看i对应特征的数据类型及通用的描述\"\"\"\n",
    "        print('the describe of {0}'.format(self.name))\n",
    "        print('----------------------------------')\n",
    "        print(self.tmp.info())\n",
    "        print('----------------------------------')\n",
    "        print(self.tmp.describe())\n",
    "        \n",
    "    def counts(self,):\n",
    "        \"\"\"查看i对应特征值出现的频率\"\"\"\n",
    "        print('the counts of {0}'.format(self.name))\n",
    "        print('----------------------------------')\n",
    "        print(self.tmp[self.name].value_counts())\n",
    "\n",
    "    def hist(self,):\n",
    "        \"\"\"查看i对应特征的直方图\"\"\"\n",
    "        counts = self.tmp[self.name].value_counts()\n",
    "        counts_len = counts.shape[0]\n",
    "        print('特征[{0}]共有{1}个分类'.format(self.name, counts_len))\n",
    "        if counts_len>12:\n",
    "            print('对出现次数最多的前12个分类进行可视化')\n",
    "            if self.tmp.dtypes.values=='object':\n",
    "                plt.plot(counts[:12])\n",
    "                plt.xticks(rotation=90)\n",
    "            else:\n",
    "                index = self.tmp[self.name].isin(counts[:12].index)\n",
    "                plt.hist(self.tmp[self.name][index], bins=12)\n",
    "        else:\n",
    "            plt.hist(self.tmp[self.name], bins=counts_len)\n",
    "        plt.show()"
   ]
  },
  {
   "cell_type": "code",
   "execution_count": 28,
   "metadata": {
    "collapsed": true
   },
   "outputs": [],
   "source": [
    "train_1 = Show(1)"
   ]
  },
  {
   "cell_type": "code",
   "execution_count": 29,
   "metadata": {
    "collapsed": false
   },
   "outputs": [
    {
     "name": "stdout",
     "output_type": "stream",
     "text": [
      "the NAN of click\n",
      "----------------------------------\n",
      "click    0\n",
      "dtype: int64\n"
     ]
    }
   ],
   "source": [
    "train_1.NAN()"
   ]
  },
  {
   "cell_type": "code",
   "execution_count": 30,
   "metadata": {
    "collapsed": false
   },
   "outputs": [
    {
     "name": "stdout",
     "output_type": "stream",
     "text": [
      "the describe of click\n",
      "----------------------------------\n",
      "<class 'pandas.core.frame.DataFrame'>\n",
      "RangeIndex: 40428967 entries, 0 to 40428966\n",
      "Data columns (total 1 columns):\n",
      "click    int64\n",
      "dtypes: int64(1)\n",
      "memory usage: 308.4 MB\n",
      "None\n",
      "----------------------------------\n",
      "              click\n",
      "count  4.042897e+07\n",
      "mean   1.698056e-01\n",
      "std    3.754620e-01\n",
      "min    0.000000e+00\n",
      "25%    0.000000e+00\n",
      "50%    0.000000e+00\n",
      "75%    0.000000e+00\n",
      "max    1.000000e+00\n"
     ]
    }
   ],
   "source": [
    "train_1.describe()"
   ]
  },
  {
   "cell_type": "code",
   "execution_count": 31,
   "metadata": {
    "collapsed": false
   },
   "outputs": [
    {
     "name": "stdout",
     "output_type": "stream",
     "text": [
      "the counts of click\n",
      "----------------------------------\n",
      "0    33563901\n",
      "1     6865066\n",
      "Name: click, dtype: int64\n"
     ]
    }
   ],
   "source": [
    "train_1.counts()"
   ]
  },
  {
   "cell_type": "code",
   "execution_count": 32,
   "metadata": {
    "collapsed": false
   },
   "outputs": [
    {
     "name": "stdout",
     "output_type": "stream",
     "text": [
      "共有2个分类\n"
     ]
    },
    {
     "data": {
      "image/png": "[encoded data removed]",
      "text/plain": [
       "<Figure size 432x288 with 1 Axes>"
      ]
     },
     "metadata": {},
     "output_type": "display_data"
    }
   ],
   "source": [
    "train_1.hist()"
   ]
  },
  {
   "cell_type": "code",
   "execution_count": 33,
   "metadata": {
    "collapsed": false
   },
   "outputs": [
    {
     "data": {
      "text/plain": [
       "12817"
      ]
     },
     "execution_count": 33,
     "metadata": {},
     "output_type": "execute_result"
    }
   ],
   "source": [
    "del train_1\n",
    "gc.collect()"
   ]
  },
  {
   "cell_type": "code",
   "execution_count": 34,
   "metadata": {
    "collapsed": true
   },
   "outputs": [],
   "source": [
    "train_2 = Show(2)"
   ]
  },
  {
   "cell_type": "code",
   "execution_count": 35,
   "metadata": {
    "collapsed": false
   },
   "outputs": [
    {
     "name": "stdout",
     "output_type": "stream",
     "text": [
      "the NAN of hour\n",
      "----------------------------------\n",
      "hour    0\n",
      "dtype: int64\n"
     ]
    }
   ],
   "source": [
    "train_2.NAN()"
   ]
  },
  {
   "cell_type": "code",
   "execution_count": 36,
   "metadata": {
    "collapsed": false
   },
   "outputs": [
    {
     "name": "stdout",
     "output_type": "stream",
     "text": [
      "the describe of hour\n",
      "----------------------------------\n",
      "<class 'pandas.core.frame.DataFrame'>\n",
      "RangeIndex: 40428967 entries, 0 to 40428966\n",
      "Data columns (total 1 columns):\n",
      "hour    int64\n",
      "dtypes: int64(1)\n",
      "memory usage: 308.4 MB\n",
      "None\n",
      "----------------------------------\n",
      "               hour\n",
      "count  4.042897e+07\n",
      "mean   1.410256e+07\n",
      "std    2.966837e+02\n",
      "min    1.410210e+07\n",
      "25%    1.410230e+07\n",
      "50%    1.410260e+07\n",
      "75%    1.410281e+07\n",
      "max    1.410302e+07\n"
     ]
    }
   ],
   "source": [
    "train_2.describe()"
   ]
  },
  {
   "cell_type": "code",
   "execution_count": 37,
   "metadata": {
    "collapsed": false
   },
   "outputs": [
    {
     "name": "stdout",
     "output_type": "stream",
     "text": [
      "the counts of hour\n",
      "----------------------------------\n",
      "14102209    447783\n",
      "14102210    438270\n",
      "14102813    432308\n",
      "14102212    408650\n",
      "14102814    387453\n",
      "14102211    386757\n",
      "14103004    347806\n",
      "14102809    328576\n",
      "14102213    323480\n",
      "14102208    322803\n",
      "14102808    291763\n",
      "14102206    288819\n",
      "14102205    286697\n",
      "14102816    283491\n",
      "14102815    282315\n",
      "14102817    280835\n",
      "14102105    273500\n",
      "14102304    273173\n",
      "14102812    272124\n",
      "14102104    264711\n",
      "14102417    262579\n",
      "14103014    259187\n",
      "14102810    258656\n",
      "14102811    257891\n",
      "14102416    252154\n",
      "14103013    250441\n",
      "14103012    249022\n",
      "14102315    246297\n",
      "14103005    244765\n",
      "14102514    242500\n",
      "             ...  \n",
      "14102121     89501\n",
      "14102300     89341\n",
      "14102622     88869\n",
      "14102122     88436\n",
      "14103000     87333\n",
      "14102723     87207\n",
      "14102702     85828\n",
      "14103023     83608\n",
      "14102800     82520\n",
      "14102400     82137\n",
      "14102621     82130\n",
      "14102601     80863\n",
      "14102501     80637\n",
      "14102200     78006\n",
      "14102504     76816\n",
      "14102623     76770\n",
      "14102523     76506\n",
      "14102701     75382\n",
      "14102123     73940\n",
      "14102500     73446\n",
      "14102600     72185\n",
      "14102503     67443\n",
      "14102700     62254\n",
      "14102506     51726\n",
      "14102502     38400\n",
      "14102419     34163\n",
      "14102423     25622\n",
      "14102420     23124\n",
      "14102421     20367\n",
      "14102422     14876\n",
      "Name: hour, Length: 240, dtype: int64\n"
     ]
    }
   ],
   "source": [
    "train_2.counts()"
   ]
  },
  {
   "cell_type": "code",
   "execution_count": 38,
   "metadata": {
    "collapsed": false
   },
   "outputs": [
    {
     "name": "stdout",
     "output_type": "stream",
     "text": [
      "共有240个分类\n",
      "对出现次数最多的前12个分类进行可视化\n"
     ]
    },
    {
     "data": {
      "image/png": "[encoded data removed]",
      "text/plain": [
       "<Figure size 432x288 with 1 Axes>"
      ]
     },
     "metadata": {},
     "output_type": "display_data"
    }
   ],
   "source": [
    "train_2.hist()"
   ]
  },
  {
   "cell_type": "code",
   "execution_count": 39,
   "metadata": {
    "collapsed": false
   },
   "outputs": [
    {
     "data": {
      "text/plain": [
       "2877"
      ]
     },
     "execution_count": 39,
     "metadata": {},
     "output_type": "execute_result"
    }
   ],
   "source": [
    "del train_2\n",
    "gc.collect()"
   ]
  },
  {
   "cell_type": "code",
   "execution_count": 40,
   "metadata": {
    "collapsed": true
   },
   "outputs": [],
   "source": [
    "train_3 = Show(3)"
   ]
  },
  {
   "cell_type": "code",
   "execution_count": 41,
   "metadata": {
    "collapsed": false
   },
   "outputs": [
    {
     "name": "stdout",
     "output_type": "stream",
     "text": [
      "the NAN of C1\n",
      "----------------------------------\n",
      "C1    0\n",
      "dtype: int64\n"
     ]
    }
   ],
   "source": [
    "train_3.NAN()"
   ]
  },
  {
   "cell_type": "code",
   "execution_count": 42,
   "metadata": {
    "collapsed": false
   },
   "outputs": [
    {
     "name": "stdout",
     "output_type": "stream",
     "text": [
      "the describe of C1\n",
      "----------------------------------\n",
      "<class 'pandas.core.frame.DataFrame'>\n",
      "RangeIndex: 40428967 entries, 0 to 40428966\n",
      "Data columns (total 1 columns):\n",
      "C1    int64\n",
      "dtypes: int64(1)\n",
      "memory usage: 308.4 MB\n",
      "None\n",
      "----------------------------------\n",
      "                 C1\n",
      "count  4.042897e+07\n",
      "mean   1.004968e+03\n",
      "std    1.094586e+00\n",
      "min    1.001000e+03\n",
      "25%    1.005000e+03\n",
      "50%    1.005000e+03\n",
      "75%    1.005000e+03\n",
      "max    1.012000e+03\n"
     ]
    }
   ],
   "source": [
    "train_3.describe()"
   ]
  },
  {
   "cell_type": "code",
   "execution_count": 43,
   "metadata": {
    "collapsed": false
   },
   "outputs": [
    {
     "name": "stdout",
     "output_type": "stream",
     "text": [
      "the counts of C1\n",
      "----------------------------------\n",
      "1005    37140632\n",
      "1002     2220812\n",
      "1010      903457\n",
      "1012      113512\n",
      "1007       35304\n",
      "1001        9463\n",
      "1008        5787\n",
      "Name: C1, dtype: int64\n"
     ]
    }
   ],
   "source": [
    "train_3.counts()"
   ]
  },
  {
   "cell_type": "code",
   "execution_count": 44,
   "metadata": {
    "collapsed": false
   },
   "outputs": [
    {
     "name": "stdout",
     "output_type": "stream",
     "text": [
      "共有7个分类\n"
     ]
    },
    {
     "data": {
      "image/png": "[encoded data removed]",
      "text/plain": [
       "<Figure size 432x288 with 1 Axes>"
      ]
     },
     "metadata": {},
     "output_type": "display_data"
    }
   ],
   "source": [
    "train_3.hist()"
   ]
  },
  {
   "cell_type": "code",
   "execution_count": 45,
   "metadata": {
    "collapsed": false
   },
   "outputs": [
    {
     "data": {
      "text/plain": [
       "2525"
      ]
     },
     "execution_count": 45,
     "metadata": {},
     "output_type": "execute_result"
    }
   ],
   "source": [
    "del train_3\n",
    "gc.collect()"
   ]
  },
  {
   "cell_type": "code",
   "execution_count": 46,
   "metadata": {
    "collapsed": true
   },
   "outputs": [],
   "source": [
    "train_4 = Show(4)"
   ]
  },
  {
   "cell_type": "code",
   "execution_count": 47,
   "metadata": {
    "collapsed": false
   },
   "outputs": [
    {
     "name": "stdout",
     "output_type": "stream",
     "text": [
      "the NAN of banner_pos\n",
      "----------------------------------\n",
      "banner_pos    0\n",
      "dtype: int64\n"
     ]
    }
   ],
   "source": [
    "train_4.NAN()"
   ]
  },
  {
   "cell_type": "code",
   "execution_count": 48,
   "metadata": {
    "collapsed": false
   },
   "outputs": [
    {
     "name": "stdout",
     "output_type": "stream",
     "text": [
      "the describe of banner_pos\n",
      "----------------------------------\n",
      "<class 'pandas.core.frame.DataFrame'>\n",
      "RangeIndex: 40428967 entries, 0 to 40428966\n",
      "Data columns (total 1 columns):\n",
      "banner_pos    int64\n",
      "dtypes: int64(1)\n",
      "memory usage: 308.4 MB\n",
      "None\n",
      "----------------------------------\n",
      "         banner_pos\n",
      "count  4.042897e+07\n",
      "mean   2.880146e-01\n",
      "std    5.063820e-01\n",
      "min    0.000000e+00\n",
      "25%    0.000000e+00\n",
      "50%    0.000000e+00\n",
      "75%    1.000000e+00\n",
      "max    7.000000e+00\n"
     ]
    }
   ],
   "source": [
    "train_4.describe()"
   ]
  },
  {
   "cell_type": "code",
   "execution_count": 49,
   "metadata": {
    "collapsed": false
   },
   "outputs": [
    {
     "name": "stdout",
     "output_type": "stream",
     "text": [
      "the counts of banner_pos\n",
      "----------------------------------\n",
      "0    29109590\n",
      "1    11247282\n",
      "7       43577\n",
      "2       13001\n",
      "4        7704\n",
      "5        5778\n",
      "3        2035\n",
      "Name: banner_pos, dtype: int64\n"
     ]
    }
   ],
   "source": [
    "train_4.counts()"
   ]
  },
  {
   "cell_type": "code",
   "execution_count": 50,
   "metadata": {
    "collapsed": false
   },
   "outputs": [
    {
     "name": "stdout",
     "output_type": "stream",
     "text": [
      "共有7个分类\n"
     ]
    },
    {
     "data": {
      "image/png": "[encoded data removed]",
      "text/plain": [
       "<Figure size 432x288 with 1 Axes>"
      ]
     },
     "metadata": {},
     "output_type": "display_data"
    }
   ],
   "source": [
    "train_4.hist()"
   ]
  },
  {
   "cell_type": "code",
   "execution_count": 51,
   "metadata": {
    "collapsed": false
   },
   "outputs": [
    {
     "data": {
      "text/plain": [
       "2586"
      ]
     },
     "execution_count": 51,
     "metadata": {},
     "output_type": "execute_result"
    }
   ],
   "source": [
    "del train_4\n",
    "gc.collect()"
   ]
  },
  {
   "cell_type": "code",
   "execution_count": 6,
   "metadata": {
    "collapsed": true
   },
   "outputs": [],
   "source": [
    "train_5 = Show(5)"
   ]
  },
  {
   "cell_type": "code",
   "execution_count": 53,
   "metadata": {
    "collapsed": false
   },
   "outputs": [
    {
     "name": "stdout",
     "output_type": "stream",
     "text": [
      "the NAN of site_id\n",
      "----------------------------------\n",
      "site_id    0\n",
      "dtype: int64\n"
     ]
    }
   ],
   "source": [
    "train_5.NAN()"
   ]
  },
  {
   "cell_type": "code",
   "execution_count": 54,
   "metadata": {
    "collapsed": false
   },
   "outputs": [
    {
     "name": "stdout",
     "output_type": "stream",
     "text": [
      "the describe of site_id\n",
      "----------------------------------\n",
      "<class 'pandas.core.frame.DataFrame'>\n",
      "RangeIndex: 40428967 entries, 0 to 40428966\n",
      "Data columns (total 1 columns):\n",
      "site_id    object\n",
      "dtypes: object(1)\n",
      "memory usage: 308.4+ MB\n",
      "None\n",
      "----------------------------------\n",
      "         site_id\n",
      "count   40428967\n",
      "unique      4737\n",
      "top     85f751fd\n",
      "freq    14596137\n"
     ]
    }
   ],
   "source": [
    "train_5.describe()"
   ]
  },
  {
   "cell_type": "code",
   "execution_count": null,
   "metadata": {
    "collapsed": false
   },
   "outputs": [
    {
     "name": "stdout",
     "output_type": "stream",
     "text": [
      "the counts of site_id\n",
      "----------------------------------\n",
      "85f751fd    14596137\n",
      "1fbe01fe     6486150\n",
      "e151e245     2637747\n",
      "d9750ee7      963745\n",
      "5b08c53b      913325\n",
      "5b4d2eda      771360\n",
      "856e6d3f      765891\n",
      "a7853007      461311\n",
      "b7e9786d      369099\n",
      "5ee41ff2      349008\n",
      "6399eda6      343703\n",
      "5bcf81a2      340050\n",
      "6256f5b4      315840\n",
      "57ef2c87      310760\n",
      "17caea14      278322\n",
      "0a742914      269725\n",
      "83a0ad1a      268735\n",
      "57fe1b20      264952\n",
      "e4d8dd7b      259347\n",
      "e8f79e60      259289\n",
      "d6137915      233281\n",
      "12fb4121      192890\n",
      "6c5b482c      191220\n",
      "93eaba74      185620\n",
      "e5c60a05      179039\n",
      "9a977531      173840\n",
      "bb4524e7      168279\n",
      "5114c672      165486\n",
      "e3c09f3a      160321\n",
      "4bf5bbe2      148511\n",
      "              ...   \n",
      "f8993cdc           1\n",
      "023c7fa9           1\n",
      "f87855d7           1\n",
      "606bb8a2           1\n",
      "20fc48fe           1\n",
      "6fc15803           1\n",
      "178661e3           1\n",
      "18c66a69           1\n",
      "c2268426           1\n",
      "9b6217ea           1\n",
      "3d60f88a           1\n",
      "7ee66c59           1\n",
      "01b54156           1\n",
      "1d312d71           1\n",
      "afc7f4e4           1\n",
      "caac8bbc           1\n",
      "5aae7ba3           1\n",
      "96e83602           1\n",
      "ae150f65           1\n",
      "51ccf7f2           1\n",
      "b6a7185b           1\n",
      "13688726           1\n",
      "a791b1e3           1\n",
      "1ad6808f           1\n",
      "eda28042           1\n",
      "11765359           1\n",
      "7c602561           1\n",
      "a4145521           1\n",
      "2c791cb4           1\n",
      "0849db33           1\n",
      "Name: site_id, Length: 4737, dtype: int64\n"
     ]
    }
   ],
   "source": [
    "train_5.counts()"
   ]
  },
  {
   "cell_type": "code",
   "execution_count": 7,
   "metadata": {
    "collapsed": false
   },
   "outputs": [
    {
     "name": "stdout",
     "output_type": "stream",
     "text": [
      "共有4737个分类\n",
      "对出现次数最多的前12个分类进行可视化\n"
     ]
    },
    {
     "data": {
      "image/png": "[encoded data removed]",
      "text/plain": [
       "<Figure size 432x288 with 1 Axes>"
      ]
     },
     "metadata": {},
     "output_type": "display_data"
    }
   ],
   "source": [
    "train_5.hist()"
   ]
  },
  {
   "cell_type": "code",
   "execution_count": 8,
   "metadata": {
    "collapsed": false
   },
   "outputs": [
    {
     "data": {
      "text/plain": [
       "19"
      ]
     },
     "execution_count": 8,
     "metadata": {},
     "output_type": "execute_result"
    }
   ],
   "source": [
    "del train_5\n",
    "gc.collect()"
   ]
  },
  {
   "cell_type": "code",
   "execution_count": 9,
   "metadata": {
    "collapsed": true
   },
   "outputs": [],
   "source": [
    "train_6 = Show(6)"
   ]
  },
  {
   "cell_type": "code",
   "execution_count": 10,
   "metadata": {
    "collapsed": false
   },
   "outputs": [
    {
     "name": "stdout",
     "output_type": "stream",
     "text": [
      "the NAN of site_domain\n",
      "----------------------------------\n",
      "site_domain    0\n",
      "dtype: int64\n"
     ]
    }
   ],
   "source": [
    "train_6.NAN()"
   ]
  },
  {
   "cell_type": "code",
   "execution_count": 11,
   "metadata": {
    "collapsed": false
   },
   "outputs": [
    {
     "name": "stdout",
     "output_type": "stream",
     "text": [
      "the describe of site_domain\n",
      "----------------------------------\n",
      "<class 'pandas.core.frame.DataFrame'>\n",
      "RangeIndex: 40428967 entries, 0 to 40428966\n",
      "Data columns (total 1 columns):\n",
      "site_domain    object\n",
      "dtypes: object(1)\n",
      "memory usage: 308.4+ MB\n",
      "None\n",
      "----------------------------------\n",
      "       site_domain\n",
      "count     40428967\n",
      "unique        7745\n",
      "top       c4e18dd6\n",
      "freq      15131739\n"
     ]
    }
   ],
   "source": [
    "train_6.describe()"
   ]
  },
  {
   "cell_type": "code",
   "execution_count": 12,
   "metadata": {
    "collapsed": false
   },
   "outputs": [
    {
     "name": "stdout",
     "output_type": "stream",
     "text": [
      "the counts of site_domain\n",
      "----------------------------------\n",
      "c4e18dd6    15131739\n",
      "f3845767     6486150\n",
      "7e091613     3325008\n",
      "7687a86e     1290165\n",
      "98572c79      996816\n",
      "16a36ef3      855686\n",
      "58a89a43      765891\n",
      "9d54950b      375891\n",
      "b12b9f85      373925\n",
      "17d996e6      353600\n",
      "968765cd      343703\n",
      "28f93029      315842\n",
      "bd6d812f      310760\n",
      "d262cf1e      289921\n",
      "0dde25ec      278322\n",
      "510bd839      269725\n",
      "5c9ae867      268735\n",
      "5b626596      265874\n",
      "a17bde68      259347\n",
      "c4342784      259289\n",
      "6b59f079      241035\n",
      "bb1ef334      233282\n",
      "7256c623      219219\n",
      "a434fa42      205311\n",
      "d733bbc3      168280\n",
      "3f2f3819      165486\n",
      "6b560cc1      148511\n",
      "c1aa3c04      128890\n",
      "27e3c518      128180\n",
      "e2a5dc06      117606\n",
      "              ...   \n",
      "ded6c2a7           1\n",
      "21ed0be3           1\n",
      "bb1c4ba8           1\n",
      "4904aa80           1\n",
      "fc82150f           1\n",
      "1ce108a6           1\n",
      "aa759525           1\n",
      "9bee0174           1\n",
      "9677418f           1\n",
      "f45fdacf           1\n",
      "bd8bb89a           1\n",
      "5f42c85a           1\n",
      "e0141a68           1\n",
      "ffa5c707           1\n",
      "40a3fb7a           1\n",
      "a44b74e4           1\n",
      "75c4cc61           1\n",
      "23093928           1\n",
      "94fbd426           1\n",
      "74ae551f           1\n",
      "024b07a6           1\n",
      "77ccd7d1           1\n",
      "3499616f           1\n",
      "8801a900           1\n",
      "abe3d31b           1\n",
      "eac4b09a           1\n",
      "ae093c71           1\n",
      "d0fbf5c6           1\n",
      "a405c1e0           1\n",
      "342faa69           1\n",
      "Name: site_domain, Length: 7745, dtype: int64\n"
     ]
    }
   ],
   "source": [
    "train_6.counts()"
   ]
  },
  {
   "cell_type": "code",
   "execution_count": 13,
   "metadata": {
    "collapsed": false
   },
   "outputs": [
    {
     "name": "stdout",
     "output_type": "stream",
     "text": [
      "共有7745个分类\n",
      "对出现次数最多的前12个分类进行可视化\n"
     ]
    },
    {
     "data": {
      "image/png": "[encoded data removed]",
      "text/plain": [
       "<Figure size 432x288 with 1 Axes>"
      ]
     },
     "metadata": {},
     "output_type": "display_data"
    }
   ],
   "source": [
    "train_6.hist()"
   ]
  },
  {
   "cell_type": "code",
   "execution_count": 14,
   "metadata": {
    "collapsed": false
   },
   "outputs": [
    {
     "data": {
      "text/plain": [
       "2520"
      ]
     },
     "execution_count": 14,
     "metadata": {},
     "output_type": "execute_result"
    }
   ],
   "source": [
    "del train_6\n",
    "gc.collect()"
   ]
  },
  {
   "cell_type": "code",
   "execution_count": 15,
   "metadata": {
    "collapsed": true
   },
   "outputs": [],
   "source": [
    "train_7 = Show(7)"
   ]
  },
  {
   "cell_type": "code",
   "execution_count": 16,
   "metadata": {
    "collapsed": false
   },
   "outputs": [
    {
     "name": "stdout",
     "output_type": "stream",
     "text": [
      "the NAN of site_category\n",
      "----------------------------------\n",
      "site_category    0\n",
      "dtype: int64\n"
     ]
    }
   ],
   "source": [
    "train_7.NAN()"
   ]
  },
  {
   "cell_type": "code",
   "execution_count": 17,
   "metadata": {
    "collapsed": false
   },
   "outputs": [
    {
     "name": "stdout",
     "output_type": "stream",
     "text": [
      "the describe of site_category\n",
      "----------------------------------\n",
      "<class 'pandas.core.frame.DataFrame'>\n",
      "RangeIndex: 40428967 entries, 0 to 40428966\n",
      "Data columns (total 1 columns):\n",
      "site_category    object\n",
      "dtypes: object(1)\n",
      "memory usage: 308.4+ MB\n",
      "None\n",
      "----------------------------------\n",
      "       site_category\n",
      "count       40428967\n",
      "unique            26\n",
      "top         50e219e0\n",
      "freq        16537234\n"
     ]
    }
   ],
   "source": [
    "train_7.describe()"
   ]
  },
  {
   "cell_type": "code",
   "execution_count": 18,
   "metadata": {
    "collapsed": false
   },
   "outputs": [
    {
     "name": "stdout",
     "output_type": "stream",
     "text": [
      "the counts of site_category\n",
      "----------------------------------\n",
      "50e219e0    16537234\n",
      "f028772b    12657073\n",
      "28905ebd     7377208\n",
      "3e814130     3050306\n",
      "f66779e6      252451\n",
      "75fa27f6      160985\n",
      "335d28a8      136463\n",
      "76b2941d      104754\n",
      "c0dd3be3       42090\n",
      "72722551       28216\n",
      "dedf689d       24500\n",
      "70fb0e29       24224\n",
      "0569f928       17106\n",
      "8fd0aea4        7482\n",
      "a818d37a        3230\n",
      "42a36e14        2515\n",
      "e787de0e        1209\n",
      "bcf865d9        1045\n",
      "5378d028         483\n",
      "9ccfa2ea         318\n",
      "c706e647          28\n",
      "da34532e          23\n",
      "74073276          14\n",
      "110ab22d           6\n",
      "a72a0145           2\n",
      "6432c423           2\n",
      "Name: site_category, dtype: int64\n"
     ]
    }
   ],
   "source": [
    "train_7.counts()"
   ]
  },
  {
   "cell_type": "code",
   "execution_count": 19,
   "metadata": {
    "collapsed": false
   },
   "outputs": [
    {
     "name": "stdout",
     "output_type": "stream",
     "text": [
      "共有26个分类\n",
      "对出现次数最多的前12个分类进行可视化\n"
     ]
    },
    {
     "data": {
      "image/png": "[encoded data removed]",
      "text/plain": [
       "<Figure size 432x288 with 1 Axes>"
      ]
     },
     "metadata": {},
     "output_type": "display_data"
    }
   ],
   "source": [
    "train_7.hist()"
   ]
  },
  {
   "cell_type": "code",
   "execution_count": 20,
   "metadata": {
    "collapsed": false
   },
   "outputs": [
    {
     "data": {
      "text/plain": [
       "2464"
      ]
     },
     "execution_count": 20,
     "metadata": {},
     "output_type": "execute_result"
    }
   ],
   "source": [
    "del train_7\n",
    "gc.collect()"
   ]
  },
  {
   "cell_type": "code",
   "execution_count": 21,
   "metadata": {
    "collapsed": true
   },
   "outputs": [],
   "source": [
    "train_8 = Show(8)"
   ]
  },
  {
   "cell_type": "code",
   "execution_count": 22,
   "metadata": {
    "collapsed": false
   },
   "outputs": [
    {
     "name": "stdout",
     "output_type": "stream",
     "text": [
      "the NAN of app_id\n",
      "----------------------------------\n",
      "app_id    0\n",
      "dtype: int64\n"
     ]
    }
   ],
   "source": [
    "train_8.NAN()"
   ]
  },
  {
   "cell_type": "code",
   "execution_count": 23,
   "metadata": {
    "collapsed": false
   },
   "outputs": [
    {
     "name": "stdout",
     "output_type": "stream",
     "text": [
      "the describe of app_id\n",
      "----------------------------------\n",
      "<class 'pandas.core.frame.DataFrame'>\n",
      "RangeIndex: 40428967 entries, 0 to 40428966\n",
      "Data columns (total 1 columns):\n",
      "app_id    object\n",
      "dtypes: object(1)\n",
      "memory usage: 308.4+ MB\n",
      "None\n",
      "----------------------------------\n",
      "          app_id\n",
      "count   40428967\n",
      "unique      8552\n",
      "top     ecad2386\n",
      "freq    25832830\n"
     ]
    }
   ],
   "source": [
    "train_8.describe()"
   ]
  },
  {
   "cell_type": "code",
   "execution_count": 24,
   "metadata": {
    "collapsed": false
   },
   "outputs": [
    {
     "name": "stdout",
     "output_type": "stream",
     "text": [
      "the counts of app_id\n",
      "----------------------------------\n",
      "ecad2386    25832830\n",
      "92f5800b     1555283\n",
      "e2fcccd2     1129016\n",
      "febd1138      759098\n",
      "9c13b419      757812\n",
      "7358e05e      615635\n",
      "a5184c22      491457\n",
      "d36838b1      457572\n",
      "685d1c4c      408515\n",
      "54c5d545      397693\n",
      "03528b27      322121\n",
      "f0d41ff1      294244\n",
      "e9739828      284750\n",
      "e2a1ca37      281215\n",
      "51cedd4e      239107\n",
      "66f5e02e      226077\n",
      "03a08c3f      218767\n",
      "98fed791      218766\n",
      "73206397      200058\n",
      "f53417e1      199043\n",
      "e96773f0      178745\n",
      "ce183bbd      148257\n",
      "be7c618d      119975\n",
      "1dc72b4d      105288\n",
      "f888bf4c      104413\n",
      "396df801       98066\n",
      "3c4b944d       89039\n",
      "39947756       86799\n",
      "cf0327f9       86477\n",
      "3f2a6cbb       83356\n",
      "              ...   \n",
      "f517be06           1\n",
      "6c9b6f24           1\n",
      "d376799f           1\n",
      "925f2473           1\n",
      "c0461ecd           1\n",
      "05085540           1\n",
      "92363e44           1\n",
      "10f03a50           1\n",
      "6c07af92           1\n",
      "8c6274b9           1\n",
      "435f52b9           1\n",
      "341a0744           1\n",
      "5d9f9c66           1\n",
      "6ccb5e93           1\n",
      "d16e4e99           1\n",
      "0a3c1fc8           1\n",
      "6120ee90           1\n",
      "4c79fce5           1\n",
      "41fa3047           1\n",
      "8f4f06d3           1\n",
      "79f28324           1\n",
      "ef1e1c41           1\n",
      "652b68a8           1\n",
      "a8656a09           1\n",
      "b42eb080           1\n",
      "fa0213f6           1\n",
      "25a975d3           1\n",
      "b4e8bbe9           1\n",
      "ff697c37           1\n",
      "2fd845de           1\n",
      "Name: app_id, Length: 8552, dtype: int64\n"
     ]
    }
   ],
   "source": [
    "train_8.counts()"
   ]
  },
  {
   "cell_type": "code",
   "execution_count": 25,
   "metadata": {
    "collapsed": false
   },
   "outputs": [
    {
     "name": "stdout",
     "output_type": "stream",
     "text": [
      "共有8552个分类\n",
      "对出现次数最多的前12个分类进行可视化\n"
     ]
    },
    {
     "data": {
      "image/png": "[encoded data removed]",
      "text/plain": [
       "<Figure size 432x288 with 1 Axes>"
      ]
     },
     "metadata": {},
     "output_type": "display_data"
    }
   ],
   "source": [
    "train_8.hist()"
   ]
  },
  {
   "cell_type": "code",
   "execution_count": 26,
   "metadata": {
    "collapsed": false
   },
   "outputs": [
    {
     "data": {
      "text/plain": [
       "2404"
      ]
     },
     "execution_count": 26,
     "metadata": {},
     "output_type": "execute_result"
    }
   ],
   "source": [
    "del train_8\n",
    "gc.collect()"
   ]
  },
  {
   "cell_type": "code",
   "execution_count": 27,
   "metadata": {
    "collapsed": true
   },
   "outputs": [],
   "source": [
    "train_9 = Show(9)"
   ]
  },
  {
   "cell_type": "code",
   "execution_count": 28,
   "metadata": {
    "collapsed": false
   },
   "outputs": [
    {
     "name": "stdout",
     "output_type": "stream",
     "text": [
      "the NAN of app_domain\n",
      "----------------------------------\n",
      "app_domain    0\n",
      "dtype: int64\n"
     ]
    }
   ],
   "source": [
    "train_9.NAN()"
   ]
  },
  {
   "cell_type": "code",
   "execution_count": 29,
   "metadata": {
    "collapsed": false
   },
   "outputs": [
    {
     "name": "stdout",
     "output_type": "stream",
     "text": [
      "the describe of app_domain\n",
      "----------------------------------\n",
      "<class 'pandas.core.frame.DataFrame'>\n",
      "RangeIndex: 40428967 entries, 0 to 40428966\n",
      "Data columns (total 1 columns):\n",
      "app_domain    object\n",
      "dtypes: object(1)\n",
      "memory usage: 308.4+ MB\n",
      "None\n",
      "----------------------------------\n",
      "       app_domain\n",
      "count    40428967\n",
      "unique        559\n",
      "top      7801e8d9\n",
      "freq     27237087\n"
     ]
    }
   ],
   "source": [
    "train_9.describe()"
   ]
  },
  {
   "cell_type": "code",
   "execution_count": 30,
   "metadata": {
    "collapsed": false
   },
   "outputs": [
    {
     "name": "stdout",
     "output_type": "stream",
     "text": [
      "the counts of app_domain\n",
      "----------------------------------\n",
      "7801e8d9    27237087\n",
      "2347f47a     5240885\n",
      "ae637522     1881838\n",
      "5c5a694b     1129228\n",
      "82e27996      759125\n",
      "d9b5648e      713924\n",
      "0e8616ad      660510\n",
      "b9528b13      646193\n",
      "b8d325c3      534000\n",
      "aefc06bd      298769\n",
      "df32afa9      291502\n",
      "33da2e74      259530\n",
      "6f7ca2ba      226100\n",
      "5b9c592b      104413\n",
      "885c7f3f       68310\n",
      "5c620f04       60268\n",
      "45a51db4       56138\n",
      "b5f3b24a       48199\n",
      "813f3323       25338\n",
      "0654b444       23298\n",
      "ad63ec9b       17624\n",
      "c6824def       14288\n",
      "15ec7f39       13031\n",
      "a8b0bf20       13009\n",
      "99b4c806       10041\n",
      "828da833        8268\n",
      "43cf4f06        7199\n",
      "448ca2e3        6877\n",
      "f2f777fb        6532\n",
      "47464e95        4761\n",
      "              ...   \n",
      "15fa2703           1\n",
      "9e4f24c2           1\n",
      "ced163d2           1\n",
      "8af3e517           1\n",
      "ee7d2e2b           1\n",
      "790dd3cc           1\n",
      "30f30cf0           1\n",
      "323165e8           1\n",
      "b6db2208           1\n",
      "938e40d3           1\n",
      "bdfa93d5           1\n",
      "ce031f02           1\n",
      "911c0d17           1\n",
      "8bba499a           1\n",
      "d083df39           1\n",
      "9c06a810           1\n",
      "38462a94           1\n",
      "0b793b58           1\n",
      "a696f7de           1\n",
      "7c17d732           1\n",
      "cf26d810           1\n",
      "61b00f7b           1\n",
      "b72bf947           1\n",
      "1acab003           1\n",
      "cf49a27a           1\n",
      "af524670           1\n",
      "946b7dcf           1\n",
      "48e6f39d           1\n",
      "116fd53f           1\n",
      "bd6843b4           1\n",
      "Name: app_domain, Length: 559, dtype: int64\n"
     ]
    }
   ],
   "source": [
    "train_9.counts()"
   ]
  },
  {
   "cell_type": "code",
   "execution_count": 31,
   "metadata": {
    "collapsed": false
   },
   "outputs": [
    {
     "name": "stdout",
     "output_type": "stream",
     "text": [
      "共有559个分类\n",
      "对出现次数最多的前12个分类进行可视化\n"
     ]
    },
    {
     "data": {
      "image/png": "[encoded data removed]",
      "text/plain": [
       "<Figure size 432x288 with 1 Axes>"
      ]
     },
     "metadata": {},
     "output_type": "display_data"
    }
   ],
   "source": [
    "train_9.hist()"
   ]
  },
  {
   "cell_type": "code",
   "execution_count": 32,
   "metadata": {
    "collapsed": false
   },
   "outputs": [
    {
     "data": {
      "text/plain": [
       "2401"
      ]
     },
     "execution_count": 32,
     "metadata": {},
     "output_type": "execute_result"
    }
   ],
   "source": [
    "del train_9\n",
    "gc.collect()"
   ]
  },
  {
   "cell_type": "code",
   "execution_count": 34,
   "metadata": {
    "collapsed": true
   },
   "outputs": [],
   "source": [
    "train_10 = Show(10)"
   ]
  },
  {
   "cell_type": "code",
   "execution_count": 35,
   "metadata": {
    "collapsed": false
   },
   "outputs": [
    {
     "name": "stdout",
     "output_type": "stream",
     "text": [
      "the NAN of app_category\n",
      "----------------------------------\n",
      "app_category    0\n",
      "dtype: int64\n"
     ]
    }
   ],
   "source": [
    "train_10.NAN()"
   ]
  },
  {
   "cell_type": "code",
   "execution_count": 36,
   "metadata": {
    "collapsed": false
   },
   "outputs": [
    {
     "name": "stdout",
     "output_type": "stream",
     "text": [
      "the describe of app_category\n",
      "----------------------------------\n",
      "<class 'pandas.core.frame.DataFrame'>\n",
      "RangeIndex: 40428967 entries, 0 to 40428966\n",
      "Data columns (total 1 columns):\n",
      "app_category    object\n",
      "dtypes: object(1)\n",
      "memory usage: 308.4+ MB\n",
      "None\n",
      "----------------------------------\n",
      "       app_category\n",
      "count      40428967\n",
      "unique           36\n",
      "top        07d7df22\n",
      "freq       26165592\n"
     ]
    }
   ],
   "source": [
    "train_10.describe()"
   ]
  },
  {
   "cell_type": "code",
   "execution_count": 37,
   "metadata": {
    "collapsed": false
   },
   "outputs": [
    {
     "name": "stdout",
     "output_type": "stream",
     "text": [
      "the counts of app_category\n",
      "----------------------------------\n",
      "07d7df22    26165592\n",
      "0f2161f8     9561058\n",
      "cef3e649     1731545\n",
      "8ded1f7a     1467257\n",
      "f95efa07     1141673\n",
      "d1327cf5      123233\n",
      "09481d60       54886\n",
      "dc97ec06       54644\n",
      "75d80bbe       40108\n",
      "fc6fa53d       23663\n",
      "4ce2e9fc       20762\n",
      "879c24eb       12785\n",
      "a3c42688       11121\n",
      "4681bb9d        6291\n",
      "0f9a328c        5584\n",
      "a86a3e89        2497\n",
      "2281a340        2243\n",
      "8df2e842        1679\n",
      "79f0b860         605\n",
      "0bfbc358         425\n",
      "a7fd01ec         362\n",
      "7113d72a         304\n",
      "2fc4f2aa         234\n",
      "18b1e0be         212\n",
      "5326cf99         133\n",
      "0d82db25          25\n",
      "4b7ade46          16\n",
      "bf8ac856           9\n",
      "bd41f328           6\n",
      "71af18ce           5\n",
      "86c1a5a3           3\n",
      "ef03ae90           2\n",
      "6fea3693           2\n",
      "52de74cf           1\n",
      "f395a87f           1\n",
      "cba0e20d           1\n",
      "Name: app_category, dtype: int64\n"
     ]
    }
   ],
   "source": [
    "train_10.counts()"
   ]
  },
  {
   "cell_type": "code",
   "execution_count": 38,
   "metadata": {
    "collapsed": false
   },
   "outputs": [
    {
     "name": "stdout",
     "output_type": "stream",
     "text": [
      "特征[app_category]共有36个分类\n",
      "对出现次数最多的前12个分类进行可视化\n"
     ]
    },
    {
     "data": {
      "image/png": "[encoded data removed]",
      "text/plain": [
       "<Figure size 432x288 with 1 Axes>"
      ]
     },
     "metadata": {},
     "output_type": "display_data"
    }
   ],
   "source": [
    "train_10.hist()"
   ]
  },
  {
   "cell_type": "code",
   "execution_count": 39,
   "metadata": {
    "collapsed": false
   },
   "outputs": [
    {
     "data": {
      "text/plain": [
       "2415"
      ]
     },
     "execution_count": 39,
     "metadata": {},
     "output_type": "execute_result"
    }
   ],
   "source": [
    "del train_10\n",
    "gc.collect()"
   ]
  },
  {
   "cell_type": "code",
   "execution_count": 40,
   "metadata": {
    "collapsed": true
   },
   "outputs": [],
   "source": [
    "train_11 = Show(11)"
   ]
  },
  {
   "cell_type": "code",
   "execution_count": 41,
   "metadata": {
    "collapsed": false
   },
   "outputs": [
    {
     "name": "stdout",
     "output_type": "stream",
     "text": [
      "the NAN of device_id\n",
      "----------------------------------\n",
      "device_id    0\n",
      "dtype: int64\n"
     ]
    }
   ],
   "source": [
    "train_11.NAN()"
   ]
  },
  {
   "cell_type": "code",
   "execution_count": 42,
   "metadata": {
    "collapsed": false
   },
   "outputs": [
    {
     "name": "stdout",
     "output_type": "stream",
     "text": [
      "the describe of device_id\n",
      "----------------------------------\n",
      "<class 'pandas.core.frame.DataFrame'>\n",
      "RangeIndex: 40428967 entries, 0 to 40428966\n",
      "Data columns (total 1 columns):\n",
      "device_id    object\n",
      "dtypes: object(1)\n",
      "memory usage: 308.4+ MB\n",
      "None\n",
      "----------------------------------\n",
      "       device_id\n",
      "count   40428967\n",
      "unique   2686408\n",
      "top     a99f214a\n",
      "freq    33358308\n"
     ]
    }
   ],
   "source": [
    "train_11.describe()"
   ]
  },
  {
   "cell_type": "code",
   "execution_count": 43,
   "metadata": {
    "collapsed": false
   },
   "outputs": [
    {
     "name": "stdout",
     "output_type": "stream",
     "text": [
      "the counts of device_id\n",
      "----------------------------------\n",
      "a99f214a    33358308\n",
      "0f7c61dc       21356\n",
      "c357dbff       19667\n",
      "936e92fb       13712\n",
      "afeffc18        9654\n",
      "987552d1        4187\n",
      "28dc8687        4101\n",
      "d857ffbb        4004\n",
      "cef4c8cc        3694\n",
      "b09da1c4        3655\n",
      "3cdb4052        3069\n",
      "03559b29        2528\n",
      "02da5312        2497\n",
      "d2e4c0ab        1466\n",
      "f1d9c744        1392\n",
      "abab24a7        1374\n",
      "096a6f32        1369\n",
      "9af87478        1355\n",
      "73b81e30        1182\n",
      "bbcf14e4        1182\n",
      "eec6d022        1150\n",
      "1de30ee7        1131\n",
      "c35f5168        1060\n",
      "e8343327         969\n",
      "0a04637d         938\n",
      "bea61865         929\n",
      "ea04480e         910\n",
      "4e9e9550         882\n",
      "2c112522         859\n",
      "4e05554e         835\n",
      "              ...   \n",
      "3e6588a0           1\n",
      "321423d2           1\n",
      "ed9f9214           1\n",
      "d006a1a6           1\n",
      "32df3011           1\n",
      "432f4ba6           1\n",
      "9c965bc7           1\n",
      "42df3d28           1\n",
      "02933b9b           1\n",
      "aa3cd1aa           1\n",
      "43798a00           1\n",
      "53694543           1\n",
      "1cf1c200           1\n",
      "f5c9bd42           1\n",
      "08420d53           1\n",
      "f2b288c7           1\n",
      "698602ee           1\n",
      "e8dfa400           1\n",
      "2c635a43           1\n",
      "f4de470b           1\n",
      "ae8ac527           1\n",
      "ee2b0095           1\n",
      "23f015f9           1\n",
      "fb242b6d           1\n",
      "63410102           1\n",
      "c39d44c2           1\n",
      "fcf73cfc           1\n",
      "045c7798           1\n",
      "f02f5501           1\n",
      "222851fd           1\n",
      "Name: device_id, Length: 2686408, dtype: int64\n"
     ]
    }
   ],
   "source": [
    "train_11.counts()"
   ]
  },
  {
   "cell_type": "code",
   "execution_count": 44,
   "metadata": {
    "collapsed": false
   },
   "outputs": [
    {
     "name": "stdout",
     "output_type": "stream",
     "text": [
      "特征[device_id]共有2686408个分类\n",
      "对出现次数最多的前12个分类进行可视化\n"
     ]
    },
    {
     "data": {
      "image/png": "[encoded data removed]",
      "text/plain": [
       "<Figure size 432x288 with 1 Axes>"
      ]
     },
     "metadata": {},
     "output_type": "display_data"
    }
   ],
   "source": [
    "train_11.hist()"
   ]
  },
  {
   "cell_type": "code",
   "execution_count": null,
   "metadata": {
    "collapsed": false
   },
   "outputs": [
    {
     "data": {
      "text/plain": [
       "2524"
      ]
     },
     "execution_count": 45,
     "metadata": {},
     "output_type": "execute_result"
    }
   ],
   "source": [
    "del train_11\n",
    "gc.collect()"
   ]
  },
  {
   "cell_type": "code",
   "execution_count": 3,
   "metadata": {
    "collapsed": true
   },
   "outputs": [],
   "source": [
    "train_12 = Show(12)"
   ]
  },
  {
   "cell_type": "code",
   "execution_count": 4,
   "metadata": {
    "collapsed": false
   },
   "outputs": [
    {
     "name": "stdout",
     "output_type": "stream",
     "text": [
      "the NAN of device_ip\n",
      "----------------------------------\n",
      "device_ip    0\n",
      "dtype: int64\n"
     ]
    }
   ],
   "source": [
    "train_12.NAN()"
   ]
  },
  {
   "cell_type": "code",
   "execution_count": 5,
   "metadata": {
    "collapsed": false
   },
   "outputs": [
    {
     "name": "stdout",
     "output_type": "stream",
     "text": [
      "the describe of device_ip\n",
      "----------------------------------\n",
      "<class 'pandas.core.frame.DataFrame'>\n",
      "RangeIndex: 40428967 entries, 0 to 40428966\n",
      "Data columns (total 1 columns):\n",
      "device_ip    object\n",
      "dtypes: object(1)\n",
      "memory usage: 308.4+ MB\n",
      "None\n",
      "----------------------------------\n",
      "       device_ip\n",
      "count   40428967\n",
      "unique   6729486\n",
      "top     6b9769f2\n",
      "freq      208701\n"
     ]
    }
   ],
   "source": [
    "train_12.describe()"
   ]
  },
  {
   "cell_type": "code",
   "execution_count": 6,
   "metadata": {
    "collapsed": false
   },
   "outputs": [
    {
     "name": "stdout",
     "output_type": "stream",
     "text": [
      "the counts of device_ip\n",
      "----------------------------------\n",
      "6b9769f2    208701\n",
      "431b3174    135322\n",
      "2f323f36     88499\n",
      "af9205f9     87844\n",
      "930ec31d     86996\n",
      "af62faf4     85802\n",
      "009a7861     85382\n",
      "285aa37d     85313\n",
      "6394f6f6     83184\n",
      "d90a7774     82980\n",
      "c6563308     71290\n",
      "57cd4006     70449\n",
      "75bb1b58     70262\n",
      "1cf29716     70028\n",
      "ddd2926e     69816\n",
      "0489ce3f     69756\n",
      "a8536f3a     69594\n",
      "488a9a3e     69550\n",
      "ceffea69     68731\n",
      "8a014cbb     68506\n",
      "9b1fe278     66353\n",
      "07875ea4     36906\n",
      "7ed30f6c     36449\n",
      "b0070d9a     36045\n",
      "693bff3e     34794\n",
      "ac77b71a     33810\n",
      "bca8f26d     33737\n",
      "95b2935e     29576\n",
      "e54c1344     29553\n",
      "ff1c4f79     29353\n",
      "             ...  \n",
      "b10f82ac         1\n",
      "3a549b49         1\n",
      "11c17f7d         1\n",
      "00bf4612         1\n",
      "216b031e         1\n",
      "219bb07c         1\n",
      "7906e219         1\n",
      "d2fea044         1\n",
      "1b13eca9         1\n",
      "1168e750         1\n",
      "b63408e2         1\n",
      "d64880a3         1\n",
      "d9c58ffd         1\n",
      "be873aa6         1\n",
      "3cb0706f         1\n",
      "239129ae         1\n",
      "df333496         1\n",
      "ea2e79ef         1\n",
      "82ef6deb         1\n",
      "57f6fdc1         1\n",
      "af3dd102         1\n",
      "3debe7de         1\n",
      "016e12da         1\n",
      "4a299ba3         1\n",
      "21d6d196         1\n",
      "6214fc3d         1\n",
      "f408a95b         1\n",
      "a3137b96         1\n",
      "40325a4f         1\n",
      "70575a79         1\n",
      "Name: device_ip, Length: 6729486, dtype: int64\n"
     ]
    }
   ],
   "source": [
    "train_12.counts()"
   ]
  },
  {
   "cell_type": "code",
   "execution_count": 7,
   "metadata": {
    "collapsed": false
   },
   "outputs": [
    {
     "name": "stdout",
     "output_type": "stream",
     "text": [
      "特征[device_ip]共有6729486个分类\n",
      "对出现次数最多的前12个分类进行可视化\n"
     ]
    },
    {
     "data": {
      "image/png": "[encoded data removed]",
      "text/plain": [
       "<Figure size 432x288 with 1 Axes>"
      ]
     },
     "metadata": {},
     "output_type": "display_data"
    }
   ],
   "source": [
    "train_12.hist()"
   ]
  },
  {
   "cell_type": "code",
   "execution_count": 8,
   "metadata": {
    "collapsed": false
   },
   "outputs": [
    {
     "data": {
      "text/plain": [
       "2466"
      ]
     },
     "execution_count": 8,
     "metadata": {},
     "output_type": "execute_result"
    }
   ],
   "source": [
    "del train_12\n",
    "gc.collect()"
   ]
  },
  {
   "cell_type": "code",
   "execution_count": 9,
   "metadata": {
    "collapsed": true
   },
   "outputs": [],
   "source": [
    "train_13 = Show(13)"
   ]
  },
  {
   "cell_type": "code",
   "execution_count": 10,
   "metadata": {
    "collapsed": false
   },
   "outputs": [
    {
     "name": "stdout",
     "output_type": "stream",
     "text": [
      "the NAN of device_model\n",
      "----------------------------------\n",
      "device_model    0\n",
      "dtype: int64\n"
     ]
    }
   ],
   "source": [
    "train_13.NAN()"
   ]
  },
  {
   "cell_type": "code",
   "execution_count": 11,
   "metadata": {
    "collapsed": false
   },
   "outputs": [
    {
     "name": "stdout",
     "output_type": "stream",
     "text": [
      "the describe of device_model\n",
      "----------------------------------\n",
      "<class 'pandas.core.frame.DataFrame'>\n",
      "RangeIndex: 40428967 entries, 0 to 40428966\n",
      "Data columns (total 1 columns):\n",
      "device_model    object\n",
      "dtypes: object(1)\n",
      "memory usage: 308.4+ MB\n",
      "None\n",
      "----------------------------------\n",
      "       device_model\n",
      "count      40428967\n",
      "unique         8251\n",
      "top        8a4875bd\n",
      "freq        2455470\n"
     ]
    }
   ],
   "source": [
    "train_13.describe()"
   ]
  },
  {
   "cell_type": "code",
   "execution_count": 12,
   "metadata": {
    "collapsed": false
   },
   "outputs": [
    {
     "name": "stdout",
     "output_type": "stream",
     "text": [
      "the counts of device_model\n",
      "----------------------------------\n",
      "8a4875bd    2455470\n",
      "1f0bc64f    1424546\n",
      "d787e91b    1405169\n",
      "76dc4769     767961\n",
      "be6db1d7     742913\n",
      "a0f5f879     652751\n",
      "4ea23a13     645153\n",
      "7abbbd5c     636673\n",
      "ecb851b2     613048\n",
      "d4897fef     483582\n",
      "5096d134     475264\n",
      "711ee120     447450\n",
      "1ccc7835     426161\n",
      "e1eae715     421122\n",
      "c6263d8a     397746\n",
      "84ebbcd4     388015\n",
      "be74e6fe     379729\n",
      "981edffc     361456\n",
      "3bd9e8e7     359934\n",
      "f07e20f8     359464\n",
      "3bb1ddd7     357957\n",
      "0eb711ec     357223\n",
      "0bcabeaf     354422\n",
      "779d90c2     344574\n",
      "36b67a2a     343402\n",
      "fce66524     343261\n",
      "5db079b5     315606\n",
      "aad45b01     303474\n",
      "158e4944     287296\n",
      "a5bce124     279510\n",
      "             ...   \n",
      "d6ab86d8          1\n",
      "41d044a1          1\n",
      "c4609973          1\n",
      "3cf9c0fe          1\n",
      "417e7adf          1\n",
      "9deb158a          1\n",
      "5f1802c3          1\n",
      "496f3bd2          1\n",
      "0344ed75          1\n",
      "c405eea3          1\n",
      "eb7d45a5          1\n",
      "da0fb8c9          1\n",
      "713cf600          1\n",
      "50fe79d1          1\n",
      "91fd757d          1\n",
      "6f44581e          1\n",
      "8dd0c907          1\n",
      "2bee6957          1\n",
      "6e93a6a9          1\n",
      "6008ccac          1\n",
      "8fa437d0          1\n",
      "abff2617          1\n",
      "cc3eafd8          1\n",
      "63a31b26          1\n",
      "d31fd6d7          1\n",
      "a807b09a          1\n",
      "80951149          1\n",
      "dedaf770          1\n",
      "41306320          1\n",
      "9d50b116          1\n",
      "Name: device_model, Length: 8251, dtype: int64\n"
     ]
    }
   ],
   "source": [
    "train_13.counts()"
   ]
  },
  {
   "cell_type": "code",
   "execution_count": 13,
   "metadata": {
    "collapsed": false
   },
   "outputs": [
    {
     "name": "stdout",
     "output_type": "stream",
     "text": [
      "特征[device_model]共有8251个分类\n",
      "对出现次数最多的前12个分类进行可视化\n"
     ]
    },
    {
     "data": {
      "image/png": "[encoded data removed]",
      "text/plain": [
       "<Figure size 432x288 with 1 Axes>"
      ]
     },
     "metadata": {},
     "output_type": "display_data"
    }
   ],
   "source": [
    "train_13.hist()"
   ]
  },
  {
   "cell_type": "code",
   "execution_count": 14,
   "metadata": {
    "collapsed": false
   },
   "outputs": [
    {
     "data": {
      "text/plain": [
       "2579"
      ]
     },
     "execution_count": 14,
     "metadata": {},
     "output_type": "execute_result"
    }
   ],
   "source": [
    "del train_13\n",
    "gc.collect()"
   ]
  },
  {
   "cell_type": "code",
   "execution_count": 15,
   "metadata": {
    "collapsed": true
   },
   "outputs": [],
   "source": [
    "train_14 = Show(14)"
   ]
  },
  {
   "cell_type": "code",
   "execution_count": 16,
   "metadata": {
    "collapsed": false
   },
   "outputs": [
    {
     "name": "stdout",
     "output_type": "stream",
     "text": [
      "the NAN of device_type\n",
      "----------------------------------\n",
      "device_type    0\n",
      "dtype: int64\n"
     ]
    }
   ],
   "source": [
    "train_14.NAN()"
   ]
  },
  {
   "cell_type": "code",
   "execution_count": 17,
   "metadata": {
    "collapsed": false
   },
   "outputs": [
    {
     "name": "stdout",
     "output_type": "stream",
     "text": [
      "the describe of device_type\n",
      "----------------------------------\n",
      "<class 'pandas.core.frame.DataFrame'>\n",
      "RangeIndex: 40428967 entries, 0 to 40428966\n",
      "Data columns (total 1 columns):\n",
      "device_type    int64\n",
      "dtypes: int64(1)\n",
      "memory usage: 308.4 MB\n",
      "None\n",
      "----------------------------------\n",
      "        device_type\n",
      "count  4.042897e+07\n",
      "mean   1.015305e+00\n",
      "std    5.274336e-01\n",
      "min    0.000000e+00\n",
      "25%    1.000000e+00\n",
      "50%    1.000000e+00\n",
      "75%    1.000000e+00\n",
      "max    5.000000e+00\n"
     ]
    }
   ],
   "source": [
    "train_14.describe()"
   ]
  },
  {
   "cell_type": "code",
   "execution_count": 18,
   "metadata": {
    "collapsed": false
   },
   "outputs": [
    {
     "name": "stdout",
     "output_type": "stream",
     "text": [
      "the counts of device_type\n",
      "----------------------------------\n",
      "1    37304667\n",
      "0     2220812\n",
      "4      774272\n",
      "5      129185\n",
      "2          31\n",
      "Name: device_type, dtype: int64\n"
     ]
    }
   ],
   "source": [
    "train_14.counts()"
   ]
  },
  {
   "cell_type": "code",
   "execution_count": 19,
   "metadata": {
    "collapsed": false
   },
   "outputs": [
    {
     "name": "stdout",
     "output_type": "stream",
     "text": [
      "特征[device_type]共有5个分类\n"
     ]
    },
    {
     "data": {
      "image/png": "[encoded data removed]",
      "text/plain": [
       "<Figure size 432x288 with 1 Axes>"
      ]
     },
     "metadata": {},
     "output_type": "display_data"
    }
   ],
   "source": [
    "train_14.hist()"
   ]
  },
  {
   "cell_type": "code",
   "execution_count": 20,
   "metadata": {
    "collapsed": false
   },
   "outputs": [
    {
     "data": {
      "text/plain": [
       "2427"
      ]
     },
     "execution_count": 20,
     "metadata": {},
     "output_type": "execute_result"
    }
   ],
   "source": [
    "del train_14\n",
    "gc.collect()"
   ]
  },
  {
   "cell_type": "code",
   "execution_count": 21,
   "metadata": {
    "collapsed": true
   },
   "outputs": [],
   "source": [
    "train_15 = Show(15)"
   ]
  },
  {
   "cell_type": "code",
   "execution_count": 22,
   "metadata": {
    "collapsed": false
   },
   "outputs": [
    {
     "name": "stdout",
     "output_type": "stream",
     "text": [
      "the NAN of device_conn_type\n",
      "----------------------------------\n",
      "device_conn_type    0\n",
      "dtype: int64\n"
     ]
    }
   ],
   "source": [
    "train_15.NAN()"
   ]
  },
  {
   "cell_type": "code",
   "execution_count": 23,
   "metadata": {
    "collapsed": false
   },
   "outputs": [
    {
     "name": "stdout",
     "output_type": "stream",
     "text": [
      "the describe of device_conn_type\n",
      "----------------------------------\n",
      "<class 'pandas.core.frame.DataFrame'>\n",
      "RangeIndex: 40428967 entries, 0 to 40428966\n",
      "Data columns (total 1 columns):\n",
      "device_conn_type    int64\n",
      "dtypes: int64(1)\n",
      "memory usage: 308.4 MB\n",
      "None\n",
      "----------------------------------\n",
      "       device_conn_type\n",
      "count      4.042897e+07\n",
      "mean       3.313150e-01\n",
      "std        8.547935e-01\n",
      "min        0.000000e+00\n",
      "25%        0.000000e+00\n",
      "50%        0.000000e+00\n",
      "75%        0.000000e+00\n",
      "max        5.000000e+00\n"
     ]
    }
   ],
   "source": [
    "train_15.describe()"
   ]
  },
  {
   "cell_type": "code",
   "execution_count": 24,
   "metadata": {
    "collapsed": false
   },
   "outputs": [
    {
     "name": "stdout",
     "output_type": "stream",
     "text": [
      "the counts of device_conn_type\n",
      "----------------------------------\n",
      "0    34886838\n",
      "2     3317443\n",
      "3     2181796\n",
      "5       42890\n",
      "Name: device_conn_type, dtype: int64\n"
     ]
    }
   ],
   "source": [
    "train_15.counts()"
   ]
  },
  {
   "cell_type": "code",
   "execution_count": 25,
   "metadata": {
    "collapsed": false
   },
   "outputs": [
    {
     "name": "stdout",
     "output_type": "stream",
     "text": [
      "特征[device_conn_type]共有4个分类\n"
     ]
    },
    {
     "data": {
      "image/png": "[encoded data removed]",
      "text/plain": [
       "<Figure size 432x288 with 1 Axes>"
      ]
     },
     "metadata": {},
     "output_type": "display_data"
    }
   ],
   "source": [
    "train_15.hist()"
   ]
  },
  {
   "cell_type": "code",
   "execution_count": 26,
   "metadata": {
    "collapsed": false
   },
   "outputs": [
    {
     "data": {
      "text/plain": [
       "2362"
      ]
     },
     "execution_count": 26,
     "metadata": {},
     "output_type": "execute_result"
    }
   ],
   "source": [
    "del train_15\n",
    "gc.collect()"
   ]
  },
  {
   "cell_type": "code",
   "execution_count": 27,
   "metadata": {
    "collapsed": true
   },
   "outputs": [],
   "source": [
    "train_16 = Show(16)"
   ]
  },
  {
   "cell_type": "code",
   "execution_count": 28,
   "metadata": {
    "collapsed": false
   },
   "outputs": [
    {
     "name": "stdout",
     "output_type": "stream",
     "text": [
      "the NAN of C14\n",
      "----------------------------------\n",
      "C14    0\n",
      "dtype: int64\n"
     ]
    }
   ],
   "source": [
    "train_16.NAN()"
   ]
  },
  {
   "cell_type": "code",
   "execution_count": 29,
   "metadata": {
    "collapsed": false
   },
   "outputs": [
    {
     "name": "stdout",
     "output_type": "stream",
     "text": [
      "the describe of C14\n",
      "----------------------------------\n",
      "<class 'pandas.core.frame.DataFrame'>\n",
      "RangeIndex: 40428967 entries, 0 to 40428966\n",
      "Data columns (total 1 columns):\n",
      "C14    int64\n",
      "dtypes: int64(1)\n",
      "memory usage: 308.4 MB\n",
      "None\n",
      "----------------------------------\n",
      "                C14\n",
      "count  4.042897e+07\n",
      "mean   1.884181e+04\n",
      "std    4.959457e+03\n",
      "min    3.750000e+02\n",
      "25%    1.692000e+04\n",
      "50%    2.034600e+04\n",
      "75%    2.189400e+04\n",
      "max    2.405200e+04\n"
     ]
    }
   ],
   "source": [
    "train_16.describe()"
   ]
  },
  {
   "cell_type": "code",
   "execution_count": 30,
   "metadata": {
    "collapsed": false
   },
   "outputs": [
    {
     "name": "stdout",
     "output_type": "stream",
     "text": [
      "the counts of C14\n",
      "----------------------------------\n",
      "4687     948215\n",
      "21611    907004\n",
      "21189    765968\n",
      "21191    765092\n",
      "19771    730238\n",
      "19772    729305\n",
      "16208    657764\n",
      "20108    587773\n",
      "8330     554444\n",
      "19950    529145\n",
      "15705    510276\n",
      "15701    506797\n",
      "15699    504923\n",
      "15703    503358\n",
      "15704    503315\n",
      "15707    502374\n",
      "15708    502189\n",
      "15702    485719\n",
      "15706    477688\n",
      "16615    438490\n",
      "23804    406539\n",
      "21767    376105\n",
      "21768    373692\n",
      "17239    340800\n",
      "22676    340407\n",
      "19251    339308\n",
      "17654    303748\n",
      "17653    301220\n",
      "6563     294504\n",
      "21790    280425\n",
      "          ...  \n",
      "22076         1\n",
      "21802         1\n",
      "22976         1\n",
      "22080         1\n",
      "22978         1\n",
      "22237         1\n",
      "22345         1\n",
      "22528         1\n",
      "22567         1\n",
      "21800         1\n",
      "21785         1\n",
      "23573         1\n",
      "20473         1\n",
      "18156         1\n",
      "23554         1\n",
      "7646          1\n",
      "7648          1\n",
      "7655          1\n",
      "7656          1\n",
      "23518         1\n",
      "23425         1\n",
      "21784         1\n",
      "23360         1\n",
      "21304         1\n",
      "21305         1\n",
      "23353         1\n",
      "23339         1\n",
      "21299         1\n",
      "23260         1\n",
      "21298         1\n",
      "Name: C14, Length: 2626, dtype: int64\n"
     ]
    }
   ],
   "source": [
    "train_16.counts()"
   ]
  },
  {
   "cell_type": "code",
   "execution_count": 31,
   "metadata": {
    "collapsed": false
   },
   "outputs": [
    {
     "name": "stdout",
     "output_type": "stream",
     "text": [
      "特征[C14]共有2626个分类\n",
      "对出现次数最多的前12个分类进行可视化\n"
     ]
    },
    {
     "data": {
      "image/png": "[encoded data removed]",
      "text/plain": [
       "<Figure size 432x288 with 1 Axes>"
      ]
     },
     "metadata": {},
     "output_type": "display_data"
    }
   ],
   "source": [
    "train_16.hist()"
   ]
  },
  {
   "cell_type": "code",
   "execution_count": 32,
   "metadata": {
    "collapsed": false
   },
   "outputs": [
    {
     "data": {
      "text/plain": [
       "2767"
      ]
     },
     "execution_count": 32,
     "metadata": {},
     "output_type": "execute_result"
    }
   ],
   "source": [
    "del train_16\n",
    "gc.collect()"
   ]
  },
  {
   "cell_type": "code",
   "execution_count": 33,
   "metadata": {
    "collapsed": true
   },
   "outputs": [],
   "source": [
    "train_17 = Show(17)"
   ]
  },
  {
   "cell_type": "code",
   "execution_count": 34,
   "metadata": {
    "collapsed": false
   },
   "outputs": [
    {
     "name": "stdout",
     "output_type": "stream",
     "text": [
      "the NAN of C15\n",
      "----------------------------------\n",
      "C15    0\n",
      "dtype: int64\n"
     ]
    }
   ],
   "source": [
    "train_17.NAN()"
   ]
  },
  {
   "cell_type": "code",
   "execution_count": 35,
   "metadata": {
    "collapsed": false
   },
   "outputs": [
    {
     "name": "stdout",
     "output_type": "stream",
     "text": [
      "the describe of C15\n",
      "----------------------------------\n",
      "<class 'pandas.core.frame.DataFrame'>\n",
      "RangeIndex: 40428967 entries, 0 to 40428966\n",
      "Data columns (total 1 columns):\n",
      "C15    int64\n",
      "dtypes: int64(1)\n",
      "memory usage: 308.4 MB\n",
      "None\n",
      "----------------------------------\n",
      "                C15\n",
      "count  4.042897e+07\n",
      "mean   3.188831e+02\n",
      "std    2.127250e+01\n",
      "min    1.200000e+02\n",
      "25%    3.200000e+02\n",
      "50%    3.200000e+02\n",
      "75%    3.200000e+02\n",
      "max    1.024000e+03\n"
     ]
    }
   ],
   "source": [
    "train_17.describe()"
   ]
  },
  {
   "cell_type": "code",
   "execution_count": 36,
   "metadata": {
    "collapsed": false
   },
   "outputs": [
    {
     "name": "stdout",
     "output_type": "stream",
     "text": [
      "the counts of C15\n",
      "----------------------------------\n",
      "320     37708959\n",
      "300      2337294\n",
      "216       298794\n",
      "728        74533\n",
      "120         3069\n",
      "1024        2560\n",
      "480         2137\n",
      "768         1621\n",
      "Name: C15, dtype: int64\n"
     ]
    }
   ],
   "source": [
    "train_17.counts()"
   ]
  },
  {
   "cell_type": "code",
   "execution_count": 37,
   "metadata": {
    "collapsed": false
   },
   "outputs": [
    {
     "name": "stdout",
     "output_type": "stream",
     "text": [
      "特征[C15]共有8个分类\n"
     ]
    },
    {
     "data": {
      "image/png": "[encoded data removed]",
      "text/plain": [
       "<Figure size 432x288 with 1 Axes>"
      ]
     },
     "metadata": {},
     "output_type": "display_data"
    }
   ],
   "source": [
    "train_17.hist()"
   ]
  },
  {
   "cell_type": "code",
   "execution_count": 38,
   "metadata": {
    "collapsed": false
   },
   "outputs": [
    {
     "data": {
      "text/plain": [
       "2596"
      ]
     },
     "execution_count": 38,
     "metadata": {},
     "output_type": "execute_result"
    }
   ],
   "source": [
    "del train_17\n",
    "gc.collect()"
   ]
  },
  {
   "cell_type": "code",
   "execution_count": 39,
   "metadata": {
    "collapsed": true
   },
   "outputs": [],
   "source": [
    "train_18 = Show(18)"
   ]
  },
  {
   "cell_type": "code",
   "execution_count": 40,
   "metadata": {
    "collapsed": false
   },
   "outputs": [
    {
     "name": "stdout",
     "output_type": "stream",
     "text": [
      "the NAN of C16\n",
      "----------------------------------\n",
      "C16    0\n",
      "dtype: int64\n"
     ]
    }
   ],
   "source": [
    "train_18.NAN()"
   ]
  },
  {
   "cell_type": "code",
   "execution_count": 41,
   "metadata": {
    "collapsed": false
   },
   "outputs": [
    {
     "name": "stdout",
     "output_type": "stream",
     "text": [
      "the describe of C16\n",
      "----------------------------------\n",
      "<class 'pandas.core.frame.DataFrame'>\n",
      "RangeIndex: 40428967 entries, 0 to 40428966\n",
      "Data columns (total 1 columns):\n",
      "C16    int64\n",
      "dtypes: int64(1)\n",
      "memory usage: 308.4 MB\n",
      "None\n",
      "----------------------------------\n",
      "                C16\n",
      "count  4.042897e+07\n",
      "mean   6.010201e+01\n",
      "std    4.729538e+01\n",
      "min    2.000000e+01\n",
      "25%    5.000000e+01\n",
      "50%    5.000000e+01\n",
      "75%    5.000000e+01\n",
      "max    1.024000e+03\n"
     ]
    }
   ],
   "source": [
    "train_18.describe()"
   ]
  },
  {
   "cell_type": "code",
   "execution_count": 42,
   "metadata": {
    "collapsed": false
   },
   "outputs": [
    {
     "name": "stdout",
     "output_type": "stream",
     "text": [
      "the counts of C16\n",
      "----------------------------------\n",
      "50      38136554\n",
      "250      1806334\n",
      "36        298794\n",
      "480       103365\n",
      "90         74533\n",
      "20          3069\n",
      "768         2560\n",
      "320         2137\n",
      "1024        1621\n",
      "Name: C16, dtype: int64\n"
     ]
    }
   ],
   "source": [
    "train_18.counts()"
   ]
  },
  {
   "cell_type": "code",
   "execution_count": 43,
   "metadata": {
    "collapsed": false
   },
   "outputs": [
    {
     "name": "stdout",
     "output_type": "stream",
     "text": [
      "特征[C16]共有9个分类\n"
     ]
    },
    {
     "data": {
      "image/png": "[encoded data removed]",
      "text/plain": [
       "<Figure size 432x288 with 1 Axes>"
      ]
     },
     "metadata": {},
     "output_type": "display_data"
    }
   ],
   "source": [
    "train_18.hist()"
   ]
  },
  {
   "cell_type": "code",
   "execution_count": 44,
   "metadata": {
    "collapsed": false
   },
   "outputs": [
    {
     "data": {
      "text/plain": [
       "2704"
      ]
     },
     "execution_count": 44,
     "metadata": {},
     "output_type": "execute_result"
    }
   ],
   "source": [
    "del train_18\n",
    "gc.collect()"
   ]
  },
  {
   "cell_type": "code",
   "execution_count": 45,
   "metadata": {
    "collapsed": true
   },
   "outputs": [],
   "source": [
    "train_19 = Show(19)"
   ]
  },
  {
   "cell_type": "code",
   "execution_count": 46,
   "metadata": {
    "collapsed": false
   },
   "outputs": [
    {
     "name": "stdout",
     "output_type": "stream",
     "text": [
      "the NAN of C17\n",
      "----------------------------------\n",
      "C17    0\n",
      "dtype: int64\n"
     ]
    }
   ],
   "source": [
    "train_19.NAN()"
   ]
  },
  {
   "cell_type": "code",
   "execution_count": 47,
   "metadata": {
    "collapsed": false
   },
   "outputs": [
    {
     "name": "stdout",
     "output_type": "stream",
     "text": [
      "the describe of C17\n",
      "----------------------------------\n",
      "<class 'pandas.core.frame.DataFrame'>\n",
      "RangeIndex: 40428967 entries, 0 to 40428966\n",
      "Data columns (total 1 columns):\n",
      "C17    int64\n",
      "dtypes: int64(1)\n",
      "memory usage: 308.4 MB\n",
      "None\n",
      "----------------------------------\n",
      "                C17\n",
      "count  4.042897e+07\n",
      "mean   2.112601e+03\n",
      "std    6.094124e+02\n",
      "min    1.120000e+02\n",
      "25%    1.863000e+03\n",
      "50%    2.323000e+03\n",
      "75%    2.526000e+03\n",
      "max    2.758000e+03\n"
     ]
    }
   ],
   "source": [
    "train_19.describe()"
   ]
  },
  {
   "cell_type": "code",
   "execution_count": 48,
   "metadata": {
    "collapsed": false
   },
   "outputs": [
    {
     "name": "stdout",
     "output_type": "stream",
     "text": [
      "the counts of C17\n",
      "----------------------------------\n",
      "1722    4513492\n",
      "2424    1531071\n",
      "2227    1473105\n",
      "1800    1190161\n",
      "423      948215\n",
      "2480     918663\n",
      "2502     855087\n",
      "2528     824907\n",
      "2506     803166\n",
      "2374     756358\n",
      "2545     713546\n",
      "1872     695237\n",
      "1994     604968\n",
      "2299     587773\n",
      "2526     586936\n",
      "1863     567425\n",
      "761      558460\n",
      "2333     512860\n",
      "1993     495667\n",
      "2665     485332\n",
      "2676     475926\n",
      "1873     470663\n",
      "2507     447398\n",
      "2726     406539\n",
      "2647     363865\n",
      "2566     361010\n",
      "2667     356378\n",
      "1973     340800\n",
      "2616     340407\n",
      "2201     339308\n",
      "         ...   \n",
      "2598        167\n",
      "872         145\n",
      "2459        136\n",
      "2651        132\n",
      "2568        132\n",
      "1515        120\n",
      "2084        104\n",
      "2719         94\n",
      "2375         80\n",
      "2511         74\n",
      "2737         66\n",
      "2465         65\n",
      "2722         63\n",
      "2758         50\n",
      "2541         41\n",
      "644          26\n",
      "2346         23\n",
      "2521         15\n",
      "2585         13\n",
      "2448         12\n",
      "2447          8\n",
      "2575          8\n",
      "2718          7\n",
      "2744          5\n",
      "2567          5\n",
      "2746          4\n",
      "1253          3\n",
      "2704          1\n",
      "2752          1\n",
      "1516          1\n",
      "Name: C17, Length: 435, dtype: int64\n"
     ]
    }
   ],
   "source": [
    "train_19.counts()"
   ]
  },
  {
   "cell_type": "code",
   "execution_count": 49,
   "metadata": {
    "collapsed": false
   },
   "outputs": [
    {
     "name": "stdout",
     "output_type": "stream",
     "text": [
      "特征[C17]共有435个分类\n",
      "对出现次数最多的前12个分类进行可视化\n"
     ]
    },
    {
     "data": {
      "image/png": "[encoded data removed]",
      "text/plain": [
       "<Figure size 432x288 with 1 Axes>"
      ]
     },
     "metadata": {},
     "output_type": "display_data"
    }
   ],
   "source": [
    "train_19.hist()"
   ]
  },
  {
   "cell_type": "code",
   "execution_count": 50,
   "metadata": {
    "collapsed": false
   },
   "outputs": [
    {
     "data": {
      "text/plain": [
       "2696"
      ]
     },
     "execution_count": 50,
     "metadata": {},
     "output_type": "execute_result"
    }
   ],
   "source": [
    "del train_19\n",
    "gc.collect()"
   ]
  },
  {
   "cell_type": "code",
   "execution_count": 51,
   "metadata": {
    "collapsed": true
   },
   "outputs": [],
   "source": [
    "train_20 = Show(20)"
   ]
  },
  {
   "cell_type": "code",
   "execution_count": 52,
   "metadata": {
    "collapsed": false
   },
   "outputs": [
    {
     "name": "stdout",
     "output_type": "stream",
     "text": [
      "the NAN of C18\n",
      "----------------------------------\n",
      "C18    0\n",
      "dtype: int64\n"
     ]
    }
   ],
   "source": [
    "train_20.NAN()"
   ]
  },
  {
   "cell_type": "code",
   "execution_count": 53,
   "metadata": {
    "collapsed": false
   },
   "outputs": [
    {
     "name": "stdout",
     "output_type": "stream",
     "text": [
      "the describe of C18\n",
      "----------------------------------\n",
      "<class 'pandas.core.frame.DataFrame'>\n",
      "RangeIndex: 40428967 entries, 0 to 40428966\n",
      "Data columns (total 1 columns):\n",
      "C18    int64\n",
      "dtypes: int64(1)\n",
      "memory usage: 308.4 MB\n",
      "None\n",
      "----------------------------------\n",
      "                C18\n",
      "count  4.042897e+07\n",
      "mean   1.432499e+00\n",
      "std    1.326227e+00\n",
      "min    0.000000e+00\n",
      "25%    0.000000e+00\n",
      "50%    2.000000e+00\n",
      "75%    3.000000e+00\n",
      "max    3.000000e+00\n"
     ]
    }
   ],
   "source": [
    "train_20.describe()"
   ]
  },
  {
   "cell_type": "code",
   "execution_count": 54,
   "metadata": {
    "collapsed": false
   },
   "outputs": [
    {
     "name": "stdout",
     "output_type": "stream",
     "text": [
      "the counts of C18\n",
      "----------------------------------\n",
      "0    16939044\n",
      "3    13654242\n",
      "2     7116058\n",
      "1     2719623\n",
      "Name: C18, dtype: int64\n"
     ]
    }
   ],
   "source": [
    "train_20.counts()"
   ]
  },
  {
   "cell_type": "code",
   "execution_count": 55,
   "metadata": {
    "collapsed": false
   },
   "outputs": [
    {
     "name": "stdout",
     "output_type": "stream",
     "text": [
      "特征[C18]共有4个分类\n"
     ]
    },
    {
     "data": {
      "image/png": "[encoded data removed]",
      "text/plain": [
       "<Figure size 432x288 with 1 Axes>"
      ]
     },
     "metadata": {},
     "output_type": "display_data"
    }
   ],
   "source": [
    "train_20.hist()"
   ]
  },
  {
   "cell_type": "code",
   "execution_count": 56,
   "metadata": {
    "collapsed": false
   },
   "outputs": [
    {
     "data": {
      "text/plain": [
       "2492"
      ]
     },
     "execution_count": 56,
     "metadata": {},
     "output_type": "execute_result"
    }
   ],
   "source": [
    "del train_20\n",
    "gc.collect()"
   ]
  },
  {
   "cell_type": "code",
   "execution_count": 57,
   "metadata": {
    "collapsed": true
   },
   "outputs": [],
   "source": [
    "train_21 = Show(21)"
   ]
  },
  {
   "cell_type": "code",
   "execution_count": 58,
   "metadata": {
    "collapsed": false
   },
   "outputs": [
    {
     "name": "stdout",
     "output_type": "stream",
     "text": [
      "the NAN of C19\n",
      "----------------------------------\n",
      "C19    0\n",
      "dtype: int64\n"
     ]
    }
   ],
   "source": [
    "train_21.NAN()"
   ]
  },
  {
   "cell_type": "code",
   "execution_count": 59,
   "metadata": {
    "collapsed": false
   },
   "outputs": [
    {
     "name": "stdout",
     "output_type": "stream",
     "text": [
      "the describe of C19\n",
      "----------------------------------\n",
      "<class 'pandas.core.frame.DataFrame'>\n",
      "RangeIndex: 40428967 entries, 0 to 40428966\n",
      "Data columns (total 1 columns):\n",
      "C19    int64\n",
      "dtypes: int64(1)\n",
      "memory usage: 308.4 MB\n",
      "None\n",
      "----------------------------------\n",
      "                C19\n",
      "count  4.042897e+07\n",
      "mean   2.271444e+02\n",
      "std    3.510221e+02\n",
      "min    3.300000e+01\n",
      "25%    3.500000e+01\n",
      "50%    3.900000e+01\n",
      "75%    1.710000e+02\n",
      "max    1.959000e+03\n"
     ]
    }
   ],
   "source": [
    "train_21.describe()"
   ]
  },
  {
   "cell_type": "code",
   "execution_count": 60,
   "metadata": {
    "collapsed": false
   },
   "outputs": [
    {
     "name": "stdout",
     "output_type": "stream",
     "text": [
      "the counts of C19\n",
      "----------------------------------\n",
      "35      12170630\n",
      "39       8829426\n",
      "167      3145695\n",
      "161      1587765\n",
      "47       1451708\n",
      "1327     1092601\n",
      "297      1014859\n",
      "163       926864\n",
      "175       811516\n",
      "679       737468\n",
      "935       704359\n",
      "687       555698\n",
      "1063      522944\n",
      "41        513229\n",
      "33        478227\n",
      "431       430005\n",
      "803       406539\n",
      "1319      394524\n",
      "303       328180\n",
      "419       325027\n",
      "171       306934\n",
      "169       291959\n",
      "299       291844\n",
      "427       270146\n",
      "34        263275\n",
      "291       259205\n",
      "547       247633\n",
      "43        212757\n",
      "815       208331\n",
      "38        182787\n",
      "          ...   \n",
      "559        85122\n",
      "813        60918\n",
      "551        52348\n",
      "681        48395\n",
      "290        44822\n",
      "1315       39870\n",
      "801        29418\n",
      "295        27526\n",
      "673        24745\n",
      "1831       23662\n",
      "423        23111\n",
      "1071       21210\n",
      "1575       19196\n",
      "943        19128\n",
      "1835       18756\n",
      "425        17705\n",
      "1839       11315\n",
      "555         8954\n",
      "553         8087\n",
      "417         6507\n",
      "289         5788\n",
      "939         5421\n",
      "1583        3477\n",
      "45          3269\n",
      "683          808\n",
      "1447         161\n",
      "1195         132\n",
      "545          117\n",
      "677            8\n",
      "1959           2\n",
      "Name: C19, Length: 68, dtype: int64\n"
     ]
    }
   ],
   "source": [
    "train_21.counts()"
   ]
  },
  {
   "cell_type": "code",
   "execution_count": 61,
   "metadata": {
    "collapsed": false
   },
   "outputs": [
    {
     "name": "stdout",
     "output_type": "stream",
     "text": [
      "特征[C19]共有68个分类\n",
      "对出现次数最多的前12个分类进行可视化\n"
     ]
    },
    {
     "data": {
      "image/png": "[encoded data removed]",
      "text/plain": [
       "<Figure size 432x288 with 1 Axes>"
      ]
     },
     "metadata": {},
     "output_type": "display_data"
    }
   ],
   "source": [
    "train_21.hist()"
   ]
  },
  {
   "cell_type": "code",
   "execution_count": 62,
   "metadata": {
    "collapsed": false
   },
   "outputs": [
    {
     "data": {
      "text/plain": [
       "2693"
      ]
     },
     "execution_count": 62,
     "metadata": {},
     "output_type": "execute_result"
    }
   ],
   "source": [
    "del train_21\n",
    "gc.collect()"
   ]
  },
  {
   "cell_type": "code",
   "execution_count": 63,
   "metadata": {
    "collapsed": true
   },
   "outputs": [],
   "source": [
    "train_22 = Show(22)"
   ]
  },
  {
   "cell_type": "code",
   "execution_count": 64,
   "metadata": {
    "collapsed": false
   },
   "outputs": [
    {
     "name": "stdout",
     "output_type": "stream",
     "text": [
      "the NAN of C20\n",
      "----------------------------------\n",
      "C20    0\n",
      "dtype: int64\n"
     ]
    }
   ],
   "source": [
    "train_22.NAN()"
   ]
  },
  {
   "cell_type": "code",
   "execution_count": 65,
   "metadata": {
    "collapsed": false
   },
   "outputs": [
    {
     "name": "stdout",
     "output_type": "stream",
     "text": [
      "the describe of C20\n",
      "----------------------------------\n",
      "<class 'pandas.core.frame.DataFrame'>\n",
      "RangeIndex: 40428967 entries, 0 to 40428966\n",
      "Data columns (total 1 columns):\n",
      "C20    int64\n",
      "dtypes: int64(1)\n",
      "memory usage: 308.4 MB\n",
      "None\n",
      "----------------------------------\n",
      "                C20\n",
      "count  4.042897e+07\n",
      "mean   5.321685e+04\n",
      "std    4.995682e+04\n",
      "min   -1.000000e+00\n",
      "25%   -1.000000e+00\n",
      "50%    1.000480e+05\n",
      "75%    1.000930e+05\n",
      "max    1.002480e+05\n"
     ]
    }
   ],
   "source": [
    "train_22.describe()"
   ]
  },
  {
   "cell_type": "code",
   "execution_count": 66,
   "metadata": {
    "collapsed": false
   },
   "outputs": [
    {
     "name": "stdout",
     "output_type": "stream",
     "text": [
      "the counts of C20\n",
      "----------------------------------\n",
      "-1         18937918\n",
      " 100084     2438478\n",
      " 100148     1794890\n",
      " 100111     1716733\n",
      " 100077     1575495\n",
      " 100075     1546414\n",
      " 100081     1337033\n",
      " 100083     1073567\n",
      " 100156     1032558\n",
      " 100193      707521\n",
      " 100176      649479\n",
      " 100074      587455\n",
      " 100079      578206\n",
      " 100189      476733\n",
      " 100076      457895\n",
      " 100192      234785\n",
      " 100190      225665\n",
      " 100191      223351\n",
      " 100188      220499\n",
      " 100013      198110\n",
      " 100031      185730\n",
      " 100155      161718\n",
      " 100194      146924\n",
      " 100181      142366\n",
      " 100000      139980\n",
      " 100233      118568\n",
      " 100105      117297\n",
      " 100182      116845\n",
      " 100003      115705\n",
      " 100119      113055\n",
      "             ...   \n",
      " 100043        1362\n",
      " 100244        1267\n",
      " 100163        1105\n",
      " 100010        1003\n",
      " 100178         928\n",
      " 100024         825\n",
      " 100213         768\n",
      " 100109         729\n",
      " 100122         691\n",
      " 100082         630\n",
      " 100108         589\n",
      " 100169         537\n",
      " 100137         507\n",
      " 100153         472\n",
      " 100175         196\n",
      " 100098         120\n",
      " 100138         102\n",
      " 100100          79\n",
      " 100186          44\n",
      " 100078          43\n",
      " 100157          29\n",
      " 100246          28\n",
      " 100027          23\n",
      " 100132           7\n",
      " 100134           6\n",
      " 100006           5\n",
      " 100187           3\n",
      " 100209           2\n",
      " 100008           2\n",
      " 100198           1\n",
      "Name: C20, Length: 172, dtype: int64\n"
     ]
    }
   ],
   "source": [
    "train_22.counts()"
   ]
  },
  {
   "cell_type": "code",
   "execution_count": 67,
   "metadata": {
    "collapsed": false
   },
   "outputs": [
    {
     "name": "stdout",
     "output_type": "stream",
     "text": [
      "特征[C20]共有172个分类\n",
      "对出现次数最多的前12个分类进行可视化\n"
     ]
    },
    {
     "data": {
      "image/png": "[encoded data removed]",
      "text/plain": [
       "<Figure size 432x288 with 1 Axes>"
      ]
     },
     "metadata": {},
     "output_type": "display_data"
    }
   ],
   "source": [
    "train_22.hist()"
   ]
  },
  {
   "cell_type": "code",
   "execution_count": 68,
   "metadata": {
    "collapsed": false
   },
   "outputs": [
    {
     "data": {
      "text/plain": [
       "2820"
      ]
     },
     "execution_count": 68,
     "metadata": {},
     "output_type": "execute_result"
    }
   ],
   "source": [
    "del train_22\n",
    "gc.collect()"
   ]
  },
  {
   "cell_type": "code",
   "execution_count": 69,
   "metadata": {
    "collapsed": true
   },
   "outputs": [],
   "source": [
    "train_23 = Show(23)"
   ]
  },
  {
   "cell_type": "code",
   "execution_count": 70,
   "metadata": {
    "collapsed": false
   },
   "outputs": [
    {
     "name": "stdout",
     "output_type": "stream",
     "text": [
      "the NAN of C21\n",
      "----------------------------------\n",
      "C21    0\n",
      "dtype: int64\n"
     ]
    }
   ],
   "source": [
    "train_23.NAN()"
   ]
  },
  {
   "cell_type": "code",
   "execution_count": 71,
   "metadata": {
    "collapsed": false
   },
   "outputs": [
    {
     "name": "stdout",
     "output_type": "stream",
     "text": [
      "the describe of C21\n",
      "----------------------------------\n",
      "<class 'pandas.core.frame.DataFrame'>\n",
      "RangeIndex: 40428967 entries, 0 to 40428966\n",
      "Data columns (total 1 columns):\n",
      "C21    int64\n",
      "dtypes: int64(1)\n",
      "memory usage: 308.4 MB\n",
      "None\n",
      "----------------------------------\n",
      "                C21\n",
      "count  4.042897e+07\n",
      "mean   8.338229e+01\n",
      "std    7.028996e+01\n",
      "min    1.000000e+00\n",
      "25%    2.300000e+01\n",
      "50%    6.100000e+01\n",
      "75%    1.010000e+02\n",
      "max    2.550000e+02\n"
     ]
    }
   ],
   "source": [
    "train_23.describe()"
   ]
  },
  {
   "cell_type": "code",
   "execution_count": 72,
   "metadata": {
    "collapsed": false
   },
   "outputs": [
    {
     "name": "stdout",
     "output_type": "stream",
     "text": [
      "the counts of C21\n",
      "----------------------------------\n",
      "23     8896205\n",
      "221    5051245\n",
      "79     4614799\n",
      "48     2160794\n",
      "71     2108496\n",
      "61     2053636\n",
      "157    1856105\n",
      "32     1783343\n",
      "33     1497559\n",
      "52     1203050\n",
      "42     1018906\n",
      "51      850249\n",
      "15      766986\n",
      "212     659994\n",
      "43      588961\n",
      "117     419943\n",
      "229     406539\n",
      "13      384314\n",
      "16      347178\n",
      "156     334906\n",
      "68      324148\n",
      "159     290215\n",
      "95      276988\n",
      "46      235809\n",
      "246     201746\n",
      "69      176226\n",
      "91      169042\n",
      "17      166268\n",
      "111     140305\n",
      "76      138160\n",
      "70      133539\n",
      "90      128679\n",
      "110     121407\n",
      "171     115845\n",
      "204      92782\n",
      "101      81352\n",
      "253      78375\n",
      "112      74532\n",
      "82       71393\n",
      "100      65258\n",
      "178      50055\n",
      "182      49761\n",
      "108      46723\n",
      "35       46707\n",
      "94       22206\n",
      "251      21170\n",
      "116      16189\n",
      "194      14032\n",
      "20       13365\n",
      "93       12411\n",
      "102       8954\n",
      "104       8425\n",
      "126       7780\n",
      "163       6507\n",
      "177       5618\n",
      "255       4608\n",
      "195       3890\n",
      "1         3027\n",
      "219       1765\n",
      "85         497\n",
      "Name: C21, dtype: int64\n"
     ]
    }
   ],
   "source": [
    "train_23.counts()"
   ]
  },
  {
   "cell_type": "code",
   "execution_count": 73,
   "metadata": {
    "collapsed": false
   },
   "outputs": [
    {
     "name": "stdout",
     "output_type": "stream",
     "text": [
      "特征[C21]共有60个分类\n",
      "对出现次数最多的前12个分类进行可视化\n"
     ]
    },
    {
     "data": {
      "image/png": "[encoded data removed]",
      "text/plain": [
       "<Figure size 432x288 with 1 Axes>"
      ]
     },
     "metadata": {},
     "output_type": "display_data"
    }
   ],
   "source": [
    "train_23.hist()"
   ]
  },
  {
   "cell_type": "code",
   "execution_count": 74,
   "metadata": {
    "collapsed": false
   },
   "outputs": [
    {
     "data": {
      "text/plain": [
       "2938"
      ]
     },
     "execution_count": 74,
     "metadata": {},
     "output_type": "execute_result"
    }
   ],
   "source": [
    "del train_23\n",
    "gc.collect()"
   ]
  },
  {
   "cell_type": "code",
   "execution_count": null,
   "metadata": {
    "collapsed": true
   },
   "outputs": [],
   "source": []
  }
 ],
 "metadata": {
  "anaconda-cloud": {},
  "kernelspec": {
   "display_name": "Python [default]",
   "language": "python",
   "name": "python3"
  },
  "language_info": {
   "codemirror_mode": {
    "name": "ipython",
    "version": 3
   },
   "file_extension": ".py",
   "mimetype": "text/x-python",
   "name": "python",
   "nbconvert_exporter": "python",
   "pygments_lexer": "ipython3",
   "version": "3.5.2"
  },
  "toc": {
   "nav_menu": {},
   "number_sections": true,
   "sideBar": true,
   "skip_h1_title": false,
   "title_cell": "Table of Contents",
   "title_sidebar": "Contents",
   "toc_cell": false,
   "toc_position": {},
   "toc_section_display": true,
   "toc_window_display": false
  }
 },
 "nbformat": 4,
 "nbformat_minor": 2
}
